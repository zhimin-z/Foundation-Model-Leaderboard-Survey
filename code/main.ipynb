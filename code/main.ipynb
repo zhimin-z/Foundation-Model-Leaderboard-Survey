{
 "cells": [
  {
   "cell_type": "code",
   "execution_count": 1,
   "metadata": {},
   "outputs": [],
   "source": [
    "import os\n",
    "import ast\n",
    "import json\n",
    "import ineqpy\n",
    "import numpy as np\n",
    "import pandas as pd\n",
    "import plotly.io as pio\n",
    "import plotly.express as px\n",
    "import plotly.graph_objects as go\n",
    "\n",
    "from pathlib import Path\n",
    "from collections import defaultdict"
   ]
  },
  {
   "cell_type": "code",
   "execution_count": 2,
   "metadata": {},
   "outputs": [],
   "source": [
    "path_meta = Path(\"../meta\")\n",
    "path_data = Path(\"../data\")\n",
    "path_key = Path(\"../key\")\n",
    "font_size = 15\n",
    "\n",
    "workflow_pwc = ['1']\n",
    "display_format_pwc = ['Rankable Table', 'Scatter Plot']\n",
    "display_format_rankable = ['Rankable Table', 'Rankable Bar Chart']\n",
    "workflow_patterns_with_submission = ['1', '2', '3', '4', '5']\n",
    "non_accepted_publication_type = ['blog', 'report', 'white paper']\n",
    "\n",
    "leaderboard_system_without_evaluation_datasets = ['Ko Chatbot Arena']\n",
    "leaderboard_system_without_pull_requests = ['SEAL', 'FSMBench', 'CompMix', 'DocVQA', 'GENIE', 'InfographicVQA', 'LMExamQA', 'Models Leaderboard', 'MP-DocVQA', 'OpenEval', 'Program Synthesis Models Leaderboard', 'ProtoQA', 'TextSynth Server']\n",
    "leaderboard_system_without_contacts = ['OpenEval']\n",
    "leaderboard_system_without_documentation = ['FSMBench']\n",
    "leaderboard_system_without_evaluation_harness = ['LLM-Leaderboard']\n",
    "\n",
    "macro_display_format_mapping = {\n",
    "    'Table': ['Regular Table', 'Rankable Table', 'Table Screenshot'],\n",
    "    'Figure': ['Bar Chart', 'Box Plot', 'Heat Map', 'Line Chart', 'Pie Chart', 'Radar Chart', 'Scatter Plot', 'Rankable Bar Chart'],\n",
    "}\n",
    "\n",
    "platform_abbreviation_mapping = {\n",
    "    'gh': 'GitHub',\n",
    "    'hf': 'Hugging Face Spaces',\n",
    "    'pwc': 'Papers With Code',\n",
    "    'ip': 'independent platform',\n",
    "}\n",
    "\n",
    "ranking_dataframe_organization_tactics_mapping = {\n",
    "    'Algorithm': ['Algorithm'],\n",
    "    'Evaluation Configuration': ['Dataset Slice', 'Evaluator', 'Metric'],\n",
    "    'Leaderboard Aggregation': ['Aggregated Result'],\n",
    "    'Leaderboard Release': ['Leaderboard Launch Date', 'Leaderboard Version'],\n",
    "    'Model Capability': ['Benchmark Dataset', 'Service Load', 'Supported Functionality', 'Supported Language', 'Supported Modality', 'Task'],\n",
    "    'Model Information': ['Model Accessibility', 'Model Size', 'Model Type'],\n",
    "    'Prompt Engineering': ['#Prompt Example', 'Output Length', 'Prompt Design', 'Prompt Length', 'Relation Extractor', 'Tokenizer']\n",
    "}\n",
    "\n",
    "publisher_synonyms = {\n",
    "    'Alibaba Group': ['DAMO Academy', 'Aliyun'],\n",
    "    'Amazon': ['Alexa AI Lab', 'AWS AI Lab'],\n",
    "    'Agency for Science Technology and Research': ['A*STAR I2R', 'CFAR A*STAR'],\n",
    "    'Bauhaus University': ['Bauhaus University Weimar'],\n",
    "    'ByteDance': ['ByteDance AI Lab'],\n",
    "    'Chinese Academy of Sciences': ['University of Chinese Academy of Sciences'],\n",
    "    'CSIRO': ['Data61'],\n",
    "    'Fraunhofer Society': ['Fraunhofer Institute for Integrated Circuits'],\n",
    "    'Frédéric Joliot Institute for Life Sciences': ['NeuroSpin'],\n",
    "    'Google': ['Google Brain', 'Google DeepMind', 'Google Blueshift'],\n",
    "    'Huawei': [\"Huawei Noah's Ark Lab\"],\n",
    "    'Jingdong': ['Explore Academy'],\n",
    "    'Kunlun Tech': ['Skywork'],\n",
    "    'Max Planck Society': ['Max Planck Institute for Informatics', 'Max Planck Institute for Intelligent Systems', 'Max Planck Institute for Mathematics in the Sciences'],\n",
    "    'Meta': [\n",
    "        'Meta FAIR',\n",
    "        'Meta GenAI'\n",
    "    ],\n",
    "    'Microsoft': ['Microsoft Research Asia'],\n",
    "    'National Public School': ['National Public School HSR Layout'],\n",
    "    'Naver': ['Naver Labs Europe'],\n",
    "    'Queen\\'s University Kingston': ['Queen\\'s University'],\n",
    "    'Tencent': [\n",
    "        'Tencent AI Lab',\n",
    "        'Tencent ARC Lab',\n",
    "        'Tencent Youtu Lab'\n",
    "    ],\n",
    "    'Toyota Technological Institute': ['Toyota Technological Institute Chicago'],\n",
    "    'University of California': [\n",
    "        'University of California Berkeley',\n",
    "        'University of California Davis',\n",
    "        'University of California Irvine',\n",
    "        'University of California Los Angeles',\n",
    "        'University of California Santa Barbara',\n",
    "        'University of California Santa Cruz',\n",
    "        'University of California San Diego',\n",
    "    ],\n",
    "    'University of Michigan': ['University of Michigan Ann Arbor'],\n",
    "    'University of North Carolina': ['University of North Carolina Chapel Hill'],\n",
    "    'University of Illinois': ['University of Illinois Chicago', 'University of Illinois Urbana Champaign'],\n",
    "    'University of Massachusetts': ['University of Massachusetts Amherst'],\n",
    "    'University of Maryland': ['University of Maryland College Park'],\n",
    "    'University of Tennessee': ['University of Tennessee Knoxville'],\n",
    "    'University of Texas': ['University of Texas Austin'],\n",
    "    'University of Wisconsin': ['University of Wisconsin Madison'],\n",
    "}\n",
    "\n",
    "metrics_synonyms = {\n",
    "    'accuracy': [\n",
    "        'acc',\n",
    "        'accuarcy',\n",
    "        'qa accuracy'\n",
    "    ],\n",
    "    'average': [\n",
    "        'avg',\n",
    "        '平均'\n",
    "    ],\n",
    "    'average accuracy': [\n",
    "        'avg. accuracy'\n",
    "    ],\n",
    "    'average score': ['平均分'],\n",
    "    'bleu': ['bleu score'],\n",
    "    'bleu-1': [\n",
    "        'narrativeqa bleu-1',\n",
    "        'socialiqa bleu-1',\n",
    "        'mcscript bleu-1',\n",
    "        'cosmosqa bleu-1'\n",
    "    ],\n",
    "    'bleu-4': ['bleu4'],\n",
    "    'bertscore': ['bert score'],\n",
    "    'code': ['代码'],\n",
    "    'elo rating': [\n",
    "        'chatbot arena elo',\n",
    "        'elo'\n",
    "    ],\n",
    "    'exact match': ['em', 'exact match accuracy'],\n",
    "    'lerc': [\n",
    "        'cosmosqa lerc',\n",
    "        'mcscript lerc',\n",
    "        'socialiqa lerc',\n",
    "        'narrativeqa lerc'\n",
    "    ],\n",
    "    'link': ['url'],\n",
    "    'mean rank': [\n",
    "        'text-to-video mean rank',\n",
    "        'video-to-text mean rank'\n",
    "    ],\n",
    "    'median rank': [\n",
    "        'text-to-video median rank',\n",
    "        'video-to-text median rank',\n",
    "        'text-to-videomedian rank',\n",
    "        'text-to-video medianr'\n",
    "    ],\n",
    "    'meteor': [\n",
    "        'cosmosqa meteor',\n",
    "        'narrativeqa meteor',\n",
    "        'socialiqa meteor',\n",
    "        'mcscript meteor'\n",
    "    ],\n",
    "    'neg mean rank': [\n",
    "        'i->t neg mean rank',\n",
    "        't->i neg mean rank'\n",
    "    ],\n",
    "    'organization': [\n",
    "        '发布机构',\n",
    "        '机构',\n",
    "        'orgaisation',\n",
    "    ],\n",
    "    'others': ['其他'],\n",
    "    'overall': ['xiezhi overall'],\n",
    "    'overall score': [\n",
    "        '总分',\n",
    "        '总体分数'\n",
    "    ],\n",
    "    'pass@1': [\n",
    "        'interview pass@1',\n",
    "        'competition pass@1',\n",
    "        'introductory pass@1'\n",
    "    ],\n",
    "    'pass@5': [\n",
    "        'interview pass@5',\n",
    "        'introductory pass@5',\n",
    "        'competition pass@5'\n",
    "    ],\n",
    "    'pass@1000': [\n",
    "        'interview pass@1000',\n",
    "        'competition pass@1000',\n",
    "        'introductory pass@1000'\n",
    "    ],\n",
    "    'pass@any': [\n",
    "        'introductory pass@any',\n",
    "        'competition pass@any',\n",
    "        'interview pass@any'\n",
    "    ],\n",
    "    '#parameters':  [\n",
    "        '#p',\n",
    "        '#params',\n",
    "        '# params',\n",
    "        '#size',\n",
    "        '参数量',\n",
    "        'model size',\n",
    "        'model size/b',\n",
    "        'number of params',\n",
    "        'param',\n",
    "        'parameters',\n",
    "        'params',\n",
    "        'size'\n",
    "    ],\n",
    "    'perplexity': ['ppl'],\n",
    "    'precision@1': ['i->t p@1'],\n",
    "    'precision@20': ['p@20'],\n",
    "    'recall@1': [\n",
    "        'r@1',\n",
    "        'text-to-videor@1',\n",
    "        'video-to-text r@1',\n",
    "        'text-to-video r@1',\n",
    "        'text-to-image r@1',\n",
    "        'image-to-text r@1'\n",
    "    ],\n",
    "    'recall@5': [\n",
    "        'text-to-image r@5',\n",
    "        'video-to-text r@5',\n",
    "        'image-to-text r@5',\n",
    "        'text-to-video r@5',\n",
    "        'r@5',\n",
    "    ],\n",
    "    'recall@10': [\n",
    "        'recall@10 on 1 rounds',\n",
    "        'recall@10 on 2 rounds',\n",
    "        'recall@10 on 3 rounds',\n",
    "        'r@10',\n",
    "        'video-to-text r@10',\n",
    "        'text-to-image r@10',\n",
    "        'text-to-video r@10',\n",
    "        'image-to-text r@10'\n",
    "    ],\n",
    "    'recall@50': [\n",
    "        'text-to-video r@50',\n",
    "        'video-to-text r@50',\n",
    "    ],\n",
    "    'score': ['分数'],\n",
    "    'submission date': ['提交时间'],\n",
    "    'top-1 accuracy': ['top 1 accuracy'],\n",
    "    'top-5 accuracy': ['top 5 accuracy'],\n",
    "    'type': ['model type'],\n",
    "    'win rate': ['胜率'],\n",
    "    'word error rate': ['wer']\n",
    "}\n",
    "\n",
    "pwc_leaderboard_mapping = {\n",
    "    'A-OKVQA': ['visual-question-answering-on-a-okvqa'],\n",
    "    'ACE (2005)': ['relation-extraction-on-ace-2005'],\n",
    "    'ADE20K': ['semantic-segmentation-on-ade20k'],\n",
    "    'AI2D': ['visual-question-answering-vqa-on-ai2d'],\n",
    "    'AISHELL-1': ['speech-recognition-on-aishell-1'],\n",
    "    'ANLI': ['natural-language-inference-on-anli-test'],\n",
    "    'APPS': ['code-generation-on-apps'],\n",
    "    'ARC Challenge': ['common-sense-reasoning-on-arc-challenge', 'common-sense-reasoning-on-arc-easy'],\n",
    "    'ASDiv': ['math-word-problem-solving-on-asdiv-a'],\n",
    "    'AVA': ['action-recognition-on-ava-v2-2', 'spatio-temporal-action-localization-on-ava'],\n",
    "    'ActivityNet Captions': ['video-captioning-on-activitynet-captions', 'video-captioning-on-activitynet-captions'],\n",
    "    'ActivityNet': ['temporal-action-localization-on-activitynet', 'video-retrieval-on-activitynet', 'zero-shot-video-retrieval-on-activitynet'],\n",
    "    'ActivityNet-QA': ['video-question-answering-on-activitynet-qa'],\n",
    "    'AudioCaps': ['audio-to-text-retrieval-on-audiocaps', 'text-to-audio-retrieval-on-audiocaps', 'zero-shot-audio-captioning-on-audiocaps'],\n",
    "    'BACE': ['molecular-property-prediction-on-bace-1'],\n",
    "    'BANKING77': ['intent-detection-on-banking77'],\n",
    "    'BBBP': ['molecular-property-prediction-on-bbbp-1'],\n",
    "    'BBH': ['multi-task-language-understanding-on-bbh-nlp', 'multi-task-language-understanding-on-bbh-alg'],\n",
    "    'BC5CDR': ['named-entity-recognition-ner-on-bc5cdr'],\n",
    "    'BEIR': ['argument-retrieval-on-arguana-beir', 'argument-retrieval-on-touche-2020-beir', 'biomedical-information-retrieval-on-bioasq-1', 'biomedical-information-retrieval-on-nfcorpus-1', 'biomedical-information-retrieval-on-trec-1', 'citation-prediction-on-scidocs-beir', 'duplicate-question-retrieval-on-cqadupstack-1', 'duplicate-question-retrieval-on-quora-beir', 'entity-retrieval-on-dbpedia-beir', 'fact-checking-on-scifact-beir', 'fact-checking-on-fever-beir', 'fact-checking-on-climate-fever-beir', 'zero-shot-text-search-on-beir', 'news-retrieval-on-trec-news-beir', 'passage-retrieval-on-msmarco-beir', 'question-answering-on-fiqa-2018-beir', 'question-answering-on-hotpotqa-beir', 'tweet-retrieval-on-signal-1m-rt-beir'],\n",
    "    'BIG-Bench': ['mathematical-induction-on-big-bench', 'physics-mc-on-big-bench', 'riddle-sense-on-big-bench', 'figure-of-speech-detection-on-big-bench', 'fantasy-reasoning-on-big-bench', 'common-sense-reasoning-on-big-bench-logical', 'logical-reasoning-on-big-bench-logical', 'analogical-similarity-on-big-bench', 'implicit-relations-on-big-bench', 'intent-recognition-on-big-bench', 'lambada-on-big-bench', 'movie-dialog-same-or-different-on-big-bench', 'nonsense-words-grammar-on-big-bench', 'phrase-relatedness-on-big-bench', 'question-selection-on-big-bench', 'misconceptions-on-big-bench', 'sentence-ambiguity-on-big-bench', 'general-knowledge-on-big-bench', 'analytic-entailment-on-big-bench', 'entailed-polarity-on-big-bench', 'epistemic-reasoning-on-big-bench', 'evaluating-information-essentiality-on-big', 'logical-args-on-big-bench', 'metaphor-boolean-on-big-bench', 'physical-intuition-on-big-bench', 'presuppositions-as-nli-on-big-bench', 'discourse-marker-prediction-on-big-bench', 'empirical-judgments-on-big-bench', 'irony-identification-on-big-bench', 'english-proverbs-on-big-bench', 'similarities-abstraction-on-big-bench', 'gre-reading-comprehension-on-big-bench', 'crash-blossom-on-big-bench', 'human-organs-senses-multiple-choice-on-big', 'odd-one-out-on-big-bench', 'identify-odd-metapor-on-big-bench', 'dark-humor-detection-on-big-bench', 'understanding-fables-on-big-bench', 'timedial-on-big-bench', 'common-sense-reasoning-on-big-bench-known', 'language-modelling-on-big-bench-lite', 'auto-debugging-on-big-bench-lite', 'memorization-on-big-bench-hindu-knowledge', 'logical-reasoning-on-big-bench-strategyqa', 'logical-reasoning-on-big-bench-logic-grid', 'crass-ai-on-big-bench', 'multiple-choice-question-answering-mcqa-on-31', 'word-sense-disambiguation-on-big-bench', 'multi-task-language-understanding-on-bbh-alg', 'sarcasm-detection-on-big-bench-snarks', 'common-sense-reasoning-on-big-bench-sports', 'multiple-choice-question-answering-mcqa-on-30', 'logical-reasoning-on-big-bench-temporal', 'common-sense-reasoning-on-big-bench', 'common-sense-reasoning-on-big-bench-causal', 'common-sense-reasoning-on-big-bench-date', 'logical-reasoning-on-big-bench-formal', 'multiple-choice-question-answering-mcqa-on-27', 'multiple-choice-question-answering-mcqa-on-28', 'multiple-choice-question-answering-mcqa-on-29', 'logical-reasoning-on-big-bench-penguins-in-a', 'logical-reasoning-on-big-bench-reasoning', 'multi-task-language-understanding-on-bbh-nlp'],\n",
    "    'BenchLMM': ['visual-question-answering-on-benchlmm'],\n",
    "    'BioASQ': ['question-answering-on-bioasq'],\n",
    "    'BioLAMA': ['knowledge-probing-on-biolama'],\n",
    "    'BoolQ': ['question-answering-on-boolq'],\n",
    "    'C4': ['language-modelling-on-c4'],\n",
    "    'CB': ['natural-language-inference-on-commitmentbank'],\n",
    "    'CFQ': ['semantic-parsing-on-cfq'],\n",
    "    'CIFAR-10': ['image-classification-on-cifar-10'],\n",
    "    'CLUE': ['language-modelling-on-clue-afqmc', 'language-modelling-on-clue-ocnli-50k', 'language-modelling-on-clue-drcd', 'language-modelling-on-clue-cmnli', 'language-modelling-on-clue-wsc1-1', 'language-modelling-on-clue-c3', 'language-modelling-on-clue-cmrc2018'],\n",
    "    'CNN DM': ['document-summarization-on-cnn-daily-mail', 'abstractive-text-summarization-on-cnn-daily'],\n",
    "    'COCO Captions': ['image-captioning-on-coco-captions'],\n",
    "    'COPA': ['question-answering-on-copa'],\n",
    "    'ChEBI-20': ['cross-modal-retrieval-on-chebi-20', 'text-based-de-novo-molecule-generation-on', 'molecule-captioning-on-chebi-20'],\n",
    "    'Charades': ['zero-shot-action-recognition-on-charades-1'],\n",
    "    'Charades-STA': ['moment-retrieval-on-charades-sta'],\n",
    "    'ChartQA': ['chart-question-answering-on-chartqa'],\n",
    "    'Civil Comments': ['toxic-comment-classification-on-civil'],\n",
    "    'Clotho': ['text-to-audio-retrieval-on-clotho', 'audio-captioning-on-clotho', 'audio-to-text-retrieval-on-clotho', 'zero-shot-text-to-audio-retrieval-on-clotho'],\n",
    "    'CoLA': ['linguistic-acceptability-on-cola'],\n",
    "    'CoNLL': ['coreference-resolution-on-conll-2012', 'coreference-resolution-on-conll12', 'joint-entity-and-relation-extraction-on-2', 'named-entity-recognition-ner-on-conll-2003', 'named-entity-recognition-on-conll03', 'relation-extraction-on-conll04', 'semantic-role-labeling-on-conll-2005', 'semantic-role-labeling-on-conll05-wsj', 'semantic-role-labeling-on-conll12'],\n",
    "    'CoNaLa': ['code-generation-on-conala'],\n",
    "    'CoQA': ['question-answering-on-coqa'],\n",
    "    'CodeContests': ['code-generation-on-codecontests'],\n",
    "    'Common Voice': ['speech-recognition-on-common-voice-8-0-13', 'speech-recognition-on-common-voice-8-0-14', 'speech-recognition-on-common-voice-8-0-35', 'speech-recognition-on-common-voice-8-0-21', 'speech-recognition-on-common-voice-8-0-19', 'speech-recognition-on-common-voice-8-0-15', 'speech-recognition-on-common-voice-7-0-irish', 'speech-recognition-on-common-voice-8-0-irish', 'speech-recognition-on-common-voice-2', 'speech-recognition-on-common-voice-7-0-3', 'speech-recognition-on-common-voice-8-0-german', 'speech-recognition-on-common-voice-8-0-6', 'speech-recognition-on-common-voice-7-0-4', 'speech-recognition-on-common-voice-7-0-13', 'speech-recognition-on-common-voice-8-0-37', 'speech-recognition-on-common-voice-8-0-22', 'speech-recognition-on-common-voice-8-0', 'speech-recognition-on-common-voice-frisian', 'speech-recognition-on-common-voice-8-0-4', 'speech-recognition-on-common-voice-italian', 'speech-recognition-on-common-voice-8-0-french', 'speech-recognition-on-common-voice-english', 'speech-recognition-on-common-voice-8-0-hindi', 'speech-recognition-on-common-voice-7-0-5', 'speech-recognition-on-common-voice-7-0-hindi', 'speech-recognition-on-common-voice-8-0-dutch', 'speech-recognition-on-common-voice-spanish', 'speech-recognition-on-common-voice-french', 'speech-recognition-on-common-voice-german'],\n",
    "    'ComplexWebQuestions': ['knowledge-base-question-answering-on'],\n",
    "    'CrossNER': ['zero-shot-named-entity-recognition-ner-on-1'],\n",
    "    'CrowS-Pairs': ['stereotypical-bias-analysis-on-crows-pairs'],\n",
    "    'DROP': ['question-answering-on-drop-test', 'question-answering-on-drop'],\n",
    "    'DiDeMo': ['video-retrieval-on-didemo', 'zero-shot-video-retrieval-on-didemo'],\n",
    "    'DocVQA': ['visual-question-answering-on-docvqa-test'],\n",
    "    'FLEURS': ['automatic-speech-recognition-on-fleurs-1'],\n",
    "    'FSD50K': ['audio-classification-on-fsd50k'],\n",
    "    'FewCLUE': ['language-modelling-on-fewclue-eprstmt', 'language-modelling-on-fewclue-ocnli-fc', 'language-modelling-on-fewclue-bustm', 'language-modelling-on-fewclue-chid-fc', 'language-modelling-on-fewclue-cluewsc-fc'],\n",
    "    'FinQA': ['question-answering-on-finqa'],\n",
    "    'FineAction': ['temporal-action-localization-on-fineaction'],\n",
    "    'Flickr30K': ['zero-shot-cross-modal-retrieval-on-flickr30k', 'image-to-text-retrieval-on-flickr30k'],\n",
    "    'Food-101': ['zero-shot-transfer-image-classification-on-17'],\n",
    "    'GEM': ['extreme-summarization-on-gem-xsum'],\n",
    "    'GENIA': ['named-entity-recognition-on-genia'],\n",
    "    'GQA': ['visual-question-answering-on-gqa-test-dev'],\n",
    "    'GSM8K': ['arithmetic-reasoning-on-gsm8k'],\n",
    "    'HIV': ['molecular-property-prediction-on-hiv-dataset'],\n",
    "    'HMDB51': ['action-recognition-in-videos-on-hmdb-51', 'zero-shot-action-recognition-on-hmdb51'],\n",
    "    'HallusionBench': ['visual-question-answering-vqa-on-3'],\n",
    "    'HellaSwag': ['sentence-completion-on-hellaswag'],\n",
    "    'HumanEval': ['code-generation-on-humaneval'],\n",
    "    'IFEval': ['instruction-following-on-ifeval'],\n",
    "    'ImageNet': ['few-shot-image-classification-on-imagenet-10', 'few-shot-image-classification-on-imagenet-1-1', 'few-shot-image-classification-on-imagenet-5', 'image-classification-on-imagenet', 'self-supervised-image-classification-on', 'self-supervised-image-classification-on-1', 'zero-shot-transfer-image-classification-on-1', 'zero-shot-transfer-image-classification-on-3'],\n",
    "    'iNaturalist': ['long-tail-learning-on-inaturalist-2018', 'image-classification-on-inaturalist-2018'],\n",
    "    'InfographicVQA': ['visual-question-answering-vqa-on'],\n",
    "    'InfoSeek': ['visual-question-answering-vqa-on-infoseek'],\n",
    "    'IUPAC': ['iupac-name-prediction-on-iupac'],\n",
    "    'iVQA': ['video-question-answering-on-ivqa'],\n",
    "    'JFT-300M': ['image-classification-on-jft-300m'],\n",
    "    'Kinetics': ['action-classification-on-kinetics-400', 'action-classification-on-kinetics-600', 'action-classification-on-kinetics-700', 'spatio-temporal-action-localization-on-ava', 'video-generation-on-kinetics-600-12-frames', 'zero-shot-action-recognition-on-kinetics'],\n",
    "    'LAMBADA': ['language-modelling-on-lambada'],\n",
    "    'LLaVA-Bench': ['visual-instruction-following-on-llava-bench'],\n",
    "    'LibriSpeech': ['speech-recognition-on-librispeech-test-clean', 'speech-recognition-on-librispeech-test-other'],\n",
    "    'MATH': ['math-word-problem-solving-on-math'],\n",
    "    'MAWPS': ['math-word-problem-solving-on-mawps'],\n",
    "    'MBPP': ['code-generation-on-mbpp'],\n",
    "    'MGSM': ['multi-task-language-understanding-on-mgsm'],\n",
    "    'MM-Vet': ['visual-question-answering-on-mm-vet'],\n",
    "    'MMLU': ['multi-task-language-understanding-on-mmlu', 'mathematical-reasoning-on-mmlu-mathematics', 'multiple-choice-question-answering-mcqa-on-11', 'multiple-choice-question-answering-mcqa-on-8', 'multiple-choice-question-answering-mcqa-on-25', 'multiple-choice-question-answering-mcqa-on-7', 'multiple-choice-question-answering-mcqa-on-9', 'multiple-choice-question-answering-mcqa-on-10', 'multiple-choice-question-answering-mcqa-on-13', 'multiple-choice-question-answering-mcqa-on-12', 'multiple-choice-question-answering-mcqa-on-2', 'multiple-choice-question-answering-mcqa-on-3', 'multiple-choice-question-answering-mcqa-on-4', 'multiple-choice-question-answering-mcqa-on-5', 'multiple-choice-question-answering-mcqa-on-16', 'multiple-choice-question-answering-mcqa-on-17', 'multiple-choice-question-answering-mcqa-on-18', 'multiple-choice-question-answering-mcqa-on-20', 'multiple-choice-question-answering-mcqa-on-14', 'multiple-choice-question-answering-mcqa-on-19', 'multiple-choice-question-answering-mcqa-on-6', 'multiple-choice-question-answering-mcqa-on-15', 'multiple-choice-question-answering-mcqa-on-24', 'multiple-choice-question-answering-mcqa-on-26', 'multiple-choice-question-answering-mcqa-on-23'],\n",
    "    'MRPC': ['semantic-textual-similarity-on-mrpc'],\n",
    "    'MSCOCO': ['image-captioning-on-coco', 'image-retrieval-on-coco', 'image-to-text-retrieval-on-coco', 'text-to-image-generation-on-coco', 'zero-shot-cross-modal-retrieval-on-coco-2014'],\n",
    "    'MSRVTT': ['text-to-video-generation-on-msr-vtt', 'video-captioning-on-msr-vtt-1', 'video-retrieval-on-msr-vtt', 'zero-shot-video-retrieval-on-msr-vtt', 'video-retrieval-on-msr-vtt-1ka'],\n",
    "    'MSRVTT-QA': ['zeroshot-video-question-answer-on-msrvtt-qa', 'video-question-answering-on-msrvtt-qa', 'visual-question-answering-on-msrvtt-qa-1'],\n",
    "    'MSVD': ['video-retrieval-on-msvd', 'video-captioning-on-msvd-1', 'zero-shot-video-retrieval-on-msvd'],\n",
    "    'MSVD-QA': ['zeroshot-video-question-answer-on-msvd-qa', 'zeroshot-video-question-answer-on-msvd-qa'],\n",
    "    'MathQA': ['math-word-problem-solving-on-mathqa'],\n",
    "    'MedMCQA': ['multiple-choice-question-answering-mcqa-on-21'],\n",
    "    'MedQA': ['question-answering-on-medqa-usmle'],\n",
    "    'MiT': ['action-classification-on-moments-in-time'],\n",
    "    'MoleculeNet': ['molecular-property-prediction-on-moleculenet'],\n",
    "    'MultiRC': ['question-answering-on-multirc'],\n",
    "    'MusicCaps': ['text-to-music-generation-on-musiccaps'],\n",
    "    'MusicQA': ['music-question-answering-on-musicqa'],\n",
    "    'NExT-QA': ['temporal-casual-qa-on-next-qa', 'question-answering-on-next-qa-open-ended', 'video-question-answering-on-next-qa', 'zero-shot-video-question-answer-on-next-qa', 'zero-shot-video-question-answer-on-next-gqa'],\n",
    "    'NLVR': ['visual-reasoning-on-nlvr2-test', 'visual-reasoning-on-nlvr2-dev'],\n",
    "    'NQ': ['passage-retrieval-on-natural-questions', 'question-answering-on-natural-questions'],\n",
    "    'NoCaps': ['image-captioning-on-nocaps-entire', 'image-captioning-on-nocaps-near-domain', 'image-captioning-on-nocaps-out-of-domain', 'image-captioning-on-nocaps-in-domain', 'image-captioning-on-nocaps-val-in-domain', 'image-captioning-on-nocaps-val-overall', 'image-captioning-on-nocaps-val-out-domain', 'image-captioning-on-nocaps-val-near-domain'],\n",
    "    'OK-VQA': ['visual-question-answering-on-ok-vqa'],\n",
    "    'OVEN': ['fine-grained-image-recognition-on-oven'],\n",
    "    'OmniBenchmark': ['image-classification-on-omnibenchmark'],\n",
    "    'OpenbookQA': ['question-answering-on-openbookqa', 'question-answering-on-obqa'],\n",
    "    'PIQA': ['question-answering-on-piqa'],\n",
    "    'PMC-VQA': ['generative-visual-question-answering-on-pmc', 'visual-question-answering-vqa-on-pmc-vqa', 'medical-visual-question-answering-on-pmc-vqa'],\n",
    "    'Pets37': ['fine-grained-image-classification-on-oxford-1'],\n",
    "    'PubChemQA': ['question-answering-on-pubchemqa'],\n",
    "    'PubMedQA': ['question-answering-on-pubmedqa'],\n",
    "    'QNLI': ['natural-language-inference-on-qnli'],\n",
    "    'RACE': ['reading-comprehension-on-race', 'question-answering-on-race'],\n",
    "    'RAFT': ['few-shot-text-classification-on-raft'],\n",
    "    'RTE': ['natural-language-inference-on-rte'],\n",
    "    'RareAct': ['action-recognition-on-rareact'],\n",
    "    'ReCoRD': ['common-sense-reasoning-on-record'],\n",
    "    'RefCOCO': ['referring-expression-comprehension-on-refcoco-1', 'referring-expression-comprehension-on-refcoco-1', 'referring-expression-segmentation-on-refcocog', 'referring-expression-segmentation-on-refcoco', 'referring-expression-comprehension-on-1', 'referring-expression-comprehension-on', 'referring-expression-comprehension-on-refcoco'],\n",
    "    'Robust (2004)': ['ad-hoc-information-retrieval-on-trec-robust04'],\n",
    "    'SCROLLS': ['long-range-modeling-on-scrolls'],\n",
    "    'SICK': ['semantic-textual-similarity-on-sick', 'semantic-textual-similarity-on-sick-r-1'],\n",
    "    'SIDER': ['molecular-property-prediction-on-sider-1'],\n",
    "    'SIQA': ['question-answering-on-social-iqa'],     \n",
    "    'SPGISpeech': ['speech-recognition-on-spgispeech'],\n",
    "    'SQuAD': ['question-answering-on-squad11-dev'],\n",
    "    'SST': ['sentiment-analysis-on-sst-2-binary'],\n",
    "    'STAR': ['video-question-answering-on-situated', 'zero-shot-video-question-answer-on-star', 'zero-shot-video-question-answer-on-star-1'],\n",
    "    'STS-B': ['semantic-textual-similarity-on-sts-benchmark', 'semantic-textual-similarity-on-sts13', 'semantic-textual-similarity-on-sts14', 'semantic-textual-similarity-on-sts12', 'semantic-textual-similarity-on-sts15', 'semantic-textual-similarity-on-sts16', 'semantic-similarity-on-sts-benchmark'],\n",
    "    'SVAMP': ['math-word-problem-solving-on-svamp'],\n",
    "    'SWE-bench': ['bug-fixing-on-swe-bench'],\n",
    "    'SciQ': ['text-generation-on-sciq'],\n",
    "    'ScienceQA': ['science-question-answering-on-scienceqa'],\n",
    "    'Something-Something': ['action-recognition-in-videos-on-something'],\n",
    "    'Spider': ['text-to-sql-on-spider', 'semantic-parsing-on-spider'],\n",
    "    'StereoSet': ['bias-detection-on-stereoset-1'],\n",
    "    'StoryCloze': ['question-answering-on-storycloze'],\n",
    "    'StrategyQA': ['question-answering-on-strategyqa'],\n",
    "    'TACRED': ['relation-extraction-on-tacred'],\n",
    "    'TED-LIUM': ['speech-recognition-on-tedlium'],\n",
    "    'TGIF-QA': ['tgif-frame-on-tgif-qa', 'zeroshot-video-question-answer-on-tgif-qa', 'zeroshot-video-question-answer-on-tgif-qa-1', 'visual-question-answering-on-tgif-qa'],\n",
    "    'TREC-COVID': ['zero-shot-text-search-on-trec-covid'],\n",
    "    'TVQA': ['video-question-answering-on-tvqa', 'zero-shot-video-question-answer-on-tvqa'],\n",
    "    'TextVQA': ['visual-question-answering-on-textvqa-test-1'],\n",
    "    'TheoremQA': ['natural-questions-on-theoremqa'],\n",
    "    'The Pile': ['language-modelling-on-the-pile'],\n",
    "    'Tox21': ['language-modelling-on-the-pile'],\n",
    "    'TriviaQA': ['question-answering-on-triviaqa'],\n",
    "    'TruthfulQA': ['question-answering-on-truthfulqa'],\n",
    "    'TyDiQA-GoldP': ['cross-lingual-question-answering-on-tydiqa'],\n",
    "    'UCF101': ['action-recognition-in-videos-on-ucf101', 'self-supervised-action-recognition-on-ucf101', 'text-to-video-generation-on-ucf-101', 'zero-shot-action-recognition-on-ucf101', 'video-generation-on-ucf-101'],\n",
    "    'UniProtQA': ['question-answering-on-uniprotqa'],\n",
    "    'VATEX': ['video-retrieval-on-vatex', 'video-captioning-on-vatex-1', 'zero-shot-video-retrieval-on-vatex'],\n",
    "    'VCR': ['visual-question-answering-on-vcr-q-ar-test', 'visual-question-answering-on-vcr-qa-r-test', 'visual-question-answering-on-vcr-q-a-test'],\n",
    "    'VGG-Sound': ['audio-classification-on-vggsound'],\n",
    "    'VNHSGE': ['question-answering-on-vnhsge-english', 'question-answering-on-vnhsge-physics', 'question-answering-on-vnhsge-chemistry', 'question-answering-on-vnhsge-biology', 'question-answering-on-vnhsge-history', 'question-answering-on-vnhsge-geography', 'question-answering-on-vnhsge-literature', 'question-answering-on-vnhsge-mathematics-1', 'question-answering-on-vnhsge-civic'],\n",
    "    'VQA': ['visual-question-answering-on-vqa-v2-val-1', 'visual-question-answering-on-vqa-v2-test-dev-1', 'visual-question-answering-on-vqa-v2-val', 'visual-question-answering-on-vqa-v2-test-std', 'visual-question-answering-on-vqa-v2-test-dev'],\n",
    "    'VeRi-776': ['vehicle-re-identification-on-veri-776'],\n",
    "    'VeRi-Wild': ['vehicle-re-identification-on-veri-wild-small'],\n",
    "    'ViP-Bench': ['visual-question-answering-on-vip-bench'],\n",
    "    'VideoInstruct': ['video-based-generative-performance', 'video-based-generative-performance-1', 'video-based-generative-performance-2', 'video-based-generative-performance-3', 'video-based-generative-performance-4', 'video-based-generative-performance-5'],\n",
    "    'VisDial': ['chat-based-image-retrieval-on-visdial'],\n",
    "    'VizWiz': ['visual-question-answering-on-vizwiz-2020-vqa'],\n",
    "    'WHOOPS!': ['explanation-generation-on-whoops', 'image-to-text-retrieval-on-whoops', 'image-captioning-on-whoops', 'visual-question-answering-vqa-on-whoops'],\n",
    "    'WMT (2014)': ['unsupervised-machine-translation-on-wmt2014-1', 'machine-translation-on-wmt2014-french-english', 'machine-translation-on-wmt2014-english-german', 'unsupervised-machine-translation-on-wmt2014-2', 'machine-translation-on-wmt2014-english-french'],\n",
    "    'WNLI': ['natural-language-inference-on-wnli'],\n",
    "    'WSC': ['coreference-resolution-on-winograd-schema'],\n",
    "    'WebQuestions': ['question-answering-on-webquestions'],\n",
    "    'WebQuestionsSP': ['knowledge-base-question-answering-on-1', 'semantic-parsing-on-webquestionssp'],\n",
    "    'WenetSpeech': ['speech-recognition-on-wenetspeech'],\n",
    "    'WikiText-103': ['language-modelling-on-wikitext-103'],\n",
    "    'WikiText-2': ['language-modelling-on-wikitext-2'],\n",
    "    'WinoGrande': ['common-sense-reasoning-on-winogrande'],\n",
    "    'Winoground': ['visual-reasoning-on-winoground'],\n",
    "    'XCOPA': ['cross-lingual-transfer-on-xcopa'],\n",
    "    'XSUM': ['text-summarization-on-x-sum'],\n",
    "    'YouCook2': ['video-retrieval-on-youcook2', 'video-captioning-on-youcook2', 'zero-shot-video-retrieval-on-youcook2'],\n",
    "}\n",
    "\n",
    "# PWC leaderboards are retrieved in https://production-media.paperswithcode.com/about/evaluation-tables.json.gz\n",
    "dataset_oriented_leaderboards = ['https://zilliz.com/vector-database-benchmark-tool', 'https://www.datacomp.ai/dclm/leaderboard.html', 'https://www.datacomp.ai/dcclip/leaderboard.html', 'https://llm-eval.github.io/pages/leaderboard/advprompt.html#attack-results-view-by-datasets', 'https://huggingface.co/spaces/zhaorui-nb/de-identification-leaderboard']\n",
    "metric_oriented_leaderboards = ['https://github.com/yuh-zha/AlignScore']\n",
    "method_oriented_leaderboards = ['https://robustbench.github.io', 'https://teddy-xionggz.github.io/MIRAGE', 'https://www.swebench.com', 'https://jykoh.com/vwa', 'https://huggingface.co/spaces/osunlp/TravelPlannerLeaderboard', 'https://huggingface.co/spaces/JetBrains-Research/long-code-arena', 'https://huggingface.co/spaces/OPTML-Group/UnlearnCanvas-Benchmark', 'https://bird-bench.github.io', 'https://huggingface.co/spaces/stabletoolbench/Stable_Tool_Bench_Leaderboard', 'https://huggingface.co/spaces/GPTEval3D/Leaderboard_dev', 'https://huggingface.co/spaces/boyiwei/CoTaEval_leaderboard', 'https://huggingface.co/spaces/locuslab/tofu_leaderboard', 'https://huggingface.co/spaces/Intel/UnlearnDiffAtk-Benchmark', 'https://github.com/svilupp/Julia-LLM-Leaderboard?tab=readme-ov-file#prompting-templates', 'https://llm-eval.github.io/pages/leaderboard/pe.html', 'https://llm-eval.github.io/pages/leaderboard/advprompt.html#all-results-of-prompts', 'https://huggingface.co/spaces/autogenCTF/agent_ctf_leaderboard']\n",
    "solution_oriented_leaderboards = ['https://www.datafountain.cn/competitions', 'https://www.drivendata.org/competitions', 'https://tianchi.aliyun.com/competition', 'https://www.codabench.org/competitions/public', 'https://eu.aihub.ml/competitions', 'https://aistudio.baidu.com/competition', 'https://www.hilti-challenge.com', 'https://insightface.ai/challenges', 'https://www.aicrowd.com/challenges', 'https://grand-challenge.org/challenges', 'https://dynabench.org/tasks', 'https://www.kaggle.com/competitions', 'https://eval.ai/web/challenges/list', 'https://taostats.io', 'https://artificialanalysis.ai']"
   ]
  },
  {
   "cell_type": "code",
   "execution_count": 3,
   "metadata": {},
   "outputs": [],
   "source": [
    "platform_abbreviation_mapping_inverse = {v: k for k, v in platform_abbreviation_mapping.items()}\n",
    "\n",
    "metrics_synonyms_inverse = {}\n",
    "for key, values in metrics_synonyms.items():\n",
    "    for value in values:\n",
    "        metrics_synonyms_inverse[value] = key\n",
    "\n",
    "publisher_synonyms_inverse = {}\n",
    "for key, values in publisher_synonyms.items():\n",
    "    for value in values:\n",
    "        publisher_synonyms_inverse[value] = key\n",
    "\n",
    "ranking_dataframe_organization_tactics_mapping_inverse = {}\n",
    "for key, values in ranking_dataframe_organization_tactics_mapping.items():\n",
    "    for value in values:\n",
    "        ranking_dataframe_organization_tactics_mapping_inverse[value] = key\n",
    "\n",
    "def convert_df_to_dict(df):\n",
    "    \"\"\"\n",
    "    Convert a DataFrame of leaderboards and metrics to a dictionary.\n",
    "\n",
    "    :param df: DataFrame with leaderboards and metrics\n",
    "    :return: Dictionary with leaderboards as keys and list of metrics as values\n",
    "    \"\"\"\n",
    "    leaderboard_data = {}\n",
    "\n",
    "    # Ensure the DataFrame's first column is considered as the keys\n",
    "    # and iterate through each row to construct the dictionary\n",
    "    for _, row in df.iterrows():\n",
    "        key = row[0]  # The first column serves as the key\n",
    "        # List comprehension to get non-empty values from the rest of the row\n",
    "        values = [value for value in row[1:] if pd.notna(value)]\n",
    "        leaderboard_data[key] = values\n",
    "\n",
    "    return leaderboard_data\n",
    "\n",
    "def string_to_list(text, platform=False):\n",
    "    if pd.isna(text) or text == 'nan':\n",
    "        return []\n",
    "    elif platform:\n",
    "        return [platform_abbreviation_mapping[platform] for platform in text.split(',')]\n",
    "    else:\n",
    "        return text.split(',')\n",
    "\n",
    "def string_to_dict(s, platform=False, list_format=False):\n",
    "    # Check if the input is np.nan\n",
    "    if pd.isna(s):\n",
    "        if list_format:\n",
    "            return []\n",
    "        return {}\n",
    "    \n",
    "    # Split the string into key-value pairs\n",
    "    pairs = s.split(',')\n",
    "    result_dict = {}\n",
    "    result_list = []\n",
    "    \n",
    "    for pair in pairs:\n",
    "        # Split each pair by ':' to separate keys and values\n",
    "        key, value = pair.split(':')\n",
    "        # Split the value by '+' to get the list of items\n",
    "        value_list = value.split('+')\n",
    "        # Assign the list to the key in the dictionary\n",
    "        if platform:\n",
    "            result_dict[platform_abbreviation_mapping[key]] = value_list\n",
    "        else:\n",
    "            result_dict[key] = value_list\n",
    "        result_list.extend(value_list)\n",
    "            \n",
    "    if list_format:\n",
    "        return result_list\n",
    "    return result_dict\n",
    "\n",
    "# Function to format each value based on its own decimal places\n",
    "def format_individual_value(x):\n",
    "    if isinstance(x, float):\n",
    "        # Use string formatting to maintain original decimal places\n",
    "        return \"{:f}\".format(x).rstrip('0').rstrip('.')\n",
    "    return x\n",
    "\n",
    "def print_empty_folders(root_dir):\n",
    "    for dirpath, dirname, filenames in os.walk(root_dir):\n",
    "        # Check if both lists of subdirectories and filenames are empty\n",
    "        if not filenames and dirpath != root_dir:\n",
    "            print(f\"Empty folder: {dirpath}\")\n",
    "            \n",
    "def list_directories(folder_path):\n",
    "    # List all subdirectories within the folder\n",
    "    directories = [os.path.join(folder_path, d) for d in os.listdir(\n",
    "        folder_path) if os.path.isdir(os.path.join(folder_path, d))]\n",
    "    return directories\n",
    "\n",
    "def publisher_synonyms_mapping(publishers):\n",
    "    publishers_processed = set()\n",
    "    for publisher in publishers:\n",
    "        if publisher in publisher_synonyms_inverse:\n",
    "            publishers_processed.add(publisher_synonyms_inverse[publisher])\n",
    "        # elif 'Independent Contributor' == publisher:\n",
    "        #     publishers_processed.add(leaderboard)\n",
    "        else:\n",
    "            publishers_processed.add(publisher)\n",
    "    return publishers_processed\n",
    "\n",
    "def keep_rows_by_list_column(df, column_name, keyword_list):\n",
    "    \"\"\"\n",
    "    Filters rows in a DataFrame based on whether all elements in a specified list column are in a given keyword list.\n",
    "    \n",
    "    Parameters:\n",
    "    - df: Pandas DataFrame.\n",
    "    - column_name: The name of the column containing lists of strings.\n",
    "    - keyword_list: A list of keywords to check against.\n",
    "    \n",
    "    Returns:\n",
    "    - A filtered Pandas DataFrame.\n",
    "    \"\"\"\n",
    "    # Convert the keyword list to a set for faster membership testing\n",
    "    keyword_set = set(keyword_list)\n",
    "    \n",
    "    # Define a lambda function to check if all elements of a list are in the keyword_set\n",
    "    all_in_keywords = lambda x: any(element in keyword_set for element in x)\n",
    "    \n",
    "    # Apply the lambda function to the specified column and invert the boolean Series to filter rows\n",
    "    filtered_df = df[df[column_name].apply(all_in_keywords)]\n",
    "    \n",
    "    return filtered_df\n",
    "\n",
    "def filter_rows_by_list_column(df, column_name, keyword_list):\n",
    "    \"\"\"\n",
    "    Filters rows in a DataFrame based on whether all elements in a specified list column are in a given keyword list.\n",
    "    \n",
    "    Parameters:\n",
    "    - df: Pandas DataFrame.\n",
    "    - column_name: The name of the column containing lists of strings.\n",
    "    - keyword_list: A list of keywords to check against.\n",
    "    \n",
    "    Returns:\n",
    "    - A filtered Pandas DataFrame.\n",
    "    \"\"\"\n",
    "    # Convert the keyword list to a set for faster membership testing\n",
    "    keyword_set = set(keyword_list)\n",
    "    \n",
    "    # Define a lambda function to check if all elements of a list are in the keyword_set\n",
    "    all_in_keywords = lambda x: not all(element in keyword_set for element in x)\n",
    "    \n",
    "    # Apply the lambda function to the specified column and invert the boolean Series to filter rows\n",
    "    filtered_df = df[df[column_name].apply(all_in_keywords)]\n",
    "    \n",
    "    return filtered_df"
   ]
  },
  {
   "cell_type": "code",
   "execution_count": 8,
   "metadata": {},
   "outputs": [
    {
     "name": "stdout",
     "output_type": "stream",
     "text": [
      "Script executed successfully.\n"
     ]
    }
   ],
   "source": [
    "import subprocess\n",
    "\n",
    "# Load the environment variables from key.json\n",
    "with open(f'{path_key}/.sourcegraph.json') as f:\n",
    "    env_vars = json.load(f)\n",
    "\n",
    "# Set the environment variables\n",
    "os.environ.update(env_vars)\n",
    "\n",
    "# Execute the shell script and pass path_data as an argument\n",
    "try:\n",
    "    subprocess.run(['sh', f'{path_data}/Dependents_Lookup.sh', path_data], check=True)\n",
    "    print(\"Script executed successfully.\")\n",
    "except subprocess.CalledProcessError as e:\n",
    "    print(f\"Script execution failed with error: {e}\")\n"
   ]
  },
  {
   "cell_type": "code",
   "execution_count": 11,
   "metadata": {},
   "outputs": [
    {
     "data": {
      "text/plain": [
       "{'github.com/AliyunContainerService/alicloud-storage-provisioner',\n",
       " 'github.com/AshwinAmbal/DarkWeb-Crawling-Indexing',\n",
       " 'github.com/FanshuoZeng/Simignore',\n",
       " 'github.com/JusperLee/LibriSpace',\n",
       " 'github.com/KiloProjects/Kilonova',\n",
       " 'github.com/Rohith-JN/type-frontend',\n",
       " 'github.com/ShenQingchuan/github-contributor-svg-generator',\n",
       " 'github.com/SnowCutieOwO/Continue',\n",
       " 'github.com/TheBevyFlock/bevy_quickstart',\n",
       " 'github.com/jamesroutley/news.routley.io',\n",
       " 'github.com/lamini-ai/lamini-examples',\n",
       " 'github.com/lbenz730/NCAA_Hoops_Play_By_Play',\n",
       " 'github.com/marianoguerra/future-of-coding-weekly',\n",
       " 'github.com/max-lee-dev/hackertype',\n",
       " 'github.com/maxmakesmagic/ormos',\n",
       " 'github.com/optuna/optuna',\n",
       " 'github.com/physionetchallenges/physionetchallenges.github.io',\n",
       " 'github.com/sgtest/monorepo-test-1',\n",
       " 'github.com/sgtest/monorepo-test-3',\n",
       " 'github.com/sgtest/monorepo-test-5',\n",
       " 'github.com/sgtest/monorepo-test-7',\n",
       " 'github.com/sgtest/monorepo-test-8',\n",
       " 'github.com/vante-dev/Vante-Bots'}"
      ]
     },
     "execution_count": 11,
     "metadata": {},
     "output_type": "execute_result"
    }
   ],
   "source": [
    "import json\n",
    "\n",
    "with open(f\"{path_data}/GitHub_old.json\") as f:\n",
    "    data_old = json.load(f)\n",
    "\n",
    "with open(f\"{path_data}/GitHub.json\") as f:\n",
    "    data_new = json.load(f)\n",
    "\n",
    "repos_old = [repo[\"name\"] for index, repo in enumerate(data_old[\"Results\"]) if index > 5249]\n",
    "# repos_old = [repo[\"name\"] for repo in data_old[\"Results\"]]\n",
    "repos_new = [repo[\"name\"] for repo in data_new[\"Results\"]]\n",
    "\n",
    "set(repos_old) - set(repos_new)"
   ]
  },
  {
   "cell_type": "code",
   "execution_count": 12,
   "metadata": {},
   "outputs": [
    {
     "name": "stdout",
     "output_type": "stream",
     "text": [
      "5299\n",
      "5349\n",
      "5399\n",
      "5449\n",
      "5499\n",
      "5549\n",
      "5599\n",
      "5649\n",
      "5699\n",
      "5749\n",
      "5799\n",
      "5849\n",
      "5899\n",
      "5949\n",
      "5999\n",
      "6049\n",
      "6099\n",
      "6149\n",
      "6199\n",
      "6249\n",
      "6299\n",
      "6349\n",
      "6399\n",
      "6449\n",
      "6499\n"
     ]
    }
   ],
   "source": [
    "import json\n",
    "import webbrowser\n",
    "\n",
    "with open(f\"{path_data}/GitHub_old.json\") as f:\n",
    "    data = json.load(f)\n",
    "\n",
    "for index, repo in enumerate(data[\"Results\"]):\n",
    "    if index <= 5249:\n",
    "        continue\n",
    "    webbrowser.open(f'https://{repo[\"name\"]}')\n",
    "    if index % 50 == 49:\n",
    "        print(index)\n",
    "        code = input(\"Press enter key to proceed.\")\n",
    "        if code.lower() == 'esc':\n",
    "            raise KeyboardInterrupt"
   ]
  },
  {
   "cell_type": "code",
   "execution_count": null,
   "metadata": {},
   "outputs": [],
   "source": [
    "import json\n",
    "import webbrowser\n",
    "\n",
    "with open(f\"{path_data}/GitHub.json\") as f:\n",
    "    data = json.load(f)\n",
    "\n",
    "for index, repo in enumerate(data[\"Results\"]):\n",
    "    webbrowser.open(f'https://{repo[\"name\"]}')\n",
    "    if index % 50 == 49:\n",
    "        print(index)\n",
    "        code = input(\"Press enter key to proceed.\")\n",
    "        if code.lower() == 'esc':\n",
    "            raise KeyboardInterrupt"
   ]
  },
  {
   "cell_type": "code",
   "execution_count": null,
   "metadata": {},
   "outputs": [],
   "source": [
    "github_leaderboard_primary = [\n",
    "    {\n",
    "        'leaderboard': 'https://github.com/ray-project/llmperf-leaderboard',\n",
    "        'reference': ''\n",
    "    },\n",
    "    {\n",
    "        'leaderboard': 'https://github.com/vztu/BVQA_Benchmark',\n",
    "        'reference': 'https://github.com/vztu/RAPIQUE/blob/e637a3d943010940f67ef7b0c19e2f2c81d63b01/README.md?plain=1#L8'\n",
    "    },\n",
    "    {\n",
    "        'leaderboard': 'https://csbench.github.io/#leaderboard',\n",
    "        'reference': ''\n",
    "    },\n",
    "    {\n",
    "        'leaderboard': 'https://crowdbenchmark.com/nwpucrowd.html',\n",
    "        'reference': 'https://github.com/gjy3035/NWPU-Crowd-Sample-Code/blob/fe8e986d23e88f7b9defabbd0b3f6f655803152d/README.md?plain=1#L92'\n",
    "    },\n",
    "    {\n",
    "        'leaderboard': 'https://huggingface.co/spaces/open-llm-leaderboard/open_llm_leaderboard',\n",
    "        'reference': 'https://github.com/Decentralised-AI/falcon-40b/blob/6e61c89591cc7a3328d4010ceaf701dfec03fd18/README.md?plain=1#L183'\n",
    "    },\n",
    "    {\n",
    "        'leaderboard': 'https://paperswithcode.com/sota/instance-segmentation-on-coco',\n",
    "        'reference': 'https://github.com/IDEA-Research/DINO/blob/d84a491d41898b3befd8294d1cf2614661fc0953/README.md?plain=1#L35'\n",
    "    },\n",
    "    {\n",
    "        'leaderboard': 'https://paperswithcode.com/sota/panoptic-segmentation-on-coco-test-dev',\n",
    "        'reference': 'https://github.com/IDEA-Research/DINO/blob/d84a491d41898b3befd8294d1cf2614661fc0953/README.md?plain=1#L35'\n",
    "    },\n",
    "    {\n",
    "        'leaderboard': 'https://paperswithcode.com/sota/semantic-segmentation-on-ade20k',\n",
    "        'reference': 'https://github.com/IDEA-Research/DINO/blob/d84a491d41898b3befd8294d1cf2614661fc0953/README.md?plain=1#L35'\n",
    "    },\n",
    "    {\n",
    "        'leaderboard': 'https://github.com/kaz-Anova/ensemble_amazon',\n",
    "        'reference': ''\n",
    "    },\n",
    "    {\n",
    "        'leaderboard': 'https://github.com/MLBazaar/BTB',\n",
    "        'reference': ''\n",
    "    },\n",
    "    {\n",
    "        'leaderboard': 'https://github.com/Codium-ai/AlphaCodium',\n",
    "        'reference': ''\n",
    "    },\n",
    "    {\n",
    "        'leaderboard': 'https://www.nuscenes.org/object-detection',\n",
    "        'reference': 'https://github.com/VDIGPKU/HENet/blob/main/README.md?plain=1#L13'\n",
    "    },\n",
    "    {\n",
    "        'leaderboard': 'https://huggingface.co/spaces/bigcode/bigcode-models-leaderboard',\n",
    "        'reference': 'https://github.com/continuedev/what-llm-to-use/blob/main/README.md?plain=1#L39'\n",
    "    },\n",
    "    {\n",
    "        'leaderboard': 'https://wilds.stanford.edu/leaderboard',\n",
    "        'reference': 'https://github.com/LFhase/PAIR/blob/main/README.md?plain=1#L19'\n",
    "    },\n",
    "    {\n",
    "        'leaderboard': 'https://huggingface.co/spaces/open-llm-leaderboard/open_llm_leaderboard',\n",
    "        'reference': 'https://github.com/dsdanielpark/open-llm-datasets/blob/main/README.md?plain=1#L228'\n",
    "    },\n",
    "    {\n",
    "        'leaderboard': 'https://github.com/niais/Awesome-Skeleton-based-Action-Recognition',\n",
    "        'reference': ''\n",
    "    },\n",
    "    {\n",
    "        'leaderboard': 'https://eval.ai/web/challenges/challenge-page/2210/leaderboard',\n",
    "        'reference': 'https://github.com/yanconglin/ICP-Flow/blob/main/README.md?plain=1#L90'\n",
    "    },\n",
    "    {\n",
    "        'leaderboard': 'https://rajpurkar.github.io/SQuAD-explorer',\n",
    "        'reference': 'https://github.com/zihangdai/xlnet/blob/master/README.md?plain=1#L35'\n",
    "    },\n",
    "    {\n",
    "        'leaderboard': 'https://cmedbenchmark.llmzoo.com/static/leaderboard.html',\n",
    "        'reference': 'https://github.com/X-D-Lab/Sunsimiao/blob/master/README.md?plain=1#L82'\n",
    "    },\n",
    "    {\n",
    "        'leaderboard': 'https://ogb.stanford.edu/docs/lsc/leaderboards',\n",
    "        'reference': 'https://github.com/lmqfly/Geometry-Deep-Learning-for-Drug-Discovery/blob/main/README.md?plain=1#L104'\n",
    "    },\n",
    "    {\n",
    "        'leaderboard': 'https://eval.ai/web/challenges/challenge-page/1832/leaderboard',\n",
    "        'reference': 'https://github.com/goel-shashank/CyCLIP/blob/main/README.md?plain=1#L82'\n",
    "    },\n",
    "    {\n",
    "        'leaderboard': 'https://www.cvlibs.net/datasets/kitti/eval_object.php',\n",
    "        'reference': 'https://github.com/fregu856/3DOD_thesis/blob/master/README.md?plain=1#L616'\n",
    "    },\n",
    "    {\n",
    "        'leaderboard': 'https://huggingface.co/spaces/open-llm-leaderboard/open_llm_leaderboard',\n",
    "        'reference': 'https://github.com/ryoungj/ObsScaling/blob/main/README.md?plain=1#L19'\n",
    "    },\n",
    "    {\n",
    "        'leaderboard': 'https://huggingface.co/spaces/open-llm-leaderboard/open_llm_leaderboard',\n",
    "        'reference': 'https://github.com/adithya-s-k/indic_eval/blob/main/README.md?plain=1#L544'\n",
    "    },\n",
    "    {\n",
    "        'leaderboard': 'https://huggingface.co/spaces/Cognitive-Lab/indic_llm_leaderboard',\n",
    "        'reference': 'https://github.com/adithya-s-k/indic_eval/blob/main/README.md?plain=1#L12'\n",
    "    },\n",
    "    {\n",
    "        'leaderboard': 'https://huggingface.co/spaces/open-llm-leaderboard/open_llm_leaderboard',\n",
    "        'reference': 'https://github.com/arjunbansal/awesome-oss-llm-ift-rlhf/blob/main/README.md?plain=1#L51'\n",
    "    },\n",
    "    {\n",
    "        'leaderboard': 'https://huggingface.co/spaces/lmsys/chatbot-arena-leaderboard',\n",
    "        'reference': 'https://github.com/arjunbansal/awesome-oss-llm-ift-rlhf/blob/main/README.md?plain=1#L52'\n",
    "    },\n",
    "    {\n",
    "        'leaderboard': 'https://orionlab.space.noa.gr/mesogeos',\n",
    "        'reference': 'https://github.com/Orion-AI-Lab/mesogeos/blob/main/README.md?plain=1#L161'\n",
    "    },\n",
    "    {\n",
    "        'leaderboard': 'https://www.kaggle.com/c/allstate-claims-severity/leaderboard',\n",
    "        'reference': 'https://github.com/adornes/spark_python_ml_examples/blob/master/README.md?plain=1#L262'\n",
    "    },\n",
    "    {\n",
    "        'leaderboard': 'https://github.com/salesforce/WikiSQL',\n",
    "        'reference': ''\n",
    "    },\n",
    "    {\n",
    "        'leaderboard': 'https://codalab.lisn.upsaclay.fr/competitions/17640',\n",
    "        'reference': 'https://github.com/caiyuanhao1998/Retinexformer/blob/master/README.md?plain=1#L111'\n",
    "    },\n",
    "    {\n",
    "        'leaderboard': 'https://eval.ai/web/challenges/challenge-page/356/leaderboard',\n",
    "        'reference': 'https://github.com/MCG-NJU/SparseBEV/blob/main/README.md?plain=1#L22'\n",
    "    },\n",
    "    {\n",
    "        'leaderboard': 'https://github.com/longvideobench/LongVideoBench',\n",
    "        'reference': ''\n",
    "    },\n",
    "    {\n",
    "        'leaderboard': 'https://github.com/crowdAI/crowdai-musical-genre-recognition-starter-kit',\n",
    "        'reference': ''\n",
    "    },\n",
    "    {\n",
    "        'leaderboard': 'https://github.com/DetectionTeamUCAS/RRPN_Faster-RCNN_Tensorflow',\n",
    "        'reference': ''\n",
    "    },\n",
    "    {\n",
    "        'leaderboard': 'https://github.com/OpenGVLab/MM-NIAH',\n",
    "        'reference': ''\n",
    "    },\n",
    "    {\n",
    "        'leaderboard': 'https://leaderboard.allenai.org/nycc-matching',\n",
    "        'reference': 'https://github.com/jmhessel/caption_contest_corpus/blob/main/README.md?plain=1#L109'\n",
    "    },\n",
    "    {\n",
    "        'leaderboard': 'https://microsoft.github.io/MSMARCO-Passage-Ranking-Submissions/leaderboard',\n",
    "        'reference': 'https://github.com/AlibabaResearch/HLATR/blob/main/readme.md?plain=1#L12'\n",
    "    },\n",
    "    {\n",
    "        'leaderboard': 'https://dki-lab.github.io/GrailQA',\n",
    "        'reference': 'https://github.com/dki-lab/GrailQA/blob/main/README.md?plain=1#L11'\n",
    "    },\n",
    "    {\n",
    "        'leaderboard': 'https://github.com/SilongYong/SQA3D',\n",
    "        'reference': ''\n",
    "    },\n",
    "    {\n",
    "        'leaderboard': 'http://host.robots.ox.ac.uk:8080/leaderboard/displaylb.php?challengeid=11&compid=6',\n",
    "        'reference': 'https://github.com/kjw0612/awesome-deep-vision/blob/master/README.md?plain=1#L171'\n",
    "    },\n",
    "    {\n",
    "        'leaderboard': 'https://github.com/cathyxl/MAgIC',\n",
    "        'reference': ''\n",
    "    },\n",
    "    {\n",
    "        'leaderboard': 'https://github.com/JasonForJoy/Leaderboards-for-Multi-Turn-Response-Selection',\n",
    "        'reference': ''\n",
    "    },\n",
    "    {\n",
    "        'leaderboard': 'https://github.com/openai/gym/wiki/Leaderboard',\n",
    "        'reference': 'https://github.com/pat-coady/trpo/blob/master/README.md?plain=1#L9'\n",
    "    },\n",
    "    {\n",
    "        'leaderboard': 'https://paperswithcode.com/dataset/pascalvoc-sp',\n",
    "        'reference': 'https://github.com/vijaydwivedi75/lrgb/blob/main/README.md?plain=1#L111'\n",
    "    },\n",
    "    {\n",
    "        'leaderboard': 'http://host.robots.ox.ac.uk:8080/leaderboard/displaylb.php?challengeid=11&compid=3',\n",
    "        'reference': 'https://github.com/SHI-Labs/GFR-DSOD/blob/master/README.md?plain=1#L6'\n",
    "    },\n",
    "    {\n",
    "        'leaderboard': 'https://github.com/OpenMOSS/HalluQA',\n",
    "        'reference': ''\n",
    "    },\n",
    "    {\n",
    "        'leaderboard': 'https://huggingface.co/spaces/open-llm-leaderboard/open_llm_leaderboard',\n",
    "        'reference': 'https://github.com/Spico197/Humback/blob/main/README.md?plain=1#L122'\n",
    "    },\n",
    "    {\n",
    "        'leaderboard': 'https://lmarena.ai/?leaderboard',\n",
    "        'reference': 'https://github.com/ikaijua/Awesome-AITools/blob/main/README.md?plain=1#L109'\n",
    "    },\n",
    "    {\n",
    "        'leaderboard': 'https://artificialanalysis.ai/leaderboards/models',\n",
    "        'reference': 'https://github.com/ikaijua/Awesome-AITools/blob/main/README.md?plain=1#L110'\n",
    "    },\n",
    "    {\n",
    "        'leaderboard': 'https://artificialanalysis.ai/leaderboards/providers',\n",
    "        'reference': 'https://github.com/ikaijua/Awesome-AITools/blob/main/README.md?plain=1#L110'\n",
    "    },\n",
    "    {\n",
    "        'leaderboard': 'https://artificialanalysis.ai/text-to-image',\n",
    "        'reference': 'https://github.com/ikaijua/Awesome-AITools/blob/main/README.md?plain=1#L110'\n",
    "    },\n",
    "    {\n",
    "        'leaderboard': 'https://artificialanalysis.ai/speech-to-text',\n",
    "        'reference': 'https://github.com/ikaijua/Awesome-AITools/blob/main/README.md?plain=1#L110'\n",
    "    },\n",
    "    {\n",
    "        'leaderboard': 'https://artificialanalysis.ai/text-to-speech',\n",
    "        'reference': 'https://github.com/ikaijua/Awesome-AITools/blob/main/README.md?plain=1#L110'\n",
    "    },\n",
    "    {\n",
    "        'leaderboard': 'https://mcgill-nlp.github.io/bias-bench',\n",
    "        'reference': 'https://github.com/McGill-NLP/bias-bench/blob/main/README.md?plain=1#L9'\n",
    "    },\n",
    "    {\n",
    "        'leaderboard': 'https://paperswithcode.com/sota/visual-question-answering-on-mm-vet',\n",
    "        'reference': 'https://github.com/yuweihao/MM-Vet/blob/main/README.md?plain=1#L30'\n",
    "    },\n",
    "    {\n",
    "        'leaderboard': 'https://github.com/THUDM/AgentBench',\n",
    "        'reference': ''\n",
    "    },\n",
    "    {\n",
    "        'leaderboard': 'https://leaderboard.allenai.org/winogrande',\n",
    "        'reference': 'https://github.com/allenai/winogrande/blob/master/README.md?plain=1#L21'\n",
    "    },\n",
    "    {\n",
    "        'leaderboard': 'https://dynabench.org/tasks',\n",
    "        'reference': 'https://github.com/eugenesiow/practical-ml/blob/master/README.md?plain=1#L78'\n",
    "    },\n",
    "    {\n",
    "        'leaderboard': 'https://codalab.lisn.upsaclay.fr/competitions/9304',\n",
    "        'reference': 'https://github.com/huzeyann/MemoryEncodingModel/blob/main/README.md?plain=1#L15'\n",
    "    },\n",
    "    {\n",
    "        'leaderboard': 'https://box.vicos.si/borja/viamaro/index.html#leaderboard',\n",
    "        'reference': 'https://github.com/bborja/modd/blob/master/README.md?plain=1#L150'\n",
    "    },\n",
    "    {\n",
    "        'leaderboard': 'https://www.kaggle.com/c/ntut-ml-2018-computer-vision/leaderboard',\n",
    "        'reference': 'https://github.com/hsuRush/DeepANPR/blob/master/README.md?plain=1#L2'\n",
    "    },\n",
    "    {\n",
    "        'leaderboard': 'https://github.com/XuanwuAI/SecEval',\n",
    "        'reference': ''\n",
    "    },\n",
    "    {\n",
    "        'leaderboard': 'https://few-shot.yyliu.net/miniimagenet.html',\n",
    "        'reference': 'https://github.com/indussky8/awesome-few-shot-learning/blob/main/README.md?plain=1#L279'\n",
    "    },\n",
    "    {\n",
    "        'leaderboard': 'https://github.com/iarai/NeurIPS2022-traffic4cast',\n",
    "        'reference': ''\n",
    "    },\n",
    "    {\n",
    "        'leaderboard': 'https://github.com/cvgroup-njust/CityPersons',\n",
    "        'reference': ''\n",
    "    },\n",
    "    {\n",
    "        'leaderboard': 'https://ymcui.com/cmrc2019',\n",
    "        'reference': 'https://github.com/ymcui/cmrc2019/blob/master/README.md?plain=1#L22'\n",
    "    },\n",
    "    {\n",
    "        'leaderboard': 'https://www.kaggle.com/c/fungi-challenge-fgvc-2018/leaderboard',\n",
    "        'reference': 'https://github.com/visipedia/fgvcx_fungi_comp/blob/master/README.md?plain=1#L10'\n",
    "    },\n",
    "    {\n",
    "        'leaderboard': 'https://eval.ai/web/challenges/challenge-page/1091/leaderboard',\n",
    "        'reference': 'https://github.com/Raldir/FEVEROUS/blob/main/README.md?plain=1#L171'\n",
    "    },\n",
    "    {\n",
    "        'leaderboard': 'https://rajpurkar.github.io/SQuAD-explorer',\n",
    "        'reference': 'https://github.com/google-research/bert/blob/master/README.md?plain=1#L194'\n",
    "    },\n",
    "    {\n",
    "        'leaderboard': 'https://www.kaggle.com/c/siim-isic-melanoma-classification/leaderboard',\n",
    "        'reference': 'https://github.com/haqishen/SIIM-ISIC-Melanoma-Classification-1st-Place-Solution/blob/master/README.md?plain=1#L3'\n",
    "    },\n",
    "    {\n",
    "        'leaderboard': 'https://cocodataset.org/#stuff-leaderboard',\n",
    "        'reference': 'https://github.com/nightrome/cocostuff/blob/master/README.md?plain=1#L102'\n",
    "    },\n",
    "    {\n",
    "        'leaderboard': 'https://huggingface.co/spaces/open-llm-leaderboard/open_llm_leaderboard',\n",
    "        'reference': 'https://github.com/WeOpenML/PandaLM/blob/main/README.md?plain=1#L52'\n",
    "    },\n",
    "    {\n",
    "        'leaderboard': 'https://github.com/tianyi-lab/HallusionBench',\n",
    "        'reference': ''\n",
    "    },\n",
    "    {\n",
    "        'leaderboard': 'https://huggingface.co/spaces/open-llm-leaderboard/open_llm_leaderboard',\n",
    "        'reference': 'https://github.com/uclaml/SPIN/blob/main/README.md?plain=1#L247'\n",
    "    },\n",
    "    {\n",
    "        'leaderboard': 'https://github.com/mlfoundations/dclm',\n",
    "        'reference': ''\n",
    "    },\n",
    "    {\n",
    "        'leaderboard': 'https://www.boreas.utias.utoronto.ca/#/leaderboard',\n",
    "        'reference': 'https://github.com/utiasASRL/hero_radar_odometry/blob/master/README.md?plain=1#L7'\n",
    "    },\n",
    "    {\n",
    "        'leaderboard': 'https://codalab.lisn.upsaclay.fr/competitions/880',\n",
    "        'reference': 'https://github.com/isaaccorley/dfc2022-baseline/blob/master/README.md?plain=1#L34'\n",
    "    },\n",
    "    {\n",
    "        'leaderboard': 'https://haitianliu22.github.io/code-scope-benchmark/leaderboard.html',\n",
    "        'reference': 'https://github.com/WeixiangYAN/CodeScope/blob/main/README.md?plain=1#L6'\n",
    "    },\n",
    "    {\n",
    "        'leaderboard': 'https://github.com/databricks/databricks-ml-examples',\n",
    "        'reference': ''\n",
    "    },\n",
    "    {\n",
    "        'leaderboard': 'https://github.com/OpenBMB/OlympiadBench',\n",
    "        'reference': ''\n",
    "    },\n",
    "    {\n",
    "        'leaderboard': 'https://github.com/AIR-Bench/AIR-Bench',\n",
    "        'reference': ''\n",
    "    },\n",
    "    {\n",
    "        'leaderboard': 'https://github.com/decis-bench/febench',\n",
    "        'reference': ''\n",
    "    },\n",
    "    {\n",
    "        'leaderboard': 'https://github.com/decis-bench/febench',\n",
    "        'reference': ''\n",
    "    },\n",
    "    {\n",
    "        'leaderboard': 'https://www.cvlibs.net/datasets/kitti/eval_object.php',\n",
    "        'reference': 'https://github.com/dashidhy/awesome-point-cloud-deep-learning/blob/master/README.md?plain=1#L60'\n",
    "    },\n",
    "    {\n",
    "        'leaderboard': 'https://www.nuscenes.org/object-detection',\n",
    "        'reference': 'https://github.com/dashidhy/awesome-point-cloud-deep-learning/blob/master/README.md?plain=1#L61'\n",
    "    },\n",
    "    {\n",
    "        'leaderboard': 'https://github.com/DetectionTeamUCAS/R2CNN-Plus-Plus_Tensorflow',\n",
    "        'reference': ''\n",
    "    },\n",
    "    {\n",
    "        'leaderboard': 'https://github.com/diffbot/knowledge-net',\n",
    "        'reference': ''\n",
    "    },\n",
    "    {\n",
    "        'leaderboard': 'https://huggingface.co/spaces/open-llm-leaderboard/open_llm_leaderboard',\n",
    "        'reference': 'https://github.com/mlabonne/llm-course/blob/main/README.md?plain=1#L254'\n",
    "    },\n",
    "    {\n",
    "        'leaderboard': 'https://huggingface.co/spaces/lmsys/chatbot-arena-leaderboard',\n",
    "        'reference': 'https://github.com/mlabonne/llm-course/blob/main/README.md?plain=1#L262'\n",
    "    },\n",
    "    {\n",
    "        'leaderboard': 'https://kgqa.github.io/leaderboard',\n",
    "        'reference': 'https://github.com/KGQA/leaderboard'\n",
    "    },\n",
    "    {\n",
    "        'leaderboard': 'https://github.com/open-compass/T-Eval',\n",
    "        'reference': ''\n",
    "    },\n",
    "    {\n",
    "        'leaderboard': 'https://github.com/KevinLiao159/Quora',\n",
    "        'reference': ''\n",
    "    },\n",
    "    {\n",
    "        'leaderboard': 'https://github.com/inspire-group/patch-defense-leaderboard',\n",
    "        'reference': 'https://github.com/inspire-group/adv-patch-paper-list/blob/main/README.md?plain=1#L7'\n",
    "    },\n",
    "    {\n",
    "        'leaderboard': 'https://github.com/dynamic-superb/dynamic-superb',\n",
    "        'reference': ''\n",
    "    },\n",
    "    {\n",
    "        'leaderboard': 'https://github.com/yizhen20133868/Awesome-TOD-NLG-Survey',\n",
    "        'reference': ''\n",
    "    },\n",
    "    {\n",
    "        'leaderboard': 'https://github.com/oshizo/japanese-llm-roleplay-benchmark',\n",
    "        'reference': ''\n",
    "    },\n",
    "    {\n",
    "        'leaderboard': 'https://waymo.com/open/challenges/2023/motion-prediction',\n",
    "        'reference': 'https://github.com/zhejz/TrafficBots/blob/main/README.md?plain=1#L51'\n",
    "    },\n",
    "    {\n",
    "        'leaderboard': 'https://paperswithcode.com/dataset/burst',\n",
    "        'reference': 'https://github.com/Ali2500/BURST-benchmark/blob/main/README.md?plain=1#L112'\n",
    "    },\n",
    "    {\n",
    "        'leaderboard': 'https://paperswithcode.com/sota/video-super-resolution-on-vid4-4x-upscaling',\n",
    "        'reference': 'https://github.com/amanchadha/iSeeBetter/blob/master/README.md?plain=1#L19'\n",
    "    },\n",
    "    {\n",
    "        'leaderboard': 'https://github.com/princeton-nlp/LM-Science-Tutor',\n",
    "        'reference': ''\n",
    "    },\n",
    "    {\n",
    "        'leaderboard': 'https://gluebenchmark.com/leaderboard',\n",
    "        'reference': 'https://github.com/mwaskom/seaborn-data/blob/master/README.md?plain=1#L26'\n",
    "    },\n",
    "    {\n",
    "        'leaderboard': 'https://lmarena.ai/?leaderboard',\n",
    "        'reference': 'https://github.com/lm-sys/FastChat/blob/main/README.md?plain=1#L6'\n",
    "    },\n",
    "    {\n",
    "        'leaderboard': 'https://github.com/google-research/meta-dataset',\n",
    "        'reference': ''\n",
    "    },\n",
    "    {\n",
    "        'leaderboard': 'https://stanfordmlgroup.github.io/competitions/chexpert',\n",
    "        'reference': 'https://github.com/stanfordmlgroup/MoCo-CXR/blob/main/README.md?plain=1#L71'\n",
    "    },\n",
    "    {\n",
    "        'leaderboard': 'https://paperswithcode.com/sota/relation-extraction-on-redocred',\n",
    "        'reference': 'https://github.com/tonytan48/KD-DocRE/blob/main/README.md?plain=1#L8'\n",
    "    },\n",
    "    {\n",
    "        'leaderboard': 'https://eval.ai/web/challenges/challenge-page/1881/leaderboard',\n",
    "        'reference': 'https://github.com/project-miracl/miracl/blob/main/README.md?plain=1#L23'\n",
    "    },\n",
    "    {\n",
    "        'leaderboard': 'https://fudanselab-classeval.github.io/leaderboard.html',\n",
    "        'reference': 'https://github.com/FudanSELab/ClassEval/blob/master/README.md?plain=1#L5'\n",
    "    },\n",
    "    {\n",
    "        'leaderboard': 'http://noisylabels.com',\n",
    "        'reference': 'https://github.com/weijiaheng/Advances-in-Label-Noise-Learning/blob/main/README.md?plain=1#L63'\n",
    "    },\n",
    "    {\n",
    "        'leaderboard': 'https://paperswithcode.com/dataset/animal',\n",
    "        'reference': 'https://github.com/weijiaheng/Advances-in-Label-Noise-Learning/blob/main/README.md?plain=1#L67'\n",
    "    },\n",
    "    {\n",
    "        'leaderboard': 'https://paperswithcode.com/dataset/clothing1m',\n",
    "        'reference': 'https://github.com/weijiaheng/Advances-in-Label-Noise-Learning/blob/main/README.md?plain=1#L69'\n",
    "    },\n",
    "    {\n",
    "        'leaderboard': 'https://yale-lily.github.io/sparc',\n",
    "        'reference': 'https://github.com/taoyds/sparc/blob/master/README.md?plain=1#L3'\n",
    "    },\n",
    "    {\n",
    "        'leaderboard': 'https://paperswithcode.com/sota/machine-translation-on-wmt2014-german-english',\n",
    "        'reference': 'https://github.com/joeynmt/joeynmt/blob/main/README.md?plain=1#L280'\n",
    "    },\n",
    "    {\n",
    "        'leaderboard': 'https://github.com/hendrycks/robustness',\n",
    "        'reference': ''\n",
    "    },\n",
    "    {\n",
    "        'leaderboard': 'https://github.com/huguyuehuhu/Awesome-Group-Activity-Recognition',\n",
    "        'reference': ''\n",
    "    },\n",
    "    {\n",
    "        'leaderboard': 'https://mmcheng.net/videosal',\n",
    "        'reference': 'https://github.com/MichiganCOG/TASED-Net/blob/master/README.md?plain=1#L7'\n",
    "    },\n",
    "    {\n",
    "        'leaderboard': 'https://pmc-patients.github.io',\n",
    "        'reference': 'https://github.com/pmc-patients/pmc-patients/blob/main/README.md?plain=1#L104'\n",
    "    },\n",
    "    {\n",
    "        'leaderboard': 'https://github.com/Xiangyu-CAS/AICity2020-VOC-ReID',\n",
    "        'reference': ''\n",
    "    },\n",
    "    {\n",
    "        'leaderboard': 'https://agora-evaluation.is.tuebingen.mpg.de',\n",
    "        'reference': 'https://github.com/IDEA-Research/OSX/blob/main/README.md?plain=1#L41'\n",
    "    },\n",
    "    {\n",
    "        'leaderboard': 'https://paperswithcode.com/sota/robust-camera-only-3d-object-detection-on',\n",
    "        'reference': 'https://github.com/Daniel-xsy/RoboBEV/blob/master/README.md?plain=1#L90'\n",
    "    },\n",
    "    {\n",
    "        'leaderboard': 'https://waymo.com/open/challenges',\n",
    "        'reference': 'https://github.com/Nightmare-n/GD-MAE/blob/main/README.md?plain=1#L12'\n",
    "    },\n",
    "    {\n",
    "        'leaderboard': 'https://github.com/GAIR-NLP/auto-j',\n",
    "        'reference': ''\n",
    "    },\n",
    "    {\n",
    "        'leaderboard': 'https://zjysteven.github.io/OpenOOD/#leaderboard',\n",
    "        'reference': 'https://github.com/Jingkang50/OpenOOD/blob/main/README.md?plain=1#L57'\n",
    "    },\n",
    "    {\n",
    "        'leaderboard': 'https://webots.cloud/competition',\n",
    "        'reference': 'https://github.com/cyberbotics/wrestling/blob/main/README.md?plain=1#L79'\n",
    "    },\n",
    "    {\n",
    "        'leaderboard': 'https://github.com/TellinaTool/nl2bash',\n",
    "        'reference': ''\n",
    "    },\n",
    "    {\n",
    "        'leaderboard': 'https://paperswithcode.com/sota',\n",
    "        'reference': 'https://github.com/paperswithcode/releasing-research-code/blob/master/README.md?plain=1#L94'\n",
    "    },\n",
    "    {\n",
    "        'leaderboard': 'https://eval.ai/web/challenges/list',\n",
    "        'reference': 'https://github.com/paperswithcode/releasing-research-code/blob/master/README.md?plain=1#L96'\n",
    "    },\n",
    "    {\n",
    "        'leaderboard': 'https://nlpprogress.com',\n",
    "        'reference': 'https://github.com/paperswithcode/releasing-research-code/blob/master/README.md?plain=1#L97'\n",
    "    },\n",
    "    {\n",
    "        'leaderboard': 'https://github.com/SUFE-AIFLM-Lab/FinEval',\n",
    "        'reference': ''\n",
    "    },\n",
    "    {\n",
    "        'leaderboard': 'https://github.com/FuxiaoLiu/LRV-Instruction',\n",
    "        'reference': ''\n",
    "    },\n",
    "    {\n",
    "        'leaderboard': 'https://scandeval.com',\n",
    "        'reference': 'https://github.com/BramVanroy/fietje-2/blob/main/README.md?plain=1#L32'\n",
    "    },\n",
    "    {\n",
    "        'leaderboard': 'https://github.com/JasonForJoy/Leaderboards-for-Multi-Turn-Response-Selection',\n",
    "        'reference': 'https://github.com/chauff/conversationalIR/blob/master/README.md?plain=1#L75'\n",
    "    },\n",
    "    {\n",
    "        'leaderboard': 'https://paperswithcode.com/task/conversational-response-selection',\n",
    "        'reference': 'https://github.com/chauff/conversationalIR/blob/master/README.md?plain=1#L77'\n",
    "    },\n",
    "    {\n",
    "        'leaderboard': 'https://multi-trust.github.io/#leaderboard',\n",
    "        'reference': 'https://github.com/thu-ml/MMTrustEval/blob/main/README.md?plain=1#L11'\n",
    "    },\n",
    "    {\n",
    "        'leaderboard': 'https://www.cluebenchmarks.com/nli.html',\n",
    "        'reference': 'https://github.com/CLUEbenchmark/OCNLI/blob/main/README.md?plain=1#L59'\n",
    "    },\n",
    "    {\n",
    "        'leaderboard': 'https://github.com/princeton-nlp/CharXiv',\n",
    "        'reference': ''\n",
    "    },\n",
    "    {\n",
    "        'leaderboard': 'https://huggingface.co/spaces/TIGER-Lab/LongICL-Leaderboard',\n",
    "        'reference': 'https://github.com/TIGER-AI-Lab/LongICLBench/blob/main/README.md?plain=1#L6'\n",
    "    },\n",
    "    {\n",
    "        'leaderboard': 'https://github.com/CLUEbenchmark/CLUE',\n",
    "        'reference': 'https://github.com/shibing624/pytextclassifier/blob/master/README.md?plain=1#L549'\n",
    "    },\n",
    "    {\n",
    "        'leaderboard': 'https://leaderboard.allenai.org/drop',\n",
    "        'reference': 'https://github.com/llamazing/numnet_plus/blob/master/README.md?plain=1#L3'\n",
    "    },\n",
    "    {\n",
    "        'leaderboard': 'https://huggingface.co/spaces/open-llm-leaderboard/open_llm_leaderboard',\n",
    "        'reference': 'https://github.com/MLGroupJLU/LLM-eval-survey/blob/main/README.md?plain=1#L343'\n",
    "    },\n",
    "    {\n",
    "        'leaderboard': 'https://agora-evaluation.is.tuebingen.mpg.de',\n",
    "        'reference': 'https://github.com/ttxskk/AiOS/blob/main/README.md?plain=1#L288'\n",
    "    },\n",
    "    {\n",
    "        'leaderboard': 'https://www.nuscenes.org/object-detection',\n",
    "        'reference': 'https://github.com/HorizonRobotics/Sparse4D/blob/main/README.md?plain=1#L59'\n",
    "    },\n",
    "    {\n",
    "        'leaderboard': 'https://eval.ai/web/challenges/challenge-page/163/leaderboard',\n",
    "        'reference': 'https://github.com/airsplay/lxmert/blob/master/README.md?plain=1#L132'\n",
    "    },\n",
    "    {\n",
    "        'leaderboard': 'https://eval.ai/web/challenges/challenge-page/225/leaderboard',\n",
    "        'reference': 'https://github.com/airsplay/lxmert/blob/master/README.md?plain=1#L216'\n",
    "    },\n",
    "    {\n",
    "        'leaderboard': 'https://eval.ai/web/challenges/challenge-page/225/leaderboard',\n",
    "        'reference': 'https://github.com/airsplay/lxmert/blob/master/README.md?plain=1#L216'\n",
    "    },\n",
    "    {\n",
    "        'leaderboard': 'https://lil.nlp.cornell.edu/nlvr',\n",
    "        'reference': 'https://github.com/airsplay/lxmert/blob/master/README.md?plain=1#L271'\n",
    "    },\n",
    "    {\n",
    "        'leaderboard': 'https://evalplus.github.io/leaderboard.html',\n",
    "        'reference': 'https://github.com/ise-uiuc/magicoder/blob/main/README.md?plain=1#L38'\n",
    "    },\n",
    "    {\n",
    "        'leaderboard': 'https://huggingface.co/spaces/mteb/leaderboard',\n",
    "        'reference': 'https://github.com/qdrant/fastembed/blob/main/README.md?plain=1#L5'\n",
    "    },\n",
    "    {\n",
    "        'leaderboard': 'https://leaderboard.tabbyml.com',\n",
    "        'reference': 'https://github.com/deepseek-ai/awesome-deepseek-coder/blob/main/README.md?plain=1#L49'\n",
    "    },\n",
    "    {\n",
    "        'leaderboard': 'https://huggingface.co/spaces/open-llm-leaderboard/open_llm_leaderboard',\n",
    "        'reference': 'https://github.com/merveenoyan/awesome-osml-for-devs/blob/main/README.md?plain=1#L130'\n",
    "    },\n",
    "    {\n",
    "        'leaderboard': 'https://mixeval.github.io/#leaderboard',\n",
    "        'reference': 'https://github.com/Psycoy/MixEval/blob/main/README.md?plain=1#L4'\n",
    "    },\n",
    "    {\n",
    "        'leaderboard': 'https://github.com/BAAI-DCAI/Multimodal-Robustness-Benchmark',\n",
    "        'reference': ''\n",
    "    },\n",
    "    {\n",
    "        'leaderboard': 'https://vlue-benchmark.github.io/leaderboard.html',\n",
    "        'reference': 'https://github.com/MichaelZhouwang/VLUE/blob/main/README.md?plain=1#L6'\n",
    "    },\n",
    "    {\n",
    "        'leaderboard': 'https://www.nuscenes.org/object-detection',\n",
    "        'reference': 'https://github.com/hht1996ok/EA-LSS/blob/main/README.md?plain=1#L6'\n",
    "    },\n",
    "    {\n",
    "        'leaderboard': 'https://github.com/ZaloAI-Jaist/VMLU',\n",
    "        'reference': ''\n",
    "    },\n",
    "    {\n",
    "        'leaderboard': 'https://github.com/hkust-nlp/ceval',\n",
    "        'reference': 'https://github.com/NicholasCao/Awesome-Chinese-ChatGPT/blob/main/README.md?plain=1#L24'\n",
    "    },\n",
    "    {\n",
    "        'leaderboard': 'https://lmarena.ai/?leaderboard',\n",
    "        'reference': 'https://github.com/NicholasCao/Awesome-Chinese-ChatGPT/blob/main/README.md?plain=1#L25'\n",
    "    },\n",
    "    {\n",
    "        'leaderboard': 'https://www.superclueai.com',\n",
    "        'reference': 'https://github.com/NicholasCao/Awesome-Chinese-ChatGPT/blob/main/README.md?plain=1#L26'\n",
    "    },\n",
    "    {\n",
    "        'leaderboard': 'https://huggingface.co/spaces/open-llm-leaderboard/open_llm_leaderboard',\n",
    "        'reference': 'https://github.com/NicholasCao/Awesome-Chinese-ChatGPT/blob/main/README.md?plain=1#L27'\n",
    "    },\n",
    "    {\n",
    "        'leaderboard': 'https://github.com/wangxw5/wikiDiverse',\n",
    "        'reference': ''\n",
    "    },\n",
    "    {\n",
    "        'leaderboard': 'https://csgaobb.github.io/Projects/mscoco-fsod.html',\n",
    "        'reference': 'https://github.com/gaobb/Few-Shot-Object-Detection-Papers/blob/master/README.md?plain=1#L7'\n",
    "    },\n",
    "    {\n",
    "        'leaderboard': 'https://csgaobb.github.io/Projects/pascalvoc-fsod.html',\n",
    "        'reference': 'https://github.com/gaobb/Few-Shot-Object-Detection-Papers/blob/master/README.md?plain=1#L7'\n",
    "    },\n",
    "    {\n",
    "        'leaderboard': 'https://superbbenchmark.org/leaderboard',\n",
    "        'reference': 'https://github.com/sungnyun/ARMHuBERT/blob/master/README.md?plain=1#L26'\n",
    "    },\n",
    "    {\n",
    "        'leaderboard': 'https://github.com/THUDM/LongBench',\n",
    "        'reference': 'https://github.com/DAMO-NLP-SG/CLEX/blob/main/README.md?plain=1#L162'\n",
    "    },\n",
    "    {\n",
    "        'leaderboard': 'https://huggingface.co/spaces/lmsys/chatbot-arena-leaderboard',\n",
    "        'reference': 'https://github.com/leobeeson/llm_benchmarks/blob/master/README.md?plain=1#L316'\n",
    "    },\n",
    "    {\n",
    "        'leaderboard': 'https://paperswithcode.com/sota/long-context-understanding-on-mmneedle',\n",
    "        'reference': 'https://github.com/Wang-ML-Lab/multimodal-needle-in-a-haystack/blob/main/README.md?plain=1#L14'\n",
    "    },\n",
    "    {\n",
    "        'leaderboard': 'https://paperswithcode.com/sota/unsupervised-domain-adaptation-on-ucf-hmdb',\n",
    "        'reference': 'https://github.com/ldkong1205/TranSVAE/blob/main/README.md?plain=1#L67'\n",
    "    },\n",
    "    {\n",
    "        'leaderboard': 'https://paperswithcode.com/sota/unsupervised-domain-adaptation-on-jester',\n",
    "        'reference': 'https://github.com/ldkong1205/TranSVAE/blob/main/README.md?plain=1#L67'\n",
    "    },\n",
    "    {\n",
    "        'leaderboard': 'https://paperswithcode.com/sota/unsupervised-domain-adaptation-on-epic',\n",
    "        'reference': 'https://github.com/ldkong1205/TranSVAE/blob/main/README.md?plain=1#L67'\n",
    "    },\n",
    "    {\n",
    "        'leaderboard': 'https://huggingface.co/spaces/open-llm-leaderboard/open_llm_leaderboard',\n",
    "        'reference': 'https://github.com/chenking2020/FindTheChatGPTer/blob/main/README.md?plain=1#L539'\n",
    "    },\n",
    "    {\n",
    "        'leaderboard': 'https://cevalbenchmark.com/static/leaderboard.html',\n",
    "        'reference': 'https://github.com/chenking2020/FindTheChatGPTer/blob/main/README.md?plain=1#L549'\n",
    "    },\n",
    "    {\n",
    "        'leaderboard': 'https://leaderboard.allenai.org/mslr-ms2',\n",
    "        'reference': 'https://github.com/allenai/ms2/blob/master/README.md?plain=1#L3'\n",
    "    },\n",
    "    {\n",
    "        'leaderboard': 'https://github.com/insikk/CBIR_LeaderBoard',\n",
    "        'reference': 'https://github.com/keloli/CBIR_EXPLORE/blob/master/README.md?plain=1#L6'\n",
    "    },\n",
    "    {\n",
    "        'leaderboard': 'https://github.com/opstower-ai/devops-ai-open-leaderboard',\n",
    "        'reference': ''\n",
    "    },\n",
    "    {\n",
    "        'leaderboard': 'https://www.cvlibs.net/datasets/kitti',\n",
    "        'reference': 'https://github.com/SeasonDepth/SeasonDepth/blob/master/README.md?plain=1#L2'\n",
    "    },\n",
    "    {\n",
    "        'leaderboard': 'https://github.com/haonan-li/CMMLU',\n",
    "        'reference': 'https://github.com/yangjianxin1/Firefly-LLaMA2-Chinese/blob/master/README.MD?plain=1#L112'\n",
    "    },\n",
    "    {\n",
    "        'leaderboard': 'https://open-compass.github.io/T-Eval/leaderboard.html',\n",
    "        'reference': 'https://github.com/tjtanaa/awesome-large-action-model/blob/main/README.md?plain=1#L20'\n",
    "    },\n",
    "    {\n",
    "        'leaderboard': 'https://huggingface.co/spaces/bigcode/bigcode-models-leaderboard',\n",
    "        'reference': 'https://github.com/codefuse-ai/MFTCoder/blob/main/README.md?plain=1#L55'\n",
    "    },\n",
    "    {\n",
    "        'leaderboard': 'http://host.robots.ox.ac.uk:8080/leaderboard/displaylb.php?challengeid=11&compid=4',\n",
    "        'reference': 'https://github.com/Smorodov/Deep-learning-object-detection-links./blob/master/readme.md?plain=1#L31'\n",
    "    },\n",
    "    {\n",
    "        'leaderboard': 'https://github.com/talk2car/Talk2Car',\n",
    "        'reference': ''\n",
    "    },\n",
    "    {\n",
    "        'leaderboard': 'https://atlas-challenge.u-bourgogne.fr/leaderboard',\n",
    "        'reference': 'https://github.com/uni-medical/STU-Net/blob/main/README.md?plain=1#L11'\n",
    "    },\n",
    "    {\n",
    "        'leaderboard': 'https://sppin.grand-challenge.org/evaluation/final-test-phase/leaderboard',\n",
    "        'reference': 'https://github.com/uni-medical/STU-Net/blob/main/README.md?plain=1#L12'\n",
    "    },\n",
    "    {\n",
    "        'leaderboard': 'https://autopet-ii.grand-challenge.org/leaderboard',\n",
    "        'reference': 'https://github.com/uni-medical/STU-Net/blob/main/README.md?plain=1#L13'\n",
    "    },\n",
    "    {\n",
    "        'leaderboard': 'https://codalab.lisn.upsaclay.fr/competitions/12239',\n",
    "        'reference': 'https://github.com/uni-medical/STU-Net/blob/main/README.md?plain=1#L14'\n",
    "    },\n",
    "    {\n",
    "        'leaderboard': 'https://github.com/hkust-nlp/ceval',\n",
    "        'reference': ''\n",
    "    },\n",
    "    {\n",
    "        'leaderboard': 'https://huggingface.co/spaces/eduagarcia/open_pt_llm_leaderboard',\n",
    "        'reference': 'https://github.com/ruanchaves/napolab/blob/main/README.md?plain=1#L16'\n",
    "    },\n",
    "    {\n",
    "        'leaderboard': 'https://github.com/Instance-Search/Instance-Search',\n",
    "        'reference': ''\n",
    "    },\n",
    "    {\n",
    "        'leaderboard': 'https://github.com/LudwigStumpp/llm-leaderboard',\n",
    "        'reference': ''\n",
    "    },\n",
    "    {\n",
    "        'leaderboard': 'https://huggingface.co/spaces/bigcode/bigcode-models-leaderboard',\n",
    "        'reference': 'https://github.com/bigcode-project/bigcode-evaluation-harness/blob/leaderboard/leaderboard/README.md?plain=1#L11'\n",
    "    },\n",
    "    {\n",
    "        'leaderboard': 'https://github.com/awslabs/diagnostic-robustness-text-to-sql',\n",
    "        'reference': ''\n",
    "    },\n",
    "    {\n",
    "        'leaderboard': 'https://openlamm.github.io/ch3ef/leaderboard.html',\n",
    "        'reference': 'https://github.com/OpenGVLab/LAMM/blob/main/README.md?plain=1#L15'\n",
    "    },\n",
    "    {\n",
    "        'leaderboard': 'https://visualcommonsense.com/leaderboard',\n",
    "        'reference': 'https://github.com/ict-bigdatalab/awesome-pretrained-models-for-information-retrieval/blob/main/README.md?plain=1#L513'\n",
    "    },\n",
    "    {\n",
    "        'leaderboard': 'https://stanfordmlgroup.github.io/competitions/mrnet',\n",
    "        'reference': 'https://github.com/MisaOgura/MRNet/blob/master/README.md?plain=1#L278'\n",
    "    },\n",
    "    {\n",
    "        'leaderboard': 'https://huggingface.co/spaces/open-llm-leaderboard/open_llm_leaderboard',\n",
    "        'reference': 'https://github.com/GPT-Alternatives/gpt_alternatives/blob/main/README.md?plain=1#L271'\n",
    "    },\n",
    "    {\n",
    "        'leaderboard': 'https://github.com/salesforce/localization-xml-mt',\n",
    "        'reference': ''\n",
    "    },\n",
    "    {\n",
    "        'leaderboard': 'https://github.com/ldkong1205/PointCloud-C',\n",
    "        'reference': ''\n",
    "    },\n",
    "    {\n",
    "        'leaderboard': 'https://github.com/AsuradaYuci/awesome_video_person_reid/blob/master/leaderboard.md',\n",
    "        'reference': ''\n",
    "    },\n",
    "    {\n",
    "        'leaderboard': 'https://github.com/THUDM/ChatGLM-Math',\n",
    "        'reference': ''\n",
    "    },\n",
    "    {\n",
    "        'leaderboard': 'https://github.com/LMMMEng/LLD-MMRI2023/blob/main/assets/test_leaderboard.md',\n",
    "        'reference': ''\n",
    "    },\n",
    "    {\n",
    "        'leaderboard': 'https://github.com/jianguoz/Few-Shot-Intent-Detection',\n",
    "        'reference': ''\n",
    "    },\n",
    "    {\n",
    "        'leaderboard': 'https://eval.ai/web/challenges/challenge-page/1256/leaderboard',\n",
    "        'reference': 'https://github.com/neurallatents/nlb_tools/blob/main/README.md?plain=1#L35'\n",
    "    },\n",
    "    {\n",
    "        'leaderboard': 'https://www.aicrowd.com/challenges/music-demixing-challenge-ismir-2021/leaderboards',\n",
    "        'reference': 'https://github.com/AIcrowd/music-demixing-challenge-starter-kit/blob/master/README.md?plain=1#L194'\n",
    "    },\n",
    "    {\n",
    "        'leaderboard': 'https://yale-lily.github.io/spider',\n",
    "        'reference': 'https://github.com/taoyds/spider/blob/master/README.md?plain=1#L3'\n",
    "    },\n",
    "    {\n",
    "        'leaderboard': 'https://www.nist.gov/programs-projects/face-technology-evaluations-frtefate',\n",
    "        'reference': 'https://github.com/becauseofAI/awesome-face/blob/master/README.md?plain=1#L465'\n",
    "    },\n",
    "    {\n",
    "        'leaderboard': 'https://comma.ai/leaderboard',\n",
    "        'reference': 'https://github.com/commaai/controls_challenge/blob/master/README.md?plain=1#L8'\n",
    "    },\n",
    "    {\n",
    "        'leaderboard': 'https://leaderboard.allenai.org/sherlock',\n",
    "        'reference': 'https://github.com/allenai/sherlock/blob/main/README.md?plain=1#L22'\n",
    "    },\n",
    "    {\n",
    "        'leaderboard': 'https://github.com/michuanhaohao/AICITY2021_Track2_DMT',\n",
    "        'reference': ''\n",
    "    },\n",
    "    {\n",
    "        'leaderboard': 'https://opendrivelab.com/challenge2023',\n",
    "        'reference': 'https://github.com/er-muyue/BeMapNet/blob/main/README.md?plain=1#L11'\n",
    "    },\n",
    "    {\n",
    "        'leaderboard': 'http://host.robots.ox.ac.uk/leaderboard/displaylb.php?challengeid=11',\n",
    "        'reference': 'https://github.com/openaifab/hair/blob/master/README.md?plain=1#L62'\n",
    "    },\n",
    "    {\n",
    "        'leaderboard': 'https://paperswithcode.com/task/image-super-resolution',\n",
    "        'reference': 'https://github.com/isaaccorley/pytorch-enhance/blob/master/README.md?plain=1#L55'\n",
    "    },\n",
    "    {\n",
    "        'leaderboard': 'http://host.robots.ox.ac.uk:8080/leaderboard/displaylb.php?challengeid=11&compid=6',\n",
    "        'reference': 'https://github.com/autonomousdrivingkr/Awesome-Autonomous-Driving/blob/master/README.md?plain=1#L143'\n",
    "    },\n",
    "    {\n",
    "        'leaderboard': 'https://huggingface.co/spaces/instructkr/ko-chatbot-arena-leaderboard',\n",
    "        'reference': 'https://github.com/HeegyuKim/open-korean-instructions/blob/main/README.md?plain=1#L73'\n",
    "    },\n",
    "    {\n",
    "        'leaderboard': 'https://huggingface.co/spaces/instructkr/LogicKor-leaderboard',\n",
    "        'reference': 'https://github.com/HeegyuKim/open-korean-instructions/blob/main/README.md?plain=1#L74'\n",
    "    },\n",
    "    {\n",
    "        'leaderboard': 'https://lil.nlp.cornell.edu/nlvr',\n",
    "        'reference': 'https://github.com/lil-lab/nlvr/blob/master/README.md?plain=1#L7'\n",
    "    },\n",
    "    {\n",
    "        'leaderboard': 'https://github.com/cardiffnlp/tweeteval',\n",
    "        'reference': ''\n",
    "    },\n",
    "    {\n",
    "        'leaderboard': 'https://nealcly.github.io/MuTual-leaderboard',\n",
    "        'reference': 'https://github.com/Nealcly/MuTual/blob/master/README.md?plain=1#L65'\n",
    "    },\n",
    "    {\n",
    "        'leaderboard': 'https://www.kaggle.com/c/imaterialist-challenge-furniture-2018/leaderboard',\n",
    "        'reference': 'https://github.com/skrypka/imaterialist-furniture-2018/blob/master/README.md?plain=1#L3'\n",
    "    },\n",
    "    {\n",
    "        'leaderboard': 'https://www.nuscenes.org/tracking',\n",
    "        'reference': 'https://github.com/dvlab-research/VoxelNeXt/blob/master/README.md?plain=1#L21'\n",
    "    },\n",
    "    {\n",
    "        'leaderboard': 'https://paperswithcode.com/sota/instance-segmentation-on-coco-minival',\n",
    "        'reference': 'https://github.com/IDEA-Research/DN-DETR/blob/main/README.md?plain=1#L22'\n",
    "    },\n",
    "    {\n",
    "        'leaderboard': 'https://paperswithcode.com/sota/panoptic-segmentation-on-coco-minival',\n",
    "        'reference': 'https://github.com/IDEA-Research/DN-DETR/blob/main/README.md?plain=1#L22'\n",
    "    },\n",
    "    {\n",
    "        'leaderboard': 'https://paperswithcode.com/sota/semantic-segmentation-on-ade20k',\n",
    "        'reference': 'https://github.com/IDEA-Research/DN-DETR/blob/main/README.md?plain=1#L22'\n",
    "    },\n",
    "    {\n",
    "        'leaderboard': 'https://few-shot.yyliu.net/miniimagenet.html',\n",
    "        'reference': 'https://github.com/icoz69/DeepEMD/blob/master/README.md?plain=1#L13'\n",
    "    },\n",
    "    {\n",
    "        'leaderboard': 'https://insightface.ai/mfr21',\n",
    "        'reference': 'https://github.com/deepinsight/insightface/blob/master/README.md?plain=1#L70'\n",
    "    },\n",
    "    {\n",
    "        'leaderboard': 'https://codalab.lisn.upsaclay.fr/competitions/12599',\n",
    "        'reference': 'https://github.com/dongkyunk/CheXFusion/blob/main/README.md?plain=1#L27'\n",
    "    },\n",
    "    {\n",
    "        'leaderboard': 'https://github.com/openai/gym/wiki/Leaderboard',\n",
    "        'reference': 'https://github.com/dgriff777/rl_a3c_pytorch/blob/master/README.MD?plain=1#L22'\n",
    "    },\n",
    "    {\n",
    "        'leaderboard': 'https://paperswithcode.com/sota/semi-supervised-semantic-segmentation-on-25',\n",
    "        'reference': 'https://github.com/ldkong1205/LaserMix/blob/main/README.md?plain=1#L73'\n",
    "    },\n",
    "    {\n",
    "        'leaderboard': 'https://paperswithcode.com/sota/semi-supervised-semantic-segmentation-on-24',\n",
    "        'reference': 'https://github.com/ldkong1205/LaserMix/blob/main/README.md?plain=1#L73'\n",
    "    },\n",
    "    {\n",
    "        'leaderboard': 'https://paperswithcode.com/sota/semi-supervised-semantic-segmentation-on-23',\n",
    "        'reference': 'https://github.com/ldkong1205/LaserMix/blob/main/README.md?plain=1#L73'\n",
    "    },\n",
    "    {\n",
    "        'leaderboard': 'https://paperswithcode.com/paper/lasermix-for-semi-supervised-lidar-semantic',\n",
    "        'reference': 'https://github.com/ldkong1205/LaserMix/blob/main/README.md?plain=1#L73'\n",
    "    },\n",
    "    {\n",
    "        'leaderboard': 'https://github.com/Coder-Yu/SELFRec',\n",
    "        'reference': ''\n",
    "    },\n",
    "    {\n",
    "        'leaderboard': 'https://arctic-leaderboard.is.tuebingen.mpg.de/leaderboard',\n",
    "        'reference': 'https://github.com/zc-alexfan/arctic/blob/master/README.md?plain=1#L44'\n",
    "    },\n",
    "    {\n",
    "        'leaderboard': 'https://paperswithcode.com/sota/text-to-sql-on-kaggledbqa',\n",
    "        'reference': 'https://github.com/Chia-Hsuan-Lee/KaggleDBQA/blob/main/README.md?plain=1#L4'\n",
    "    },\n",
    "    {\n",
    "        'leaderboard': 'http://ccl.pku.edu.cn:8084/SpaCE2021/rank',\n",
    "        'reference': 'https://github.com/2030NLP/SpaCE2021/blob/main/README.md?plain=1#L98'\n",
    "    },\n",
    "    {\n",
    "        'leaderboard': 'http://ccl.pku.edu.cn:8084/SpaCE2021/rank',\n",
    "        'reference': 'https://github.com/z-fabian/HUMUS-Net/blob/master/README.md?plain=1#L22'\n",
    "    },\n",
    "    {\n",
    "        'leaderboard': 'https://github.com/MinghuiChen43/CIL-ReID',\n",
    "        'reference': ''\n",
    "    },\n",
    "    {\n",
    "        'leaderboard': 'https://github.com/pddasig/Machine-Learning-Competition-2020',\n",
    "        'reference': ''\n",
    "    },\n",
    "    {\n",
    "        'leaderboard': 'https://yale-lily.github.io/spider',\n",
    "        'reference': 'https://github.com/BeachWang/DAIL-SQL/blob/main/README.md?plain=1#L4'\n",
    "    },\n",
    "    {\n",
    "        'leaderboard': 'http://got-10k.aitestunion.com/leaderboard',\n",
    "        'reference': 'https://github.com/wangdongdut/Online-Visual-Tracking-SOTA/blob/master/README.md?plain=1#L116'\n",
    "    },\n",
    "    {\n",
    "        'leaderboard': 'https://huggingface.co/spaces/open-llm-leaderboard/open_llm_leaderboard',\n",
    "        'reference': 'https://github.com/Pan-ML/panml/blob/main/README.md?plain=1#L25'\n",
    "    },\n",
    "    {\n",
    "        'leaderboard': 'https://huggingface.co/spaces/Slep/LRVSF-Leaderboard',\n",
    "        'reference': 'https://github.com/Simon-Lepage/CondViT-LRVSF/blob/main/README.md?plain=1#L28'\n",
    "    },\n",
    "    {\n",
    "        'leaderboard': 'https://mmbench.opencompass.org.cn/leaderboard',\n",
    "        'reference': 'https://github.com/open-compass/MMBench/blob/main/README.md?plain=1#L26'\n",
    "    },\n",
    "    {\n",
    "        'leaderboard': 'https://github.com/THUDM/VisualAgentBench',\n",
    "        'reference': ''\n",
    "    },\n",
    "    {\n",
    "        'leaderboard': 'https://www.kaggle.com/c/nyu-cv-fall-2018/leaderboard',\n",
    "        'reference': 'https://github.com/poojahira/gtsrb-pytorch/blob/master/README.md?plain=1#L5'\n",
    "    },\n",
    "    {\n",
    "        'leaderboard': 'https://github.com/lupantech/PromptPG',\n",
    "        'reference': ''\n",
    "    },\n",
    "    {\n",
    "        'leaderboard': 'https://huggingface.co/spaces/vidore/vidore-leaderboard',\n",
    "        'reference': 'https://github.com/illuin-tech/vidore-benchmark/blob/main/README.md?plain=1#L14'\n",
    "    },\n",
    "    {\n",
    "        'leaderboard': 'https://www.kaggle.com/competitions/mlsp-2013-birds/leaderboard',\n",
    "        'reference': 'https://github.com/gaborfodor/MLSP_2013/blob/master/readme.md?plain=1#L42'\n",
    "    },\n",
    "    {\n",
    "        'leaderboard': 'https://github.com/shjung13/Standardized-max-logits',\n",
    "        'reference': ''\n",
    "    },\n",
    "    {\n",
    "        'leaderboard': 'https://github.com/k2-fsa/libriheavy',\n",
    "        'reference': ''\n",
    "    },\n",
    "    {\n",
    "        'leaderboard': 'http://got-10k.aitestunion.com/leaderboard',\n",
    "        'reference': 'https://github.com/huanglianghua/siamrpn-pytorch/blob/master/README.md?plain=1#L13'\n",
    "    },\n",
    "    {\n",
    "        'leaderboard': 'https://github.com/Xtra-Computing/NIID-Bench',\n",
    "        'reference': ''\n",
    "    },\n",
    "    {\n",
    "        'leaderboard': 'https://github.com/brohrer/parameter_efficiency_leaderboard',\n",
    "        'reference': ''\n",
    "    },\n",
    "    {\n",
    "        'leaderboard': 'https://eval.ai/web/challenges/challenge-page/1247/leaderboard',\n",
    "        'reference': 'https://github.com/SoonminHwang/rgbt-ped-detection/blob/master/README.md?plain=1#L4'\n",
    "    },\n",
    "    {\n",
    "        'leaderboard': 'https://visualcommonsense.com/leaderboard',\n",
    "        'reference': 'https://github.com/zhegan27/VILLA/blob/main/README.md?plain=1#L130'\n",
    "    },\n",
    "    {\n",
    "        'leaderboard': 'https://microsoft.github.io/AirSim-NeurIPS2019-Drone-Racing/leaderboard_final.html',\n",
    "        'reference': 'https://github.com/microsoft/AirSim-NeurIPS2019-Drone-Racing/blob/master/README.md?plain=1#L206'\n",
    "    },\n",
    "    {\n",
    "        'leaderboard': 'https://huggingface.co/spaces/BestWishYsh/ChronoMagic-Bench',\n",
    "        'reference': 'https://github.com/yhZhai/mcm/blob/main/README.md?plain=1#L19'\n",
    "    },\n",
    "    {\n",
    "        'leaderboard': 'https://github.com/hemingkx/Spec-Bench/blob/main/Leaderboard.md',\n",
    "        'reference': ''\n",
    "    },\n",
    "    {\n",
    "        'leaderboard': 'https://open-xai.github.io/leaderboard',\n",
    "        'reference': 'https://github.com/AI4LIFE-GROUP/OpenXAI/blob/main/README.md?plain=1#L20'\n",
    "    },\n",
    "    {\n",
    "        'leaderboard': 'https://rank.opencompass.org.cn/leaderboard-llm',\n",
    "        'reference': 'https://github.com/TommyZihao/ChatMarx/blob/main/README.md?plain=1#L129'\n",
    "    },\n",
    "    {\n",
    "        'leaderboard': 'https://eval.ai/web/challenges/challenge-page/454/leaderboard',\n",
    "        'reference': 'https://github.com/ZikangZhou/QCNet/blob/main/README.md?plain=1#L9'\n",
    "    },\n",
    "    {\n",
    "        'leaderboard': 'https://eval.ai/web/challenges/challenge-page/1719/leaderboard',\n",
    "        'reference': 'https://github.com/ZikangZhou/QCNet/blob/main/README.md?plain=1#L10'\n",
    "    },\n",
    "    {\n",
    "        'leaderboard': 'https://paperswithcode.com/sota/change-point-detection-on-tep',\n",
    "        'reference': 'https://github.com/YKatser/CPDE/blob/master/README.md?plain=1#L6'\n",
    "    },\n",
    "    {\n",
    "        'leaderboard': 'https://paperswithcode.com/sota/change-point-detection-on-skab',\n",
    "        'reference': 'https://github.com/YKatser/CPDE/blob/master/README.md?plain=1#L22'\n",
    "    },\n",
    "    {\n",
    "        'leaderboard': 'https://github.com/ai-forever/digital_peter_aij2020',\n",
    "        'reference': ''\n",
    "    },\n",
    "    {\n",
    "        'leaderboard': 'https://huggingface.co/spaces/echo840/ocrbench-leaderboard',\n",
    "        'reference': 'https://github.com/Yuliang-Liu/MultimodalOCR/blob/main/README.md?plain=1#L6'\n",
    "    },\n",
    "    {\n",
    "        'leaderboard': 'https://leaderboard.sea-lion.ai',\n",
    "        'reference': 'https://github.com/aisingapore/sealion/blob/main/README.md?plain=1#L81'\n",
    "    },\n",
    "    {\n",
    "        'leaderboard': 'https://paperswithcode.com/sota/image-harmonization-on-iharmony4',\n",
    "        'reference': 'https://github.com/bcmi/Awesome-Image-Harmonization/blob/master/README.md?plain=1#L35'\n",
    "    },\n",
    "    {\n",
    "        'leaderboard': 'https://challenge.isic-archive.com/landing/2018',\n",
    "        'reference': 'https://github.com/ngessert/isic2018/blob/master/README.md?plain=1#L4'\n",
    "    },\n",
    "    {\n",
    "        'leaderboard': 'https://huggingface.co/spaces/open-llm-leaderboard/open_llm_leaderboard',\n",
    "        'reference': 'https://github.com/chujiezheng/LLM-Extrapolation/blob/main/README.md?plain=1#L78'\n",
    "    },\n",
    "    {\n",
    "        'leaderboard': 'https://tatsu-lab.github.io/alpaca_eval',\n",
    "        'reference': 'https://github.com/chujiezheng/LLM-Extrapolation/blob/main/README.md?plain=1#L80'\n",
    "    },\n",
    "    {\n",
    "        'leaderboard': 'https://aider.chat/docs/leaderboards',\n",
    "        'reference': 'https://github.com/chujiezheng/LLM-Extrapolation/blob/main/README.md?plain=1#L80'\n",
    "    },\n",
    "    {\n",
    "        'leaderboard': 'https://opening-up-chatgpt.github.io',\n",
    "        'reference': 'https://github.com/opening-up-chatgpt/opening-up-chatgpt.github.io/blob/main/readme.md?plain=1#L1'\n",
    "    },\n",
    "    {\n",
    "        'leaderboard': 'https://leaderboard.allenai.org/visualcomet',\n",
    "        'reference': 'https://github.com/jamespark3922/visual-comet/blob/master/README.md?plain=1#L153'\n",
    "    },\n",
    "    {\n",
    "        'leaderboard': 'https://github.com/StarStyleSky/awesome-face-detection',\n",
    "        'reference': ''\n",
    "    },\n",
    "    {\n",
    "        'leaderboard': 'https://github.com/junqiangchen/LiTS---Liver-Tumor-Segmentation-Challenge',\n",
    "        'reference': ''\n",
    "    },\n",
    "    {\n",
    "        'leaderboard': 'https://tgb.complexdatalab.com/docs/leader_linkprop',\n",
    "        'reference': 'https://github.com/shenyangHuang/TGB/blob/main/README.md?plain=1#L27'\n",
    "    },\n",
    "    {\n",
    "        'leaderboard': 'https://github.com/vztu/BVQA_Benchmark',\n",
    "        'reference': ''\n",
    "    },\n",
    "    {\n",
    "        'leaderboard': 'https://rrc.cvc.uab.es',\n",
    "        'reference': 'https://github.com/EriCongMa/awesome-transformer-ocr/blob/main/README.md?plain=1#L229'\n",
    "    },\n",
    "    {\n",
    "        'leaderboard': 'https://github.com/open-compass/BotChat',\n",
    "        'reference': ''\n",
    "    },\n",
    "    {\n",
    "        'leaderboard': 'https://trustllmbenchmark.github.io/TrustLLM-Website/leaderboard.html',\n",
    "        'reference': 'https://github.com/jphall663/awesome-machine-learning-interpretability/blob/master/README.md?plain=1#L1158'\n",
    "    },\n",
    "    {\n",
    "        'leaderboard': 'https://www.aicrowd.com/challenges/music-demixing-challenge-ismir-2021/leaderboards',\n",
    "        'reference': 'https://github.com/yoyololicon/music-demixing-challenge-ismir-2021-entry/blob/master/README.md?plain=1#L1'\n",
    "    },\n",
    "    {\n",
    "        'leaderboard': 'https://leaderboard.allenai.org/a-okvqa',\n",
    "        'reference': 'https://github.com/allenai/aokvqa/blob/main/README.md?plain=1#L5'\n",
    "    },\n",
    "    {\n",
    "        'leaderboard': 'https://www.aicrowd.com/challenges/seismic-facies-identification-challenge/leaderboards',\n",
    "        'reference': 'https://github.com/AIcrowd/seismic-facies-identification-starter-kit/blob/master/README.md?plain=1#L8'\n",
    "    },\n",
    "    {\n",
    "        'leaderboard': 'https://github.com/haoweiz23/Awesome-Fine-grained-Visual-Classification',\n",
    "        'reference': ''\n",
    "    },\n",
    "    {\n",
    "        'leaderboard': 'https://hfl-rc.github.io/cmrc2017/leaderboard',\n",
    "        'reference': 'https://github.com/ymcui/Chinese-RC-Datasets/blob/master/README.md?plain=1#L63'\n",
    "    },\n",
    "    {\n",
    "        'leaderboard': 'https://aistudio.baidu.com/competition/detail/720/0/leaderboard',\n",
    "        'reference': 'https://github.com/ymcui/Chinese-RC-Datasets/blob/master/README.md?plain=1#L84'\n",
    "    },\n",
    "    {\n",
    "        'leaderboard': 'https://hfl-rc.github.io/cmrc2018/open_challenge',\n",
    "        'reference': 'https://github.com/ymcui/Chinese-RC-Datasets/blob/master/README.md?plain=1#L100'\n",
    "    },\n",
    "    {\n",
    "        'leaderboard': 'https://www.kaggle.com/c/landmark-recognition-2020/leaderboard',\n",
    "        'reference': 'https://github.com/bestfitting/instance_level_recognition/blob/main/README.md?plain=1#L5'\n",
    "    },\n",
    "    {\n",
    "        'leaderboard': 'https://huggingface.co/spaces/open-llm-leaderboard/open_llm_leaderboard',\n",
    "        'reference': 'https://github.com/baichuan-inc/Baichuan-7B/blob/main/README.md?plain=1#L128'\n",
    "    },\n",
    "    {\n",
    "        'leaderboard': 'https://github.com/google-research-datasets/seahorse',\n",
    "        'reference': ''\n",
    "    },\n",
    "    {\n",
    "        'leaderboard': 'https://github.com/netease-youdao/BCEmbedding',\n",
    "        'reference': ''\n",
    "    },\n",
    "    {\n",
    "        'leaderboard': 'https://github.com/yxgeee/MMT-plus',\n",
    "        'reference': ''\n",
    "    },\n",
    "    {\n",
    "        'leaderboard': 'https://github.com/infinigence/LVEval',\n",
    "        'reference': ''\n",
    "    },\n",
    "    {\n",
    "        'leaderboard': 'https://stanfordnlp.github.io/coqa',\n",
    "        'reference': 'https://github.com/stevezheng23/xlnet_extension_tf/blob/master/README.md?plain=1#L2'\n",
    "    },\n",
    "    {\n",
    "        'leaderboard': 'https://quac.ai',\n",
    "        'reference': 'https://github.com/stevezheng23/xlnet_extension_tf/blob/master/README.md?plain=1#L4'\n",
    "    },\n",
    "    {\n",
    "        'leaderboard': 'https://huggingface.co/spaces/mteb/leaderboard',\n",
    "        'reference': 'https://github.com/CoIR-team/coir/blob/main/README.md?plain=1#L24'\n",
    "    },\n",
    "    {\n",
    "        'leaderboard': 'https://archersama.github.io/coir',\n",
    "        'reference': 'https://github.com/CoIR-team/coir/blob/main/README.md?plain=1#L24'\n",
    "    },\n",
    "    {\n",
    "        'leaderboard': 'https://huggingface.co/spaces/open-llm-leaderboard/open_llm_leaderboard',\n",
    "        'reference': 'https://github.com/Xwin-LM/Xwin-LM/blob/main/README.md?plain=1#L83'\n",
    "    },\n",
    "    {\n",
    "        'leaderboard': 'https://www.aicrowd.com/challenges/food-recognition-benchmark-2022/leaderboards',\n",
    "        'reference': 'https://github.com/AIcrowd/food-recognition-benchmark-starter-kit/blob/master/README.md?plain=1#L193'\n",
    "    },\n",
    "    {\n",
    "        'leaderboard': 'https://leaderboard.carla.org/leaderboard',\n",
    "        'reference': 'https://github.com/carla-simulator/scenario_runner/blob/master/README.md?plain=1#L49'\n",
    "    },\n",
    "    {\n",
    "        'leaderboard': 'https://rajpurkar.github.io/SQuAD-explorer',\n",
    "        'reference': 'https://github.com/Nagakiran1/Extending-Google-BERT-as-Question-and-Answering-model-and-Chatbot/blob/master/README.md?plain=1#L422'\n",
    "    },\n",
    "    {\n",
    "        'leaderboard': 'https://github.com/yanyanSann/Long-Tailed-Classification-Leaderboard',\n",
    "        'reference': 'https://github.com/Keke921/GCLLoss/blob/main/README.md?plain=1#L65'\n",
    "    },\n",
    "    {\n",
    "        'leaderboard': 'https://huggingface.co/spaces/open-llm-leaderboard/open_llm_leaderboard',\n",
    "        'reference': 'https://github.com/yongzhuo/qwen2-sft/blob/master/README.md?plain=1#L106'\n",
    "    },\n",
    "    {\n",
    "        'leaderboard': 'https://eval.ai/web/challenges/challenge-page/103/leaderboard',\n",
    "        'reference': 'https://github.com/batra-mlp-lab/visdial/blob/master/README.md?plain=1#L293'\n",
    "    },\n",
    "    {\n",
    "        'leaderboard': 'https://github.com/FormulaMonks/llm-benchmarker-suite',\n",
    "        'reference': ''\n",
    "    },\n",
    "    {\n",
    "        'leaderboard': 'https://github.com/inspire-group/patch-defense-leaderboard',\n",
    "        'reference': 'https://github.com/inspire-group/PatchGuard/blob/master/README.md?plain=1#L9'\n",
    "    },\n",
    "    {\n",
    "        'leaderboard': 'https://github.com/open-mmlab/OpenUnReID/blob/master/docs/LEADERBOARD.md',\n",
    "        'reference': ''\n",
    "    },\n",
    "    {\n",
    "        'leaderboard': 'https://github.com/declare-lab/instruct-eval',\n",
    "        'reference': ''\n",
    "    },\n",
    "    {\n",
    "        'leaderboard': 'https://github.com/VITA-Group/Deep_GCN_Benchmarking',\n",
    "        'reference': ''\n",
    "    },\n",
    "    {\n",
    "        'leaderboard': 'https://dki-lab.github.io/GrailQA',\n",
    "        'reference': 'https://github.com/microsoft/vert-papers/blob/master/README.md?plain=1#L16'\n",
    "    },\n",
    "    {\n",
    "        'leaderboard': 'https://mathverse-cuhk.github.io/#leaderboard',\n",
    "        'reference': 'https://github.com/ZrrSkywalker/MAVIS/blob/main/README.md?plain=1#L10'\n",
    "    },\n",
    "    {\n",
    "        'leaderboard': 'https://eval.ai/web/challenges/challenge-page/244/leaderboard',\n",
    "        'reference': 'https://github.com/xinke-wang/Awesome-Text-VQA/blob/master/README.md?plain=1#L108'\n",
    "    },\n",
    "    {\n",
    "        'leaderboard': 'https://eval.ai/web/challenges/challenge-page/551/leaderboard',\n",
    "        'reference': 'https://github.com/xinke-wang/Awesome-Text-VQA/blob/master/README.md?plain=1#L109'\n",
    "    },\n",
    "    {\n",
    "        'leaderboard': 'https://rrc.cvc.uab.es/?ch=11&com=evaluation&task=1',\n",
    "        'reference': 'https://github.com/xinke-wang/Awesome-Text-VQA/blob/master/README.md?plain=1#L129'\n",
    "    },\n",
    "    {\n",
    "        'leaderboard': 'https://paperswithcode.com/dataset/popgym',\n",
    "        'reference': 'https://github.com/proroklab/popgym/blob/master/README.md?plain=1#L76'\n",
    "    },\n",
    "    {\n",
    "        'leaderboard': 'https://taolusi.github.io/CSpider-explorer',\n",
    "        'reference': 'https://github.com/taolusi/chisp/blob/master/README.md?plain=1#L7'\n",
    "    },\n",
    "    {\n",
    "        'leaderboard': 'https://huggingface.co/spaces/open-llm-leaderboard/open_llm_leaderboard',\n",
    "        'reference': 'https://github.com/mlabonne/llm-autoeval/blob/master/README.md?plain=1#L40'\n",
    "    },\n",
    "    {\n",
    "        'leaderboard': 'https://huggingface.co/spaces/mlabonne/Yet_Another_LLM_Leaderboard',\n",
    "        'reference': 'https://github.com/mlabonne/llm-autoeval/blob/master/README.md?plain=1#L67'\n",
    "    },\n",
    "    {\n",
    "        'leaderboard': 'https://gluebenchmark.com/leaderboard',\n",
    "        'reference': 'https://github.com/charles9n/bert-sklearn/blob/master/README.md?plain=1#L105'\n",
    "    },\n",
    "    {\n",
    "        'leaderboard': 'https://huggingface.co/spaces/open-llm-leaderboard/open_llm_leaderboard',\n",
    "        'reference': 'https://github.com/MIBlue119/awesome-llama-resources/blob/main/README.md?plain=1#L106'\n",
    "    },\n",
    "    {\n",
    "        'leaderboard': 'https://ml.energy/leaderboard',\n",
    "        'reference': 'https://github.com/AmberLJC/LLMSys-PaperList/blob/main/README.md?plain=1#L158'\n",
    "    },\n",
    "    {\n",
    "        'leaderboard': 'https://huggingface.co/spaces/optimum/llm-perf-leaderboard',\n",
    "        'reference': 'https://github.com/AmberLJC/LLMSys-PaperList/blob/main/README.md?plain=1#L159'\n",
    "    },\n",
    "    {\n",
    "        'leaderboard': 'https://huggingface.co/spaces/open-llm-leaderboard/open_llm_leaderboard',\n",
    "        'reference': 'https://github.com/AmberLJC/LLMSys-PaperList/blob/main/README.md?plain=1#L161'\n",
    "    },\n",
    "    {\n",
    "        'leaderboard': 'https://crfm.stanford.edu/helm',\n",
    "        'reference': 'https://github.com/AmberLJC/LLMSys-PaperList/blob/main/README.md?plain=1#L162'\n",
    "    },\n",
    "    {\n",
    "        'leaderboard': 'https://lmarena.ai/?leaderboard',\n",
    "        'reference': 'https://github.com/AmberLJC/LLMSys-PaperList/blob/main/README.md?plain=1#L163'\n",
    "    },\n",
    "    {\n",
    "        'leaderboard': 'https://huggingface.co/spaces/openlifescienceai/open_medical_llm_leaderboard',\n",
    "        'reference': 'https://github.com/AI-in-Health/MedLLMsPracticalGuide/blob/main/README.md?plain=1#L269'\n",
    "    },\n",
    "    {\n",
    "        'leaderboard': 'https://huggingface.co/spaces/open-llm-leaderboard/open_llm_leaderboard',\n",
    "        'reference': 'https://github.com/ymcui/Chinese-LLaMA-Alpaca-3/blob/main/README.md?plain=1#L240'\n",
    "    },\n",
    "    {\n",
    "        'leaderboard': 'https://github.com/RPC-Dataset/RPC-Leaderboard',\n",
    "        'reference': ''\n",
    "    },\n",
    "    {\n",
    "        'leaderboard': 'https://github.com/alibaba/AICITY2024_Track2_AliOpenTrek_CityLLaVA',\n",
    "        'reference': ''\n",
    "    },\n",
    "    {\n",
    "        'leaderboard': 'https://github.com/THUDM/SciGLM',\n",
    "        'reference': ''\n",
    "    },\n",
    "    {\n",
    "        'leaderboard': 'https://www.hilti-challenge.com',\n",
    "        'reference': 'https://github.com/Hilti-Research/hilti-slam-challenge-2021/blob/master/README.md?plain=1#L18'\n",
    "    },\n",
    "    {\n",
    "        'leaderboard': 'https://github.com/thu-coai/Safety-Prompts',\n",
    "        'reference': ''\n",
    "    },\n",
    "    {\n",
    "        'leaderboard': 'https://opendrivelab.com/challenge2023',\n",
    "        'reference': 'https://github.com/wenjie710/PivotNet/blob/main/README.md?plain=1#L8'\n",
    "    },\n",
    "    {\n",
    "        'leaderboard': 'https://www.crowdbenchmark.com/nwpucrowdloc.html',\n",
    "        'reference': 'https://github.com/taohan10200/Awesome-Crowd-Localization/blob/main/README.md?plain=1#L88'\n",
    "    },\n",
    "    {\n",
    "        'leaderboard': 'https://codalab.lisn.upsaclay.fr/competitions/17672',\n",
    "        'reference': 'https://github.com/cage-challenge/cage-challenge-4/blob/main/README.md?plain=1#L187'\n",
    "    },\n",
    "    {\n",
    "        'leaderboard': 'https://leaderboard.carla.org/leaderboard',\n",
    "        'reference': 'https://github.com/erdos-project/pylot/blob/master/README.md?plain=1#L266'\n",
    "    },\n",
    "    {\n",
    "        'leaderboard': 'https://huggingface.co/spaces/NexaAIDev/domain_llm_leaderboard',\n",
    "        'reference': 'https://github.com/NexaAI/octopus-v4/blob/main/README.md?plain=1#L26'\n",
    "    },\n",
    "    {\n",
    "        'leaderboard': 'https://github.com/shikras/d-cube/tree/main/eval_sota',\n",
    "        'reference': 'https://github.com/Charles-Xie/awesome-described-object-detection/blob/main/README.md?plain=1#L42'\n",
    "    },\n",
    "    {\n",
    "        'leaderboard': 'https://huggingface.co/spaces/opencompass/open_vlm_leaderboard',\n",
    "        'reference': 'https://github.com/scenarios/WeMM/blob/main/README.md?plain=1#L5'\n",
    "    },\n",
    "    {\n",
    "        'leaderboard': 'https://opencompass.org.cn/leaderboard-multimodal',\n",
    "        'reference': 'https://github.com/scenarios/WeMM/blob/main/README.md?plain=1#L15'\n",
    "    },\n",
    "    {\n",
    "        'leaderboard': 'https://github.com/GAIR-NLP/OpenResearcher',\n",
    "        'reference': ''\n",
    "    },\n",
    "    {\n",
    "        'leaderboard': 'https://huggingface.co/spaces/lmsys/chatbot-arena-leaderboard',\n",
    "        'reference': 'https://github.com/Hannibal046/Awesome-LLM/blob/main/README.md?plain=1#L132'\n",
    "    },\n",
    "    {\n",
    "        'leaderboard': 'https://mixeval.github.io/#leaderboard',\n",
    "        'reference': 'https://github.com/Hannibal046/Awesome-LLM/blob/main/README.md?plain=1#L133'\n",
    "    },\n",
    "    {\n",
    "        'leaderboard': 'https://tatsu-lab.github.io/alpaca_eval',\n",
    "        'reference': 'https://github.com/Hannibal046/Awesome-LLM/blob/main/README.md?plain=1#L134'\n",
    "    },\n",
    "    {\n",
    "        'leaderboard': 'https://huggingface.co/spaces/open-llm-leaderboard/open_llm_leaderboard',\n",
    "        'reference': 'https://github.com/Hannibal046/Awesome-LLM/blob/main/README.md?plain=1#L136'\n",
    "    },\n",
    "    {\n",
    "        'leaderboard': 'https://rank.opencompass.org.cn/leaderboard-llm',\n",
    "        'reference': 'https://github.com/Hannibal046/Awesome-LLM/blob/main/README.md?plain=1#L137'\n",
    "    },\n",
    "    {\n",
    "        'leaderboard': 'https://gorilla.cs.berkeley.edu/leaderboard.html',\n",
    "        'reference': 'https://github.com/Hannibal046/Awesome-LLM/blob/main/README.md?plain=1#L138'\n",
    "    },\n",
    "    {\n",
    "        'leaderboard': 'https://github.com/svilupp/Julia-LLM-Leaderboard',\n",
    "        'reference': 'https://github.com/svilupp/awesome-generative-ai-meets-julia-language/blob/main/README.md?plain=1#L95'\n",
    "    },\n",
    "    {\n",
    "        'leaderboard': 'https://github.com/ethz-spylab/rlhf_trojan_competition',\n",
    "        'reference': ''\n",
    "    },\n",
    "    {\n",
    "        'leaderboard': 'https://eval.ai/web/challenges/challenge-page/463/leaderboard',\n",
    "        'reference': 'https://github.com/zd11024/NaviLLM/blob/main/README.md?plain=1#L80'\n",
    "    },\n",
    "    {\n",
    "        'leaderboard': 'https://eval.ai/web/challenges/challenge-page/1715/leaderboard',\n",
    "        'reference': 'https://github.com/zd11024/NaviLLM/blob/main/README.md?plain=1#L80'\n",
    "    },\n",
    "    {\n",
    "        'leaderboard': 'https://github.com/bcmi/Image-Harmonization-Dataset-iHarmony4',\n",
    "        'reference': ''\n",
    "    },\n",
    "    {\n",
    "        'leaderboard': 'https://www.nuscenes.org/object-detection',\n",
    "        'reference': 'https://github.com/nv-tlabs/planning-centric-metrics/blob/master/README.md?plain=1#L26'\n",
    "    },\n",
    "    {\n",
    "        'leaderboard': 'https://www.kaggle.com/c/global-wheat-detection/leaderboard',\n",
    "        'reference': 'https://github.com/liaopeiyuan/TransferDet/blob/master/README.md?plain=1#L7'\n",
    "    },\n",
    "    {\n",
    "        'leaderboard': 'https://github.com/adobe-research/deft_corpus',\n",
    "        'reference': ''\n",
    "    },\n",
    "    {\n",
    "        'leaderboard': 'https://huggingface.co/spaces/open-llm-leaderboard/open_llm_leaderboard',\n",
    "        'reference': 'https://github.com/yongzhuo/LLM-SFT/blob/main/README.md?plain=1#L71'\n",
    "    },\n",
    "    {\n",
    "        'leaderboard': 'https://lv-mhp.github.io/human_parsing_lb',\n",
    "        'reference': 'https://github.com/ZhaoJ9014/Multi-Human-Parsing/blob/master/README.md?plain=1#L71'\n",
    "    },\n",
    "    {\n",
    "        'leaderboard': 'https://bop.felk.cvut.cz/leaderboards/pose-estimation-unseen-bop23/core-datasets',\n",
    "        'reference': 'https://github.com/NVlabs/FoundationPose/blob/main/readme.md?plain=1#L16'\n",
    "    },\n",
    "    {\n",
    "        'leaderboard': 'https://www.kaggle.com/c/seizure-prediction/leaderboard',\n",
    "        'reference': 'https://github.com/april-org/april-ann/blob/master/README.md?plain=1#L299'\n",
    "    },\n",
    "    {\n",
    "        'leaderboard': 'https://github.com/romainloiseau/HelixNet',\n",
    "        'reference': ''\n",
    "    },\n",
    "    {\n",
    "        'leaderboard': 'https://paperswithcode.com/sota/visual-object-tracking-on-lasot',\n",
    "        'reference': 'https://github.com/Little-Podi/AiATrack/blob/main/README.md?plain=1#L25'\n",
    "    },\n",
    "    {\n",
    "        'leaderboard': 'https://paperswithcode.com/sota/visual-object-tracking-on-trackingnet',\n",
    "        'reference': 'https://github.com/Little-Podi/AiATrack/blob/main/README.md?plain=1#L27'\n",
    "    },\n",
    "    {\n",
    "        'leaderboard': 'https://paperswithcode.com/sota/visual-object-tracking-on-got-10k',\n",
    "        'reference': 'https://github.com/Little-Podi/AiATrack/blob/main/README.md?plain=1#L28'\n",
    "    },\n",
    "    {\n",
    "        'leaderboard': 'https://paperswithcode.com/sota/visual-object-tracking-on-needforspeed',\n",
    "        'reference': 'https://github.com/Little-Podi/AiATrack/blob/main/README.md?plain=1#L29'\n",
    "    },\n",
    "    {\n",
    "        'leaderboard': 'https://paperswithcode.com/sota/visual-object-tracking-on-otb-100',\n",
    "        'reference': 'https://github.com/Little-Podi/AiATrack/blob/main/README.md?plain=1#L30'\n",
    "    },\n",
    "    {\n",
    "        'leaderboard': 'https://paperswithcode.com/sota/visual-object-tracking-on-uav123',\n",
    "        'reference': 'https://github.com/Little-Podi/AiATrack/blob/main/README.md?plain=1#L31'\n",
    "    },\n",
    "    {\n",
    "        'leaderboard': 'https://huggingface.co/spaces/open-llm-leaderboard/open_llm_leaderboard',\n",
    "        'reference': 'https://github.com/PetroIvaniuk/llms-tools/blob/main/README.md?plain=1#L112'\n",
    "    },\n",
    "    {\n",
    "        'leaderboard': 'https://microsoft.github.io/GLUECoS',\n",
    "        'reference': ''\n",
    "    },\n",
    "    {\n",
    "        'leaderboard': 'https://hkust-nlp.github.io/agentboard',\n",
    "        'reference': 'https://github.com/PetroIvaniuk/llms-tools/blob/main/README.md?plain=1#L174'\n",
    "    },\n",
    "    {\n",
    "        'leaderboard': 'https://artificialanalysis.ai/text-to-image',\n",
    "        'reference': 'https://github.com/PetroIvaniuk/llms-tools/blob/main/README.md?plain=1#L176'\n",
    "    },\n",
    "    {\n",
    "        'leaderboard': 'https://scale.com/leaderboard',\n",
    "        'reference': 'https://github.com/PetroIvaniuk/llms-tools/blob/main/README.md?plain=1#L177'\n",
    "    },\n",
    "    {\n",
    "        'leaderboard': 'https://crfm.stanford.edu/helm',\n",
    "        'reference': 'https://github.com/PetroIvaniuk/llms-tools/blob/main/README.md?plain=1#L178'\n",
    "    },\n",
    "    {\n",
    "        'leaderboard': 'https://www.vals.ai',\n",
    "        'reference': 'https://github.com/PetroIvaniuk/llms-tools/blob/main/README.md?plain=1#L179'\n",
    "    },\n",
    "    {\n",
    "        'leaderboard': 'https://trustllmbenchmark.github.io/TrustLLM-Website/leaderboard.html',\n",
    "        'reference': 'https://github.com/PetroIvaniuk/llms-tools/blob/main/README.md?plain=1#L180'\n",
    "    },\n",
    "    {\n",
    "        'leaderboard': 'https://lmarena.ai/?leaderboard',\n",
    "        'reference': 'https://github.com/PetroIvaniuk/llms-tools/blob/main/README.md?plain=1#L181'\n",
    "    },\n",
    "    {\n",
    "        'leaderboard': 'https://huggingface.co/spaces/open-llm-leaderboard/open_llm_leaderboard',\n",
    "        'reference': 'https://github.com/PetroIvaniuk/llms-tools/blob/main/README.md?plain=1#L182'\n",
    "    },\n",
    "    {\n",
    "        'leaderboard': 'https://huggingface.co/spaces/optimum/llm-perf-leaderboard',\n",
    "        'reference': 'https://github.com/PetroIvaniuk/llms-tools/blob/main/README.md?plain=1#L183'\n",
    "    },\n",
    "    {\n",
    "        'leaderboard': 'https://huggingface.co/spaces/hallucinations-leaderboard/leaderboard',\n",
    "        'reference': 'https://github.com/PetroIvaniuk/llms-tools/blob/main/README.md?plain=1#L184'\n",
    "    },\n",
    "    {\n",
    "        'leaderboard': 'https://huggingface.co/spaces/NPHardEval/NPHardEval-leaderboard',\n",
    "        'reference': 'https://github.com/PetroIvaniuk/llms-tools/blob/main/README.md?plain=1#L185'\n",
    "    },\n",
    "    {\n",
    "        'leaderboard': 'https://huggingface.co/spaces/AI-Secure/llm-trustworthy-leaderboard',\n",
    "        'reference': 'https://github.com/PetroIvaniuk/llms-tools/blob/main/README.md?plain=1#L186'\n",
    "    },\n",
    "    {\n",
    "        'leaderboard': 'https://huggingface.co/spaces/openlifescienceai/open_medical_llm_leaderboard',\n",
    "        'reference': 'https://github.com/PetroIvaniuk/llms-tools/blob/main/README.md?plain=1#L187'\n",
    "    },\n",
    "    {\n",
    "        'leaderboard': 'https://huggingface.co/spaces/gaia-benchmark/leaderboard',\n",
    "        'reference': 'https://github.com/PetroIvaniuk/llms-tools/blob/main/README.md?plain=1#L189'\n",
    "    },\n",
    "    {\n",
    "        'leaderboard': 'https://superbbenchmark.org/leaderboard',\n",
    "        'reference': 'https://github.com/mechanicalsea/lighthubert/blob/main/README.md?plain=1#L7'\n",
    "    },\n",
    "    {\n",
    "        'leaderboard': 'https://github.com/PengYu-Team/Co-LRIO',\n",
    "        'reference': ''\n",
    "    },\n",
    "    {\n",
    "        'leaderboard': 'https://github.com/dvlab-research/DSGN',\n",
    "        'reference': ''\n",
    "    },\n",
    "    {\n",
    "        'leaderboard': 'https://paperswithcode.com/sota/3d-lane-detection-on-openlane',\n",
    "        'reference': 'https://github.com/OpenDriveLab/OpenLane/blob/main/README.md?plain=1#L24'\n",
    "    },\n",
    "    {\n",
    "        'leaderboard': 'https://lmarena.ai/?leaderboard',\n",
    "        'reference': 'https://github.com/shure-dev/Awesome-LLM-Papers-Comprehensive-Topics/blob/main/README.md?plain=1#L239'\n",
    "    },\n",
    "    {\n",
    "        'leaderboard': 'https://github.com/LudwigStumpp/llm-leaderboard',\n",
    "        'reference': 'https://github.com/shure-dev/Awesome-LLM-Papers-Comprehensive-Topics/blob/main/README.md?plain=1#L413'\n",
    "    },\n",
    "    {\n",
    "        'leaderboard': 'https://huggingface.co/spaces/open-llm-leaderboard/open_llm_leaderboard',\n",
    "        'reference': 'https://github.com/Abdullahw72/langchain-chatbot-multiple-PDF/blob/master/README.md?plain=1#L56'\n",
    "    },\n",
    "    {\n",
    "        'leaderboard': 'https://leaderboard.allenai.org/propara',\n",
    "        'reference': 'https://github.com/allenai/propara/blob/master/README.md?plain=1#L12'\n",
    "    },\n",
    "    {\n",
    "        'leaderboard': 'https://leaderboard.allenai.org/scifact',\n",
    "        'reference': 'https://github.com/allenai/scifact/blob/master/README.md?plain=1#L33'\n",
    "    },\n",
    "    {\n",
    "        'leaderboard': 'https://hkust-nlp.github.io/agentboard',\n",
    "        'reference': 'https://github.com/hkust-nlp/AgentBoard/blob/main/README.md?plain=1#L18'\n",
    "    },\n",
    "    {\n",
    "        'leaderboard': 'https://adeval.cstcloud.cn/content/leaderboard',\n",
    "        'reference': 'https://github.com/dawnvince/EasyTSAD/blob/main/README.md?plain=1#L27'\n",
    "    },\n",
    "    {\n",
    "        'leaderboard': 'https://tatsu-lab.github.io/alpaca_eval',\n",
    "        'reference': 'https://github.com/GeneZC/MiniMA/blob/main/README.md?plain=1#L58'\n",
    "    },\n",
    "    {\n",
    "        'leaderboard': 'https://huggingface.co/spaces/open-llm-leaderboard/open_llm_leaderboard',\n",
    "        'reference': 'https://github.com/GeneZC/MiniMA/blob/main/README.md?plain=1#L62'\n",
    "    },\n",
    "    {\n",
    "        'leaderboard': 'https://github.com/deepchem/moleculenet',\n",
    "        'reference': ''\n",
    "    },\n",
    "    {\n",
    "        'leaderboard': 'https://github.com/CLUEbenchmark/CLUE',\n",
    "        'reference': ''\n",
    "    },\n",
    "    {\n",
    "        'leaderboard': 'https://eval.ai/web/challenges/challenge-page/454/leaderboard',\n",
    "        'reference': 'https://github.com/Henry1iu/TNT-Trajectory-Prediction/blob/main/README.md?plain=1#L25'\n",
    "    },\n",
    "    {\n",
    "        'leaderboard': 'https://huggingface.co/spaces/open-llm-leaderboard/open_llm_leaderboard',\n",
    "        'reference': 'https://github.com/thestriver/ai-for-javascript-course/blob/main/README.md?plain=1#L411'\n",
    "    },\n",
    "    {\n",
    "        'leaderboard': 'https://tatsu-lab.github.io/alpaca_eval',\n",
    "        'reference': 'https://github.com/thestriver/ai-for-javascript-course/blob/main/README.md?plain=1#L413'\n",
    "    },\n",
    "    {\n",
    "        'leaderboard': 'https://www.cvlibs.net/datasets/kitti/eval_scene_flow.php',\n",
    "        'reference': 'https://github.com/jiahaopang/crl/blob/master/README.md?plain=1#L28'\n",
    "    },\n",
    "    {\n",
    "        'leaderboard': 'https://paperswithcode.com/sota/visual-entailment-on-snli-ve-val',\n",
    "        'reference': 'https://github.com/necla-ml/SNLI-VE/blob/master/README.md?plain=1#L26'\n",
    "    },\n",
    "    {\n",
    "        'leaderboard': 'https://eval.ai/web/challenges/challenge-page/1938/leaderboard',\n",
    "        'reference': 'https://github.com/buildingnet/buildingnet_dataset/blob/main/README.md?plain=1#L16'\n",
    "    },\n",
    "    {\n",
    "        'leaderboard': 'https://eval.ai/web/challenges/challenge-page/1663/leaderboard',\n",
    "        'reference': 'https://github.com/alexa/alexa-with-dstc9-track1-dataset/blob/master/README.md?plain=1#L13'\n",
    "    },\n",
    "    {\n",
    "        'leaderboard': 'https://huggingface.co/spaces/mteb/leaderboard',\n",
    "        'reference': 'https://github.com/skeskinen/llama-lite/blob/master/README.md?plain=1#L67'\n",
    "    },\n",
    "    {\n",
    "        'leaderboard': 'https://huggingface.co/spaces/optimum/llm-perf-leaderboard',\n",
    "        'reference': 'https://github.com/samuelrince/awesome-green-ai/blob/main/README.md?plain=1#L87'\n",
    "    },\n",
    "    {\n",
    "        'leaderboard': 'https://ml.energy/leaderboard',\n",
    "        'reference': 'https://github.com/samuelrince/awesome-green-ai/blob/main/README.md?plain=1#L88'\n",
    "    },\n",
    "    {\n",
    "        'leaderboard': 'https://sites.google.com/view/pgdl2020/leaderboard',\n",
    "        'reference': 'https://github.com/parthnatekar/pgdl/blob/master/README.md?plain=1#L7'\n",
    "    },\n",
    "    {\n",
    "        'leaderboard': 'https://sites.google.com/view/pgdl2020/leaderboard',\n",
    "        'reference': 'https://github.com/z-x-yang/AOT/blob/main/README.md?plain=1#L29'\n",
    "    },\n",
    "    {\n",
    "        'leaderboard': 'https://github.com/ws-choi/Conditioned-Source-Separation-LaSAFT',\n",
    "        'reference': ''\n",
    "    },\n",
    "    {\n",
    "        'leaderboard': 'https://eu.aihub.ml/competitions/201',\n",
    "        'reference': 'https://github.com/z-x-yang/AOT/blob/main/README.md?plain=1#L29'\n",
    "    },\n",
    "    {\n",
    "        'leaderboard': 'https://eu.aihub.ml/competitions/201',\n",
    "        'reference': 'https://github.com/z-x-yang/AOT/blob/main/README.md?plain=1#L31'\n",
    "    },\n",
    "    {\n",
    "        'leaderboard': 'https://eval.ai/web/challenges/challenge-page/606/leaderboard',\n",
    "        'reference': 'https://github.com/YuankaiQi/REVERIE/blob/master/README.md?plain=1#L8'\n",
    "    },\n",
    "    {\n",
    "        'leaderboard': 'https://eval.ai/web/challenges/challenge-page/2049/leaderboard',\n",
    "        'reference': 'https://github.com/eric-ai-lab/Aerial-Vision-and-Dialog-Navigation/blob/origin/README.md?plain=1#L16'\n",
    "    },\n",
    "    {\n",
    "        'leaderboard': 'https://github.com/robot-pesg/BotanicGarden/tree/main/leaderboard',\n",
    "        'reference': ''\n",
    "    },\n",
    "    {\n",
    "        'leaderboard': 'https://www.cvlibs.net/datasets/kitti/eval_object.php?obj_benchmark=3d',\n",
    "        'reference': 'https://github.com/sshaoshuai/PointRCNN/blob/master/README.md?plain=1#L18'\n",
    "    },\n",
    "    {\n",
    "        'leaderboard': 'https://rrc.cvc.uab.es/?ch=17&com=evaluation&task=4',\n",
    "        'reference': 'https://github.com/rubenpt91/MP-DocVQA-Framework/blob/master/readme.md?plain=1#L39'\n",
    "    },\n",
    "    {\n",
    "        'leaderboard': 'https://rajpurkar.github.io/SQuAD-explorer',\n",
    "        'reference': 'https://github.com/allenai/document-qa/blob/master/README.md?plain=1#L167'\n",
    "    },\n",
    "    {\n",
    "        'leaderboard': 'https://github.com/pangeo-data/WeatherBench',\n",
    "        'reference': ''\n",
    "    },\n",
    "    {\n",
    "        'leaderboard': 'https://cares-ai.github.io/#leaderboard',\n",
    "        'reference': 'https://github.com/richard-peng-xia/CARES/blob/main/README.md?plain=1#L12'\n",
    "    },\n",
    "    {\n",
    "        'leaderboard': 'https://github.com/GAIR-NLP/benbench',\n",
    "        'reference': ''\n",
    "    },\n",
    "    {\n",
    "        'leaderboard': 'https://huggingface.co/spaces/eduagarcia/open_pt_llm_leaderboard',\n",
    "        'reference': 'https://github.com/ajdavidl/Portuguese-NLP/blob/main/README.md?plain=1#L237'\n",
    "    },\n",
    "    {\n",
    "        'leaderboard': 'https://eval.ai/web/challenges/challenge-page/97/leaderboard',\n",
    "        'reference': 'https://github.com/peteanderson80/Matterport3DSimulator/blob/master/README.md?plain=1#L50'\n",
    "    },\n",
    "    {\n",
    "        'leaderboard': 'https://github.com/Master-PLC/FreDF',\n",
    "        'reference': ''\n",
    "    },\n",
    "    {\n",
    "        'leaderboard': 'https://lmarena.ai/?leaderboard',\n",
    "        'reference': 'https://github.com/eugeneyan/open-llms/blob/main/README.md?plain=1#L109'\n",
    "    },\n",
    "    {\n",
    "        'leaderboard': 'https://twitter.com/jefrankle/status/1654631746506301441',\n",
    "        'reference': 'https://github.com/eugeneyan/open-llms/blob/main/README.md?plain=1#L110'\n",
    "    },\n",
    "    {\n",
    "        'leaderboard': 'https://crfm.stanford.edu/helm',\n",
    "        'reference': 'https://github.com/eugeneyan/open-llms/blob/main/README.md?plain=1#L111'\n",
    "    },\n",
    "    {\n",
    "        'leaderboard': 'https://github.com/LudwigStumpp/llm-leaderboard',\n",
    "        'reference': 'https://github.com/eugeneyan/open-llms/blob/main/README.md?plain=1#L112'\n",
    "    },\n",
    "    {\n",
    "        'leaderboard': 'https://huggingface.co/spaces/open-llm-leaderboard/open_llm_leaderboard',\n",
    "        'reference': 'https://github.com/eugeneyan/open-llms/blob/main/README.md?plain=1#L114'\n",
    "    },\n",
    "    {\n",
    "        'leaderboard': 'https://github.com/lfy79001/TableQAKit',\n",
    "        'reference': ''\n",
    "    },\n",
    "    {\n",
    "        'leaderboard': 'https://leaderboard.allenai.org/open_book_qa',\n",
    "        'reference': 'https://github.com/allenai/OpenBookQA/blob/main/README.md?plain=1#L16'\n",
    "    },\n",
    "    {\n",
    "        'leaderboard': 'http://www.cvlibs.net/datasets/kitti/eval_tracking.php',\n",
    "        'reference': 'https://github.com/aleksandrkim61/EagerMOT/blob/open_main/README.md?plain=1#L27'\n",
    "    },\n",
    "    {\n",
    "        'leaderboard': 'https://www.nuscenes.org/tracking',\n",
    "        'reference': 'https://github.com/aleksandrkim61/EagerMOT/blob/open_main/README.md?plain=1#L28'\n",
    "    },\n",
    "    {\n",
    "        'leaderboard': 'https://tatsu-lab.github.io/alpaca_eval',\n",
    "        'reference': 'https://github.com/thunlp/UltraChat/blob/main/README.md?plain=1#L35'\n",
    "    },\n",
    "    {\n",
    "        'leaderboard': 'https://github.com/jiachens/ModelNet40-C',\n",
    "        'reference': ''\n",
    "    },\n",
    "    {\n",
    "        'leaderboard': 'https://huggingface.co/spaces/mteb/leaderboard',\n",
    "        'reference': 'https://github.com/Anush008/fastembed-go/blob/main/README.md?plain=1#L18'\n",
    "    },\n",
    "    {\n",
    "        'leaderboard': 'https://eval.ai/web/challenges/challenge-page/830/leaderboard',\n",
    "        'reference': 'https://github.com/microsoft/unilm/blob/master/README.md?plain=1#L139'\n",
    "    },\n",
    "    {\n",
    "        'leaderboard': 'https://superbbenchmark.org/leaderboard',\n",
    "        'reference': 'https://github.com/microsoft/unilm/blob/master/README.md?plain=1#L143'\n",
    "    },\n",
    "    {\n",
    "        'leaderboard': 'https://sites.research.google/xtreme',\n",
    "        'reference': 'https://github.com/microsoft/unilm/blob/master/README.md?plain=1#L146'\n",
    "    },\n",
    "    {\n",
    "        'leaderboard': 'https://rrc.cvc.uab.es/?ch=17&com=evaluation&task=1',\n",
    "        'reference': 'https://github.com/microsoft/unilm/blob/master/README.md?plain=1#L158'\n",
    "    },\n",
    "    {\n",
    "        'leaderboard': 'https://rrc.cvc.uab.es/?ch=13&com=evaluation&task=3',\n",
    "        'reference': 'https://github.com/microsoft/unilm/blob/master/README.md?plain=1#L158'\n",
    "    },\n",
    "    {\n",
    "        'leaderboard': 'https://rajpurkar.github.io/SQuAD-explorer',\n",
    "        'reference': 'https://github.com/duyunshu/bert-sentiment-analysis/blob/master/README.md?plain=1#L158'\n",
    "    },\n",
    "    {\n",
    "        'leaderboard': 'https://paperswithcode.com/sota/code-generation-on-humaneval',\n",
    "        'reference': 'https://github.com/alekst23/simple-coder/blob/main/README.md?plain=1#L15'\n",
    "    },\n",
    "    {\n",
    "        'leaderboard': 'https://hotpotqa.github.io',\n",
    "        'reference': 'https://github.com/woshiyyya/DFGN-pytorch/blob/master/readme.md?plain=1#L15'\n",
    "    },\n",
    "    {\n",
    "        'leaderboard': 'https://www.swebench.com',\n",
    "        'reference': 'https://github.com/aorwall/moatless-tools/blob/main/README.md?plain=1#L5'\n",
    "    },\n",
    "    {\n",
    "        'leaderboard': 'https://huggingface.co/spaces/open-llm-leaderboard/open_llm_leaderboard',\n",
    "        'reference': 'https://github.com/HqWu-HITCS/Awesome-Chinese-LLM/blob/main/README.md?plain=1#L1067'\n",
    "    },\n",
    "    {\n",
    "        'leaderboard': 'https://lvbench.github.io/#leaderboard',\n",
    "        'reference': 'https://github.com/THUDM/LVBench/blob/main/README.md?plain=1#L11'\n",
    "    },\n",
    "    {\n",
    "        'leaderboard': 'https://github.com/cbvrp-acmmm-2019/cbvrp-acmmm-2019',\n",
    "        'reference': ''\n",
    "    },\n",
    "    {\n",
    "        'leaderboard': 'https://www.kaggle.com/c/jigsaw-unintended-bias-in-toxicity-classification/leaderboard',\n",
    "        'reference': 'https://github.com/thuwyh/Jigsaw-Unintended-Bias-in-Toxicity-Classification/blob/master/README.md?plain=1#L2'\n",
    "    },\n",
    "    {\n",
    "        'leaderboard': 'https://huggingface.co/spaces/openlifescienceai/open_medical_llm_leaderboard',\n",
    "        'reference': 'https://github.com/TsinghuaC3I/UltraMedical/blob/main/README.md?plain=1#L129'\n",
    "    },\n",
    "    {\n",
    "        'leaderboard': 'https://leaderboard.carla.org/leaderboard',\n",
    "        'reference': 'https://github.com/autonomousvision/carla_garage/blob/main/README.md?plain=1#L176'\n",
    "    },\n",
    "    {\n",
    "        'leaderboard': 'https://github.com/yuh-zha/AlignScore',\n",
    "        'reference': ''\n",
    "    },\n",
    "    {\n",
    "        'leaderboard': 'https://cocodataset.org/#captions-leaderboard',\n",
    "        'reference': 'https://github.com/peteanderson80/Up-Down-Captioner/blob/master/README.md?plain=1#L3'\n",
    "    },\n",
    "    {\n",
    "        'leaderboard': 'https://huggingface.co/spaces/mike-ravkine/can-ai-code-results',\n",
    "        'reference': 'https://github.com/the-crypt-keeper/can-ai-code/blob/main/README.md?plain=1#L37'\n",
    "    },\n",
    "    {\n",
    "        'leaderboard': 'https://huggingface.co/spaces/allenai/WildBench',\n",
    "        'reference': 'https://github.com/allenai/WildBench/blob/main/README.md?plain=1#L8'\n",
    "    },\n",
    "    {\n",
    "        'leaderboard': 'https://paperswithcode.com/task/node-classification-on-non-homophilic',\n",
    "        'reference': 'https://github.com/SitaoLuan/ACM-GNN/blob/main/README.md?plain=1#L129'\n",
    "    },\n",
    "    {\n",
    "        'leaderboard': 'https://waymo.com/open/challenges/2020/3d-detection',\n",
    "        'reference': 'https://github.com/PJLab-ADG/LoGoNet/blob/main/README.md?plain=1#L14'\n",
    "    },\n",
    "    {\n",
    "        'leaderboard': 'https://paperswithcode.com/sota/3d-depth-estimation-on-relative-human',\n",
    "        'reference': 'https://github.com/Arthur151/Relative_Human/blob/master/README.md?plain=1#L27'\n",
    "    },\n",
    "    {\n",
    "        'leaderboard': 'https://huggingface.co/spaces/mteb/leaderboard',\n",
    "        'reference': 'https://github.com/infrawhispers/anansi/blob/main/README.md?plain=1#L30'\n",
    "    },\n",
    "    {\n",
    "        'leaderboard': 'https://www.kaggle.com/c/google-quest-challenge/leaderboard',\n",
    "        'reference': 'https://github.com/oleg-yaroshevskiy/quest_qa_labeling/blob/master/README.md?plain=1#L109'\n",
    "    },\n",
    "    {\n",
    "        'leaderboard': 'https://huggingface.co/spaces/open-llm-leaderboard/open_llm_leaderboard',\n",
    "        'reference': 'https://github.com/jincheng9/gpt-tutorial/blob/main/README.md?plain=1#L114'\n",
    "    },\n",
    "    {\n",
    "        'leaderboard': 'https://www.aicrowd.com/challenges/unity-obstacle-tower-challenge/leaderboards',\n",
    "        'reference': 'https://github.com/Unity-Technologies/obstacle-tower-source/blob/master/README.md?plain=1#L40'\n",
    "    },\n",
    "    {\n",
    "        'leaderboard': 'https://www.aicrowd.com/challenges/neurips-2021-minerl-diamond-competition/leaderboards',\n",
    "        'reference': 'https://github.com/minerllabs/competition_submission_template/blob/master/README.md?plain=1#L14'\n",
    "    },\n",
    "    {\n",
    "        'leaderboard': 'http://host.robots.ox.ac.uk:8080/leaderboard/displaylb_dt.php?challengeid=6&compid=4',\n",
    "        'reference': 'https://github.com/rbgirshick/rcnn/blob/master/README.md?plain=1#L39'\n",
    "    },\n",
    "    {\n",
    "        'leaderboard': 'http://host.robots.ox.ac.uk:8080/leaderboard/displaylb_dt.php?challengeid=11&compid=4',\n",
    "        'reference': 'https://github.com/rbgirshick/rcnn/blob/master/README.md?plain=1#40'\n",
    "    },\n",
    "    {\n",
    "        'leaderboard': 'https://leaderboard.allenai.org/robothor_objectnav',\n",
    "        'reference': 'https://github.com/allenai/robothor-challenge/blob/main/README.md?plain=1#L105'\n",
    "    },\n",
    "    {\n",
    "        'leaderboard': 'https://paperswithcode.com/sota/math-word-problem-solving-on-svamp',\n",
    "        'reference': 'https://github.com/chuanyang-Zheng/Progressive-Hint/blob/main/README.md?plain=1#L32'\n",
    "    },\n",
    "    {\n",
    "        'leaderboard': 'https://paperswithcode.com/sota/arithmetic-reasoning-on-gsm8k',\n",
    "        'reference': 'https://github.com/chuanyang-Zheng/Progressive-Hint/blob/main/README.md?plain=1#L32'\n",
    "    },\n",
    "    {\n",
    "        'leaderboard': 'https://paperswithcode.com/sota/math-word-problem-solving-on-math',\n",
    "        'reference': 'https://github.com/chuanyang-Zheng/Progressive-Hint/blob/main/README.md?plain=1#L32'\n",
    "    },\n",
    "    {\n",
    "        'leaderboard': 'https://mmbench.opencompass.org.cn/leaderboard',\n",
    "        'reference': 'https://github.com/codefuse-ai/CodeFuse-MFT-VLM/blob/master/README.md?plain=1#L16'\n",
    "    },\n",
    "    {\n",
    "        'leaderboard': 'https://github.com/codefuse-ai/codefuse-devops-eval',\n",
    "        'reference': ''\n",
    "    },\n",
    "    {\n",
    "        'leaderboard': 'https://www.kaggle.com/c/feedback-prize-2021/leaderboard',\n",
    "        'reference': 'https://github.com/affjljoo3581/Feedback-Prize-Competition/blob/master/README.md?plain=1#L5'\n",
    "    },\n",
    "    {\n",
    "        'leaderboard': 'https://github.com/AI-secure/Certified-Robustness-SoK-Oldver',\n",
    "        'reference': ''\n",
    "    },\n",
    "    {\n",
    "        'leaderboard': 'https://sokcertifiedrobustness.github.io/leaderboard',\n",
    "        'reference': 'https://github.com/AI-secure/Certified-Robustness-SoK-Oldver/blob/master/README.md?plain=1#L1'\n",
    "    },\n",
    "    {\n",
    "        'leaderboard': 'https://ml.energy/leaderboard',\n",
    "        'reference': 'https://github.com/Green-Software-Foundation/awesome-green-software/blob/main/readme.md?plain=1#L125'\n",
    "    },\n",
    "    {\n",
    "        'leaderboard': 'https://waymo.com/open/challenges/2020/3d-detection',\n",
    "        'reference': 'https://github.com/ADLab-AutoDrive/INT/blob/main/README.md?plain=1#L37'\n",
    "    },\n",
    "    {\n",
    "        'leaderboard': 'https://waymo.com/open/challenges/2023/motion-prediction',\n",
    "        'reference': 'https://github.com/zhejz/HPTR/blob/main/README.md?plain=1#L26'\n",
    "    },\n",
    "    {\n",
    "        'leaderboard': 'https://eval.ai/web/challenges/challenge-page/1719/leaderboard',\n",
    "        'reference': 'https://github.com/zhejz/HPTR/blob/main/README.md?plain=1#L69'\n",
    "    },\n",
    "    {\n",
    "        'leaderboard': 'https://huggingface.co/spaces/yentinglin/open-tw-llm-leaderboard',\n",
    "        'reference': 'https://github.com/MiuLab/Taiwan-LLM/blob/main/README.md?plain=1#L77'\n",
    "    },\n",
    "    {\n",
    "        'leaderboard': 'https://www.kaggle.com/c/home-credit-default-risk/leaderboard',\n",
    "        'reference': 'https://github.com/KazukiOnodera/Home-Credit-Default-Risk/blob/master/README.md?plain=1#L2'\n",
    "    },\n",
    "    {\n",
    "        'leaderboard': 'https://codalab.lisn.upsaclay.fr/competitions/4318',\n",
    "        'reference': 'https://github.com/shreyashampali/kypt_transformer/blob/master/README.md?plain=1#L120'\n",
    "    },\n",
    "    {\n",
    "        'leaderboard': 'https://codalab.lisn.upsaclay.fr/competitions/4897',\n",
    "        'reference': 'https://github.com/shreyashampali/kypt_transformer/blob/master/README.md?plain=1#L138'\n",
    "    },\n",
    "    {\n",
    "        'leaderboard': 'https://eval.ai/web/challenges/challenge-page/689/leaderboard',\n",
    "        'reference': 'https://github.com/martiansideofthemoon/hurdles-longform-qa/blob/main/README.md?plain=1#L115'\n",
    "    },\n",
    "    {\n",
    "        'leaderboard': 'https://codalab.lisn.upsaclay.fr/competitions/6738',\n",
    "        'reference': 'https://github.com/psunlpgroup/MultiHiertt/blob/main/README.md?plain=1#L13'\n",
    "    },\n",
    "    {\n",
    "        'leaderboard': 'https://huggingface.co/spaces/open-llm-leaderboard/open_llm_leaderboard',\n",
    "        'reference': 'https://github.com/sci-m-wang/LangGPT-tools/blob/main/README.md?plain=1#L29'\n",
    "    },\n",
    "    {\n",
    "        'leaderboard': 'https://skyworkai.github.io/agent-studio',\n",
    "        'reference': 'https://github.com/SkyworkAI/agent-studio/blob/main/README.md?plain=1#L39'\n",
    "    },\n",
    "    {\n",
    "        'leaderboard': 'https://flageval.baai.ac.cn/#/leaderboard/multimodal',\n",
    "        'reference': 'https://github.com/Kwai-Kolors/Kolors/blob/master/README.md?plain=1#L60'\n",
    "    },\n",
    "    {\n",
    "        'leaderboard': 'https://huggingface.co/spaces/open-llm-leaderboard/open_llm_leaderboard',\n",
    "        'reference': 'https://github.com/wel3kxial/AIGC_Resources/blob/main/README.md?plain=1#L758'\n",
    "    },\n",
    "    {\n",
    "        'leaderboard': 'https://github.com/THUDM/ReST-MCTS',\n",
    "        'reference': ''\n",
    "    },\n",
    "    {\n",
    "        'leaderboard': 'https://github.com/CLUEbenchmark/CLUE',\n",
    "        'reference': 'https://github.com/aymericdamien/TopDeepLearning/blob/master/README.md?plain=1#L733'\n",
    "    },\n",
    "    {\n",
    "        'leaderboard': 'https://github.com/lampts/my_dl_solutions',\n",
    "        'reference': ''\n",
    "    },\n",
    "    {\n",
    "        'leaderboard': 'https://github.com/DengPingFan/DAVSOD',\n",
    "        'reference': ''\n",
    "    },\n",
    "    {\n",
    "        'leaderboard': 'http://convai.io',\n",
    "        'reference': 'https://github.com/aliannejadi/ClariQ/blob/master/README.md?plain=1#L475'\n",
    "    },\n",
    "    {\n",
    "        'leaderboard': 'http://got-10k.aitestunion.com/leaderboard',\n",
    "        'reference': 'https://github.com/got-10k/siamfc/blob/master/README.md?plain=1#L13'\n",
    "    },\n",
    "    {\n",
    "        'leaderboard': 'https://github.com/SiatMMLab/Awesome-Diffusion-Model-Based-Image-Editing-Methods/blob/main/Leaderboard.md',\n",
    "        'reference': ''\n",
    "    },\n",
    "    {\n",
    "        'leaderboard': 'https://klue-benchmark.com/leaderboard',\n",
    "        'reference': 'https://github.com/KLUE-benchmark/KLUE/blob/main/README.md?plain=1#L70'\n",
    "    },\n",
    "    {\n",
    "        'leaderboard': 'https://crux-eval.github.io/leaderboard.html',\n",
    "        'reference': 'https://github.com/facebookresearch/cruxeval/blob/main/README.md?plain=1#L6'\n",
    "    },\n",
    "    {\n",
    "        'leaderboard': 'https://github.com/inspire-group/patch-defense-leaderboard',\n",
    "        'reference': 'https://github.com/inspire-group/PatchCleanser/blob/main/README.md?plain=1#L27'\n",
    "    },\n",
    "    {\n",
    "        'leaderboard': 'https://github.com/Magnetic2014/RoleEval',\n",
    "        'reference': ''\n",
    "    },\n",
    "    {\n",
    "        'leaderboard': 'https://github.com/SoccerNet/sn-spotting',\n",
    "        'reference': ''\n",
    "    },\n",
    "    {\n",
    "        'leaderboard': 'https://github.com/sejong-rcv/MLPD-Multi-Label-Pedestrian-Detection',\n",
    "        'reference': ''\n",
    "    },\n",
    "    {\n",
    "        'leaderboard': 'https://www.aicrowd.com/challenges/imageclef-2019-vqa-med/leaderboards',\n",
    "        'reference': 'https://github.com/abachaa/VQA-Med-2019/blob/master/README.md?plain=1#L6'\n",
    "    },\n",
    "    {\n",
    "        'leaderboard': 'https://ogb.stanford.edu/docs/leader_nodeprop/#ogbn-arxiv',\n",
    "        'reference': 'https://github.com/ytchx1999/PyG-OGB-Tricks/blob/main/README.md?plain=1#L20'\n",
    "    },\n",
    "    {\n",
    "        'leaderboard': 'hhttps://ogb.stanford.edu/docs/leader_nodeprop/#ogbn-mag',\n",
    "        'reference': 'https://github.com/ytchx1999/PyG-OGB-Tricks/blob/main/README.md?plain=1#L25'\n",
    "    },\n",
    "    {\n",
    "        'leaderboard': 'https://ogb.stanford.edu/docs/leader_nodeprop/#ogbn-products',\n",
    "        'reference': 'https://github.com/ytchx1999/PyG-OGB-Tricks/blob/main/README.md?plain=1#L30'\n",
    "    },\n",
    "    {\n",
    "        'leaderboard': 'https://ogb.stanford.edu/docs/leader_nodeprop/#ogbn-proteins',\n",
    "        'reference': 'https://github.com/ytchx1999/PyG-OGB-Tricks/blob/main/README.md?plain=1#L36'\n",
    "    },\n",
    "    {\n",
    "        'leaderboard': 'https://eval.ai/web/challenges/challenge-page/514/leaderboard',\n",
    "        'reference': 'https://github.com/pzzhang/VinVL/blob/main/README.md?plain=1#L31'\n",
    "    },\n",
    "    {\n",
    "        'leaderboard': 'https://eval.ai/web/challenges/challenge-page/355/leaderboard',\n",
    "        'reference': 'https://github.com/pzzhang/VinVL/blob/main/README.md?plain=1#L31'\n",
    "    },\n",
    "    {\n",
    "        'leaderboard': 'https://leaderboard.allenai.org/vcr',\n",
    "        'reference': 'https://github.com/pzzhang/VinVL/blob/main/README.md?plain=1#L31'\n",
    "    },\n",
    "    {\n",
    "        'leaderboard': 'https://github.com/layer6ai-labs/dgm-eval',\n",
    "        'reference': ''\n",
    "    },\n",
    "    {\n",
    "        'leaderboard': 'https://github.com/salesforce/decaNLP',\n",
    "        'reference': ''\n",
    "    },\n",
    "    {\n",
    "        'leaderboard': 'https://leaderboard.carla.org/leaderboard',\n",
    "        'reference': 'https://github.com/carla-simulator/carla/blob/dev/README.md?plain=1#L50'\n",
    "    },\n",
    "    {\n",
    "        'leaderboard': 'https://github.com/eugenesiow/super-image',\n",
    "        'reference': ''\n",
    "    },\n",
    "    {\n",
    "        'leaderboard': 'https://github.com/liuye6666/EWR-PGD',\n",
    "        'reference': ''\n",
    "    },\n",
    "    {\n",
    "        'leaderboard': 'http://host.robots.ox.ac.uk:8080/leaderboard/displaylb.php?challengeid=11&compid=6',\n",
    "        'reference': 'https://github.com/TheLegendAli/DeepLab-Context/blob/master/README.md?plain=1#L39'\n",
    "    },\n",
    "    {\n",
    "        'leaderboard': 'https://github.com/SoccerNet/sn-tracking',\n",
    "        'reference': ''\n",
    "    },\n",
    "    {\n",
    "        'leaderboard': 'https://leaderboard.allenai.org/mctaco',\n",
    "        'reference': 'https://github.com/CogComp/MCTACO/blob/master/README.md?plain=1#L9'\n",
    "    },\n",
    "    {\n",
    "        'leaderboard': 'https://cl-detection2023.grand-challenge.org/evaluation/challenge/leaderboard',\n",
    "        'reference': 'https://github.com/5k5000/CLdetection2023/blob/master/README.md?plain=1#L7'\n",
    "    },\n",
    "    {\n",
    "        'leaderboard': 'https://cl-detection2023.grand-challenge.org/evaluation/testing/leaderboard',\n",
    "        'reference': 'https://github.com/5k5000/CLdetection2023/blob/master/README.md?plain=1#L7'\n",
    "    },\n",
    "    {\n",
    "        'leaderboard': 'https://sokcertifiedrobustness.github.io/leaderboard',\n",
    "        'reference': 'https://github.com/yinizhilian/ICLR2024-Papers-with-Code/blob/main/README.md?plain=1#L2853'\n",
    "    },\n",
    "    {\n",
    "        'leaderboard': 'https://codalab.lisn.upsaclay.fr/competitions/7395',\n",
    "        'reference': 'https://github.com/thunlp/Knowledge-Plugin/blob/master/README.md?plain=1#L137'\n",
    "    },\n",
    "    {\n",
    "        'leaderboard': 'https://github.com/Kali-Hac/Awesome-Skeleton-Based-Models/tree/main/skeleton-based-action-recognition',\n",
    "        'reference': ''\n",
    "    },\n",
    "    {\n",
    "        'leaderboard': 'https://github.com/Kali-Hac/Awesome-Skeleton-Based-Models/tree/main/3D-pose-estimation',\n",
    "        'reference': ''\n",
    "    },\n",
    "    {\n",
    "        'leaderboard': 'https://github.com/Kali-Hac/Awesome-Skeleton-Based-Models/tree/main/skeleton-based-person-reID',\n",
    "        'reference': ''\n",
    "    },\n",
    "    {\n",
    "        'leaderboard': 'https://nl2sql360.github.io/#leaderboard',\n",
    "        'reference': 'https://github.com/HKUSTDial/NL2SQL360/blob/master/README.md?plain=1#L15'\n",
    "    },\n",
    "    {\n",
    "        'leaderboard': 'https://github.com/yanyanSann/Long-Tailed-Classification-Leaderboard',\n",
    "        'reference': 'https://github.com/zhangyongshun/BagofTricks-LT/blob/main/README.md?plain=1#L309'\n",
    "    },\n",
    "    {\n",
    "        'leaderboard': 'https://teddy-xionggz.github.io/MIRAGE',\n",
    "        'reference': 'https://github.com/Teddy-XiongGZ/MIRAGE/blob/main/README.md?plain=1#L115'\n",
    "    },\n",
    "    {\n",
    "        'leaderboard': 'https://github.com/mkliegl/kaggle-Facebook-V',\n",
    "        'reference': ''\n",
    "    },\n",
    "    {\n",
    "        'leaderboard': 'https://yuchen814.github.io/CodeTransOcean/#leadboard',\n",
    "        'reference': 'https://github.com/WeixiangYAN/CodeTransOcean/blob/main/README.md?plain=1#L4'\n",
    "    },\n",
    "    {\n",
    "        'leaderboard': 'https://mmmu-benchmark.github.io/#leaderboard',\n",
    "        'reference': 'https://github.com/MMMU-Benchmark/MMMU/blob/main/README.md?plain=1#L3'\n",
    "    },\n",
    "    {\n",
    "        'leaderboard': 'https://yale-lily.github.io/spider',\n",
    "        'reference': 'https://github.com/paulfitz/mlsql/blob/master/README.md?plain=1#L173'\n",
    "    },\n",
    "    {\n",
    "        'leaderboard': 'https://github.com/salesforce/WikiSQL',\n",
    "        'reference': 'https://github.com/paulfitz/mlsql/blob/master/README.md?plain=1#L174'\n",
    "    },\n",
    "    {\n",
    "        'leaderboard': 'https://yale-lily.github.io/sparc',\n",
    "        'reference': 'https://github.com/paulfitz/mlsql/blob/master/README.md?plain=1#L175'\n",
    "    },\n",
    "    {\n",
    "        'leaderboard': 'https://paperswithcode.com/sota',\n",
    "        'reference': 'https://github.com/Nativeatom/NaturalLanguageProcessing/blob/master/README.md?plain=1#L322'\n",
    "    },\n",
    "    {\n",
    "        'leaderboard': 'https://github.com/hou-yz/MultiviewX',\n",
    "        'reference': ''\n",
    "    },\n",
    "    {\n",
    "        'leaderboard': 'https://huggingface.co/spaces/bigcode/bigcode-models-leaderboard',\n",
    "        'reference': 'https://github.com/huybery/Awesome-Code-LLM/blob/main/README.md?plain=1#L68'\n",
    "    },\n",
    "    {\n",
    "        'leaderboard': 'https://bird-bench.github.io',\n",
    "        'reference': 'https://github.com/huybery/Awesome-Code-LLM/blob/main/README.md?plain=1#L69'\n",
    "    },\n",
    "    {\n",
    "        'leaderboard': 'https://huggingface.co/spaces/mike-ravkine/can-ai-code-results',\n",
    "        'reference': 'https://github.com/huybery/Awesome-Code-LLM/blob/main/README.md?plain=1#L70'\n",
    "    },\n",
    "    {\n",
    "        'leaderboard': 'https://leaderboard.tabbyml.com',\n",
    "        'reference': 'https://github.com/huybery/Awesome-Code-LLM/blob/main/README.md?plain=1#L71'\n",
    "    },\n",
    "    {\n",
    "        'leaderboard': 'https://crux-eval.github.io/leaderboard.html',\n",
    "        'reference': 'https://github.com/huybery/Awesome-Code-LLM/blob/main/README.md?plain=1#L72'\n",
    "    },\n",
    "    {\n",
    "        'leaderboard': '(https://evalplus.github.io/leaderboard.html',\n",
    "        'reference': 'https://github.com/huybery/Awesome-Code-LLM/blob/main/README.md?plain=1#L73'\n",
    "    },\n",
    "    {\n",
    "        'leaderboard': 'https://intercode-benchmark.github.io',\n",
    "        'reference': 'https://github.com/huybery/Awesome-Code-LLM/blob/main/README.md?plain=1#L76'\n",
    "    },\n",
    "    {\n",
    "        'leaderboard': 'https://accubits.com/open-source-program-synthesis-models-leaderboard',\n",
    "        'reference': 'https://github.com/huybery/Awesome-Code-LLM/blob/main/README.md?plain=1#L77'\n",
    "    },\n",
    "    {\n",
    "        'leaderboard': 'https://yale-lily.github.io/spider',\n",
    "        'reference': 'https://github.com/huybery/Awesome-Code-LLM/blob/main/README.md?plain=1#L78'\n",
    "    },\n",
    "    {\n",
    "        'leaderboard': 'https://huggingface.co/spaces/mteb/leaderboard',\n",
    "        'reference': 'https://github.com/Qihoo360/360zhinao/blob/main/README.md?plain=1#L41'\n",
    "    },\n",
    "    {\n",
    "        'leaderboard': 'https://rank.opencompass.org.cn/leaderboard-llm',\n",
    "        'reference': 'https://github.com/Qihoo360/360zhinao/blob/main/README.md?plain=1#L77'\n",
    "    },\n",
    "    {\n",
    "        'leaderboard': 'https://github.com/MadryLab/cifar10_challenge',\n",
    "        'reference': ''\n",
    "    },\n",
    "    {\n",
    "        'leaderboard': 'https://datahack.analyticsvidhya.com/contest/ltfs-datascience-finhack-an-online-hackathon/#LeaderBoard',\n",
    "        'reference': 'https://github.com/rajat5ranjan/AV-LTFS-Data-Science-FinHack-ML-Hackathon/blob/master/README.md?plain=1#L49'\n",
    "    },\n",
    "    {\n",
    "        'leaderboard': 'https://huggingface.co/spaces/mteb/leaderboard',\n",
    "        'reference': 'https://github.com/Wang-Shuo/A-Guide-to-Retrieval-Augmented-LLM/blob/main/README.md?plain=1#L235'\n",
    "    },\n",
    "    {\n",
    "        'leaderboard': 'https://github.com/songlab-cal/tape',\n",
    "        'reference': ''\n",
    "    },\n",
    "    {\n",
    "        'leaderboard': 'https://www.kaggle.com/c/nyu-cv-fall-2018/leaderboard',\n",
    "        'reference': 'https://github.com/soumith/traffic-sign-detection-homework/blob/master/README.md?plain=1#L31'\n",
    "    },\n",
    "    {\n",
    "        'leaderboard': 'https://github.com/wenhao728/awesome-diffusion-v2v/blob/main/doc/leaderboard.md',\n",
    "        'reference': ''\n",
    "    },\n",
    "    {\n",
    "        'leaderboard': 'https://huggingface.co/spaces/TheFinAI/FinBen',\n",
    "        'reference': 'https://github.com/adlnlp/FinLLMs/blob/main/README.md?plain=1#L61'\n",
    "    },\n",
    "    {\n",
    "        'leaderboard': 'https://codalab.lisn.upsaclay.fr/competitions/10740',\n",
    "        'reference': 'https://github.com/osyvokon/awesome-ukrainian-nlp/blob/master/README.md?plain=1#L150'\n",
    "    },\n",
    "    {\n",
    "        'leaderboard': 'https://eval.ai/web/challenges/challenge-page/674/leaderboard',\n",
    "        'reference': 'https://github.com/magnumresearchgroup/Magnum-NLC2CMD/blob/master/README.md?plain=1#L16'\n",
    "    },\n",
    "    {\n",
    "        'leaderboard': 'https://tatsu-lab.github.io/alpaca_eval',\n",
    "        'reference': 'https://github.com/princeton-nlp/SimPO/blob/main/README.md?plain=1#L8'\n",
    "    },\n",
    "    {\n",
    "        'leaderboard': 'https://www.crowdbenchmark.com/nwpucrowdloc.html',\n",
    "        'reference': 'https://github.com/taohan10200/IIM/blob/main/README.md?plain=1#L116'\n",
    "    },\n",
    "    {\n",
    "        'leaderboard': 'https://github.com/bolgebrygg/Force-2020-Machine-Learning-competition',\n",
    "        'reference': ''\n",
    "    },\n",
    "    {\n",
    "        'leaderboard': 'https://paperswithcode.com/sota/face-alignment-on-wflw',\n",
    "        'reference': 'https://github.com/starhiking/HeatmapInHeatmap/blob/main/README.md?plain=1#L7'\n",
    "    },\n",
    "    {\n",
    "        'leaderboard': 'https://paperswithcode.com/sota/face-alignment-on-cofw',\n",
    "        'reference': 'https://github.com/starhiking/HeatmapInHeatmap/blob/main/README.md?plain=1#L8'\n",
    "    },\n",
    "    {\n",
    "        'leaderboard': 'https://paperswithcode.com/sota/face-alignment-on-300w',\n",
    "        'reference': 'https://github.com/starhiking/HeatmapInHeatmap/blob/main/README.md?plain=1#L9'\n",
    "    },\n",
    "    {\n",
    "        'leaderboard': 'https://matbench.materialsproject.org/Leaderboards%20Per-Task/matbench_v0.1_matbench_dielectric',\n",
    "        'reference': 'https://github.com/MasterAI-EAM/Darwin/blob/main/README.md?plain=1#L12'\n",
    "    },\n",
    "    {\n",
    "        'leaderboard': 'https://huggingface.co/spaces/hf-audio/open_asr_leaderboard',\n",
    "        'reference': 'https://github.com/huggingface/open_asr_leaderboard/blob/main/README.md?plain=1#L3'\n",
    "    },\n",
    "    {\n",
    "        'leaderboard': 'https://blumenstiel.github.io/mess-benchmark/leaderboard',\n",
    "        'reference': 'https://github.com/blumenstiel/MESS/blob/main/README.md?plain=1#L44'\n",
    "    },\n",
    "    {\n",
    "        'leaderboard': 'https://github.com/aliyun/cflue',\n",
    "        'reference': ''\n",
    "    },\n",
    "    {\n",
    "        'leaderboard': 'https://rajpurkar.github.io/SQuAD-explorer',\n",
    "        'reference': 'https://github.com/unilight/R-NET-in-Tensorflow/blob/master/README.md?plain=1#L87'\n",
    "    },\n",
    "    {\n",
    "        'leaderboard': 'https://huggingface.co/spaces/hf-audio/open_asr_leaderboard',\n",
    "        'reference': 'https://github.com/nyrahealth/CrisperWhisper/blob/main/README.md?plain=1#L37'\n",
    "    },\n",
    "    {\n",
    "        'leaderboard': 'https://github.com/Doragd/Awesome-Sentence-Embedding',\n",
    "        'reference': ''\n",
    "    },\n",
    "    {\n",
    "        'leaderboard': 'https://ymcui.com/expmrc',\n",
    "        'reference': 'https://github.com/ymcui/expmrc/blob/main/README.md?plain=1#L23'\n",
    "    },\n",
    "    {\n",
    "        'leaderboard': 'https://www.aicrowd.com/challenges/www-2018-challenge-learning-to-recognize-musical-genre/leaderboards',\n",
    "        'reference': 'https://github.com/kristijanbartol/Deep-Music-Tagger/blob/master/README.md?plain=1#L84'\n",
    "    },\n",
    "    {\n",
    "        'leaderboard': 'https://leaderboard.allenai.org/musique_ans',\n",
    "        'reference': 'https://github.com/StonyBrookNLP/musique/blob/main/README.md?plain=1#L69'\n",
    "    },\n",
    "    {\n",
    "        'leaderboard': 'https://leaderboard.allenai.org/musique_full',\n",
    "        'reference': 'https://github.com/StonyBrookNLP/musique/blob/main/README.md?plain=1#L69'\n",
    "    },\n",
    "    {\n",
    "        'leaderboard': 'https://github.com/songlab-cal/tape-neurips2019',\n",
    "        'reference': ''\n",
    "    },\n",
    "    {\n",
    "        'leaderboard': 'https://ogb.stanford.edu/docs/leader_linkprop',\n",
    "        'reference': 'https://github.com/facebookresearch/SEAL_OGB/blob/main/README.md?plain=1#L11'\n",
    "    },\n",
    "    {\n",
    "        'leaderboard': 'https://github.com/coastalcph/lex-glue',\n",
    "        'reference': ''\n",
    "    },\n",
    "    {\n",
    "        'leaderboard': 'https://leaderboard.allenai.org/arc',\n",
    "        'reference': 'https://github.com/allenai/macaw/blob/main/README.md?plain=1#L142'\n",
    "    },\n",
    "    {\n",
    "        'leaderboard': 'https://leaderboard.allenai.org/arc_easy',\n",
    "        'reference': 'https://github.com/allenai/macaw/blob/main/README.md?plain=1#L143'\n",
    "    },\n",
    "    {\n",
    "        'leaderboard': 'https://leaderboard.allenai.org/genie-arcda',\n",
    "        'reference': 'https://github.com/allenai/macaw/blob/main/README.md?plain=1#L144'\n",
    "    },\n",
    "    {\n",
    "        'leaderboard': 'https://github.com/JUNJIE99/MLVU',\n",
    "        'reference': ''\n",
    "    },\n",
    "    {\n",
    "        'leaderboard': 'http://www.cvlibs.net/datasets/kitti/eval_object.php?obj_benchmark=3d',\n",
    "        'reference': 'https://github.com/charlesq34/frustum-pointnets/blob/master/README.md?plain=1#L9'\n",
    "    },\n",
    "    {\n",
    "        'leaderboard': 'http://host.robots.ox.ac.uk:8080/leaderboard/displaylb.php?challengeid=11&compid=4',\n",
    "        'reference': 'https://github.com/DataXujing/CNN-paper2/blob/master/README.md?plain=1#L930'\n",
    "    },\n",
    "    {\n",
    "        'leaderboard': 'http://host.robots.ox.ac.uk:8080/leaderboard/displaylb.php?challengeid=11&compid=6',\n",
    "        'reference': 'https://github.com/HymEric/Segmentation-Series-Chaos/blob/master/README.md?plain=1#L50'\n",
    "    },\n",
    "    {\n",
    "        'leaderboard': 'https://paperswithcode.com/task/semantic-segmentation',\n",
    "        'reference': 'https://github.com/HymEric/Segmentation-Series-Chaos/blob/master/README.md?plain=1#L50'\n",
    "    },\n",
    "    {\n",
    "        'leaderboard': 'https://klejbenchmark.com/leaderboard',\n",
    "        'reference': 'https://github.com/allegro/HerBERT/blob/master/README.md?plain=1#L12'\n",
    "    },\n",
    "    {\n",
    "        'leaderboard': 'https://leaderboard.allenai.org/break',\n",
    "        'reference': 'https://github.com/allenai/Break/blob/master/README.md?plain=1#L18'\n",
    "    },\n",
    "    {\n",
    "        'leaderboard': 'https://leaderboard.allenai.org/break_high_level',\n",
    "        'reference': 'https://github.com/allenai/Break/blob/master/README.md?plain=1#L19'\n",
    "    },\n",
    "    {\n",
    "        'leaderboard': 'https://www.kaggle.com/c/korean-gender-bias-detection/leaderboard',\n",
    "        'reference': 'https://github.com/kocohub/korean-hate-speech/blob/master/README.md?plain=1#L75'\n",
    "    },\n",
    "    {\n",
    "        'leaderboard': 'https://www.kaggle.com/c/korean-bias-detection/leaderboard',\n",
    "        'reference': 'https://github.com/kocohub/korean-hate-speech/blob/master/README.md?plain=1#L76'\n",
    "    },\n",
    "    {\n",
    "        'leaderboard': 'https://www.kaggle.com/c/korean-hate-speech-detection/leaderboard',\n",
    "        'reference': 'https://github.com/kocohub/korean-hate-speech/blob/master/README.md?plain=1#L77'\n",
    "    },\n",
    "    {\n",
    "        'leaderboard': 'http://www.cvlibs.net/datasets/kitti/eval_object.php?obj_benchmark=3d',\n",
    "        'reference': 'https://github.com/chonepieceyb/reading-frustum-pointnets-code/blob/master/README.md?plain=1#L19'\n",
    "    },\n",
    "    {\n",
    "        'leaderboard': 'https://aistudio.baidu.com/competition/detail/157/0/leaderboard',\n",
    "        'reference': 'https://github.com/baidu/DuReader/blob/master/README.md?plain=1#L11'\n",
    "    },\n",
    "    {\n",
    "        'leaderboard': 'https://aistudio.baidu.com/competition/detail/116/0/leaderboard',\n",
    "        'reference': 'https://github.com/baidu/DuReader/blob/master/README.md?plain=1#L13'\n",
    "    },\n",
    "    {\n",
    "        'leaderboard': 'https://aistudio.baidu.com/competition/detail/66/0/leaderboard',\n",
    "        'reference': 'https://github.com/baidu/DuReader/blob/master/README.md?plain=1#L15'\n",
    "    },\n",
    "    {\n",
    "        'leaderboard': 'https://aistudio.baidu.com/competition/detail/49/0/leaderboard',\n",
    "        'reference': 'https://github.com/baidu/DuReader/blob/master/README.md?plain=1#L17'\n",
    "    },\n",
    "    {\n",
    "        'leaderboard': 'https://aistudio.baidu.com/competition/detail/720/0/leaderboard',\n",
    "        'reference': 'https://github.com/baidu/DuReader/blob/master/README.md?plain=1#L21'\n",
    "    },\n",
    "    {\n",
    "        'leaderboard': 'https://github.com/vectara/hallucination-leaderboard',\n",
    "        'reference': 'https://github.com/Barnacle-ai/awesome-llm-list/blob/main/README.md?plain=1#L115'\n",
    "    },\n",
    "    {\n",
    "        'leaderboard': 'https://huggingface.co/spaces/gaia-benchmark/leaderboard',\n",
    "        'reference': 'https://github.com/Barnacle-ai/awesome-llm-list/blob/main/README.md?plain=1#L116'\n",
    "    },\n",
    "    {\n",
    "        'leaderboard': 'https://huggingface.co/spaces/open-llm-leaderboard/open_llm_leaderboard',\n",
    "        'reference': 'https://github.com/Barnacle-ai/awesome-llm-list/blob/main/README.md?plain=1#L117'\n",
    "    },\n",
    "    {\n",
    "        'leaderboard': 'https://huggingface.co/spaces/lmsys/chatbot-arena-leaderboard',\n",
    "        'reference': 'https://github.com/Barnacle-ai/awesome-llm-list/blob/main/README.md?plain=1#L118'\n",
    "    },\n",
    "    {\n",
    "        'leaderboard': 'https://tatsu-lab.github.io/alpaca_eval',\n",
    "        'reference': 'https://github.com/Barnacle-ai/awesome-llm-list/blob/main/README.md?plain=1#L119'\n",
    "    },\n",
    "    {\n",
    "        'leaderboard': 'https://inklab.usc.edu/CommonGen/leaderboard.html',\n",
    "        'reference': 'https://github.com/Barnacle-ai/awesome-llm-list/blob/main/README.md?plain=1#L120'\n",
    "    },\n",
    "    {\n",
    "        'leaderboard': 'https://opencompass.org.cn/leaderboard-llm',\n",
    "        'reference': 'https://github.com/Barnacle-ai/awesome-llm-list/blob/main/README.md?plain=1#L121'\n",
    "    },\n",
    "    {\n",
    "        'leaderboard': 'https://github.com/RecList/evalRS-CIKM-2022',\n",
    "        'reference': ''\n",
    "    },\n",
    "    {\n",
    "        'leaderboard': 'https://paperswithcode.com/dataset/worldview-3-pancollection',\n",
    "        'reference': 'https://github.com/XiaoXiao-Woo/PanCollection/blob/main/README.md?plain=1#L184'\n",
    "    },\n",
    "    {\n",
    "        'leaderboard': 'https://www.nuscenes.org/object-detection',\n",
    "        'reference': 'https://github.com/fudan-zvg/PolarFormer/blob/main/README.md?plain=1#L21'\n",
    "    },\n",
    "    {\n",
    "        'leaderboard': 'https://www.nuscenes.org/object-detection',\n",
    "        'reference': 'https://github.com/fudan-zvg/PolarFormer/blob/main/README.md?plain=1#L22'\n",
    "    },\n",
    "    {\n",
    "        'leaderboard': 'https://github.com/pkunlp-icler/PCA-EVAL',\n",
    "        'reference': ''\n",
    "    },\n",
    "    {\n",
    "        'leaderboard': 'https://stanfordmlgroup.github.io/competitions/mura',\n",
    "        'reference': 'https://github.com/beamandrew/medical-data/blob/master/README.md?plain=1#L422'\n",
    "    },\n",
    "    {\n",
    "        'leaderboard': 'https://github.com/Mercury7353/PyBench',\n",
    "        'reference': ''\n",
    "    },\n",
    "    {\n",
    "        'leaderboard': 'https://huggingface.co/spaces/upstage/open-ko-llm-leaderboard',\n",
    "        'reference': 'https://github.com/Marker-Inc-Korea/KO-Platypus/blob/main/README.md?plain=1#L77'\n",
    "    },\n",
    "    {\n",
    "        'leaderboard': 'https://leaderboard.allenai.org/qasc',\n",
    "        'reference': 'https://github.com/allenai/qasc/blob/main/README.md?plain=1#L10'\n",
    "    },\n",
    "    {\n",
    "        'leaderboard': 'https://www.kaggle.com/c/open-images-2019-instance-segmentation/leaderboard',\n",
    "        'reference': 'https://github.com/ZFTurbo/Keras-Mask-RCNN-for-Open-Images-2019-Instance-Segmentation/blob/master/README.md?plain=1#L4'\n",
    "    },\n",
    "    {\n",
    "        'leaderboard': 'https://github.com/layumi/Person_reID_baseline_pytorch/tree/master/leaderboard',\n",
    "        'reference': 'https://github.com/bismex/Awesome-person-re-identification/blob/master/README.md?plain=1#L799'\n",
    "    },\n",
    "    {\n",
    "        'leaderboard': 'https://github.com/Mercury7353/PyBench',\n",
    "        'reference': 'https://github.com/zilliztech/VectorDBBench/blob/main/README.md?plain=1#L6'\n",
    "    },\n",
    "    {\n",
    "        'leaderboard': 'https://zilliz.com/vector-database-benchmark-tool',\n",
    "        'reference': 'https://github.com/zilliztech/VectorDBBench/blob/main/README.md?plain=1#L6'\n",
    "    },\n",
    "    {\n",
    "        'leaderboard': 'https://github.com/h2oai/h2o-LLM-eval',\n",
    "        'reference': ''\n",
    "    },\n",
    "    {\n",
    "        'leaderboard': 'https://paperswithcode.com/sota',\n",
    "        'reference': 'https://github.com/Robinwho/Deep-Learning/blob/master/README.md?plain=1#L151'\n",
    "    },\n",
    "    {\n",
    "        'leaderboard': 'https://tenrec0.github.io/#leaderboard',\n",
    "        'reference': 'https://github.com/yuangh-x/2022-NIPS-Tenrec/blob/master/README.md?plain=1#L18'\n",
    "    },\n",
    "    {\n",
    "        'leaderboard': 'https://github.com/cardiffnlp/tweetnlp/blob/main/FINETUNING_RESULT.md',\n",
    "        'reference': ''\n",
    "    },\n",
    "    {\n",
    "        'leaderboard': 'https://rowanzellers.com/advice/#leaderboard',\n",
    "        'reference': 'https://github.com/rowanz/turingadvice/blob/master/README.md?plain=1#L78'\n",
    "    },\n",
    "    {\n",
    "        'leaderboard': 'https://evalai.cloudcv.org/web/challenges/challenge-page/503/leaderboard',\n",
    "        'reference': 'https://github.com/yuweihao/reclor/blob/master/README.md?plain=1#L27'\n",
    "    },\n",
    "    {\n",
    "        'leaderboard': 'https://github.com/JBoRu/Awesome-KBQA/blob/main/leaderboard/cfq.md',\n",
    "        'reference': ''\n",
    "    },\n",
    "    {\n",
    "        'leaderboard': 'https://github.com/JBoRu/Awesome-KBQA/blob/main/leaderboard/complexquestions.md',\n",
    "        'reference': ''\n",
    "    },\n",
    "    {\n",
    "        'leaderboard': 'https://github.com/JBoRu/Awesome-KBQA/blob/main/leaderboard/complexwebquestions.md',\n",
    "        'reference': ''\n",
    "    },\n",
    "    {\n",
    "        'leaderboard': 'https://github.com/JBoRu/Awesome-KBQA/blob/main/leaderboard/grailqa.md',\n",
    "        'reference': ''\n",
    "    },\n",
    "    {\n",
    "        'leaderboard': 'https://github.com/JBoRu/Awesome-KBQA/blob/main/leaderboard/kqapro.md',\n",
    "        'reference': ''\n",
    "    },\n",
    "    {\n",
    "        'leaderboard': 'https://github.com/JBoRu/Awesome-KBQA/blob/main/leaderboard/lc-quad.md',\n",
    "        'reference': ''\n",
    "    },\n",
    "    {\n",
    "        'leaderboard': 'https://github.com/JBoRu/Awesome-KBQA/blob/main/leaderboard/metaqa.md',\n",
    "        'reference': ''\n",
    "    },\n",
    "    {\n",
    "        'leaderboard': 'https://github.com/JBoRu/Awesome-KBQA/blob/main/leaderboard/webquestions.md',\n",
    "        'reference': ''\n",
    "    },\n",
    "    {\n",
    "        'leaderboard': 'https://github.com/JBoRu/Awesome-KBQA/blob/main/leaderboard/webquestionsp.md',\n",
    "        'reference': ''\n",
    "    },\n",
    "    {\n",
    "        'leaderboard': 'https://github.com/JBoRu/Awesome-KBQA/blob/main/leaderboard/cfq.md',\n",
    "        'reference': ''\n",
    "    },\n",
    "    {\n",
    "        'leaderboard': 'https://github.com/JBoRu/Awesome-KBQA/blob/main/leaderboard/cfq.md',\n",
    "        'reference': ''\n",
    "    },\n",
    "    {\n",
    "        'leaderboard': 'https://dki-lab.github.io/GrailQA',\n",
    "        'reference': 'https://github.com/JBoRu/Awesome-KBQA/blob/main/README.md?plain=1#L37'\n",
    "    },\n",
    "    {\n",
    "        'leaderboard': 'https://github.com/google-research/google-research/tree/master/cfq',\n",
    "        'reference': 'https://github.com/JBoRu/Awesome-KBQA/blob/main/README.md?plain=1#L35'\n",
    "    },\n",
    "    {\n",
    "        'leaderboard': 'https://paperswithcode.com/sota/trajectory-prediction-on-stanford-drone',\n",
    "        'reference': 'https://github.com/karttikeya/awesome-human-pose-prediction/blob/master/README.md?plain=1#L26'\n",
    "    },\n",
    "    {\n",
    "        'leaderboard': 'https://huggingface.co/spaces/osunlp/TravelPlannerLeaderboard',\n",
    "        'reference': 'https://github.com/OSU-NLP-Group/TravelPlanner/blob/main/README.md?plain=1#L122'\n",
    "    },\n",
    "    {\n",
    "        'leaderboard': 'https://opendataval.github.io/leaderboards',\n",
    "        'reference': 'https://github.com/opendataval/opendataval/blob/main/README.md?plain=1#L24'\n",
    "    },\n",
    "    {\n",
    "        'leaderboard': 'https://research.nianticlabs.com/mapfree-reloc-benchmark/leaderboard',\n",
    "        'reference': 'https://github.com/nianticlabs/map-free-reloc/blob/main/README.md?plain=1#L28'\n",
    "    },\n",
    "    {\n",
    "        'leaderboard': 'https://github.com/ocean-data-challenges/2020a_SSH_mapping_NATL60',\n",
    "        'reference': ''\n",
    "    },\n",
    "    {\n",
    "        'leaderboard': 'https://microsoft.github.io/XGLUE',\n",
    "        'reference': 'https://github.com/microsoft/XGLUE/blob/master/README.md?plain=1#L4'\n",
    "    },\n",
    "    {\n",
    "        'leaderboard': 'https://huggingface.co/spaces/Auto-Arena/Leaderboard',\n",
    "        'reference': 'https://github.com/DAMO-NLP-SG/Auto-Arena-LLMs/blob/main/readme.md?plain=1#L3'\n",
    "    },\n",
    "    {\n",
    "        'leaderboard': 'https://github.com/DetectionTeamUCAS/R2CNN_Faster-RCNN_Tensorflow',\n",
    "        'reference': ''\n",
    "    },\n",
    "    {\n",
    "        'leaderboard': 'https://github.com/openai/gym/wiki/Leaderboard',\n",
    "        'reference': 'https://github.com/Datatouille/rl-workshop/blob/master/README.md?plain=1#L93'\n",
    "    },\n",
    "    {\n",
    "        'leaderboard': 'https://codalab.lisn.upsaclay.fr/competitions/1846',\n",
    "        'reference': 'https://github.com/czyssrs/FinQA/blob/main/README.md?plain=1#L19'\n",
    "    },\n",
    "    {\n",
    "        'leaderboard': 'https://codalab.lisn.upsaclay.fr/competitions/4138',\n",
    "        'reference': 'https://github.com/czyssrs/FinQA/blob/main/README.md?plain=1#L21'\n",
    "    },\n",
    "    {\n",
    "        'leaderboard': 'https://cocodataset.org/#keypoints-leaderboard',\n",
    "        'reference': 'https://github.com/caiyuanhao1998/RSN/blob/master/README.md?plain=1#L18'\n",
    "    },\n",
    "    {\n",
    "        'leaderboard': 'https://ai.google.com/research/tydiqa',\n",
    "        'reference': 'https://github.com/google-research-datasets/tydiqa/blob/master/README.md?plain=1#L163'\n",
    "    },\n",
    "    {\n",
    "        'leaderboard': 'https://github.com/primeqa/primeqa',\n",
    "        'reference': ''\n",
    "    },\n",
    "    {\n",
    "        'leaderboard': 'https://leaderboard.allenai.org/anli',\n",
    "        'reference': 'https://github.com/allenai/rainbow/blob/master/readme.md?plain=1#L409'\n",
    "    },\n",
    "    {\n",
    "        'leaderboard': 'https://www.tau-nlp.org/csqa-leaderboard',\n",
    "        'reference': 'https://github.com/allenai/rainbow/blob/master/readme.md?plain=1#L419'\n",
    "    },\n",
    "    {\n",
    "        'leaderboard': 'https://leaderboard.allenai.org/cosmosqa',\n",
    "        'reference': 'https://github.com/allenai/rainbow/blob/master/readme.md?plain=1#L422'\n",
    "    },\n",
    "    {\n",
    "        'leaderboard': 'https://leaderboard.allenai.org/hellaswag',\n",
    "        'reference': 'https://github.com/allenai/rainbow/blob/master/readme.md?plain=1#L424'\n",
    "    },\n",
    "    {\n",
    "        'leaderboard': 'https://leaderboard.allenai.org/physicaliqa',\n",
    "        'reference': 'https://github.com/allenai/rainbow/blob/master/readme.md?plain=1#L430'\n",
    "    },\n",
    "    {\n",
    "        'leaderboard': 'https://leaderboard.allenai.org/rainbow',\n",
    "        'reference': 'https://github.com/allenai/rainbow/blob/master/readme.md?plain=1#L444'\n",
    "    },\n",
    "    {\n",
    "        'leaderboard': 'https://leaderboard.allenai.org/socialiqa',\n",
    "        'reference': 'https://github.com/allenai/rainbow/blob/master/readme.md?plain=1#L449'\n",
    "    },\n",
    "    {\n",
    "        'leaderboard': 'https://leaderboard.allenai.org/winogrande',\n",
    "        'reference': 'https://github.com/allenai/rainbow/blob/master/readme.md?plain=1#L458'\n",
    "    },\n",
    "    {\n",
    "        'leaderboard': 'https://github.com/MadryLab/backgrounds_challenge',\n",
    "        'reference': ''\n",
    "    },\n",
    "    {\n",
    "        'leaderboard': 'https://github.com/BUPT-GAMMA/OpenHGNN/blob/main/openhgnn/dataset/ohgb.md',\n",
    "        'reference': ''\n",
    "    },\n",
    "    {\n",
    "        'leaderboard': 'https://github.com/morecry/CharacterEval',\n",
    "        'reference': ''\n",
    "    },\n",
    "    {\n",
    "        'leaderboard': 'https://docs.google.com/spreadsheets/d/1M801lEpBbKSNwP-vDBkC_pF7LdyGU1f_ufZb_NWNBZQ',\n",
    "        'reference': 'https://github.com/web-arena-x/webarena/blob/main/README.md?plain=1#L20'\n",
    "    },\n",
    "    {\n",
    "        'leaderboard': 'https://bedlam-leaderboard.is.tuebingen.mpg.de/leaderboard',\n",
    "        'reference': 'https://github.com/pixelite1201/BEDLAM/blob/master/README.md?plain=1#L75'\n",
    "    },\n",
    "    {\n",
    "        'leaderboard': 'https://evalplus.github.io/leaderboard.html',\n",
    "        'reference': 'https://github.com/nlpxucan/WizardLM/blob/main/README.md?plain=1#L32'\n",
    "    },\n",
    "    {\n",
    "        'leaderboard': 'https://github.com/LLVM-AD/MAPLM',\n",
    "        'reference': ''\n",
    "    },\n",
    "    {\n",
    "        'leaderboard': 'https://rajpurkar.github.io/SQuAD-explorer',\n",
    "        'reference': 'https://github.com/chiayewken/bert-qa/blob/master/README.md?plain=1#L71'\n",
    "    },\n",
    "    {\n",
    "        'leaderboard': 'https://huggingface.co/spaces/HaizeLabs/red-teaming-resistance-benchmark',\n",
    "        'reference': 'https://github.com/haizelabs/redteaming-resistance-benchmark/blob/main/README.md?plain=1#L4'\n",
    "    },\n",
    "    {\n",
    "        'leaderboard': 'https://huggingface.co/spaces/bigcode/bigcode-models-leaderboard',\n",
    "        'reference': 'https://github.com/bigcode-project/starcoder2/blob/main/README.md?plain=1#L168'\n",
    "    },\n",
    "    {\n",
    "        'leaderboard': 'https://aider.chat/docs/leaderboards',\n",
    "        'reference': 'https://github.com/SakanaAI/AI-Scientist/blob/main/README.md?plain=1#L271'\n",
    "    },\n",
    "    {\n",
    "        'leaderboard': 'https://huggingface.co/spaces/open-llm-leaderboard/open_llm_leaderboard',\n",
    "        'reference': 'https://github.com/dccuchile/CC6205/blob/master/README.md?plain=1#L102'\n",
    "    },\n",
    "    {\n",
    "        'leaderboard': 'https://eu.aihub.ml/competitions/201',\n",
    "        'reference': 'https://github.com/yoxu515/aot-benchmark/blob/main/README.md?plain=1#L13'\n",
    "    },\n",
    "    {\n",
    "        'leaderboard': 'https://aesbench.github.io',\n",
    "        'reference': 'https://github.com/yipoh/AesBench/blob/main/README.md?plain=1#L44'\n",
    "    },\n",
    "    {\n",
    "        'leaderboard': 'https://github.com/OpenGenerativeAI/llm-colosseum',\n",
    "        'reference': ''\n",
    "    },\n",
    "    {\n",
    "        'leaderboard': 'https://github.com/GaParmar/clean-fid#cleanfid-leaderboard-for-common-tasks',\n",
    "        'reference': ''\n",
    "    },\n",
    "    {\n",
    "        'leaderboard': 'https://hotpotqa.github.io',\n",
    "        'reference': 'https://github.com/qipeng/golden-retriever/blob/master/README.md?plain=1#L5'\n",
    "    },\n",
    "    {\n",
    "        'leaderboard': 'https://waymo.com/open/challenges/2021/real-time-3d-prediction',\n",
    "        'reference': 'https://github.com/Nightmare-n/GraphRCNN/blob/main/README.md?plain=1#L10'\n",
    "    },\n",
    "    {\n",
    "        'leaderboard': 'https://github.com/gabrielhuang/awesome-few-shot-object-detection',\n",
    "        'reference': ''\n",
    "    },\n",
    "    {\n",
    "        'leaderboard': 'https://huggingface.co/spaces/open-llm-leaderboard/open_llm_leaderboard',\n",
    "        'reference': 'https://github.com/liguodongiot/llm-resource/blob/main/README.md?plain=1#L210'\n",
    "    },\n",
    "    {\n",
    "        'leaderboard': 'https://comma.ai/leaderboard',\n",
    "        'reference': 'https://github.com/commaai/commavq/blob/master/README.md?plain=1#L22'\n",
    "    },\n",
    "    {\n",
    "        'leaderboard': 'https://huggingface.co/spaces/mteb/leaderboard',\n",
    "        'reference': 'https://github.com/Anush008/fastembed-js/blob/main/README.md?plain=1#L14'\n",
    "    },\n",
    "    {\n",
    "        'leaderboard': 'https://video-mme.github.io/home_page.html#leaderboard',\n",
    "        'reference': 'https://github.com/BradyFU/Video-MME/blob/main/README.md?plain=1#L144'\n",
    "    },\n",
    "    {\n",
    "        'leaderboard': 'https://rajpurkar.github.io/SQuAD-explorer',\n",
    "        'reference': 'https://github.com/stepthom/text_mining_resources/blob/master/README.md?plain=1#L438'\n",
    "    },\n",
    "    {\n",
    "        'leaderboard': 'https://gluebenchmark.com/leaderboard',\n",
    "        'reference': 'https://github.com/stepthom/text_mining_resources/blob/master/README.md?plain=1#L441'\n",
    "    },\n",
    "    {\n",
    "        'leaderboard': 'https://decathlon-10.grand-challenge.org/evaluation/challenge/leaderboard',\n",
    "        'reference': 'https://github.com/ljwztc/CLIP-Driven-Universal-Model/blob/main/README.md?plain=1#L14'\n",
    "    },\n",
    "    {\n",
    "        'leaderboard': 'https://github.com/IGNF/FLAIR-2',\n",
    "        'reference': ''\n",
    "    },\n",
    "    {\n",
    "        'leaderboard': 'https://github.com/FranxYao/chain-of-thought-hub',\n",
    "        'reference': ''\n",
    "    },\n",
    "    {\n",
    "        'leaderboard': 'https://huggingface.co/spaces/Nexusflow/Nexus_Function_Calling_Leaderboard',\n",
    "        'reference': 'https://github.com/nexusflowai/NexusRaven-V2/blob/master/README.md?plain=1#L9'\n",
    "    },\n",
    "    {\n",
    "        'leaderboard': 'https://github.com/nyu-dl/dl4ir-doc2query',\n",
    "        'reference': ''\n",
    "    },\n",
    "    {\n",
    "        'leaderboard': 'https://github.com/SoccerNet/sn-calibration',\n",
    "        'reference': ''\n",
    "    },\n",
    "    {\n",
    "        'leaderboard': 'https://lmarena.ai/?leaderboard',\n",
    "        'reference': 'https://github.com/rodion-m/awesome_ai_for_programmers/blob/main/README.md?plain=1#L410'\n",
    "    },\n",
    "    {\n",
    "        'leaderboard': 'https://github.com/lm-sys/arena-hard-auto',\n",
    "        'reference': 'https://github.com/rodion-m/awesome_ai_for_programmers/blob/main/README.md?plain=1#L411'\n",
    "    },\n",
    "    {\n",
    "        'leaderboard': 'https://huggingface.co/spaces/bigcode/bigcode-models-leaderboard',\n",
    "        'reference': 'https://github.com/rodion-m/awesome_ai_for_programmers/blob/main/README.md?plain=1#L413'\n",
    "    },\n",
    "    {\n",
    "        'leaderboard': 'https://huggingface.co/spaces/gaia-benchmark/leaderboard',\n",
    "        'reference': 'https://github.com/rodion-m/awesome_ai_for_programmers/blob/main/README.md?plain=1#L415'\n",
    "    },\n",
    "    {\n",
    "        'leaderboard': 'https://www.trustbit.tech/en/llm-benchmarks',\n",
    "        'reference': 'https://github.com/rodion-m/awesome_ai_for_programmers/blob/main/README.md?plain=1#L416'\n",
    "    },\n",
    "    {\n",
    "        'leaderboard': 'https://huggingface.co/spaces/open-llm-leaderboard/open_llm_leaderboard',\n",
    "        'reference': 'https://github.com/rodion-m/awesome_ai_for_programmers/blob/main/README.md?plain=1#L417'\n",
    "    },\n",
    "    {\n",
    "        'leaderboard': 'https://bird-bench.github.io',\n",
    "        'reference': 'https://github.com/rodion-m/awesome_ai_for_programmers/blob/main/README.md?plain=1#L418'\n",
    "    },\n",
    "    {\n",
    "        'leaderboard': 'https://huggingface.co/spaces/mteb/leaderboard',\n",
    "        'reference': 'https://github.com/rodion-m/awesome_ai_for_programmers/blob/main/README.md?plain=1#L419'\n",
    "    },\n",
    "    {\n",
    "        'leaderboard': 'https://github.com/vectara/hallucination-leaderboard',\n",
    "        'reference': 'https://github.com/jxzhangjhu/Awesome-LLM-Uncertainty-Reliability-Robustness/blob/main/README.md?plain=1#L657'\n",
    "    },\n",
    "    {\n",
    "        'leaderboard': 'https://pages.nist.gov/jarvis_leaderboard',\n",
    "        'reference': 'https://github.com/usnistgov/chemnlp/blob/main/README.md?plain=1#L96'\n",
    "    },\n",
    "    {\n",
    "        'leaderboard': 'https://github.com/vectara/hallucination-leaderboard',\n",
    "        'reference': 'https://github.com/EdinburghNLP/awesome-hallucination-detection/blob/main/README.md?plain=1#L393'\n",
    "    },\n",
    "    {\n",
    "        'leaderboard': 'https://eval.ai/web/challenges/challenge-page/454/leaderboard',\n",
    "        'reference': 'https://github.com/AIprogrammer/vehicle-trajectory-prediction/blob/master/README.md?plain=1#L74'\n",
    "    },\n",
    "    {\n",
    "        'leaderboard': 'https://github.com/declare-lab/multimodal-deep-learning',\n",
    "        'reference': ''\n",
    "    },\n",
    "    {\n",
    "        'leaderboard': 'https://aistudio.baidu.com/competition/detail/157/0/leaderboard',\n",
    "        'reference': 'https://github.com/PaddlePaddle/RocketQA/blob/main/README.md?plain=1#L20'\n",
    "    },\n",
    "    {\n",
    "        'leaderboard': 'https://github.com/seg/2016-ml-contest',\n",
    "        'reference': ''\n",
    "    },\n",
    "    {\n",
    "        'leaderboard': 'https://paperswithcode.com/sota/named-entity-recognition-on-few-nerd-sup',\n",
    "        'reference': 'https://github.com/tomaarsen/SpanMarkerNER/blob/main/README.md?plain=1#L148'\n",
    "    },\n",
    "    {\n",
    "        'leaderboard': 'https://videovista.github.io/#leaderboard',\n",
    "        'reference': 'https://github.com/KangarooGroup/Kangaroo/blob/main/README.md?plain=1#L6'\n",
    "    },\n",
    "    {\n",
    "        'leaderboard': 'https://video-mme.github.io/home_page.html#leaderboard',\n",
    "        'reference': 'https://github.com/KangarooGroup/Kangaroo/blob/main/README.md?plain=1#L7'\n",
    "    },\n",
    "    {\n",
    "        'leaderboard': 'https://github.com/Pranav-chib/End-to-End-Autonomous-Driving',\n",
    "        'reference': ''\n",
    "    },\n",
    "    {\n",
    "        'leaderboard': 'https://leaderboard.carla.org/leaderboard',\n",
    "        'reference': 'https://github.com/Pranav-chib/End-to-End-Autonomous-Driving/blob/main/README.md?plain=1#L332'\n",
    "    },\n",
    "    {\n",
    "        'leaderboard': 'https://github.com/NREL/BuildingsBench',\n",
    "        'reference': ''\n",
    "    },\n",
    "    {\n",
    "        'leaderboard': 'https://github.com/GAIR-NLP/MetaCritique',\n",
    "        'reference': ''\n",
    "    },\n",
    "    {\n",
    "        'leaderboard': 'https://github.com/sociocom/JMED-LLM',\n",
    "        'reference': ''\n",
    "    },\n",
    "    {\n",
    "        'leaderboard': 'https://gorilla.cs.berkeley.edu/leaderboard.html',\n",
    "        'reference': 'https://github.com/OpenBMB/MiniCPM/blob/main/README.md?plain=1#L274'\n",
    "    },\n",
    "    {\n",
    "        'leaderboard': 'http://got-10k.aitestunion.com/leaderboard',\n",
    "        'reference': 'https://github.com/huanglianghua/siamfc-pytorch/blob/master/README.md?plain=1#L20'\n",
    "    },\n",
    "    {\n",
    "        'leaderboard': 'https://hotpotqa.github.io',\n",
    "        'reference': 'https://github.com/shmsw25/DecompRC/blob/main/README.md?plain=1#L31'\n",
    "    },\n",
    "    {\n",
    "        'leaderboard': 'https://super.gluebenchmark.com/leaderboard',\n",
    "        'reference': 'https://github.com/nlpfromscratch/nlp-llms-resources/blob/master/README.md?plain=1#L509'\n",
    "    },\n",
    "    {\n",
    "        'leaderboard': 'https://huggingface.co/spaces/lmsys/chatbot-arena-leaderboard',\n",
    "        'reference': 'https://github.com/nlpfromscratch/nlp-llms-resources/blob/master/README.md?plain=1#L517'\n",
    "    },\n",
    "    {\n",
    "        'leaderboard': 'https://huggingface.co/spaces/open-llm-leaderboard/open_llm_leaderboard',\n",
    "        'reference': 'https://github.com/nlpfromscratch/nlp-llms-resources/blob/master/README.md?plain=1#L518'\n",
    "    },\n",
    "    {\n",
    "        'leaderboard': 'https://tatsu-lab.github.io/alpaca_eval',\n",
    "        'reference': 'https://github.com/nlpfromscratch/nlp-llms-resources/blob/master/README.md?plain=1#L519'\n",
    "    },\n",
    "    {\n",
    "        'leaderboard': 'https://opencompass.org.cn/leaderboard-llm',\n",
    "        'reference': 'https://github.com/nlpfromscratch/nlp-llms-resources/blob/master/README.md?plain=1#L520'\n",
    "    },\n",
    "    {\n",
    "        'leaderboard': 'https://huggingface.co/spaces/open-llm-leaderboard/open_llm_leaderboard',\n",
    "        'reference': 'https://github.com/uukuguy/multi_loras/blob/main/README.md?plain=1#L125'\n",
    "    },\n",
    "    {\n",
    "        'leaderboard': 'https://mmstar-benchmark.github.io/#Leaderboard%20Title',\n",
    "        'reference': 'https://github.com/MMStar-Benchmark/MMStar/blob/main/README.md?plain=1#L3'\n",
    "    },\n",
    "    {\n",
    "        'leaderboard': 'https://rank.opencompass.org.cn/leaderboard-multimodal',\n",
    "        'reference': 'https://github.com/MMStar-Benchmark/MMStar/blob/main/README.md?plain=1#L15'\n",
    "    },\n",
    "    {\n",
    "        'leaderboard': 'https://robustbench.github.io',\n",
    "        'reference': 'https://github.com/RobustBench/robustbench/blob/master/README.md?plain=1#L6'\n",
    "    },\n",
    "    {\n",
    "        'leaderboard': 'https://github.com/fra31/auto-attack',\n",
    "        'reference': 'https://github.com/RobustBench/robustbench/blob/master/README.md?plain=1#L50'\n",
    "    },\n",
    "    {\n",
    "        'leaderboard': 'https://github.com/brohrer/parameter_efficiency_leaderboard',\n",
    "        'reference': 'https://github.com/brohrer/sharpened-cosine-similarity/blob/main/README.md?plain=1#L49'\n",
    "    },\n",
    "    {\n",
    "        'leaderboard': 'https://routingchallenge.mit.edu/last-mile-routing-challenge-team-performance-and-leaderboard',\n",
    "        'reference': 'https://github.com/aws-samples/amazon-sagemaker-amazon-routing-challenge-sol/blob/main/README.md?plain=1#L12'\n",
    "    },\n",
    "    {\n",
    "        'leaderboard': 'https://eval.ai/web/challenges/challenge-page/1839/leaderboard',\n",
    "        'reference': 'https://github.com/microsoft/GLIP/blob/main/README.md?plain=1#L342'\n",
    "    },\n",
    "    {\n",
    "        'leaderboard': 'https://github.com/HanxunH/RobustWRN',\n",
    "        'reference': ''\n",
    "    },\n",
    "    {\n",
    "        'leaderboard': 'https://robustbench.github.io',\n",
    "        'reference': 'https://github.com/HanxunH/RobustWRN/blob/main/README.md?plain=1#L54'\n",
    "    },\n",
    "    {\n",
    "        'leaderboard': 'https://paperswithcode.com/dataset/imagenet-s',\n",
    "        'reference': 'https://github.com/LUSSeg/ImageNet-S/blob/main/README.md?plain=1#L5'\n",
    "    },\n",
    "    {\n",
    "        'leaderboard': 'https://www.tau-nlp.org/csqa-leaderboard',\n",
    "        'reference': 'https://github.com/jonathanherzig/commonsenseqa/blob/master/README.md?plain=1#L118'\n",
    "    },\n",
    "    {\n",
    "        'leaderboard': 'https://tbrain.trendmicro.com.tw/Competitions/Details/19',\n",
    "        'reference': 'https://github.com/yaoching0/Traditional-Chinese-Street-View-Text-Recognition/blob/main/README.md?plain=1#L2'\n",
    "    },\n",
    "    {\n",
    "        'leaderboard': 'https://github.com/cardiffnlp/xlm-t',\n",
    "        'reference': ''\n",
    "    },\n",
    "    {\n",
    "        'leaderboard': 'https://www.aicrowd.com/challenges/trajnet-a-trajectory-forecasting-challenge/leaderboards',\n",
    "        'reference': 'https://github.com/theDebugger811/human-trajectory-forecasting-papers/blob/master/README.md?plain=1#L124'\n",
    "    },\n",
    "    {\n",
    "        'leaderboard': 'https://paperswithcode.com/sota/multi-object-tracking-on-personpath22',\n",
    "        'reference': 'https://github.com/amazon-science/tracking-dataset/blob/main/README.md?plain=1#L28'\n",
    "    },\n",
    "    {\n",
    "        'leaderboard': 'https://github.com/Hritikbansal/videophy',\n",
    "        'reference': ''\n",
    "    },\n",
    "    {\n",
    "        'leaderboard': 'https://allenai.github.io/re-align/just_eval.html#leaderboard',\n",
    "        'reference': 'https://github.com/Re-Align/just-eval/blob/main/README.md?plain=1#L10'\n",
    "    },\n",
    "    {\n",
    "        'leaderboard': 'https://huggingface.co/spaces/open-llm-leaderboard/open_llm_leaderboard',\n",
    "        'reference': 'https://github.com/abhinand5/tamil-llama/blob/main/README.md?plain=1#L80'\n",
    "    },\n",
    "    {\n",
    "        'leaderboard': 'https://huggingface.co/spaces/BramVanroy/open_dutch_llm_leaderboard',\n",
    "        'reference': 'https://github.com/Rijgersberg/GEITje/blob/main/README.md?plain=1#L202'\n",
    "    },\n",
    "    {\n",
    "        'leaderboard': 'https://github.com/darraghdog/avito-demand',\n",
    "        'reference': ''\n",
    "    },\n",
    "    {\n",
    "        'leaderboard': 'https://huggingface.co/spaces/open-llm-leaderboard/open_llm_leaderboard',\n",
    "        'reference': 'https://github.com/Leeroo-AI/leeroo_orchestrator/blob/main/README.md?plain=1#L146'\n",
    "    },\n",
    "    {\n",
    "        'leaderboard': 'https://waymo.com/open/challenges/2021/real-time-3d-prediction',\n",
    "        'reference': 'https://github.com/gwenzhang/Voxel-Mamba/blob/master/README.md?plain=1#L29'\n",
    "    },\n",
    "    {\n",
    "        'leaderboard': 'https://www.nuscenes.org/object-detection',\n",
    "        'reference': 'https://github.com/gwenzhang/Voxel-Mamba/blob/master/README.md?plain=1#L41'\n",
    "    },\n",
    "    {\n",
    "        'leaderboard': 'https://waymo.com/open/challenges/2020/3d-detection',\n",
    "        'reference': 'https://github.com/PJLab-ADG/DetZero/blob/main/README.md?plain=1#L30'\n",
    "    },\n",
    "    {\n",
    "        'leaderboard': 'https://huggingface.co/spaces/open-llm-leaderboard/open_llm_leaderboard',\n",
    "        'reference': 'https://github.com/lmmlzn/Awesome-LLMs-Datasets/blob/main/README.md?plain=1#L81'\n",
    "    },\n",
    "    {\n",
    "        'leaderboard': 'https://huggingface.co/spaces/mteb/leaderboard',\n",
    "        'reference': 'https://github.com/lmmlzn/Awesome-LLMs-Datasets/blob/main/README.md?plain=1#L81'\n",
    "    },\n",
    "    {\n",
    "        'leaderboard': 'https://huggingface.co/spaces/mteb/leaderboard',\n",
    "        'reference': 'https://github.com/lmmlzn/Awesome-LLMs-Datasets/blob/main/README.md?plain=1#L81'\n",
    "    },\n",
    "    {\n",
    "        'leaderboard': 'https://github.com/FlagOpen/FlagEmbedding/tree/master/C_MTEB',\n",
    "        'reference': 'https://github.com/lmmlzn/Awesome-LLMs-Datasets/blob/main/README.md?plain=1#L81'\n",
    "    },\n",
    "    {\n",
    "        'leaderboard': 'https://huggingface.co/spaces/lmsys/chatbot-arena-leaderboard',\n",
    "        'reference': 'https://github.com/lmmlzn/Awesome-LLMs-Datasets/blob/main/README.md?plain=1#L1648'\n",
    "    },\n",
    "    {\n",
    "        'leaderboard': 'https://domaineval.github.io/leaderboard.html',\n",
    "        'reference': 'https://github.com/lmmlzn/Awesome-LLMs-Datasets/blob/main/README.md?plain=1#L2707'\n",
    "    },\n",
    "    {\n",
    "        'leaderboard': 'https://multi-trust.github.io/#leaderboard',\n",
    "        'reference': 'https://github.com/lmmlzn/Awesome-LLMs-Datasets/blob/main/README.md?plain=1#L4339'\n",
    "    },\n",
    "    {\n",
    "        'leaderboard': 'https://github.com/google-research-datasets/ToTTo',\n",
    "        'reference': ''\n",
    "    },\n",
    "    {\n",
    "        'leaderboard': 'https://github.com/krystalan/Multi-hopRC',\n",
    "        'reference': ''\n",
    "    },\n",
    "    {\n",
    "        'leaderboard': 'https://github.com/google/BIG-bench',\n",
    "        'reference': ''\n",
    "    },\n",
    "    {\n",
    "        'leaderboard': 'https://github.com/nitsaick/kits19-challenge',\n",
    "        'reference': ''\n",
    "    },\n",
    "    {\n",
    "        'leaderboard': 'https://av.superbbenchmark.org/leaderboard',\n",
    "        'reference': 'https://github.com/roger-tseng/av-superb/blob/main/README.md?plain=1#L5'\n",
    "    },\n",
    "    {\n",
    "        'leaderboard': 'https://huggingface.co/spaces/IS2Lab/S-Eval',\n",
    "        'reference': 'https://github.com/IS2Lab/S-Eval/blob/main/README.md?plain=1#L267'\n",
    "    },\n",
    "    {\n",
    "        'leaderboard': 'https://eurocity-dataset.tudelft.nl/eval/benchmarks/detection',\n",
    "        'reference': 'https://github.com/hasanirtiza/Pedestron/blob/master/README.md?plain=1#L29'\n",
    "    },\n",
    "    {\n",
    "        'leaderboard': 'https://github.com/JUNJIE99/MLVU',\n",
    "        'reference': 'https://github.com/NVlabs/VILA/blob/main/README.md?plain=1#L19'\n",
    "    },\n",
    "    {\n",
    "        'leaderboard': 'https://mmmu-benchmark.github.io/#leaderboard',\n",
    "        'reference': 'https://github.com/NVlabs/VILA/blob/main/README.md?plain=1#L20'\n",
    "    },\n",
    "    {\n",
    "        'leaderboard': 'https://video-mme.github.io/home_page.html#leaderboard',\n",
    "        'reference': 'https://github.com/NVlabs/VILA/blob/main/README.md?plain=1#L20'\n",
    "    },\n",
    "    {\n",
    "        'leaderboard': 'https://opencompass.org.cn/leaderboard-multimodal',\n",
    "        'reference': 'https://github.com/NVlabs/VILA/blob/main/README.md?plain=1#L171'\n",
    "    },\n",
    "    {\n",
    "        'leaderboard': 'https://www.kaggle.com/c/challenges-in-representation-learning-facial-expression-recognition-challenge/leaderboard',\n",
    "        'reference': 'https://github.com/RodolfoFerro/psychopathology-fer-assistant/blob/master/README.md?plain=1#L161'\n",
    "    },\n",
    "    {\n",
    "        'leaderboard': 'http://cuge.baai.ac.cn/#/leaderboard',\n",
    "        'reference': 'https://github.com/TsinghuaAI/CUGE/blob/main/README.md?plain=1#L25'\n",
    "    },\n",
    "    {\n",
    "        'leaderboard': 'https://gorilla.cs.berkeley.edu/leaderboard',\n",
    "        'reference': 'https://github.com/ShishirPatil/gorilla/blob/main/README.md?plain=1#L8'\n",
    "    },\n",
    "    {\n",
    "        'leaderboard': 'https://github.com/bytedance/MTVQA',\n",
    "        'reference': ''\n",
    "    },\n",
    "    {\n",
    "        'leaderboard': 'https://livecodebench.github.io/leaderboard.html',\n",
    "        'reference': 'https://github.com/LiveCodeBench/LiveCodeBench/blob/main/README.md?plain=1#L7'\n",
    "    },\n",
    "    {\n",
    "        'leaderboard': 'https://github.com/DeepPavlovAdmin/convai',\n",
    "        'reference': ''\n",
    "    },\n",
    "    {\n",
    "        'leaderboard': 'https://paperswithcode.com/sota/image-classification-on-dtd',\n",
    "        'reference': 'https://github.com/ZhangYuanhan-AI/Bamboo/blob/main/README.md?plain=1#L43'\n",
    "    },\n",
    "    {\n",
    "        'leaderboard': 'https://paperswithcode.com/sota/image-classification-on-food-101-1',\n",
    "        'reference': 'https://github.com/ZhangYuanhan-AI/Bamboo/blob/main/README.md?plain=1#L44'\n",
    "    },\n",
    "    {\n",
    "        'leaderboard': 'https://paperswithcode.com/sota/fine-grained-image-classification-on-sun397',\n",
    "        'reference': 'https://github.com/ZhangYuanhan-AI/Bamboo/blob/main/README.md?plain=1#L45'\n",
    "    },\n",
    "    {\n",
    "        'leaderboard': 'https://paperswithcode.com/sota/image-classification-on-flowers-102',\n",
    "        'reference': 'https://github.com/ZhangYuanhan-AI/Bamboo/blob/main/README.md?plain=1#L46'\n",
    "    },\n",
    "    {\n",
    "        'leaderboard': 'https://paperswithcode.com/sota/fine-grained-image-classification-on-caltech',\n",
    "        'reference': 'https://github.com/ZhangYuanhan-AI/Bamboo/blob/main/README.md?plain=1#L47'\n",
    "    },\n",
    "    {\n",
    "        'leaderboard': 'https://paperswithcode.com/sota/fine-grained-image-classification-on-oxford-1',\n",
    "        'reference': 'https://github.com/ZhangYuanhan-AI/Bamboo/blob/main/README.md?plain=1#L48'\n",
    "    },\n",
    "    {\n",
    "        'leaderboard': 'https://paperswithcode.com/sota/image-classification-on-cifar-100',\n",
    "        'reference': 'https://github.com/ZhangYuanhan-AI/Bamboo/blob/main/README.md?plain=1#L49'\n",
    "    },\n",
    "    {\n",
    "        'leaderboard': 'https://paperswithcode.com/sota/fine-grained-image-classification-on-stanford',\n",
    "        'reference': 'https://github.com/ZhangYuanhan-AI/Bamboo/blob/main/README.md?plain=1#L50'\n",
    "    },\n",
    "    {\n",
    "        'leaderboard': 'https://paperswithcode.com/sota/image-classification-on-cifar-10',\n",
    "        'reference': 'https://github.com/ZhangYuanhan-AI/Bamboo/blob/main/README.md?plain=1#L51'\n",
    "    },\n",
    "    {\n",
    "        'leaderboard': 'https://klejbenchmark.com/leaderboard',\n",
    "        'reference': 'https://github.com/Ermlab/PoLitBert/blob/master/README.md?plain=1#L145'\n",
    "    },\n",
    "    {\n",
    "        'leaderboard': 'https://few-shot.yyliu.net/miniimagenet.html',\n",
    "        'reference': 'https://github.com/yaoyao-liu/few-shot-classification-leaderboard/blob/main/README.md?plain=1#L5'\n",
    "    },\n",
    "    {\n",
    "        'leaderboard': 'https://tianchi.aliyun.com/competition',\n",
    "        'reference': 'https://github.com/gathierry/FashionAI-KeyPointsDetectionOfApparel/blob/master/README.md?plain=1#L125'\n",
    "    },\n",
    "    {\n",
    "        'leaderboard': 'https://www.tanksandtemples.org/leaderboard',\n",
    "        'reference': 'https://github.com/yhw-yhw/PVAMVSNet/blob/master/README.md?plain=1#L56'\n",
    "    },\n",
    "    {\n",
    "        'leaderboard': 'https://github.com/Tsinghua-MARS-Lab/Online-HD-Map-Construction-CVPR2023',\n",
    "        'reference': ''\n",
    "    },\n",
    "    {\n",
    "        'leaderboard': 'https://github.com/jingtaozhan/RepBERT-Index',\n",
    "        'reference': ''\n",
    "    },\n",
    "    {\n",
    "        'leaderboard': 'https://huggingface.co/spaces/open-llm-leaderboard/open_llm_leaderboard',\n",
    "        'reference': 'https://github.com/llm-jp/awesome-japanese-llm/blob/main/README.md?plain=1#L384'\n",
    "    },\n",
    "    {\n",
    "        'leaderboard': 'https://github.com/GammaTauAI/leetcode-hard-gym',\n",
    "        'reference': ''\n",
    "    },\n",
    "    {\n",
    "        'leaderboard': 'https://lamp-benchmark.github.io/leaderboard',\n",
    "        'reference': 'https://github.com/Longyichen/Alpaca-family-library/blob/main/README.md?plain=1#L1287'\n",
    "    },\n",
    "    {\n",
    "        'leaderboard': 'https://github.com/kaiko-ai/eva',\n",
    "        'reference': ''\n",
    "    },\n",
    "    {\n",
    "        'leaderboard': 'http://ednet-leaderboard.s3-website-ap-northeast-1.amazonaws.com',\n",
    "        'reference': 'https://github.com/riiid/ednet/blob/master/README.md?plain=1#L5'\n",
    "    },\n",
    "    {\n",
    "        'leaderboard': 'https://huggingface.co/spaces/allenai/reward-bench',\n",
    "        'reference': 'https://github.com/RLHFlow/RLHF-Reward-Modeling/blob/main/README.md?plain=1#L65'\n",
    "    },\n",
    "    {\n",
    "        'leaderboard': 'https://superbbenchmark.org/leaderboard',\n",
    "        'reference': 'https://github.com/pyf98/DPHuBERT/blob/master/README.md?plain=1#L27'\n",
    "    },\n",
    "    {\n",
    "        'leaderboard': 'https://huggingface.co/spaces/mteb/leaderboard',\n",
    "        'reference': 'https://github.com/ghimiresunil/LLM-PowerHouse-A-Curated-Guide-for-Large-Language-Models-with-Custom-Training-and-Inferencing/blob/main/README.md?plain=1#L464'\n",
    "    },\n",
    "    {\n",
    "        'leaderboard': 'https://huggingface.co/spaces/lmsys/chatbot-arena-leaderboard',\n",
    "        'reference': 'https://github.com/ghimiresunil/LLM-PowerHouse-A-Curated-Guide-for-Large-Language-Models-with-Custom-Training-and-Inferencing/blob/main/README.md?plain=1#L329'\n",
    "    },\n",
    "    {\n",
    "        'leaderboard': 'https://huggingface.co/spaces/open-llm-leaderboard/open_llm_leaderboard',\n",
    "        'reference': 'https://github.com/ghimiresunil/LLM-PowerHouse-A-Curated-Guide-for-Large-Language-Models-with-Custom-Training-and-Inferencing/blob/main/README.md?plain=1#L318'\n",
    "    },\n",
    "    {\n",
    "        'leaderboard': 'https://github.com/yushundong/PyGDebias',\n",
    "        'reference': ''\n",
    "    },\n",
    "    {\n",
    "        'leaderboard': 'https://github.com/MadryLab/mnist_challenge',\n",
    "        'reference': ''\n",
    "    },\n",
    "    {\n",
    "        'leaderboard': 'https://marble-bm.shef.ac.uk/leaderboard',\n",
    "        'reference': 'https://github.com/yizhilll/MERT/blob/main/README.md?plain=1#L8'\n",
    "    },\n",
    "    {\n",
    "        'leaderboard': 'https://yale-lily.github.io/spider',\n",
    "        'reference': 'https://github.com/AlibabaResearch/DAMO-ConvAI/blob/main/README.md?plain=1#L24'\n",
    "    },\n",
    "    {\n",
    "        'leaderboard': 'https://yale-lily.github.io/sparc',\n",
    "        'reference': 'https://github.com/AlibabaResearch/DAMO-ConvAI/blob/main/README.md?plain=1#L26'\n",
    "    },\n",
    "    {\n",
    "        'leaderboard': 'https://yale-lily.github.io/cosql',\n",
    "        'reference': 'https://github.com/AlibabaResearch/DAMO-ConvAI/blob/main/README.md?plain=1#L26'\n",
    "    },\n",
    "    {\n",
    "        'leaderboard': 'https://paperswithcode.com/sota/sentiment-analysis-on-sst-2-binary',\n",
    "        'reference': 'https://github.com/dsindex/iclassifier/blob/master/README.md?plain=1#L430'\n",
    "    },\n",
    "    {\n",
    "        'leaderboard': 'https://github.com/DiligentPanda/Tencent_Ads_Algo_2018',\n",
    "        'reference': ''\n",
    "    },\n",
    "    {\n",
    "        'leaderboard': 'https://paperswithcode.com/task/rgb-d-salient-object-detection',\n",
    "        'reference': 'https://github.com/zwbx/BTS-Net/blob/main/README.md?plain=1#L13'\n",
    "    },\n",
    "    {\n",
    "        'leaderboard': 'https://paperswithcode.com/dataset/medmcqa',\n",
    "        'reference': 'https://github.com/medmcqa/medmcqa/blob/main/README.md?plain=1#L45'\n",
    "    },\n",
    "    {\n",
    "        'leaderboard': 'https://waymo.com/open/challenges/2023/motion-prediction',\n",
    "        'reference': 'https://github.com/sshaoshuai/MTR/blob/master/README.md?plain=1#L16'\n",
    "    },\n",
    "    {\n",
    "        'leaderboard': 'https://www.kaggle.com/c/freesound-audio-tagging-2019/leaderboard',\n",
    "        'reference': 'https://github.com/ebouteillon/freesound-audio-tagging-2019/blob/master/README.md?plain=1#L3'\n",
    "    },\n",
    "    {\n",
    "        'leaderboard': 'https://github.com/fastai/imagenette',\n",
    "        'reference': 'https://github.com/lessw2020/Ranger-Mish-ImageWoof-5/blob/master/README.md?plain=1#L50'\n",
    "    },\n",
    "    {\n",
    "        'leaderboard': 'https://fewnlu.github.io',\n",
    "        'reference': 'https://github.com/THUDM/FewNLU/blob/main/README.md?plain=1#L16'\n",
    "    },\n",
    "    {\n",
    "        'leaderboard': 'https://korquad.github.io',\n",
    "        'reference': 'https://github.com/lyeoni/KorQuAD/blob/master/README.md?plain=1#L9'\n",
    "    },\n",
    "    {\n",
    "        'leaderboard': 'https://github.com/helme/ecg_ptbxl_benchmarking',\n",
    "        'reference': ''\n",
    "    },\n",
    "    {\n",
    "        'leaderboard': 'https://github.com/HaohanWang/ImageNet-Sketch',\n",
    "        'reference': ''\n",
    "    },\n",
    "    {\n",
    "        'leaderboard': 'https://rrc.cvc.uab.es/?ch=17&com=evaluation&task=1',\n",
    "        'reference': 'https://github.com/anisha2102/docvqa/blob/master/README.md?plain=1#L2'\n",
    "    },\n",
    "    {\n",
    "        'leaderboard': 'https://cevalbenchmark.com/static/leaderboard.html',\n",
    "        'reference': 'https://github.com/InternLM/InternLM-techreport/blob/main/README.md?plain=1#L61'\n",
    "    },\n",
    "    {\n",
    "        'leaderboard': 'https://github.com/pfnet-research/japanese-lm-fin-harness',\n",
    "        'reference': ''\n",
    "    },\n",
    "    {\n",
    "        'leaderboard': 'https://www.tanksandtemples.org/leaderboard',\n",
    "        'reference': 'https://github.com/FangjinhuaWang/IterMVS/blob/main/README.md?plain=1#L97'\n",
    "    },\n",
    "    {\n",
    "        'leaderboard': 'https://stanfordmlgroup.github.io/competitions/mrnet',\n",
    "        'reference': 'https://github.com/yashbhalgat/MRNet-Competition/blob/master/README.md?plain=1#L2'\n",
    "    },\n",
    "    {\n",
    "        'leaderboard': 'https://www.aicrowd.com/challenges/music-demixing-challenge-ismir-2021/leaderboards',\n",
    "        'reference': 'https://github.com/ws-choi/LASAFT-Net-v2/blob/main/README.md?plain=1#L25'\n",
    "    },\n",
    "    {\n",
    "        'leaderboard': 'https://github.com/rajasagashe/JuICe',\n",
    "        'reference': ''\n",
    "    },\n",
    "    {\n",
    "        'leaderboard': 'https://github.com/FDU-VTS/Awesome-Person-Re-Identification',\n",
    "        'reference': ''\n",
    "    },\n",
    "    {\n",
    "        'leaderboard': 'https://huggingface.co/spaces/allenai/WildBench',\n",
    "        'reference': 'https://github.com/magpie-align/magpie/blob/main/README.md?plain=1#L24'\n",
    "    },\n",
    "    {\n",
    "        'leaderboard': 'https://github.com/taohan10200/WEATHER-5K',\n",
    "        'reference': ''\n",
    "    },\n",
    "    {\n",
    "        'leaderboard': 'https://paperswithcode.com/sota/conversational-web-navigation-on-weblinx',\n",
    "        'reference': 'https://github.com/McGill-NLP/weblinx/blob/main/README.md?plain=1#L7'\n",
    "    },\n",
    "    {\n",
    "        'leaderboard': 'https://huggingface.co/spaces/open-llm-leaderboard/open_llm_leaderboard',\n",
    "        'reference': 'https://github.com/felipemaiapolo/tinyBenchmarks/blob/main/README.md?plain=1#L22'\n",
    "    },\n",
    "    {\n",
    "        'leaderboard': 'https://github.com/JiaxinZhuang/Skin-Lesion-Recognition.Pytorch/blob/master/Leaderboard.png',\n",
    "        'reference': ''\n",
    "    },\n",
    "    {\n",
    "        'leaderboard': 'https://www.drivendata.org/competitions/70/hateful-memes-phase-2/leaderboard',\n",
    "        'reference': 'https://github.com/rizavelioglu/hateful_memes-hate_detectron/blob/main/README.md?plain=1#L34'\n",
    "    },\n",
    "    {\n",
    "        'leaderboard': 'http://got-10k.aitestunion.com/leaderboard',\n",
    "        'reference': 'https://github.com/got-10k/toolkit/blob/master/README.md?plain=1#L165'\n",
    "    },\n",
    "    {\n",
    "        'leaderboard': 'https://github.com/SmartLi8/stella',\n",
    "        'reference': ''\n",
    "    },\n",
    "    {\n",
    "        'leaderboard': 'https://gluebenchmark.com/leaderboard',\n",
    "        'reference': 'https://github.com/fastnlp/ElasticBERT/blob/main/README.md?plain=1#L41'\n",
    "    },\n",
    "    {\n",
    "        'leaderboard': 'https://l-eval.github.io',\n",
    "        'reference': 'https://github.com/OpenLMLab/LEval/blob/main/README.md?plain=1#L19'\n",
    "    },\n",
    "    {\n",
    "        'leaderboard': 'https://www.kaggle.com/c/google-ai-open-images-object-detection-track/leaderboard',\n",
    "        'reference': 'https://github.com/ZFTurbo/Keras-RetinaNet-for-Open-Images-Challenge-2018/blob/master/README.md?plain=1#L4'\n",
    "    },\n",
    "    {\n",
    "        'leaderboard': 'https://github.com/bethgelab/robust-detection-benchmark',\n",
    "        'reference': ''\n",
    "    },\n",
    "    {\n",
    "        'leaderboard': 'https://eval.ai/web/challenges/challenge-page/161/leaderboard',\n",
    "        'reference': 'https://github.com/salesforce/VD-BERT/blob/master/README.md?plain=1#L9'\n",
    "    },\n",
    "    {\n",
    "        'leaderboard': 'https://www.ai4climatecoop.org',\n",
    "        'reference': 'https://github.com/mila-iqia/climate-cooperation-competition/blob/main/README.md?plain=1#L22'\n",
    "    },\n",
    "    {\n",
    "        'leaderboard': 'https://github.com/cambridgeltl/xcopa',\n",
    "        'reference': ''\n",
    "    },\n",
    "    {\n",
    "        'leaderboard': 'https://github.com/GPT-Fathom/GPT-Fathom',\n",
    "        'reference': ''\n",
    "    },\n",
    "    {\n",
    "        'leaderboard': 'https://huggingface.co/spaces/open-llm-leaderboard/open_llm_leaderboard',\n",
    "        'reference': 'https://github.com/GPT-Fathom/GPT-Fathom/blob/main/README.md?plain=1#L94'\n",
    "    },\n",
    "    {\n",
    "        'leaderboard': 'https://github.com/ecker-lab/object-centric-representation-benchmark',\n",
    "        'reference': ''\n",
    "    },\n",
    "    {\n",
    "        'leaderboard': 'https://huggingface.co/spaces/AIR-Bench/leaderboard',\n",
    "        'reference': 'https://github.com/FlagOpen/FlagEmbedding/blob/master/README.md?plain=1#L57'\n",
    "    },\n",
    "    {\n",
    "        'leaderboard': 'https://huggingface.co/spaces/mteb/leaderboard',\n",
    "        'reference': 'https://github.com/FlagOpen/FlagEmbedding/blob/master/README.md?plain=1#L74'\n",
    "    },\n",
    "    {\n",
    "        'leaderboard': 'https://github.com/bcollazo/catanatron',\n",
    "        'reference': ''\n",
    "    },\n",
    "    {\n",
    "        'leaderboard': 'https://evalai.cloudcv.org/featured-challenges/80/leaderboard',\n",
    "        'reference': 'https://github.com/jokieleung/awesome-visual-question-answering/blob/master/README.md?plain=1#L439'\n",
    "    },\n",
    "    {\n",
    "        'leaderboard': 'https://evalai.cloudcv.org/featured-challenges/1/leaderboard',\n",
    "        'reference': 'https://github.com/jokieleung/awesome-visual-question-answering/blob/master/README.md?plain=1#L441'\n",
    "    },\n",
    "    {\n",
    "        'leaderboard': 'https://eval.ai/web/challenges/challenge-page/244/leaderboard',\n",
    "        'reference': 'https://github.com/jokieleung/awesome-visual-question-answering/blob/master/README.md?plain=1#L445'\n",
    "    },\n",
    "    {\n",
    "        'leaderboard': 'https://github.com/cdancette/vqa-cp-leaderboard',\n",
    "        'reference': 'https://github.com/jokieleung/awesome-visual-question-answering/blob/master/README.md?plain=1#L449'\n",
    "    },\n",
    "    {\n",
    "        'leaderboard': 'http://host.robots.ox.ac.uk:8080/leaderboard/displaylb.php?challengeid=11&compid=3',\n",
    "        'reference': 'https://github.com/kuangliu/torchcv/blob/master/README.md?plain=1#L21'\n",
    "    },\n",
    "    {\n",
    "        'leaderboard': 'http://host.robots.ox.ac.uk:8080/leaderboard/displaylb.php?challengeid=11&compid=6',\n",
    "        'reference': 'https://github.com/TheLegendAli/DeepLab-Context2/blob/master/README.md?plain=1#L61'\n",
    "    },\n",
    "    {\n",
    "        'leaderboard': 'https://rank.opencompass.org.cn',\n",
    "        'reference': 'https://github.com/open-compass/opencompass/blob/main/README.md?plain=1#L78'\n",
    "    },\n",
    "    {\n",
    "        'leaderboard': 'https://github.com/ku21fan/COO-Comic-Onomatopoeia',\n",
    "        'reference': ''\n",
    "    },\n",
    "    {\n",
    "        'leaderboard': 'https://huggingface.co/spaces/InstaDeepAI/nucleotide_transformer_benchmark',\n",
    "        'reference': 'https://github.com/kuleshov-group/caduceus/blob/main/README.md?plain=1#L273'\n",
    "    },\n",
    "    {\n",
    "        'leaderboard': 'https://chartmimic.github.io',\n",
    "        'reference': 'https://github.com/ChartMimic/ChartMimic/blob/main/README.md?plain=1#L17'\n",
    "    },\n",
    "    {\n",
    "        'leaderboard': 'https://huggingface.co/spaces/uonlp/open_multilingual_llm_leaderboard',\n",
    "        'reference': 'https://github.com/nlp-uoregon/mlmm-evaluation/blob/main/README.md?plain=1#L59'\n",
    "    },\n",
    "    {\n",
    "        'leaderboard': 'https://microsoft.github.io/MSMARCO-Document-Ranking-Submissions/leaderboard',\n",
    "        'reference': 'https://github.com/thunlp/BERT-KPE/blob/master/README.md?plain=1#L168'\n",
    "    },\n",
    "    {\n",
    "        'leaderboard': 'https://github.com/PJLab-ADG/DriveArena',\n",
    "        'reference': ''\n",
    "    },\n",
    "    {\n",
    "        'leaderboard': 'https://github.com/xeneta/LeadQualifier',\n",
    "        'reference': ''\n",
    "    },\n",
    "    {\n",
    "        'leaderboard': 'https://github.com/thuml/Time-Series-Library',\n",
    "        'reference': ''\n",
    "    },\n",
    "    {\n",
    "        'leaderboard': 'https://eval.ai/web/challenges/challenge-page/1897/leaderboard',\n",
    "        'reference': 'https://github.com/mddunlap924/LangChain-SynData-RAG-Eval/blob/main/README.md?plain=1#L169'\n",
    "    },\n",
    "    {\n",
    "        'leaderboard': 'https://dataset.org/dream',\n",
    "        'reference': 'https://github.com/nlpdata/dream/blob/master/README.md?plain=1#L18'\n",
    "    },\n",
    "    {\n",
    "        'leaderboard': 'https://dfki-ric-underactuated-lab.github.io/real_ai_gym_leaderboard',\n",
    "        'reference': 'https://github.com/dfki-ric-underactuated-lab/double_pendulum/blob/main/README.md?plain=1#L180'\n",
    "    },\n",
    "    {\n",
    "        'leaderboard': 'https://github.com/SpeechColab/GigaSpeech',\n",
    "        'reference': ''\n",
    "    },\n",
    "    {\n",
    "        'leaderboard': 'https://huggingface.co/spaces/open-llm-leaderboard/open_llm_leaderboard',\n",
    "        'reference': 'https://github.com/yangjianxin1/Firefly/blob/master/README.md?plain=1#L88'\n",
    "    },\n",
    "    {\n",
    "        'leaderboard': 'https://www.kaggle.com/c/landmark-retrieval-2021/leaderboard',\n",
    "        'reference': 'https://github.com/WesleyZhang1991/Google_Landmark_Retrieval_2021_2nd_Place_Solution/blob/master/README.md?plain=1#L77'\n",
    "    },\n",
    "    {\n",
    "        'leaderboard': 'https://github.com/scottcha/OpenAvalancheProject',\n",
    "        'reference': ''\n",
    "    },\n",
    "    {\n",
    "        'leaderboard': 'https://github.com/salesforce/QAConv',\n",
    "        'reference': ''\n",
    "    },\n",
    "    {\n",
    "        'leaderboard': 'https://www.kaggle.com/competitions/restaurant-revenue-prediction/leaderboard',\n",
    "        'reference': 'https://github.com/justmarkham/DAT8/blob/master/README.md?plain=1#L477'\n",
    "    },\n",
    "    {\n",
    "        'leaderboard': 'https://huggingface.co/spaces/open-llm-leaderboard/open_llm_leaderboard',\n",
    "        'reference': 'https://github.com/uclaml/SPPO/blob/main/README.md?plain=1#L147'\n",
    "    },\n",
    "    {\n",
    "        'leaderboard': 'https://apolloscape.auto/leader_board.html',\n",
    "        'reference': 'https://github.com/LincanLi98/Awesome-Data-Centric-Autonomous-Driving/blob/main/README.md?plain=1#L68'\n",
    "    },\n",
    "    {\n",
    "        'leaderboard': 'https://motional.com/news/2023-nuplan-challenge',\n",
    "        'reference': 'https://github.com/LincanLi98/Awesome-Data-Centric-Autonomous-Driving/blob/main/README.md?plain=1#L107'\n",
    "    },\n",
    "    {\n",
    "        'leaderboard': 'https://paperswithcode.com/sota/3d-multi-object-tracking-on-nuscenes',\n",
    "        'reference': 'https://github.com/LincanLi98/Awesome-Data-Centric-Autonomous-Driving/blob/main/README.md?plain=1#L84'\n",
    "    },\n",
    "    {\n",
    "        'leaderboard': 'https://paperswithcode.com/sota/3d-object-detection-on-kitti-cars-moderate',\n",
    "        'reference': 'https://github.com/LincanLi98/Awesome-Data-Centric-Autonomous-Driving/blob/main/README.md?plain=1#L84'\n",
    "    },\n",
    "    {\n",
    "        'leaderboard': 'https://paperswithcode.com/sota/semantic-segmentation-on-cityscapes',\n",
    "        'reference': 'https://github.com/LincanLi98/Awesome-Data-Centric-Autonomous-Driving/blob/main/README.md?plain=1#L84'\n",
    "    },\n",
    "    {\n",
    "        'leaderboard': 'https://paperswithcode.com/sota/3d-semantic-segmentation-on-semantickitti',\n",
    "        'reference': 'https://github.com/LincanLi98/Awesome-Data-Centric-Autonomous-Driving/blob/main/README.md?plain=1#L84'\n",
    "    },\n",
    "    {\n",
    "        'leaderboard': 'https://paperswithcode.com/sota/video-panoptic-segmentation-on-cityscapes-vps',\n",
    "        'reference': 'https://github.com/LincanLi98/Awesome-Data-Centric-Autonomous-Driving/blob/main/README.md?plain=1#L84'\n",
    "    },\n",
    "    {\n",
    "        'leaderboard': 'https://paperswithcode.com/sota/lane-detection-on-culane',\n",
    "        'reference': 'https://github.com/LincanLi98/Awesome-Data-Centric-Autonomous-Driving/blob/main/README.md?plain=1#L84'\n",
    "    },\n",
    "    {\n",
    "        'leaderboard': 'https://paperswithcode.com/sota/point-cloud-retrieval-on-oxford-robotcar',\n",
    "        'reference': 'https://github.com/LincanLi98/Awesome-Data-Centric-Autonomous-Driving/blob/main/README.md?plain=1#L84'\n",
    "    },\n",
    "    {\n",
    "        'leaderboard': 'https://paperswithcode.com/sota/prediction-of-occupancy-grid-maps-on-occ3d',\n",
    "        'reference': 'https://github.com/LincanLi98/Awesome-Data-Centric-Autonomous-Driving/blob/main/README.md?plain=1#L84'\n",
    "    },\n",
    "    {\n",
    "        'leaderboard': 'https://paperswithcode.com/sota/3d-object-tracking-on-argoverse-cvpr-2020',\n",
    "        'reference': 'https://github.com/LincanLi98/Awesome-Data-Centric-Autonomous-Driving/blob/main/README.md?plain=1#L85'\n",
    "    },\n",
    "    {\n",
    "        'leaderboard': 'https://paperswithcode.com/sota/traffic-object-detection-on-bdd100k-val',\n",
    "        'reference': 'https://github.com/LincanLi98/Awesome-Data-Centric-Autonomous-Driving/blob/main/README.md?plain=1#L85'\n",
    "    },\n",
    "    {\n",
    "        'leaderboard': 'https://paperswithcode.com/sota/multi-object-tracking-and-segmentation-on-3',\n",
    "        'reference': 'https://github.com/LincanLi98/Awesome-Data-Centric-Autonomous-Driving/blob/main/README.md?plain=1#L85'\n",
    "    },\n",
    "    {\n",
    "        'leaderboard': 'https://paperswithcode.com/sota/lidar-semantic-segmentation-on-nuscenes',\n",
    "        'reference': 'https://github.com/LincanLi98/Awesome-Data-Centric-Autonomous-Driving/blob/main/README.md?plain=1#L85'\n",
    "    },\n",
    "    {\n",
    "        'leaderboard': 'https://paperswithcode.com/sota/lane-detection-on-tusimple',\n",
    "        'reference': 'https://github.com/LincanLi98/Awesome-Data-Centric-Autonomous-Driving/blob/main/README.md?plain=1#L85'\n",
    "    },\n",
    "    {\n",
    "        'leaderboard': 'https://paperswithcode.com/sota/multi-object-tracking-on-mot17',\n",
    "        'reference': 'https://github.com/LincanLi98/Awesome-Data-Centric-Autonomous-Driving/blob/main/README.md?plain=1#L86'\n",
    "    },\n",
    "    {\n",
    "        'leaderboard': 'https://paperswithcode.com/sota/3d-object-detection-on-waymo-pedestrian',\n",
    "        'reference': 'https://github.com/LincanLi98/Awesome-Data-Centric-Autonomous-Driving/blob/main/README.md?plain=1#L86'\n",
    "    },\n",
    "    {\n",
    "        'leaderboard': 'https://paperswithcode.com/sota/semantic-segmentation-on-kitti-360',\n",
    "        'reference': 'https://github.com/LincanLi98/Awesome-Data-Centric-Autonomous-Driving/blob/main/README.md?plain=1#L86'\n",
    "    },\n",
    "    {\n",
    "        'leaderboard': 'https://paperswithcode.com/sota/3d-lane-detection-on-openlane',\n",
    "        'reference': 'https://github.com/LincanLi98/Awesome-Data-Centric-Autonomous-Driving/blob/main/README.md?plain=1#L86'\n",
    "    },\n",
    "    {\n",
    "        'leaderboard': 'https://paperswithcode.com/sota/3d-object-detection-on-waymo-vehicle',\n",
    "        'reference': 'https://github.com/LincanLi98/Awesome-Data-Centric-Autonomous-Driving/blob/main/README.md?plain=1#L87'\n",
    "    },\n",
    "    {\n",
    "        'leaderboard': 'https://paperswithcode.com/sota/lane-detection-on-curvelanes',\n",
    "        'reference': 'https://github.com/LincanLi98/Awesome-Data-Centric-Autonomous-Driving/blob/main/README.md?plain=1#L87'\n",
    "    },\n",
    "    {\n",
    "        'leaderboard': 'https://paperswithcode.com/sota/trajectory-prediction-on-apolloscape-1',\n",
    "        'reference': 'https://github.com/LincanLi98/Awesome-Data-Centric-Autonomous-Driving/blob/main/README.md?plain=1#L96'\n",
    "    },\n",
    "    {\n",
    "        'leaderboard': 'https://paperswithcode.com/sota/trajectory-prediction-on-nuscenes',\n",
    "        'reference': 'https://github.com/LincanLi98/Awesome-Data-Centric-Autonomous-Driving/blob/main/README.md?plain=1#L97'\n",
    "    },\n",
    "    {\n",
    "        'leaderboard': 'https://paperswithcode.com/sota/motion-forecasting-on-argoverse-cvpr-2020',\n",
    "        'reference': 'https://github.com/LincanLi98/Awesome-Data-Centric-Autonomous-Driving/blob/main/README.md?plain=1#L98'\n",
    "    },\n",
    "    {\n",
    "        'leaderboard': 'https://paperswithcode.com/sota/trajectory-prediction-on-lyft-level-5',\n",
    "        'reference': 'https://github.com/LincanLi98/Awesome-Data-Centric-Autonomous-Driving/blob/main/README.md?plain=1#L100'\n",
    "    },\n",
    "    {\n",
    "        'leaderboard': 'https://paperswithcode.com/sota/autonomous-driving-on-carla-leaderboard',\n",
    "        'reference': 'https://github.com/LincanLi98/Awesome-Data-Centric-Autonomous-Driving/blob/main/README.md?plain=1#L108'\n",
    "    },\n",
    "    {\n",
    "        'leaderboard': 'https://ogb.stanford.edu/docs/leader_linkprop/#ogbl-wikikg2',\n",
    "        'reference': 'https://github.com/migalkin/NodePiece/blob/main/readme.md?plain=1#L138'\n",
    "    },\n",
    "    {\n",
    "        'leaderboard': 'https://huggingface.co/spaces/open-llm-leaderboard/open_llm_leaderboard',\n",
    "        'reference': 'https://github.com/themanyone/whisper_dictation/blob/main/README.md?plain=1#L82'\n",
    "    },\n",
    "    {\n",
    "        'leaderboard': 'https://github.com/zeyofu/BLINK_Benchmark',\n",
    "        'reference': ''\n",
    "    },\n",
    "    {\n",
    "        'leaderboard': 'https://huggingface.co/spaces/mteb/leaderboard',\n",
    "        'reference': 'https://github.com/thinknimble/embeddings-search-demo/blob/main/README.md?plain=1#L17'\n",
    "    },\n",
    "    {\n",
    "        'leaderboard': 'https://github.com/vztu/BVQA_Benchmark',\n",
    "        'reference': 'https://github.com/vztu/VIDEVAL/blob/master/README.md?plain=1#L9'\n",
    "    },\n",
    "    {\n",
    "        'leaderboard': 'https://github.com/BinWang28/EvalRank-Embedding-Evaluation',\n",
    "        'reference': ''\n",
    "    },\n",
    "    {\n",
    "        'leaderboard': 'https://blackboxbench.github.io',\n",
    "        'reference': 'https://github.com/SCLBD/BlackboxBench/blob/main/README.md?plain=1#L10'\n",
    "    },\n",
    "    {\n",
    "        'leaderboard': 'https://tatsu-lab.github.io/alpaca_eval',\n",
    "        'reference': 'https://github.com/xfactlab/orpo/blob/main/README.md?plain=1#L8'\n",
    "    },\n",
    "    {\n",
    "        'leaderboard': 'https://huggingface.co/spaces/open-llm-leaderboard/open_llm_leaderboard',\n",
    "        'reference': 'https://github.com/xfactlab/orpo/blob/main/README.md?plain=1#L8'\n",
    "    },\n",
    "    {\n",
    "        'leaderboard': 'https://github.com/QQ-MM/Video-CCAM',\n",
    "        'reference': ''\n",
    "    },\n",
    "    {\n",
    "        'leaderboard': 'https://paperswithcode.com/sota/facial-expression-recognition-on-fer2013',\n",
    "        'reference': 'https://github.com/LetheSec/Fer2013-Facial-Emotion-Recognition-Pytorch/blob/main/README.md?plain=1#L21'\n",
    "    },\n",
    "    {\n",
    "        'leaderboard': 'https://espere-1119-song.github.io/LOVEU-CVPR-24-Track-1-Leaderboard',\n",
    "        'reference': 'https://github.com/rese1f/MovieChat/blob/main/README.md?plain=1#L24'\n",
    "    },\n",
    "    {\n",
    "        'leaderboard': 'https://github.com/csdongxian/AWP',\n",
    "        'reference': ''\n",
    "    },\n",
    "    {\n",
    "        'leaderboard': 'https://visualqa.org/roe.html',\n",
    "        'reference': 'https://github.com/CCYChongyanChen/VQA_AlgorithmDatasets/blob/master/readme.md?plain=1#L26'\n",
    "    },\n",
    "    {\n",
    "        'leaderboard': 'https://eval.ai/web/challenges/challenge-page/1560/leaderboard',\n",
    "        'reference': 'https://github.com/CCYChongyanChen/VQA_AlgorithmDatasets/blob/master/readme.md?plain=1#L51'\n",
    "    },\n",
    "    {\n",
    "        'leaderboard': 'https://github.com/neulab/REALSumm',\n",
    "        'reference': ''\n",
    "    },\n",
    "    {\n",
    "        'leaderboard': 'https://eval.ai/web/challenges/challenge-page/503/leaderboard',\n",
    "        'reference': 'https://github.com/SiyuanWangw/LReasoner/blob/master/README.md?plain=1#L4'\n",
    "    },\n",
    "    {\n",
    "        'leaderboard': 'https://robustbench.github.io',\n",
    "        'reference': 'https://github.com/fra31/auto-attack/blob/master/README.md?plain=1#L139'\n",
    "    },\n",
    "    {\n",
    "        'leaderboard': 'https://ai.google.com/research/NaturalQuestions',\n",
    "        'reference': 'https://github.com/google-research-datasets/natural-questions/blob/master/README.md?plain=1#L9'\n",
    "    },\n",
    "    {\n",
    "        'leaderboard': 'https://github.com/sintel-dev/Orion',\n",
    "        'reference': ''\n",
    "    },\n",
    "    {\n",
    "        'leaderboard': 'https://github.com/ParallelDots/generic-sku-detection-benchmark',\n",
    "        'reference': ''\n",
    "    },\n",
    "    {\n",
    "        'leaderboard': 'https://ogb.stanford.edu/docs/lsc/leaderboards',\n",
    "        'reference': 'https://github.com/PaddlePaddle/PaddleHelix/blob/dev/README.md?plain=1#L31'\n",
    "    },\n",
    "    {\n",
    "        'leaderboard': 'https://github.com/reka-ai/reka-vibe-eval',\n",
    "        'reference': ''\n",
    "    },\n",
    "    {\n",
    "        'leaderboard': 'https://huggingface.co/spaces/open-llm-leaderboard/open_llm_leaderboard',\n",
    "        'reference': 'https://github.com/mallahyari/llm-hub/blob/main/README.md?plain=1#L462'\n",
    "    },\n",
    "    {\n",
    "        'leaderboard': 'https://russiansuperglue.com/leaderboard/2',\n",
    "        'reference': 'https://github.com/RussianNLP/RussianSuperGLUE/blob/master/README.md?plain=1#L28'\n",
    "    },\n",
    "    {\n",
    "        'leaderboard': 'https://microsoft.github.io/CodeXGLUE',\n",
    "        'reference': 'https://github.com/microsoft/CodeXGLUE/blob/main/README.md?plain=1#L33'\n",
    "    },\n",
    "    {\n",
    "        'leaderboard': 'https://github.com/fastai/imagenette',\n",
    "        'reference': ''\n",
    "    },\n",
    "    {\n",
    "        'leaderboard': 'https://ai.google.com/research/rxr/competition',\n",
    "        'reference': 'https://github.com/google-research-datasets/RxR/blob/main/README.md?plain=1#L128'\n",
    "    },\n",
    "    {\n",
    "        'leaderboard': 'https://huggingface.co/spaces/locuslab/tofu_leaderboard',\n",
    "        'reference': 'https://github.com/locuslab/tofu/blob/main/README.md?plain=1#L11'\n",
    "    },\n",
    "    {\n",
    "        'leaderboard': 'https://huggingface.co/spaces/lmsys/chatbot-arena-leaderboard',\n",
    "        'reference': 'https://github.com/mshojaei77/Awesome-AI/blob/main/README.md?plain=1#L69'\n",
    "    },\n",
    "    {\n",
    "        'leaderboard': 'https://huggingface.co/spaces/open-llm-leaderboard/open_llm_leaderboard',\n",
    "        'reference': 'https://github.com/mshojaei77/Awesome-AI/blob/main/README.md?plain=1#L69'\n",
    "    },\n",
    "    {\n",
    "        'leaderboard': 'https://tatsu-lab.github.io/alpaca_eval',\n",
    "        'reference': 'https://github.com/CLUEbenchmark/SuperCLUE-Open/blob/main/README.md?plain=1#L269'\n",
    "    },\n",
    "    {\n",
    "        'leaderboard': 'https://microsoft.github.io/XGLUE',\n",
    "        'reference': 'https://github.com/microsoft/Unicoder/blob/master/README.md?plain=1#L2'\n",
    "    },\n",
    "    {\n",
    "        'leaderboard': 'https://github.com/gjy3035/Awesome-Crowd-Counting',\n",
    "        'reference': ''\n",
    "    },\n",
    "    {\n",
    "        'leaderboard': 'https://eval.ai/web/challenges/challenge-page/453/leaderboard',\n",
    "        'reference': 'https://github.com/johnwlambert/argoverse_cbgs_kf_tracker/blob/master/README.md?plain=1#L15'\n",
    "    },\n",
    "    {\n",
    "        'leaderboard': 'https://github.com/zwq2018/Multi-modal-Self-instruct',\n",
    "        'reference': ''\n",
    "    },\n",
    "    {\n",
    "        'leaderboard': 'https://www.tanksandtemples.org/leaderboard',\n",
    "        'reference': 'https://github.com/XYZ-qiyh/Awesome-Learning-MVS/blob/main/README.md?plain=1#L132'\n",
    "    },\n",
    "    {\n",
    "        'leaderboard': 'https://proteinshake.ai/#leaderboard',\n",
    "        'reference': 'https://github.com/BorgwardtLab/proteinshake/blob/main/README.md?plain=1#L24'\n",
    "    },\n",
    "    {\n",
    "        'leaderboard': 'https://stanfordnlp.github.io/coqa',\n",
    "        'reference': 'https://github.com/microsoft/SDNet/blob/master/README.md?plain=1#L3'\n",
    "    },\n",
    "    {\n",
    "        'leaderboard': 'https://kobiso.github.io/Computer-Vision-Leaderboard/imagenet',\n",
    "        'reference': 'https://github.com/kobiso/Computer-Vision-Leaderboard/blob/master/README.md?plain=1#L10'\n",
    "    },\n",
    "    {\n",
    "        'leaderboard': 'https://kobiso.github.io/Computer-Vision-Leaderboard/sop',\n",
    "        'reference': 'https://github.com/kobiso/Computer-Vision-Leaderboard/blob/master/README.md?plain=1#L11'\n",
    "    },\n",
    "    {\n",
    "        'leaderboard': 'https://kobiso.github.io/Computer-Vision-Leaderboard/cars',\n",
    "        'reference': 'https://github.com/kobiso/Computer-Vision-Leaderboard/blob/master/README.md?plain=1#L12'\n",
    "    },\n",
    "    {\n",
    "        'leaderboard': 'https://kobiso.github.io/Computer-Vision-Leaderboard/cub',\n",
    "        'reference': 'https://github.com/kobiso/Computer-Vision-Leaderboard/blob/master/README.md?plain=1#L13'\n",
    "    },\n",
    "    {\n",
    "        'leaderboard': 'https://kobiso.github.io/Computer-Vision-Leaderboard/in-shop',\n",
    "        'reference': 'https://github.com/kobiso/Computer-Vision-Leaderboard/blob/master/README.md?plain=1#L14'\n",
    "    },\n",
    "    {\n",
    "        'leaderboard': 'https://huggingface.co/spaces/relbench/leaderboard',\n",
    "        'reference': 'https://github.com/snap-stanford/relbench/blob/main/README.md?plain=1#L27'\n",
    "    },\n",
    "    {\n",
    "        'leaderboard': 'https://boson.ai/rpbench',\n",
    "        'reference': 'https://github.com/Neph0s/awesome-llm-role-playing-with-persona/blob/main/README.md?plain=1#L23'\n",
    "    },\n",
    "    {\n",
    "        'leaderboard': 'https://huggingface.co/spaces/bigcode/bigcode-models-leaderboard',\n",
    "        'reference': 'https://github.com/OpenCodeInterpreter/OpenCodeInterpreter/blob/main/README.md?plain=1#L137'\n",
    "    },\n",
    "    {\n",
    "        'leaderboard': 'https://github.com/OpenGVLab/MMT-Bench',\n",
    "        'reference': ''\n",
    "    },\n",
    "    {\n",
    "        'leaderboard': 'https://open-compass.github.io/MathBench',\n",
    "        'reference': 'https://github.com/open-compass/MathBench/blob/main/README.md?plain=1#L19'\n",
    "    },\n",
    "    {\n",
    "        'leaderboard': 'https://huggingface.co/spaces/open-llm-leaderboard/open_llm_leaderboard',\n",
    "        'reference': 'https://github.com/teticio/llama-squad/blob/main/README.md?plain=1#L264'\n",
    "    },\n",
    "    {\n",
    "        'leaderboard': 'https://paperswithcode.com/task/entity-alignment',\n",
    "        'reference': 'https://github.com/THU-KEG/Entity_Alignment_Papers/blob/master/README.md?plain=1#L6'\n",
    "    },\n",
    "    {\n",
    "        'leaderboard': 'https://leaderboard.allenai.org/flex',\n",
    "        'reference': 'https://github.com/allenai/flex/blob/main/README.md?plain=1#L18'\n",
    "    },\n",
    "    {\n",
    "        'leaderboard': 'https://leaderboard.allenai.org/flex_meta',\n",
    "        'reference': 'https://github.com/allenai/flex/blob/main/README.md?plain=1#L19'\n",
    "    },\n",
    "    {\n",
    "        'leaderboard': 'https://codalab.lisn.upsaclay.fr/competitions/9121',\n",
    "        'reference': 'https://github.com/bao18/open_earth_map/blob/main/README.md?plain=1#L55'\n",
    "    },\n",
    "    {\n",
    "        'leaderboard': 'https://cl-detection2023.grand-challenge.org/evaluation/challenge/leaderboard',\n",
    "        'reference': 'https://github.com/szuboy/CL-Detection2023/blob/main/README.md?plain=1#L12'\n",
    "    },\n",
    "    {\n",
    "        'leaderboard': 'https://leaderboard.carla.org/leaderboard',\n",
    "        'reference': 'https://github.com/OpenDriveLab/End-to-end-Autonomous-Driving/blob/main/README.md?plain=1#L134'\n",
    "    },\n",
    "    {\n",
    "        'leaderboard': 'https://eval.ai/web/challenges/challenge-page/1856/leaderboard',\n",
    "        'reference': 'https://github.com/OpenDriveLab/End-to-end-Autonomous-Driving/blob/main/README.md?plain=1#L138'\n",
    "    },\n",
    "    {\n",
    "        'leaderboard': 'https://lamalab-org.github.io/chem-bench/leaderboard',\n",
    "        'reference': 'https://github.com/materials-data-facility/matchem-llm/blob/main/README.md?plain=1#L21'\n",
    "    },\n",
    "    {\n",
    "        'leaderboard': 'https://hf.co/spaces/mteb/leaderboard',\n",
    "        'reference': 'https://github.com/neuml/txtai/blob/master/README.md?plain=1#L197'\n",
    "    },\n",
    "    {\n",
    "        'leaderboard': 'https://lmarena.ai/?leaderboard',\n",
    "        'reference': 'https://github.com/neuml/txtai/blob/master/README.md?plain=1#L198'\n",
    "    },\n",
    "    {\n",
    "        'leaderboard': 'https://huggingface.co/spaces/open-llm-leaderboard/open_llm_leaderboard',\n",
    "        'reference': 'https://github.com/neuml/txtai/blob/master/README.md?plain=1#L199'\n",
    "    },\n",
    "    {\n",
    "        'leaderboard': 'https://ogb.stanford.edu/docs/lsc/leaderboards/#pcqm4mv2',\n",
    "        'reference': 'https://github.com/graphcore/ogb-lsc-pcqm4mv2/blob/main/README.md?plain=1#L42'\n",
    "    },\n",
    "    {\n",
    "        'leaderboard': 'https://www.cvlibs.net/datasets/kitti/eval_scene_flow.php?benchmark=stereo',\n",
    "        'reference': 'https://github.com/JiaRenChang/PSMNet/blob/master/README.md?plain=1#L113'\n",
    "    },\n",
    "    {\n",
    "        'leaderboard': 'https://rucola-benchmark.com/leaderboard',\n",
    "        'reference': 'https://github.com/RussianNLP/RuCoLA/blob/main/README.md?plain=1#L7'\n",
    "    },\n",
    "    {\n",
    "        'leaderboard': 'https://github.com/Kinkelin/WordleCompetition',\n",
    "        'reference': ''\n",
    "    },\n",
    "    {\n",
    "        'leaderboard': 'https://github.com/scicode-bench/SciCode',\n",
    "        'reference': ''\n",
    "    },\n",
    "    {\n",
    "        'leaderboard': 'https://www.cvlibs.net/datasets/kitti/eval_scene_flow.php?benchmark=flow',\n",
    "        'reference': 'https://github.com/gengshan-y/VCN/blob/master/README.md?plain=1#L22'\n",
    "    },\n",
    "    {\n",
    "        'leaderboard': 'https://waymo.com/open/challenges/2021/real-time-3d-prediction',\n",
    "        'reference': 'https://github.com/tusen-ai/RangeDet/blob/main/README.md?plain=1#L79'\n",
    "    },\n",
    "    {\n",
    "        'leaderboard': 'https://www.tau-nlp.org/csqa-leaderboard',\n",
    "        'reference': 'https://github.com/microsoft/KEAR/blob/main/README.md?plain=1#L18'\n",
    "    },\n",
    "    {\n",
    "        'leaderboard': 'https://tatsu-lab.github.io/alpaca_eval',\n",
    "        'reference': 'https://github.com/01-ai/Yi/blob/main/README.md?plain=1#L136'\n",
    "    },\n",
    "    {\n",
    "        'leaderboard': 'https://huggingface.co/spaces/open-llm-leaderboard/open_llm_leaderboard',\n",
    "        'reference': 'https://github.com/01-ai/Yi/blob/main/README.md?plain=1#L1263'\n",
    "    },\n",
    "    {\n",
    "        'leaderboard': 'https://rank.opencompass.org.cn/leaderboard-llm',\n",
    "        'reference': 'https://github.com/01-ai/Yi/blob/main/README.md?plain=1#L1265'\n",
    "    },\n",
    "    {\n",
    "        'leaderboard': 'https://dki-lab.github.io/GrailQA',\n",
    "        'reference': 'https://github.com/microsoft/KC/blob/main/README.md?plain=1#L16'\n",
    "    },\n",
    "    {\n",
    "        'leaderboard': 'https://github.com/ChineseGLUE/ChineseGLUE',\n",
    "        'reference': ''\n",
    "    },\n",
    "    {\n",
    "        'leaderboard': 'https://leaderboard.allenai.org/alfred',\n",
    "        'reference': 'https://github.com/askforalfred/alfred/blob/master/README.md?plain=1#L141'\n",
    "    },\n",
    "    {\n",
    "        'leaderboard': 'https://github.com/MozerWang/Loong',\n",
    "        'reference': ''\n",
    "    },\n",
    "    {\n",
    "        'leaderboard': 'https://paperswithcode.com/sota/object-detection-on-coco',\n",
    "        'reference': 'https://github.com/digantamisra98/Mish/blob/master/README.md?plain=1#L47'\n",
    "    },\n",
    "    {\n",
    "        'leaderboard': 'https://github.com/SpeechColab/Leaderboard',\n",
    "        'reference': ''\n",
    "    },\n",
    "    {\n",
    "        'leaderboard': 'https://huggingface.co/spaces/optimum/llm-perf-leaderboard',\n",
    "        'reference': 'https://github.com/horseee/Awesome-Efficient-LLM/blob/main/leaderboard.md?plain=1#L5'\n",
    "    },\n",
    "    {\n",
    "        'leaderboard': 'https://huggingface.co/spaces/AI-Secure/llm-trustworthy-leaderboard',\n",
    "        'reference': 'https://github.com/horseee/Awesome-Efficient-LLM/blob/main/leaderboard.md?plain=1#L6'\n",
    "    },\n",
    "    {\n",
    "        'leaderboard': 'https://github.com/ray-project/llmperf-leaderboard',\n",
    "        'reference': 'https://github.com/horseee/Awesome-Efficient-LLM/blob/main/leaderboard.md?plain=1#L7'\n",
    "    },\n",
    "    {\n",
    "        'leaderboard': 'https://artificialanalysis.ai/leaderboards/providers',\n",
    "        'reference': 'https://github.com/horseee/Awesome-Efficient-LLM/blob/main/leaderboard.md?plain=1#L8'\n",
    "    },\n",
    "    {\n",
    "        'leaderboard': 'https://huggingface.co/spaces/ml-energy/leaderboard',\n",
    "        'reference': 'https://github.com/horseee/Awesome-Efficient-LLM/blob/main/leaderboard.md?plain=1#L9'\n",
    "    },\n",
    "    {\n",
    "        'leaderboard': 'https://artificialanalysis.ai/leaderboards/models',\n",
    "        'reference': 'https://github.com/horseee/Awesome-Efficient-LLM/blob/main/leaderboard.md?plain=1#L10'\n",
    "    },\n",
    "    {\n",
    "        'leaderboard': 'https://leaderboard.withmartian.com',\n",
    "        'reference': 'https://github.com/horseee/Awesome-Efficient-LLM/blob/main/leaderboard.md?plain=1#L11'\n",
    "    },\n",
    "    {\n",
    "        'leaderboard': 'https://bop.felk.cvut.cz/leaderboards',\n",
    "        'reference': 'https://github.com/ylabbe/cosypose/blob/master/README.md?plain=1#L51'\n",
    "    },\n",
    "    {\n",
    "        'leaderboard': 'https://github.com/hendrycks/ethics',\n",
    "        'reference': ''\n",
    "    },\n",
    "    {\n",
    "        'leaderboard': 'https://codalab.lisn.upsaclay.fr/competitions/11784',\n",
    "        'reference': 'https://github.com/tanfiona/CausalNewsCorpus/blob/master/README.md?plain=1#L36'\n",
    "    },\n",
    "    {\n",
    "        'leaderboard': 'https://www.creatis.insa-lyon.fr/Challenge/acdc/results.html',\n",
    "        'reference': 'https://github.com/MIC-DKFZ/ACDC2017/blob/master/README.md?plain=1#L9'\n",
    "    },\n",
    "    {\n",
    "        'leaderboard': 'https://github.com/cs-chan/Total-Text-Dataset',\n",
    "        'reference': ''\n",
    "    },\n",
    "    {\n",
    "        'leaderboard': 'https://huggingface.co/spaces/open-llm-leaderboard/open_llm_leaderboard',\n",
    "        'reference': 'https://github.com/ntunlp/OpenSource-LLMs-better-than-OpenAI/blob/main/README.md?plain=1#L13'\n",
    "    },\n",
    "    {\n",
    "        'leaderboard': 'https://github.com/THUDM/NaturalCodeBench',\n",
    "        'reference': ''\n",
    "    },\n",
    "    {\n",
    "        'leaderboard': 'https://huggingface.co/spaces/mlfoundations/VisIT-Bench-Leaderboard',\n",
    "        'reference': 'https://github.com/mlfoundations/VisIT-Bench/blob/main/README.md?plain=1#L3'\n",
    "    },\n",
    "    {\n",
    "        'leaderboard': 'https://huggingface.co/spaces/AudioLLMs/AudioBench-Leaderboard',\n",
    "        'reference': 'https://github.com/AudioLLMs/AudioLLM/blob/main/README.md?plain=1#L66'\n",
    "    },\n",
    "    {\n",
    "        'leaderboard': 'https://www.kaggle.com/c/rsna-intracranial-hemorrhage-detection/leaderboard',\n",
    "        'reference': 'https://github.com/darraghdog/rsna/blob/master/README.md?plain=1#L87'\n",
    "    },\n",
    "    {\n",
    "        'leaderboard': 'https://huggingface.co/spaces/open-llm-leaderboard/open_llm_leaderboard',\n",
    "        'reference': 'https://github.com/EleutherAI/lm-evaluation-harness/blob/main/README.md?plain=1#L50'\n",
    "    },\n",
    "    {\n",
    "        'leaderboard': 'https://microsoft.github.io/MSMARCO-Document-Ranking-Submissions/leaderboard',\n",
    "        'reference': 'https://github.com/castorini/docTTTTTquery/blob/master/README.md?plain=1#L12'\n",
    "    },\n",
    "    {\n",
    "        'leaderboard': 'https://leaderboard.allenai.org',\n",
    "        'reference': 'https://github.com/allenai/aristo-leaderboard/blob/master/README.md?plain=1#L1'\n",
    "    },\n",
    "    {\n",
    "        'leaderboard': 'https://junjie-chu.github.io/Public_Comprehensive_Assessment_Jailbreak/leaderboard',\n",
    "        'reference': 'https://github.com/TrustAIRLab/Comprehensive_Jailbreak_Assessment/blob/main/README.md?plain=1#L80'\n",
    "    },\n",
    "    {\n",
    "        'leaderboard': 'https://github.com/LuoweiZhou/YouCook2-Leaderboard',\n",
    "        'reference': ''\n",
    "    },\n",
    "    {\n",
    "        'leaderboard': 'https://pages.nist.gov/jarvis_leaderboard',\n",
    "        'reference': 'https://github.com/usnistgov/jarvis_leaderboard/blob/main/README.md?plain=1#L14'\n",
    "    },\n",
    "    {\n",
    "        'leaderboard': 'https://opus.nlpl.eu/dashboard',\n",
    "        'reference': 'https://github.com/Helsinki-NLP/Tatoeba-Challenge/blob/master/README.md?plain=1#L10'\n",
    "    },\n",
    "    {\n",
    "        'leaderboard': 'https://www.kaggle.com/competitions/2023-gwdata-bootcamp/leaderboard',\n",
    "        'reference': 'https://github.com/iphysresearch/GWData-Bootcamp/blob/main/README.md?plain=1#L623'\n",
    "    },\n",
    "    {\n",
    "        'leaderboard': 'https://github.com/bcmi/Awesome-Generative-Image-Composition',\n",
    "        'reference': ''\n",
    "    },\n",
    "    {\n",
    "        'leaderboard': 'https://leaderboard.allenai.org',\n",
    "        'reference': 'https://github.com/allenai/ai2thor-rearrangement/blob/main/README.md?plain=1#L352'\n",
    "    },\n",
    "    {\n",
    "        'leaderboard': 'https://github.com/AINativeLab/gptstore-data-backup',\n",
    "        'reference': ''\n",
    "    },\n",
    "    {\n",
    "        'leaderboard': 'https://www.scrolls-benchmark.com/leaderboard',\n",
    "        'reference': 'https://github.com/tau-nlp/scrolls/blob/main/README.md?plain=1#L7'\n",
    "    },\n",
    "    {\n",
    "        'leaderboard': 'https://github.com/Helsinki-NLP/OPUS-MT-leaderboard',\n",
    "        'reference': 'https://github.com/Helsinki-NLP/OPUS/blob/main/README.md?plain=1#L44'\n",
    "    },\n",
    "    {\n",
    "        'leaderboard': 'https://paperswithcode.com/dataset/foodseg103',\n",
    "        'reference': 'https://github.com/LARC-CMU-SMU/FoodSeg103-Benchmark-v1/blob/main/README.md?plain=1#L35'\n",
    "    },\n",
    "    {\n",
    "        'leaderboard': 'https://eval.ai/web/challenges/challenge-page/1697/leaderboard',\n",
    "        'reference': 'https://github.com/alexa/massive/blob/main/README.md?plain=1#L12'\n",
    "    },\n",
    "    {\n",
    "        'leaderboard': 'https://github.com/shikras/d-cube/tree/main/eval_sota',\n",
    "        'reference': 'https://github.com/shikras/d-cube/blob/main/README.md?plain=1#L30'\n",
    "    },\n",
    "    {\n",
    "        'leaderboard': 'https://codetlingua.github.io/leaderboard.html',\n",
    "        'reference': 'https://github.com/Intelligent-CAT-Lab/PLTranslationEmpirical/blob/main/README.md?plain=1#L22'\n",
    "    },\n",
    "    {\n",
    "        'leaderboard': 'https://github.com/eosphoros-ai/Awesome-Text2SQL',\n",
    "        'reference': ''\n",
    "    },\n",
    "    {\n",
    "        'leaderboard': 'https://huggingface.co/spaces/AILab-CVC/SEED-Bench_Leaderboard',\n",
    "        'reference': 'https://github.com/AILab-CVC/SEED-Bench/blob/main/README.md?plain=1#L31'\n",
    "    },\n",
    "    {\n",
    "        'leaderboard': 'https://huggingface.co/spaces/AGC2024-P/e2e-driving-navsim',\n",
    "        'reference': 'https://github.com/autonomousvision/navsim/blob/main/README.md?plain=1#L6'\n",
    "    },\n",
    "    {\n",
    "        'leaderboard': 'https://huggingface.co/spaces/optimum/llm-perf-leaderboard',\n",
    "        'reference': 'https://github.com/huggingface/optimum-benchmark/blob/main/README.md?plain=1#L22'\n",
    "    },\n",
    "    {\n",
    "        'leaderboard': 'https://appworld.dev/leaderboard',\n",
    "        'reference': 'https://github.com/open-thought/system-2-research/blob/main/README.md?plain=1#L318'\n",
    "    },\n",
    "    {\n",
    "        'leaderboard': 'https://docs.google.com/spreadsheets/d/1M801lEpBbKSNwP-vDBkC_pF7LdyGU1f_ufZb_NWNBZQ',\n",
    "        'reference': 'https://github.com/open-thought/system-2-research/blob/main/README.md?plain=1#L320'\n",
    "    },\n",
    "    {\n",
    "        'leaderboard': 'https://www.kaggle.com/competitions/arc-prize-2024/leaderboard',\n",
    "        'reference': 'https://github.com/open-thought/system-2-research/blob/main/README.md?plain=1#L321'\n",
    "    },\n",
    "    {\n",
    "        'leaderboard': 'https://gaia-benchmark-leaderboard.hf.space',\n",
    "        'reference': 'https://github.com/open-thought/system-2-research/blob/main/README.md?plain=1#L323'\n",
    "    },\n",
    "    {\n",
    "        'leaderboard': 'https://huggingface.co/spaces/allenai/ZebraLogic',\n",
    "        'reference': 'https://github.com/open-thought/system-2-research/blob/main/README.md?plain=1#L326'\n",
    "    },\n",
    "    {\n",
    "        'leaderboard': 'https://huggingface.co/spaces/bigcode/bigcodebench-leaderboard',\n",
    "        'reference': 'https://github.com/open-thought/system-2-research/blob/main/README.md?plain=1#L330'\n",
    "    },\n",
    "    {\n",
    "        'leaderboard': 'https://codalab.lisn.upsaclay.fr/competitions/4318',\n",
    "        'reference': 'https://github.com/amathislab/HOISDF/blob/main/README.md?plain=1#L74'\n",
    "    },\n",
    "    {\n",
    "        'leaderboard': 'https://huggingface.co/spaces/vidore/vidore-leaderboard',\n",
    "        'reference': 'https://github.com/illuin-tech/colpali/blob/main/README.md?plain=1#L14'\n",
    "    },\n",
    "    {\n",
    "        'leaderboard': 'https://ultraeval.openbmb.cn/rank',\n",
    "        'reference': 'https://github.com/OpenBMB/UltraEval/blob/main/README.md?plain=1#L227'\n",
    "    },\n",
    "    {\n",
    "        'leaderboard': 'https://good.readthedocs.io/en/latest/leaderboard.html',\n",
    "        'reference': 'https://github.com/divelab/GOOD/blob/GOODv1/README.md?plain=1#L54'\n",
    "    },\n",
    "    {\n",
    "        'leaderboard': 'https://github.com/hendrycks/test',\n",
    "        'reference': ''\n",
    "    },\n",
    "    {\n",
    "        'leaderboard': 'https://github.com/google-research/long-range-arena',\n",
    "        'reference': ''\n",
    "    },\n",
    "    {\n",
    "        'leaderboard': 'https://pages.cs.huji.ac.il/adiyoss-lab/salmon',\n",
    "        'reference': 'https://github.com/slp-rl/salmon/blob/main/README.md?plain=1#L62'\n",
    "    },\n",
    "    {\n",
    "        'leaderboard': 'https://leaderboard.allenai.org/strategyqa',\n",
    "        'reference': 'https://github.com/eladsegal/strategyqa/blob/main/README.md?plain=1#L146'\n",
    "    },\n",
    "    {\n",
    "        'leaderboard': 'https://gluebenchmark.com/leaderboard',\n",
    "        'reference': 'https://github.com/yoshitomo-matsubara/torchdistill/blob/main/README.md?plain=1#L81'\n",
    "    },\n",
    "    {\n",
    "        'leaderboard': 'https://github.com/hendrycks/test',\n",
    "        'reference': 'https://github.com/openseg-group/openseg.pytorch/blob/master/README.md?plain=1#L37'\n",
    "    },\n",
    "    {\n",
    "        'leaderboard': 'https://github.com/JokerJohn/PRCV-VSLAM-Challenge-2022',\n",
    "        'reference': ''\n",
    "    },\n",
    "    {\n",
    "        'leaderboard': 'https://www.kaggle.com/c/santander-customer-transaction-prediction/leaderboard',\n",
    "        'reference': 'https://github.com/KazukiOnodera/Santander-Customer-Transaction-Prediction/blob/master/README.md?plain=1#L3'\n",
    "    },\n",
    "    {\n",
    "        'leaderboard': 'https://github.com/JokerJohn/PRCV-VSLAM-Challenge-2022',\n",
    "        'reference': 'https://github.com/openseg-group/openseg.pytorch/blob/master/README.md?plain=1#L40'\n",
    "    },\n",
    "    {\n",
    "        'leaderboard': 'https://github.com/MadryLab/mnist_challenge',\n",
    "        'reference': 'https://github.com/tianzheng4/Distributionally-Adversarial-Attack/blob/master/README.md?plain=1#L26'\n",
    "    },\n",
    "    {\n",
    "        'leaderboard': 'https://github.com/MadryLab/cifar10_challenge',\n",
    "        'reference': 'https://github.com/tianzheng4/Distributionally-Adversarial-Attack/blob/master/README.md?plain=1#L28'\n",
    "    },\n",
    "    {\n",
    "        'leaderboard': 'https://www.kaggle.com/competitions/llm-merging-competition/leaderboard',\n",
    "        'reference': 'https://github.com/llm-merging/LLM-Merging/blob/main/README.md?plain=1#L91'\n",
    "    },\n",
    "    {\n",
    "        'leaderboard': 'https://huggingface.co/spaces/margsli/merging_competition',\n",
    "        'reference': 'https://github.com/llm-merging/LLM-Merging/blob/main/README.md?plain=1#L94'\n",
    "    },\n",
    "    {\n",
    "        'leaderboard': 'https://lmarena.ai/?leaderboard',\n",
    "        'reference': 'https://github.com/tjunlp-lab/Awesome-LLMs-Evaluation-Papers/blob/main/README.md?plain=1#L1333'\n",
    "    },\n",
    "    {\n",
    "        'leaderboard': 'http://www.lavicleva.com/',\n",
    "        'reference': 'https://github.com/tjunlp-lab/Awesome-LLMs-Evaluation-Papers/blob/main/README.md?plain=1#L1334'\n",
    "    },\n",
    "    {\n",
    "        'leaderboard': 'https://flageval.baai.ac.cn/#/leaderboard',\n",
    "        'reference': 'https://github.com/tjunlp-lab/Awesome-LLMs-Evaluation-Papers/blob/main/README.md?plain=1#L1335'\n",
    "    },\n",
    "    {\n",
    "        'leaderboard': 'https://crfm.stanford.edu/helm',\n",
    "        'reference': 'https://github.com/tjunlp-lab/Awesome-LLMs-Evaluation-Papers/blob/main/README.md?plain=1#L1336'\n",
    "    },\n",
    "    {\n",
    "        'leaderboard': 'https://huggingface.co/spaces/open-llm-leaderboard/open_llm_leaderboard',\n",
    "        'reference': 'https://github.com/tjunlp-lab/Awesome-LLMs-Evaluation-Papers/blob/main/README.md?plain=1#L1337'\n",
    "    },\n",
    "    {\n",
    "        'leaderboard': 'https://rank.opencompass.org.cn',\n",
    "        'reference': 'https://github.com/tjunlp-lab/Awesome-LLMs-Evaluation-Papers/blob/main/README.md?plain=1#L1340'\n",
    "    },\n",
    "    {\n",
    "        'leaderboard': 'https://huggingface.co/spaces/upstage/open-ko-llm-leaderboard',\n",
    "        'reference': 'https://github.com/tjunlp-lab/Awesome-LLMs-Evaluation-Papers/blob/main/README.md?plain=1#L1341'\n",
    "    },\n",
    "    {\n",
    "        'leaderboard': 'https://www.superclueai.com',\n",
    "        'reference': 'https://github.com/tjunlp-lab/Awesome-LLMs-Evaluation-Papers/blob/main/README.md?plain=1#L1342'\n",
    "    },\n",
    "    {\n",
    "        'leaderboard': 'https://toloka.ai/llm-leaderboard',\n",
    "        'reference': 'https://github.com/tjunlp-lab/Awesome-LLMs-Evaluation-Papers/blob/main/README.md?plain=1#L1344'\n",
    "    },\n",
    "    {\n",
    "        'leaderboard': 'https://huggingface.co/spaces/uonlp/open_multilingual_llm_leaderboard',\n",
    "        'reference': 'https://github.com/tjunlp-lab/Awesome-LLMs-Evaluation-Papers/blob/main/README.md?plain=1#L1345'\n",
    "    },\n",
    "    {\n",
    "        'leaderboard': 'http://openeval.org.cn/rank',\n",
    "        'reference': 'https://github.com/tjunlp-lab/Awesome-LLMs-Evaluation-Papers/blob/main/README.md?plain=1#L1346'\n",
    "    },\n",
    "    {\n",
    "        'leaderboard': 'https://huggingface.co/spaces/AngoHF/ANGO-Leaderboard',\n",
    "        'reference': 'https://github.com/tjunlp-lab/Awesome-LLMs-Evaluation-Papers/blob/main/README.md?plain=1#L1347'\n",
    "    },\n",
    "    {\n",
    "        'leaderboard': 'https://cevalbenchmark.com/static/leaderboard.html',\n",
    "        'reference': 'https://github.com/tjunlp-lab/Awesome-LLMs-Evaluation-Papers/blob/main/README.md?plain=1#L1348'\n",
    "    },\n",
    "    {\n",
    "        'leaderboard': 'http://cgeval.besteasy.com',\n",
    "        'reference': 'https://github.com/tjunlp-lab/Awesome-LLMs-Evaluation-Papers/blob/main/README.md?plain=1#L1349'\n",
    "    },\n",
    "    {\n",
    "        'leaderboard': 'https://huggingface.co/spaces/CoreyMorris/MMLU-by-task-Leaderboard',\n",
    "        'reference': 'https://github.com/tjunlp-lab/Awesome-LLMs-Evaluation-Papers/blob/main/README.md?plain=1#L1350'\n",
    "    },\n",
    "    {\n",
    "        'leaderboard': 'https://huggingface.co/spaces/AILab-CVC/SEED-Bench_Leaderboard',\n",
    "        'reference': 'https://github.com/tjunlp-lab/Awesome-LLMs-Evaluation-Papers/blob/main/README.md?plain=1#L1352'\n",
    "    },\n",
    "    {\n",
    "        'leaderboard': 'https://super.gluebenchmark.com/leaderboard',\n",
    "        'reference': 'https://github.com/tjunlp-lab/Awesome-LLMs-Evaluation-Papers/blob/main/README.md?plain=1#L1353'\n",
    "    },\n",
    "    {\n",
    "        'leaderboard': 'https://huggingface.co/spaces/qiantong-xu/toolbench-leaderboard',\n",
    "        'reference': 'https://github.com/tjunlp-lab/Awesome-LLMs-Evaluation-Papers/blob/main/README.md?plain=1#L1354'\n",
    "    },\n",
    "    {\n",
    "        'leaderboard': 'https://github.com/vectara/hallucination-leaderboard',\n",
    "        'reference': 'https://github.com/tjunlp-lab/Awesome-LLMs-Evaluation-Papers/blob/main/README.md?plain=1#L1355'\n",
    "    },\n",
    "    {\n",
    "        'leaderboard': 'https://tatsu-lab.github.io/alpaca_eval',\n",
    "        'reference': 'https://github.com/tjunlp-lab/Awesome-LLMs-Evaluation-Papers/blob/main/README.md?plain=1#L1356'\n",
    "    },\n",
    "    {\n",
    "        'leaderboard': 'https://llmbench.ai/agent/data',\n",
    "        'reference': 'https://github.com/tjunlp-lab/Awesome-LLMs-Evaluation-Papers/blob/main/README.md?plain=1#L1357'\n",
    "    },\n",
    "    {\n",
    "        'leaderboard': 'https://intercode-benchmark.github.io',\n",
    "        'reference': 'https://github.com/tjunlp-lab/Awesome-LLMs-Evaluation-Papers/blob/main/README.md?plain=1#L1358'\n",
    "    },\n",
    "    {\n",
    "        'leaderboard': 'https://llmbench.ai/safety/data',\n",
    "        'reference': 'https://github.com/tjunlp-lab/Awesome-LLMs-Evaluation-Papers/blob/main/README.md?plain=1#L1359'\n",
    "    },\n",
    "    {\n",
    "        'leaderboard': 'https://huggingface.co/spaces/InstaDeepAI/nucleotide_transformer_benchmark',\n",
    "        'reference': 'https://github.com/tjunlp-lab/Awesome-LLMs-Evaluation-Papers/blob/main/README.md?plain=1#L1360'\n",
    "    },\n",
    "    {\n",
    "        'leaderboard': 'https://huggingface.co/spaces/bigcode/bigcode-models-leaderboard',\n",
    "        'reference': 'https://github.com/tjunlp-lab/Awesome-LLMs-Evaluation-Papers/blob/main/README.md?plain=1#L1362'\n",
    "    },\n",
    "    {\n",
    "        'leaderboard': 'https://huggingface.co/spaces/optimum/llm-perf-leaderboard',\n",
    "        'reference': 'https://github.com/tjunlp-lab/Awesome-LLMs-Evaluation-Papers/blob/main/README.md?plain=1#L1363'\n",
    "    },\n",
    "    {\n",
    "        'leaderboard': 'https://huggingface.co/spaces/mteb/leaderboard',\n",
    "        'reference': 'https://github.com/xtekky/gpt4local/blob/main/README.md?plain=1#L110'\n",
    "    },\n",
    "    {\n",
    "        'leaderboard': 'https://www.nuscenes.org/object-detection',\n",
    "        'reference': 'https://github.com/Sense-X/HoP/blob/main/README.md?plain=1#L11'\n",
    "    },\n",
    "    {\n",
    "        'leaderboard': 'https://huggingface.co/spaces/loveu-tgve/loveu-tgve-leaderboard',\n",
    "        'reference': 'https://github.com/showlab/loveu-tgve-2023/blob/main/README.md?plain=1#L5'\n",
    "    },\n",
    "    {\n",
    "        'leaderboard': 'https://acdc.vision.ee.ethz.ch/benchmarks',\n",
    "        'reference': 'https://github.com/brdav/refign/blob/main/README.md?plain=1#L18'\n",
    "    },\n",
    "    {\n",
    "        'leaderboard': 'https://codalab.lisn.upsaclay.fr/competitions/3783',\n",
    "        'reference': 'https://github.com/brdav/refign/blob/main/README.md?plain=1#L18'\n",
    "    },\n",
    "    {\n",
    "        'leaderboard': 'https://ml.energy/leaderboard',\n",
    "        'reference': 'https://github.com/ml-energy/zeus/blob/master/README.md?plain=1#L22'\n",
    "    },\n",
    "    {\n",
    "        'leaderboard': 'https://adamszq.github.io/smp2019ecdt_task1',\n",
    "        'reference': 'https://github.com/OnionWang/SMP2019-ECDT-NLU/blob/master/README.md?plain=1#L6'\n",
    "    },\n",
    "    {\n",
    "        'leaderboard': 'https://www.cvlibs.net/datasets/kitti/eval_scene_flow.php?benchmark=stereo',\n",
    "        'reference': 'https://github.com/gangweiX/ACVNet/blob/main/README.md?plain=1#L85'\n",
    "    },\n",
    "    {\n",
    "        'leaderboard': 'https://appworld.dev/leaderboard',\n",
    "        'reference': 'https://github.com/StonyBrookNLP/appworld/blob/main/README.md?plain=1#L1135'\n",
    "    },\n",
    "    {\n",
    "        'leaderboard': 'https://huggingface.co/spaces/Intel/low_bit_open_llm_leaderboard',\n",
    "        'reference': 'https://github.com/intel/auto-round/blob/main/README.md?plain=1#L19'\n",
    "    },\n",
    "    {\n",
    "        'leaderboard': 'https://www.cvlibs.net/datasets/kitti/eval_stereo_flow.php?benchmark=stereo',\n",
    "        'reference': 'https://github.com/aeolusguan/NMRF/blob/main/README.md?plain=1#L21'\n",
    "    },\n",
    "    {\n",
    "        'leaderboard': 'https://www.cvlibs.net/datasets/kitti/eval_scene_flow.php?benchmark=stereo',\n",
    "        'reference': 'https://github.com/aeolusguan/NMRF/blob/main/README.md?plain=1#L21'\n",
    "    },\n",
    "    {\n",
    "        'leaderboard': 'https://www.swebench.com',\n",
    "        'reference': 'https://github.com/nus-apr/auto-code-rover/blob/main/README.md?plain=1#L29'\n",
    "    },\n",
    "    {\n",
    "        'leaderboard': 'https://github.com/onejune2018/Awesome-LLM-Eval',\n",
    "        'reference': ''\n",
    "    },\n",
    "    {\n",
    "        'leaderboard': 'https://hf.co/spaces/allenai/reward-bench',\n",
    "        'reference': 'https://github.com/onejune2018/Awesome-LLM-Eval/blob/main/README.md?plain=1#L117'\n",
    "    },\n",
    "    {\n",
    "        'leaderboard': 'https://huggingface.co/spaces/open-llm-leaderboard/open_llm_leaderboard',\n",
    "        'reference': 'https://github.com/onejune2018/Awesome-LLM-Eval/blob/main/README.md?plain=1#L152'\n",
    "    },\n",
    "    {\n",
    "        'leaderboard': 'https://mceval.github.io/leaderboard.html',\n",
    "        'reference': 'https://github.com/onejune2018/Awesome-LLM-Eval/blob/main/README.md?plain=1#L238'\n",
    "    },\n",
    "    {\n",
    "        'leaderboard': 'https://llmbench.ai/agent/data',\n",
    "        'reference': 'https://github.com/onejune2018/Awesome-LLM-Eval/blob/main/README.md?plain=1#L288'\n",
    "    },\n",
    "    {\n",
    "        'leaderboard': 'https://tatsu-lab.github.io/alpaca_eval',\n",
    "        'reference': 'https://github.com/onejune2018/Awesome-LLM-Eval/blob/main/README.md?plain=1#L289'\n",
    "    },\n",
    "    {\n",
    "        'leaderboard': 'https://huggingface.co/spaces/AngoHF/ANGO-Leaderboard',\n",
    "        'reference': 'https://github.com/onejune2018/Awesome-LLM-Eval/blob/main/README.md?plain=1#L290'\n",
    "    },\n",
    "    {\n",
    "        'leaderboard': 'https://huggingface.co/spaces/bigcode/bigcode-models-leaderboard',\n",
    "        'reference': 'https://github.com/onejune2018/Awesome-LLM-Eval/blob/main/README.md?plain=1#L291'\n",
    "    },\n",
    "    {\n",
    "        'leaderboard': 'https://lmarena.ai/?leaderboard',\n",
    "        'reference': 'https://github.com/onejune2018/Awesome-LLM-Eval/blob/main/README.md?plain=1#L292'\n",
    "    },\n",
    "    {\n",
    "        'leaderboard': 'http://www.lavicleva.com',\n",
    "        'reference': 'https://github.com/onejune2018/Awesome-LLM-Eval/blob/main/README.md?plain=1#L293'\n",
    "    },\n",
    "    {\n",
    "        'leaderboard': 'https://cevalbenchmark.com/static/leaderboard.html',\n",
    "        'reference': 'https://github.com/onejune2018/Awesome-LLM-Eval/blob/main/README.md?plain=1#L294'\n",
    "    },\n",
    "    {\n",
    "        'leaderboard': 'https://flageval.baai.ac.cn/#/leaderboard',\n",
    "        'reference': 'https://github.com/onejune2018/Awesome-LLM-Eval/blob/main/README.md?plain=1#L295'\n",
    "    },\n",
    "    {\n",
    "        'leaderboard': 'https://github.com/vectara/hallucination-leaderboard',\n",
    "        'reference': 'https://github.com/onejune2018/Awesome-LLM-Eval/blob/main/README.md?plain=1#L296'\n",
    "    },\n",
    "    {\n",
    "        'leaderboard': 'https://crfm.stanford.edu/helm',\n",
    "        'reference': 'https://github.com/onejune2018/Awesome-LLM-Eval/blob/main/README.md?plain=1#L297'\n",
    "    },\n",
    "    {\n",
    "        'leaderboard': 'https://huggingface.co/spaces/open-llm-leaderboard/open_llm_leaderboard',\n",
    "        'reference': 'https://github.com/onejune2018/Awesome-LLM-Eval/blob/main/README.md?plain=1#L298'\n",
    "    },\n",
    "    {\n",
    "        'leaderboard': 'https://huggingface.co/spaces/optimum/llm-perf-leaderboard',\n",
    "        'reference': 'https://github.com/onejune2018/Awesome-LLM-Eval/blob/main/README.md?plain=1#L299'\n",
    "    },\n",
    "    {\n",
    "        'leaderboard': 'https://intercode-benchmark.github.io',\n",
    "        'reference': 'https://github.com/onejune2018/Awesome-LLM-Eval/blob/main/README.md?plain=1#L301'\n",
    "    },\n",
    "    {\n",
    "        'leaderboard': 'https://huggingface.co/spaces/CoreyMorris/MMLU-by-task-Leaderboard',\n",
    "        'reference': 'https://github.com/onejune2018/Awesome-LLM-Eval/blob/main/README.md?plain=1#L305'\n",
    "    },\n",
    "    {\n",
    "        'leaderboard': 'https://rank.opencompass.org.cn',\n",
    "        'reference': 'https://github.com/onejune2018/Awesome-LLM-Eval/blob/main/README.md?plain=1#L306'\n",
    "    },\n",
    "    {\n",
    "        'leaderboard': 'https://huggingface.co/spaces/uonlp/open_multilingual_llm_leaderboard',\n",
    "        'reference': 'https://github.com/onejune2018/Awesome-LLM-Eval/blob/main/README.md?plain=1#L309'\n",
    "    },\n",
    "    {\n",
    "        'leaderboard': 'https://llmbench.ai/safety',\n",
    "        'reference': 'https://github.com/onejune2018/Awesome-LLM-Eval/blob/main/README.md?plain=1#L310'\n",
    "    },\n",
    "    {\n",
    "        'leaderboard': 'https://huggingface.co/spaces/AILab-CVC/SEED-Bench_Leaderboard',\n",
    "        'reference': 'https://github.com/onejune2018/Awesome-LLM-Eval/blob/main/README.md?plain=1#L311'\n",
    "    },\n",
    "    {\n",
    "        'leaderboard': 'https://www.superclueai.com',\n",
    "        'reference': 'https://github.com/onejune2018/Awesome-LLM-Eval/blob/main/README.md?plain=1#L312'\n",
    "    },\n",
    "    {\n",
    "        'leaderboard': 'https://super.gluebenchmark.com/leaderboard',\n",
    "        'reference': 'https://github.com/onejune2018/Awesome-LLM-Eval/blob/main/README.md?plain=1#L313'\n",
    "    },\n",
    "    {\n",
    "        'leaderboard': 'https://toloka.ai/llm-leaderboard',\n",
    "        'reference': 'https://github.com/onejune2018/Awesome-LLM-Eval/blob/main/README.md?plain=1#L315'\n",
    "    },\n",
    "    {\n",
    "        'leaderboard': 'https://huggingface.co/spaces/qiantong-xu/toolbench-leaderboard',\n",
    "        'reference': 'https://github.com/onejune2018/Awesome-LLM-Eval/blob/main/README.md?plain=1#L316'\n",
    "    },\n",
    "    {\n",
    "        'leaderboard': 'https://github.com/VRU-NExT/VideoQA',\n",
    "        'reference': ''\n",
    "    },\n",
    "    {\n",
    "        'leaderboard': 'https://whoiswho.biendata.xyz',\n",
    "        'reference': 'https://github.com/napsternxg/awesome-scholarly-data-analysis/blob/master/README.md?plain=1#L222'\n",
    "    },\n",
    "    {\n",
    "        'leaderboard': 'https://bop.felk.cvut.cz/leaderboards',\n",
    "        'reference': 'https://github.com/yuecideng/Misc3D/blob/main/README.md?plain=1#L30'\n",
    "    },\n",
    "    {\n",
    "        'leaderboard': 'https://modelscope.cn/leaderboard/58/ranking?type=free',\n",
    "        'reference': 'https://github.com/modelscope/evalscope/blob/main/README.md?plain=1#L270'\n",
    "    },\n",
    "    {\n",
    "        'leaderboard': 'https://www.nuscenes.org/object-detection',\n",
    "        'reference': 'https://github.com/chaytonmin/Awesome-BEV-Perception-Multi-Cameras/blob/main/README.md?plain=1#L104'\n",
    "    },\n",
    "    {\n",
    "        'leaderboard': 'https://github.com/OFA-Sys/AIR-Bench',\n",
    "        'reference': ''\n",
    "    },\n",
    "    {\n",
    "        'leaderboard': 'https://github.com/zehuichen123/Graph-DETR4D',\n",
    "        'reference': ''\n",
    "    },\n",
    "    {\n",
    "        'leaderboard': 'https://leaderboard.carla.org/leaderboard',\n",
    "        'reference': 'https://github.com/Kin-Zhang/carla-expert/blob/master/README.md?plain=1#L8'\n",
    "    },\n",
    "    {\n",
    "        'leaderboard': 'https://github.com/bcmi/Object-Shadow-Generation-Dataset-DESOBA',\n",
    "        'reference': ''\n",
    "    },\n",
    "    {\n",
    "        'leaderboard': 'https://good.readthedocs.io/en/latest/leaderboard.html',\n",
    "        'reference': 'https://github.com/Graph-COM/GSAT/blob/main/README.md?plain=1#L20'\n",
    "    },\n",
    "    {\n",
    "        'leaderboard': 'https://huggingface.co/spaces/mteb/leaderboard',\n",
    "        'reference': 'https://github.com/embeddings-benchmark/mteb/blob/main/README.md?plain=1#L22'\n",
    "    },\n",
    "    {\n",
    "        'leaderboard': 'http://host.robots.ox.ac.uk:8080/leaderboard/displaylb.php?challengeid=11&compid=6',\n",
    "        'reference': 'https://github.com/SharifAmit/DilatedFCNSegmentation/blob/master/README.md?plain=1#L46'\n",
    "    },\n",
    "    {\n",
    "        'leaderboard': 'https://huggingface.co/spaces/mteb/leaderboard',\n",
    "        'reference': 'https://github.com/orionw/FollowIR/blob/master/README.md?plain=1#L9'\n",
    "    },\n",
    "    {\n",
    "        'leaderboard': 'https://paperswithcode.com/task/object-detection',\n",
    "        'reference': 'https://github.com/ddlee-cn/Obj_Det_Progress_Tracker/blob/master/README.md?plain=1#L10'\n",
    "    },\n",
    "    {\n",
    "        'leaderboard': 'https://github.com/thuml/TimesNet',\n",
    "        'reference': ''\n",
    "    },\n",
    "    {\n",
    "        'leaderboard': 'https://huggingface.co/spaces/Intel/powered_by_intel_llm_leaderboard',\n",
    "        'reference': 'https://github.com/huggingface/optimum-habana/blob/main/README.md?plain=1#L277'\n",
    "    },\n",
    "    {\n",
    "        'leaderboard': 'https://github.com/openphilanthropy/unrestricted-adversarial-examples',\n",
    "        'reference': ''\n",
    "    },\n",
    "    {\n",
    "        'leaderboard': 'https://github.com/thu-coai/SafetyBench',\n",
    "        'reference': ''\n",
    "    },\n",
    "    {\n",
    "        'leaderboard': 'https://github.com/fixie-ai/ai-benchmarks',\n",
    "        'reference': ''\n",
    "    },\n",
    "    {\n",
    "        'leaderboard': 'https://huggingface.co/spaces/mteb/leaderboard',\n",
    "        'reference': 'https://github.com/mrdbourke/rag-resources/blob/main/README.md?plain=1#L80'\n",
    "    },\n",
    "    {\n",
    "        'leaderboard': 'https://github.com/casmlab/NPHardEval',\n",
    "        'reference': ''\n",
    "    },\n",
    "    {\n",
    "        'leaderboard': 'https://huggingface.co/spaces/GTBench/GTBench',\n",
    "        'reference': 'https://github.com/jinhaoduan/GTBench/blob/main/README.md?plain=1#L5'\n",
    "    },\n",
    "    {\n",
    "        'leaderboard': 'https://github.com/1x-technologies/1xgpt',\n",
    "        'reference': ''\n",
    "    },\n",
    "    {\n",
    "        'leaderboard': 'https://www.cvlibs.net/datasets/kitti/eval_depth.php?benchmark=depth_completion',\n",
    "        'reference': 'https://github.com/JUGGHM/PENet_ICRA2021/blob/main/README.md?plain=1#L27'\n",
    "    },\n",
    "    {\n",
    "        'leaderboard': 'https://leaderboard.allenai.org/a-okvqa',\n",
    "        'reference': 'https://github.com/MILVLG/prophet/blob/main/README.md?plain=1#L288'\n",
    "    },\n",
    "    {\n",
    "        'leaderboard': 'https://yale-lily.github.io//spider',\n",
    "        'reference': 'https://github.com/X-LANCE/text2sql-lgesql/blob/main/README.md?plain=1#L83'\n",
    "    },\n",
    "    {\n",
    "        'leaderboard': 'http://backdoorbench.com/leader_cifar10',\n",
    "        'reference': 'https://github.com/SCLBD/BackdoorBench/blob/main/README.md?plain=1#L79'\n",
    "    },\n",
    "    {\n",
    "        'leaderboard': 'https://cmedbenchmark.llmzoo.com/static/leaderboard.html',\n",
    "        'reference': 'https://github.com/FreedomIntelligence/CMB/blob/main/README.md?plain=1#L43'\n",
    "    },\n",
    "    {\n",
    "        'leaderboard': 'https://github.com/yaodongyu/TRADES',\n",
    "        'reference': ''\n",
    "    },\n",
    "    {\n",
    "        'leaderboard': 'http://www.swebench.com',\n",
    "        'reference': 'https://github.com/princeton-nlp/SWE-bench/blob/main/README.md?plain=1#L30'\n",
    "    },\n",
    "    {\n",
    "        'leaderboard': 'https://junjie-chu.github.io/Public_Comprehensive_Assessment_Jailbreak/leaderboard',\n",
    "        'reference': 'https://github.com/Junjie-Chu/CJA_Comprehensive_Jailbreak_Assessment/blob/main/README.md?plain=1#L80'\n",
    "    },\n",
    "    {\n",
    "        'leaderboard': 'https://huggingface.co/spaces/open-llm-leaderboard/open_llm_leaderboard',\n",
    "        'reference': 'https://github.com/zhengzangw/awesome-huge-models/blob/main/README.md?plain=1#L55'\n",
    "    },\n",
    "    {\n",
    "        'leaderboard': 'https://www.kaggle.com/c/jigsaw-toxic-comment-classification-challenge/leaderboard',\n",
    "        'reference': 'https://github.com/predibase/llm_distillation_playbook/blob/main/README.md?plain=1#L114'\n",
    "    },\n",
    "    {\n",
    "        'leaderboard': 'https://huggingface.co/spaces/open-llm-leaderboard/open_llm_leaderboard',\n",
    "        'reference': 'https://github.com/predibase/llm_distillation_playbook/blob/main/README.md?plain=1#L204'\n",
    "    },\n",
    "    {\n",
    "        'leaderboard': 'https://crfm.stanford.edu/helm/lite/latest/#/leaderboard',\n",
    "        'reference': 'https://github.com/predibase/llm_distillation_playbook/blob/main/README.md?plain=1#L204'\n",
    "    },\n",
    "    {\n",
    "        'leaderboard': 'https://cogdl.ai/grb/leaderboard',\n",
    "        'reference': 'https://github.com/THUDM/grb/blob/master/README.md?plain=1#L7'\n",
    "    },\n",
    "    {\n",
    "        'leaderboard': 'https://boson.ai/rpbench',\n",
    "        'reference': 'https://github.com/boson-ai/RPBench-Auto/blob/main/README.md?plain=1#L2'\n",
    "    },\n",
    "    {\n",
    "        'leaderboard': 'https://www.kaggle.com/c/siim-acr-pneumothorax-segmentation/leaderboard',\n",
    "        'reference': 'https://github.com/earhian/SIIM-ACR-Pneumothorax-Segmentation-5th/blob/master/README.md?plain=1#L2'\n",
    "    },\n",
    "    {\n",
    "        'leaderboard': 'https://visualcommonsense.com/leaderboard',\n",
    "        'reference': 'https://github.com/jackroos/VL-BERT/blob/master/README.md?plain=1#L154'\n",
    "    },\n",
    "    {\n",
    "        'leaderboard': 'https://nlp.cs.unc.edu/data/jielei/tvqa/tvqa_public_html/leaderboard.html',\n",
    "        'reference': 'https://github.com/jayleicn/TVQA/blob/master/README.md?plain=1#L10'\n",
    "    },\n",
    "    {\n",
    "        'leaderboard': 'https://paperswithcode.com/sota/named-entity-recognition-ner-on-conll-2003',\n",
    "        'reference': 'https://github.com/dsindex/ntagger/blob/master/README.md?plain=1#L539'\n",
    "    },\n",
    "    {\n",
    "        'leaderboard': 'https://paperswithcode.com/sota/named-entity-recognition-on-conll',\n",
    "        'reference': 'https://github.com/dsindex/ntagger/blob/master/README.md?plain=1#L556'\n",
    "    },\n",
    "    {\n",
    "        'leaderboard': 'http://deephack.me/leaderboard_hack',\n",
    "        'reference': 'https://github.com/sld/convai-bot-1337/blob/master/README.md?plain=1#L100'\n",
    "    },\n",
    "    {\n",
    "        'leaderboard': 'https://www.kaggle.com/c/outbrain-click-prediction/leaderboard',\n",
    "        'reference': 'https://github.com/gabrielspmoreira/kaggle_outbrain_click_prediction_google_cloud_ml_engine/blob/master/README.md?plain=1#L27'\n",
    "    },\n",
    "    {\n",
    "        'leaderboard': 'https://www.tanksandtemples.org/leaderboard',\n",
    "        'reference': 'https://github.com/whubaichuan/M3VSNet/blob/master/README.md?plain=1#L52'\n",
    "    },\n",
    "    {\n",
    "        'leaderboard': 'https://www.cvlibs.net/datasets/kitti/eval_object.php?obj_benchmark=3d',\n",
    "        'reference': 'https://github.com/hlesmqh/WS3D/blob/master/README.md?plain=1#L11'\n",
    "    },\n",
    "    {\n",
    "        'leaderboard': 'https://www.kaggle.com/c/homesite-quote-conversion/leaderboard',\n",
    "        'reference': 'https://github.com/Far0n/kaggle-homesite/blob/master/README.md?plain=1#L2'\n",
    "    },\n",
    "    {\n",
    "        'leaderboard': 'https://github.com/lm-sys/arena-hard-auto',\n",
    "        'reference': ''\n",
    "    },\n",
    "    {\n",
    "        'leaderboard': 'https://github.com/lyuqin/HydraNet-WikiSQL/releases/tag/20200207_105347',\n",
    "        'reference': ''\n",
    "    },\n",
    "    {\n",
    "        'leaderboard': 'https://huggingface.co/spaces/RMT-team/babilong',\n",
    "        'reference': 'https://github.com/booydar/babilong/blob/main/README.md?plain=1#L7'\n",
    "    },\n",
    "    {\n",
    "        'leaderboard': 'https://ai.google.com/research/rxr/competition?active_tab=leaderboard',\n",
    "        'reference': 'https://github.com/jacobkrantz/VLN-CE/blob/master/README.md?plain=1#L135'\n",
    "    },\n",
    "    {\n",
    "        'leaderboard': 'https://github.com/Lordog/R-Judge',\n",
    "        'reference': ''\n",
    "    },\n",
    "    {\n",
    "        'leaderboard': 'https://nlp.cs.washington.edu/xorqa',\n",
    "        'reference': 'https://github.com/AkariAsai/XORQA/blob/main/README.md?plain=1#L5'\n",
    "    },\n",
    "    {\n",
    "        'leaderboard': 'https://github.com/SpeechColab/GigaSpeech2',\n",
    "        'reference': ''\n",
    "    },\n",
    "    {\n",
    "        'leaderboard': 'https://www.kaggle.com/c/walmart-recruiting-store-sales-forecasting/leaderboard',\n",
    "        'reference': 'https://github.com/davidthaler/Walmart_competition_code/blob/master/README.md?plain=1#L21'\n",
    "    },\n",
    "    {\n",
    "        'leaderboard': 'https://microsoft.github.io/task_oriented_dialogue_as_dataflow_synthesis',\n",
    "        'reference': 'https://github.com/microsoft/task_oriented_dialogue_as_dataflow_synthesis/blob/master/README.md?plain=1#L52'\n",
    "    },\n",
    "    {\n",
    "        'leaderboard': 'https://rank.opencompass.org.cn/leaderboard-llm',\n",
    "        'reference': 'https://github.com/OrionStarAI/OrionStar-Yi-34B-Chat/blob/main/README.MD?plain=1#L62'\n",
    "    },\n",
    "    {\n",
    "        'leaderboard': 'https://huggingface.co/spaces/open-llm-leaderboard/open_llm_leaderboard',\n",
    "        'reference': 'https://github.com/UpstageAI/evalverse/blob/main/README.md?plain=1#L88'\n",
    "    },\n",
    "    {\n",
    "        'leaderboard': 'https://huggingface.co/spaces/upstage/open-ko-llm-leaderboard',\n",
    "        'reference': 'https://github.com/UpstageAI/evalverse/blob/main/README.md?plain=1#L154'\n",
    "    },\n",
    "    {\n",
    "        'leaderboard': 'https://gluebenchmark.com/leaderboard',\n",
    "        'reference': 'https://github.com/zphang/bert_on_stilts/blob/master/README.md?plain=1#L9'\n",
    "    },\n",
    "    {\n",
    "        'leaderboard': 'https://paperswithcode.com/sota/visual-question-answering-on-vip-bench',\n",
    "        'reference': 'https://github.com/WisconsinAIVision/ViP-LLaVA/blob/main/README.md?plain=1#L10'\n",
    "    },\n",
    "    {\n",
    "        'leaderboard': 'https://github.com/Xiangyu-CAS/Yet-Another-reid-baseline',\n",
    "        'reference': ''\n",
    "    },\n",
    "    {\n",
    "        'leaderboard': 'https://gorilla.cs.berkeley.edu/leaderboard.html',\n",
    "        'reference': 'https://github.com/SalesforceAIResearch/xLAM/blob/main/README.md?plain=1#L34'\n",
    "    },\n",
    "    {\n",
    "        'leaderboard': 'https://huggingface.co/spaces/upstage/open-ko-llm-leaderboard',\n",
    "        'reference': 'https://github.com/davidkim205/nox/blob/main/README.md?plain=1#L9'\n",
    "    },\n",
    "    {\n",
    "        'leaderboard': 'https://github.com/vectara/hallucination-leaderboard',\n",
    "        'reference': ''\n",
    "    },\n",
    "    {\n",
    "        'leaderboard': 'https://hilti-challenge.com/leader-board-2022.html',\n",
    "        'reference': 'https://github.com/MAVIS-SLAM/OpenMAVIS/blob/master/README.md?plain=1#L29'\n",
    "    },\n",
    "    {\n",
    "        'leaderboard': 'https://multi-swe-bench.github.io',\n",
    "        'reference': 'https://github.com/NL2Code/CodeR/blob/main/README.md?plain=1#L8'\n",
    "    },\n",
    "    {\n",
    "        'leaderboard': 'https://huggingface.co/spaces/lyx97/TempCompass',\n",
    "        'reference': 'https://github.com/llyx97/TempCompass/blob/main/README.md?plain=1#L40'\n",
    "    },\n",
    "    {\n",
    "        'leaderboard': 'https://mathvision-cuhk.github.io/#leaderboard',\n",
    "        'reference': 'https://github.com/mathvision-cuhk/MATH-V/blob/main/README.md?plain=1#L15'\n",
    "    },\n",
    "    {\n",
    "        'leaderboard': 'https://paperswithcode.com/sota/out-of-distribution-detection-on-cifar-100-vs',\n",
    "        'reference': 'https://github.com/stanislavfort/exploring_the_limits_of_OOD_detection/blob/main/README.md?plain=1#L5'\n",
    "    },\n",
    "    {\n",
    "        'leaderboard': 'https://waymo.com/open/challenges/2020/3d-detection',\n",
    "        'reference': 'https://github.com/MaxLeo-LMZ/BEVFusion_Learningnote/blob/main/README.md?plain=1#L54'\n",
    "    },\n",
    "    {\n",
    "        'leaderboard': 'https://llm-eval.github.io/pages/leaderboard.html',\n",
    "        'reference': 'https://github.com/microsoft/promptbench/blob/main/README.md?plain=1#L48'\n",
    "    },\n",
    "    {\n",
    "        'leaderboard': 'https://huggingface.co/spaces/open-llm-leaderboard/open_llm_leaderboard',\n",
    "        'reference': 'https://github.com/SunLemuria/OpenGPTAndBeyond/blob/main/README.md?plain=1#L212'\n",
    "    },\n",
    "    {\n",
    "        'leaderboard': 'https://opencompass.org.cn/leaderboard-llm',\n",
    "        'reference': 'https://github.com/SunLemuria/OpenGPTAndBeyond/blob/main/README.md?plain=1#L327'\n",
    "    },\n",
    "    {\n",
    "        'leaderboard': 'https://github.com/findalexli/SciGraphQA',\n",
    "        'reference': ''\n",
    "    },\n",
    "    {\n",
    "        'leaderboard': 'https://github.com/duncanwp/ClimateBench',\n",
    "        'reference': ''\n",
    "    },\n",
    "    {\n",
    "        'leaderboard': 'https://pages.nist.gov/jarvis_leaderboard',\n",
    "        'reference': 'https://github.com/usnistgov/alignn/blob/main/README.md?plain=1#L264'\n",
    "    },\n",
    "    {\n",
    "        'leaderboard': 'https://huggingface.co/spaces/ParsBench/leaderboard',\n",
    "        'reference': 'https://github.com/ParsBench/ParsBench/blob/main/README.md?plain=1#L150'\n",
    "    },\n",
    "    {\n",
    "        'leaderboard': 'https://github.com/mtbench101/mt-bench-101',\n",
    "        'reference': ''\n",
    "    },\n",
    "    {\n",
    "        'leaderboard': 'https://paperswithcode.com/sota/spoken-language-understanding-on-spoken-squad',\n",
    "        'reference': 'https://github.com/Chia-Hsuan-Lee/Spoken-SQuAD/blob/master/README.md?plain=1#L28'\n",
    "    },\n",
    "    {\n",
    "        'leaderboard': 'https://eval.ai/web/challenges/challenge-page/1897/leaderboard',\n",
    "        'reference': 'https://github.com/beir-cellar/beir/blob/main/README.md?plain=1#L57'\n",
    "    },\n",
    "    {\n",
    "        'leaderboard': 'https://huggingface.co/spaces/mteb/leaderboard',\n",
    "        'reference': 'https://github.com/magdalenakuhn17/awesome-cheap-llms/blob/main/README.md?plain=1#L33'\n",
    "    },\n",
    "    {\n",
    "        'leaderboard': 'https://cmedbenchmark.llmzoo.com/static/leaderboard.html',\n",
    "        'reference': 'https://github.com/WangRongsheng/CareGPT/blob/main/README.md?plain=1#L80'\n",
    "    },\n",
    "    {\n",
    "        'leaderboard': 'https://medbench.opencompass.org.cn/leaderboard',\n",
    "        'reference': 'https://github.com/WangRongsheng/CareGPT/blob/main/README.md?plain=1#L839'\n",
    "    },\n",
    "    {\n",
    "        'leaderboard': 'https://huggingface.co/spaces/openlifescienceai/open_medical_llm_leaderboard',\n",
    "        'reference': 'https://github.com/WangRongsheng/CareGPT/blob/main/README.md?plain=1#L840'\n",
    "    },\n",
    "    {\n",
    "        'leaderboard': 'https://github.com/ZhuiyiTechnology/AutoIE',\n",
    "        'reference': ''\n",
    "    },\n",
    "    {\n",
    "        'leaderboard': 'https://ymcui.com/cmrc2018',\n",
    "        'reference': 'https://github.com/ymcui/cmrc2018/blob/master/README.md?plain=1#L23'\n",
    "    },\n",
    "    {\n",
    "        'leaderboard': 'https://jailbreakbench.github.io/#leaderboard',\n",
    "        'reference': 'https://github.com/JailbreakBench/jailbreakbench/blob/main/README.md?plain=1#L21'\n",
    "    },\n",
    "    {\n",
    "        'leaderboard': 'https://rank.opencompass.org.cn/leaderboard-multimodal',\n",
    "        'reference': 'https://github.com/shell-nlp/gpt_server/blob/main/README.md?plain=1#L226'\n",
    "    },\n",
    "    {\n",
    "        'leaderboard': 'https://huggingface.co/spaces/mteb/leaderboard',\n",
    "        'reference': 'https://github.com/shell-nlp/gpt_server/blob/main/README.md?plain=1#L258'\n",
    "    },\n",
    "    {\n",
    "        'leaderboard': 'https://github.com/zehuichen123/AutoAlignV2',\n",
    "        'reference': ''\n",
    "    },\n",
    "    {\n",
    "        'leaderboard': 'https://paperswithcode.com/sota/image-classification-on-omnibenchmark',\n",
    "        'reference': 'https://github.com/ZhangYuanhan-AI/OmniBenchmark/blob/main/README.md?plain=1#L25'\n",
    "    },\n",
    "    {\n",
    "        'leaderboard': 'https://paperswithcode.com/sota/multi-frame-super-resolution-on-proba-v',\n",
    "        'reference': 'https://github.com/Suanmd/TR-MISR/blob/master/README.md?plain=1#L82'\n",
    "    },\n",
    "    {\n",
    "        'leaderboard': 'https://rank.opencompass.org.cn/leaderboard-multimodal',\n",
    "        'reference': 'https://github.com/open-compass/VLMEvalKit/blob/main/README.md?plain=1#L11'\n",
    "    },\n",
    "    {\n",
    "        'leaderboard': 'https://huggingface.co/spaces/opencompass/open_vlm_leaderboard',\n",
    "        'reference': 'https://github.com/open-compass/VLMEvalKit/blob/main/README.md?plain=1#L18'\n",
    "    },\n",
    "    {\n",
    "        'leaderboard': 'https://github.com/cage-challenge/cage-challenge-3',\n",
    "        'reference': ''\n",
    "    },\n",
    "    {\n",
    "        'leaderboard': 'https://www.kaggle.com/c/epfml-text/leaderboard',\n",
    "        'reference': 'https://github.com/Wronskia/Sentiment-Analysis-on-Twitter-data/blob/master/README.md?plain=1#L38'\n",
    "    },\n",
    "    {\n",
    "        'leaderboard': 'https://leaderboard.carla.org/leaderboard',\n",
    "        'reference': 'https://github.com/opendilab/InterFuser/blob/main/README.md?plain=1#L10'\n",
    "    },\n",
    "    {\n",
    "        'leaderboard': 'https://github.com/matsui528/annbench',\n",
    "        'reference': ''\n",
    "    },\n",
    "    {\n",
    "        'leaderboard': 'https://codalab.lisn.upsaclay.fr/competitions/7088',\n",
    "        'reference': 'https://github.com/SCNU-RISLAB/MF-MOS/blob/main/README.md?plain=1#L10'\n",
    "    },\n",
    "    {\n",
    "        'leaderboard': 'https://github.com/awsaf49/artifact',\n",
    "        'reference': ''\n",
    "    },\n",
    "    {\n",
    "        'leaderboard': 'https://asoca.grand-challenge.org/evaluation/challenge/leaderboard',\n",
    "        'reference': 'https://github.com/JunMa11/SOTA-MedSeg/blob/master/README.md?plain=1#L27'\n",
    "    },\n",
    "    {\n",
    "        'leaderboard': 'https://video-mme.github.io/home_page.html#leaderboard',\n",
    "        'reference': 'https://github.com/BradyFU/Awesome-Multimodal-Large-Language-Models/blob/main/README.md?plain=1#L41'\n",
    "    },\n",
    "    {\n",
    "        'leaderboard': 'https://github.com/BradyFU/Awesome-Multimodal-Large-Language-Models/tree/Evaluation',\n",
    "        'reference': 'https://github.com/BradyFU/Awesome-Multimodal-Large-Language-Models/blob/main/README.md?plain=1#L54'\n",
    "    },\n",
    "    {\n",
    "        'leaderboard': 'https://tgb.complexdatalab.com',\n",
    "        'reference': 'https://github.com/yule-BUAA/DyGLib/blob/master/README.md?plain=1#L10'\n",
    "    },\n",
    "    {\n",
    "        'leaderboard': 'https://matbench.materialsproject.org',\n",
    "        'reference': 'https://github.com/ppdebreuck/modnet/blob/master/README.md?plain=1#L18'\n",
    "    },\n",
    "    {\n",
    "        'leaderboard': 'https://github.com/THUDM/LongBench',\n",
    "        'reference': ''\n",
    "    },\n",
    "    {\n",
    "        'leaderboard': 'https://huggingface.co/spaces/facebook/CyberSecEval',\n",
    "        'reference': 'https://github.com/meta-llama/PurpleLlama/blob/main/README.md?plain=1#L90'\n",
    "    },\n",
    "    {\n",
    "        'leaderboard': 'https://matbench-discovery.materialsproject.org',\n",
    "        'reference': 'https://github.com/janosh/matbench-discovery/blob/main/readme.md?plain=1#L18'\n",
    "    },\n",
    "    {\n",
    "        'leaderboard': 'https://github.com/fastai/imagenette',\n",
    "        'reference': 'https://github.com/KeremTurgutlu/self_supervised/blob/main/README.md?plain=1#L179'\n",
    "    },\n",
    "    {\n",
    "        'leaderboard': 'http://host.robots.ox.ac.uk:8080/leaderboard/displaylb.php?challengeid=11&compid=6',\n",
    "        'reference': 'https://github.com/xmyqsh/deeplab-v2/blob/master/README.md?plain=1#L70'\n",
    "    },\n",
    "    {\n",
    "        'leaderboard': 'https://huggingface.co/spaces/open-llm-leaderboard/open_llm_leaderboard',\n",
    "        'reference': 'https://github.com/filipecalegario/awesome-generative-ai/blob/main/README.md?plain=1#L509'\n",
    "    },\n",
    "    {\n",
    "        'leaderboard': 'https://llm.extractum.io/static/llm-leaderboards',\n",
    "        'reference': 'https://github.com/filipecalegario/awesome-generative-ai/blob/main/README.md?plain=1#L737'\n",
    "    },\n",
    "    {\n",
    "        'leaderboard': 'https://huggingface.co/spaces/allenai/reward-bench',\n",
    "        'reference': 'https://github.com/filipecalegario/awesome-generative-ai/blob/main/README.md?plain=1#L738'\n",
    "    },\n",
    "    {\n",
    "        'leaderboard': 'https://github.com/vectara/hallucination-leaderboard',\n",
    "        'reference': 'https://github.com/filipecalegario/awesome-generative-ai/blob/main/README.md?plain=1#L775'\n",
    "    },\n",
    "    {\n",
    "        'leaderboard': 'https://github.com/GAIR-NLP/factool',\n",
    "        'reference': ''\n",
    "    },\n",
    "    {\n",
    "        'leaderboard': 'https://ogb.stanford.edu/docs/leader_linkprop',\n",
    "        'reference': 'https://github.com/melifluos/subgraph-sketching/blob/main/README.md?plain=1#L100'\n",
    "    },\n",
    "    {\n",
    "        'leaderboard': 'https://github.com/TIGER-AI-Lab/MMLU-Pro',\n",
    "        'reference': ''\n",
    "    },\n",
    "    {\n",
    "        'leaderboard': 'https://destwang.github.io/CTC2021-explorer',\n",
    "        'reference': 'https://github.com/destwang/CTC2021/blob/main/README.md?plain=1#L33'\n",
    "    },\n",
    "    {\n",
    "        'leaderboard': 'https://eval.ai/web/challenges/challenge-page/830/leaderboard',\n",
    "        'reference': 'https://github.com/WillDreamer/Aurora/blob/main/README.md?plain=1#L45'\n",
    "    },\n",
    "    {\n",
    "        'leaderboard': 'https://rank.opencompass.org.cn/leaderboard-multimodal',\n",
    "        'reference': 'https://github.com/YunxinLi/LingCloud/blob/main/README.md?plain=1#L22'\n",
    "    },\n",
    "    {\n",
    "        'leaderboard': 'https://www.kaggle.com/c/Kannada-MNIST/leaderboard',\n",
    "        'reference': 'https://github.com/vinayprabhu/Kannada_MNIST/blob/master/README.md?plain=1#L8'\n",
    "    },\n",
    "    {\n",
    "        'leaderboard': 'https://www.cs.ubc.ca/research/image-matching-challenge/2021/leaderboard/',\n",
    "        'reference': 'https://github.com/ubc-vision/image-matching-benchmark/blob/master/README.md?plain=1#L14'\n",
    "    },\n",
    "    {\n",
    "        'leaderboard': 'https://huggingface.co/spaces/q-future/Q-Bench-Leaderboard',\n",
    "        'reference': 'https://github.com/Q-Future/Q-Bench/blob/master/README.md?plain=1#L134'\n",
    "    },\n",
    "    {\n",
    "        'leaderboard': 'https://huggingface.co/spaces/openlifescienceai/open_medical_llm_leaderboard',\n",
    "        'reference': 'https://github.com/burglarhobbit/Awesome-Medical-Large-Language-Models/blob/main/README.md?plain=1#L6'\n",
    "    },\n",
    "    {\n",
    "        'leaderboard': 'https://huggingface.co/spaces/bigcode/bigcodebench-leaderboard',\n",
    "        'reference': 'https://github.com/huggingface/blog/blob/main/leaderboard-bigcodebench.md?plain=1#L104'\n",
    "    },\n",
    "    {\n",
    "        'leaderboard': 'https://huggingface.co/spaces/hf-vision/object_detection_leaderboard',\n",
    "        'reference': 'https://github.com/huggingface/blog/blob/main/object-detection-leaderboard.md?plain=1#L16'\n",
    "    },\n",
    "    {\n",
    "        'leaderboard': 'https://huggingface.co/spaces/open-llm-leaderboard/open_llm_leaderboard',\n",
    "        'reference': 'https://github.com/huggingface/blog/blob/main/open-llm-leaderboard-drop.md?plain=1#L15'\n",
    "    },\n",
    "    {\n",
    "        'leaderboard': 'https://huggingface.co/spaces/open-llm-leaderboard/open_llm_leaderboard',\n",
    "        'reference': 'https://github.com/huggingface/blog/blob/main/open-llm-leaderboard-mmlu.md?plain=1#L14'\n",
    "    },\n",
    "    {\n",
    "        'leaderboard': 'https://lmarena.ai/?leaderboard',\n",
    "        'reference': 'https://github.com/huggingface/blog/blob/main/open-llm-leaderboard-rlhf.md?plain=1#L40'\n",
    "    },\n",
    "    {\n",
    "        'leaderboard': 'https://huggingface.co/spaces/open-llm-leaderboard/open_llm_leaderboard',\n",
    "        'reference': 'https://github.com/huggingface/blog/blob/main/open-llm-leaderboard-rlhf.md?plain=1#L42'\n",
    "    },\n",
    "    {\n",
    "        'leaderboard': 'https://huggingface.co/spaces/OALL/Open-Arabic-LLM-Leaderboard',\n",
    "        'reference': 'https://github.com/huggingface/blog/blob/main/leaderboard-arabic.md?plain=1#L105'\n",
    "    },\n",
    "    {\n",
    "        'leaderboard': 'https://huggingface.co/spaces/ArtificialAnalysis/LLM-Performance-Leaderboard',\n",
    "        'reference': 'https://github.com/huggingface/blog/blob/main/leaderboard-artificial-analysis.md?plain=1#L22'\n",
    "    },\n",
    "    {\n",
    "        'leaderboard': 'https://huggingface.co/spaces/ArtificialAnalysis/Text-to-Image-Leaderboard',\n",
    "        'reference': 'https://github.com/huggingface/blog/blob/main/leaderboard-artificial-analysis2.md?plain=1#L21'\n",
    "    },\n",
    "    {\n",
    "        'leaderboard': 'https://huggingface.co/spaces/OpenGenAI/parti-prompts-leaderboard',\n",
    "        'reference': 'https://github.com/huggingface/blog/blob/main/leaderboard-artificial-analysis2.md?plain=1#L53'\n",
    "    },\n",
    "    {\n",
    "        'leaderboard': 'https://huggingface.co/spaces/ucla-contextual/contextual_leaderboard',\n",
    "        'reference': 'https://github.com/huggingface/blog/blob/main/leaderboard-contextual.md?plain=1#L29'\n",
    "    },\n",
    "    {\n",
    "        'leaderboard': 'https://huggingface.co/spaces/logikon/open_cot_leaderboard',\n",
    "        'reference': 'https://github.com/huggingface/blog/blob/main/leaderboard-cot.md?plain=1#L176'\n",
    "    },\n",
    "    {\n",
    "        'leaderboard': 'https://decodingtrust.github.io/leaderboard',\n",
    "        'reference': 'https://github.com/huggingface/blog/blob/main/leaderboard-decodingtrust.md?plain=1#L20'\n",
    "    },\n",
    "    {\n",
    "        'leaderboard': 'https://huggingface.co/spaces/AI-Secure/llm-trustworthy-leaderboard',\n",
    "        'reference': 'https://github.com/huggingface/blog/blob/main/leaderboard-decodingtrust.md?plain=1#L24'\n",
    "    },\n",
    "    {\n",
    "        'leaderboard': 'https://huggingface.co/spaces/HaizeLabs/red-teaming-resistance-benchmark',\n",
    "        'reference': 'https://github.com/huggingface/blog/blob/main/leaderboard-haizelab.md?plain=1#L23'\n",
    "    },\n",
    "    {\n",
    "        'leaderboard': 'https://huggingface.co/spaces/hallucinations-leaderboard/leaderboard',\n",
    "        'reference': 'https://github.com/huggingface/blog/blob/main/leaderboard-hallucinations.md?plain=1#L23'\n",
    "    },\n",
    "    {\n",
    "        'leaderboard': 'https://huggingface.co/spaces/open-llm-leaderboard/open_llm_leaderboard',\n",
    "        'reference': 'https://github.com/huggingface/blog/blob/main/leaderboard-hebrew.md?plain=1#L50'\n",
    "    },\n",
    "    {\n",
    "        'leaderboard': 'https://huggingface.co/spaces/hebrew-llm-leaderboard/leaderboard',\n",
    "        'reference': 'https://github.com/huggingface/blog/blob/main/leaderboard-hebrew.md?plain=1#L55'\n",
    "    },\n",
    "    {\n",
    "        'leaderboard': 'https://huggingface.co/spaces/livecodebench/leaderboard',\n",
    "        'reference': 'https://github.com/huggingface/blog/blob/main/leaderboard-livecodebench.md?plain=1#L22'\n",
    "    },\n",
    "    {\n",
    "        'leaderboard': 'https://huggingface.co/spaces/facebook/CyberSecEval',\n",
    "        'reference': 'https://github.com/huggingface/blog/blob/main/leaderboard-llamaguard.md?plain=1#L56'\n",
    "    },\n",
    "    {\n",
    "        'leaderboard': 'https://huggingface.co/spaces/openlifescienceai/open_medical_llm_leaderboard',\n",
    "        'reference': 'https://github.com/huggingface/blog/blob/main/leaderboard-medicalllm.md?plain=1#L162'\n",
    "    },\n",
    "    {\n",
    "        'leaderboard': 'https://huggingface.co/spaces/NPHardEval/NPHardEval-leaderboard',\n",
    "        'reference': 'https://github.com/huggingface/blog/blob/main/leaderboard-nphardeval.md?plain=1#L16'\n",
    "    },\n",
    "    {\n",
    "        'leaderboard': 'https://huggingface.co/spaces/PatronusAI/leaderboard',\n",
    "        'reference': 'https://github.com/huggingface/blog/blob/main/leaderboard-patronus.md?plain=1#L14'\n",
    "    },\n",
    "    {\n",
    "        'leaderboard': 'https://huggingface.co/spaces/upstage/open-ko-llm-leaderboard',\n",
    "        'reference': 'https://github.com/huggingface/blog/blob/main/leaderboard-upstage.md?plain=1#L15'\n",
    "    },\n",
    "    {\n",
    "        'leaderboard': 'https://huggingface.co/spaces/HuggingFaceH4/open_llm_leaderboard',\n",
    "        'reference': 'https://github.com/huggingface/blog/blob/main/leaderboard-vectara.md?plain=1#L13'\n",
    "    },\n",
    "    {\n",
    "        'leaderboard': 'https://epic-kitchens.github.io/2024',\n",
    "        'reference': 'https://github.com/fpv-iplab/rulstm/blob/master/README.md?plain=1#L178'\n",
    "    },\n",
    "    {\n",
    "        'leaderboard': 'https://leaderboard.allenai.org/vidsitu-verbs',\n",
    "        'reference': 'https://github.com/TheShadow29/VidSitu/blob/main/README.md?plain=1#L126'\n",
    "    },\n",
    "    {\n",
    "        'leaderboard': 'https://leaderboard.allenai.org/vidsitu-semantic-roles',\n",
    "        'reference': 'https://github.com/TheShadow29/VidSitu/blob/main/README.md?plain=1#L127'\n",
    "    },\n",
    "    {\n",
    "        'leaderboard': 'https://leaderboard.allenai.org/vidsitu-event-relations',\n",
    "        'reference': 'https://github.com/TheShadow29/VidSitu/blob/main/README.md?plain=1#L128'\n",
    "    },\n",
    "    {\n",
    "        'leaderboard': 'https://github.com/LuoweiZhou/YouCook2-Leaderboard',\n",
    "        'reference': 'https://github.com/salesforce/densecap/blob/master/README.md?plain=1#L108'\n",
    "    },\n",
    "    {\n",
    "        'leaderboard': 'https://3dmatch.cs.princeton.edu/#keypoint-matching-benchmark',\n",
    "        'reference': 'https://github.com/andyzeng/3dmatch-toolbox/blob/master/README.md?plain=1#L249'\n",
    "    },\n",
    "    {\n",
    "        'leaderboard': 'https://github.com/APEXLAB/CodeApex',\n",
    "        'reference': ''\n",
    "    },\n",
    "    {\n",
    "        'leaderboard': 'https://github.com/bboylyg/ABL',\n",
    "        'reference': ''\n",
    "    },\n",
    "    {\n",
    "        'leaderboard': 'https://microsoft.github.io/glge',\n",
    "        'reference': 'https://github.com/microsoft/glge/blob/master/README.md?plain=1#L58'\n",
    "    },\n",
    "    {\n",
    "        'leaderboard': 'https://gluebenchmark.com/leaderboard',\n",
    "        'reference': 'https://github.com/airaria/TextBrewer/blob/master/README.md?plain=1#L75'\n",
    "    },\n",
    "    {\n",
    "        'leaderboard': 'https://github.com/openai/gym/wiki/Leaderboard#pendulum-v0',\n",
    "        'reference': 'https://github.com/msinto93/D4PG/blob/master/README.md?plain=1#L12'\n",
    "    },\n",
    "    {\n",
    "        'leaderboard': 'https://ogb.stanford.edu/kddcup2021/results',\n",
    "        'reference': 'https://github.com/PaddlePaddle/PGL/blob/main/README.md?plain=1#L29'\n",
    "    },\n",
    "    {\n",
    "        'leaderboard': 'https://leaderboard.allenai.org/grit-ablation-restricted',\n",
    "        'reference': 'https://github.com/allenai/grit_official/blob/main/README.md?plain=1#L93'\n",
    "    },\n",
    "    {\n",
    "        'leaderboard': 'https://leaderboard.allenai.org/grit-ablation-unrestricted',\n",
    "        'reference': 'https://github.com/allenai/grit_official/blob/main/README.md?plain=1#L94'\n",
    "    },\n",
    "    {\n",
    "        'leaderboard': 'https://leaderboard.allenai.org/grit-test-restricted',\n",
    "        'reference': 'https://github.com/allenai/grit_official/blob/main/README.md?plain=1#L95'\n",
    "    },\n",
    "    {\n",
    "        'leaderboard': 'https://leaderboard.allenai.org/grit-test-unrestricted',\n",
    "        'reference': 'https://github.com/allenai/grit_official/blob/main/README.md?plain=1#L96'\n",
    "    },\n",
    "    {\n",
    "        'leaderboard': 'https://www.kaggle.com/c/dogs-vs-cats/leaderboard',\n",
    "        'reference': 'https://github.com/amitrajitbose/cat-v-dog-classifier-pytorch/blob/master/README.md?plain=1#L32'\n",
    "    },\n",
    "    {\n",
    "        'leaderboard': 'https://hfl-rc.github.io/cmrc2022/results',\n",
    "        'reference': 'https://github.com/iflytek/HFL-Anthology/blob/master/README.md?plain=1#L76'\n",
    "    },\n",
    "    {\n",
    "        'leaderboard': 'https://destwang.github.io/CTC2021-explorer',\n",
    "        'reference': 'https://github.com/iflytek/HFL-Anthology/blob/master/README.md?plain=1#L77'\n",
    "    },\n",
    "    {\n",
    "        'leaderboard': 'https://hfl-rc.github.io/cmrc2019/leaderboard',\n",
    "        'reference': 'https://github.com/iflytek/HFL-Anthology/blob/master/README.md?plain=1#L79'\n",
    "    },\n",
    "    {\n",
    "        'leaderboard': 'https://hfl-rc.github.io/cmrc2018/leaderboard',\n",
    "        'reference': 'https://github.com/iflytek/HFL-Anthology/blob/master/README.md?plain=1#L81'\n",
    "    },\n",
    "    {\n",
    "        'leaderboard': 'https://hfl-rc.github.io/cmrc2017/leaderboard',\n",
    "        'reference': 'https://github.com/iflytek/HFL-Anthology/blob/master/README.md?plain=1#L82'\n",
    "    },\n",
    "    {\n",
    "        'leaderboard': 'https://www.kaggle.com/c/deepfake-detection-challenge/leaderboard',\n",
    "        'reference': 'https://github.com/polimi-ispl/icpr2020dfdc/blob/master/README.md?plain=1#L18'\n",
    "    },\n",
    "    {\n",
    "        'leaderboard': 'https://github.com/AIFlames/Flames',\n",
    "        'reference': ''\n",
    "    },\n",
    "    {\n",
    "        'leaderboard': 'https://github.com/apple/ml-mkqa',\n",
    "        'reference': ''\n",
    "    },\n",
    "    {\n",
    "        'leaderboard': 'https://www.nuscenes.org/lidar-segmentation',\n",
    "        'reference': 'https://github.com/wzzheng/TPVFormer/blob/main/README.md?plain=1#L2'\n",
    "    },\n",
    "    {\n",
    "        'leaderboard': 'https://ibug.doc.ic.ac.uk/resources/fg-2020-competition-affective-behavior-analysis',\n",
    "        'reference': 'https://github.com/wtomin/Multitask-Emotion-Recognition-with-Incomplete-Labels/blob/master/README.md?plain=1#L10'\n",
    "    },\n",
    "    {\n",
    "        'leaderboard': 'https://www.kaggle.com/c/landmark-recognition-2020/leaderboard',\n",
    "        'reference': 'https://github.com/psinger/kaggle-landmark-recognition-2020-1st-place/blob/main/README.md?plain=1#L4'\n",
    "    },\n",
    "    {\n",
    "        'leaderboard': 'https://github.com/JUNJIE99/MLVU',\n",
    "        'reference': 'https://github.com/DAMO-NLP-SG/VideoLLaMA2/blob/main/README.md?plain=1#L47'\n",
    "    },\n",
    "    {\n",
    "        'leaderboard': 'https://video-mme.github.io/home_page.html#leaderboard',\n",
    "        'reference': 'https://github.com/DAMO-NLP-SG/VideoLLaMA2/blob/main/README.md?plain=1#L48'\n",
    "    },\n",
    "    {\n",
    "        'leaderboard': 'https://huggingface.co/spaces/open-llm-leaderboard/open_llm_leaderboard',\n",
    "        'reference': 'https://github.com/homebrewltd/awesome-local-ai/blob/main/README.md?plain=1#L112'\n",
    "    },\n",
    "    {\n",
    "        'leaderboard': 'https://huggingface.co/spaces/lmsys/chatbot-arena-leaderboard',\n",
    "        'reference': 'https://github.com/homebrewltd/awesome-local-ai/blob/main/README.md?plain=1#L113'\n",
    "    },\n",
    "    {\n",
    "        'leaderboard': 'https://tatsu-lab.github.io/alpaca_eval',\n",
    "        'reference': 'https://github.com/homebrewltd/awesome-local-ai/blob/main/README.md?plain=1#L114'\n",
    "    },\n",
    "    {\n",
    "        'leaderboard': 'https://llm-leaderboard.streamlit.app/',\n",
    "        'reference': 'https://github.com/homebrewltd/awesome-local-ai/blob/main/README.md?plain=1#L115'\n",
    "    },\n",
    "    {\n",
    "        'leaderboard': 'https://lmarena.ai/?leaderboard',\n",
    "        'reference': 'https://github.com/homebrewltd/awesome-local-ai/blob/main/README.md?plain=1#L116'\n",
    "    },\n",
    "    {\n",
    "        'leaderboard': 'https://bop.felk.cvut.cz/leaderboards/segmentation-unseen-bop23/core-datasets',\n",
    "        'reference': 'https://github.com/YoungSean/NIDS-Net/blob/main/README.md?plain=1#L23'\n",
    "    },\n",
    "    {\n",
    "        'leaderboard': 'https://gluebenchmark.com/leaderboard',\n",
    "        'reference': 'https://github.com/Y1ran/NLP-BERT--ChineseVersion/blob/master/README.md?plain=1#L201'\n",
    "    },\n",
    "    {\n",
    "        'leaderboard': 'https://github.com/JialeCao001/PedSurvey/blob/master/Comparison.md',\n",
    "        'reference': ''\n",
    "    },\n",
    "    {\n",
    "        'leaderboard': 'https://opendrivelab.com/challenge2023',\n",
    "        'reference': 'https://github.com/CVPR2023-3D-Occupancy-Prediction/CVPR2023-3D-Occupancy-Prediction/blob/main/README.md?plain=1#L45'\n",
    "    },\n",
    "    {\n",
    "        'leaderboard': 'https://visualcommonsense.com/leaderboard',\n",
    "        'reference': 'https://github.com/yuweijiang/HGL-pytorch/blob/master/README.md?plain=1#L78'\n",
    "    },\n",
    "    {\n",
    "        'leaderboard': 'https://mathverse-cuhk.github.io/#leaderboard',\n",
    "        'reference': 'https://github.com/ZrrSkywalker/MathVerse/blob/main/README.md?plain=1#L17'\n",
    "    },\n",
    "    {\n",
    "        'leaderboard': 'http://nlpprogress.com/english/sentiment_analysis.html',\n",
    "        'reference': 'https://github.com/xwzhong/papernote/blob/master/leaderboard.md?plain=1#L2'\n",
    "    },\n",
    "    {\n",
    "        'leaderboard': 'https://nlp.stanford.edu/projects/snli',\n",
    "        'reference': 'https://github.com/xwzhong/papernote/blob/master/leaderboard.md?plain=1#L8'\n",
    "    },\n",
    "    {\n",
    "        'leaderboard': 'https://stanfordnlp.github.io/coqa',\n",
    "        'reference': 'https://github.com/xwzhong/papernote/blob/master/leaderboard.md?plain=1#L11'\n",
    "    },\n",
    "    {\n",
    "        'leaderboard': 'https://rajpurkar.github.io/SQuAD-explorer',\n",
    "        'reference': 'https://github.com/xwzhong/papernote/blob/master/leaderboard.md?plain=1#L12'\n",
    "    },\n",
    "    {\n",
    "        'leaderboard': 'http://quac.ai',\n",
    "        'reference': 'https://github.com/xwzhong/papernote/blob/master/leaderboard.md?plain=1#L13'\n",
    "    },\n",
    "    {\n",
    "        'leaderboard': 'https://aclweb.org/aclwiki/Question_Answering_(State_of_the_art)',\n",
    "        'reference': 'https://github.com/xwzhong/papernote/blob/master/leaderboard.md?plain=1#L16'\n",
    "    },\n",
    "    {\n",
    "        'leaderboard': 'https://gluebenchmark.com/leaderboard',\n",
    "        'reference': 'https://github.com/xwzhong/papernote/blob/master/leaderboard.md?plain=1#L19'\n",
    "    },\n",
    "    {\n",
    "        'leaderboard': 'https://leaderboard.allenai.org/swag',\n",
    "        'reference': 'https://github.com/xwzhong/papernote/blob/master/leaderboard.md?plain=1#L20'\n",
    "    },\n",
    "    {\n",
    "        'leaderboard': 'https://huggingface.co/spaces/open-llm-leaderboard/open_llm_leaderboard',\n",
    "        'reference': 'https://github.com/hkust-nlp/deita/blob/main/README.md?plain=1#L312'\n",
    "    },\n",
    "    {\n",
    "        'leaderboard': 'https://paperswithcode.com/sota',\n",
    "        'reference': 'https://github.com/eastmountyxz/AI-Security-Paper/blob/main/README.md?plain=1#L110'\n",
    "    },\n",
    "    {\n",
    "        'leaderboard': 'https://paperswithcode.com/sota',\n",
    "        'reference': 'https://github.com/FangjinhuaWang/PatchmatchNet/blob/main/README.md?plain=1#L113'\n",
    "    },\n",
    "    {\n",
    "        'leaderboard': 'https://www.tanksandtemples.org/leaderboard',\n",
    "        'reference': 'https://github.com/FangjinhuaWang/PatchmatchNet/blob/main/README.md?plain=1#L113'\n",
    "    },\n",
    "    {\n",
    "        'leaderboard': 'https://github.com/Alab-NII/2wikimultihop',\n",
    "        'reference': ''\n",
    "    },\n",
    "    {\n",
    "        'leaderboard': 'https://github.com/svilupp/Julia-LLM-Leaderboard',\n",
    "        'reference': ''\n",
    "    },\n",
    "    {\n",
    "        'leaderboard': 'https://www.cluebenchmarks.com',\n",
    "        'reference': 'https://github.com/CLUEbenchmark/PyCLUE/blob/master/README.md?plain=1#L11'\n",
    "    },\n",
    "    {\n",
    "        'leaderboard': 'https://github.com/MikeGu721/XiezhiBenchmark',\n",
    "        'reference': ''\n",
    "    },\n",
    "    {\n",
    "        'leaderboard': 'https://github.com/allenai/CommonGen-Eval',\n",
    "        'reference': ''\n",
    "    },\n",
    "    {\n",
    "        'leaderboard': 'https://paperswithcode.com/sota/person-re-identification-on-sysu-30k',\n",
    "        'reference': 'https://github.com/wanggrun/triplet/blob/main/README.md?plain=1#L16'\n",
    "    },\n",
    "    {\n",
    "        'leaderboard': 'http://www.robustvision.net/leaderboard.php',\n",
    "        'reference': 'https://github.com/princeton-vl/RAFT-Stereo/blob/main/README.md?plain=1#L77'\n",
    "    },\n",
    "    {\n",
    "        'leaderboard': 'https://github.com/ymcui/Eval-on-NN-of-RC',\n",
    "        'reference': ''\n",
    "    },\n",
    "    {\n",
    "        'leaderboard': 'https://wilds.stanford.edu/leaderboard',\n",
    "        'reference': 'https://github.com/facebookresearch/DomainBed/blob/main/README.md?plain=1#L65'\n",
    "    },\n",
    "    {\n",
    "        'leaderboard': 'https://github.com/layumi/AICIty-reID-2020',\n",
    "        'reference': ''\n",
    "    },\n",
    "    {\n",
    "        'leaderboard': 'https://huggingface.co/spaces/mteb/leaderboard',\n",
    "        'reference': 'https://github.com/underlines/awesome-ml/blob/master/llm-tools.md?plain=1#L144'\n",
    "    },\n",
    "    {\n",
    "        'leaderboard': 'https://huggingface.co/spaces/open-llm-leaderboard/open_llm_leaderboard',\n",
    "        'reference': 'https://github.com/underlines/awesome-ml/blob/master/llm-tools.md?plain=1#L731'\n",
    "    },\n",
    "    {\n",
    "        'leaderboard': 'https://lmarena.ai/?leaderboard',\n",
    "        'reference': 'https://github.com/underlines/awesome-ml/blob/master/llm-tools.md?plain=1#L732'\n",
    "    },\n",
    "    {\n",
    "        'leaderboard': 'https://paperswithcode.com/sota',\n",
    "        'reference': 'https://github.com/underlines/awesome-ml/blob/master/llm-tools.md?plain=1#L733'\n",
    "    },\n",
    "    {\n",
    "        'leaderboard': 'https://huggingface.co/spaces/mike-ravkine/can-ai-code-results',\n",
    "        'reference': 'https://github.com/underlines/awesome-ml/blob/master/llm-tools.md?plain=1#L734'\n",
    "    },\n",
    "    {\n",
    "        'leaderboard': 'https://cevalbenchmark.com/static/leaderboard.html',\n",
    "        'reference': 'https://github.com/underlines/awesome-ml/blob/master/llm-tools.md?plain=1#L735'\n",
    "    },\n",
    "    {\n",
    "        'leaderboard': 'https://huggingface.co/spaces/mteb/leaderboard',\n",
    "        'reference': 'https://github.com/underlines/awesome-ml/blob/master/llm-tools.md?plain=1#L736'\n",
    "    },\n",
    "    {\n",
    "        'leaderboard': 'https://huggingface.co/spaces/vectara/leaderboard',\n",
    "        'reference': 'https://github.com/underlines/awesome-ml/blob/master/llm-tools.md?plain=1#L737'\n",
    "    },\n",
    "    {\n",
    "        'leaderboard': 'https://huggingface.co/spaces/bigcode/bigcode-models-leaderboard',\n",
    "        'reference': 'https://github.com/underlines/awesome-ml/blob/master/llm-tools.md?plain=1#L738'\n",
    "    },\n",
    "    {\n",
    "        'leaderboard': 'https://evalplus.github.io/leaderboard.html',\n",
    "        'reference': 'https://github.com/underlines/awesome-ml/blob/master/llm-tools.md?plain=1#L739'\n",
    "    },\n",
    "    {\n",
    "        'leaderboard': 'https://huggingface.co/spaces/PatronusAI/enterprise_scenarios_leaderboard',\n",
    "        'reference': 'https://github.com/underlines/awesome-ml/blob/master/llm-tools.md?plain=1#L740'\n",
    "    },\n",
    "    {\n",
    "        'leaderboard': 'https://huggingface.co/spaces/NPHardEval/NPHardEval-leaderboard',\n",
    "        'reference': 'https://github.com/underlines/awesome-ml/blob/master/llm-tools.md?plain=1#L741'\n",
    "    },\n",
    "    {\n",
    "        'leaderboard': 'https://prollm.toqan.ai/leaderboard',\n",
    "        'reference': 'https://github.com/underlines/awesome-ml/blob/master/llm-tools.md?plain=1#L742'\n",
    "    },\n",
    "    {\n",
    "        'leaderboard': 'https://rank.opencompass.org.cn',\n",
    "        'reference': 'https://github.com/underlines/awesome-ml/blob/master/llm-tools.md?plain=1#L743'\n",
    "    },\n",
    "    {\n",
    "        'leaderboard': 'https://scale.com/leaderboard',\n",
    "        'reference': 'https://github.com/underlines/awesome-ml/blob/master/llm-tools.md?plain=1#L745'\n",
    "    },\n",
    "    {\n",
    "        'leaderboard': 'https://huggingface.co/spaces/AIR-Bench/leaderboard',\n",
    "        'reference': 'https://github.com/underlines/awesome-ml/blob/master/llm-tools.md?plain=1#L746'\n",
    "    },\n",
    "    {\n",
    "        'leaderboard': 'https://huggingface.co/collections/clefourrier/leaderboards-and-benchmarks-64f99d2e11e92ca5568a7cce',\n",
    "        'reference': 'https://github.com/underlines/awesome-ml/blob/master/llm-tools.md?plain=1#L747'\n",
    "    },\n",
    "    {\n",
    "        'leaderboard': 'https://gorilla.cs.berkeley.edu/leaderboard.html',\n",
    "        'reference': 'https://github.com/underlines/awesome-ml/blob/master/llm-tools.md?plain=1#L748'\n",
    "    },\n",
    "    {\n",
    "        'leaderboard': 'https://huggingface.co/spaces/WildVision/vision-arena',\n",
    "        'reference': 'https://github.com/underlines/awesome-ml/blob/master/llm-tools.md?plain=1#L749'\n",
    "    },\n",
    "    {\n",
    "        'leaderboard': 'https://aider.chat/docs/leaderboards',\n",
    "        'reference': 'https://github.com/underlines/awesome-ml/blob/master/llm-tools.md?plain=1#L750'\n",
    "    },\n",
    "    {\n",
    "        'leaderboard': 'https://evalplus.github.io/repoqa.html',\n",
    "        'reference': 'https://github.com/underlines/awesome-ml/blob/master/llm-tools.md?plain=1#L751'\n",
    "    },\n",
    "    {\n",
    "        'leaderboard': 'https://bigcode-bench.github.io',\n",
    "        'reference': 'https://github.com/underlines/awesome-ml/blob/master/llm-tools.md?plain=1#L752'\n",
    "    },\n",
    "    {\n",
    "        'leaderboard': 'https://www.vellum.ai/llm-leaderboard',\n",
    "        'reference': 'https://github.com/underlines/awesome-ml/blob/master/llm-tools.md?plain=1#L753'\n",
    "    },\n",
    "    {\n",
    "        'leaderboard': 'https://eqbench.com',\n",
    "        'reference': 'https://github.com/underlines/awesome-ml/blob/master/llm-tools.md?plain=1#L754'\n",
    "    },\n",
    "    {\n",
    "        'leaderboard': 'https://oobabooga.github.io/benchmark.html',\n",
    "        'reference': 'https://github.com/underlines/awesome-ml/blob/master/llm-tools.md?plain=1#L755'\n",
    "    },\n",
    "    {\n",
    "        'leaderboard': 'https://livebench.ai',\n",
    "        'reference': 'https://github.com/underlines/awesome-ml/blob/master/llm-tools.md?plain=1#L756'\n",
    "    },\n",
    "    {\n",
    "        'leaderboard': 'https://llm-aggrefact.github.io',\n",
    "        'reference': 'https://github.com/Liyan06/MiniCheck/blob/main/README.md?plain=1#L20'\n",
    "    },\n",
    "    {\n",
    "        'leaderboard': 'https://sites.google.com/view/englishasrchallenge/leaderboard',\n",
    "        'reference': 'https://github.com/AI4Bharat/NPTEL2020-Indian-English-Speech-Dataset/blob/master/README.md?plain=1#L79'\n",
    "    },\n",
    "    {\n",
    "        'leaderboard': 'https://huggingface.co/spaces/MM-UPD/MM-UPD_Leaderboard',\n",
    "        'reference': 'https://github.com/AtsuMiyai/UPD/blob/main/README.md?plain=1#L2'\n",
    "    },\n",
    "    {\n",
    "        'leaderboard': 'https://codalab.lisn.upsaclay.fr/competitions',\n",
    "        'reference': 'https://github.com/guyfe/LongSumm/blob/master/README.md?plain=1#L205'\n",
    "    },\n",
    "    {\n",
    "        'leaderboard': 'https://huggingface.co/spaces/jax-diffusers-event/leaderboard',\n",
    "        'reference': 'https://github.com/fast-codi/CoDi/blob/master/README.md?plain=1#L60'\n",
    "    },\n",
    "    {\n",
    "        'leaderboard': 'https://dc-bench.github.io',\n",
    "        'reference': 'https://github.com/justincui03/dc_benchmark/blob/main/README.md?plain=1#L13'\n",
    "    },\n",
    "    {\n",
    "        'leaderboard': 'https://codalab.lisn.upsaclay.fr/competitions/8582',\n",
    "        'reference': 'https://github.com/czyssrs/ConvFinQA/blob/main/README.md?plain=1#L64'\n",
    "    },\n",
    "    {\n",
    "        'leaderboard': 'https://predibase.com/fine-tuning-index',\n",
    "        'reference': 'https://github.com/keigohtr/state-of-mlops/blob/main/README.md?plain=1#L289'\n",
    "    },\n",
    "    {\n",
    "        'leaderboard': 'https://github.com/YJiangcm/FollowBench',\n",
    "        'reference': ''\n",
    "    },\n",
    "    {\n",
    "        'leaderboard': 'https://github.com/tatsu-lab/alpaca_eval',\n",
    "        'reference': ''\n",
    "    },\n",
    "    {\n",
    "        'leaderboard': 'https://gorilla.cs.berkeley.edu/leaderboard.html',\n",
    "        'reference': 'https://github.com/MeetKai/functionary/blob/main/README.md?plain=1#L18'\n",
    "    },\n",
    "    {\n",
    "        'leaderboard': 'https://www.kaggle.com/c/allstate-claims-severity/leaderboard',\n",
    "        'reference': 'https://github.com/adornes/spark_scala_ml_examples/blob/master/README.md?plain=1#L320'\n",
    "    },\n",
    "    {\n",
    "        'leaderboard': 'https://huggingface.co/spaces/gaia-benchmark/leaderboard',\n",
    "        'reference': 'https://github.com/aymeric-roucher/GAIA/blob/main/README.md?plain=1#L7'\n",
    "    },\n",
    "    {\n",
    "        'leaderboard': 'https://huggingface.co/spaces/open-llm-leaderboard/open_llm_leaderboard',\n",
    "        'reference': 'https://github.com/EvolvingLMMs-Lab/lmms-eval/blob/main/README.md?plain=1#L43'\n",
    "    },\n",
    "    {\n",
    "        'leaderboard': 'https://www.cvlibs.net/datasets/kitti',\n",
    "        'reference': 'https://github.com/philbort/awesome-self-driving-cars/blob/master/README.md?plain=1#L23'\n",
    "    },\n",
    "    {\n",
    "        'leaderboard': 'https://github.com/YLab-Open/METS-CoV',\n",
    "        'reference': ''\n",
    "    },\n",
    "    {\n",
    "        'leaderboard': 'https://www.cvlibs.net/datasets/kitti/eval_scene_flow.php?benchmark=stereo',\n",
    "        'reference': 'https://github.com/XiandaGuo/OpenStereo/blob/v2/README.md?plain=1#L11'\n",
    "    },\n",
    "    {\n",
    "        'leaderboard': 'https://huggingface.co/spaces/Intel/powered_by_intel_llm_leaderboard',\n",
    "        'reference': 'https://github.com/huggingface/optimum-intel/blob/main/README.md?plain=1#L194'\n",
    "    },\n",
    "    {\n",
    "        'leaderboard': 'https://rank.opencompass.org.cn',\n",
    "        'reference': 'https://github.com/InternLM/InternLM/blob/main/README.md?plain=1#L128'\n",
    "    },\n",
    "    {\n",
    "        'leaderboard': 'https://yuzuai.jp/benchmark',\n",
    "        'reference': 'https://github.com/yuzu-ai/japanese-llm-ranking/blob/main/readme.md?plain=1#L10'\n",
    "    },\n",
    "    {\n",
    "        'leaderboard': 'https://github.com/wanggrun/SYSU-30k',\n",
    "        'reference': ''\n",
    "    },\n",
    "    {\n",
    "        'leaderboard': 'https://github.com/AI-secure/Certified-Robustness-SoK-Oldver',\n",
    "        'reference': 'https://github.com/AI-secure/VeriGauge/blob/master/readme.md?plain=1#L7'\n",
    "    },\n",
    "    {\n",
    "        'leaderboard': 'https://github.com/TianxingChen/RoboTwin',\n",
    "        'reference': ''\n",
    "    },\n",
    "    {\n",
    "        'leaderboard': 'https://www.kaggle.com/c/sentiment-analysis-on-movie-reviews/leaderboard',\n",
    "        'reference': 'https://github.com/rafacarrascosa/samr/blob/develop/README.md?plain=1#L42'\n",
    "    },\n",
    "    {\n",
    "        'leaderboard': 'https://microsoft.github.io/MSMARCO-Document-Ranking-Submissions/leaderboard',\n",
    "        'reference': 'https://github.com/Albert-Ma/PROP/blob/main/README.md?plain=1#L11'\n",
    "    },\n",
    "    {\n",
    "        'leaderboard': 'https://www.nuscenes.org/object-detection',\n",
    "        'reference': 'https://github.com/Sense-X/Co-DETR/blob/main/README.md?plain=1#L23'\n",
    "    },\n",
    "    {\n",
    "        'leaderboard': 'https://github.com/incognite-lab/myGym',\n",
    "        'reference': ''\n",
    "    },\n",
    "    {\n",
    "        'leaderboard': 'https://www.kaggle.com/c/pycon-2015-tutorial/leaderboard',\n",
    "        'reference': 'https://github.com/justmarkham/kaggle-pycon-2015/blob/master/README.md?plain=1#L9'\n",
    "    },\n",
    "    {\n",
    "        'leaderboard': 'https://yale-lily.github.io/spider',\n",
    "        'reference': 'https://github.com/taoyds/test-suite-sql-eval/blob/master/README.md?plain=1#L21'\n",
    "    },\n",
    "    {\n",
    "        'leaderboard': 'https://yale-lily.github.io/sparc',\n",
    "        'reference': 'https://github.com/taoyds/test-suite-sql-eval/blob/master/README.md?plain=1#L21'\n",
    "    },\n",
    "    {\n",
    "        'leaderboard': 'https://yale-lily.github.io/cosql',\n",
    "        'reference': 'https://github.com/taoyds/test-suite-sql-eval/blob/master/README.md?plain=1#L21'\n",
    "    },\n",
    "    {\n",
    "        'leaderboard': 'https://github.com/Yale-LILY/dart',\n",
    "        'reference': ''\n",
    "    },\n",
    "    {\n",
    "        'leaderboard': 'https://huggingface.co/spaces/mteb/leaderboard',\n",
    "        'reference': 'https://github.com/michaelfeil/infinity/blob/main/README.md?plain=1#L303'\n",
    "    },\n",
    "    {\n",
    "        'leaderboard': 'https://spokenwoz.github.io',\n",
    "        'reference': 'https://github.com/bansky-cl/tods-arxiv-daily-paper/blob/main/README.md?plain=1#L73'\n",
    "    },\n",
    "    {\n",
    "        'leaderboard': 'https://decisionintelligence.github.io/OpenTS',\n",
    "        'reference': 'https://github.com/decisionintelligence/TFB/blob/master/README.md?plain=1#L18'\n",
    "    },\n",
    "    {\n",
    "        'leaderboard': 'https://henrychur.github.io/MultilingualMedQA',\n",
    "        'reference': 'https://github.com/MAGIC-AI4Med/MMedLM/blob/main/README.md?plain=1#L16'\n",
    "    },\n",
    "    {\n",
    "        'leaderboard': 'https://huggingface.co/spaces/Vchitect/VBench_Leaderboard',\n",
    "        'reference': 'https://github.com/harpreetsahota204/awesome-cvpr-2024/blob/main/README.md?plain=1#L78'\n",
    "    },\n",
    "    {\n",
    "        'leaderboard': 'https://paperswithcode.com/sota/code-generation-on-humaneval',\n",
    "        'reference': 'https://github.com/samholt/L2MAC/blob/master/README.md?plain=1#L143'\n",
    "    },\n",
    "    {\n",
    "        'leaderboard': 'https://waymo.com/open/challenges/2021/real-time-3d-prediction',\n",
    "        'reference': 'https://github.com/happinesslz/SEED/blob/main/README.md?plain=1#L49'\n",
    "    },\n",
    "    {\n",
    "        'leaderboard': 'https://datahack.analyticsvidhya.com/contest/amexpert-2019-machine-learning-hackathon/#LeaderBoard',\n",
    "        'reference': 'https://github.com/rajat5ranjan/AV-AmExpert-2019-ML-Hackathon/blob/master/README.md?plain=1#L153'\n",
    "    },\n",
    "    {\n",
    "        'leaderboard': 'https://matbench.materialsproject.org',\n",
    "        'reference': 'https://github.com/hackingmaterials/automatminer/blob/main/README.md?plain=1#L15'\n",
    "    },\n",
    "    {\n",
    "        'leaderboard': 'http://got-10k.aitestunion.com/leaderboard',\n",
    "        'reference': 'https://github.com/Giveupfree/SOTDrawRect/blob/main/README.md?plain=1#L211'\n",
    "    },\n",
    "    {\n",
    "        'leaderboard': 'https://huggingface.co/spaces/open-llm-leaderboard/open_llm_leaderboard',\n",
    "        'reference': 'https://github.com/hollobit/GenAI_LLM_timeline/blob/main/README.md?plain=1#L2669'\n",
    "    },\n",
    "    {\n",
    "        'leaderboard': 'https://lamp-benchmark.github.io/leaderboard',\n",
    "        'reference': 'https://github.com/hollobit/GenAI_LLM_timeline/blob/main/README.md?plain=1#L3609'\n",
    "    },\n",
    "    {\n",
    "        'leaderboard': 'https://github.com/lupantech/ScienceQA',\n",
    "        'reference': ''\n",
    "    },\n",
    "    {\n",
    "        'leaderboard': 'https://leaderboard.allenai.org/scifact',\n",
    "        'reference': 'https://github.com/dwadden/multivers/blob/main/README.md?plain=1#L7'\n",
    "    },\n",
    "    {\n",
    "        'leaderboard': 'https://www.datafountain.cn/competitions/533/ranking?sch=1844',\n",
    "        'reference': 'https://github.com/chaineypung/CCFBDCI-2021-Ultrasonic-Tumor-Segmentation-Rank1st/blob/main/README.md?plain=1#L4'\n",
    "    },\n",
    "    {\n",
    "        'leaderboard': 'https://www.kaggle.com/competitions',\n",
    "        'reference': 'https://github.com/GovLab/toolsforcollaboration/blob/master/README.md?plain=1#L56'\n",
    "    },\n",
    "    {\n",
    "        'leaderboard': 'https://opus.nlpl.eu/dashboard',\n",
    "        'reference': 'https://github.com/Helsinki-NLP/Opus-MT/blob/master/README.md?plain=1#L8'\n",
    "    },\n",
    "    {\n",
    "        'leaderboard': 'http://www.cvlibs.net/datasets/kitti/eval_scene_flow.php?benchmark=stereo',\n",
    "        'reference': 'https://github.com/cogsys-tuebingen/mobilestereonet/blob/main/README.md?plain=1#L50'\n",
    "    },\n",
    "    {\n",
    "        'leaderboard': 'https://ogb.stanford.edu/docs/leader_linkprop/#ogbl-wikikg2',\n",
    "        'reference': 'https://github.com/facebookresearch/ssl-relation-prediction/blob/main/README.md?plain=1#L125'\n",
    "    },\n",
    "    {\n",
    "        'leaderboard': 'https://ogb.stanford.edu/docs/leader_linkprop/#ogbl-biokg',\n",
    "        'reference': 'https://github.com/facebookresearch/ssl-relation-prediction/blob/main/README.md?plain=1#L126'\n",
    "    },\n",
    "    {\n",
    "        'leaderboard': 'https://github.com/lupantech/ScienceQA',\n",
    "        'reference': ''\n",
    "    },\n",
    "    {\n",
    "        'leaderboard': 'https://opendrivelab.com/challenge2024/#mapless_driving',\n",
    "        'reference': 'https://github.com/OpenDriveLab/OpenLane-V2/blob/master/README.md?plain=1#L25'\n",
    "    },\n",
    "    {\n",
    "        'leaderboard': 'https://huggingface.co/spaces/AGC2024/mapless-driving-2024',\n",
    "        'reference': 'https://github.com/OpenDriveLab/OpenLane-V2/blob/master/README.md?plain=1#L25'\n",
    "    },\n",
    "    {\n",
    "        'leaderboard': 'https://opendrivelab.com/challenge2023/#openlane_topology',\n",
    "        'reference': 'https://github.com/OpenDriveLab/OpenLane-V2/blob/master/README.md?plain=1#L33'\n",
    "    },\n",
    "    {\n",
    "        'leaderboard': 'https://eval.ai/web/challenges/challenge-page/1925/leaderboard',\n",
    "        'reference': 'https://github.com/OpenDriveLab/OpenLane-V2/blob/master/README.md?plain=1#L33'\n",
    "    },\n",
    "    {\n",
    "        'leaderboard': 'https://github.com/ml-energy/leaderboard',\n",
    "        'reference': ''\n",
    "    },\n",
    "    {\n",
    "        'leaderboard': 'https://github.com/opstower-ai/devops-ai-open-leaderboard',\n",
    "        'reference': 'https://github.com/opstower-ai/llm-opstower/blob/main/README.md?plain=1#L7'\n",
    "    },\n",
    "    {\n",
    "        'leaderboard': 'https://huggingface.co/spaces/EffiBench/effibench-leaderboard',\n",
    "        'reference': 'https://github.com/huangd1999/EffiBench/blob/main/README.md?plain=1#L4'\n",
    "    },\n",
    "    {\n",
    "        'leaderboard': 'https://paperswithcode.com/sota/3d-semantic-segmentation-on-scribblekitti',\n",
    "        'reference': 'https://github.com/ouenal/scribblekitti/blob/main/README.md?plain=1#L12'\n",
    "    },\n",
    "    {\n",
    "        'leaderboard': 'https://leaderboard.carla.org',\n",
    "        'reference': 'https://github.com/zhejz/carla-roach/blob/main/README.md?plain=1#L19'\n",
    "    },\n",
    "    {\n",
    "        'leaderboard': 'https://leaderboard.carla.org/leaderboard',\n",
    "        'reference': 'https://github.com/shuishida/LangProp/blob/main/README.md?plain=1#L300'\n",
    "    },\n",
    "    {\n",
    "        'leaderboard': 'https://github.com/pddasig/Machine-Learning-Competition-2021',\n",
    "        'reference': ''\n",
    "    },\n",
    "    {\n",
    "        'leaderboard': 'https://livebench.ai',\n",
    "        'reference': 'https://github.com/LiveBench/LiveBench/blob/main/README.md?plain=1#L6'\n",
    "    },\n",
    "    {\n",
    "        'leaderboard': 'https://yuzuai.jp/benchmark',\n",
    "        'reference': 'https://github.com/taishi-i/awesome-japanese-nlp-resources/blob/main/README.md?plain=1#L254'\n",
    "    },\n",
    "    {\n",
    "        'leaderboard': 'https://open-xai.github.io/leaderboard',\n",
    "        'reference': 'https://github.com/hbaniecki/adversarial-explainable-ai/blob/master/README.md?plain=1#L737'\n",
    "    },\n",
    "    {\n",
    "        'leaderboard': 'https://github.com/SHI-Labs/Agriculture-Vision',\n",
    "        'reference': ''\n",
    "    },\n",
    "    {\n",
    "        'leaderboard': 'https://github.com/VSainteuf/pastis-benchmark',\n",
    "        'reference': ''\n",
    "    },\n",
    "    {\n",
    "        'leaderboard': 'https://github.com/lupantech/MathVista',\n",
    "        'reference': ''\n",
    "    },\n",
    "    {\n",
    "        'leaderboard': 'https://huggingface.co/spaces/LanguageBind/Video-Bench',\n",
    "        'reference': 'https://github.com/PKU-YuanGroup/Video-Bench/blob/main/README.md?plain=1#L48'\n",
    "    },\n",
    "    {\n",
    "        'leaderboard': 'https://evo-eval.github.io/leaderboard.html',\n",
    "        'reference': 'https://github.com/evo-eval/evoeval/blob/main/README.md?plain=1#L4'\n",
    "    },\n",
    "    {\n",
    "        'leaderboard': 'https://huggingface.co/spaces/open-llm-leaderboard/open_llm_leaderboard',\n",
    "        'reference': 'https://github.com/SUSTech-IDEA/SUS-Chat/blob/main/README.md?plain=1#L90'\n",
    "    },\n",
    "    {\n",
    "        'leaderboard': 'https://novelchallenge.github.io/index.html',\n",
    "        'reference': 'https://github.com/marzenakrp/nocha/blob/main/README.md?plain=1#L10'\n",
    "    },\n",
    "    {\n",
    "        'leaderboard': 'https://breakend.github.io/RL-Energy-Leaderboard/reinforcement_learning_energy_leaderboard',\n",
    "        'reference': 'https://github.com/Breakend/experiment-impact-tracker/blob/master/README.md?plain=1#L160'\n",
    "    },\n",
    "    {\n",
    "        'leaderboard': 'https://www.cbica.upenn.edu/BraTS18/lboardValidation.html',\n",
    "        'reference': 'https://github.com/sacmehta/3D-ESPNet/blob/master/README.md?plain=1#L7'\n",
    "    },\n",
    "    {\n",
    "        'leaderboard': 'https://huggingface.co/spaces/allenai/reward-bench',\n",
    "        'reference': 'https://github.com/allenai/reward-bench/blob/main/README.md?plain=1#L4'\n",
    "    },\n",
    "    {\n",
    "        'leaderboard': 'https://github.com/Visual-Attention-Network/SegNeXt',\n",
    "        'reference': ''\n",
    "    },\n",
    "    {\n",
    "        'leaderboard': 'http://calvin.cs.uni-freiburg.de',\n",
    "        'reference': 'https://github.com/mees/calvin/blob/main/README.md?plain=1#L169'\n",
    "    },\n",
    "    {\n",
    "        'leaderboard': 'https://nyu-mll.github.io/quality',\n",
    "        'reference': 'https://github.com/nyu-mll/quality/blob/main/README.md?plain=1#L29'\n",
    "    },\n",
    "    {\n",
    "        'leaderboard': 'https://github.com/CUHK-ARISE/GAMABench',\n",
    "        'reference': ''\n",
    "    },\n",
    "    {\n",
    "        'leaderboard': 'https://huggingface.co/spaces/prometheus-eval/BiGGen-Bench-Leaderboard',\n",
    "        'reference': 'https://github.com/prometheus-eval/prometheus-eval/blob/main/README.md?plain=1#L26'\n",
    "    },\n",
    "    {\n",
    "        'leaderboard': 'https://github.com/yizhen20133868/Awesome-SLU-Survey',\n",
    "        'reference': ''\n",
    "    },\n",
    "    {\n",
    "        'leaderboard': 'https://lmarena.ai/?leaderboard',\n",
    "        'reference': 'https://github.com/mikeroyal/Machine-Learning-Guide/blob/main/README.md?plain=1#L479'\n",
    "    },\n",
    "    {\n",
    "        'leaderboard': 'https://github.com/LudwigStumpp/llm-leaderboard',\n",
    "        'reference': 'https://github.com/mikeroyal/Machine-Learning-Guide/blob/main/README.md?plain=1#L480'\n",
    "    },\n",
    "    {\n",
    "        'leaderboard': 'https://huggingface.co/spaces/open-llm-leaderboard/open_llm_leaderboard',\n",
    "        'reference': 'https://github.com/mikeroyal/Machine-Learning-Guide/blob/main/README.md?plain=1#L481'\n",
    "    },\n",
    "    {\n",
    "        'leaderboard': 'https://eval.ai/web/challenges/challenge-page/1663/leaderboard',\n",
    "        'reference': 'https://github.com/alexa/alexa-with-dstc10-track2-dataset/blob/main/README.md?plain=1#L15'\n",
    "    },\n",
    "    {\n",
    "        'leaderboard': 'https://github.com/ruixiangcui/AGIEval',\n",
    "        'reference': ''\n",
    "    },\n",
    "    {\n",
    "        'leaderboard': 'https://www.aicrowd.com/challenges/mediqa-2019-natural-language-inference-nli/leaderboards',\n",
    "        'reference': 'https://github.com/abachaa/MEDIQA2019/blob/master/README.md?plain=1#L46'\n",
    "    },\n",
    "    {\n",
    "        'leaderboard': 'https://www.aicrowd.com/challenges/mediqa-2019-recognizing-question-entailment-rqe/leaderboards',\n",
    "        'reference': 'https://github.com/abachaa/MEDIQA2019/blob/master/README.md?plain=1#L47'\n",
    "    },\n",
    "    {\n",
    "        'leaderboard': 'https://www.aicrowd.com/challenges/mediqa-2019-question-answering-qa/leaderboards',\n",
    "        'reference': 'https://github.com/abachaa/MEDIQA2019/blob/master/README.md?plain=1#L48'\n",
    "    },\n",
    "    {\n",
    "        'leaderboard': 'https://github.com/declare-lab/MELD',\n",
    "        'reference': ''\n",
    "    },\n",
    "    {\n",
    "        'leaderboard': 'https://www.conceptualcaptions.com/winners-and-data',\n",
    "        'reference': 'https://github.com/google-research-datasets/Image-Caption-Quality-Dataset/blob/master/README.md?plain=1#L93'\n",
    "    },\n",
    "    {\n",
    "        'leaderboard': 'https://huggingface.co/spaces/mteb/leaderboard',\n",
    "        'reference': 'https://github.com/sudarshan-koirala/llm-resources/blob/main/README.md?plain=1#L79'\n",
    "    },\n",
    "    {\n",
    "        'leaderboard': 'https://huggingface.co/spaces/open-llm-leaderboard/open_llm_leaderboard',\n",
    "        'reference': 'https://github.com/sudarshan-koirala/llm-resources/blob/main/README.md?plain=1#L82'\n",
    "    },\n",
    "    {\n",
    "        'leaderboard': 'https://lmarena.ai/?leaderboard',\n",
    "        'reference': 'https://github.com/sudarshan-koirala/llm-resources/blob/main/README.md?plain=1#L83'\n",
    "    },\n",
    "    {\n",
    "        'leaderboard': 'https://gorilla.cs.berkeley.edu/leaderboard.html',\n",
    "        'reference': 'https://github.com/sudarshan-koirala/llm-resources/blob/main/README.md?plain=1#L92'\n",
    "    },\n",
    "    {\n",
    "        'leaderboard': 'https://github.com/declare-lab/MELD',\n",
    "        'reference': ''\n",
    "    },\n",
    "    {\n",
    "        'leaderboard': 'https://github.com/vectara/hallucination-leaderboard',\n",
    "        'reference': 'https://github.com/kimtth/awesome-azure-openai-llm/blob/main/README.md?plain=1#L1500'\n",
    "    },\n",
    "    {\n",
    "        'leaderboard': 'https://huggingface.co/spaces/lmsys/chatbot-arena-leaderboard',\n",
    "        'reference': 'https://github.com/kimtth/awesome-azure-openai-llm/blob/main/README.md?plain=1#L1579'\n",
    "    },\n",
    "    {\n",
    "        'leaderboard': 'https://huggingface.co/spaces/open-llm-leaderboard/open_llm_leaderboard',\n",
    "        'reference': 'https://github.com/kimtth/awesome-azure-openai-llm/blob/main/README.md?plain=1#L1581'\n",
    "    },\n",
    "    {\n",
    "        'leaderboard': 'https://github.com/ray-project/llmperf-leaderboard',\n",
    "        'reference': 'https://github.com/kimtth/awesome-azure-openai-llm/blob/main/README.md?plain=1#L2244'\n",
    "    },\n",
    "    {\n",
    "        'leaderboard': 'https://huggingface.co/spaces/ArtificialAnalysis/LLM-Performance-Leaderboard',\n",
    "        'reference': 'https://github.com/kimtth/awesome-azure-openai-llm/blob/main/README.md?plain=1#L2245'\n",
    "    },\n",
    "    {\n",
    "        'leaderboard': 'https://gluebenchmark.com/leaderboard',\n",
    "        'reference': 'https://github.com/kimtth/awesome-azure-openai-llm/blob/main/README.md?plain=1#L2261'\n",
    "    },\n",
    "    {\n",
    "        'leaderboard': 'https://super.gluebenchmark.com/leaderboard',\n",
    "        'reference': 'https://github.com/kimtth/awesome-azure-openai-llm/blob/main/README.md?plain=1#L2261'\n",
    "    },\n",
    "    {\n",
    "        'leaderboard': 'https://github.com/facebookresearch/CompilerGym',\n",
    "        'reference': ''\n",
    "    },\n",
    "    {\n",
    "        'leaderboard': 'https://github.com/RUCAIBox/RecBole-GNN/blob/main/results/general/ml-1m.md',\n",
    "        'reference': ''\n",
    "    },\n",
    "    {\n",
    "        'leaderboard': 'https://github.com/RUCAIBox/RecBole-GNN/blob/main/results/sequential/diginetica.md',\n",
    "        'reference': ''\n",
    "    },\n",
    "    {\n",
    "        'leaderboard': 'https://github.com/RUCAIBox/RecBole-GNN/blob/main/results/social/lastfm.md',\n",
    "        'reference': ''\n",
    "    },\n",
    "    {\n",
    "        'leaderboard': 'https://github.com/abenhamadou/3DTeethSeg22_challenge',\n",
    "        'reference': ''\n",
    "    },\n",
    "    {\n",
    "        'leaderboard': 'https://github.com/Arthur151/SOTA-on-monocular-3D-pose-and-shape-estimation',\n",
    "        'reference': ''\n",
    "    },\n",
    "    {\n",
    "        'leaderboard': 'https://paperswithcode.com/dataset/sun-seg-easy',\n",
    "        'reference': 'https://github.com/GewelsJI/VPS/blob/main/README.md?plain=1#L130'\n",
    "    },\n",
    "    {\n",
    "        'leaderboard': 'https://paperswithcode.com/dataset/sun-seg-hard',\n",
    "        'reference': 'https://github.com/GewelsJI/VPS/blob/main/README.md?plain=1#L130'\n",
    "    },\n",
    "    {\n",
    "        'leaderboard': 'https://www.cvlibs.net/datasets/kitti',\n",
    "        'reference': 'https://github.com/daohu527/awesome-self-driving-car/blob/master/README.md?plain=1#L243'\n",
    "    },\n",
    "    {\n",
    "        'leaderboard': 'https://github.com/JusperLee/SonicSim',\n",
    "        'reference': ''\n",
    "    },\n",
    "    {\n",
    "        'leaderboard': 'https://github.com/bethgelab/InDomainGeneralizationBenchmark',\n",
    "        'reference': ''\n",
    "    },\n",
    "    {\n",
    "        'leaderboard': 'https://matbench.materialsproject.org',\n",
    "        'reference': 'https://github.com/materialsproject/matbench/blob/main/README.md?plain=1#L11'\n",
    "    },\n",
    "    {\n",
    "        'leaderboard': 'https://huggingface.co/spaces/open-llm-leaderboard/open_llm_leaderboard',\n",
    "        'reference': 'https://github.com/shm007g/LLaMA-Cult-and-More/blob/main/README.md?plain=1#L95'\n",
    "    },\n",
    "    {\n",
    "        'leaderboard': 'https://huggingface.co/spaces/Vchitect/VBench_Leaderboard',\n",
    "        'reference': 'https://github.com/modelscope/data-juicer/blob/main/README.md?plain=1#L42'\n",
    "    },\n",
    "    {\n",
    "        'leaderboard': 'https://github.com/OpenGVLab/Multi-Modality-Arena',\n",
    "        'reference': ''\n",
    "    },\n",
    "    {\n",
    "        'leaderboard': 'https://github.com/HowieHwong/TrustLLM',\n",
    "        'reference': ''\n",
    "    },\n",
    "    {\n",
    "        'leaderboard': 'https://huggingface.co/spaces/mteb/leaderboard',\n",
    "        'reference': 'https://github.com/huggingface/text-embeddings-inference/blob/main/README.md?plain=1#L87'\n",
    "    },\n",
    "    {\n",
    "        'leaderboard': 'https://mcgill-nlp.github.io/imagecode',\n",
    "        'reference': 'https://github.com/McGill-NLP/imagecode/blob/main/README.md?plain=1#L82'\n",
    "    },\n",
    "    {\n",
    "        'leaderboard': 'https://www.nuscenes.org/tracking',\n",
    "        'reference': 'https://github.com/lixiaoyu2000/Rock-Track/blob/main/README.md?plain=1#L12'\n",
    "    },\n",
    "    {\n",
    "        'leaderboard': 'https://www.scrolls-benchmark.com/leaderboard',\n",
    "        'reference': 'https://github.com/huankoh/long-doc-summarization/blob/main/README.md?plain=1#L72'\n",
    "    },\n",
    "    {\n",
    "        'leaderboard': 'https://github.com/SoccerNet/sn-reid',\n",
    "        'reference': ''\n",
    "    },\n",
    "    {\n",
    "        'leaderboard': 'https://paperswithcode.com/task/cross-domain-few-shot-object-detection',\n",
    "        'reference': 'https://github.com/lovelyqian/CDFSOD-benchmark/blob/main/README.md?plain=1#L10'\n",
    "    },\n",
    "    {\n",
    "        'leaderboard': 'https://huggingface.co/spaces/ChenYi99/EgoPlan-Bench_Leaderboard',\n",
    "        'reference': 'https://github.com/ChenYi99/EgoPlan/blob/master/README.md?plain=1#L241'\n",
    "    },\n",
    "    {\n",
    "        'leaderboard': 'https://huggingface.co/spaces/open-llm-leaderboard/open_llm_leaderboard',\n",
    "        'reference': 'https://github.com/HenryHZY/Awesome-Multimodal-LLM/blob/main/README.md?plain=1#L283'\n",
    "    },\n",
    "    {\n",
    "        'leaderboard': 'https://codalab.lisn.upsaclay.fr/competitions/421',\n",
    "        'reference': 'https://github.com/Junjue-Wang/LoveDA/blob/master/README.md?plain=1#L9'\n",
    "    },\n",
    "    {\n",
    "        'leaderboard': 'https://codalab.lisn.upsaclay.fr/competitions/424',\n",
    "        'reference': 'https://github.com/Junjue-Wang/LoveDA/blob/master/README.md?plain=1#L10'\n",
    "    },\n",
    "    {\n",
    "        'leaderboard': 'https://www.kaggle.com/competitions/house-prices-advanced-regression-techniques/leaderboard',\n",
    "        'reference': 'https://github.com/veb-101/Data-Science-Projects/blob/master/README.md?plain=1#L22'\n",
    "    },\n",
    "    {\n",
    "        'leaderboard': 'https://huggingface.co/spaces/opencompass/open_vlm_leaderboard',\n",
    "        'reference': 'https://github.com/dylanhogg/awesome-python/blob/main/README.md?plain=1#L749'\n",
    "    },\n",
    "    {\n",
    "        'leaderboard': 'https://torchprotein.ai/benchmark',\n",
    "        'reference': 'https://github.com/DeepGraphLearning/PEER_Benchmark/blob/main/README.md?plain=1#L135'\n",
    "    },\n",
    "    {\n",
    "        'leaderboard': 'https://huggingface.co/spaces/open-llm-leaderboard/open_llm_leaderboard',\n",
    "        'reference': 'https://github.com/Exorust/LLM-Cookbook/blob/main/README.md?plain=1#L166'\n",
    "    },\n",
    "    {\n",
    "        'leaderboard': 'https://henrychur.github.io/MedS-Bench',\n",
    "        'reference': 'https://github.com/MAGIC-AI4Med/MedS-Ins/blob/main/README.md?plain=1#L6'\n",
    "    },\n",
    "    {\n",
    "        'leaderboard': 'https://github.com/waico/SKAB',\n",
    "        'reference': ''\n",
    "    },\n",
    "    {\n",
    "        'leaderboard': 'https://github.com/GAIR-NLP/abel',\n",
    "        'reference': ''\n",
    "    },\n",
    "    {\n",
    "        'leaderboard': 'https://huggingface.co/spaces/BestWishYsh/ChronoMagic-Bench',\n",
    "        'reference': 'https://github.com/PKU-YuanGroup/ChronoMagic-Bench/blob/main/README.md?plain=1#L205'\n",
    "    },\n",
    "    {\n",
    "        'leaderboard': 'https://github.com/facebookresearch/anli',\n",
    "        'reference': 'https://github.com/thunlp/TAADpapers/blob/master/README.md?plain=1#L207'\n",
    "    },\n",
    "    {\n",
    "        'leaderboard': 'https://www.llm-reasoners.net/leaderboard',\n",
    "        'reference': 'https://github.com/maitrix-org/llm-reasoners/blob/main/README.md?plain=1#L52'\n",
    "    },\n",
    "    {\n",
    "        'leaderboard': 'https://eval.ai/web/challenges/challenge-page/463/leaderboard',\n",
    "        'reference': 'https://github.com/mmurray/cvdn/blob/master/README.md?plain=1#L64'\n",
    "    },\n",
    "    {\n",
    "        'leaderboard': 'https://opendrivelab.com/challenge2023',\n",
    "        'reference': 'https://github.com/OpenDriveLab/TopoNet/blob/main/README.md?plain=1#L41'\n",
    "    },\n",
    "    {\n",
    "        'leaderboard': 'https://huggingface.co/spaces/AGC2024/driving-with-language-official',\n",
    "        'reference': 'https://github.com/OpenDriveLab/DriveLM/blob/main/README.md?plain=1#L88'\n",
    "    },\n",
    "]\n",
    "\n",
    "leaderboard_secondary = [\n",
    "    {\n",
    "        'original': 'https://www.superclueai.com',\n",
    "        'descendants': ['https://github.com/CLUEbenchmark/SuperCLUEgkzw', 'https://www.langyb.com']\n",
    "    },\n",
    "    {\n",
    "        'original': 'https://lmarena.ai/?leaderboard',\n",
    "        'descendants': ['https://redarena.ai/leaderboard']\n",
    "    },\n",
    "    {\n",
    "        'original': 'https://llm.extractum.io/static/llm-leaderboards',\n",
    "        'descendants': ['https://eqbench.com', 'https://oobabooga.github.io/benchmark.html', 'https://huggingface.co/spaces/DontPlanToEnd/UGI-Leaderboard']\n",
    "    },\n",
    "    {\n",
    "        'original': 'https://predibase.com/fine-tuning-index',\n",
    "        'descendants': ['https://predibase.com/fine-tuning-leaderboard']\n",
    "    },\n",
    "]"
   ]
  },
  {
   "cell_type": "code",
   "execution_count": 18,
   "metadata": {},
   "outputs": [
    {
     "name": "stdout",
     "output_type": "stream",
     "text": [
      "There are 4 dataset-oriented leaderboards.\n",
      "There are 15 method-oriented leaderboards.\n",
      "There are 1 metric-oriented leaderboards.\n"
     ]
    }
   ],
   "source": [
    "print(f'There are {len(dataset_oriented_leaderboards)} dataset-oriented leaderboards.')\n",
    "print(f'There are {len(method_oriented_leaderboards)} method-oriented leaderboards.')\n",
    "print(f'There are {len(metric_oriented_leaderboards)} metric-oriented leaderboards.')\n",
    "# There are 402 EvalAI + 648 Kaggle + 1 TAOST + 5 Artificial Analysis + rest = 1062 solution-oriented leaderboards.\n",
    "# There are 5312 PapersWithCode + 78 GitHub + 336 HuggingFace + 49 Independent = 5775 model-oriented leaderboards."
   ]
  },
  {
   "cell_type": "code",
   "execution_count": 19,
   "metadata": {},
   "outputs": [],
   "source": [
    "with pd.ExcelFile(path_meta / 'Foundation Model Leaderboards.xlsx') as excel_file:\n",
    "    df_leaderboard = pd.read_excel(excel_file, sheet_name='Leaderboard')\n",
    "\n",
    "    df_leaderboard_expanded = []\n",
    "    for idx, row in df_leaderboard.iterrows():\n",
    "        task = row['Name']\n",
    "        if task in pwc_leaderboard_mapping and row['Platforms'] == 'pwc':\n",
    "            sub_names = pwc_leaderboard_mapping[task]\n",
    "            for sub_name in sub_names:\n",
    "                new_row = row.copy()\n",
    "                new_row['Name'] = sub_name\n",
    "                df_leaderboard_expanded.append(new_row)\n",
    "        else:\n",
    "            df_leaderboard_expanded.append(row)\n",
    "\n",
    "    df_leaderboard_expanded = pd.DataFrame(df_leaderboard_expanded)\n",
    "    df_leaderboard_expanded.to_csv(path_meta / 'leaderboard_processed.csv', index=False)"
   ]
  },
  {
   "cell_type": "code",
   "execution_count": 20,
   "metadata": {},
   "outputs": [
    {
     "name": "stdout",
     "output_type": "stream",
     "text": [
      "Total number of leaderboards: 721\n",
      "16.64% (120 out of 721) leaderboards do not have any model provenence links.\n",
      "7.91% (57 out of 721) leaderboards are hosted on multiple platforms.\n"
     ]
    },
    {
     "data": {
      "application/vnd.plotly.v1+json": {
       "config": {
        "plotlyServerURL": "https://plot.ly"
       },
       "data": [
        {
         "alignmentgroup": "True",
         "hovertemplate": "Host Platforms=%{x}<br>Number of Leaderboards=%{y}<extra></extra>",
         "legendgroup": "",
         "marker": {
          "color": "#636efa",
          "pattern": {
           "shape": ""
          }
         },
         "name": "",
         "offsetgroup": "",
         "orientation": "v",
         "showlegend": false,
         "textposition": "auto",
         "texttemplate": "%{y}",
         "type": "bar",
         "x": [
          "pwc",
          "hf",
          "gh",
          "ip",
          "gh,hf",
          "gh,ip",
          "hf,ip",
          "gh,pwc",
          "gh,hf,ip",
          "gh,hf,ip,pwc"
         ],
         "xaxis": "x",
         "y": [
          443,
          84,
          77,
          60,
          19,
          19,
          14,
          2,
          2,
          1
         ],
         "yaxis": "y"
        }
       ],
       "layout": {
        "autosize": true,
        "barmode": "relative",
        "height": 800,
        "legend": {
         "tracegroupgap": 0
        },
        "margin": {
         "b": 10,
         "l": 10,
         "pad": 4,
         "r": 10,
         "t": 10
        },
        "template": {
         "data": {
          "bar": [
           {
            "error_x": {
             "color": "#2a3f5f"
            },
            "error_y": {
             "color": "#2a3f5f"
            },
            "marker": {
             "line": {
              "color": "#E5ECF6",
              "width": 0.5
             },
             "pattern": {
              "fillmode": "overlay",
              "size": 10,
              "solidity": 0.2
             }
            },
            "type": "bar"
           }
          ],
          "barpolar": [
           {
            "marker": {
             "line": {
              "color": "#E5ECF6",
              "width": 0.5
             },
             "pattern": {
              "fillmode": "overlay",
              "size": 10,
              "solidity": 0.2
             }
            },
            "type": "barpolar"
           }
          ],
          "carpet": [
           {
            "aaxis": {
             "endlinecolor": "#2a3f5f",
             "gridcolor": "white",
             "linecolor": "white",
             "minorgridcolor": "white",
             "startlinecolor": "#2a3f5f"
            },
            "baxis": {
             "endlinecolor": "#2a3f5f",
             "gridcolor": "white",
             "linecolor": "white",
             "minorgridcolor": "white",
             "startlinecolor": "#2a3f5f"
            },
            "type": "carpet"
           }
          ],
          "choropleth": [
           {
            "colorbar": {
             "outlinewidth": 0,
             "ticks": ""
            },
            "type": "choropleth"
           }
          ],
          "contour": [
           {
            "colorbar": {
             "outlinewidth": 0,
             "ticks": ""
            },
            "colorscale": [
             [
              0,
              "#0d0887"
             ],
             [
              0.1111111111111111,
              "#46039f"
             ],
             [
              0.2222222222222222,
              "#7201a8"
             ],
             [
              0.3333333333333333,
              "#9c179e"
             ],
             [
              0.4444444444444444,
              "#bd3786"
             ],
             [
              0.5555555555555556,
              "#d8576b"
             ],
             [
              0.6666666666666666,
              "#ed7953"
             ],
             [
              0.7777777777777778,
              "#fb9f3a"
             ],
             [
              0.8888888888888888,
              "#fdca26"
             ],
             [
              1,
              "#f0f921"
             ]
            ],
            "type": "contour"
           }
          ],
          "contourcarpet": [
           {
            "colorbar": {
             "outlinewidth": 0,
             "ticks": ""
            },
            "type": "contourcarpet"
           }
          ],
          "heatmap": [
           {
            "colorbar": {
             "outlinewidth": 0,
             "ticks": ""
            },
            "colorscale": [
             [
              0,
              "#0d0887"
             ],
             [
              0.1111111111111111,
              "#46039f"
             ],
             [
              0.2222222222222222,
              "#7201a8"
             ],
             [
              0.3333333333333333,
              "#9c179e"
             ],
             [
              0.4444444444444444,
              "#bd3786"
             ],
             [
              0.5555555555555556,
              "#d8576b"
             ],
             [
              0.6666666666666666,
              "#ed7953"
             ],
             [
              0.7777777777777778,
              "#fb9f3a"
             ],
             [
              0.8888888888888888,
              "#fdca26"
             ],
             [
              1,
              "#f0f921"
             ]
            ],
            "type": "heatmap"
           }
          ],
          "heatmapgl": [
           {
            "colorbar": {
             "outlinewidth": 0,
             "ticks": ""
            },
            "colorscale": [
             [
              0,
              "#0d0887"
             ],
             [
              0.1111111111111111,
              "#46039f"
             ],
             [
              0.2222222222222222,
              "#7201a8"
             ],
             [
              0.3333333333333333,
              "#9c179e"
             ],
             [
              0.4444444444444444,
              "#bd3786"
             ],
             [
              0.5555555555555556,
              "#d8576b"
             ],
             [
              0.6666666666666666,
              "#ed7953"
             ],
             [
              0.7777777777777778,
              "#fb9f3a"
             ],
             [
              0.8888888888888888,
              "#fdca26"
             ],
             [
              1,
              "#f0f921"
             ]
            ],
            "type": "heatmapgl"
           }
          ],
          "histogram": [
           {
            "marker": {
             "pattern": {
              "fillmode": "overlay",
              "size": 10,
              "solidity": 0.2
             }
            },
            "type": "histogram"
           }
          ],
          "histogram2d": [
           {
            "colorbar": {
             "outlinewidth": 0,
             "ticks": ""
            },
            "colorscale": [
             [
              0,
              "#0d0887"
             ],
             [
              0.1111111111111111,
              "#46039f"
             ],
             [
              0.2222222222222222,
              "#7201a8"
             ],
             [
              0.3333333333333333,
              "#9c179e"
             ],
             [
              0.4444444444444444,
              "#bd3786"
             ],
             [
              0.5555555555555556,
              "#d8576b"
             ],
             [
              0.6666666666666666,
              "#ed7953"
             ],
             [
              0.7777777777777778,
              "#fb9f3a"
             ],
             [
              0.8888888888888888,
              "#fdca26"
             ],
             [
              1,
              "#f0f921"
             ]
            ],
            "type": "histogram2d"
           }
          ],
          "histogram2dcontour": [
           {
            "colorbar": {
             "outlinewidth": 0,
             "ticks": ""
            },
            "colorscale": [
             [
              0,
              "#0d0887"
             ],
             [
              0.1111111111111111,
              "#46039f"
             ],
             [
              0.2222222222222222,
              "#7201a8"
             ],
             [
              0.3333333333333333,
              "#9c179e"
             ],
             [
              0.4444444444444444,
              "#bd3786"
             ],
             [
              0.5555555555555556,
              "#d8576b"
             ],
             [
              0.6666666666666666,
              "#ed7953"
             ],
             [
              0.7777777777777778,
              "#fb9f3a"
             ],
             [
              0.8888888888888888,
              "#fdca26"
             ],
             [
              1,
              "#f0f921"
             ]
            ],
            "type": "histogram2dcontour"
           }
          ],
          "mesh3d": [
           {
            "colorbar": {
             "outlinewidth": 0,
             "ticks": ""
            },
            "type": "mesh3d"
           }
          ],
          "parcoords": [
           {
            "line": {
             "colorbar": {
              "outlinewidth": 0,
              "ticks": ""
             }
            },
            "type": "parcoords"
           }
          ],
          "pie": [
           {
            "automargin": true,
            "type": "pie"
           }
          ],
          "scatter": [
           {
            "fillpattern": {
             "fillmode": "overlay",
             "size": 10,
             "solidity": 0.2
            },
            "type": "scatter"
           }
          ],
          "scatter3d": [
           {
            "line": {
             "colorbar": {
              "outlinewidth": 0,
              "ticks": ""
             }
            },
            "marker": {
             "colorbar": {
              "outlinewidth": 0,
              "ticks": ""
             }
            },
            "type": "scatter3d"
           }
          ],
          "scattercarpet": [
           {
            "marker": {
             "colorbar": {
              "outlinewidth": 0,
              "ticks": ""
             }
            },
            "type": "scattercarpet"
           }
          ],
          "scattergeo": [
           {
            "marker": {
             "colorbar": {
              "outlinewidth": 0,
              "ticks": ""
             }
            },
            "type": "scattergeo"
           }
          ],
          "scattergl": [
           {
            "marker": {
             "colorbar": {
              "outlinewidth": 0,
              "ticks": ""
             }
            },
            "type": "scattergl"
           }
          ],
          "scattermapbox": [
           {
            "marker": {
             "colorbar": {
              "outlinewidth": 0,
              "ticks": ""
             }
            },
            "type": "scattermapbox"
           }
          ],
          "scatterpolar": [
           {
            "marker": {
             "colorbar": {
              "outlinewidth": 0,
              "ticks": ""
             }
            },
            "type": "scatterpolar"
           }
          ],
          "scatterpolargl": [
           {
            "marker": {
             "colorbar": {
              "outlinewidth": 0,
              "ticks": ""
             }
            },
            "type": "scatterpolargl"
           }
          ],
          "scatterternary": [
           {
            "marker": {
             "colorbar": {
              "outlinewidth": 0,
              "ticks": ""
             }
            },
            "type": "scatterternary"
           }
          ],
          "surface": [
           {
            "colorbar": {
             "outlinewidth": 0,
             "ticks": ""
            },
            "colorscale": [
             [
              0,
              "#0d0887"
             ],
             [
              0.1111111111111111,
              "#46039f"
             ],
             [
              0.2222222222222222,
              "#7201a8"
             ],
             [
              0.3333333333333333,
              "#9c179e"
             ],
             [
              0.4444444444444444,
              "#bd3786"
             ],
             [
              0.5555555555555556,
              "#d8576b"
             ],
             [
              0.6666666666666666,
              "#ed7953"
             ],
             [
              0.7777777777777778,
              "#fb9f3a"
             ],
             [
              0.8888888888888888,
              "#fdca26"
             ],
             [
              1,
              "#f0f921"
             ]
            ],
            "type": "surface"
           }
          ],
          "table": [
           {
            "cells": {
             "fill": {
              "color": "#EBF0F8"
             },
             "line": {
              "color": "white"
             }
            },
            "header": {
             "fill": {
              "color": "#C8D4E3"
             },
             "line": {
              "color": "white"
             }
            },
            "type": "table"
           }
          ]
         },
         "layout": {
          "annotationdefaults": {
           "arrowcolor": "#2a3f5f",
           "arrowhead": 0,
           "arrowwidth": 1
          },
          "autotypenumbers": "strict",
          "coloraxis": {
           "colorbar": {
            "outlinewidth": 0,
            "ticks": ""
           }
          },
          "colorscale": {
           "diverging": [
            [
             0,
             "#8e0152"
            ],
            [
             0.1,
             "#c51b7d"
            ],
            [
             0.2,
             "#de77ae"
            ],
            [
             0.3,
             "#f1b6da"
            ],
            [
             0.4,
             "#fde0ef"
            ],
            [
             0.5,
             "#f7f7f7"
            ],
            [
             0.6,
             "#e6f5d0"
            ],
            [
             0.7,
             "#b8e186"
            ],
            [
             0.8,
             "#7fbc41"
            ],
            [
             0.9,
             "#4d9221"
            ],
            [
             1,
             "#276419"
            ]
           ],
           "sequential": [
            [
             0,
             "#0d0887"
            ],
            [
             0.1111111111111111,
             "#46039f"
            ],
            [
             0.2222222222222222,
             "#7201a8"
            ],
            [
             0.3333333333333333,
             "#9c179e"
            ],
            [
             0.4444444444444444,
             "#bd3786"
            ],
            [
             0.5555555555555556,
             "#d8576b"
            ],
            [
             0.6666666666666666,
             "#ed7953"
            ],
            [
             0.7777777777777778,
             "#fb9f3a"
            ],
            [
             0.8888888888888888,
             "#fdca26"
            ],
            [
             1,
             "#f0f921"
            ]
           ],
           "sequentialminus": [
            [
             0,
             "#0d0887"
            ],
            [
             0.1111111111111111,
             "#46039f"
            ],
            [
             0.2222222222222222,
             "#7201a8"
            ],
            [
             0.3333333333333333,
             "#9c179e"
            ],
            [
             0.4444444444444444,
             "#bd3786"
            ],
            [
             0.5555555555555556,
             "#d8576b"
            ],
            [
             0.6666666666666666,
             "#ed7953"
            ],
            [
             0.7777777777777778,
             "#fb9f3a"
            ],
            [
             0.8888888888888888,
             "#fdca26"
            ],
            [
             1,
             "#f0f921"
            ]
           ]
          },
          "colorway": [
           "#636efa",
           "#EF553B",
           "#00cc96",
           "#ab63fa",
           "#FFA15A",
           "#19d3f3",
           "#FF6692",
           "#B6E880",
           "#FF97FF",
           "#FECB52"
          ],
          "font": {
           "color": "#2a3f5f"
          },
          "geo": {
           "bgcolor": "white",
           "lakecolor": "white",
           "landcolor": "#E5ECF6",
           "showlakes": true,
           "showland": true,
           "subunitcolor": "white"
          },
          "hoverlabel": {
           "align": "left"
          },
          "hovermode": "closest",
          "mapbox": {
           "style": "light"
          },
          "paper_bgcolor": "white",
          "plot_bgcolor": "#E5ECF6",
          "polar": {
           "angularaxis": {
            "gridcolor": "white",
            "linecolor": "white",
            "ticks": ""
           },
           "bgcolor": "#E5ECF6",
           "radialaxis": {
            "gridcolor": "white",
            "linecolor": "white",
            "ticks": ""
           }
          },
          "scene": {
           "xaxis": {
            "backgroundcolor": "#E5ECF6",
            "gridcolor": "white",
            "gridwidth": 2,
            "linecolor": "white",
            "showbackground": true,
            "ticks": "",
            "zerolinecolor": "white"
           },
           "yaxis": {
            "backgroundcolor": "#E5ECF6",
            "gridcolor": "white",
            "gridwidth": 2,
            "linecolor": "white",
            "showbackground": true,
            "ticks": "",
            "zerolinecolor": "white"
           },
           "zaxis": {
            "backgroundcolor": "#E5ECF6",
            "gridcolor": "white",
            "gridwidth": 2,
            "linecolor": "white",
            "showbackground": true,
            "ticks": "",
            "zerolinecolor": "white"
           }
          },
          "shapedefaults": {
           "line": {
            "color": "#2a3f5f"
           }
          },
          "ternary": {
           "aaxis": {
            "gridcolor": "white",
            "linecolor": "white",
            "ticks": ""
           },
           "baxis": {
            "gridcolor": "white",
            "linecolor": "white",
            "ticks": ""
           },
           "bgcolor": "#E5ECF6",
           "caxis": {
            "gridcolor": "white",
            "linecolor": "white",
            "ticks": ""
           }
          },
          "title": {
           "x": 0.05
          },
          "xaxis": {
           "automargin": true,
           "gridcolor": "white",
           "linecolor": "white",
           "ticks": "",
           "title": {
            "standoff": 15
           },
           "zerolinecolor": "white",
           "zerolinewidth": 2
          },
          "yaxis": {
           "automargin": true,
           "gridcolor": "white",
           "linecolor": "white",
           "ticks": "",
           "title": {
            "standoff": 15
           },
           "zerolinecolor": "white",
           "zerolinewidth": 2
          }
         }
        },
        "width": 1200,
        "xaxis": {
         "anchor": "y",
         "domain": [
          0,
          1
         ],
         "tickfont": {
          "color": "black"
         },
         "title": {
          "font": {
           "color": "black",
           "family": "Arial, bold",
           "size": 18
          },
          "text": "Host Platforms"
         }
        },
        "yaxis": {
         "anchor": "x",
         "domain": [
          0,
          1
         ],
         "tickfont": {
          "color": "black"
         },
         "title": {
          "font": {
           "color": "black",
           "family": "Arial, bold",
           "size": 18
          },
          "text": "Number of Leaderboards"
         }
        }
       }
      }
     },
     "metadata": {},
     "output_type": "display_data"
    },
    {
     "name": "stdout",
     "output_type": "stream",
     "text": [
      "HF: 120 (16.64%)\n",
      "GH: 120 (16.64%)\n",
      "PWC: 446 (61.86%)\n",
      "IP: 96 (13.31%)\n"
     ]
    }
   ],
   "source": [
    "leaderboard_hosted_on_multiple_platforms = 0\n",
    "leaderboard_without_model_linkage = 0\n",
    "leaderboard_host_platform_mapping = defaultdict(int)\n",
    "\n",
    "df_leaderboard_expanded = pd.read_csv(path_meta / 'leaderboard_processed.csv')\n",
    "df_leaderboard_expanded['Development workflows (non-pwc)'] = df_leaderboard_expanded['Development workflows (non-pwc)'].astype(str).apply(string_to_list)\n",
    "df_leaderboard_expanded['Display formats (non-pwc)'] = df_leaderboard_expanded['Display formats (non-pwc)'].apply(lambda x: string_to_dict(x, list_format=True))\n",
    "df_leaderboard_expanded['Publication venues (non-pwc)'] = df_leaderboard_expanded['Publication venues (non-pwc)'].apply(string_to_list)\n",
    "df_leaderboard_expanded['Release organizations (non-pwc)'] = df_leaderboard_expanded['Release organizations (non-pwc)'].apply(string_to_list)\n",
    "\n",
    "df_leaderboard_expanded['Display formats'] = [[] for _ in range(len(df_leaderboard_expanded))]\n",
    "df_leaderboard_expanded['Development workflows'] = [[] for _ in range(len(df_leaderboard_expanded))]\n",
    "df_leaderboard_expanded['Release organizations'] = [[] for _ in range(len(df_leaderboard_expanded))]\n",
    "\n",
    "for index, row in df_leaderboard_expanded.iterrows():\n",
    "    display_formats = set(row['Display formats (non-pwc)'])\n",
    "    publishers = publisher_synonyms_mapping(row['Release organizations (non-pwc)'])\n",
    "    workflows = set(row['Development workflows (non-pwc)'])\n",
    "        \n",
    "    for platform in row['Platforms'].split(','):\n",
    "        leaderboard_host_platform_mapping[platform] += 1\n",
    "            \n",
    "    if len(row['Platforms'].split(',')) > 1:\n",
    "        leaderboard_hosted_on_multiple_platforms += 1\n",
    "        \n",
    "    if row['Platforms'] == 'pwc':\n",
    "        publishers.add('Papers With Code')\n",
    "            \n",
    "    if 'pwc' in row['Platforms']:\n",
    "        display_formats = display_formats.union(display_format_pwc)\n",
    "        workflows = workflows.union(workflow_pwc)\n",
    "    elif pd.isna(row['Model linkage (non-pwc)']):\n",
    "        leaderboard_without_model_linkage += 1\n",
    "\n",
    "    df_leaderboard_expanded.at[index, 'Display formats'] = list(display_formats)\n",
    "    df_leaderboard_expanded.at[index, 'Development workflows'] = list(workflows)\n",
    "    df_leaderboard_expanded.at[index, 'Release organizations'] = list(publishers)\n",
    "\n",
    "df_leaderboard_expanded.to_csv(path_meta / 'leaderboard_processed.csv', index=False)\n",
    "\n",
    "print(f\"Total number of leaderboards: {len(df_leaderboard_expanded)}\")\n",
    "print(f\"{round(leaderboard_without_model_linkage/len(df_leaderboard_expanded)*100,2)}% ({leaderboard_without_model_linkage} out of {len(df_leaderboard_expanded)}) leaderboards do not have any model provenence links.\")\n",
    "print(f\"{round(leaderboard_hosted_on_multiple_platforms/len(df_leaderboard_expanded)*100,2)}% ({leaderboard_hosted_on_multiple_platforms} out of {len(df_leaderboard_expanded)}) leaderboards are hosted on multiple platforms.\")\n",
    "\n",
    "leaderboard_distribution = df_leaderboard_expanded['Platforms'].value_counts().to_dict()\n",
    "\n",
    "fig = px.bar(\n",
    "    x=leaderboard_distribution.keys(),\n",
    "    y=leaderboard_distribution.values(),\n",
    "    text_auto=True,\n",
    "    labels={'x': 'Host Platforms', 'y': 'Number of Leaderboards'},\n",
    ")\n",
    "# Update the layout for a tighter look\n",
    "fig.update_layout(\n",
    "    autosize=True,\n",
    "    margin=dict(\n",
    "        l=10,  # Left margin\n",
    "        r=10,  # Right margin\n",
    "        b=10,  # Bottom margin\n",
    "        t=10,  # Top margin\n",
    "        pad=4  # Padding between the plot and the margin\n",
    "    ),\n",
    "    xaxis=dict(title_font=dict(size=18, family='Arial, bold', color='black'),tickfont=dict(color='black')),\n",
    "    yaxis=dict(title_font=dict(size=18, family='Arial, bold', color='black'),tickfont=dict(color='black')),\n",
    ")\n",
    "pio.write_image(fig, f'{path_meta}/platform-combo-distribution.pdf')\n",
    "fig.update_layout(\n",
    "    width=1200,  # Set the width of the figure\n",
    "    height=800,  # Set the height of the figure\n",
    ")\n",
    "fig.show()\n",
    "\n",
    "for key, value in leaderboard_host_platform_mapping.items():\n",
    "    print(f\"{key.upper()}: {value} ({round(value/len(df_leaderboard_expanded)*100,2)}%)\")"
   ]
  },
  {
   "cell_type": "code",
   "execution_count": 21,
   "metadata": {},
   "outputs": [
    {
     "name": "stdout",
     "output_type": "stream",
     "text": [
      "Pattern 1 is the most prevalent (475 out of 721) workflow patterns that accounts for 65.88%.\n",
      "There are 11.79% (85 out of 721) non-PWC leaderboards with multiple workflow patterns.\n",
      "In Pattern 1, 93.89% (446 out of 475) of the leaderboards are hosted on Papers With Code.\n"
     ]
    },
    {
     "data": {
      "application/vnd.plotly.v1+json": {
       "config": {
        "plotlyServerURL": "https://plot.ly"
       },
       "data": [
        {
         "alignmentgroup": "True",
         "hovertemplate": "Deployment workflows=%{x}<br>Leaderboard Percentage=%{y}<extra></extra>",
         "legendgroup": "",
         "marker": {
          "color": "#636efa",
          "pattern": {
           "shape": ""
          }
         },
         "name": "",
         "offsetgroup": "",
         "orientation": "v",
         "showlegend": false,
         "textposition": "auto",
         "texttemplate": "%{y}",
         "type": "bar",
         "x": [
          "Pattern 1",
          "Pattern 4",
          "Pattern 2",
          "Pattern 5",
          "Pattern 3"
         ],
         "xaxis": "x",
         "y": [
          65.88,
          33.01,
          10.68,
          2.5,
          0.14
         ],
         "yaxis": "y"
        }
       ],
       "layout": {
        "barmode": "relative",
        "height": 800,
        "legend": {
         "tracegroupgap": 0
        },
        "margin": {
         "t": 60
        },
        "template": {
         "data": {
          "bar": [
           {
            "error_x": {
             "color": "#2a3f5f"
            },
            "error_y": {
             "color": "#2a3f5f"
            },
            "marker": {
             "line": {
              "color": "#E5ECF6",
              "width": 0.5
             },
             "pattern": {
              "fillmode": "overlay",
              "size": 10,
              "solidity": 0.2
             }
            },
            "type": "bar"
           }
          ],
          "barpolar": [
           {
            "marker": {
             "line": {
              "color": "#E5ECF6",
              "width": 0.5
             },
             "pattern": {
              "fillmode": "overlay",
              "size": 10,
              "solidity": 0.2
             }
            },
            "type": "barpolar"
           }
          ],
          "carpet": [
           {
            "aaxis": {
             "endlinecolor": "#2a3f5f",
             "gridcolor": "white",
             "linecolor": "white",
             "minorgridcolor": "white",
             "startlinecolor": "#2a3f5f"
            },
            "baxis": {
             "endlinecolor": "#2a3f5f",
             "gridcolor": "white",
             "linecolor": "white",
             "minorgridcolor": "white",
             "startlinecolor": "#2a3f5f"
            },
            "type": "carpet"
           }
          ],
          "choropleth": [
           {
            "colorbar": {
             "outlinewidth": 0,
             "ticks": ""
            },
            "type": "choropleth"
           }
          ],
          "contour": [
           {
            "colorbar": {
             "outlinewidth": 0,
             "ticks": ""
            },
            "colorscale": [
             [
              0,
              "#0d0887"
             ],
             [
              0.1111111111111111,
              "#46039f"
             ],
             [
              0.2222222222222222,
              "#7201a8"
             ],
             [
              0.3333333333333333,
              "#9c179e"
             ],
             [
              0.4444444444444444,
              "#bd3786"
             ],
             [
              0.5555555555555556,
              "#d8576b"
             ],
             [
              0.6666666666666666,
              "#ed7953"
             ],
             [
              0.7777777777777778,
              "#fb9f3a"
             ],
             [
              0.8888888888888888,
              "#fdca26"
             ],
             [
              1,
              "#f0f921"
             ]
            ],
            "type": "contour"
           }
          ],
          "contourcarpet": [
           {
            "colorbar": {
             "outlinewidth": 0,
             "ticks": ""
            },
            "type": "contourcarpet"
           }
          ],
          "heatmap": [
           {
            "colorbar": {
             "outlinewidth": 0,
             "ticks": ""
            },
            "colorscale": [
             [
              0,
              "#0d0887"
             ],
             [
              0.1111111111111111,
              "#46039f"
             ],
             [
              0.2222222222222222,
              "#7201a8"
             ],
             [
              0.3333333333333333,
              "#9c179e"
             ],
             [
              0.4444444444444444,
              "#bd3786"
             ],
             [
              0.5555555555555556,
              "#d8576b"
             ],
             [
              0.6666666666666666,
              "#ed7953"
             ],
             [
              0.7777777777777778,
              "#fb9f3a"
             ],
             [
              0.8888888888888888,
              "#fdca26"
             ],
             [
              1,
              "#f0f921"
             ]
            ],
            "type": "heatmap"
           }
          ],
          "heatmapgl": [
           {
            "colorbar": {
             "outlinewidth": 0,
             "ticks": ""
            },
            "colorscale": [
             [
              0,
              "#0d0887"
             ],
             [
              0.1111111111111111,
              "#46039f"
             ],
             [
              0.2222222222222222,
              "#7201a8"
             ],
             [
              0.3333333333333333,
              "#9c179e"
             ],
             [
              0.4444444444444444,
              "#bd3786"
             ],
             [
              0.5555555555555556,
              "#d8576b"
             ],
             [
              0.6666666666666666,
              "#ed7953"
             ],
             [
              0.7777777777777778,
              "#fb9f3a"
             ],
             [
              0.8888888888888888,
              "#fdca26"
             ],
             [
              1,
              "#f0f921"
             ]
            ],
            "type": "heatmapgl"
           }
          ],
          "histogram": [
           {
            "marker": {
             "pattern": {
              "fillmode": "overlay",
              "size": 10,
              "solidity": 0.2
             }
            },
            "type": "histogram"
           }
          ],
          "histogram2d": [
           {
            "colorbar": {
             "outlinewidth": 0,
             "ticks": ""
            },
            "colorscale": [
             [
              0,
              "#0d0887"
             ],
             [
              0.1111111111111111,
              "#46039f"
             ],
             [
              0.2222222222222222,
              "#7201a8"
             ],
             [
              0.3333333333333333,
              "#9c179e"
             ],
             [
              0.4444444444444444,
              "#bd3786"
             ],
             [
              0.5555555555555556,
              "#d8576b"
             ],
             [
              0.6666666666666666,
              "#ed7953"
             ],
             [
              0.7777777777777778,
              "#fb9f3a"
             ],
             [
              0.8888888888888888,
              "#fdca26"
             ],
             [
              1,
              "#f0f921"
             ]
            ],
            "type": "histogram2d"
           }
          ],
          "histogram2dcontour": [
           {
            "colorbar": {
             "outlinewidth": 0,
             "ticks": ""
            },
            "colorscale": [
             [
              0,
              "#0d0887"
             ],
             [
              0.1111111111111111,
              "#46039f"
             ],
             [
              0.2222222222222222,
              "#7201a8"
             ],
             [
              0.3333333333333333,
              "#9c179e"
             ],
             [
              0.4444444444444444,
              "#bd3786"
             ],
             [
              0.5555555555555556,
              "#d8576b"
             ],
             [
              0.6666666666666666,
              "#ed7953"
             ],
             [
              0.7777777777777778,
              "#fb9f3a"
             ],
             [
              0.8888888888888888,
              "#fdca26"
             ],
             [
              1,
              "#f0f921"
             ]
            ],
            "type": "histogram2dcontour"
           }
          ],
          "mesh3d": [
           {
            "colorbar": {
             "outlinewidth": 0,
             "ticks": ""
            },
            "type": "mesh3d"
           }
          ],
          "parcoords": [
           {
            "line": {
             "colorbar": {
              "outlinewidth": 0,
              "ticks": ""
             }
            },
            "type": "parcoords"
           }
          ],
          "pie": [
           {
            "automargin": true,
            "type": "pie"
           }
          ],
          "scatter": [
           {
            "fillpattern": {
             "fillmode": "overlay",
             "size": 10,
             "solidity": 0.2
            },
            "type": "scatter"
           }
          ],
          "scatter3d": [
           {
            "line": {
             "colorbar": {
              "outlinewidth": 0,
              "ticks": ""
             }
            },
            "marker": {
             "colorbar": {
              "outlinewidth": 0,
              "ticks": ""
             }
            },
            "type": "scatter3d"
           }
          ],
          "scattercarpet": [
           {
            "marker": {
             "colorbar": {
              "outlinewidth": 0,
              "ticks": ""
             }
            },
            "type": "scattercarpet"
           }
          ],
          "scattergeo": [
           {
            "marker": {
             "colorbar": {
              "outlinewidth": 0,
              "ticks": ""
             }
            },
            "type": "scattergeo"
           }
          ],
          "scattergl": [
           {
            "marker": {
             "colorbar": {
              "outlinewidth": 0,
              "ticks": ""
             }
            },
            "type": "scattergl"
           }
          ],
          "scattermapbox": [
           {
            "marker": {
             "colorbar": {
              "outlinewidth": 0,
              "ticks": ""
             }
            },
            "type": "scattermapbox"
           }
          ],
          "scatterpolar": [
           {
            "marker": {
             "colorbar": {
              "outlinewidth": 0,
              "ticks": ""
             }
            },
            "type": "scatterpolar"
           }
          ],
          "scatterpolargl": [
           {
            "marker": {
             "colorbar": {
              "outlinewidth": 0,
              "ticks": ""
             }
            },
            "type": "scatterpolargl"
           }
          ],
          "scatterternary": [
           {
            "marker": {
             "colorbar": {
              "outlinewidth": 0,
              "ticks": ""
             }
            },
            "type": "scatterternary"
           }
          ],
          "surface": [
           {
            "colorbar": {
             "outlinewidth": 0,
             "ticks": ""
            },
            "colorscale": [
             [
              0,
              "#0d0887"
             ],
             [
              0.1111111111111111,
              "#46039f"
             ],
             [
              0.2222222222222222,
              "#7201a8"
             ],
             [
              0.3333333333333333,
              "#9c179e"
             ],
             [
              0.4444444444444444,
              "#bd3786"
             ],
             [
              0.5555555555555556,
              "#d8576b"
             ],
             [
              0.6666666666666666,
              "#ed7953"
             ],
             [
              0.7777777777777778,
              "#fb9f3a"
             ],
             [
              0.8888888888888888,
              "#fdca26"
             ],
             [
              1,
              "#f0f921"
             ]
            ],
            "type": "surface"
           }
          ],
          "table": [
           {
            "cells": {
             "fill": {
              "color": "#EBF0F8"
             },
             "line": {
              "color": "white"
             }
            },
            "header": {
             "fill": {
              "color": "#C8D4E3"
             },
             "line": {
              "color": "white"
             }
            },
            "type": "table"
           }
          ]
         },
         "layout": {
          "annotationdefaults": {
           "arrowcolor": "#2a3f5f",
           "arrowhead": 0,
           "arrowwidth": 1
          },
          "autotypenumbers": "strict",
          "coloraxis": {
           "colorbar": {
            "outlinewidth": 0,
            "ticks": ""
           }
          },
          "colorscale": {
           "diverging": [
            [
             0,
             "#8e0152"
            ],
            [
             0.1,
             "#c51b7d"
            ],
            [
             0.2,
             "#de77ae"
            ],
            [
             0.3,
             "#f1b6da"
            ],
            [
             0.4,
             "#fde0ef"
            ],
            [
             0.5,
             "#f7f7f7"
            ],
            [
             0.6,
             "#e6f5d0"
            ],
            [
             0.7,
             "#b8e186"
            ],
            [
             0.8,
             "#7fbc41"
            ],
            [
             0.9,
             "#4d9221"
            ],
            [
             1,
             "#276419"
            ]
           ],
           "sequential": [
            [
             0,
             "#0d0887"
            ],
            [
             0.1111111111111111,
             "#46039f"
            ],
            [
             0.2222222222222222,
             "#7201a8"
            ],
            [
             0.3333333333333333,
             "#9c179e"
            ],
            [
             0.4444444444444444,
             "#bd3786"
            ],
            [
             0.5555555555555556,
             "#d8576b"
            ],
            [
             0.6666666666666666,
             "#ed7953"
            ],
            [
             0.7777777777777778,
             "#fb9f3a"
            ],
            [
             0.8888888888888888,
             "#fdca26"
            ],
            [
             1,
             "#f0f921"
            ]
           ],
           "sequentialminus": [
            [
             0,
             "#0d0887"
            ],
            [
             0.1111111111111111,
             "#46039f"
            ],
            [
             0.2222222222222222,
             "#7201a8"
            ],
            [
             0.3333333333333333,
             "#9c179e"
            ],
            [
             0.4444444444444444,
             "#bd3786"
            ],
            [
             0.5555555555555556,
             "#d8576b"
            ],
            [
             0.6666666666666666,
             "#ed7953"
            ],
            [
             0.7777777777777778,
             "#fb9f3a"
            ],
            [
             0.8888888888888888,
             "#fdca26"
            ],
            [
             1,
             "#f0f921"
            ]
           ]
          },
          "colorway": [
           "#636efa",
           "#EF553B",
           "#00cc96",
           "#ab63fa",
           "#FFA15A",
           "#19d3f3",
           "#FF6692",
           "#B6E880",
           "#FF97FF",
           "#FECB52"
          ],
          "font": {
           "color": "#2a3f5f"
          },
          "geo": {
           "bgcolor": "white",
           "lakecolor": "white",
           "landcolor": "#E5ECF6",
           "showlakes": true,
           "showland": true,
           "subunitcolor": "white"
          },
          "hoverlabel": {
           "align": "left"
          },
          "hovermode": "closest",
          "mapbox": {
           "style": "light"
          },
          "paper_bgcolor": "white",
          "plot_bgcolor": "#E5ECF6",
          "polar": {
           "angularaxis": {
            "gridcolor": "white",
            "linecolor": "white",
            "ticks": ""
           },
           "bgcolor": "#E5ECF6",
           "radialaxis": {
            "gridcolor": "white",
            "linecolor": "white",
            "ticks": ""
           }
          },
          "scene": {
           "xaxis": {
            "backgroundcolor": "#E5ECF6",
            "gridcolor": "white",
            "gridwidth": 2,
            "linecolor": "white",
            "showbackground": true,
            "ticks": "",
            "zerolinecolor": "white"
           },
           "yaxis": {
            "backgroundcolor": "#E5ECF6",
            "gridcolor": "white",
            "gridwidth": 2,
            "linecolor": "white",
            "showbackground": true,
            "ticks": "",
            "zerolinecolor": "white"
           },
           "zaxis": {
            "backgroundcolor": "#E5ECF6",
            "gridcolor": "white",
            "gridwidth": 2,
            "linecolor": "white",
            "showbackground": true,
            "ticks": "",
            "zerolinecolor": "white"
           }
          },
          "shapedefaults": {
           "line": {
            "color": "#2a3f5f"
           }
          },
          "ternary": {
           "aaxis": {
            "gridcolor": "white",
            "linecolor": "white",
            "ticks": ""
           },
           "baxis": {
            "gridcolor": "white",
            "linecolor": "white",
            "ticks": ""
           },
           "bgcolor": "#E5ECF6",
           "caxis": {
            "gridcolor": "white",
            "linecolor": "white",
            "ticks": ""
           }
          },
          "title": {
           "x": 0.05
          },
          "xaxis": {
           "automargin": true,
           "gridcolor": "white",
           "linecolor": "white",
           "ticks": "",
           "title": {
            "standoff": 15
           },
           "zerolinecolor": "white",
           "zerolinewidth": 2
          },
          "yaxis": {
           "automargin": true,
           "gridcolor": "white",
           "linecolor": "white",
           "ticks": "",
           "title": {
            "standoff": 15
           },
           "zerolinecolor": "white",
           "zerolinewidth": 2
          }
         }
        },
        "width": 1200,
        "xaxis": {
         "anchor": "y",
         "domain": [
          0,
          1
         ],
         "title": {
          "text": "Deployment workflows"
         }
        },
        "yaxis": {
         "anchor": "x",
         "domain": [
          0,
          1
         ],
         "title": {
          "text": "Leaderboard Percentage"
         }
        }
       }
      }
     },
     "metadata": {},
     "output_type": "display_data"
    }
   ],
   "source": [
    "df = pd.read_csv(path_meta / 'leaderboard_processed.csv')\n",
    "df['Development workflows'] = df['Development workflows'].apply(ast.literal_eval)\n",
    "\n",
    "# df = df[df['Development workflows'].map(len) > 0]\n",
    "df_workflow = df.explode('Development workflows')\n",
    "df_workflow = df_workflow.groupby('Development workflows').size().reset_index(name='Frequency')\n",
    "df_workflow['Development workflows'] = df_workflow['Development workflows'].apply(lambda x: f'Pattern {x}' if x != 'Unknown' else x)\n",
    "df_workflow.sort_values(by='Frequency', ascending=False, inplace=True)\n",
    "df_workflow['Weight'] = 1\n",
    "\n",
    "print(f\"{df_workflow['Development workflows'].iloc[0]} is the most prevalent ({df_workflow['Frequency'].iloc[0]} out of {len(df)}) workflow patterns that accounts for {round(df_workflow['Frequency'].iloc[0]/len(df)*100,2)}%.\")\n",
    "df_pwc = df[df['Platforms'].str.contains('pwc')]\n",
    "print(f\"There are {round(len(df[df['Development workflows'].map(len) > 1])/len(df)*100,2)}% ({len(df[df['Development workflows'].map(len) > 1])} out of {len(df)}) non-PWC leaderboards with multiple workflow patterns.\")\n",
    "print(f'In {df_workflow[\"Development workflows\"].iloc[0]}, {round(len(df_pwc)/df_workflow[\"Frequency\"].iloc[0]*100,2)}% ({len(df_pwc)} out of {df_workflow[\"Frequency\"].iloc[0]}) of the leaderboards are hosted on Papers With Code.')\n",
    "\n",
    "statistics = {\n",
    "    'Distribution': 'Leaderboards across Workflow Patterns',\n",
    "    'Mean': np.mean(df_workflow['Frequency']),\n",
    "    'Median': np.median(df_workflow['Frequency']),\n",
    "    'IQR': df_workflow['Frequency'].quantile(0.75) - df_workflow['Frequency'].quantile(0.25),\n",
    "    'Gini Coefficient': ineqpy.inequality.gini(data=df_workflow[df_workflow['Development workflows'] != 'Unknown'], income='Frequency', weights='Weight'),\n",
    "}\n",
    "if os.path.exists(path_meta / 'leaderboard_statistics.csv'):\n",
    "    df_statistics = pd.read_csv(path_meta / 'leaderboard_statistics.csv')\n",
    "else:\n",
    "    df_statistics = pd.DataFrame()\n",
    "df_statistics = pd.concat([df_statistics, pd.DataFrame([statistics])], ignore_index=True)\n",
    "df_statistics.drop_duplicates(subset=['Distribution'], keep='last', inplace=True)\n",
    "df_statistics.sort_values(by='Distribution', inplace=True)\n",
    "df_statistics.to_csv(path_meta / 'leaderboard_statistics.csv', index=False)\n",
    "\n",
    "df_workflow = df_workflow[df_workflow['Development workflows'] != 'Unknown']\n",
    "df_workflow['Ratio'] = round(df_workflow['Frequency'] / len(df) * 100, 2)\n",
    "fig = px.bar(\n",
    "    x=df_workflow['Development workflows'], \n",
    "    y=df_workflow['Ratio'],\n",
    "    text_auto=True,\n",
    "    labels={'x': 'Deployment workflows', 'y': 'Leaderboard Percentage'},\n",
    ")\n",
    "fig.update_layout(\n",
    "    width=1200,  # Set the width of the figure\n",
    "    height=800,  # Set the height of the figure\n",
    ")\n",
    "fig.show()"
   ]
  },
  {
   "cell_type": "code",
   "execution_count": 22,
   "metadata": {},
   "outputs": [
    {
     "name": "stdout",
     "output_type": "stream",
     "text": [
      "0.42% (3 out of 721) leaderboards have empty ranking dataframes.\n"
     ]
    },
    {
     "data": {
      "text/html": [
       "<div>\n",
       "<style scoped>\n",
       "    .dataframe tbody tr th:only-of-type {\n",
       "        vertical-align: middle;\n",
       "    }\n",
       "\n",
       "    .dataframe tbody tr th {\n",
       "        vertical-align: top;\n",
       "    }\n",
       "\n",
       "    .dataframe thead th {\n",
       "        text-align: right;\n",
       "    }\n",
       "</style>\n",
       "<table border=\"1\" class=\"dataframe\">\n",
       "  <thead>\n",
       "    <tr style=\"text-align: right;\">\n",
       "      <th></th>\n",
       "      <th>#Empty ranking dataframes (non-pwc)</th>\n",
       "      <th>Frequency</th>\n",
       "    </tr>\n",
       "  </thead>\n",
       "  <tbody>\n",
       "    <tr>\n",
       "      <th>0</th>\n",
       "      <td>25</td>\n",
       "      <td>1</td>\n",
       "    </tr>\n",
       "    <tr>\n",
       "      <th>1</th>\n",
       "      <td>Unknown</td>\n",
       "      <td>1</td>\n",
       "    </tr>\n",
       "    <tr>\n",
       "      <th>2</th>\n",
       "      <td>2</td>\n",
       "      <td>1</td>\n",
       "    </tr>\n",
       "  </tbody>\n",
       "</table>\n",
       "</div>"
      ],
      "text/plain": [
       "  #Empty ranking dataframes (non-pwc)  Frequency\n",
       "0                                  25          1\n",
       "1                             Unknown          1\n",
       "2                                   2          1"
      ]
     },
     "execution_count": 22,
     "metadata": {},
     "output_type": "execute_result"
    }
   ],
   "source": [
    "df = pd.read_csv(path_meta / 'leaderboard_processed.csv')\n",
    "print(f\"{round(len(df[df['#Empty ranking dataframes (non-pwc)'].notna()])/len(df)*100,2)}% ({len(df[df['#Empty ranking dataframes (non-pwc)'].notna()])} out of {len(df)}) leaderboards have empty ranking dataframes.\")\n",
    "df['#Empty ranking dataframes (non-pwc)'].value_counts().reset_index(name='Frequency')"
   ]
  },
  {
   "cell_type": "code",
   "execution_count": 23,
   "metadata": {},
   "outputs": [
    {
     "name": "stdout",
     "output_type": "stream",
     "text": [
      "Papers With Code stands out as the most prolific release organization among the 253 identified organizations, contributing to a notable 61.44% (443 out of 721) leaderboards.\n"
     ]
    },
    {
     "data": {
      "application/vnd.plotly.v1+json": {
       "config": {
        "plotlyServerURL": "https://plot.ly"
       },
       "data": [
        {
         "orientation": "h",
         "text": [
          443,
          37,
          31,
          28,
          22,
          19,
          16,
          15,
          15,
          15
         ],
         "textposition": "auto",
         "type": "bar",
         "x": [
          443,
          37,
          31,
          28,
          22,
          19,
          16,
          15,
          15,
          15
         ],
         "y": [
          "Papers With Code",
          "Independent Contributors",
          "Allen Institute for AI",
          "Shanghai AI Laboratory",
          "University of California",
          "Chinese University of Hong Kong",
          "Stanford University",
          "SuperCLUE",
          "Shanghai Jiao Tong University",
          "University of Illinois"
         ]
        }
       ],
       "layout": {
        "height": 800,
        "template": {
         "data": {
          "bar": [
           {
            "error_x": {
             "color": "#2a3f5f"
            },
            "error_y": {
             "color": "#2a3f5f"
            },
            "marker": {
             "line": {
              "color": "#E5ECF6",
              "width": 0.5
             },
             "pattern": {
              "fillmode": "overlay",
              "size": 10,
              "solidity": 0.2
             }
            },
            "type": "bar"
           }
          ],
          "barpolar": [
           {
            "marker": {
             "line": {
              "color": "#E5ECF6",
              "width": 0.5
             },
             "pattern": {
              "fillmode": "overlay",
              "size": 10,
              "solidity": 0.2
             }
            },
            "type": "barpolar"
           }
          ],
          "carpet": [
           {
            "aaxis": {
             "endlinecolor": "#2a3f5f",
             "gridcolor": "white",
             "linecolor": "white",
             "minorgridcolor": "white",
             "startlinecolor": "#2a3f5f"
            },
            "baxis": {
             "endlinecolor": "#2a3f5f",
             "gridcolor": "white",
             "linecolor": "white",
             "minorgridcolor": "white",
             "startlinecolor": "#2a3f5f"
            },
            "type": "carpet"
           }
          ],
          "choropleth": [
           {
            "colorbar": {
             "outlinewidth": 0,
             "ticks": ""
            },
            "type": "choropleth"
           }
          ],
          "contour": [
           {
            "colorbar": {
             "outlinewidth": 0,
             "ticks": ""
            },
            "colorscale": [
             [
              0,
              "#0d0887"
             ],
             [
              0.1111111111111111,
              "#46039f"
             ],
             [
              0.2222222222222222,
              "#7201a8"
             ],
             [
              0.3333333333333333,
              "#9c179e"
             ],
             [
              0.4444444444444444,
              "#bd3786"
             ],
             [
              0.5555555555555556,
              "#d8576b"
             ],
             [
              0.6666666666666666,
              "#ed7953"
             ],
             [
              0.7777777777777778,
              "#fb9f3a"
             ],
             [
              0.8888888888888888,
              "#fdca26"
             ],
             [
              1,
              "#f0f921"
             ]
            ],
            "type": "contour"
           }
          ],
          "contourcarpet": [
           {
            "colorbar": {
             "outlinewidth": 0,
             "ticks": ""
            },
            "type": "contourcarpet"
           }
          ],
          "heatmap": [
           {
            "colorbar": {
             "outlinewidth": 0,
             "ticks": ""
            },
            "colorscale": [
             [
              0,
              "#0d0887"
             ],
             [
              0.1111111111111111,
              "#46039f"
             ],
             [
              0.2222222222222222,
              "#7201a8"
             ],
             [
              0.3333333333333333,
              "#9c179e"
             ],
             [
              0.4444444444444444,
              "#bd3786"
             ],
             [
              0.5555555555555556,
              "#d8576b"
             ],
             [
              0.6666666666666666,
              "#ed7953"
             ],
             [
              0.7777777777777778,
              "#fb9f3a"
             ],
             [
              0.8888888888888888,
              "#fdca26"
             ],
             [
              1,
              "#f0f921"
             ]
            ],
            "type": "heatmap"
           }
          ],
          "heatmapgl": [
           {
            "colorbar": {
             "outlinewidth": 0,
             "ticks": ""
            },
            "colorscale": [
             [
              0,
              "#0d0887"
             ],
             [
              0.1111111111111111,
              "#46039f"
             ],
             [
              0.2222222222222222,
              "#7201a8"
             ],
             [
              0.3333333333333333,
              "#9c179e"
             ],
             [
              0.4444444444444444,
              "#bd3786"
             ],
             [
              0.5555555555555556,
              "#d8576b"
             ],
             [
              0.6666666666666666,
              "#ed7953"
             ],
             [
              0.7777777777777778,
              "#fb9f3a"
             ],
             [
              0.8888888888888888,
              "#fdca26"
             ],
             [
              1,
              "#f0f921"
             ]
            ],
            "type": "heatmapgl"
           }
          ],
          "histogram": [
           {
            "marker": {
             "pattern": {
              "fillmode": "overlay",
              "size": 10,
              "solidity": 0.2
             }
            },
            "type": "histogram"
           }
          ],
          "histogram2d": [
           {
            "colorbar": {
             "outlinewidth": 0,
             "ticks": ""
            },
            "colorscale": [
             [
              0,
              "#0d0887"
             ],
             [
              0.1111111111111111,
              "#46039f"
             ],
             [
              0.2222222222222222,
              "#7201a8"
             ],
             [
              0.3333333333333333,
              "#9c179e"
             ],
             [
              0.4444444444444444,
              "#bd3786"
             ],
             [
              0.5555555555555556,
              "#d8576b"
             ],
             [
              0.6666666666666666,
              "#ed7953"
             ],
             [
              0.7777777777777778,
              "#fb9f3a"
             ],
             [
              0.8888888888888888,
              "#fdca26"
             ],
             [
              1,
              "#f0f921"
             ]
            ],
            "type": "histogram2d"
           }
          ],
          "histogram2dcontour": [
           {
            "colorbar": {
             "outlinewidth": 0,
             "ticks": ""
            },
            "colorscale": [
             [
              0,
              "#0d0887"
             ],
             [
              0.1111111111111111,
              "#46039f"
             ],
             [
              0.2222222222222222,
              "#7201a8"
             ],
             [
              0.3333333333333333,
              "#9c179e"
             ],
             [
              0.4444444444444444,
              "#bd3786"
             ],
             [
              0.5555555555555556,
              "#d8576b"
             ],
             [
              0.6666666666666666,
              "#ed7953"
             ],
             [
              0.7777777777777778,
              "#fb9f3a"
             ],
             [
              0.8888888888888888,
              "#fdca26"
             ],
             [
              1,
              "#f0f921"
             ]
            ],
            "type": "histogram2dcontour"
           }
          ],
          "mesh3d": [
           {
            "colorbar": {
             "outlinewidth": 0,
             "ticks": ""
            },
            "type": "mesh3d"
           }
          ],
          "parcoords": [
           {
            "line": {
             "colorbar": {
              "outlinewidth": 0,
              "ticks": ""
             }
            },
            "type": "parcoords"
           }
          ],
          "pie": [
           {
            "automargin": true,
            "type": "pie"
           }
          ],
          "scatter": [
           {
            "fillpattern": {
             "fillmode": "overlay",
             "size": 10,
             "solidity": 0.2
            },
            "type": "scatter"
           }
          ],
          "scatter3d": [
           {
            "line": {
             "colorbar": {
              "outlinewidth": 0,
              "ticks": ""
             }
            },
            "marker": {
             "colorbar": {
              "outlinewidth": 0,
              "ticks": ""
             }
            },
            "type": "scatter3d"
           }
          ],
          "scattercarpet": [
           {
            "marker": {
             "colorbar": {
              "outlinewidth": 0,
              "ticks": ""
             }
            },
            "type": "scattercarpet"
           }
          ],
          "scattergeo": [
           {
            "marker": {
             "colorbar": {
              "outlinewidth": 0,
              "ticks": ""
             }
            },
            "type": "scattergeo"
           }
          ],
          "scattergl": [
           {
            "marker": {
             "colorbar": {
              "outlinewidth": 0,
              "ticks": ""
             }
            },
            "type": "scattergl"
           }
          ],
          "scattermapbox": [
           {
            "marker": {
             "colorbar": {
              "outlinewidth": 0,
              "ticks": ""
             }
            },
            "type": "scattermapbox"
           }
          ],
          "scatterpolar": [
           {
            "marker": {
             "colorbar": {
              "outlinewidth": 0,
              "ticks": ""
             }
            },
            "type": "scatterpolar"
           }
          ],
          "scatterpolargl": [
           {
            "marker": {
             "colorbar": {
              "outlinewidth": 0,
              "ticks": ""
             }
            },
            "type": "scatterpolargl"
           }
          ],
          "scatterternary": [
           {
            "marker": {
             "colorbar": {
              "outlinewidth": 0,
              "ticks": ""
             }
            },
            "type": "scatterternary"
           }
          ],
          "surface": [
           {
            "colorbar": {
             "outlinewidth": 0,
             "ticks": ""
            },
            "colorscale": [
             [
              0,
              "#0d0887"
             ],
             [
              0.1111111111111111,
              "#46039f"
             ],
             [
              0.2222222222222222,
              "#7201a8"
             ],
             [
              0.3333333333333333,
              "#9c179e"
             ],
             [
              0.4444444444444444,
              "#bd3786"
             ],
             [
              0.5555555555555556,
              "#d8576b"
             ],
             [
              0.6666666666666666,
              "#ed7953"
             ],
             [
              0.7777777777777778,
              "#fb9f3a"
             ],
             [
              0.8888888888888888,
              "#fdca26"
             ],
             [
              1,
              "#f0f921"
             ]
            ],
            "type": "surface"
           }
          ],
          "table": [
           {
            "cells": {
             "fill": {
              "color": "#EBF0F8"
             },
             "line": {
              "color": "white"
             }
            },
            "header": {
             "fill": {
              "color": "#C8D4E3"
             },
             "line": {
              "color": "white"
             }
            },
            "type": "table"
           }
          ]
         },
         "layout": {
          "annotationdefaults": {
           "arrowcolor": "#2a3f5f",
           "arrowhead": 0,
           "arrowwidth": 1
          },
          "autotypenumbers": "strict",
          "coloraxis": {
           "colorbar": {
            "outlinewidth": 0,
            "ticks": ""
           }
          },
          "colorscale": {
           "diverging": [
            [
             0,
             "#8e0152"
            ],
            [
             0.1,
             "#c51b7d"
            ],
            [
             0.2,
             "#de77ae"
            ],
            [
             0.3,
             "#f1b6da"
            ],
            [
             0.4,
             "#fde0ef"
            ],
            [
             0.5,
             "#f7f7f7"
            ],
            [
             0.6,
             "#e6f5d0"
            ],
            [
             0.7,
             "#b8e186"
            ],
            [
             0.8,
             "#7fbc41"
            ],
            [
             0.9,
             "#4d9221"
            ],
            [
             1,
             "#276419"
            ]
           ],
           "sequential": [
            [
             0,
             "#0d0887"
            ],
            [
             0.1111111111111111,
             "#46039f"
            ],
            [
             0.2222222222222222,
             "#7201a8"
            ],
            [
             0.3333333333333333,
             "#9c179e"
            ],
            [
             0.4444444444444444,
             "#bd3786"
            ],
            [
             0.5555555555555556,
             "#d8576b"
            ],
            [
             0.6666666666666666,
             "#ed7953"
            ],
            [
             0.7777777777777778,
             "#fb9f3a"
            ],
            [
             0.8888888888888888,
             "#fdca26"
            ],
            [
             1,
             "#f0f921"
            ]
           ],
           "sequentialminus": [
            [
             0,
             "#0d0887"
            ],
            [
             0.1111111111111111,
             "#46039f"
            ],
            [
             0.2222222222222222,
             "#7201a8"
            ],
            [
             0.3333333333333333,
             "#9c179e"
            ],
            [
             0.4444444444444444,
             "#bd3786"
            ],
            [
             0.5555555555555556,
             "#d8576b"
            ],
            [
             0.6666666666666666,
             "#ed7953"
            ],
            [
             0.7777777777777778,
             "#fb9f3a"
            ],
            [
             0.8888888888888888,
             "#fdca26"
            ],
            [
             1,
             "#f0f921"
            ]
           ]
          },
          "colorway": [
           "#636efa",
           "#EF553B",
           "#00cc96",
           "#ab63fa",
           "#FFA15A",
           "#19d3f3",
           "#FF6692",
           "#B6E880",
           "#FF97FF",
           "#FECB52"
          ],
          "font": {
           "color": "#2a3f5f"
          },
          "geo": {
           "bgcolor": "white",
           "lakecolor": "white",
           "landcolor": "#E5ECF6",
           "showlakes": true,
           "showland": true,
           "subunitcolor": "white"
          },
          "hoverlabel": {
           "align": "left"
          },
          "hovermode": "closest",
          "mapbox": {
           "style": "light"
          },
          "paper_bgcolor": "white",
          "plot_bgcolor": "#E5ECF6",
          "polar": {
           "angularaxis": {
            "gridcolor": "white",
            "linecolor": "white",
            "ticks": ""
           },
           "bgcolor": "#E5ECF6",
           "radialaxis": {
            "gridcolor": "white",
            "linecolor": "white",
            "ticks": ""
           }
          },
          "scene": {
           "xaxis": {
            "backgroundcolor": "#E5ECF6",
            "gridcolor": "white",
            "gridwidth": 2,
            "linecolor": "white",
            "showbackground": true,
            "ticks": "",
            "zerolinecolor": "white"
           },
           "yaxis": {
            "backgroundcolor": "#E5ECF6",
            "gridcolor": "white",
            "gridwidth": 2,
            "linecolor": "white",
            "showbackground": true,
            "ticks": "",
            "zerolinecolor": "white"
           },
           "zaxis": {
            "backgroundcolor": "#E5ECF6",
            "gridcolor": "white",
            "gridwidth": 2,
            "linecolor": "white",
            "showbackground": true,
            "ticks": "",
            "zerolinecolor": "white"
           }
          },
          "shapedefaults": {
           "line": {
            "color": "#2a3f5f"
           }
          },
          "ternary": {
           "aaxis": {
            "gridcolor": "white",
            "linecolor": "white",
            "ticks": ""
           },
           "baxis": {
            "gridcolor": "white",
            "linecolor": "white",
            "ticks": ""
           },
           "bgcolor": "#E5ECF6",
           "caxis": {
            "gridcolor": "white",
            "linecolor": "white",
            "ticks": ""
           }
          },
          "title": {
           "x": 0.05
          },
          "xaxis": {
           "automargin": true,
           "gridcolor": "white",
           "linecolor": "white",
           "ticks": "",
           "title": {
            "standoff": 15
           },
           "zerolinecolor": "white",
           "zerolinewidth": 2
          },
          "yaxis": {
           "automargin": true,
           "gridcolor": "white",
           "linecolor": "white",
           "ticks": "",
           "title": {
            "standoff": 15
           },
           "zerolinecolor": "white",
           "zerolinewidth": 2
          }
         }
        },
        "title": {
         "text": "Number of Leaderboards across Release Organizations (Top 10)"
        },
        "width": 1200,
        "xaxis": {
         "title": {
          "text": "Leaderboard Number"
         }
        },
        "yaxis": {
         "autorange": "reversed",
         "title": {
          "text": "Publisher Name"
         }
        }
       }
      }
     },
     "metadata": {},
     "output_type": "display_data"
    }
   ],
   "source": [
    "df = pd.read_csv(path_meta / 'leaderboard_processed.csv')\n",
    "\n",
    "df['Release organizations'] = df['Release organizations'].apply(ast.literal_eval)\n",
    "df_split = df.explode('Release organizations').groupby('Release organizations').size().reset_index(name='Frequency')\n",
    "df_split['Weight'] = 1\n",
    "\n",
    "statistics = {\n",
    "    'Distribution': 'Leaderboards across Release Organizations',\n",
    "    'Mean': np.mean(df_split['Frequency']),\n",
    "    'Median': np.median(df_split['Frequency']),\n",
    "    'IQR': df_split['Frequency'].quantile(0.75) - df_split['Frequency'].quantile(0.25),\n",
    "    'Gini Coefficient': ineqpy.inequality.gini(data=df_split, income='Frequency', weights='Weight'),\n",
    "}\n",
    "if os.path.exists(path_meta / 'leaderboard_statistics.csv'):\n",
    "    df_statistics = pd.read_csv(path_meta / 'leaderboard_statistics.csv')\n",
    "else:\n",
    "    df_statistics = pd.DataFrame()\n",
    "df_statistics = pd.concat([df_statistics, pd.DataFrame([statistics])], ignore_index=True)\n",
    "df_statistics.drop_duplicates(subset=['Distribution'], keep='last', inplace=True)\n",
    "df_statistics.sort_values(by='Distribution', inplace=True)\n",
    "df_statistics.to_csv(path_meta / 'leaderboard_statistics.csv', index=False)\n",
    "\n",
    "df_top = df_split.sort_values(by='Frequency', ascending=False).head(10)\n",
    "print(f\"{df_top['Release organizations'].iloc[0]} stands out as the most prolific release organization among the {len(df_split['Release organizations'].unique())-1} identified organizations, contributing to a notable {round(df_top['Frequency'].iloc[0]/len(df)*100,2)}% ({df_top['Frequency'].iloc[0]} out of {len(df)}) leaderboards.\")\n",
    "\n",
    "df_top['Ratio'] = round(df_top['Frequency'] / len(df) * 100, 2)\n",
    "\n",
    "fig = go.Figure(go.Bar(\n",
    "        x=df_top['Frequency'],  # Values for the bar lengths\n",
    "        y=df_top['Release organizations'],  # Categories for each bar\n",
    "        orientation='h',  # Sets the bars to be horizontal\n",
    "        text=df_top['Frequency'],  # Adds the values as text on each bar\n",
    "        textposition='auto'  # Automatically positions the text on the bars\n",
    "))\n",
    "fig.update_layout(\n",
    "        title=f'Number of Leaderboards across Release Organizations (Top 10)',\n",
    "        xaxis_title='Leaderboard Number',\n",
    "        yaxis_title='Publisher Name',\n",
    "        yaxis_autorange='reversed'  # This line makes the bars go top-down\n",
    ")\n",
    "fig.update_layout(\n",
    "    width=1200,  # Set the width of the figure\n",
    "    height=800,  # Set the height of the figure\n",
    ")\n",
    "fig.show()\n"
   ]
  },
  {
   "cell_type": "code",
   "execution_count": 24,
   "metadata": {},
   "outputs": [
    {
     "name": "stdout",
     "output_type": "stream",
     "text": [
      "75.45% (544 out of 721) leaderboards support multiple display formats.\n",
      "88.9% (641 out of 721) leaderboards support rankable display formats.\n",
      "Rankable Table is the most popular display format of rankable leaderboards, accounting for 99.84% (640 out of 641) rankable leaderboards.\n"
     ]
    },
    {
     "data": {
      "application/vnd.plotly.v1+json": {
       "config": {
        "plotlyServerURL": "https://plot.ly"
       },
       "data": [
        {
         "alignmentgroup": "True",
         "hovertemplate": "Display format=%{x}<br>Number of Leaderboards=%{y}<extra></extra>",
         "legendgroup": "",
         "marker": {
          "color": "#636efa",
          "pattern": {
           "shape": ""
          }
         },
         "name": "",
         "offsetgroup": "",
         "orientation": "v",
         "showlegend": false,
         "textposition": "auto",
         "texttemplate": "%{y}",
         "type": "bar",
         "x": [
          "Rankable Table",
          "Scatter Plot",
          "Regular Table",
          "Bar Chart",
          "Table Screenshot",
          "Radar Chart",
          "Line Chart",
          "Rankable Bar Chart",
          "Box Plot",
          "Pie Chart",
          "Heat Map"
         ],
         "xaxis": "x",
         "y": [
          640,
          482,
          112,
          33,
          13,
          7,
          3,
          2,
          1,
          1,
          1
         ],
         "yaxis": "y"
        }
       ],
       "layout": {
        "autosize": true,
        "barmode": "relative",
        "height": 800,
        "legend": {
         "tracegroupgap": 0
        },
        "margin": {
         "b": 10,
         "l": 10,
         "pad": 4,
         "r": 10,
         "t": 10
        },
        "template": {
         "data": {
          "bar": [
           {
            "error_x": {
             "color": "#2a3f5f"
            },
            "error_y": {
             "color": "#2a3f5f"
            },
            "marker": {
             "line": {
              "color": "#E5ECF6",
              "width": 0.5
             },
             "pattern": {
              "fillmode": "overlay",
              "size": 10,
              "solidity": 0.2
             }
            },
            "type": "bar"
           }
          ],
          "barpolar": [
           {
            "marker": {
             "line": {
              "color": "#E5ECF6",
              "width": 0.5
             },
             "pattern": {
              "fillmode": "overlay",
              "size": 10,
              "solidity": 0.2
             }
            },
            "type": "barpolar"
           }
          ],
          "carpet": [
           {
            "aaxis": {
             "endlinecolor": "#2a3f5f",
             "gridcolor": "white",
             "linecolor": "white",
             "minorgridcolor": "white",
             "startlinecolor": "#2a3f5f"
            },
            "baxis": {
             "endlinecolor": "#2a3f5f",
             "gridcolor": "white",
             "linecolor": "white",
             "minorgridcolor": "white",
             "startlinecolor": "#2a3f5f"
            },
            "type": "carpet"
           }
          ],
          "choropleth": [
           {
            "colorbar": {
             "outlinewidth": 0,
             "ticks": ""
            },
            "type": "choropleth"
           }
          ],
          "contour": [
           {
            "colorbar": {
             "outlinewidth": 0,
             "ticks": ""
            },
            "colorscale": [
             [
              0,
              "#0d0887"
             ],
             [
              0.1111111111111111,
              "#46039f"
             ],
             [
              0.2222222222222222,
              "#7201a8"
             ],
             [
              0.3333333333333333,
              "#9c179e"
             ],
             [
              0.4444444444444444,
              "#bd3786"
             ],
             [
              0.5555555555555556,
              "#d8576b"
             ],
             [
              0.6666666666666666,
              "#ed7953"
             ],
             [
              0.7777777777777778,
              "#fb9f3a"
             ],
             [
              0.8888888888888888,
              "#fdca26"
             ],
             [
              1,
              "#f0f921"
             ]
            ],
            "type": "contour"
           }
          ],
          "contourcarpet": [
           {
            "colorbar": {
             "outlinewidth": 0,
             "ticks": ""
            },
            "type": "contourcarpet"
           }
          ],
          "heatmap": [
           {
            "colorbar": {
             "outlinewidth": 0,
             "ticks": ""
            },
            "colorscale": [
             [
              0,
              "#0d0887"
             ],
             [
              0.1111111111111111,
              "#46039f"
             ],
             [
              0.2222222222222222,
              "#7201a8"
             ],
             [
              0.3333333333333333,
              "#9c179e"
             ],
             [
              0.4444444444444444,
              "#bd3786"
             ],
             [
              0.5555555555555556,
              "#d8576b"
             ],
             [
              0.6666666666666666,
              "#ed7953"
             ],
             [
              0.7777777777777778,
              "#fb9f3a"
             ],
             [
              0.8888888888888888,
              "#fdca26"
             ],
             [
              1,
              "#f0f921"
             ]
            ],
            "type": "heatmap"
           }
          ],
          "heatmapgl": [
           {
            "colorbar": {
             "outlinewidth": 0,
             "ticks": ""
            },
            "colorscale": [
             [
              0,
              "#0d0887"
             ],
             [
              0.1111111111111111,
              "#46039f"
             ],
             [
              0.2222222222222222,
              "#7201a8"
             ],
             [
              0.3333333333333333,
              "#9c179e"
             ],
             [
              0.4444444444444444,
              "#bd3786"
             ],
             [
              0.5555555555555556,
              "#d8576b"
             ],
             [
              0.6666666666666666,
              "#ed7953"
             ],
             [
              0.7777777777777778,
              "#fb9f3a"
             ],
             [
              0.8888888888888888,
              "#fdca26"
             ],
             [
              1,
              "#f0f921"
             ]
            ],
            "type": "heatmapgl"
           }
          ],
          "histogram": [
           {
            "marker": {
             "pattern": {
              "fillmode": "overlay",
              "size": 10,
              "solidity": 0.2
             }
            },
            "type": "histogram"
           }
          ],
          "histogram2d": [
           {
            "colorbar": {
             "outlinewidth": 0,
             "ticks": ""
            },
            "colorscale": [
             [
              0,
              "#0d0887"
             ],
             [
              0.1111111111111111,
              "#46039f"
             ],
             [
              0.2222222222222222,
              "#7201a8"
             ],
             [
              0.3333333333333333,
              "#9c179e"
             ],
             [
              0.4444444444444444,
              "#bd3786"
             ],
             [
              0.5555555555555556,
              "#d8576b"
             ],
             [
              0.6666666666666666,
              "#ed7953"
             ],
             [
              0.7777777777777778,
              "#fb9f3a"
             ],
             [
              0.8888888888888888,
              "#fdca26"
             ],
             [
              1,
              "#f0f921"
             ]
            ],
            "type": "histogram2d"
           }
          ],
          "histogram2dcontour": [
           {
            "colorbar": {
             "outlinewidth": 0,
             "ticks": ""
            },
            "colorscale": [
             [
              0,
              "#0d0887"
             ],
             [
              0.1111111111111111,
              "#46039f"
             ],
             [
              0.2222222222222222,
              "#7201a8"
             ],
             [
              0.3333333333333333,
              "#9c179e"
             ],
             [
              0.4444444444444444,
              "#bd3786"
             ],
             [
              0.5555555555555556,
              "#d8576b"
             ],
             [
              0.6666666666666666,
              "#ed7953"
             ],
             [
              0.7777777777777778,
              "#fb9f3a"
             ],
             [
              0.8888888888888888,
              "#fdca26"
             ],
             [
              1,
              "#f0f921"
             ]
            ],
            "type": "histogram2dcontour"
           }
          ],
          "mesh3d": [
           {
            "colorbar": {
             "outlinewidth": 0,
             "ticks": ""
            },
            "type": "mesh3d"
           }
          ],
          "parcoords": [
           {
            "line": {
             "colorbar": {
              "outlinewidth": 0,
              "ticks": ""
             }
            },
            "type": "parcoords"
           }
          ],
          "pie": [
           {
            "automargin": true,
            "type": "pie"
           }
          ],
          "scatter": [
           {
            "fillpattern": {
             "fillmode": "overlay",
             "size": 10,
             "solidity": 0.2
            },
            "type": "scatter"
           }
          ],
          "scatter3d": [
           {
            "line": {
             "colorbar": {
              "outlinewidth": 0,
              "ticks": ""
             }
            },
            "marker": {
             "colorbar": {
              "outlinewidth": 0,
              "ticks": ""
             }
            },
            "type": "scatter3d"
           }
          ],
          "scattercarpet": [
           {
            "marker": {
             "colorbar": {
              "outlinewidth": 0,
              "ticks": ""
             }
            },
            "type": "scattercarpet"
           }
          ],
          "scattergeo": [
           {
            "marker": {
             "colorbar": {
              "outlinewidth": 0,
              "ticks": ""
             }
            },
            "type": "scattergeo"
           }
          ],
          "scattergl": [
           {
            "marker": {
             "colorbar": {
              "outlinewidth": 0,
              "ticks": ""
             }
            },
            "type": "scattergl"
           }
          ],
          "scattermapbox": [
           {
            "marker": {
             "colorbar": {
              "outlinewidth": 0,
              "ticks": ""
             }
            },
            "type": "scattermapbox"
           }
          ],
          "scatterpolar": [
           {
            "marker": {
             "colorbar": {
              "outlinewidth": 0,
              "ticks": ""
             }
            },
            "type": "scatterpolar"
           }
          ],
          "scatterpolargl": [
           {
            "marker": {
             "colorbar": {
              "outlinewidth": 0,
              "ticks": ""
             }
            },
            "type": "scatterpolargl"
           }
          ],
          "scatterternary": [
           {
            "marker": {
             "colorbar": {
              "outlinewidth": 0,
              "ticks": ""
             }
            },
            "type": "scatterternary"
           }
          ],
          "surface": [
           {
            "colorbar": {
             "outlinewidth": 0,
             "ticks": ""
            },
            "colorscale": [
             [
              0,
              "#0d0887"
             ],
             [
              0.1111111111111111,
              "#46039f"
             ],
             [
              0.2222222222222222,
              "#7201a8"
             ],
             [
              0.3333333333333333,
              "#9c179e"
             ],
             [
              0.4444444444444444,
              "#bd3786"
             ],
             [
              0.5555555555555556,
              "#d8576b"
             ],
             [
              0.6666666666666666,
              "#ed7953"
             ],
             [
              0.7777777777777778,
              "#fb9f3a"
             ],
             [
              0.8888888888888888,
              "#fdca26"
             ],
             [
              1,
              "#f0f921"
             ]
            ],
            "type": "surface"
           }
          ],
          "table": [
           {
            "cells": {
             "fill": {
              "color": "#EBF0F8"
             },
             "line": {
              "color": "white"
             }
            },
            "header": {
             "fill": {
              "color": "#C8D4E3"
             },
             "line": {
              "color": "white"
             }
            },
            "type": "table"
           }
          ]
         },
         "layout": {
          "annotationdefaults": {
           "arrowcolor": "#2a3f5f",
           "arrowhead": 0,
           "arrowwidth": 1
          },
          "autotypenumbers": "strict",
          "coloraxis": {
           "colorbar": {
            "outlinewidth": 0,
            "ticks": ""
           }
          },
          "colorscale": {
           "diverging": [
            [
             0,
             "#8e0152"
            ],
            [
             0.1,
             "#c51b7d"
            ],
            [
             0.2,
             "#de77ae"
            ],
            [
             0.3,
             "#f1b6da"
            ],
            [
             0.4,
             "#fde0ef"
            ],
            [
             0.5,
             "#f7f7f7"
            ],
            [
             0.6,
             "#e6f5d0"
            ],
            [
             0.7,
             "#b8e186"
            ],
            [
             0.8,
             "#7fbc41"
            ],
            [
             0.9,
             "#4d9221"
            ],
            [
             1,
             "#276419"
            ]
           ],
           "sequential": [
            [
             0,
             "#0d0887"
            ],
            [
             0.1111111111111111,
             "#46039f"
            ],
            [
             0.2222222222222222,
             "#7201a8"
            ],
            [
             0.3333333333333333,
             "#9c179e"
            ],
            [
             0.4444444444444444,
             "#bd3786"
            ],
            [
             0.5555555555555556,
             "#d8576b"
            ],
            [
             0.6666666666666666,
             "#ed7953"
            ],
            [
             0.7777777777777778,
             "#fb9f3a"
            ],
            [
             0.8888888888888888,
             "#fdca26"
            ],
            [
             1,
             "#f0f921"
            ]
           ],
           "sequentialminus": [
            [
             0,
             "#0d0887"
            ],
            [
             0.1111111111111111,
             "#46039f"
            ],
            [
             0.2222222222222222,
             "#7201a8"
            ],
            [
             0.3333333333333333,
             "#9c179e"
            ],
            [
             0.4444444444444444,
             "#bd3786"
            ],
            [
             0.5555555555555556,
             "#d8576b"
            ],
            [
             0.6666666666666666,
             "#ed7953"
            ],
            [
             0.7777777777777778,
             "#fb9f3a"
            ],
            [
             0.8888888888888888,
             "#fdca26"
            ],
            [
             1,
             "#f0f921"
            ]
           ]
          },
          "colorway": [
           "#636efa",
           "#EF553B",
           "#00cc96",
           "#ab63fa",
           "#FFA15A",
           "#19d3f3",
           "#FF6692",
           "#B6E880",
           "#FF97FF",
           "#FECB52"
          ],
          "font": {
           "color": "#2a3f5f"
          },
          "geo": {
           "bgcolor": "white",
           "lakecolor": "white",
           "landcolor": "#E5ECF6",
           "showlakes": true,
           "showland": true,
           "subunitcolor": "white"
          },
          "hoverlabel": {
           "align": "left"
          },
          "hovermode": "closest",
          "mapbox": {
           "style": "light"
          },
          "paper_bgcolor": "white",
          "plot_bgcolor": "#E5ECF6",
          "polar": {
           "angularaxis": {
            "gridcolor": "white",
            "linecolor": "white",
            "ticks": ""
           },
           "bgcolor": "#E5ECF6",
           "radialaxis": {
            "gridcolor": "white",
            "linecolor": "white",
            "ticks": ""
           }
          },
          "scene": {
           "xaxis": {
            "backgroundcolor": "#E5ECF6",
            "gridcolor": "white",
            "gridwidth": 2,
            "linecolor": "white",
            "showbackground": true,
            "ticks": "",
            "zerolinecolor": "white"
           },
           "yaxis": {
            "backgroundcolor": "#E5ECF6",
            "gridcolor": "white",
            "gridwidth": 2,
            "linecolor": "white",
            "showbackground": true,
            "ticks": "",
            "zerolinecolor": "white"
           },
           "zaxis": {
            "backgroundcolor": "#E5ECF6",
            "gridcolor": "white",
            "gridwidth": 2,
            "linecolor": "white",
            "showbackground": true,
            "ticks": "",
            "zerolinecolor": "white"
           }
          },
          "shapedefaults": {
           "line": {
            "color": "#2a3f5f"
           }
          },
          "ternary": {
           "aaxis": {
            "gridcolor": "white",
            "linecolor": "white",
            "ticks": ""
           },
           "baxis": {
            "gridcolor": "white",
            "linecolor": "white",
            "ticks": ""
           },
           "bgcolor": "#E5ECF6",
           "caxis": {
            "gridcolor": "white",
            "linecolor": "white",
            "ticks": ""
           }
          },
          "title": {
           "x": 0.05
          },
          "xaxis": {
           "automargin": true,
           "gridcolor": "white",
           "linecolor": "white",
           "ticks": "",
           "title": {
            "standoff": 15
           },
           "zerolinecolor": "white",
           "zerolinewidth": 2
          },
          "yaxis": {
           "automargin": true,
           "gridcolor": "white",
           "linecolor": "white",
           "ticks": "",
           "title": {
            "standoff": 15
           },
           "zerolinecolor": "white",
           "zerolinewidth": 2
          }
         }
        },
        "width": 1200,
        "xaxis": {
         "anchor": "y",
         "domain": [
          0,
          1
         ],
         "title": {
          "text": "Display format"
         }
        },
        "yaxis": {
         "anchor": "x",
         "domain": [
          0,
          1
         ],
         "title": {
          "text": "Number of Leaderboards"
         }
        }
       }
      }
     },
     "metadata": {},
     "output_type": "display_data"
    }
   ],
   "source": [
    "df = pd.read_csv(path_meta / 'leaderboard_processed.csv')\n",
    "df['Display formats'] = df['Display formats'].apply(ast.literal_eval)\n",
    "\n",
    "df_multiple = df[df['Display formats'].map(len) > 1]\n",
    "print(f\"{round(len(df_multiple)/len(df)*100,2)}% ({len(df_multiple)} out of {len(df)}) leaderboards support multiple display formats.\")\n",
    "display_format_rankable = ['Rankable Table', 'Rankable Bar Chart']\n",
    "df_rankable = keep_rows_by_list_column(df, 'Display formats', display_format_rankable)\n",
    "print(f\"{round(len(df_rankable)/len(df)*100,2)}% ({len(df_rankable)} out of {len(df)}) leaderboards support rankable display formats.\")\n",
    "df_rankable_split = df_rankable.explode('Display formats')['Display formats'].value_counts().reset_index(name='Frequency')\n",
    "print(f\"{df_rankable_split['Display formats'].iloc[0]} is the most popular display format of rankable leaderboards, accounting for {round(df_rankable_split['Frequency'].iloc[0]/len(df_rankable)*100,2)}% ({df_rankable_split['Frequency'].iloc[0]} out of {len(df_rankable)}) rankable leaderboards.\")\n",
    "df_split = df.explode('Display formats')['Display formats'].value_counts().reset_index(name='Frequency')\n",
    "df_split['Weight'] = 1\n",
    "\n",
    "statistics = {\n",
    "    'Distribution': 'Leaderboards across Display Formats',\n",
    "    'Mean': np.mean(df_split['Frequency']),\n",
    "    'Median': np.median(df_split['Frequency']),\n",
    "    'IQR': df_split['Frequency'].quantile(0.75) - df_split['Frequency'].quantile(0.25),\n",
    "    'Gini Coefficient': ineqpy.inequality.gini(data=df_split, income='Frequency', weights='Weight'),\n",
    "}\n",
    "if os.path.exists(path_meta / 'leaderboard_statistics.csv'):\n",
    "    df_statistics = pd.read_csv(path_meta / 'leaderboard_statistics.csv')\n",
    "else:\n",
    "    df_statistics = pd.DataFrame()\n",
    "df_statistics = pd.concat([df_statistics, pd.DataFrame([statistics])], ignore_index=True)\n",
    "df_statistics.drop_duplicates(subset=['Distribution'], keep='last', inplace=True)\n",
    "df_statistics.sort_values(by='Distribution', inplace=True)\n",
    "df_statistics.to_csv(path_meta / 'leaderboard_statistics.csv', index=False)\n",
    "\n",
    "df_split['Ratio'] = round(df_split['Frequency'] / len(df) * 100, 2)\n",
    "\n",
    "fig = px.bar(\n",
    "    x=df_split['Display formats'],\n",
    "    y=df_split['Frequency'],\n",
    "    text_auto=True,\n",
    "    labels={'x': 'Display format', 'y': 'Number of Leaderboards'},\n",
    ")\n",
    "# Update the layout for a tighter look\n",
    "fig.update_layout(\n",
    "    autosize=True,\n",
    "    margin=dict(\n",
    "        l=10,  # Left margin\n",
    "        r=10,  # Right margin\n",
    "        b=10,  # Bottom margin\n",
    "        t=10,  # Top margin\n",
    "        pad=4  # Padding between the plot and the margin\n",
    "    )\n",
    ")\n",
    "fig.update_layout(\n",
    "    width=1200,  # Set the width of the figure\n",
    "    height=800,  # Set the height of the figure\n",
    ")\n",
    "fig.show()"
   ]
  },
  {
   "cell_type": "code",
   "execution_count": 25,
   "metadata": {},
   "outputs": [
    {
     "name": "stdout",
     "output_type": "stream",
     "text": [
      "71.22% (198 out of 278) leaderboards are associated with specific publications, including research articles, blog posts, and white papers.\n",
      "32.32% (64 out of 198) publications have been accepted in a specific workshop, conference, magzine, or journal.\n",
      "NeurIPS emerges as the conference with the most number of accepted publications, accounting for 21.88% (14 out of 64) of those published.\n"
     ]
    },
    {
     "data": {
      "application/vnd.plotly.v1+json": {
       "config": {
        "plotlyServerURL": "https://plot.ly"
       },
       "data": [
        {
         "orientation": "h",
         "text": [
          14,
          13,
          6,
          4,
          4,
          4,
          3,
          3,
          3,
          2
         ],
         "textposition": "auto",
         "type": "bar",
         "x": [
          14,
          13,
          6,
          4,
          4,
          4,
          3,
          3,
          3,
          2
         ],
         "y": [
          "NeurIPS",
          "EMNLP",
          "ICLR",
          "AAAI",
          "ACL",
          "blog",
          "ECCV",
          "ICML",
          "NAACL",
          "CVPR"
         ]
        }
       ],
       "layout": {
        "height": 800,
        "template": {
         "data": {
          "bar": [
           {
            "error_x": {
             "color": "#2a3f5f"
            },
            "error_y": {
             "color": "#2a3f5f"
            },
            "marker": {
             "line": {
              "color": "#E5ECF6",
              "width": 0.5
             },
             "pattern": {
              "fillmode": "overlay",
              "size": 10,
              "solidity": 0.2
             }
            },
            "type": "bar"
           }
          ],
          "barpolar": [
           {
            "marker": {
             "line": {
              "color": "#E5ECF6",
              "width": 0.5
             },
             "pattern": {
              "fillmode": "overlay",
              "size": 10,
              "solidity": 0.2
             }
            },
            "type": "barpolar"
           }
          ],
          "carpet": [
           {
            "aaxis": {
             "endlinecolor": "#2a3f5f",
             "gridcolor": "white",
             "linecolor": "white",
             "minorgridcolor": "white",
             "startlinecolor": "#2a3f5f"
            },
            "baxis": {
             "endlinecolor": "#2a3f5f",
             "gridcolor": "white",
             "linecolor": "white",
             "minorgridcolor": "white",
             "startlinecolor": "#2a3f5f"
            },
            "type": "carpet"
           }
          ],
          "choropleth": [
           {
            "colorbar": {
             "outlinewidth": 0,
             "ticks": ""
            },
            "type": "choropleth"
           }
          ],
          "contour": [
           {
            "colorbar": {
             "outlinewidth": 0,
             "ticks": ""
            },
            "colorscale": [
             [
              0,
              "#0d0887"
             ],
             [
              0.1111111111111111,
              "#46039f"
             ],
             [
              0.2222222222222222,
              "#7201a8"
             ],
             [
              0.3333333333333333,
              "#9c179e"
             ],
             [
              0.4444444444444444,
              "#bd3786"
             ],
             [
              0.5555555555555556,
              "#d8576b"
             ],
             [
              0.6666666666666666,
              "#ed7953"
             ],
             [
              0.7777777777777778,
              "#fb9f3a"
             ],
             [
              0.8888888888888888,
              "#fdca26"
             ],
             [
              1,
              "#f0f921"
             ]
            ],
            "type": "contour"
           }
          ],
          "contourcarpet": [
           {
            "colorbar": {
             "outlinewidth": 0,
             "ticks": ""
            },
            "type": "contourcarpet"
           }
          ],
          "heatmap": [
           {
            "colorbar": {
             "outlinewidth": 0,
             "ticks": ""
            },
            "colorscale": [
             [
              0,
              "#0d0887"
             ],
             [
              0.1111111111111111,
              "#46039f"
             ],
             [
              0.2222222222222222,
              "#7201a8"
             ],
             [
              0.3333333333333333,
              "#9c179e"
             ],
             [
              0.4444444444444444,
              "#bd3786"
             ],
             [
              0.5555555555555556,
              "#d8576b"
             ],
             [
              0.6666666666666666,
              "#ed7953"
             ],
             [
              0.7777777777777778,
              "#fb9f3a"
             ],
             [
              0.8888888888888888,
              "#fdca26"
             ],
             [
              1,
              "#f0f921"
             ]
            ],
            "type": "heatmap"
           }
          ],
          "heatmapgl": [
           {
            "colorbar": {
             "outlinewidth": 0,
             "ticks": ""
            },
            "colorscale": [
             [
              0,
              "#0d0887"
             ],
             [
              0.1111111111111111,
              "#46039f"
             ],
             [
              0.2222222222222222,
              "#7201a8"
             ],
             [
              0.3333333333333333,
              "#9c179e"
             ],
             [
              0.4444444444444444,
              "#bd3786"
             ],
             [
              0.5555555555555556,
              "#d8576b"
             ],
             [
              0.6666666666666666,
              "#ed7953"
             ],
             [
              0.7777777777777778,
              "#fb9f3a"
             ],
             [
              0.8888888888888888,
              "#fdca26"
             ],
             [
              1,
              "#f0f921"
             ]
            ],
            "type": "heatmapgl"
           }
          ],
          "histogram": [
           {
            "marker": {
             "pattern": {
              "fillmode": "overlay",
              "size": 10,
              "solidity": 0.2
             }
            },
            "type": "histogram"
           }
          ],
          "histogram2d": [
           {
            "colorbar": {
             "outlinewidth": 0,
             "ticks": ""
            },
            "colorscale": [
             [
              0,
              "#0d0887"
             ],
             [
              0.1111111111111111,
              "#46039f"
             ],
             [
              0.2222222222222222,
              "#7201a8"
             ],
             [
              0.3333333333333333,
              "#9c179e"
             ],
             [
              0.4444444444444444,
              "#bd3786"
             ],
             [
              0.5555555555555556,
              "#d8576b"
             ],
             [
              0.6666666666666666,
              "#ed7953"
             ],
             [
              0.7777777777777778,
              "#fb9f3a"
             ],
             [
              0.8888888888888888,
              "#fdca26"
             ],
             [
              1,
              "#f0f921"
             ]
            ],
            "type": "histogram2d"
           }
          ],
          "histogram2dcontour": [
           {
            "colorbar": {
             "outlinewidth": 0,
             "ticks": ""
            },
            "colorscale": [
             [
              0,
              "#0d0887"
             ],
             [
              0.1111111111111111,
              "#46039f"
             ],
             [
              0.2222222222222222,
              "#7201a8"
             ],
             [
              0.3333333333333333,
              "#9c179e"
             ],
             [
              0.4444444444444444,
              "#bd3786"
             ],
             [
              0.5555555555555556,
              "#d8576b"
             ],
             [
              0.6666666666666666,
              "#ed7953"
             ],
             [
              0.7777777777777778,
              "#fb9f3a"
             ],
             [
              0.8888888888888888,
              "#fdca26"
             ],
             [
              1,
              "#f0f921"
             ]
            ],
            "type": "histogram2dcontour"
           }
          ],
          "mesh3d": [
           {
            "colorbar": {
             "outlinewidth": 0,
             "ticks": ""
            },
            "type": "mesh3d"
           }
          ],
          "parcoords": [
           {
            "line": {
             "colorbar": {
              "outlinewidth": 0,
              "ticks": ""
             }
            },
            "type": "parcoords"
           }
          ],
          "pie": [
           {
            "automargin": true,
            "type": "pie"
           }
          ],
          "scatter": [
           {
            "fillpattern": {
             "fillmode": "overlay",
             "size": 10,
             "solidity": 0.2
            },
            "type": "scatter"
           }
          ],
          "scatter3d": [
           {
            "line": {
             "colorbar": {
              "outlinewidth": 0,
              "ticks": ""
             }
            },
            "marker": {
             "colorbar": {
              "outlinewidth": 0,
              "ticks": ""
             }
            },
            "type": "scatter3d"
           }
          ],
          "scattercarpet": [
           {
            "marker": {
             "colorbar": {
              "outlinewidth": 0,
              "ticks": ""
             }
            },
            "type": "scattercarpet"
           }
          ],
          "scattergeo": [
           {
            "marker": {
             "colorbar": {
              "outlinewidth": 0,
              "ticks": ""
             }
            },
            "type": "scattergeo"
           }
          ],
          "scattergl": [
           {
            "marker": {
             "colorbar": {
              "outlinewidth": 0,
              "ticks": ""
             }
            },
            "type": "scattergl"
           }
          ],
          "scattermapbox": [
           {
            "marker": {
             "colorbar": {
              "outlinewidth": 0,
              "ticks": ""
             }
            },
            "type": "scattermapbox"
           }
          ],
          "scatterpolar": [
           {
            "marker": {
             "colorbar": {
              "outlinewidth": 0,
              "ticks": ""
             }
            },
            "type": "scatterpolar"
           }
          ],
          "scatterpolargl": [
           {
            "marker": {
             "colorbar": {
              "outlinewidth": 0,
              "ticks": ""
             }
            },
            "type": "scatterpolargl"
           }
          ],
          "scatterternary": [
           {
            "marker": {
             "colorbar": {
              "outlinewidth": 0,
              "ticks": ""
             }
            },
            "type": "scatterternary"
           }
          ],
          "surface": [
           {
            "colorbar": {
             "outlinewidth": 0,
             "ticks": ""
            },
            "colorscale": [
             [
              0,
              "#0d0887"
             ],
             [
              0.1111111111111111,
              "#46039f"
             ],
             [
              0.2222222222222222,
              "#7201a8"
             ],
             [
              0.3333333333333333,
              "#9c179e"
             ],
             [
              0.4444444444444444,
              "#bd3786"
             ],
             [
              0.5555555555555556,
              "#d8576b"
             ],
             [
              0.6666666666666666,
              "#ed7953"
             ],
             [
              0.7777777777777778,
              "#fb9f3a"
             ],
             [
              0.8888888888888888,
              "#fdca26"
             ],
             [
              1,
              "#f0f921"
             ]
            ],
            "type": "surface"
           }
          ],
          "table": [
           {
            "cells": {
             "fill": {
              "color": "#EBF0F8"
             },
             "line": {
              "color": "white"
             }
            },
            "header": {
             "fill": {
              "color": "#C8D4E3"
             },
             "line": {
              "color": "white"
             }
            },
            "type": "table"
           }
          ]
         },
         "layout": {
          "annotationdefaults": {
           "arrowcolor": "#2a3f5f",
           "arrowhead": 0,
           "arrowwidth": 1
          },
          "autotypenumbers": "strict",
          "coloraxis": {
           "colorbar": {
            "outlinewidth": 0,
            "ticks": ""
           }
          },
          "colorscale": {
           "diverging": [
            [
             0,
             "#8e0152"
            ],
            [
             0.1,
             "#c51b7d"
            ],
            [
             0.2,
             "#de77ae"
            ],
            [
             0.3,
             "#f1b6da"
            ],
            [
             0.4,
             "#fde0ef"
            ],
            [
             0.5,
             "#f7f7f7"
            ],
            [
             0.6,
             "#e6f5d0"
            ],
            [
             0.7,
             "#b8e186"
            ],
            [
             0.8,
             "#7fbc41"
            ],
            [
             0.9,
             "#4d9221"
            ],
            [
             1,
             "#276419"
            ]
           ],
           "sequential": [
            [
             0,
             "#0d0887"
            ],
            [
             0.1111111111111111,
             "#46039f"
            ],
            [
             0.2222222222222222,
             "#7201a8"
            ],
            [
             0.3333333333333333,
             "#9c179e"
            ],
            [
             0.4444444444444444,
             "#bd3786"
            ],
            [
             0.5555555555555556,
             "#d8576b"
            ],
            [
             0.6666666666666666,
             "#ed7953"
            ],
            [
             0.7777777777777778,
             "#fb9f3a"
            ],
            [
             0.8888888888888888,
             "#fdca26"
            ],
            [
             1,
             "#f0f921"
            ]
           ],
           "sequentialminus": [
            [
             0,
             "#0d0887"
            ],
            [
             0.1111111111111111,
             "#46039f"
            ],
            [
             0.2222222222222222,
             "#7201a8"
            ],
            [
             0.3333333333333333,
             "#9c179e"
            ],
            [
             0.4444444444444444,
             "#bd3786"
            ],
            [
             0.5555555555555556,
             "#d8576b"
            ],
            [
             0.6666666666666666,
             "#ed7953"
            ],
            [
             0.7777777777777778,
             "#fb9f3a"
            ],
            [
             0.8888888888888888,
             "#fdca26"
            ],
            [
             1,
             "#f0f921"
            ]
           ]
          },
          "colorway": [
           "#636efa",
           "#EF553B",
           "#00cc96",
           "#ab63fa",
           "#FFA15A",
           "#19d3f3",
           "#FF6692",
           "#B6E880",
           "#FF97FF",
           "#FECB52"
          ],
          "font": {
           "color": "#2a3f5f"
          },
          "geo": {
           "bgcolor": "white",
           "lakecolor": "white",
           "landcolor": "#E5ECF6",
           "showlakes": true,
           "showland": true,
           "subunitcolor": "white"
          },
          "hoverlabel": {
           "align": "left"
          },
          "hovermode": "closest",
          "mapbox": {
           "style": "light"
          },
          "paper_bgcolor": "white",
          "plot_bgcolor": "#E5ECF6",
          "polar": {
           "angularaxis": {
            "gridcolor": "white",
            "linecolor": "white",
            "ticks": ""
           },
           "bgcolor": "#E5ECF6",
           "radialaxis": {
            "gridcolor": "white",
            "linecolor": "white",
            "ticks": ""
           }
          },
          "scene": {
           "xaxis": {
            "backgroundcolor": "#E5ECF6",
            "gridcolor": "white",
            "gridwidth": 2,
            "linecolor": "white",
            "showbackground": true,
            "ticks": "",
            "zerolinecolor": "white"
           },
           "yaxis": {
            "backgroundcolor": "#E5ECF6",
            "gridcolor": "white",
            "gridwidth": 2,
            "linecolor": "white",
            "showbackground": true,
            "ticks": "",
            "zerolinecolor": "white"
           },
           "zaxis": {
            "backgroundcolor": "#E5ECF6",
            "gridcolor": "white",
            "gridwidth": 2,
            "linecolor": "white",
            "showbackground": true,
            "ticks": "",
            "zerolinecolor": "white"
           }
          },
          "shapedefaults": {
           "line": {
            "color": "#2a3f5f"
           }
          },
          "ternary": {
           "aaxis": {
            "gridcolor": "white",
            "linecolor": "white",
            "ticks": ""
           },
           "baxis": {
            "gridcolor": "white",
            "linecolor": "white",
            "ticks": ""
           },
           "bgcolor": "#E5ECF6",
           "caxis": {
            "gridcolor": "white",
            "linecolor": "white",
            "ticks": ""
           }
          },
          "title": {
           "x": 0.05
          },
          "xaxis": {
           "automargin": true,
           "gridcolor": "white",
           "linecolor": "white",
           "ticks": "",
           "title": {
            "standoff": 15
           },
           "zerolinecolor": "white",
           "zerolinewidth": 2
          },
          "yaxis": {
           "automargin": true,
           "gridcolor": "white",
           "linecolor": "white",
           "ticks": "",
           "title": {
            "standoff": 15
           },
           "zerolinecolor": "white",
           "zerolinewidth": 2
          }
         }
        },
        "title": {
         "text": "Number of non-PWC Leaderboards with Accepted Publications across Publication Venues (Top 10)"
        },
        "width": 1200,
        "xaxis": {
         "title": {
          "text": "Leaderboard Number"
         }
        },
        "yaxis": {
         "autorange": "reversed",
         "title": {
          "text": "Publication Name"
         }
        }
       }
      }
     },
     "metadata": {},
     "output_type": "display_data"
    }
   ],
   "source": [
    "df = pd.read_csv(path_meta / 'leaderboard_processed.csv')\n",
    "df = df[df['Platforms'] != 'pwc']\n",
    "df['Publication venues (non-pwc)'] = df['Publication venues (non-pwc)'].apply(ast.literal_eval)\n",
    "df_pub = df[df['Publication venues (non-pwc)'].apply(len) > 0]\n",
    "print(f\"{round(len(df_pub)/len(df)*100,2)}% ({len(df_pub)} out of {len(df)}) leaderboards are associated with specific publications, including research articles, blog posts, and white papers.\")\n",
    "\n",
    "df_literature = filter_rows_by_list_column(df_pub, 'Publication venues (non-pwc)', non_accepted_publication_type)\n",
    "print(f\"{round(len(df_literature)/len(df_pub)*100,2)}% ({len(df_literature)} out of {len(df_pub)}) publications have been accepted in a specific workshop, conference, magzine, or journal.\")\n",
    "df_split = df_literature.explode('Publication venues (non-pwc)').groupby('Publication venues (non-pwc)').size().reset_index(name='Frequency')\n",
    "df_split['Weight'] = 1\n",
    "\n",
    "statistics = {\n",
    "    'Distribution': 'Leaderboards across Publication Venues',\n",
    "    'Mean': np.mean(df_split['Frequency']),\n",
    "    'Median': np.median(df_split['Frequency']),\n",
    "    'IQR': df_split['Frequency'].quantile(0.75) - df_split['Frequency'].quantile(0.25),\n",
    "    'Gini Coefficient': ineqpy.inequality.gini(data=df_split, income='Frequency', weights='Weight'),\n",
    "}\n",
    "if os.path.exists(path_meta / 'leaderboard_statistics.csv'):\n",
    "    df_statistics = pd.read_csv(path_meta / 'leaderboard_statistics.csv')\n",
    "else:\n",
    "    df_statistics = pd.DataFrame()\n",
    "df_statistics = pd.concat([df_statistics, pd.DataFrame([statistics])], ignore_index=True)\n",
    "df_statistics.drop_duplicates(subset=['Distribution'], keep='last', inplace=True)\n",
    "df_statistics.sort_values(by='Distribution', inplace=True)\n",
    "df_statistics.to_csv(path_meta / 'leaderboard_statistics.csv', index=False)\n",
    "\n",
    "df_top = df_split.sort_values(by='Frequency', ascending=False).head(10)\n",
    "print(f\"{df_top['Publication venues (non-pwc)'].iloc[0]} emerges as the conference with the most number of accepted publications, accounting for {round(df_top['Frequency'].iloc[0]/len(df_literature)*100,2)}% ({df_top['Frequency'].iloc[0]} out of {len(df_literature)}) of those published.\")\n",
    "\n",
    "df_top['Ratio'] = round(df_top['Frequency'] / len(df_literature) * 100, 2)\n",
    "\n",
    "fig = go.Figure(go.Bar(\n",
    "        x=df_top['Frequency'],  # Values for the bar lengths\n",
    "        y=df_top['Publication venues (non-pwc)'],  # Categories for each bar\n",
    "        orientation='h',  # Sets the bars to be horizontal\n",
    "        text=df_top['Frequency'],  # Adds the values as text on each bar\n",
    "        textposition='auto'  # Automatically positions the text on the bars\n",
    "))\n",
    "fig.update_layout(\n",
    "        title=f'Number of non-PWC Leaderboards with Accepted Publications across Publication Venues (Top 10)',\n",
    "        xaxis_title='Leaderboard Number',\n",
    "        yaxis_title='Publication Name',\n",
    "        yaxis_autorange='reversed'  # This line makes the bars go top-down\n",
    ")\n",
    "fig.update_layout(\n",
    "    width=1200,  # Set the width of the figure\n",
    "    height=800,  # Set the height of the figure\n",
    ")\n",
    "fig.show()\n"
   ]
  },
  {
   "cell_type": "code",
   "execution_count": 26,
   "metadata": {},
   "outputs": [
    {
     "name": "stdout",
     "output_type": "stream",
     "text": [
      "99.86% (720 out of 721) leaderboards provide documentation.\n",
      "99.86% (720 out of 721) leaderboards provide contact information.\n",
      "100.0% (721 out of 721) leaderboards provide submission channels.\n",
      "38.42% (277 out of 721) leaderboards provide evaluation harness.\n",
      "36.75% (265 out of 721) leaderboards provide pull request channels.\n",
      "36.75% (265 out of 721) leaderboards provide discussion forums.\n"
     ]
    }
   ],
   "source": [
    "df = pd.read_csv(path_meta / 'leaderboard_processed.csv')\n",
    "print(f\"{round((len(df)-len(leaderboard_system_without_documentation))/(len(df))*100, 2)}% ({len(df)-len(leaderboard_system_without_documentation)} out of {len(df)}) leaderboards provide documentation.\")\n",
    "print(f\"{round((len(df)-len(leaderboard_system_without_contacts))/(len(df))*100, 2)}% ({len(df)-len(leaderboard_system_without_contacts)} out of {len(df)}) leaderboards provide contact information.\")\n",
    "df['Development workflows'] = df['Development workflows'].apply(ast.literal_eval)\n",
    "df_submission = keep_rows_by_list_column(df, 'Development workflows', workflow_patterns_with_submission)\n",
    "print(f\"{round(len(df_submission)/(len(df))*100, 2)}% ({len(df_submission)} out of {len(df)}) leaderboards provide submission channels.\")\n",
    "df_pwc = df[df['Platforms'] == 'pwc']\n",
    "print(f\"{round((len(df)-len(leaderboard_system_without_evaluation_harness)-len(df_pwc))/(len(df))*100, 2)}% ({len(df)-len(leaderboard_system_without_evaluation_harness)-len(df_pwc)} out of {len(df)}) leaderboards provide evaluation harness.\")\n",
    "print(f\"{round((len(df)-len(leaderboard_system_without_pull_requests)-len(df_pwc))/(len(df))*100, 2)}% ({len(df)-len(leaderboard_system_without_pull_requests)-len(df_pwc)} out of {len(df)}) leaderboards provide pull request channels.\")\n",
    "print(f\"{round((len(df)-len(leaderboard_system_without_pull_requests)-len(df_pwc))/(len(df))*100, 2)}% ({len(df)-len(leaderboard_system_without_pull_requests)-len(df_pwc)} out of {len(df)}) leaderboards provide discussion forums.\")"
   ]
  },
  {
   "cell_type": "code",
   "execution_count": 27,
   "metadata": {},
   "outputs": [
    {
     "name": "stdout",
     "output_type": "stream",
     "text": [
      "\\begin{tabular}{lllll}\n",
      "\\toprule\n",
      "Distribution & Mean & Median & IQR & Gini Coefficient \\\\\n",
      "\\midrule\n",
      "Leaderboards across Display Formats & 117.73 & 7.0 & 71 & 0.853 \\\\\n",
      "Leaderboards across Publication Venues & 3.14 & 1.5 & 3 & 0.517 \\\\\n",
      "Leaderboards across Release Organizations & 4.69 & 1.0 & 2 & 0.718 \\\\\n",
      "Leaderboards across Workflow Patterns & 161.80 & 77.0 & 220 & 0.722 \\\\\n",
      "\\bottomrule\n",
      "\\end{tabular}\n",
      "\n"
     ]
    }
   ],
   "source": [
    "df = pd.read_csv(path_meta / 'leaderboard_statistics.csv')\n",
    "df.fillna('$\\\\times$', inplace=True)\n",
    "df['Mean'] = df['Mean'].map('{:.2f}'.format)\n",
    "df['Median'] = df['Median'].map('{:.1f}'.format)\n",
    "df['IQR'] = df['IQR'].map('{:.0f}'.format)\n",
    "df['Gini Coefficient'] = df['Gini Coefficient'].map(lambda x: '{:.3f}'.format(x) if isinstance(x,float) else x)\n",
    "print(df.to_latex(index=False))"
   ]
  },
  {
   "cell_type": "code",
   "execution_count": 28,
   "metadata": {},
   "outputs": [
    {
     "name": "stdout",
     "output_type": "stream",
     "text": [
      "There are 34 SATD examples.\n",
      "There are 320 leaderboard smell examples.\n"
     ]
    },
    {
     "data": {
      "text/html": [
       "<div>\n",
       "<style scoped>\n",
       "    .dataframe tbody tr th:only-of-type {\n",
       "        vertical-align: middle;\n",
       "    }\n",
       "\n",
       "    .dataframe tbody tr th {\n",
       "        vertical-align: top;\n",
       "    }\n",
       "\n",
       "    .dataframe thead th {\n",
       "        text-align: right;\n",
       "    }\n",
       "</style>\n",
       "<table border=\"1\" class=\"dataframe\">\n",
       "  <thead>\n",
       "    <tr style=\"text-align: right;\">\n",
       "      <th></th>\n",
       "      <th>Benchmark Metric</th>\n",
       "      <th>Benchmark Protocol</th>\n",
       "      <th>Benchmark Raw Dataset</th>\n",
       "      <th>Evaluation Record/Result</th>\n",
       "      <th>Model (Information)</th>\n",
       "      <th>Ranking Dataframe</th>\n",
       "      <th>Submission Channel/Guideline</th>\n",
       "      <th>Benchmark Task</th>\n",
       "      <th>Uncategorized</th>\n",
       "    </tr>\n",
       "  </thead>\n",
       "  <tbody>\n",
       "    <tr>\n",
       "      <th>Confusing Entity</th>\n",
       "      <td>4</td>\n",
       "      <td>10</td>\n",
       "      <td>24</td>\n",
       "      <td>11</td>\n",
       "      <td>7</td>\n",
       "      <td>4</td>\n",
       "      <td>21</td>\n",
       "      <td></td>\n",
       "      <td></td>\n",
       "    </tr>\n",
       "    <tr>\n",
       "      <th>Deprecated Entity</th>\n",
       "      <td></td>\n",
       "      <td></td>\n",
       "      <td>3</td>\n",
       "      <td>1</td>\n",
       "      <td>1</td>\n",
       "      <td>7</td>\n",
       "      <td>3</td>\n",
       "      <td></td>\n",
       "      <td></td>\n",
       "    </tr>\n",
       "    <tr>\n",
       "      <th>Inaccessible Entity</th>\n",
       "      <td></td>\n",
       "      <td></td>\n",
       "      <td>2</td>\n",
       "      <td>3</td>\n",
       "      <td>1</td>\n",
       "      <td>13</td>\n",
       "      <td>7</td>\n",
       "      <td></td>\n",
       "      <td></td>\n",
       "    </tr>\n",
       "    <tr>\n",
       "      <th>Misdisplayed Entity</th>\n",
       "      <td>5</td>\n",
       "      <td>2</td>\n",
       "      <td></td>\n",
       "      <td></td>\n",
       "      <td></td>\n",
       "      <td>3</td>\n",
       "      <td></td>\n",
       "      <td></td>\n",
       "      <td></td>\n",
       "    </tr>\n",
       "    <tr>\n",
       "      <th>Mismatched Entity</th>\n",
       "      <td>3</td>\n",
       "      <td>1</td>\n",
       "      <td>2</td>\n",
       "      <td>2</td>\n",
       "      <td>6</td>\n",
       "      <td>3</td>\n",
       "      <td></td>\n",
       "      <td>2</td>\n",
       "      <td></td>\n",
       "    </tr>\n",
       "    <tr>\n",
       "      <th>Missing Entity</th>\n",
       "      <td></td>\n",
       "      <td>1</td>\n",
       "      <td></td>\n",
       "      <td>7</td>\n",
       "      <td></td>\n",
       "      <td>15</td>\n",
       "      <td>1</td>\n",
       "      <td></td>\n",
       "      <td></td>\n",
       "    </tr>\n",
       "    <tr>\n",
       "      <th>Redundant Entity</th>\n",
       "      <td></td>\n",
       "      <td></td>\n",
       "      <td></td>\n",
       "      <td>3</td>\n",
       "      <td>2</td>\n",
       "      <td>4</td>\n",
       "      <td></td>\n",
       "      <td></td>\n",
       "      <td></td>\n",
       "    </tr>\n",
       "    <tr>\n",
       "      <th>Unresponsive Entity</th>\n",
       "      <td></td>\n",
       "      <td></td>\n",
       "      <td></td>\n",
       "      <td></td>\n",
       "      <td></td>\n",
       "      <td>103</td>\n",
       "      <td>3</td>\n",
       "      <td></td>\n",
       "      <td></td>\n",
       "    </tr>\n",
       "    <tr>\n",
       "      <th>Others</th>\n",
       "      <td></td>\n",
       "      <td></td>\n",
       "      <td></td>\n",
       "      <td></td>\n",
       "      <td></td>\n",
       "      <td></td>\n",
       "      <td></td>\n",
       "      <td></td>\n",
       "      <td>30</td>\n",
       "    </tr>\n",
       "  </tbody>\n",
       "</table>\n",
       "</div>"
      ],
      "text/plain": [
       "                    Benchmark Metric Benchmark Protocol Benchmark Raw Dataset  \\\n",
       "Confusing Entity                   4                 10                    24   \n",
       "Deprecated Entity                                                           3   \n",
       "Inaccessible Entity                                                         2   \n",
       "Misdisplayed Entity                5                  2                         \n",
       "Mismatched Entity                  3                  1                     2   \n",
       "Missing Entity                                        1                         \n",
       "Redundant Entity                                                                \n",
       "Unresponsive Entity                                                             \n",
       "Others                                                                          \n",
       "\n",
       "                    Evaluation Record/Result Model (Information)  \\\n",
       "Confusing Entity                          11                   7   \n",
       "Deprecated Entity                          1                   1   \n",
       "Inaccessible Entity                        3                   1   \n",
       "Misdisplayed Entity                                                \n",
       "Mismatched Entity                          2                   6   \n",
       "Missing Entity                             7                       \n",
       "Redundant Entity                           3                   2   \n",
       "Unresponsive Entity                                                \n",
       "Others                                                             \n",
       "\n",
       "                    Ranking Dataframe Submission Channel/Guideline  \\\n",
       "Confusing Entity                    4                           21   \n",
       "Deprecated Entity                   7                            3   \n",
       "Inaccessible Entity                13                            7   \n",
       "Misdisplayed Entity                 3                                \n",
       "Mismatched Entity                   3                                \n",
       "Missing Entity                     15                            1   \n",
       "Redundant Entity                    4                                \n",
       "Unresponsive Entity               103                            3   \n",
       "Others                                                               \n",
       "\n",
       "                    Benchmark Task Uncategorized  \n",
       "Confusing Entity                                  \n",
       "Deprecated Entity                                 \n",
       "Inaccessible Entity                               \n",
       "Misdisplayed Entity                               \n",
       "Mismatched Entity                2                \n",
       "Missing Entity                                    \n",
       "Redundant Entity                                  \n",
       "Unresponsive Entity                               \n",
       "Others                                        30  "
      ]
     },
     "execution_count": 28,
     "metadata": {},
     "output_type": "execute_result"
    }
   ],
   "source": [
    "total_smell_count = 0\n",
    "\n",
    "# Load the Excel file\n",
    "with pd.ExcelFile(path_meta / 'Foundation Model Leaderboards.xlsx') as xls:\n",
    "\n",
    "    # Initialize a dictionary to store unique counts\n",
    "    unique_counts = {}\n",
    "\n",
    "    # Iterate over each sheet\n",
    "    for sheet_name in xls.sheet_names:\n",
    "        if sheet_name in ['Leaderboard']:\n",
    "            continue\n",
    "        \n",
    "        df = pd.read_excel(xls, sheet_name=sheet_name)\n",
    "        \n",
    "        if sheet_name == 'Self-admitted Technical Debt':\n",
    "            print(f'There are {len(df)+1} SATD examples.')\n",
    "            continue\n",
    "    \n",
    "        # Iterate over each column\n",
    "        for column in df.columns:\n",
    "            unique_count = df[column].dropna().nunique()\n",
    "        \n",
    "            if sheet_name not in unique_counts:\n",
    "                unique_counts[sheet_name] = {}\n",
    "                \n",
    "            unique_counts[sheet_name][column] = unique_count\n",
    "            total_smell_count += unique_count\n",
    "\n",
    "print(f'There are {total_smell_count} leaderboard smell examples.')\n",
    "\n",
    "# Display the result\n",
    "result_df = pd.DataFrame(unique_counts).transpose()\n",
    "result_df = result_df.fillna('')\n",
    "result_df = result_df.map(lambda x: int(x) if isinstance(x, float) else x)\n",
    "result_df"
   ]
  }
 ],
 "metadata": {
  "kernelspec": {
   "display_name": ".venv",
   "language": "python",
   "name": "python3"
  },
  "language_info": {
   "codemirror_mode": {
    "name": "ipython",
    "version": 3
   },
   "file_extension": ".py",
   "mimetype": "text/x-python",
   "name": "python",
   "nbconvert_exporter": "python",
   "pygments_lexer": "ipython3",
   "version": "3.11.6"
  }
 },
 "nbformat": 4,
 "nbformat_minor": 2
}
