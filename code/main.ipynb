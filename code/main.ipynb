{
 "cells": [
  {
   "cell_type": "code",
   "execution_count": null,
   "metadata": {},
   "outputs": [],
   "source": [
    "from gradio_client import Client\n",
    "from pathlib import Path\n",
    "import json\n",
    "import pandas as pd"
   ]
  },
  {
   "cell_type": "code",
   "execution_count": 14,
   "metadata": {},
   "outputs": [],
   "source": [
    "path_data = Path(\"../data\")"
   ]
  },
  {
   "cell_type": "code",
   "execution_count": null,
   "metadata": {},
   "outputs": [],
   "source": [
    "client = Client(\"https://felixz-open-llm-leaderboard.hf.space/\")\n",
    "json_data = client.predict(\"\",\"\", api_name='/predict')\n",
    "\n",
    "with open(json_data, 'r') as file:\n",
    "    file_data = file.read()\n",
    "    data = json.loads(file_data)\n",
    "    df = pd.DataFrame(data['data'], columns=data['headers'])\n",
    "    df.drop(columns=['Model'], inplace=True)\n",
    "    df.to_json(path_data / 'HF-open-llm-leaderboard_20231114.json', orient='records', indent=4)"
   ]
  },
  {
   "cell_type": "code",
   "execution_count": 64,
   "metadata": {},
   "outputs": [
    {
     "name": "stdout",
     "output_type": "stream",
     "text": [
      "Loaded as API: https://upstage-open-ko-llm-leaderboard.hf.space/ ✔\n"
     ]
    },
    {
     "ename": "ValueError",
     "evalue": "Cannot find a function with `api_name`: /predict.",
     "output_type": "error",
     "traceback": [
      "\u001b[0;31m---------------------------------------------------------------------------\u001b[0m",
      "\u001b[0;31mValueError\u001b[0m                                Traceback (most recent call last)",
      "\u001b[1;32m/Users/jimmy/Documents/GitHub/LLM-Leaderboard-Integration/code/main.ipynb Cell 4\u001b[0m line \u001b[0;36m2\n\u001b[1;32m      <a href='vscode-notebook-cell:/Users/jimmy/Documents/GitHub/LLM-Leaderboard-Integration/code/main.ipynb#X12sZmlsZQ%3D%3D?line=0'>1</a>\u001b[0m client \u001b[39m=\u001b[39m Client(\u001b[39m\"\u001b[39m\u001b[39mhttps://upstage-open-ko-llm-leaderboard.hf.space/\u001b[39m\u001b[39m\"\u001b[39m)\n\u001b[0;32m----> <a href='vscode-notebook-cell:/Users/jimmy/Documents/GitHub/LLM-Leaderboard-Integration/code/main.ipynb#X12sZmlsZQ%3D%3D?line=1'>2</a>\u001b[0m json_data \u001b[39m=\u001b[39m client\u001b[39m.\u001b[39;49mpredict(\u001b[39m\"\u001b[39;49m\u001b[39m\"\u001b[39;49m,\u001b[39m\"\u001b[39;49m\u001b[39m\"\u001b[39;49m, api_name\u001b[39m=\u001b[39;49m\u001b[39m'\u001b[39;49m\u001b[39m/predict\u001b[39;49m\u001b[39m'\u001b[39;49m)\n\u001b[1;32m      <a href='vscode-notebook-cell:/Users/jimmy/Documents/GitHub/LLM-Leaderboard-Integration/code/main.ipynb#X12sZmlsZQ%3D%3D?line=3'>4</a>\u001b[0m \u001b[39mwith\u001b[39;00m \u001b[39mopen\u001b[39m(json_data, \u001b[39m'\u001b[39m\u001b[39mr\u001b[39m\u001b[39m'\u001b[39m) \u001b[39mas\u001b[39;00m file:\n\u001b[1;32m      <a href='vscode-notebook-cell:/Users/jimmy/Documents/GitHub/LLM-Leaderboard-Integration/code/main.ipynb#X12sZmlsZQ%3D%3D?line=4'>5</a>\u001b[0m     file_data \u001b[39m=\u001b[39m file\u001b[39m.\u001b[39mread()\n",
      "File \u001b[0;32m~/Documents/GitHub/LLM-Leaderboard-Integration/.venv/lib/python3.11/site-packages/gradio_client/client.py:300\u001b[0m, in \u001b[0;36mClient.predict\u001b[0;34m(self, api_name, fn_index, *args)\u001b[0m\n\u001b[1;32m    279\u001b[0m \u001b[39mdef\u001b[39;00m \u001b[39mpredict\u001b[39m(\n\u001b[1;32m    280\u001b[0m     \u001b[39mself\u001b[39m,\n\u001b[1;32m    281\u001b[0m     \u001b[39m*\u001b[39margs,\n\u001b[1;32m    282\u001b[0m     api_name: \u001b[39mstr\u001b[39m \u001b[39m|\u001b[39m \u001b[39mNone\u001b[39;00m \u001b[39m=\u001b[39m \u001b[39mNone\u001b[39;00m,\n\u001b[1;32m    283\u001b[0m     fn_index: \u001b[39mint\u001b[39m \u001b[39m|\u001b[39m \u001b[39mNone\u001b[39;00m \u001b[39m=\u001b[39m \u001b[39mNone\u001b[39;00m,\n\u001b[1;32m    284\u001b[0m ) \u001b[39m-\u001b[39m\u001b[39m>\u001b[39m Any:\n\u001b[1;32m    285\u001b[0m \u001b[39m    \u001b[39m\u001b[39m\"\"\"\u001b[39;00m\n\u001b[1;32m    286\u001b[0m \u001b[39m    Calls the Gradio API and returns the result (this is a blocking call).\u001b[39;00m\n\u001b[1;32m    287\u001b[0m \n\u001b[0;32m   (...)\u001b[0m\n\u001b[1;32m    298\u001b[0m \u001b[39m        >> 9.0\u001b[39;00m\n\u001b[1;32m    299\u001b[0m \u001b[39m    \"\"\"\u001b[39;00m\n\u001b[0;32m--> 300\u001b[0m     inferred_fn_index \u001b[39m=\u001b[39m \u001b[39mself\u001b[39;49m\u001b[39m.\u001b[39;49m_infer_fn_index(api_name, fn_index)\n\u001b[1;32m    301\u001b[0m     \u001b[39mif\u001b[39;00m \u001b[39mself\u001b[39m\u001b[39m.\u001b[39mendpoints[inferred_fn_index]\u001b[39m.\u001b[39mis_continuous:\n\u001b[1;32m    302\u001b[0m         \u001b[39mraise\u001b[39;00m \u001b[39mValueError\u001b[39;00m(\n\u001b[1;32m    303\u001b[0m             \u001b[39m\"\u001b[39m\u001b[39mCannot call predict on this function as it may run forever. Use submit instead.\u001b[39m\u001b[39m\"\u001b[39m\n\u001b[1;32m    304\u001b[0m         )\n",
      "File \u001b[0;32m~/Documents/GitHub/LLM-Leaderboard-Integration/.venv/lib/python3.11/site-packages/gradio_client/client.py:589\u001b[0m, in \u001b[0;36mClient._infer_fn_index\u001b[0;34m(self, api_name, fn_index)\u001b[0m\n\u001b[1;32m    587\u001b[0m         \u001b[39mif\u001b[39;00m \u001b[39mnot\u001b[39;00m api_name\u001b[39m.\u001b[39mstartswith(\u001b[39m\"\u001b[39m\u001b[39m/\u001b[39m\u001b[39m\"\u001b[39m):\n\u001b[1;32m    588\u001b[0m             error_message \u001b[39m+\u001b[39m\u001b[39m=\u001b[39m \u001b[39m\"\u001b[39m\u001b[39m Did you mean to use a leading slash?\u001b[39m\u001b[39m\"\u001b[39m\n\u001b[0;32m--> 589\u001b[0m         \u001b[39mraise\u001b[39;00m \u001b[39mValueError\u001b[39;00m(error_message)\n\u001b[1;32m    590\u001b[0m \u001b[39melif\u001b[39;00m fn_index \u001b[39mis\u001b[39;00m \u001b[39mnot\u001b[39;00m \u001b[39mNone\u001b[39;00m:\n\u001b[1;32m    591\u001b[0m     inferred_fn_index \u001b[39m=\u001b[39m fn_index\n",
      "\u001b[0;31mValueError\u001b[0m: Cannot find a function with `api_name`: /predict."
     ]
    }
   ],
   "source": [
    "client = Client(\"https://upstage-open-ko-llm-leaderboard.hf.space/\")\n",
    "json_data = client.predict(\"\",\"\", api_name='/predict')\n",
    "\n",
    "with open(json_data, 'r') as file:\n",
    "    file_data = file.read()\n",
    "    data = json.loads(file_data)\n",
    "    df = pd.DataFrame(data['data'], columns=data['headers'])\n",
    "    df.drop(columns=['Model'], inplace=True)\n",
    "    df.to_json(path_data / 'HF-open-ko-llm-leaderboard_20231114.json', orient='records', indent=4)"
   ]
  },
  {
   "cell_type": "code",
   "execution_count": 63,
   "metadata": {},
   "outputs": [],
   "source": [
    "df = pd.read_csv('b.csv')\n",
    "df.to_json(path_data / 'SuperCLUE-safety-leaderboard-指令攻击安全-20231108.json', orient='records', indent=4)"
   ]
  }
 ],
 "metadata": {
  "kernelspec": {
   "display_name": ".venv",
   "language": "python",
   "name": "python3"
  },
  "language_info": {
   "codemirror_mode": {
    "name": "ipython",
    "version": 3
   },
   "file_extension": ".py",
   "mimetype": "text/x-python",
   "name": "python",
   "nbconvert_exporter": "python",
   "pygments_lexer": "ipython3",
   "version": "3.11.6"
  }
 },
 "nbformat": 4,
 "nbformat_minor": 2
}
