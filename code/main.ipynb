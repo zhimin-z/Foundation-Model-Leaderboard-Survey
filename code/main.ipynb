{
 "cells": [
  {
   "cell_type": "code",
   "execution_count": 4,
   "metadata": {},
   "outputs": [],
   "source": [
    "import os\n",
    "import ast\n",
    "import glob\n",
    "import json\n",
    "import ineqpy\n",
    "import numpy as np\n",
    "import pandas as pd\n",
    "import seaborn as sns\n",
    "import plotly.express as px\n",
    "import plotly.graph_objects as go\n",
    "import matplotlib.pyplot as plt\n",
    "\n",
    "from collections import defaultdict\n",
    "from pathlib import Path"
   ]
  },
  {
   "cell_type": "code",
   "execution_count": 5,
   "metadata": {},
   "outputs": [],
   "source": [
    "path_data = Path(\"../data\")\n",
    "path_meta = Path(\"../meta\")\n",
    "\n",
    "font_size = 15\n",
    "\n",
    "platform_abbreviation_mapping = {\n",
    "    'gh': 'GitHub',\n",
    "    'hf': 'Hugging Face Spaces',\n",
    "    'pwc': 'Papers With Code',\n",
    "    'ip': 'independent platform',\n",
    "}\n",
    "\n",
    "platform_abbreviation_mapping_inverse = {v: k for k, v in platform_abbreviation_mapping.items()}\n",
    "\n",
    "leaderboard_organization_tactics_mapping = {\n",
    "    'Algorithm': ['Algorithm'],\n",
    "    'Evaluation Configuration': ['Dataset Slice', 'Evaluator', 'Metric'],\n",
    "    'Leaderboard Aggregation': ['Aggregated Result'],\n",
    "    'Leaderboard Release': ['Leaderboard Launch Date', 'Leaderboard Version'],\n",
    "    'Model Capability': ['Benchmark Dataset', 'Service Load', 'Supported Functionality', 'Supported Language', 'Supported Modality', 'Task'],\n",
    "    'Model Information': ['Model Accessibility', 'Model Size', 'Model Type'],\n",
    "    'Prompt Engineering': ['#Prompt Example', 'Output Length', 'Prompt Design', 'Prompt Length', 'Relation Extractor', 'Tokenizer']\n",
    "}\n",
    "\n",
    "pwc_organization_strategies = {'Task'}\n",
    "\n",
    "submission_avenue_synonyms = {\n",
    "    'Competition': ['Hackathon']\n",
    "}\n",
    "\n",
    "leaderboard_without_evaluation_datasets = ['Hackathon Somos NLP 2023 Leaderboard', 'Somos NLP Likes Leaderboard', 'Ko Chatbot Arena Leaderboard']\n",
    "\n",
    "leaderboard_without_pull_requests = ['FSMBench', 'CompMix', 'DocVQA', 'GENIE', 'InfographicVQA', 'LMExamQA', 'Models Leaderboard', 'MP-DocVQA', 'OpenEval (text)', 'Program Synthesis Models Leaderboard', 'ProtoQA', 'TextSynth Server']\n",
    "\n",
    "leaderboard_without_contacts = ['OpenEval (text)']\n",
    "\n",
    "leaderboard_without_documentation = ['Hackathon Somos NLP 2023 Leaderboard', 'Somos NLP Likes Leaderboard', 'FSMBench']\n",
    "\n",
    "leaderboard_without_evaluation_harness = ['Hackathon Somos NLP 2023 Leaderboard', 'Somos NLP Likes Leaderboard', 'LLM-Leaderboard']\n",
    "\n",
    "workflow_patterns_with_submission = ['4', '5', '6', '7']\n",
    "\n",
    "macro_presentation_format_mapping = {\n",
    "    'Table': ['Regular Table', 'Sortable Table', 'Table Screenshot'],\n",
    "    'Figure': ['Bar Chart', 'Box Plot', 'Heat Map', 'Line Chart', 'Pie Chart', 'Radar Chart', 'Scatter Plot', 'Sortable Bar Chart'],\n",
    "}\n",
    "\n",
    "organizer_synonyms = {\n",
    "    'Alibaba Group': ['Alibaba Group DAMO Academy', 'Aliyun'],\n",
    "    'Amazon': ['Amazon Alexa AI Lab', 'Amazon AWS AI Lab'],\n",
    "    'Agency for Science Technology and Research': ['A*STAR I2R', 'CFAR A*STAR'],\n",
    "    'Bauhaus University': ['Bauhaus University Weimar'],\n",
    "    'ByteDance': ['ByteDance AI Lab'],\n",
    "    'Fraunhofer Society': ['Fraunhofer Institute for Integrated Circuits'],\n",
    "    'Frédéric Joliot Institute for Life Sciences': ['NeuroSpin'],\n",
    "    'Google': ['Google Brain', 'Google DeepMind', 'Google Blueshift'],\n",
    "    'Huawei': [\"Huawei Noah's Ark Lab\"],\n",
    "    'Kunlun Tech': ['Skywork'],\n",
    "    'Max Planck Society': ['Max Planck Institute for Informatics', 'Max Planck Institute for Intelligent Systems', 'Max Planck Institute for Mathematics in the Sciences'],\n",
    "    'Meta': [\n",
    "        'Meta FAIR',\n",
    "        'Meta GenAI'\n",
    "    ],\n",
    "    'Microsoft': ['Microsoft Research Asia'],\n",
    "    'National Public School': ['National Public School HSR Layout'],\n",
    "    'Naver': ['Naver Labs Europe'],\n",
    "    'Queen\\'s University Kingston': ['Queen\\'s University'],\n",
    "    'Tencent': [\n",
    "        'Tencent AI Lab',\n",
    "        'Tencent ARC Lab',\n",
    "        'Tencent Youtu Lab'\n",
    "    ],\n",
    "    'Toyota Technological Institute': ['Toyota Technological Institute Chicago'],\n",
    "    'University of California': [\n",
    "        'University of California Berkeley',\n",
    "        'University of California Los Angeles',\n",
    "        'University of California Santa Barbara',\n",
    "        'University of California San Diego',\n",
    "        'University of California Irvine',\n",
    "    ],\n",
    "    'University of Michigan': ['University of Michigan Ann Arbor'],\n",
    "    'University of North Carolina': ['University of North Carolina Chapel Hill'],\n",
    "    'University of Illinois': ['University of Illinois Chicago', 'University of Illinois Urbana Champaign'],\n",
    "    'University of Massachusetts': ['University of Massachusetts Amherst'],\n",
    "    'University of Maryland': ['University of Maryland College Park'],\n",
    "    'University of Tennessee': ['University of Tennessee Knoxville'],\n",
    "    'University of Texas': ['University of Texas Austin'],\n",
    "    'University of Wisconsin': ['University of Wisconsin Madison'],\n",
    "}\n",
    "\n",
    "metrics_synonyms = {\n",
    "    'accuracy': [\n",
    "        'acc',\n",
    "        'accuarcy',\n",
    "        'qa accuracy'\n",
    "    ],\n",
    "    'average': [\n",
    "        'avg',\n",
    "        '平均'\n",
    "    ],\n",
    "    'average accuracy': [\n",
    "        'avg. accuracy'\n",
    "    ],\n",
    "    'average score': ['平均分'],\n",
    "    'bleu': ['bleu score'],\n",
    "    'bleu-1': [\n",
    "        'narrativeqa bleu-1',\n",
    "        'socialiqa bleu-1',\n",
    "        'mcscript bleu-1',\n",
    "        'cosmosqa bleu-1'\n",
    "    ],\n",
    "    'bleu-4': ['bleu4'],\n",
    "    'bertscore': ['bert score'],\n",
    "    'code': ['代码'],\n",
    "    'elo rating': [\n",
    "        'chatbot arena elo',\n",
    "        'elo'\n",
    "    ],\n",
    "    'exact match': ['em', 'exact match accuracy'],\n",
    "    'lerc': [\n",
    "        'cosmosqa lerc',\n",
    "        'mcscript lerc',\n",
    "        'socialiqa lerc',\n",
    "        'narrativeqa lerc'\n",
    "    ],\n",
    "    'link': ['url'],\n",
    "    'mean rank': [\n",
    "        'text-to-video mean rank',\n",
    "        'video-to-text mean rank'\n",
    "    ],\n",
    "    'median rank': [\n",
    "        'text-to-video median rank',\n",
    "        'video-to-text median rank',\n",
    "        'text-to-videomedian rank',\n",
    "        'text-to-video medianr'\n",
    "    ],\n",
    "    'meteor': [\n",
    "        'cosmosqa meteor',\n",
    "        'narrativeqa meteor',\n",
    "        'socialiqa meteor',\n",
    "        'mcscript meteor'\n",
    "    ],\n",
    "    'neg mean rank': [\n",
    "        'i->t neg mean rank',\n",
    "        't->i neg mean rank'\n",
    "    ],\n",
    "    'organization': [\n",
    "        '发布机构',\n",
    "        '机构',\n",
    "        'orgaisation',\n",
    "    ],\n",
    "    'others': ['其他'],\n",
    "    'overall': ['xiezhi overall'],\n",
    "    'overall score': [\n",
    "        '总分',\n",
    "        '总体分数'\n",
    "    ],\n",
    "    'pass@1': [\n",
    "        'interview pass@1',\n",
    "        'competition pass@1',\n",
    "        'introductory pass@1'\n",
    "    ],\n",
    "    'pass@5': [\n",
    "        'interview pass@5',\n",
    "        'introductory pass@5',\n",
    "        'competition pass@5'\n",
    "    ],\n",
    "    'pass@1000': [\n",
    "        'interview pass@1000',\n",
    "        'competition pass@1000',\n",
    "        'introductory pass@1000'\n",
    "    ],\n",
    "    'pass@any': [\n",
    "        'introductory pass@any',\n",
    "        'competition pass@any',\n",
    "        'interview pass@any'\n",
    "    ],\n",
    "    '#parameters':  [\n",
    "        '#p',\n",
    "        '#params',\n",
    "        '# params',\n",
    "        '#size',\n",
    "        '参数量',\n",
    "        'model size',\n",
    "        'model size/b',\n",
    "        'number of params',\n",
    "        'param',\n",
    "        'parameters',\n",
    "        'params',\n",
    "        'size'\n",
    "    ],\n",
    "    'perplexity': ['ppl'],\n",
    "    'precision@1': ['i->t p@1'],\n",
    "    'precision@20': ['p@20'],\n",
    "    'recall@1': [\n",
    "        'r@1',\n",
    "        'text-to-videor@1',\n",
    "        'video-to-text r@1',\n",
    "        'text-to-video r@1',\n",
    "        'text-to-image r@1',\n",
    "        'image-to-text r@1'\n",
    "    ],\n",
    "    'recall@5': [\n",
    "        'text-to-image r@5',\n",
    "        'video-to-text r@5',\n",
    "        'image-to-text r@5',\n",
    "        'text-to-video r@5',\n",
    "        'r@5',\n",
    "    ],\n",
    "    'recall@10': [\n",
    "        'recall@10 on 1 rounds',\n",
    "        'recall@10 on 2 rounds',\n",
    "        'recall@10 on 3 rounds',\n",
    "        'r@10',\n",
    "        'video-to-text r@10',\n",
    "        'text-to-image r@10',\n",
    "        'text-to-video r@10',\n",
    "        'image-to-text r@10'\n",
    "    ],\n",
    "    'recall@50': [\n",
    "        'text-to-video r@50',\n",
    "        'video-to-text r@50',\n",
    "    ],\n",
    "    'score': ['分数'],\n",
    "    'submission date': ['提交时间'],\n",
    "    'top-1 accuracy': ['top 1 accuracy'],\n",
    "    'top-5 accuracy': ['top 5 accuracy'],\n",
    "    'type': ['model type'],\n",
    "    'win rate': ['胜率'],\n",
    "    'word error rate': ['wer']\n",
    "}\n",
    "\n",
    "# model_naming_convention = {\n",
    "#     'Model Publisher (first line)': [\n",
    "#         'Provider Leaderboard'\n",
    "#     ],\n",
    "#     'Repository Username': [\n",
    "#         'EQ-Bench (v2)',\n",
    "#         'HHEM Leaderboard',\n",
    "#         'Big Code Models Leaderboard',\n",
    "#         'Colossal-AI',\n",
    "#         'DecodingTrust',\n",
    "#         'LLMPerf Leaderboard',\n",
    "#         'LLM-Perf Leaderboard',\n",
    "#         'Open LLM Leaderboard',\n",
    "#         'Open Ko-LLM Leaderboard',\n",
    "#         'ScandEval',\n",
    "#         'RewardBench',\n",
    "#     ],\n",
    "# }\n",
    "\n",
    "presentation_format_pwc = ['Sortable Table', 'Scatter Plot']\n",
    "dashed_model_leaderboards = ['MMCU', 'SuperCLUE-Math6']\n",
    "non_literature_type = ['blog', 'report', 'white paper']\n",
    "\n",
    "metrics_synonyms_inverse = {}\n",
    "for key, values in metrics_synonyms.items():\n",
    "    for value in values:\n",
    "        metrics_synonyms_inverse[value] = key\n",
    "\n",
    "submission_avenue_synonyms_inverse = {}\n",
    "for key, values in submission_avenue_synonyms.items():\n",
    "    for value in values:\n",
    "        submission_avenue_synonyms_inverse[value] = key\n",
    "\n",
    "macro_presentation_format_mapping_inverse = {v: k for k, values in macro_presentation_format_mapping.items() for v in values}\n",
    "\n",
    "organizer_synonyms_inverse = {}\n",
    "for key, values in organizer_synonyms.items():\n",
    "    for value in values:\n",
    "        organizer_synonyms_inverse[value] = key\n",
    "\n",
    "leaderboard_organization_tactics_mapping_inverse = {}\n",
    "for key, values in leaderboard_organization_tactics_mapping.items():\n",
    "    for value in values:\n",
    "        leaderboard_organization_tactics_mapping_inverse[value] = key\n",
    "\n",
    "# model_naming_convention_count = {\n",
    "#     k: len(v) for k, v in model_naming_convention.items()}\n",
    "\n",
    "def convert_df_to_dict(df):\n",
    "    \"\"\"\n",
    "    Convert a DataFrame of leaderboards and metrics to a dictionary.\n",
    "\n",
    "    :param df: DataFrame with leaderboards and metrics\n",
    "    :return: Dictionary with leaderboards as keys and list of metrics as values\n",
    "    \"\"\"\n",
    "    leaderboard_data = {}\n",
    "\n",
    "    # Ensure the DataFrame's first column is considered as the keys\n",
    "    # and iterate through each row to construct the dictionary\n",
    "    for _, row in df.iterrows():\n",
    "        key = row[0]  # The first column serves as the key\n",
    "        # List comprehension to get non-empty values from the rest of the row\n",
    "        values = [value for value in row[1:] if pd.notna(value)]\n",
    "        leaderboard_data[key] = values\n",
    "\n",
    "    return leaderboard_data\n",
    "\n",
    "\n",
    "def string_to_list(text, platform=False):\n",
    "    if pd.isna(text):\n",
    "        return []\n",
    "    elif platform:\n",
    "        return [platform_abbreviation_mapping[platform] for platform in text.split(',')]\n",
    "    else:\n",
    "        return text.split(',')\n",
    "\n",
    "\n",
    "def string_to_dict(s, platform=False):\n",
    "    # Check if the input is np.nan\n",
    "    if pd.isna(s):\n",
    "        return {}\n",
    "    # Split the string into key-value pairs\n",
    "    pairs = s.split(',')\n",
    "    result_dict = {}\n",
    "    for pair in pairs:\n",
    "        # Split each pair by ':' to separate keys and values\n",
    "        key, value = pair.split(':')\n",
    "        # Split the value by '+' to get the list of items\n",
    "        value_list = value.split('+')\n",
    "        # Assign the list to the key in the dictionary\n",
    "        if platform:\n",
    "            result_dict[platform_abbreviation_mapping[key]] = value_list\n",
    "        else:\n",
    "            result_dict[key] = value_list\n",
    "    return result_dict\n",
    "\n",
    "\n",
    "# Function to format each value based on its own decimal places\n",
    "def format_individual_value(x):\n",
    "    if isinstance(x, float):\n",
    "        # Use string formatting to maintain original decimal places\n",
    "        return \"{:f}\".format(x).rstrip('0').rstrip('.')\n",
    "    return x\n",
    "\n",
    "\n",
    "def print_empty_folders(root_dir):\n",
    "    for dirpath, dirname, filenames in os.walk(root_dir):\n",
    "        # Check if both lists of subdirectories and filenames are empty\n",
    "        if not filenames and dirpath != root_dir:\n",
    "            print(f\"Empty folder: {dirpath}\")\n",
    "\n",
    "\n",
    "# def process_model(model_str):\n",
    "#     if '](' in model_str:\n",
    "#         model_str = model_str.split('](')[0][1:]\n",
    "        \n",
    "#     # # Substrings to be removed\n",
    "#     # substrings_to_remove = ['🥇', '🥈', '🥉', '🗒️', '📄', '🌍', '✨', '💙', '💚', '†', '*']\n",
    "    \n",
    "#     # # Remove each unwanted substring\n",
    "#     # for substring in substrings_to_remove:\n",
    "#     #     model_str = model_str.replace(substring, '')\n",
    "#     import re    \n",
    "#     model_str = re.sub(r'\\\\u[0-9A-Fa-f]{4}', '', model_str)\n",
    "        \n",
    "#     model_str = model_str.replace('_', '-').strip()\n",
    "        \n",
    "#     return model_str\n",
    "    \n",
    "\n",
    "def list_directories(folder_path):\n",
    "    # List all subdirectories within the folder\n",
    "    directories = [os.path.join(folder_path, d) for d in os.listdir(\n",
    "        folder_path) if os.path.isdir(os.path.join(folder_path, d))]\n",
    "    return directories\n",
    "\n",
    "\n",
    "def organizer_synonyms_mapping(organizers):\n",
    "    organizers_processed = set()\n",
    "    for organizer in organizers:\n",
    "        if organizer in organizer_synonyms_inverse:\n",
    "            organizers_processed.add(organizer_synonyms_inverse[organizer])\n",
    "        # elif 'Independent Contributor' == organizer:\n",
    "        #     organizers_processed.add(leaderboard)\n",
    "        else:\n",
    "            organizers_processed.add(organizer)\n",
    "    return organizers_processed\n",
    "\n",
    "def submission_avenue_synonyms_mapping(submission_avenue):\n",
    "    submission_avenue_processed = set()\n",
    "    for avenue in submission_avenue:\n",
    "        if avenue in submission_avenue_synonyms_inverse:\n",
    "            submission_avenue_processed.add(submission_avenue_synonyms_inverse[avenue])\n",
    "        else:\n",
    "            submission_avenue_processed.add(avenue)\n",
    "    return submission_avenue_processed\n",
    "\n",
    "def keep_rows_by_list_column(df, column_name, keyword_list):\n",
    "    \"\"\"\n",
    "    Filters rows in a DataFrame based on whether all elements in a specified list column are in a given keyword list.\n",
    "    \n",
    "    Parameters:\n",
    "    - df: Pandas DataFrame.\n",
    "    - column_name: The name of the column containing lists of strings.\n",
    "    - keyword_list: A list of keywords to check against.\n",
    "    \n",
    "    Returns:\n",
    "    - A filtered Pandas DataFrame.\n",
    "    \"\"\"\n",
    "    # Convert the keyword list to a set for faster membership testing\n",
    "    keyword_set = set(keyword_list)\n",
    "    \n",
    "    # Define a lambda function to check if all elements of a list are in the keyword_set\n",
    "    all_in_keywords = lambda x: all(item in keyword_set for item in x)\n",
    "    \n",
    "    # Apply the lambda function to the specified column and invert the boolean Series to filter rows\n",
    "    filtered_df = df[df[column_name].apply(all_in_keywords)]\n",
    "    \n",
    "    return filtered_df\n",
    "\n",
    "def filter_rows_by_list_column(df, column_name, keyword_list):\n",
    "    \"\"\"\n",
    "    Filters rows in a DataFrame based on whether all elements in a specified list column are in a given keyword list.\n",
    "    \n",
    "    Parameters:\n",
    "    - df: Pandas DataFrame.\n",
    "    - column_name: The name of the column containing lists of strings.\n",
    "    - keyword_list: A list of keywords to check against.\n",
    "    \n",
    "    Returns:\n",
    "    - A filtered Pandas DataFrame.\n",
    "    \"\"\"\n",
    "    # Convert the keyword list to a set for faster membership testing\n",
    "    keyword_set = set(keyword_list)\n",
    "    \n",
    "    # Define a lambda function to check if all elements of a list are in the keyword_set\n",
    "    all_in_keywords = lambda x: all(item in keyword_set for item in x)\n",
    "    \n",
    "    # Apply the lambda function to the specified column and invert the boolean Series to filter rows\n",
    "    filtered_df = df[~df[column_name].apply(all_in_keywords)]\n",
    "    \n",
    "    return filtered_df"
   ]
  },
  {
   "cell_type": "code",
   "execution_count": 6,
   "metadata": {},
   "outputs": [],
   "source": [
    "xlsx = pd.ExcelFile(path_meta / 'Foundation Model Leaderboard Systems.xlsx')\n",
    "df_leaderboard = pd.read_excel(xlsx, sheet_name='Leaderboard System')\n",
    "\n",
    "for index, row in df_leaderboard.iterrows():\n",
    "    os.makedirs(path_data / row['Leaderboard name'], exist_ok=True) \n",
    "\n",
    "print_empty_folders(str(path_data))"
   ]
  },
  {
   "cell_type": "code",
   "execution_count": 7,
   "metadata": {},
   "outputs": [],
   "source": [
    "directory = path_data / \"CyberSafetyEval\"\n",
    "channel = ''\n",
    "drop_columns = []\n",
    "\n",
    "for file_path in glob.glob(str(directory / \"*.csv\")):\n",
    "    df = pd.read_csv(file_path)#, delimiter=\";\")\n",
    "    df.drop(columns=drop_columns, inplace=True)\n",
    "    filename = os.path.basename(file_path)\n",
    "    filename = filename.replace(\".csv\", \".json\")\n",
    "    if channel:\n",
    "        filename = f'{channel}-{filename}'\n",
    "    df.to_json(directory / filename, orient=\"records\", indent=4)\n",
    "    os.remove(file_path)\n"
   ]
  },
  {
   "cell_type": "code",
   "execution_count": 8,
   "metadata": {},
   "outputs": [],
   "source": [
    "# # Aligning Model Names for Standardized Analysis \n",
    "# for directory in os.listdir(path_data):\n",
    "#     subdirectory_path = os.path.join(path_data, directory)\n",
    "#     for file in glob.glob(os.path.join(subdirectory_path, \"*.json\")):\n",
    "#         try:\n",
    "#             df = pd.read_json(file)\n",
    "#             df['Model'] = df['Model'].apply(process_model)\n",
    "#             df.to_json(file, orient='records', indent=4)\n",
    "#             break\n",
    "#         except:\n",
    "#             print(file)\n"
   ]
  },
  {
   "cell_type": "code",
   "execution_count": 9,
   "metadata": {},
   "outputs": [],
   "source": [
    "# with pd.ExcelFile(path_meta / 'Foundation Model Leaderboard Systems.xlsx') as xlsx:\n",
    "#     df_benchmark = xlsx.parse('Benchmark')\n",
    "#     benchmark_mapping = convert_df_to_dict(df_benchmark)\n",
    "#     leaderboard_benchmarks = set()\n",
    "#     for key in benchmark_mapping.keys():\n",
    "#         benchmarks = [benchmark.split(' (')[0] for benchmark in benchmark_mapping[key]]\n",
    "#         leaderboard_benchmarks = leaderboard_benchmarks.union(set(benchmarks))\n",
    "#     print('Total number of benchmarks:', len(leaderboard_benchmarks))"
   ]
  },
  {
   "cell_type": "code",
   "execution_count": 10,
   "metadata": {},
   "outputs": [],
   "source": [
    "# with pd.ExcelFile(path_meta / 'Foundation Model Leaderboard Systems.xlsx') as excel_file:\n",
    "#     df_leaderboard = pd.read_excel(excel_file, sheet_name='Leaderboard System')\n",
    "#     df_leaderboard['Platforms'] = df_leaderboard['Platforms'].apply(lambda x: string_to_list(x, platform=True))\n",
    "#     df_leaderboard['Presentation formats (non-pwc)'] = df_leaderboard['Presentation formats (non-pwc)'].apply(lambda x: string_to_dict(x, platform=True))\n",
    "#     for index, row in df_leaderboard.iterrows():\n",
    "#         platforms = row['Platforms']\n",
    "#         if 'Papers With Code' in platforms:\n",
    "#             continue\n",
    "#         platforms_dict = row['Presentation formats (non-pwc)'].keys()\n",
    "#         if set(platforms).difference(platforms_dict):\n",
    "#             print(row['Leaderboard name'], platforms, platforms_dict)"
   ]
  },
  {
   "cell_type": "code",
   "execution_count": 11,
   "metadata": {},
   "outputs": [
    {
     "name": "stdout",
     "output_type": "stream",
     "text": [
      "Total number of leaderboard systems: 434\n",
      "Total number of leaderboards: 2842\n",
      "Total number of evaluation records: 79344\n"
     ]
    }
   ],
   "source": [
    "total_records = 0\n",
    "total_leaderboards = 0\n",
    "total_leaderboard_systems = 0\n",
    "\n",
    "with pd.ExcelFile(path_meta / 'Foundation Model Leaderboard Systems.xlsx') as excel_file:\n",
    "    df_leaderboard = pd.read_excel(excel_file, sheet_name='Leaderboard System')\n",
    "\n",
    "    df_leaderboard['Downloadable format'] = df_leaderboard['Downloadable format'].apply(string_to_list)\n",
    "    df_leaderboard['Evaluation workflows (non-pwc)'] = df_leaderboard['Evaluation workflows (non-pwc)'].astype(str).apply(string_to_list)\n",
    "    df_leaderboard['Organization strategies (non-pwc)'] = df_leaderboard['Organization strategies (non-pwc)'].apply(string_to_list)\n",
    "    df_leaderboard['Platforms'] = df_leaderboard['Platforms'].apply(lambda x: string_to_list(x, platform=True))\n",
    "    df_leaderboard['Presentation formats (non-pwc)'] = df_leaderboard['Presentation formats (non-pwc)'].apply(lambda x: string_to_dict(x, platform=True))\n",
    "    df_leaderboard['Publication venues'] = df_leaderboard['Publication venues'].apply(string_to_list)\n",
    "    df_leaderboard['Release organizations (non-pwc)'] = df_leaderboard['Release organizations (non-pwc)'].apply(string_to_list)\n",
    "    # df_leaderboard['Submission channels (non-pwc)'] = df_leaderboard['Submission channels (non-pwc)'].apply(string_to_list)\n",
    "    # df_leaderboard['Supported languages'] = df_leaderboard['Supported languages'].apply(string_to_list)\n",
    "    # df_leaderboard['Supported modalities'] = df_leaderboard['Supported modalities'].apply(string_to_list)\n",
    "\n",
    "    df_leaderboard['Participating models'] = [set() for _ in range(len(df_leaderboard))]\n",
    "    df_leaderboard['Evaluation metrics (pwc)'] = [set() for _ in range(len(df_leaderboard))]\n",
    "    df_leaderboard['Organization strategies'] = [set() for _ in range(len(df_leaderboard))]\n",
    "    df_leaderboard['Release organizations'] = [set() for _ in range(len(df_leaderboard))]\n",
    "    # df_leaderboard['Supported benchmarks'] = [set() for _ in range(len(df_leaderboard))]\n",
    "\n",
    "    # df_benchmark = pd.read_excel(excel_file, sheet_name='Benchmark')\n",
    "    # benchmark_mapping = convert_df_to_dict(df_benchmark)\n",
    "    # for key, values in benchmark_mapping.items():\n",
    "    #     benchmark_mapping[key] = list(set([value.split(' (')[0] for value in values]))\n",
    "\n",
    "    for index, row in df_leaderboard.iterrows():\n",
    "        total_leaderboard_systems += 1\n",
    "        \n",
    "        # if row['Leaderboard name'] == 'MTEB':\n",
    "        #     benchmarks = benchmark_mapping['MTEB'] + benchmark_mapping['CMTEB']\n",
    "        # elif row['Leaderboard name'] in benchmark_mapping:\n",
    "        #     benchmarks = benchmark_mapping[row['Leaderboard name']]\n",
    "        # else:\n",
    "        #     benchmarks = [row['Leaderboard name'].split(' (')[0]]\n",
    "        # df_leaderboard.at[index, 'Supported benchmarks'] = benchmarks\n",
    "        # df_leaderboard.at[index, '#Supported benchmark'] = len(benchmarks)\n",
    "\n",
    "        presentation_formats = set()\n",
    "        organizers = organizer_synonyms_mapping(row['Release organizations (non-pwc)'])\n",
    "        organization_strategies = row['Organization strategies (non-pwc)']\n",
    "        presentation_formats_mapping = row['Presentation formats (non-pwc)']\n",
    "        # submission_avenues = submission_avenue_synonyms_mapping(row['Submission channels (non-pwc)'])\n",
    "        for key, values in presentation_formats_mapping.items():\n",
    "            presentation_formats = presentation_formats.union(set(values))\n",
    "        if row['Platforms'] == ['Papers With Code']:\n",
    "            organizers.add('Papers With Code')\n",
    "            organization_strategies = pwc_organization_strategies.union(organization_strategies)\n",
    "            presentation_formats = presentation_formats.union(presentation_format_pwc)\n",
    "            presentation_formats_mapping['Papers With Code'] = presentation_format_pwc\n",
    "        \n",
    "        df_leaderboard.at[index, '#Presentation format'] = len(presentation_formats)\n",
    "        df_leaderboard.at[index, '#Organization strategy'] = len(organization_strategies)\n",
    "        df_leaderboard.at[index, '#Release organization'] = len(organizers)\n",
    "        df_leaderboard.at[index, 'Organization strategies'] = organization_strategies\n",
    "        df_leaderboard.at[index, 'Release organizations'] = organizers\n",
    "        # df_leaderboard.at[index, 'Submission channels (non-pwc)'] = submission_avenues\n",
    "    \n",
    "        df_leaderboard.at[index, '#Host platform'] = len(row['Platforms'])\n",
    "        # df_leaderboard.at[index, '#Supported language'] = len(row['Supported languages'])\n",
    "        # df_leaderboard.at[index, '#Supported modality'] = len(row['Supported modalities'])\n",
    "\n",
    "        records = 0\n",
    "        leaderboards = 0\n",
    "        model_names = set()\n",
    "        template_metrics = set()\n",
    "    \n",
    "        for file in os.listdir(path_data / row['Leaderboard name']):\n",
    "            host_platform = platform_abbreviation_mapping[file.split('.')[0].split('-')[0]]\n",
    "            if host_platform not in row['Platforms']:\n",
    "                continue\n",
    "        \n",
    "            file_path = path_data / row['Leaderboard name'] / file\n",
    "            df = pd.read_json(file_path)\n",
    "        \n",
    "            leaderboards += 1\n",
    "            records += len(df)\n",
    "        \n",
    "            # df['Model'] = df['Model'].apply(lambda x: x.split('/')[-1])\n",
    "            # df['Model'] = df['Model'].apply(lambda x: x.split('\\n')[0].split('(')[0].strip())\n",
    "            model_names = model_names.union(set(df['Model']))\n",
    "        \n",
    "            file_name = file.split('/')[-1]\n",
    "            if file_name.startswith('pwc'):\n",
    "                keys = set()\n",
    "                for item in df['metrics']:\n",
    "                    for key in item.keys():\n",
    "                        key_processed = key.split('(')[0].lower().strip()\n",
    "                        if key_processed in metrics_synonyms_inverse:\n",
    "                            keys.add(metrics_synonyms_inverse[key_processed])\n",
    "                        else:\n",
    "                            keys.add(key_processed)\n",
    "                template_metrics = template_metrics.union(keys)\n",
    "            # else:\n",
    "            #     column_size = len(df.columns)\n",
    "            #     if column_size == 2:\n",
    "            #         print(f\"{file_path}: {df.at[0, 'Model']}\")\n",
    "    \n",
    "        total_records += records\n",
    "        total_leaderboards += leaderboards\n",
    "        \n",
    "        df_leaderboard.at[index, '#Evaluation record'] = records\n",
    "        df_leaderboard.at[index, '#Participating model'] = len(model_names)\n",
    "        # df_leaderboard.at[index, 'Participating models'] = list(model_names)\n",
    "        df_leaderboard.at[index, '#Leaderboard'] = leaderboards\n",
    "        if template_metrics:\n",
    "            df_leaderboard.at[index, '#Evaluation metric (pwc)'] = len(template_metrics)\n",
    "            df_leaderboard.at[index, 'Evaluation metrics (pwc)'] = list(template_metrics)\n",
    "        \n",
    "    df_leaderboard.to_csv(path_meta / 'leaderboard_processed.csv', index=False)\n",
    "\n",
    "print(f\"Total number of leaderboard systems: {total_leaderboard_systems}\")\n",
    "print(f\"Total number of leaderboards: {total_leaderboards}\")\n",
    "print(f\"Total number of evaluation records: {total_records}\")\n"
   ]
  },
  {
   "cell_type": "code",
   "execution_count": 12,
   "metadata": {},
   "outputs": [
    {
     "data": {
      "image/png": "[encoded data removed]",
      "text/plain": [
       "<Figure size 1500x1500 with 2 Axes>"
      ]
     },
     "metadata": {},
     "output_type": "display_data"
    }
   ],
   "source": [
    "df = pd.read_csv(path_meta / 'leaderboard_processed.csv')\n",
    "numeric_df = df.select_dtypes(include=['float64', 'int64'])\n",
    "numeric_df = numeric_df.drop(columns=['#Evaluation metric (pwc)'])\n",
    "corr_matrix = numeric_df.corr()\n",
    "\n",
    "# Drop the first row\n",
    "corr_matrix_dropped_row = corr_matrix.drop(corr_matrix.index[0])\n",
    "\n",
    "# Drop the last column\n",
    "corr_matrix_dropped = corr_matrix_dropped_row.drop(corr_matrix_dropped_row.columns[-1], axis=1)\n",
    "\n",
    "# Generate a mask for the upper triangle, including the diagonal\n",
    "mask = np.triu(np.ones_like(corr_matrix_dropped, dtype=bool), 1)\n",
    "\n",
    "# Generate a heatmap for the correlation matrix with the mask\n",
    "plt.figure(figsize=(15,15))\n",
    "ax = sns.heatmap(corr_matrix_dropped, annot=True, cmap='coolwarm', fmt=\".3f\", linewidths=.5, mask=mask, vmin=-1, vmax=1, annot_kws={\"size\": font_size})\n",
    "# Enlarge axis font size\n",
    "ax.tick_params(axis='both', which='major', labelsize=font_size)\n",
    "# Rotate y-axis labels to horizontal\n",
    "ax.set_yticklabels(ax.get_yticklabels(), rotation=0) \n",
    "# Adjust color bar (color scale) font size\n",
    "cbar = ax.collections[0].colorbar\n",
    "cbar.ax.tick_params(labelsize=font_size)  # Adjusts the tick labels' font size\n",
    "\n",
    "plt.tight_layout()  # Adjust the layout to make sure everything fits\n",
    "plt.savefig(path_meta / 'leaderboard-attribute-heatmap.pdf', format='pdf')\n",
    "plt.show()\n"
   ]
  },
  {
   "cell_type": "code",
   "execution_count": 14,
   "metadata": {},
   "outputs": [
    {
     "name": "stdout",
     "output_type": "stream",
     "text": [
      "Regular Table is the most prevalent presentation format in leaderboards hosted on GitHub, accounting for 71.54% (88 out of 123) leaderboards.\n",
      "Sortable Table is the most prevalent presentation format in leaderboards hosted on Hugging Face Spaces, accounting for 97.73% (86 out of 88) leaderboards.\n",
      "Sortable Table is the most prevalent presentation format in leaderboards hosted on Papers With Code, accounting for 97.93% (189 out of 193) leaderboards.\n",
      "Sortable Table is the most prevalent presentation format in leaderboards hosted on independent platform, accounting for 71.08% (59 out of 83) leaderboards.\n"
     ]
    },
    {
     "data": {
      "image/png": "[encoded data removed]",
      "text/plain": [
       "<Figure size 1500x800 with 1 Axes>"
      ]
     },
     "metadata": {},
     "output_type": "display_data"
    }
   ],
   "source": [
    "df = pd.read_csv(path_meta / 'leaderboard_processed.csv')\n",
    "df['Presentation formats (non-pwc)'] = df['Presentation formats (non-pwc)'].apply(ast.literal_eval)\n",
    "df['Platforms'] = df['Platforms'].apply(ast.literal_eval)\n",
    "\n",
    "format_counts = defaultdict(lambda: defaultdict(int))\n",
    "for index, row in df.iterrows():\n",
    "    # Loop through each platform and its formats in the dictionary\n",
    "    for platform, formats in row['Presentation formats (non-pwc)'].items():\n",
    "        for format_type in formats:\n",
    "            # Increment the count for the format type under its respective platform\n",
    "            format_counts[platform][format_type] += 1\n",
    "            \n",
    "flattened_data = []\n",
    "for platform, formats in format_counts.items():\n",
    "    for format_type, count in formats.items():\n",
    "        flattened_data.append({'Platform': platform, 'Presentation Format': format_type, 'Frequency': count})\n",
    "        \n",
    "df_presentation = pd.DataFrame(flattened_data)\n",
    "df = df.explode('Platforms')\n",
    "for name, group in df_presentation.groupby('Platform'):\n",
    "    group = group.sort_values(by='Frequency', ascending=False)\n",
    "    print(f\"{group['Presentation Format'].iloc[0]} is the most prevalent presentation format in leaderboards hosted on {name}, accounting for {round(group['Frequency'].iloc[0]/len(df[df['Platforms'] == name])*100,2)}% ({group['Frequency'].iloc[0]} out of {len(df[df['Platforms'] == name])}) leaderboards.\")\n",
    "\n",
    "# Plotting\n",
    "plt.figure(figsize=(15, 8))  # Adjust figure size as needed\n",
    "ax = sns.barplot(\n",
    "    x='Presentation Format', \n",
    "    y='Frequency', \n",
    "    hue='Platform',  # This separates the bars within each group by platform\n",
    "    data=df_presentation, \n",
    "    palette='Set2',  # Choose a palette that makes the bars distinct\n",
    "    dodge=True  # Adjust this to control the gap between bars of different platforms within the same group\n",
    ")\n",
    "\n",
    "# Setting the title and labels with enlarged fonts\n",
    "ax.set_xlabel('Presentation Format', fontsize=font_size)  # Enlarge x-axis label\n",
    "ax.set_ylabel('Number of Leaderboards', fontsize=font_size)  # Enlarge y-axis label\n",
    "plt.xticks(rotation=45, ha='right')  # Rotate x-axis labels for better readability\n",
    "\n",
    "# Enlarge axis ticks font size\n",
    "ax.tick_params(axis='both', which='major', labelsize=font_size)\n",
    "\n",
    "# Adding annotations on top of each bar\n",
    "for p in ax.patches:\n",
    "    if p.get_height():\n",
    "        ax.annotate(format(p.get_height(), '.0f'),  # Format the number presentationed\n",
    "                (p.get_x() + p.get_width() / 2., p.get_height()),  # Position\n",
    "                ha = 'center', va = 'center', \n",
    "                xytext = (0, 10),  # Distance from the top of the bar\n",
    "                textcoords = 'offset points', fontsize=font_size)\n",
    "\n",
    "# Adjust the legend\n",
    "leg = ax.legend(title='Platform')\n",
    "leg.set_title('Platform', prop={'size':font_size})  # Set the title font size\n",
    "for text in leg.get_texts():  # Set the font size for each legend text\n",
    "    text.set_fontsize(font_size)\n",
    "plt.tight_layout()  # Adjust the plot to ensure everything fits without overlapping\n",
    "# Save the plot to a PDF file\n",
    "plt.savefig(path_meta / 'presentation-format-distribution.pdf', bbox_inches='tight')\n",
    "plt.show()\n",
    "\n",
    "df_split = df_presentation.groupby('Presentation Format').sum().reset_index()\n",
    "df_split['Weight'] = 1\n",
    "\n",
    "statistics = {\n",
    "    'Distribution': 'Leaderboard Systems across Presentation Formats',\n",
    "    'Mean': np.mean(df_split['Frequency']),\n",
    "    'Median': np.median(df_split['Frequency']),\n",
    "    'IQR': df_split['Frequency'].quantile(0.75) - df_split['Frequency'].quantile(0.25),\n",
    "    'Gini Coefficient': ineqpy.inequality.gini(data=df_split, income='Frequency', weights='Weight'),\n",
    "}\n",
    "if os.path.exists(path_meta / 'leaderboard_statistics.csv'):\n",
    "    df_statistics = pd.read_csv(path_meta / 'leaderboard_statistics.csv')\n",
    "else:\n",
    "    df_statistics = pd.DataFrame()\n",
    "df_statistics = pd.concat([df_statistics, pd.DataFrame([statistics])], ignore_index=True)\n",
    "df_statistics.drop_duplicates(subset=['Distribution'], keep='last', inplace=True)\n",
    "df_statistics.sort_values(by='Distribution', inplace=True)\n",
    "df_statistics.to_csv(path_meta / 'leaderboard_statistics.csv', index=False)\n"
   ]
  },
  {
   "cell_type": "code",
   "execution_count": 15,
   "metadata": {},
   "outputs": [
    {
     "name": "stdout",
     "output_type": "stream",
     "text": [
      "Models Leaderboard supports the highest number of presentation formats up to 5.\n"
     ]
    },
    {
     "data": {
      "application/vnd.plotly.v1+json": {
       "config": {
        "plotlyServerURL": "https://plot.ly"
       },
       "data": [
        {
         "orientation": "h",
         "text": [
          5,
          4,
          3,
          3,
          3,
          3,
          3,
          3,
          3,
          3,
          3,
          3,
          3,
          3,
          3
         ],
         "textposition": "auto",
         "type": "bar",
         "x": [
          5,
          4,
          3,
          3,
          3,
          3,
          3,
          3,
          3,
          3,
          3,
          3,
          3,
          3,
          3
         ],
         "y": [
          "Models Leaderboard",
          "LAiW",
          "LMSYS Chatbot Arena Leaderboard",
          "TravelPlanner",
          "Guerra LLM AI Leaderboard",
          "SuperCLUE-Industry",
          "MMMU",
          "SuperCLUE-Agent",
          "Berkeley Function Calling Leaderboard",
          "CMMMU",
          "MINT",
          "MathVista",
          "Open Dutch LLM Evaluation Leaderboard",
          "T-Eval",
          "Do-Not-Answer"
         ]
        }
       ],
       "layout": {
        "autosize": true,
        "margin": {
         "b": 10,
         "l": 10,
         "pad": 4,
         "r": 10,
         "t": 10
        },
        "template": {
         "data": {
          "bar": [
           {
            "error_x": {
             "color": "#2a3f5f"
            },
            "error_y": {
             "color": "#2a3f5f"
            },
            "marker": {
             "line": {
              "color": "#E5ECF6",
              "width": 0.5
             },
             "pattern": {
              "fillmode": "overlay",
              "size": 10,
              "solidity": 0.2
             }
            },
            "type": "bar"
           }
          ],
          "barpolar": [
           {
            "marker": {
             "line": {
              "color": "#E5ECF6",
              "width": 0.5
             },
             "pattern": {
              "fillmode": "overlay",
              "size": 10,
              "solidity": 0.2
             }
            },
            "type": "barpolar"
           }
          ],
          "carpet": [
           {
            "aaxis": {
             "endlinecolor": "#2a3f5f",
             "gridcolor": "white",
             "linecolor": "white",
             "minorgridcolor": "white",
             "startlinecolor": "#2a3f5f"
            },
            "baxis": {
             "endlinecolor": "#2a3f5f",
             "gridcolor": "white",
             "linecolor": "white",
             "minorgridcolor": "white",
             "startlinecolor": "#2a3f5f"
            },
            "type": "carpet"
           }
          ],
          "choropleth": [
           {
            "colorbar": {
             "outlinewidth": 0,
             "ticks": ""
            },
            "type": "choropleth"
           }
          ],
          "contour": [
           {
            "colorbar": {
             "outlinewidth": 0,
             "ticks": ""
            },
            "colorscale": [
             [
              0,
              "#0d0887"
             ],
             [
              0.1111111111111111,
              "#46039f"
             ],
             [
              0.2222222222222222,
              "#7201a8"
             ],
             [
              0.3333333333333333,
              "#9c179e"
             ],
             [
              0.4444444444444444,
              "#bd3786"
             ],
             [
              0.5555555555555556,
              "#d8576b"
             ],
             [
              0.6666666666666666,
              "#ed7953"
             ],
             [
              0.7777777777777778,
              "#fb9f3a"
             ],
             [
              0.8888888888888888,
              "#fdca26"
             ],
             [
              1,
              "#f0f921"
             ]
            ],
            "type": "contour"
           }
          ],
          "contourcarpet": [
           {
            "colorbar": {
             "outlinewidth": 0,
             "ticks": ""
            },
            "type": "contourcarpet"
           }
          ],
          "heatmap": [
           {
            "colorbar": {
             "outlinewidth": 0,
             "ticks": ""
            },
            "colorscale": [
             [
              0,
              "#0d0887"
             ],
             [
              0.1111111111111111,
              "#46039f"
             ],
             [
              0.2222222222222222,
              "#7201a8"
             ],
             [
              0.3333333333333333,
              "#9c179e"
             ],
             [
              0.4444444444444444,
              "#bd3786"
             ],
             [
              0.5555555555555556,
              "#d8576b"
             ],
             [
              0.6666666666666666,
              "#ed7953"
             ],
             [
              0.7777777777777778,
              "#fb9f3a"
             ],
             [
              0.8888888888888888,
              "#fdca26"
             ],
             [
              1,
              "#f0f921"
             ]
            ],
            "type": "heatmap"
           }
          ],
          "heatmapgl": [
           {
            "colorbar": {
             "outlinewidth": 0,
             "ticks": ""
            },
            "colorscale": [
             [
              0,
              "#0d0887"
             ],
             [
              0.1111111111111111,
              "#46039f"
             ],
             [
              0.2222222222222222,
              "#7201a8"
             ],
             [
              0.3333333333333333,
              "#9c179e"
             ],
             [
              0.4444444444444444,
              "#bd3786"
             ],
             [
              0.5555555555555556,
              "#d8576b"
             ],
             [
              0.6666666666666666,
              "#ed7953"
             ],
             [
              0.7777777777777778,
              "#fb9f3a"
             ],
             [
              0.8888888888888888,
              "#fdca26"
             ],
             [
              1,
              "#f0f921"
             ]
            ],
            "type": "heatmapgl"
           }
          ],
          "histogram": [
           {
            "marker": {
             "pattern": {
              "fillmode": "overlay",
              "size": 10,
              "solidity": 0.2
             }
            },
            "type": "histogram"
           }
          ],
          "histogram2d": [
           {
            "colorbar": {
             "outlinewidth": 0,
             "ticks": ""
            },
            "colorscale": [
             [
              0,
              "#0d0887"
             ],
             [
              0.1111111111111111,
              "#46039f"
             ],
             [
              0.2222222222222222,
              "#7201a8"
             ],
             [
              0.3333333333333333,
              "#9c179e"
             ],
             [
              0.4444444444444444,
              "#bd3786"
             ],
             [
              0.5555555555555556,
              "#d8576b"
             ],
             [
              0.6666666666666666,
              "#ed7953"
             ],
             [
              0.7777777777777778,
              "#fb9f3a"
             ],
             [
              0.8888888888888888,
              "#fdca26"
             ],
             [
              1,
              "#f0f921"
             ]
            ],
            "type": "histogram2d"
           }
          ],
          "histogram2dcontour": [
           {
            "colorbar": {
             "outlinewidth": 0,
             "ticks": ""
            },
            "colorscale": [
             [
              0,
              "#0d0887"
             ],
             [
              0.1111111111111111,
              "#46039f"
             ],
             [
              0.2222222222222222,
              "#7201a8"
             ],
             [
              0.3333333333333333,
              "#9c179e"
             ],
             [
              0.4444444444444444,
              "#bd3786"
             ],
             [
              0.5555555555555556,
              "#d8576b"
             ],
             [
              0.6666666666666666,
              "#ed7953"
             ],
             [
              0.7777777777777778,
              "#fb9f3a"
             ],
             [
              0.8888888888888888,
              "#fdca26"
             ],
             [
              1,
              "#f0f921"
             ]
            ],
            "type": "histogram2dcontour"
           }
          ],
          "mesh3d": [
           {
            "colorbar": {
             "outlinewidth": 0,
             "ticks": ""
            },
            "type": "mesh3d"
           }
          ],
          "parcoords": [
           {
            "line": {
             "colorbar": {
              "outlinewidth": 0,
              "ticks": ""
             }
            },
            "type": "parcoords"
           }
          ],
          "pie": [
           {
            "automargin": true,
            "type": "pie"
           }
          ],
          "scatter": [
           {
            "fillpattern": {
             "fillmode": "overlay",
             "size": 10,
             "solidity": 0.2
            },
            "type": "scatter"
           }
          ],
          "scatter3d": [
           {
            "line": {
             "colorbar": {
              "outlinewidth": 0,
              "ticks": ""
             }
            },
            "marker": {
             "colorbar": {
              "outlinewidth": 0,
              "ticks": ""
             }
            },
            "type": "scatter3d"
           }
          ],
          "scattercarpet": [
           {
            "marker": {
             "colorbar": {
              "outlinewidth": 0,
              "ticks": ""
             }
            },
            "type": "scattercarpet"
           }
          ],
          "scattergeo": [
           {
            "marker": {
             "colorbar": {
              "outlinewidth": 0,
              "ticks": ""
             }
            },
            "type": "scattergeo"
           }
          ],
          "scattergl": [
           {
            "marker": {
             "colorbar": {
              "outlinewidth": 0,
              "ticks": ""
             }
            },
            "type": "scattergl"
           }
          ],
          "scattermapbox": [
           {
            "marker": {
             "colorbar": {
              "outlinewidth": 0,
              "ticks": ""
             }
            },
            "type": "scattermapbox"
           }
          ],
          "scatterpolar": [
           {
            "marker": {
             "colorbar": {
              "outlinewidth": 0,
              "ticks": ""
             }
            },
            "type": "scatterpolar"
           }
          ],
          "scatterpolargl": [
           {
            "marker": {
             "colorbar": {
              "outlinewidth": 0,
              "ticks": ""
             }
            },
            "type": "scatterpolargl"
           }
          ],
          "scatterternary": [
           {
            "marker": {
             "colorbar": {
              "outlinewidth": 0,
              "ticks": ""
             }
            },
            "type": "scatterternary"
           }
          ],
          "surface": [
           {
            "colorbar": {
             "outlinewidth": 0,
             "ticks": ""
            },
            "colorscale": [
             [
              0,
              "#0d0887"
             ],
             [
              0.1111111111111111,
              "#46039f"
             ],
             [
              0.2222222222222222,
              "#7201a8"
             ],
             [
              0.3333333333333333,
              "#9c179e"
             ],
             [
              0.4444444444444444,
              "#bd3786"
             ],
             [
              0.5555555555555556,
              "#d8576b"
             ],
             [
              0.6666666666666666,
              "#ed7953"
             ],
             [
              0.7777777777777778,
              "#fb9f3a"
             ],
             [
              0.8888888888888888,
              "#fdca26"
             ],
             [
              1,
              "#f0f921"
             ]
            ],
            "type": "surface"
           }
          ],
          "table": [
           {
            "cells": {
             "fill": {
              "color": "#EBF0F8"
             },
             "line": {
              "color": "white"
             }
            },
            "header": {
             "fill": {
              "color": "#C8D4E3"
             },
             "line": {
              "color": "white"
             }
            },
            "type": "table"
           }
          ]
         },
         "layout": {
          "annotationdefaults": {
           "arrowcolor": "#2a3f5f",
           "arrowhead": 0,
           "arrowwidth": 1
          },
          "autotypenumbers": "strict",
          "coloraxis": {
           "colorbar": {
            "outlinewidth": 0,
            "ticks": ""
           }
          },
          "colorscale": {
           "diverging": [
            [
             0,
             "#8e0152"
            ],
            [
             0.1,
             "#c51b7d"
            ],
            [
             0.2,
             "#de77ae"
            ],
            [
             0.3,
             "#f1b6da"
            ],
            [
             0.4,
             "#fde0ef"
            ],
            [
             0.5,
             "#f7f7f7"
            ],
            [
             0.6,
             "#e6f5d0"
            ],
            [
             0.7,
             "#b8e186"
            ],
            [
             0.8,
             "#7fbc41"
            ],
            [
             0.9,
             "#4d9221"
            ],
            [
             1,
             "#276419"
            ]
           ],
           "sequential": [
            [
             0,
             "#0d0887"
            ],
            [
             0.1111111111111111,
             "#46039f"
            ],
            [
             0.2222222222222222,
             "#7201a8"
            ],
            [
             0.3333333333333333,
             "#9c179e"
            ],
            [
             0.4444444444444444,
             "#bd3786"
            ],
            [
             0.5555555555555556,
             "#d8576b"
            ],
            [
             0.6666666666666666,
             "#ed7953"
            ],
            [
             0.7777777777777778,
             "#fb9f3a"
            ],
            [
             0.8888888888888888,
             "#fdca26"
            ],
            [
             1,
             "#f0f921"
            ]
           ],
           "sequentialminus": [
            [
             0,
             "#0d0887"
            ],
            [
             0.1111111111111111,
             "#46039f"
            ],
            [
             0.2222222222222222,
             "#7201a8"
            ],
            [
             0.3333333333333333,
             "#9c179e"
            ],
            [
             0.4444444444444444,
             "#bd3786"
            ],
            [
             0.5555555555555556,
             "#d8576b"
            ],
            [
             0.6666666666666666,
             "#ed7953"
            ],
            [
             0.7777777777777778,
             "#fb9f3a"
            ],
            [
             0.8888888888888888,
             "#fdca26"
            ],
            [
             1,
             "#f0f921"
            ]
           ]
          },
          "colorway": [
           "#636efa",
           "#EF553B",
           "#00cc96",
           "#ab63fa",
           "#FFA15A",
           "#19d3f3",
           "#FF6692",
           "#B6E880",
           "#FF97FF",
           "#FECB52"
          ],
          "font": {
           "color": "#2a3f5f"
          },
          "geo": {
           "bgcolor": "white",
           "lakecolor": "white",
           "landcolor": "#E5ECF6",
           "showlakes": true,
           "showland": true,
           "subunitcolor": "white"
          },
          "hoverlabel": {
           "align": "left"
          },
          "hovermode": "closest",
          "mapbox": {
           "style": "light"
          },
          "paper_bgcolor": "white",
          "plot_bgcolor": "#E5ECF6",
          "polar": {
           "angularaxis": {
            "gridcolor": "white",
            "linecolor": "white",
            "ticks": ""
           },
           "bgcolor": "#E5ECF6",
           "radialaxis": {
            "gridcolor": "white",
            "linecolor": "white",
            "ticks": ""
           }
          },
          "scene": {
           "xaxis": {
            "backgroundcolor": "#E5ECF6",
            "gridcolor": "white",
            "gridwidth": 2,
            "linecolor": "white",
            "showbackground": true,
            "ticks": "",
            "zerolinecolor": "white"
           },
           "yaxis": {
            "backgroundcolor": "#E5ECF6",
            "gridcolor": "white",
            "gridwidth": 2,
            "linecolor": "white",
            "showbackground": true,
            "ticks": "",
            "zerolinecolor": "white"
           },
           "zaxis": {
            "backgroundcolor": "#E5ECF6",
            "gridcolor": "white",
            "gridwidth": 2,
            "linecolor": "white",
            "showbackground": true,
            "ticks": "",
            "zerolinecolor": "white"
           }
          },
          "shapedefaults": {
           "line": {
            "color": "#2a3f5f"
           }
          },
          "ternary": {
           "aaxis": {
            "gridcolor": "white",
            "linecolor": "white",
            "ticks": ""
           },
           "baxis": {
            "gridcolor": "white",
            "linecolor": "white",
            "ticks": ""
           },
           "bgcolor": "#E5ECF6",
           "caxis": {
            "gridcolor": "white",
            "linecolor": "white",
            "ticks": ""
           }
          },
          "title": {
           "x": 0.05
          },
          "xaxis": {
           "automargin": true,
           "gridcolor": "white",
           "linecolor": "white",
           "ticks": "",
           "title": {
            "standoff": 15
           },
           "zerolinecolor": "white",
           "zerolinewidth": 2
          },
          "yaxis": {
           "automargin": true,
           "gridcolor": "white",
           "linecolor": "white",
           "ticks": "",
           "title": {
            "standoff": 15
           },
           "zerolinecolor": "white",
           "zerolinewidth": 2
          }
         }
        },
        "xaxis": {
         "title": {
          "text": "Number of Presentation Format"
         }
        },
        "yaxis": {
         "autorange": "reversed",
         "title": {
          "text": "Leaderboard Name"
         }
        }
       }
      }
     },
     "metadata": {},
     "output_type": "display_data"
    }
   ],
   "source": [
    "df = pd.read_csv(path_meta / 'leaderboard_processed.csv')\n",
    "\n",
    "statistics = {\n",
    "    'Distribution': 'Presentation Formats across Leaderboard Systems',\n",
    "    'Mean': np.mean(df['#Presentation format']),\n",
    "    'Median': np.median(df['#Presentation format']),\n",
    "    'IQR': df['#Presentation format'].quantile(0.75) - df['#Presentation format'].quantile(0.25),\n",
    "}\n",
    "df_statistics = pd.read_csv(path_meta / 'leaderboard_statistics.csv')\n",
    "df_statistics = pd.concat([df_statistics, pd.DataFrame([statistics])], ignore_index=True)\n",
    "df_statistics.drop_duplicates(subset=['Distribution'], keep='last', inplace=True)\n",
    "df_statistics.sort_values(by='Distribution', inplace=True)\n",
    "df_statistics.to_csv(path_meta / 'leaderboard_statistics.csv', index=False)\n",
    "\n",
    "df_top = df.drop_duplicates(subset=['Leaderboard name']).sort_values(by='#Presentation format', ascending=False).head(15)\n",
    "print(f\"{df_top['Leaderboard name'].iloc[0]} supports the highest number of presentation formats up to {int(df_top['#Presentation format'].iloc[0])}.\")\n",
    "\n",
    "fig = go.Figure(go.Bar(\n",
    "        x=df_top['#Presentation format'],  # Values for the bar lengths\n",
    "        y=df_top['Leaderboard name'],  # Categories for each bar\n",
    "        orientation='h',  # Sets the bars to be horizontal\n",
    "        text=df_top['#Presentation format'],  # Adds the values as text on each bar\n",
    "        textposition='auto'  # Automatically positions the text on the bars\n",
    "))\n",
    "fig.update_layout(\n",
    "        xaxis_title='Number of Presentation Format',\n",
    "        yaxis_title='Leaderboard Name',\n",
    "        yaxis_autorange='reversed'  # This line makes the bars go top-down\n",
    ")\n",
    "# Update the layout for a tighter look\n",
    "fig.update_layout(\n",
    "    autosize=True,\n",
    "    margin=dict(\n",
    "        l=10,  # Left margin\n",
    "        r=10,  # Right margin\n",
    "        b=10,  # Bottom margin\n",
    "        t=10,  # Top margin\n",
    "        pad=4  # Padding between the plot and the margin\n",
    "    )\n",
    ")\n",
    "fig.show()"
   ]
  },
  {
   "cell_type": "code",
   "execution_count": 16,
   "metadata": {},
   "outputs": [
    {
     "name": "stdout",
     "output_type": "stream",
     "text": [
      "12.9% (56 out of 434) leaderboard systems provide downloadable format of the leaderboards.\n",
      "CSV is the most popular storage format of leaderboards, accounting for 78.57% (44 out of 56) downloadable leaderboard systems.\n"
     ]
    },
    {
     "data": {
      "application/vnd.plotly.v1+json": {
       "config": {
        "plotlyServerURL": "https://plot.ly"
       },
       "data": [
        {
         "alignmentgroup": "True",
         "hovertemplate": "Downloadable format=%{x}<br>Number of Leaderboards=%{y}<extra></extra>",
         "legendgroup": "",
         "marker": {
          "color": "#636efa",
          "pattern": {
           "shape": ""
          }
         },
         "name": "",
         "offsetgroup": "",
         "orientation": "v",
         "showlegend": false,
         "textposition": "auto",
         "texttemplate": "%{y}",
         "type": "bar",
         "x": [
          "CSV",
          "JSON",
          "XLSX",
          "LATEX",
          "TSV",
          "XLS",
          "MD",
          "JSONL"
         ],
         "xaxis": "x",
         "y": [
          78.57,
          8.93,
          5.36,
          3.57,
          3.57,
          1.79,
          1.79,
          1.79
         ],
         "yaxis": "y"
        }
       ],
       "layout": {
        "autosize": true,
        "barmode": "relative",
        "legend": {
         "tracegroupgap": 0
        },
        "margin": {
         "b": 10,
         "l": 10,
         "pad": 4,
         "r": 10,
         "t": 10
        },
        "template": {
         "data": {
          "bar": [
           {
            "error_x": {
             "color": "#2a3f5f"
            },
            "error_y": {
             "color": "#2a3f5f"
            },
            "marker": {
             "line": {
              "color": "#E5ECF6",
              "width": 0.5
             },
             "pattern": {
              "fillmode": "overlay",
              "size": 10,
              "solidity": 0.2
             }
            },
            "type": "bar"
           }
          ],
          "barpolar": [
           {
            "marker": {
             "line": {
              "color": "#E5ECF6",
              "width": 0.5
             },
             "pattern": {
              "fillmode": "overlay",
              "size": 10,
              "solidity": 0.2
             }
            },
            "type": "barpolar"
           }
          ],
          "carpet": [
           {
            "aaxis": {
             "endlinecolor": "#2a3f5f",
             "gridcolor": "white",
             "linecolor": "white",
             "minorgridcolor": "white",
             "startlinecolor": "#2a3f5f"
            },
            "baxis": {
             "endlinecolor": "#2a3f5f",
             "gridcolor": "white",
             "linecolor": "white",
             "minorgridcolor": "white",
             "startlinecolor": "#2a3f5f"
            },
            "type": "carpet"
           }
          ],
          "choropleth": [
           {
            "colorbar": {
             "outlinewidth": 0,
             "ticks": ""
            },
            "type": "choropleth"
           }
          ],
          "contour": [
           {
            "colorbar": {
             "outlinewidth": 0,
             "ticks": ""
            },
            "colorscale": [
             [
              0,
              "#0d0887"
             ],
             [
              0.1111111111111111,
              "#46039f"
             ],
             [
              0.2222222222222222,
              "#7201a8"
             ],
             [
              0.3333333333333333,
              "#9c179e"
             ],
             [
              0.4444444444444444,
              "#bd3786"
             ],
             [
              0.5555555555555556,
              "#d8576b"
             ],
             [
              0.6666666666666666,
              "#ed7953"
             ],
             [
              0.7777777777777778,
              "#fb9f3a"
             ],
             [
              0.8888888888888888,
              "#fdca26"
             ],
             [
              1,
              "#f0f921"
             ]
            ],
            "type": "contour"
           }
          ],
          "contourcarpet": [
           {
            "colorbar": {
             "outlinewidth": 0,
             "ticks": ""
            },
            "type": "contourcarpet"
           }
          ],
          "heatmap": [
           {
            "colorbar": {
             "outlinewidth": 0,
             "ticks": ""
            },
            "colorscale": [
             [
              0,
              "#0d0887"
             ],
             [
              0.1111111111111111,
              "#46039f"
             ],
             [
              0.2222222222222222,
              "#7201a8"
             ],
             [
              0.3333333333333333,
              "#9c179e"
             ],
             [
              0.4444444444444444,
              "#bd3786"
             ],
             [
              0.5555555555555556,
              "#d8576b"
             ],
             [
              0.6666666666666666,
              "#ed7953"
             ],
             [
              0.7777777777777778,
              "#fb9f3a"
             ],
             [
              0.8888888888888888,
              "#fdca26"
             ],
             [
              1,
              "#f0f921"
             ]
            ],
            "type": "heatmap"
           }
          ],
          "heatmapgl": [
           {
            "colorbar": {
             "outlinewidth": 0,
             "ticks": ""
            },
            "colorscale": [
             [
              0,
              "#0d0887"
             ],
             [
              0.1111111111111111,
              "#46039f"
             ],
             [
              0.2222222222222222,
              "#7201a8"
             ],
             [
              0.3333333333333333,
              "#9c179e"
             ],
             [
              0.4444444444444444,
              "#bd3786"
             ],
             [
              0.5555555555555556,
              "#d8576b"
             ],
             [
              0.6666666666666666,
              "#ed7953"
             ],
             [
              0.7777777777777778,
              "#fb9f3a"
             ],
             [
              0.8888888888888888,
              "#fdca26"
             ],
             [
              1,
              "#f0f921"
             ]
            ],
            "type": "heatmapgl"
           }
          ],
          "histogram": [
           {
            "marker": {
             "pattern": {
              "fillmode": "overlay",
              "size": 10,
              "solidity": 0.2
             }
            },
            "type": "histogram"
           }
          ],
          "histogram2d": [
           {
            "colorbar": {
             "outlinewidth": 0,
             "ticks": ""
            },
            "colorscale": [
             [
              0,
              "#0d0887"
             ],
             [
              0.1111111111111111,
              "#46039f"
             ],
             [
              0.2222222222222222,
              "#7201a8"
             ],
             [
              0.3333333333333333,
              "#9c179e"
             ],
             [
              0.4444444444444444,
              "#bd3786"
             ],
             [
              0.5555555555555556,
              "#d8576b"
             ],
             [
              0.6666666666666666,
              "#ed7953"
             ],
             [
              0.7777777777777778,
              "#fb9f3a"
             ],
             [
              0.8888888888888888,
              "#fdca26"
             ],
             [
              1,
              "#f0f921"
             ]
            ],
            "type": "histogram2d"
           }
          ],
          "histogram2dcontour": [
           {
            "colorbar": {
             "outlinewidth": 0,
             "ticks": ""
            },
            "colorscale": [
             [
              0,
              "#0d0887"
             ],
             [
              0.1111111111111111,
              "#46039f"
             ],
             [
              0.2222222222222222,
              "#7201a8"
             ],
             [
              0.3333333333333333,
              "#9c179e"
             ],
             [
              0.4444444444444444,
              "#bd3786"
             ],
             [
              0.5555555555555556,
              "#d8576b"
             ],
             [
              0.6666666666666666,
              "#ed7953"
             ],
             [
              0.7777777777777778,
              "#fb9f3a"
             ],
             [
              0.8888888888888888,
              "#fdca26"
             ],
             [
              1,
              "#f0f921"
             ]
            ],
            "type": "histogram2dcontour"
           }
          ],
          "mesh3d": [
           {
            "colorbar": {
             "outlinewidth": 0,
             "ticks": ""
            },
            "type": "mesh3d"
           }
          ],
          "parcoords": [
           {
            "line": {
             "colorbar": {
              "outlinewidth": 0,
              "ticks": ""
             }
            },
            "type": "parcoords"
           }
          ],
          "pie": [
           {
            "automargin": true,
            "type": "pie"
           }
          ],
          "scatter": [
           {
            "fillpattern": {
             "fillmode": "overlay",
             "size": 10,
             "solidity": 0.2
            },
            "type": "scatter"
           }
          ],
          "scatter3d": [
           {
            "line": {
             "colorbar": {
              "outlinewidth": 0,
              "ticks": ""
             }
            },
            "marker": {
             "colorbar": {
              "outlinewidth": 0,
              "ticks": ""
             }
            },
            "type": "scatter3d"
           }
          ],
          "scattercarpet": [
           {
            "marker": {
             "colorbar": {
              "outlinewidth": 0,
              "ticks": ""
             }
            },
            "type": "scattercarpet"
           }
          ],
          "scattergeo": [
           {
            "marker": {
             "colorbar": {
              "outlinewidth": 0,
              "ticks": ""
             }
            },
            "type": "scattergeo"
           }
          ],
          "scattergl": [
           {
            "marker": {
             "colorbar": {
              "outlinewidth": 0,
              "ticks": ""
             }
            },
            "type": "scattergl"
           }
          ],
          "scattermapbox": [
           {
            "marker": {
             "colorbar": {
              "outlinewidth": 0,
              "ticks": ""
             }
            },
            "type": "scattermapbox"
           }
          ],
          "scatterpolar": [
           {
            "marker": {
             "colorbar": {
              "outlinewidth": 0,
              "ticks": ""
             }
            },
            "type": "scatterpolar"
           }
          ],
          "scatterpolargl": [
           {
            "marker": {
             "colorbar": {
              "outlinewidth": 0,
              "ticks": ""
             }
            },
            "type": "scatterpolargl"
           }
          ],
          "scatterternary": [
           {
            "marker": {
             "colorbar": {
              "outlinewidth": 0,
              "ticks": ""
             }
            },
            "type": "scatterternary"
           }
          ],
          "surface": [
           {
            "colorbar": {
             "outlinewidth": 0,
             "ticks": ""
            },
            "colorscale": [
             [
              0,
              "#0d0887"
             ],
             [
              0.1111111111111111,
              "#46039f"
             ],
             [
              0.2222222222222222,
              "#7201a8"
             ],
             [
              0.3333333333333333,
              "#9c179e"
             ],
             [
              0.4444444444444444,
              "#bd3786"
             ],
             [
              0.5555555555555556,
              "#d8576b"
             ],
             [
              0.6666666666666666,
              "#ed7953"
             ],
             [
              0.7777777777777778,
              "#fb9f3a"
             ],
             [
              0.8888888888888888,
              "#fdca26"
             ],
             [
              1,
              "#f0f921"
             ]
            ],
            "type": "surface"
           }
          ],
          "table": [
           {
            "cells": {
             "fill": {
              "color": "#EBF0F8"
             },
             "line": {
              "color": "white"
             }
            },
            "header": {
             "fill": {
              "color": "#C8D4E3"
             },
             "line": {
              "color": "white"
             }
            },
            "type": "table"
           }
          ]
         },
         "layout": {
          "annotationdefaults": {
           "arrowcolor": "#2a3f5f",
           "arrowhead": 0,
           "arrowwidth": 1
          },
          "autotypenumbers": "strict",
          "coloraxis": {
           "colorbar": {
            "outlinewidth": 0,
            "ticks": ""
           }
          },
          "colorscale": {
           "diverging": [
            [
             0,
             "#8e0152"
            ],
            [
             0.1,
             "#c51b7d"
            ],
            [
             0.2,
             "#de77ae"
            ],
            [
             0.3,
             "#f1b6da"
            ],
            [
             0.4,
             "#fde0ef"
            ],
            [
             0.5,
             "#f7f7f7"
            ],
            [
             0.6,
             "#e6f5d0"
            ],
            [
             0.7,
             "#b8e186"
            ],
            [
             0.8,
             "#7fbc41"
            ],
            [
             0.9,
             "#4d9221"
            ],
            [
             1,
             "#276419"
            ]
           ],
           "sequential": [
            [
             0,
             "#0d0887"
            ],
            [
             0.1111111111111111,
             "#46039f"
            ],
            [
             0.2222222222222222,
             "#7201a8"
            ],
            [
             0.3333333333333333,
             "#9c179e"
            ],
            [
             0.4444444444444444,
             "#bd3786"
            ],
            [
             0.5555555555555556,
             "#d8576b"
            ],
            [
             0.6666666666666666,
             "#ed7953"
            ],
            [
             0.7777777777777778,
             "#fb9f3a"
            ],
            [
             0.8888888888888888,
             "#fdca26"
            ],
            [
             1,
             "#f0f921"
            ]
           ],
           "sequentialminus": [
            [
             0,
             "#0d0887"
            ],
            [
             0.1111111111111111,
             "#46039f"
            ],
            [
             0.2222222222222222,
             "#7201a8"
            ],
            [
             0.3333333333333333,
             "#9c179e"
            ],
            [
             0.4444444444444444,
             "#bd3786"
            ],
            [
             0.5555555555555556,
             "#d8576b"
            ],
            [
             0.6666666666666666,
             "#ed7953"
            ],
            [
             0.7777777777777778,
             "#fb9f3a"
            ],
            [
             0.8888888888888888,
             "#fdca26"
            ],
            [
             1,
             "#f0f921"
            ]
           ]
          },
          "colorway": [
           "#636efa",
           "#EF553B",
           "#00cc96",
           "#ab63fa",
           "#FFA15A",
           "#19d3f3",
           "#FF6692",
           "#B6E880",
           "#FF97FF",
           "#FECB52"
          ],
          "font": {
           "color": "#2a3f5f"
          },
          "geo": {
           "bgcolor": "white",
           "lakecolor": "white",
           "landcolor": "#E5ECF6",
           "showlakes": true,
           "showland": true,
           "subunitcolor": "white"
          },
          "hoverlabel": {
           "align": "left"
          },
          "hovermode": "closest",
          "mapbox": {
           "style": "light"
          },
          "paper_bgcolor": "white",
          "plot_bgcolor": "#E5ECF6",
          "polar": {
           "angularaxis": {
            "gridcolor": "white",
            "linecolor": "white",
            "ticks": ""
           },
           "bgcolor": "#E5ECF6",
           "radialaxis": {
            "gridcolor": "white",
            "linecolor": "white",
            "ticks": ""
           }
          },
          "scene": {
           "xaxis": {
            "backgroundcolor": "#E5ECF6",
            "gridcolor": "white",
            "gridwidth": 2,
            "linecolor": "white",
            "showbackground": true,
            "ticks": "",
            "zerolinecolor": "white"
           },
           "yaxis": {
            "backgroundcolor": "#E5ECF6",
            "gridcolor": "white",
            "gridwidth": 2,
            "linecolor": "white",
            "showbackground": true,
            "ticks": "",
            "zerolinecolor": "white"
           },
           "zaxis": {
            "backgroundcolor": "#E5ECF6",
            "gridcolor": "white",
            "gridwidth": 2,
            "linecolor": "white",
            "showbackground": true,
            "ticks": "",
            "zerolinecolor": "white"
           }
          },
          "shapedefaults": {
           "line": {
            "color": "#2a3f5f"
           }
          },
          "ternary": {
           "aaxis": {
            "gridcolor": "white",
            "linecolor": "white",
            "ticks": ""
           },
           "baxis": {
            "gridcolor": "white",
            "linecolor": "white",
            "ticks": ""
           },
           "bgcolor": "#E5ECF6",
           "caxis": {
            "gridcolor": "white",
            "linecolor": "white",
            "ticks": ""
           }
          },
          "title": {
           "x": 0.05
          },
          "xaxis": {
           "automargin": true,
           "gridcolor": "white",
           "linecolor": "white",
           "ticks": "",
           "title": {
            "standoff": 15
           },
           "zerolinecolor": "white",
           "zerolinewidth": 2
          },
          "yaxis": {
           "automargin": true,
           "gridcolor": "white",
           "linecolor": "white",
           "ticks": "",
           "title": {
            "standoff": 15
           },
           "zerolinecolor": "white",
           "zerolinewidth": 2
          }
         }
        },
        "xaxis": {
         "anchor": "y",
         "domain": [
          0,
          1
         ],
         "title": {
          "text": "Downloadable format"
         }
        },
        "yaxis": {
         "anchor": "x",
         "domain": [
          0,
          1
         ],
         "title": {
          "text": "Number of Leaderboards"
         }
        }
       }
      }
     },
     "metadata": {},
     "output_type": "display_data"
    }
   ],
   "source": [
    "df = pd.read_csv(path_meta / 'leaderboard_processed.csv')\n",
    "df['Downloadable format'] = df['Downloadable format'].apply(ast.literal_eval)\n",
    "print(f\"{round(len(df[df['Downloadable format'].map(len) > 0])/len(df)*100,2)}% ({len(df[df['Downloadable format'].map(len) > 0])} out of {len(df)}) leaderboard systems provide downloadable format of the leaderboards.\")\n",
    "\n",
    "df = df[df['Downloadable format'].map(len) > 0]\n",
    "df_split = df.explode('Downloadable format')['Downloadable format'].value_counts().reset_index(name='Frequency')\n",
    "print(f\"{df_split['Downloadable format'].iloc[0]} is the most popular storage format of leaderboards, accounting for {round(df_split['Frequency'].iloc[0]/len(df)*100,2)}% ({df_split['Frequency'].iloc[0]} out of {len(df)}) downloadable leaderboard systems.\")\n",
    "df_split['Weight'] = 1\n",
    "\n",
    "statistics = {\n",
    "    'Distribution': 'Leaderboard Systems across Downloadable Formats',\n",
    "    'Mean': np.mean(df_split['Frequency']),\n",
    "    'Median': np.median(df_split['Frequency']),\n",
    "    'IQR': df_split['Frequency'].quantile(0.75) - df_split['Frequency'].quantile(0.25),\n",
    "    'Gini Coefficient': ineqpy.inequality.gini(data=df_split, income='Frequency', weights='Weight'),\n",
    "}\n",
    "df_statistics = pd.read_csv(path_meta / 'leaderboard_statistics.csv')\n",
    "df_statistics = pd.concat([df_statistics, pd.DataFrame([statistics])], ignore_index=True)\n",
    "df_statistics.drop_duplicates(subset=['Distribution'], keep='last', inplace=True)\n",
    "df_statistics.sort_values(by='Distribution', inplace=True)\n",
    "df_statistics.to_csv(path_meta / 'leaderboard_statistics.csv', index=False)\n",
    "\n",
    "df_split['Ratio'] = round(df_split['Frequency'] / len(df) * 100, 2)\n",
    "\n",
    "fig = px.bar(\n",
    "    x=df_split['Downloadable format'],\n",
    "    y=df_split['Ratio'],\n",
    "    text_auto=True,\n",
    "    labels={'x': 'Downloadable format', 'y': 'Number of Leaderboards'},\n",
    ")\n",
    "# Update the layout for a tighter look\n",
    "fig.update_layout(\n",
    "    autosize=True,\n",
    "    margin=dict(\n",
    "        l=10,  # Left margin\n",
    "        r=10,  # Right margin\n",
    "        b=10,  # Bottom margin\n",
    "        t=10,  # Top margin\n",
    "        pad=4  # Padding between the plot and the margin\n",
    "    )\n",
    ")\n",
    "fig.show()"
   ]
  },
  {
   "cell_type": "code",
   "execution_count": 45,
   "metadata": {},
   "outputs": [
    {
     "name": "stdout",
     "output_type": "stream",
     "text": [
      "11.52% (50 out of 434) leaderboard systems are hosted on multiple platforms.\n",
      "Papers With Code is the most popular host platform, accounting for 44.47% (193 out of 434) leaderboards.\n"
     ]
    },
    {
     "data": {
      "application/vnd.plotly.v1+json": {
       "config": {
        "plotlyServerURL": "https://plot.ly"
       },
       "data": [
        {
         "alignmentgroup": "True",
         "hovertemplate": "Platforms=%{x}<br>Number of Leaderboards=%{y}<extra></extra>",
         "legendgroup": "",
         "marker": {
          "color": "#636efa",
          "pattern": {
           "shape": ""
          }
         },
         "name": "",
         "offsetgroup": "",
         "orientation": "v",
         "showlegend": false,
         "textposition": "auto",
         "texttemplate": "%{y}",
         "type": "bar",
         "x": [
          "Papers With Code",
          "GitHub",
          "Hugging Face Spaces",
          "independent platform"
         ],
         "xaxis": "x",
         "y": [
          44.47,
          28.34,
          20.28,
          19.12
         ],
         "yaxis": "y"
        }
       ],
       "layout": {
        "autosize": true,
        "barmode": "relative",
        "legend": {
         "tracegroupgap": 0
        },
        "margin": {
         "b": 10,
         "l": 10,
         "pad": 4,
         "r": 10,
         "t": 10
        },
        "template": {
         "data": {
          "bar": [
           {
            "error_x": {
             "color": "#2a3f5f"
            },
            "error_y": {
             "color": "#2a3f5f"
            },
            "marker": {
             "line": {
              "color": "#E5ECF6",
              "width": 0.5
             },
             "pattern": {
              "fillmode": "overlay",
              "size": 10,
              "solidity": 0.2
             }
            },
            "type": "bar"
           }
          ],
          "barpolar": [
           {
            "marker": {
             "line": {
              "color": "#E5ECF6",
              "width": 0.5
             },
             "pattern": {
              "fillmode": "overlay",
              "size": 10,
              "solidity": 0.2
             }
            },
            "type": "barpolar"
           }
          ],
          "carpet": [
           {
            "aaxis": {
             "endlinecolor": "#2a3f5f",
             "gridcolor": "white",
             "linecolor": "white",
             "minorgridcolor": "white",
             "startlinecolor": "#2a3f5f"
            },
            "baxis": {
             "endlinecolor": "#2a3f5f",
             "gridcolor": "white",
             "linecolor": "white",
             "minorgridcolor": "white",
             "startlinecolor": "#2a3f5f"
            },
            "type": "carpet"
           }
          ],
          "choropleth": [
           {
            "colorbar": {
             "outlinewidth": 0,
             "ticks": ""
            },
            "type": "choropleth"
           }
          ],
          "contour": [
           {
            "colorbar": {
             "outlinewidth": 0,
             "ticks": ""
            },
            "colorscale": [
             [
              0,
              "#0d0887"
             ],
             [
              0.1111111111111111,
              "#46039f"
             ],
             [
              0.2222222222222222,
              "#7201a8"
             ],
             [
              0.3333333333333333,
              "#9c179e"
             ],
             [
              0.4444444444444444,
              "#bd3786"
             ],
             [
              0.5555555555555556,
              "#d8576b"
             ],
             [
              0.6666666666666666,
              "#ed7953"
             ],
             [
              0.7777777777777778,
              "#fb9f3a"
             ],
             [
              0.8888888888888888,
              "#fdca26"
             ],
             [
              1,
              "#f0f921"
             ]
            ],
            "type": "contour"
           }
          ],
          "contourcarpet": [
           {
            "colorbar": {
             "outlinewidth": 0,
             "ticks": ""
            },
            "type": "contourcarpet"
           }
          ],
          "heatmap": [
           {
            "colorbar": {
             "outlinewidth": 0,
             "ticks": ""
            },
            "colorscale": [
             [
              0,
              "#0d0887"
             ],
             [
              0.1111111111111111,
              "#46039f"
             ],
             [
              0.2222222222222222,
              "#7201a8"
             ],
             [
              0.3333333333333333,
              "#9c179e"
             ],
             [
              0.4444444444444444,
              "#bd3786"
             ],
             [
              0.5555555555555556,
              "#d8576b"
             ],
             [
              0.6666666666666666,
              "#ed7953"
             ],
             [
              0.7777777777777778,
              "#fb9f3a"
             ],
             [
              0.8888888888888888,
              "#fdca26"
             ],
             [
              1,
              "#f0f921"
             ]
            ],
            "type": "heatmap"
           }
          ],
          "heatmapgl": [
           {
            "colorbar": {
             "outlinewidth": 0,
             "ticks": ""
            },
            "colorscale": [
             [
              0,
              "#0d0887"
             ],
             [
              0.1111111111111111,
              "#46039f"
             ],
             [
              0.2222222222222222,
              "#7201a8"
             ],
             [
              0.3333333333333333,
              "#9c179e"
             ],
             [
              0.4444444444444444,
              "#bd3786"
             ],
             [
              0.5555555555555556,
              "#d8576b"
             ],
             [
              0.6666666666666666,
              "#ed7953"
             ],
             [
              0.7777777777777778,
              "#fb9f3a"
             ],
             [
              0.8888888888888888,
              "#fdca26"
             ],
             [
              1,
              "#f0f921"
             ]
            ],
            "type": "heatmapgl"
           }
          ],
          "histogram": [
           {
            "marker": {
             "pattern": {
              "fillmode": "overlay",
              "size": 10,
              "solidity": 0.2
             }
            },
            "type": "histogram"
           }
          ],
          "histogram2d": [
           {
            "colorbar": {
             "outlinewidth": 0,
             "ticks": ""
            },
            "colorscale": [
             [
              0,
              "#0d0887"
             ],
             [
              0.1111111111111111,
              "#46039f"
             ],
             [
              0.2222222222222222,
              "#7201a8"
             ],
             [
              0.3333333333333333,
              "#9c179e"
             ],
             [
              0.4444444444444444,
              "#bd3786"
             ],
             [
              0.5555555555555556,
              "#d8576b"
             ],
             [
              0.6666666666666666,
              "#ed7953"
             ],
             [
              0.7777777777777778,
              "#fb9f3a"
             ],
             [
              0.8888888888888888,
              "#fdca26"
             ],
             [
              1,
              "#f0f921"
             ]
            ],
            "type": "histogram2d"
           }
          ],
          "histogram2dcontour": [
           {
            "colorbar": {
             "outlinewidth": 0,
             "ticks": ""
            },
            "colorscale": [
             [
              0,
              "#0d0887"
             ],
             [
              0.1111111111111111,
              "#46039f"
             ],
             [
              0.2222222222222222,
              "#7201a8"
             ],
             [
              0.3333333333333333,
              "#9c179e"
             ],
             [
              0.4444444444444444,
              "#bd3786"
             ],
             [
              0.5555555555555556,
              "#d8576b"
             ],
             [
              0.6666666666666666,
              "#ed7953"
             ],
             [
              0.7777777777777778,
              "#fb9f3a"
             ],
             [
              0.8888888888888888,
              "#fdca26"
             ],
             [
              1,
              "#f0f921"
             ]
            ],
            "type": "histogram2dcontour"
           }
          ],
          "mesh3d": [
           {
            "colorbar": {
             "outlinewidth": 0,
             "ticks": ""
            },
            "type": "mesh3d"
           }
          ],
          "parcoords": [
           {
            "line": {
             "colorbar": {
              "outlinewidth": 0,
              "ticks": ""
             }
            },
            "type": "parcoords"
           }
          ],
          "pie": [
           {
            "automargin": true,
            "type": "pie"
           }
          ],
          "scatter": [
           {
            "fillpattern": {
             "fillmode": "overlay",
             "size": 10,
             "solidity": 0.2
            },
            "type": "scatter"
           }
          ],
          "scatter3d": [
           {
            "line": {
             "colorbar": {
              "outlinewidth": 0,
              "ticks": ""
             }
            },
            "marker": {
             "colorbar": {
              "outlinewidth": 0,
              "ticks": ""
             }
            },
            "type": "scatter3d"
           }
          ],
          "scattercarpet": [
           {
            "marker": {
             "colorbar": {
              "outlinewidth": 0,
              "ticks": ""
             }
            },
            "type": "scattercarpet"
           }
          ],
          "scattergeo": [
           {
            "marker": {
             "colorbar": {
              "outlinewidth": 0,
              "ticks": ""
             }
            },
            "type": "scattergeo"
           }
          ],
          "scattergl": [
           {
            "marker": {
             "colorbar": {
              "outlinewidth": 0,
              "ticks": ""
             }
            },
            "type": "scattergl"
           }
          ],
          "scattermapbox": [
           {
            "marker": {
             "colorbar": {
              "outlinewidth": 0,
              "ticks": ""
             }
            },
            "type": "scattermapbox"
           }
          ],
          "scatterpolar": [
           {
            "marker": {
             "colorbar": {
              "outlinewidth": 0,
              "ticks": ""
             }
            },
            "type": "scatterpolar"
           }
          ],
          "scatterpolargl": [
           {
            "marker": {
             "colorbar": {
              "outlinewidth": 0,
              "ticks": ""
             }
            },
            "type": "scatterpolargl"
           }
          ],
          "scatterternary": [
           {
            "marker": {
             "colorbar": {
              "outlinewidth": 0,
              "ticks": ""
             }
            },
            "type": "scatterternary"
           }
          ],
          "surface": [
           {
            "colorbar": {
             "outlinewidth": 0,
             "ticks": ""
            },
            "colorscale": [
             [
              0,
              "#0d0887"
             ],
             [
              0.1111111111111111,
              "#46039f"
             ],
             [
              0.2222222222222222,
              "#7201a8"
             ],
             [
              0.3333333333333333,
              "#9c179e"
             ],
             [
              0.4444444444444444,
              "#bd3786"
             ],
             [
              0.5555555555555556,
              "#d8576b"
             ],
             [
              0.6666666666666666,
              "#ed7953"
             ],
             [
              0.7777777777777778,
              "#fb9f3a"
             ],
             [
              0.8888888888888888,
              "#fdca26"
             ],
             [
              1,
              "#f0f921"
             ]
            ],
            "type": "surface"
           }
          ],
          "table": [
           {
            "cells": {
             "fill": {
              "color": "#EBF0F8"
             },
             "line": {
              "color": "white"
             }
            },
            "header": {
             "fill": {
              "color": "#C8D4E3"
             },
             "line": {
              "color": "white"
             }
            },
            "type": "table"
           }
          ]
         },
         "layout": {
          "annotationdefaults": {
           "arrowcolor": "#2a3f5f",
           "arrowhead": 0,
           "arrowwidth": 1
          },
          "autotypenumbers": "strict",
          "coloraxis": {
           "colorbar": {
            "outlinewidth": 0,
            "ticks": ""
           }
          },
          "colorscale": {
           "diverging": [
            [
             0,
             "#8e0152"
            ],
            [
             0.1,
             "#c51b7d"
            ],
            [
             0.2,
             "#de77ae"
            ],
            [
             0.3,
             "#f1b6da"
            ],
            [
             0.4,
             "#fde0ef"
            ],
            [
             0.5,
             "#f7f7f7"
            ],
            [
             0.6,
             "#e6f5d0"
            ],
            [
             0.7,
             "#b8e186"
            ],
            [
             0.8,
             "#7fbc41"
            ],
            [
             0.9,
             "#4d9221"
            ],
            [
             1,
             "#276419"
            ]
           ],
           "sequential": [
            [
             0,
             "#0d0887"
            ],
            [
             0.1111111111111111,
             "#46039f"
            ],
            [
             0.2222222222222222,
             "#7201a8"
            ],
            [
             0.3333333333333333,
             "#9c179e"
            ],
            [
             0.4444444444444444,
             "#bd3786"
            ],
            [
             0.5555555555555556,
             "#d8576b"
            ],
            [
             0.6666666666666666,
             "#ed7953"
            ],
            [
             0.7777777777777778,
             "#fb9f3a"
            ],
            [
             0.8888888888888888,
             "#fdca26"
            ],
            [
             1,
             "#f0f921"
            ]
           ],
           "sequentialminus": [
            [
             0,
             "#0d0887"
            ],
            [
             0.1111111111111111,
             "#46039f"
            ],
            [
             0.2222222222222222,
             "#7201a8"
            ],
            [
             0.3333333333333333,
             "#9c179e"
            ],
            [
             0.4444444444444444,
             "#bd3786"
            ],
            [
             0.5555555555555556,
             "#d8576b"
            ],
            [
             0.6666666666666666,
             "#ed7953"
            ],
            [
             0.7777777777777778,
             "#fb9f3a"
            ],
            [
             0.8888888888888888,
             "#fdca26"
            ],
            [
             1,
             "#f0f921"
            ]
           ]
          },
          "colorway": [
           "#636efa",
           "#EF553B",
           "#00cc96",
           "#ab63fa",
           "#FFA15A",
           "#19d3f3",
           "#FF6692",
           "#B6E880",
           "#FF97FF",
           "#FECB52"
          ],
          "font": {
           "color": "#2a3f5f"
          },
          "geo": {
           "bgcolor": "white",
           "lakecolor": "white",
           "landcolor": "#E5ECF6",
           "showlakes": true,
           "showland": true,
           "subunitcolor": "white"
          },
          "hoverlabel": {
           "align": "left"
          },
          "hovermode": "closest",
          "mapbox": {
           "style": "light"
          },
          "paper_bgcolor": "white",
          "plot_bgcolor": "#E5ECF6",
          "polar": {
           "angularaxis": {
            "gridcolor": "white",
            "linecolor": "white",
            "ticks": ""
           },
           "bgcolor": "#E5ECF6",
           "radialaxis": {
            "gridcolor": "white",
            "linecolor": "white",
            "ticks": ""
           }
          },
          "scene": {
           "xaxis": {
            "backgroundcolor": "#E5ECF6",
            "gridcolor": "white",
            "gridwidth": 2,
            "linecolor": "white",
            "showbackground": true,
            "ticks": "",
            "zerolinecolor": "white"
           },
           "yaxis": {
            "backgroundcolor": "#E5ECF6",
            "gridcolor": "white",
            "gridwidth": 2,
            "linecolor": "white",
            "showbackground": true,
            "ticks": "",
            "zerolinecolor": "white"
           },
           "zaxis": {
            "backgroundcolor": "#E5ECF6",
            "gridcolor": "white",
            "gridwidth": 2,
            "linecolor": "white",
            "showbackground": true,
            "ticks": "",
            "zerolinecolor": "white"
           }
          },
          "shapedefaults": {
           "line": {
            "color": "#2a3f5f"
           }
          },
          "ternary": {
           "aaxis": {
            "gridcolor": "white",
            "linecolor": "white",
            "ticks": ""
           },
           "baxis": {
            "gridcolor": "white",
            "linecolor": "white",
            "ticks": ""
           },
           "bgcolor": "#E5ECF6",
           "caxis": {
            "gridcolor": "white",
            "linecolor": "white",
            "ticks": ""
           }
          },
          "title": {
           "x": 0.05
          },
          "xaxis": {
           "automargin": true,
           "gridcolor": "white",
           "linecolor": "white",
           "ticks": "",
           "title": {
            "standoff": 15
           },
           "zerolinecolor": "white",
           "zerolinewidth": 2
          },
          "yaxis": {
           "automargin": true,
           "gridcolor": "white",
           "linecolor": "white",
           "ticks": "",
           "title": {
            "standoff": 15
           },
           "zerolinecolor": "white",
           "zerolinewidth": 2
          }
         }
        },
        "xaxis": {
         "anchor": "y",
         "domain": [
          0,
          1
         ],
         "title": {
          "text": "Platforms"
         }
        },
        "yaxis": {
         "anchor": "x",
         "domain": [
          0,
          1
         ],
         "title": {
          "text": "Number of Leaderboards"
         }
        }
       }
      }
     },
     "metadata": {},
     "output_type": "display_data"
    }
   ],
   "source": [
    "df = pd.read_csv(path_meta / 'leaderboard_processed.csv')\n",
    "df['Platforms'] = df['Platforms'].apply(ast.literal_eval)\n",
    "print(f\"{round(len(df[df['Platforms'].map(len) > 1])/len(df)*100,2)}% ({len(df[df['Platforms'].map(len) > 1])} out of {len(df)}) leaderboard systems are hosted on multiple platforms.\")\n",
    "\n",
    "df_split = df.explode('Platforms')['Platforms'].value_counts().reset_index(name='Frequency')\n",
    "print(f\"{df_split['Platforms'].iloc[0]} is the most popular host platform, accounting for {round(df_split['Frequency'].iloc[0]/len(df)*100,2)}% ({df_split['Frequency'].iloc[0]} out of {len(df)}) leaderboards.\")\n",
    "df_split['Weight'] = 1\n",
    "\n",
    "statistics = {\n",
    "    'Distribution': 'Leaderboard Systems across Platforms',\n",
    "    'Mean': np.mean(df_split['Frequency']),\n",
    "    'Median': np.median(df_split['Frequency']),\n",
    "    'IQR': df_split['Frequency'].quantile(0.75) - df_split['Frequency'].quantile(0.25),\n",
    "    'Gini Coefficient': ineqpy.inequality.gini(data=df_split, income='Frequency', weights='Weight'),\n",
    "}\n",
    "df_statistics = pd.read_csv(path_meta / 'leaderboard_statistics.csv')\n",
    "df_statistics = pd.concat([df_statistics, pd.DataFrame([statistics])], ignore_index=True)\n",
    "df_statistics.drop_duplicates(subset=['Distribution'], keep='last', inplace=True)\n",
    "df_statistics.sort_values(by='Distribution', inplace=True)\n",
    "df_statistics.to_csv(path_meta / 'leaderboard_statistics.csv', index=False)\n",
    "\n",
    "df_split['Ratio'] = round(df_split['Frequency'] / len(df) * 100, 2)\n",
    "\n",
    "fig = px.bar(\n",
    "    x=df_split['Platforms'],\n",
    "    y=df_split['Ratio'],\n",
    "    text_auto=True,\n",
    "    labels={'x': 'Platforms', 'y': 'Number of Leaderboards'},\n",
    ")\n",
    "# Update the layout for a tighter look\n",
    "fig.update_layout(\n",
    "    autosize=True,\n",
    "    margin=dict(\n",
    "        l=10,  # Left margin\n",
    "        r=10,  # Right margin\n",
    "        b=10,  # Bottom margin\n",
    "        t=10,  # Top margin\n",
    "        pad=4  # Padding between the plot and the margin\n",
    "    )\n",
    ")\n",
    "fig.show()"
   ]
  },
  {
   "cell_type": "code",
   "execution_count": 18,
   "metadata": {},
   "outputs": [
    {
     "name": "stdout",
     "output_type": "stream",
     "text": [
      "MTEB is hosted by the highest number of platforms up to 4.\n"
     ]
    },
    {
     "data": {
      "application/vnd.plotly.v1+json": {
       "config": {
        "plotlyServerURL": "https://plot.ly"
       },
       "data": [
        {
         "orientation": "h",
         "text": [
          4,
          3,
          2,
          2,
          2,
          2,
          2,
          2,
          2,
          2
         ],
         "textposition": "auto",
         "type": "bar",
         "x": [
          4,
          3,
          2,
          2,
          2,
          2,
          2,
          2,
          2,
          2
         ],
         "y": [
          "MTEB",
          "LLM-Leaderboard",
          "MLLM-Bench",
          "VBench",
          "SuperCLUE-Industry",
          "SuperCLUE-Code3",
          "CCBench",
          "LMSYS Chatbot Arena Leaderboard",
          "LogicKor",
          "LLMEval"
         ]
        }
       ],
       "layout": {
        "autosize": true,
        "margin": {
         "b": 10,
         "l": 10,
         "pad": 4,
         "r": 10,
         "t": 10
        },
        "template": {
         "data": {
          "bar": [
           {
            "error_x": {
             "color": "#2a3f5f"
            },
            "error_y": {
             "color": "#2a3f5f"
            },
            "marker": {
             "line": {
              "color": "#E5ECF6",
              "width": 0.5
             },
             "pattern": {
              "fillmode": "overlay",
              "size": 10,
              "solidity": 0.2
             }
            },
            "type": "bar"
           }
          ],
          "barpolar": [
           {
            "marker": {
             "line": {
              "color": "#E5ECF6",
              "width": 0.5
             },
             "pattern": {
              "fillmode": "overlay",
              "size": 10,
              "solidity": 0.2
             }
            },
            "type": "barpolar"
           }
          ],
          "carpet": [
           {
            "aaxis": {
             "endlinecolor": "#2a3f5f",
             "gridcolor": "white",
             "linecolor": "white",
             "minorgridcolor": "white",
             "startlinecolor": "#2a3f5f"
            },
            "baxis": {
             "endlinecolor": "#2a3f5f",
             "gridcolor": "white",
             "linecolor": "white",
             "minorgridcolor": "white",
             "startlinecolor": "#2a3f5f"
            },
            "type": "carpet"
           }
          ],
          "choropleth": [
           {
            "colorbar": {
             "outlinewidth": 0,
             "ticks": ""
            },
            "type": "choropleth"
           }
          ],
          "contour": [
           {
            "colorbar": {
             "outlinewidth": 0,
             "ticks": ""
            },
            "colorscale": [
             [
              0,
              "#0d0887"
             ],
             [
              0.1111111111111111,
              "#46039f"
             ],
             [
              0.2222222222222222,
              "#7201a8"
             ],
             [
              0.3333333333333333,
              "#9c179e"
             ],
             [
              0.4444444444444444,
              "#bd3786"
             ],
             [
              0.5555555555555556,
              "#d8576b"
             ],
             [
              0.6666666666666666,
              "#ed7953"
             ],
             [
              0.7777777777777778,
              "#fb9f3a"
             ],
             [
              0.8888888888888888,
              "#fdca26"
             ],
             [
              1,
              "#f0f921"
             ]
            ],
            "type": "contour"
           }
          ],
          "contourcarpet": [
           {
            "colorbar": {
             "outlinewidth": 0,
             "ticks": ""
            },
            "type": "contourcarpet"
           }
          ],
          "heatmap": [
           {
            "colorbar": {
             "outlinewidth": 0,
             "ticks": ""
            },
            "colorscale": [
             [
              0,
              "#0d0887"
             ],
             [
              0.1111111111111111,
              "#46039f"
             ],
             [
              0.2222222222222222,
              "#7201a8"
             ],
             [
              0.3333333333333333,
              "#9c179e"
             ],
             [
              0.4444444444444444,
              "#bd3786"
             ],
             [
              0.5555555555555556,
              "#d8576b"
             ],
             [
              0.6666666666666666,
              "#ed7953"
             ],
             [
              0.7777777777777778,
              "#fb9f3a"
             ],
             [
              0.8888888888888888,
              "#fdca26"
             ],
             [
              1,
              "#f0f921"
             ]
            ],
            "type": "heatmap"
           }
          ],
          "heatmapgl": [
           {
            "colorbar": {
             "outlinewidth": 0,
             "ticks": ""
            },
            "colorscale": [
             [
              0,
              "#0d0887"
             ],
             [
              0.1111111111111111,
              "#46039f"
             ],
             [
              0.2222222222222222,
              "#7201a8"
             ],
             [
              0.3333333333333333,
              "#9c179e"
             ],
             [
              0.4444444444444444,
              "#bd3786"
             ],
             [
              0.5555555555555556,
              "#d8576b"
             ],
             [
              0.6666666666666666,
              "#ed7953"
             ],
             [
              0.7777777777777778,
              "#fb9f3a"
             ],
             [
              0.8888888888888888,
              "#fdca26"
             ],
             [
              1,
              "#f0f921"
             ]
            ],
            "type": "heatmapgl"
           }
          ],
          "histogram": [
           {
            "marker": {
             "pattern": {
              "fillmode": "overlay",
              "size": 10,
              "solidity": 0.2
             }
            },
            "type": "histogram"
           }
          ],
          "histogram2d": [
           {
            "colorbar": {
             "outlinewidth": 0,
             "ticks": ""
            },
            "colorscale": [
             [
              0,
              "#0d0887"
             ],
             [
              0.1111111111111111,
              "#46039f"
             ],
             [
              0.2222222222222222,
              "#7201a8"
             ],
             [
              0.3333333333333333,
              "#9c179e"
             ],
             [
              0.4444444444444444,
              "#bd3786"
             ],
             [
              0.5555555555555556,
              "#d8576b"
             ],
             [
              0.6666666666666666,
              "#ed7953"
             ],
             [
              0.7777777777777778,
              "#fb9f3a"
             ],
             [
              0.8888888888888888,
              "#fdca26"
             ],
             [
              1,
              "#f0f921"
             ]
            ],
            "type": "histogram2d"
           }
          ],
          "histogram2dcontour": [
           {
            "colorbar": {
             "outlinewidth": 0,
             "ticks": ""
            },
            "colorscale": [
             [
              0,
              "#0d0887"
             ],
             [
              0.1111111111111111,
              "#46039f"
             ],
             [
              0.2222222222222222,
              "#7201a8"
             ],
             [
              0.3333333333333333,
              "#9c179e"
             ],
             [
              0.4444444444444444,
              "#bd3786"
             ],
             [
              0.5555555555555556,
              "#d8576b"
             ],
             [
              0.6666666666666666,
              "#ed7953"
             ],
             [
              0.7777777777777778,
              "#fb9f3a"
             ],
             [
              0.8888888888888888,
              "#fdca26"
             ],
             [
              1,
              "#f0f921"
             ]
            ],
            "type": "histogram2dcontour"
           }
          ],
          "mesh3d": [
           {
            "colorbar": {
             "outlinewidth": 0,
             "ticks": ""
            },
            "type": "mesh3d"
           }
          ],
          "parcoords": [
           {
            "line": {
             "colorbar": {
              "outlinewidth": 0,
              "ticks": ""
             }
            },
            "type": "parcoords"
           }
          ],
          "pie": [
           {
            "automargin": true,
            "type": "pie"
           }
          ],
          "scatter": [
           {
            "fillpattern": {
             "fillmode": "overlay",
             "size": 10,
             "solidity": 0.2
            },
            "type": "scatter"
           }
          ],
          "scatter3d": [
           {
            "line": {
             "colorbar": {
              "outlinewidth": 0,
              "ticks": ""
             }
            },
            "marker": {
             "colorbar": {
              "outlinewidth": 0,
              "ticks": ""
             }
            },
            "type": "scatter3d"
           }
          ],
          "scattercarpet": [
           {
            "marker": {
             "colorbar": {
              "outlinewidth": 0,
              "ticks": ""
             }
            },
            "type": "scattercarpet"
           }
          ],
          "scattergeo": [
           {
            "marker": {
             "colorbar": {
              "outlinewidth": 0,
              "ticks": ""
             }
            },
            "type": "scattergeo"
           }
          ],
          "scattergl": [
           {
            "marker": {
             "colorbar": {
              "outlinewidth": 0,
              "ticks": ""
             }
            },
            "type": "scattergl"
           }
          ],
          "scattermapbox": [
           {
            "marker": {
             "colorbar": {
              "outlinewidth": 0,
              "ticks": ""
             }
            },
            "type": "scattermapbox"
           }
          ],
          "scatterpolar": [
           {
            "marker": {
             "colorbar": {
              "outlinewidth": 0,
              "ticks": ""
             }
            },
            "type": "scatterpolar"
           }
          ],
          "scatterpolargl": [
           {
            "marker": {
             "colorbar": {
              "outlinewidth": 0,
              "ticks": ""
             }
            },
            "type": "scatterpolargl"
           }
          ],
          "scatterternary": [
           {
            "marker": {
             "colorbar": {
              "outlinewidth": 0,
              "ticks": ""
             }
            },
            "type": "scatterternary"
           }
          ],
          "surface": [
           {
            "colorbar": {
             "outlinewidth": 0,
             "ticks": ""
            },
            "colorscale": [
             [
              0,
              "#0d0887"
             ],
             [
              0.1111111111111111,
              "#46039f"
             ],
             [
              0.2222222222222222,
              "#7201a8"
             ],
             [
              0.3333333333333333,
              "#9c179e"
             ],
             [
              0.4444444444444444,
              "#bd3786"
             ],
             [
              0.5555555555555556,
              "#d8576b"
             ],
             [
              0.6666666666666666,
              "#ed7953"
             ],
             [
              0.7777777777777778,
              "#fb9f3a"
             ],
             [
              0.8888888888888888,
              "#fdca26"
             ],
             [
              1,
              "#f0f921"
             ]
            ],
            "type": "surface"
           }
          ],
          "table": [
           {
            "cells": {
             "fill": {
              "color": "#EBF0F8"
             },
             "line": {
              "color": "white"
             }
            },
            "header": {
             "fill": {
              "color": "#C8D4E3"
             },
             "line": {
              "color": "white"
             }
            },
            "type": "table"
           }
          ]
         },
         "layout": {
          "annotationdefaults": {
           "arrowcolor": "#2a3f5f",
           "arrowhead": 0,
           "arrowwidth": 1
          },
          "autotypenumbers": "strict",
          "coloraxis": {
           "colorbar": {
            "outlinewidth": 0,
            "ticks": ""
           }
          },
          "colorscale": {
           "diverging": [
            [
             0,
             "#8e0152"
            ],
            [
             0.1,
             "#c51b7d"
            ],
            [
             0.2,
             "#de77ae"
            ],
            [
             0.3,
             "#f1b6da"
            ],
            [
             0.4,
             "#fde0ef"
            ],
            [
             0.5,
             "#f7f7f7"
            ],
            [
             0.6,
             "#e6f5d0"
            ],
            [
             0.7,
             "#b8e186"
            ],
            [
             0.8,
             "#7fbc41"
            ],
            [
             0.9,
             "#4d9221"
            ],
            [
             1,
             "#276419"
            ]
           ],
           "sequential": [
            [
             0,
             "#0d0887"
            ],
            [
             0.1111111111111111,
             "#46039f"
            ],
            [
             0.2222222222222222,
             "#7201a8"
            ],
            [
             0.3333333333333333,
             "#9c179e"
            ],
            [
             0.4444444444444444,
             "#bd3786"
            ],
            [
             0.5555555555555556,
             "#d8576b"
            ],
            [
             0.6666666666666666,
             "#ed7953"
            ],
            [
             0.7777777777777778,
             "#fb9f3a"
            ],
            [
             0.8888888888888888,
             "#fdca26"
            ],
            [
             1,
             "#f0f921"
            ]
           ],
           "sequentialminus": [
            [
             0,
             "#0d0887"
            ],
            [
             0.1111111111111111,
             "#46039f"
            ],
            [
             0.2222222222222222,
             "#7201a8"
            ],
            [
             0.3333333333333333,
             "#9c179e"
            ],
            [
             0.4444444444444444,
             "#bd3786"
            ],
            [
             0.5555555555555556,
             "#d8576b"
            ],
            [
             0.6666666666666666,
             "#ed7953"
            ],
            [
             0.7777777777777778,
             "#fb9f3a"
            ],
            [
             0.8888888888888888,
             "#fdca26"
            ],
            [
             1,
             "#f0f921"
            ]
           ]
          },
          "colorway": [
           "#636efa",
           "#EF553B",
           "#00cc96",
           "#ab63fa",
           "#FFA15A",
           "#19d3f3",
           "#FF6692",
           "#B6E880",
           "#FF97FF",
           "#FECB52"
          ],
          "font": {
           "color": "#2a3f5f"
          },
          "geo": {
           "bgcolor": "white",
           "lakecolor": "white",
           "landcolor": "#E5ECF6",
           "showlakes": true,
           "showland": true,
           "subunitcolor": "white"
          },
          "hoverlabel": {
           "align": "left"
          },
          "hovermode": "closest",
          "mapbox": {
           "style": "light"
          },
          "paper_bgcolor": "white",
          "plot_bgcolor": "#E5ECF6",
          "polar": {
           "angularaxis": {
            "gridcolor": "white",
            "linecolor": "white",
            "ticks": ""
           },
           "bgcolor": "#E5ECF6",
           "radialaxis": {
            "gridcolor": "white",
            "linecolor": "white",
            "ticks": ""
           }
          },
          "scene": {
           "xaxis": {
            "backgroundcolor": "#E5ECF6",
            "gridcolor": "white",
            "gridwidth": 2,
            "linecolor": "white",
            "showbackground": true,
            "ticks": "",
            "zerolinecolor": "white"
           },
           "yaxis": {
            "backgroundcolor": "#E5ECF6",
            "gridcolor": "white",
            "gridwidth": 2,
            "linecolor": "white",
            "showbackground": true,
            "ticks": "",
            "zerolinecolor": "white"
           },
           "zaxis": {
            "backgroundcolor": "#E5ECF6",
            "gridcolor": "white",
            "gridwidth": 2,
            "linecolor": "white",
            "showbackground": true,
            "ticks": "",
            "zerolinecolor": "white"
           }
          },
          "shapedefaults": {
           "line": {
            "color": "#2a3f5f"
           }
          },
          "ternary": {
           "aaxis": {
            "gridcolor": "white",
            "linecolor": "white",
            "ticks": ""
           },
           "baxis": {
            "gridcolor": "white",
            "linecolor": "white",
            "ticks": ""
           },
           "bgcolor": "#E5ECF6",
           "caxis": {
            "gridcolor": "white",
            "linecolor": "white",
            "ticks": ""
           }
          },
          "title": {
           "x": 0.05
          },
          "xaxis": {
           "automargin": true,
           "gridcolor": "white",
           "linecolor": "white",
           "ticks": "",
           "title": {
            "standoff": 15
           },
           "zerolinecolor": "white",
           "zerolinewidth": 2
          },
          "yaxis": {
           "automargin": true,
           "gridcolor": "white",
           "linecolor": "white",
           "ticks": "",
           "title": {
            "standoff": 15
           },
           "zerolinecolor": "white",
           "zerolinewidth": 2
          }
         }
        },
        "xaxis": {
         "title": {
          "text": "Number of Platforms"
         }
        },
        "yaxis": {
         "autorange": "reversed",
         "title": {
          "text": "Leaderboard Name"
         }
        }
       }
      }
     },
     "metadata": {},
     "output_type": "display_data"
    }
   ],
   "source": [
    "df = pd.read_csv(path_meta / 'leaderboard_processed.csv')\n",
    "\n",
    "statistics = {\n",
    "    'Distribution': 'Platforms across Leaderboard Systems',\n",
    "    'Mean': np.mean(df['#Host platform']),\n",
    "    'Median': np.median(df['#Host platform']),\n",
    "    'IQR': df['#Host platform'].quantile(0.75) - df['#Host platform'].quantile(0.25),\n",
    "}\n",
    "df_statistics = pd.read_csv(path_meta / 'leaderboard_statistics.csv')\n",
    "df_statistics = pd.concat([df_statistics, pd.DataFrame([statistics])], ignore_index=True)\n",
    "df_statistics.drop_duplicates(subset=['Distribution'], keep='last', inplace=True)\n",
    "df_statistics.sort_values(by='Distribution', inplace=True)\n",
    "df_statistics.to_csv(path_meta / 'leaderboard_statistics.csv', index=False)\n",
    "\n",
    "df_top = df.drop_duplicates(subset=['Leaderboard name']).sort_values(by='#Host platform', ascending=False).head(10)\n",
    "print(f\"{df_top['Leaderboard name'].iloc[0]} is hosted by the highest number of platforms up to {int(df_top['#Host platform'].iloc[0])}.\")\n",
    "\n",
    "fig = go.Figure(go.Bar(\n",
    "        x=df_top['#Host platform'],  # Values for the bar lengths\n",
    "        y=df_top['Leaderboard name'],  # Categories for each bar\n",
    "        orientation='h',  # Sets the bars to be horizontal\n",
    "        text=df_top['#Host platform'],  # Adds the values as text on each bar\n",
    "        textposition='auto'  # Automatically positions the text on the bars\n",
    "))\n",
    "fig.update_layout(\n",
    "        xaxis_title='Number of Platforms',\n",
    "        yaxis_title='Leaderboard Name',\n",
    "        yaxis_autorange='reversed'  # This line makes the bars go top-down\n",
    ")\n",
    "# Update the layout for a tighter look\n",
    "fig.update_layout(\n",
    "    autosize=True,\n",
    "    margin=dict(\n",
    "        l=10,  # Left margin\n",
    "        r=10,  # Right margin\n",
    "        b=10,  # Bottom margin\n",
    "        t=10,  # Top margin\n",
    "        pad=4  # Padding between the plot and the margin\n",
    "    )\n",
    ")\n",
    "fig.show()"
   ]
  },
  {
   "cell_type": "code",
   "execution_count": 19,
   "metadata": {},
   "outputs": [
    {
     "name": "stdout",
     "output_type": "stream",
     "text": [
      "Papers With Code stands out as the most prolific release organization among the 236 identified, contributing to a notable 43.55% (189 out of 434) leaderboard systems.\n"
     ]
    },
    {
     "data": {
      "application/vnd.plotly.v1+json": {
       "config": {
        "plotlyServerURL": "https://plot.ly"
       },
       "data": [
        {
         "orientation": "h",
         "text": [
          43.55,
          6.45,
          5.76,
          5.53,
          4.15,
          3.46,
          3.46,
          3.23,
          2.76,
          2.76
         ],
         "textposition": "auto",
         "type": "bar",
         "x": [
          189,
          28,
          25,
          24,
          18,
          15,
          15,
          14,
          12,
          12
         ],
         "y": [
          "Papers With Code",
          "Allen Institute for AI",
          "Shanghai AI Laboratory",
          "Independent Contributor",
          "University of California",
          "Chinese University of Hong Kong",
          "Tsinghua University",
          "Microsoft",
          "Fudan University",
          "Shanghai Jiao Tong University"
         ]
        }
       ],
       "layout": {
        "template": {
         "data": {
          "bar": [
           {
            "error_x": {
             "color": "#2a3f5f"
            },
            "error_y": {
             "color": "#2a3f5f"
            },
            "marker": {
             "line": {
              "color": "#E5ECF6",
              "width": 0.5
             },
             "pattern": {
              "fillmode": "overlay",
              "size": 10,
              "solidity": 0.2
             }
            },
            "type": "bar"
           }
          ],
          "barpolar": [
           {
            "marker": {
             "line": {
              "color": "#E5ECF6",
              "width": 0.5
             },
             "pattern": {
              "fillmode": "overlay",
              "size": 10,
              "solidity": 0.2
             }
            },
            "type": "barpolar"
           }
          ],
          "carpet": [
           {
            "aaxis": {
             "endlinecolor": "#2a3f5f",
             "gridcolor": "white",
             "linecolor": "white",
             "minorgridcolor": "white",
             "startlinecolor": "#2a3f5f"
            },
            "baxis": {
             "endlinecolor": "#2a3f5f",
             "gridcolor": "white",
             "linecolor": "white",
             "minorgridcolor": "white",
             "startlinecolor": "#2a3f5f"
            },
            "type": "carpet"
           }
          ],
          "choropleth": [
           {
            "colorbar": {
             "outlinewidth": 0,
             "ticks": ""
            },
            "type": "choropleth"
           }
          ],
          "contour": [
           {
            "colorbar": {
             "outlinewidth": 0,
             "ticks": ""
            },
            "colorscale": [
             [
              0,
              "#0d0887"
             ],
             [
              0.1111111111111111,
              "#46039f"
             ],
             [
              0.2222222222222222,
              "#7201a8"
             ],
             [
              0.3333333333333333,
              "#9c179e"
             ],
             [
              0.4444444444444444,
              "#bd3786"
             ],
             [
              0.5555555555555556,
              "#d8576b"
             ],
             [
              0.6666666666666666,
              "#ed7953"
             ],
             [
              0.7777777777777778,
              "#fb9f3a"
             ],
             [
              0.8888888888888888,
              "#fdca26"
             ],
             [
              1,
              "#f0f921"
             ]
            ],
            "type": "contour"
           }
          ],
          "contourcarpet": [
           {
            "colorbar": {
             "outlinewidth": 0,
             "ticks": ""
            },
            "type": "contourcarpet"
           }
          ],
          "heatmap": [
           {
            "colorbar": {
             "outlinewidth": 0,
             "ticks": ""
            },
            "colorscale": [
             [
              0,
              "#0d0887"
             ],
             [
              0.1111111111111111,
              "#46039f"
             ],
             [
              0.2222222222222222,
              "#7201a8"
             ],
             [
              0.3333333333333333,
              "#9c179e"
             ],
             [
              0.4444444444444444,
              "#bd3786"
             ],
             [
              0.5555555555555556,
              "#d8576b"
             ],
             [
              0.6666666666666666,
              "#ed7953"
             ],
             [
              0.7777777777777778,
              "#fb9f3a"
             ],
             [
              0.8888888888888888,
              "#fdca26"
             ],
             [
              1,
              "#f0f921"
             ]
            ],
            "type": "heatmap"
           }
          ],
          "heatmapgl": [
           {
            "colorbar": {
             "outlinewidth": 0,
             "ticks": ""
            },
            "colorscale": [
             [
              0,
              "#0d0887"
             ],
             [
              0.1111111111111111,
              "#46039f"
             ],
             [
              0.2222222222222222,
              "#7201a8"
             ],
             [
              0.3333333333333333,
              "#9c179e"
             ],
             [
              0.4444444444444444,
              "#bd3786"
             ],
             [
              0.5555555555555556,
              "#d8576b"
             ],
             [
              0.6666666666666666,
              "#ed7953"
             ],
             [
              0.7777777777777778,
              "#fb9f3a"
             ],
             [
              0.8888888888888888,
              "#fdca26"
             ],
             [
              1,
              "#f0f921"
             ]
            ],
            "type": "heatmapgl"
           }
          ],
          "histogram": [
           {
            "marker": {
             "pattern": {
              "fillmode": "overlay",
              "size": 10,
              "solidity": 0.2
             }
            },
            "type": "histogram"
           }
          ],
          "histogram2d": [
           {
            "colorbar": {
             "outlinewidth": 0,
             "ticks": ""
            },
            "colorscale": [
             [
              0,
              "#0d0887"
             ],
             [
              0.1111111111111111,
              "#46039f"
             ],
             [
              0.2222222222222222,
              "#7201a8"
             ],
             [
              0.3333333333333333,
              "#9c179e"
             ],
             [
              0.4444444444444444,
              "#bd3786"
             ],
             [
              0.5555555555555556,
              "#d8576b"
             ],
             [
              0.6666666666666666,
              "#ed7953"
             ],
             [
              0.7777777777777778,
              "#fb9f3a"
             ],
             [
              0.8888888888888888,
              "#fdca26"
             ],
             [
              1,
              "#f0f921"
             ]
            ],
            "type": "histogram2d"
           }
          ],
          "histogram2dcontour": [
           {
            "colorbar": {
             "outlinewidth": 0,
             "ticks": ""
            },
            "colorscale": [
             [
              0,
              "#0d0887"
             ],
             [
              0.1111111111111111,
              "#46039f"
             ],
             [
              0.2222222222222222,
              "#7201a8"
             ],
             [
              0.3333333333333333,
              "#9c179e"
             ],
             [
              0.4444444444444444,
              "#bd3786"
             ],
             [
              0.5555555555555556,
              "#d8576b"
             ],
             [
              0.6666666666666666,
              "#ed7953"
             ],
             [
              0.7777777777777778,
              "#fb9f3a"
             ],
             [
              0.8888888888888888,
              "#fdca26"
             ],
             [
              1,
              "#f0f921"
             ]
            ],
            "type": "histogram2dcontour"
           }
          ],
          "mesh3d": [
           {
            "colorbar": {
             "outlinewidth": 0,
             "ticks": ""
            },
            "type": "mesh3d"
           }
          ],
          "parcoords": [
           {
            "line": {
             "colorbar": {
              "outlinewidth": 0,
              "ticks": ""
             }
            },
            "type": "parcoords"
           }
          ],
          "pie": [
           {
            "automargin": true,
            "type": "pie"
           }
          ],
          "scatter": [
           {
            "fillpattern": {
             "fillmode": "overlay",
             "size": 10,
             "solidity": 0.2
            },
            "type": "scatter"
           }
          ],
          "scatter3d": [
           {
            "line": {
             "colorbar": {
              "outlinewidth": 0,
              "ticks": ""
             }
            },
            "marker": {
             "colorbar": {
              "outlinewidth": 0,
              "ticks": ""
             }
            },
            "type": "scatter3d"
           }
          ],
          "scattercarpet": [
           {
            "marker": {
             "colorbar": {
              "outlinewidth": 0,
              "ticks": ""
             }
            },
            "type": "scattercarpet"
           }
          ],
          "scattergeo": [
           {
            "marker": {
             "colorbar": {
              "outlinewidth": 0,
              "ticks": ""
             }
            },
            "type": "scattergeo"
           }
          ],
          "scattergl": [
           {
            "marker": {
             "colorbar": {
              "outlinewidth": 0,
              "ticks": ""
             }
            },
            "type": "scattergl"
           }
          ],
          "scattermapbox": [
           {
            "marker": {
             "colorbar": {
              "outlinewidth": 0,
              "ticks": ""
             }
            },
            "type": "scattermapbox"
           }
          ],
          "scatterpolar": [
           {
            "marker": {
             "colorbar": {
              "outlinewidth": 0,
              "ticks": ""
             }
            },
            "type": "scatterpolar"
           }
          ],
          "scatterpolargl": [
           {
            "marker": {
             "colorbar": {
              "outlinewidth": 0,
              "ticks": ""
             }
            },
            "type": "scatterpolargl"
           }
          ],
          "scatterternary": [
           {
            "marker": {
             "colorbar": {
              "outlinewidth": 0,
              "ticks": ""
             }
            },
            "type": "scatterternary"
           }
          ],
          "surface": [
           {
            "colorbar": {
             "outlinewidth": 0,
             "ticks": ""
            },
            "colorscale": [
             [
              0,
              "#0d0887"
             ],
             [
              0.1111111111111111,
              "#46039f"
             ],
             [
              0.2222222222222222,
              "#7201a8"
             ],
             [
              0.3333333333333333,
              "#9c179e"
             ],
             [
              0.4444444444444444,
              "#bd3786"
             ],
             [
              0.5555555555555556,
              "#d8576b"
             ],
             [
              0.6666666666666666,
              "#ed7953"
             ],
             [
              0.7777777777777778,
              "#fb9f3a"
             ],
             [
              0.8888888888888888,
              "#fdca26"
             ],
             [
              1,
              "#f0f921"
             ]
            ],
            "type": "surface"
           }
          ],
          "table": [
           {
            "cells": {
             "fill": {
              "color": "#EBF0F8"
             },
             "line": {
              "color": "white"
             }
            },
            "header": {
             "fill": {
              "color": "#C8D4E3"
             },
             "line": {
              "color": "white"
             }
            },
            "type": "table"
           }
          ]
         },
         "layout": {
          "annotationdefaults": {
           "arrowcolor": "#2a3f5f",
           "arrowhead": 0,
           "arrowwidth": 1
          },
          "autotypenumbers": "strict",
          "coloraxis": {
           "colorbar": {
            "outlinewidth": 0,
            "ticks": ""
           }
          },
          "colorscale": {
           "diverging": [
            [
             0,
             "#8e0152"
            ],
            [
             0.1,
             "#c51b7d"
            ],
            [
             0.2,
             "#de77ae"
            ],
            [
             0.3,
             "#f1b6da"
            ],
            [
             0.4,
             "#fde0ef"
            ],
            [
             0.5,
             "#f7f7f7"
            ],
            [
             0.6,
             "#e6f5d0"
            ],
            [
             0.7,
             "#b8e186"
            ],
            [
             0.8,
             "#7fbc41"
            ],
            [
             0.9,
             "#4d9221"
            ],
            [
             1,
             "#276419"
            ]
           ],
           "sequential": [
            [
             0,
             "#0d0887"
            ],
            [
             0.1111111111111111,
             "#46039f"
            ],
            [
             0.2222222222222222,
             "#7201a8"
            ],
            [
             0.3333333333333333,
             "#9c179e"
            ],
            [
             0.4444444444444444,
             "#bd3786"
            ],
            [
             0.5555555555555556,
             "#d8576b"
            ],
            [
             0.6666666666666666,
             "#ed7953"
            ],
            [
             0.7777777777777778,
             "#fb9f3a"
            ],
            [
             0.8888888888888888,
             "#fdca26"
            ],
            [
             1,
             "#f0f921"
            ]
           ],
           "sequentialminus": [
            [
             0,
             "#0d0887"
            ],
            [
             0.1111111111111111,
             "#46039f"
            ],
            [
             0.2222222222222222,
             "#7201a8"
            ],
            [
             0.3333333333333333,
             "#9c179e"
            ],
            [
             0.4444444444444444,
             "#bd3786"
            ],
            [
             0.5555555555555556,
             "#d8576b"
            ],
            [
             0.6666666666666666,
             "#ed7953"
            ],
            [
             0.7777777777777778,
             "#fb9f3a"
            ],
            [
             0.8888888888888888,
             "#fdca26"
            ],
            [
             1,
             "#f0f921"
            ]
           ]
          },
          "colorway": [
           "#636efa",
           "#EF553B",
           "#00cc96",
           "#ab63fa",
           "#FFA15A",
           "#19d3f3",
           "#FF6692",
           "#B6E880",
           "#FF97FF",
           "#FECB52"
          ],
          "font": {
           "color": "#2a3f5f"
          },
          "geo": {
           "bgcolor": "white",
           "lakecolor": "white",
           "landcolor": "#E5ECF6",
           "showlakes": true,
           "showland": true,
           "subunitcolor": "white"
          },
          "hoverlabel": {
           "align": "left"
          },
          "hovermode": "closest",
          "mapbox": {
           "style": "light"
          },
          "paper_bgcolor": "white",
          "plot_bgcolor": "#E5ECF6",
          "polar": {
           "angularaxis": {
            "gridcolor": "white",
            "linecolor": "white",
            "ticks": ""
           },
           "bgcolor": "#E5ECF6",
           "radialaxis": {
            "gridcolor": "white",
            "linecolor": "white",
            "ticks": ""
           }
          },
          "scene": {
           "xaxis": {
            "backgroundcolor": "#E5ECF6",
            "gridcolor": "white",
            "gridwidth": 2,
            "linecolor": "white",
            "showbackground": true,
            "ticks": "",
            "zerolinecolor": "white"
           },
           "yaxis": {
            "backgroundcolor": "#E5ECF6",
            "gridcolor": "white",
            "gridwidth": 2,
            "linecolor": "white",
            "showbackground": true,
            "ticks": "",
            "zerolinecolor": "white"
           },
           "zaxis": {
            "backgroundcolor": "#E5ECF6",
            "gridcolor": "white",
            "gridwidth": 2,
            "linecolor": "white",
            "showbackground": true,
            "ticks": "",
            "zerolinecolor": "white"
           }
          },
          "shapedefaults": {
           "line": {
            "color": "#2a3f5f"
           }
          },
          "ternary": {
           "aaxis": {
            "gridcolor": "white",
            "linecolor": "white",
            "ticks": ""
           },
           "baxis": {
            "gridcolor": "white",
            "linecolor": "white",
            "ticks": ""
           },
           "bgcolor": "#E5ECF6",
           "caxis": {
            "gridcolor": "white",
            "linecolor": "white",
            "ticks": ""
           }
          },
          "title": {
           "x": 0.05
          },
          "xaxis": {
           "automargin": true,
           "gridcolor": "white",
           "linecolor": "white",
           "ticks": "",
           "title": {
            "standoff": 15
           },
           "zerolinecolor": "white",
           "zerolinewidth": 2
          },
          "yaxis": {
           "automargin": true,
           "gridcolor": "white",
           "linecolor": "white",
           "ticks": "",
           "title": {
            "standoff": 15
           },
           "zerolinecolor": "white",
           "zerolinewidth": 2
          }
         }
        },
        "title": {
         "text": "Number of Leaderboard Systems across Release Organizations (Top 10)"
        },
        "xaxis": {
         "title": {
          "text": "Leaderboard Number"
         }
        },
        "yaxis": {
         "autorange": "reversed",
         "title": {
          "text": "Publisher Name"
         }
        }
       }
      }
     },
     "metadata": {},
     "output_type": "display_data"
    }
   ],
   "source": [
    "df = pd.read_csv(path_meta / 'leaderboard_processed.csv')\n",
    "\n",
    "df['Release organizations'] = df['Release organizations'].apply(ast.literal_eval)\n",
    "df_split = df.explode('Release organizations').groupby('Release organizations').size().reset_index(name='Frequency')\n",
    "df_split['Weight'] = 1\n",
    "\n",
    "statistics = {\n",
    "    'Distribution': 'Leaderboard Systems across Release Organizations',\n",
    "    'Mean': np.mean(df_split['Frequency']),\n",
    "    'Median': np.median(df_split['Frequency']),\n",
    "    'IQR': df_split['Frequency'].quantile(0.75) - df_split['Frequency'].quantile(0.25),\n",
    "    'Gini Coefficient': ineqpy.inequality.gini(data=df_split, income='Frequency', weights='Weight'),\n",
    "}\n",
    "df_statistics = pd.read_csv(path_meta / 'leaderboard_statistics.csv')\n",
    "df_statistics = pd.concat([df_statistics, pd.DataFrame([statistics])], ignore_index=True)\n",
    "df_statistics.drop_duplicates(subset=['Distribution'], keep='last', inplace=True)\n",
    "df_statistics.sort_values(by='Distribution', inplace=True)\n",
    "df_statistics.to_csv(path_meta / 'leaderboard_statistics.csv', index=False)\n",
    "\n",
    "df_top = df_split.sort_values(by='Frequency', ascending=False).head(10)\n",
    "print(f\"{df_top['Release organizations'].iloc[0]} stands out as the most prolific release organization among the {len(df_split['Release organizations'].unique())} identified, contributing to a notable {round(df_top['Frequency'].iloc[0]/len(df)*100,2)}% ({df_top['Frequency'].iloc[0]} out of {len(df)}) leaderboard systems.\")\n",
    "\n",
    "df_top['Ratio'] = round(df_top['Frequency'] / len(df) * 100, 2)\n",
    "\n",
    "fig = go.Figure(go.Bar(\n",
    "        x=df_top['Frequency'],  # Values for the bar lengths\n",
    "        y=df_top['Release organizations'],  # Categories for each bar\n",
    "        orientation='h',  # Sets the bars to be horizontal\n",
    "        text=df_top['Ratio'],  # Adds the values as text on each bar\n",
    "        textposition='auto'  # Automatically positions the text on the bars\n",
    "))\n",
    "fig.update_layout(\n",
    "        title=f'Number of Leaderboard Systems across Release Organizations (Top 10)',\n",
    "        xaxis_title='Leaderboard Number',\n",
    "        yaxis_title='Publisher Name',\n",
    "        yaxis_autorange='reversed'  # This line makes the bars go top-down\n",
    ")\n",
    "fig.show()\n"
   ]
  },
  {
   "cell_type": "code",
   "execution_count": 20,
   "metadata": {},
   "outputs": [
    {
     "name": "stdout",
     "output_type": "stream",
     "text": [
      "TrustLLM holds the highest number of release organizations up to 36.\n"
     ]
    },
    {
     "data": {
      "application/vnd.plotly.v1+json": {
       "config": {
        "plotlyServerURL": "https://plot.ly"
       },
       "data": [
        {
         "orientation": "h",
         "text": [
          36,
          13,
          13,
          10,
          10,
          8,
          8,
          8,
          8,
          8
         ],
         "textposition": "auto",
         "type": "bar",
         "x": [
          36,
          13,
          13,
          10,
          10,
          8,
          8,
          8,
          8,
          8
         ],
         "y": [
          "TrustLLM",
          "OpenVLM Leaderboard",
          "OpenCompass LLM Leaderboard (v2)",
          "BOP",
          "CMMMU",
          "RAFT",
          "VisIT-Bench",
          "OpenEval (text)",
          "FlagEval",
          "DevBench"
         ]
        }
       ],
       "layout": {
        "autosize": true,
        "margin": {
         "b": 10,
         "l": 10,
         "pad": 4,
         "r": 10,
         "t": 10
        },
        "template": {
         "data": {
          "bar": [
           {
            "error_x": {
             "color": "#2a3f5f"
            },
            "error_y": {
             "color": "#2a3f5f"
            },
            "marker": {
             "line": {
              "color": "#E5ECF6",
              "width": 0.5
             },
             "pattern": {
              "fillmode": "overlay",
              "size": 10,
              "solidity": 0.2
             }
            },
            "type": "bar"
           }
          ],
          "barpolar": [
           {
            "marker": {
             "line": {
              "color": "#E5ECF6",
              "width": 0.5
             },
             "pattern": {
              "fillmode": "overlay",
              "size": 10,
              "solidity": 0.2
             }
            },
            "type": "barpolar"
           }
          ],
          "carpet": [
           {
            "aaxis": {
             "endlinecolor": "#2a3f5f",
             "gridcolor": "white",
             "linecolor": "white",
             "minorgridcolor": "white",
             "startlinecolor": "#2a3f5f"
            },
            "baxis": {
             "endlinecolor": "#2a3f5f",
             "gridcolor": "white",
             "linecolor": "white",
             "minorgridcolor": "white",
             "startlinecolor": "#2a3f5f"
            },
            "type": "carpet"
           }
          ],
          "choropleth": [
           {
            "colorbar": {
             "outlinewidth": 0,
             "ticks": ""
            },
            "type": "choropleth"
           }
          ],
          "contour": [
           {
            "colorbar": {
             "outlinewidth": 0,
             "ticks": ""
            },
            "colorscale": [
             [
              0,
              "#0d0887"
             ],
             [
              0.1111111111111111,
              "#46039f"
             ],
             [
              0.2222222222222222,
              "#7201a8"
             ],
             [
              0.3333333333333333,
              "#9c179e"
             ],
             [
              0.4444444444444444,
              "#bd3786"
             ],
             [
              0.5555555555555556,
              "#d8576b"
             ],
             [
              0.6666666666666666,
              "#ed7953"
             ],
             [
              0.7777777777777778,
              "#fb9f3a"
             ],
             [
              0.8888888888888888,
              "#fdca26"
             ],
             [
              1,
              "#f0f921"
             ]
            ],
            "type": "contour"
           }
          ],
          "contourcarpet": [
           {
            "colorbar": {
             "outlinewidth": 0,
             "ticks": ""
            },
            "type": "contourcarpet"
           }
          ],
          "heatmap": [
           {
            "colorbar": {
             "outlinewidth": 0,
             "ticks": ""
            },
            "colorscale": [
             [
              0,
              "#0d0887"
             ],
             [
              0.1111111111111111,
              "#46039f"
             ],
             [
              0.2222222222222222,
              "#7201a8"
             ],
             [
              0.3333333333333333,
              "#9c179e"
             ],
             [
              0.4444444444444444,
              "#bd3786"
             ],
             [
              0.5555555555555556,
              "#d8576b"
             ],
             [
              0.6666666666666666,
              "#ed7953"
             ],
             [
              0.7777777777777778,
              "#fb9f3a"
             ],
             [
              0.8888888888888888,
              "#fdca26"
             ],
             [
              1,
              "#f0f921"
             ]
            ],
            "type": "heatmap"
           }
          ],
          "heatmapgl": [
           {
            "colorbar": {
             "outlinewidth": 0,
             "ticks": ""
            },
            "colorscale": [
             [
              0,
              "#0d0887"
             ],
             [
              0.1111111111111111,
              "#46039f"
             ],
             [
              0.2222222222222222,
              "#7201a8"
             ],
             [
              0.3333333333333333,
              "#9c179e"
             ],
             [
              0.4444444444444444,
              "#bd3786"
             ],
             [
              0.5555555555555556,
              "#d8576b"
             ],
             [
              0.6666666666666666,
              "#ed7953"
             ],
             [
              0.7777777777777778,
              "#fb9f3a"
             ],
             [
              0.8888888888888888,
              "#fdca26"
             ],
             [
              1,
              "#f0f921"
             ]
            ],
            "type": "heatmapgl"
           }
          ],
          "histogram": [
           {
            "marker": {
             "pattern": {
              "fillmode": "overlay",
              "size": 10,
              "solidity": 0.2
             }
            },
            "type": "histogram"
           }
          ],
          "histogram2d": [
           {
            "colorbar": {
             "outlinewidth": 0,
             "ticks": ""
            },
            "colorscale": [
             [
              0,
              "#0d0887"
             ],
             [
              0.1111111111111111,
              "#46039f"
             ],
             [
              0.2222222222222222,
              "#7201a8"
             ],
             [
              0.3333333333333333,
              "#9c179e"
             ],
             [
              0.4444444444444444,
              "#bd3786"
             ],
             [
              0.5555555555555556,
              "#d8576b"
             ],
             [
              0.6666666666666666,
              "#ed7953"
             ],
             [
              0.7777777777777778,
              "#fb9f3a"
             ],
             [
              0.8888888888888888,
              "#fdca26"
             ],
             [
              1,
              "#f0f921"
             ]
            ],
            "type": "histogram2d"
           }
          ],
          "histogram2dcontour": [
           {
            "colorbar": {
             "outlinewidth": 0,
             "ticks": ""
            },
            "colorscale": [
             [
              0,
              "#0d0887"
             ],
             [
              0.1111111111111111,
              "#46039f"
             ],
             [
              0.2222222222222222,
              "#7201a8"
             ],
             [
              0.3333333333333333,
              "#9c179e"
             ],
             [
              0.4444444444444444,
              "#bd3786"
             ],
             [
              0.5555555555555556,
              "#d8576b"
             ],
             [
              0.6666666666666666,
              "#ed7953"
             ],
             [
              0.7777777777777778,
              "#fb9f3a"
             ],
             [
              0.8888888888888888,
              "#fdca26"
             ],
             [
              1,
              "#f0f921"
             ]
            ],
            "type": "histogram2dcontour"
           }
          ],
          "mesh3d": [
           {
            "colorbar": {
             "outlinewidth": 0,
             "ticks": ""
            },
            "type": "mesh3d"
           }
          ],
          "parcoords": [
           {
            "line": {
             "colorbar": {
              "outlinewidth": 0,
              "ticks": ""
             }
            },
            "type": "parcoords"
           }
          ],
          "pie": [
           {
            "automargin": true,
            "type": "pie"
           }
          ],
          "scatter": [
           {
            "fillpattern": {
             "fillmode": "overlay",
             "size": 10,
             "solidity": 0.2
            },
            "type": "scatter"
           }
          ],
          "scatter3d": [
           {
            "line": {
             "colorbar": {
              "outlinewidth": 0,
              "ticks": ""
             }
            },
            "marker": {
             "colorbar": {
              "outlinewidth": 0,
              "ticks": ""
             }
            },
            "type": "scatter3d"
           }
          ],
          "scattercarpet": [
           {
            "marker": {
             "colorbar": {
              "outlinewidth": 0,
              "ticks": ""
             }
            },
            "type": "scattercarpet"
           }
          ],
          "scattergeo": [
           {
            "marker": {
             "colorbar": {
              "outlinewidth": 0,
              "ticks": ""
             }
            },
            "type": "scattergeo"
           }
          ],
          "scattergl": [
           {
            "marker": {
             "colorbar": {
              "outlinewidth": 0,
              "ticks": ""
             }
            },
            "type": "scattergl"
           }
          ],
          "scattermapbox": [
           {
            "marker": {
             "colorbar": {
              "outlinewidth": 0,
              "ticks": ""
             }
            },
            "type": "scattermapbox"
           }
          ],
          "scatterpolar": [
           {
            "marker": {
             "colorbar": {
              "outlinewidth": 0,
              "ticks": ""
             }
            },
            "type": "scatterpolar"
           }
          ],
          "scatterpolargl": [
           {
            "marker": {
             "colorbar": {
              "outlinewidth": 0,
              "ticks": ""
             }
            },
            "type": "scatterpolargl"
           }
          ],
          "scatterternary": [
           {
            "marker": {
             "colorbar": {
              "outlinewidth": 0,
              "ticks": ""
             }
            },
            "type": "scatterternary"
           }
          ],
          "surface": [
           {
            "colorbar": {
             "outlinewidth": 0,
             "ticks": ""
            },
            "colorscale": [
             [
              0,
              "#0d0887"
             ],
             [
              0.1111111111111111,
              "#46039f"
             ],
             [
              0.2222222222222222,
              "#7201a8"
             ],
             [
              0.3333333333333333,
              "#9c179e"
             ],
             [
              0.4444444444444444,
              "#bd3786"
             ],
             [
              0.5555555555555556,
              "#d8576b"
             ],
             [
              0.6666666666666666,
              "#ed7953"
             ],
             [
              0.7777777777777778,
              "#fb9f3a"
             ],
             [
              0.8888888888888888,
              "#fdca26"
             ],
             [
              1,
              "#f0f921"
             ]
            ],
            "type": "surface"
           }
          ],
          "table": [
           {
            "cells": {
             "fill": {
              "color": "#EBF0F8"
             },
             "line": {
              "color": "white"
             }
            },
            "header": {
             "fill": {
              "color": "#C8D4E3"
             },
             "line": {
              "color": "white"
             }
            },
            "type": "table"
           }
          ]
         },
         "layout": {
          "annotationdefaults": {
           "arrowcolor": "#2a3f5f",
           "arrowhead": 0,
           "arrowwidth": 1
          },
          "autotypenumbers": "strict",
          "coloraxis": {
           "colorbar": {
            "outlinewidth": 0,
            "ticks": ""
           }
          },
          "colorscale": {
           "diverging": [
            [
             0,
             "#8e0152"
            ],
            [
             0.1,
             "#c51b7d"
            ],
            [
             0.2,
             "#de77ae"
            ],
            [
             0.3,
             "#f1b6da"
            ],
            [
             0.4,
             "#fde0ef"
            ],
            [
             0.5,
             "#f7f7f7"
            ],
            [
             0.6,
             "#e6f5d0"
            ],
            [
             0.7,
             "#b8e186"
            ],
            [
             0.8,
             "#7fbc41"
            ],
            [
             0.9,
             "#4d9221"
            ],
            [
             1,
             "#276419"
            ]
           ],
           "sequential": [
            [
             0,
             "#0d0887"
            ],
            [
             0.1111111111111111,
             "#46039f"
            ],
            [
             0.2222222222222222,
             "#7201a8"
            ],
            [
             0.3333333333333333,
             "#9c179e"
            ],
            [
             0.4444444444444444,
             "#bd3786"
            ],
            [
             0.5555555555555556,
             "#d8576b"
            ],
            [
             0.6666666666666666,
             "#ed7953"
            ],
            [
             0.7777777777777778,
             "#fb9f3a"
            ],
            [
             0.8888888888888888,
             "#fdca26"
            ],
            [
             1,
             "#f0f921"
            ]
           ],
           "sequentialminus": [
            [
             0,
             "#0d0887"
            ],
            [
             0.1111111111111111,
             "#46039f"
            ],
            [
             0.2222222222222222,
             "#7201a8"
            ],
            [
             0.3333333333333333,
             "#9c179e"
            ],
            [
             0.4444444444444444,
             "#bd3786"
            ],
            [
             0.5555555555555556,
             "#d8576b"
            ],
            [
             0.6666666666666666,
             "#ed7953"
            ],
            [
             0.7777777777777778,
             "#fb9f3a"
            ],
            [
             0.8888888888888888,
             "#fdca26"
            ],
            [
             1,
             "#f0f921"
            ]
           ]
          },
          "colorway": [
           "#636efa",
           "#EF553B",
           "#00cc96",
           "#ab63fa",
           "#FFA15A",
           "#19d3f3",
           "#FF6692",
           "#B6E880",
           "#FF97FF",
           "#FECB52"
          ],
          "font": {
           "color": "#2a3f5f"
          },
          "geo": {
           "bgcolor": "white",
           "lakecolor": "white",
           "landcolor": "#E5ECF6",
           "showlakes": true,
           "showland": true,
           "subunitcolor": "white"
          },
          "hoverlabel": {
           "align": "left"
          },
          "hovermode": "closest",
          "mapbox": {
           "style": "light"
          },
          "paper_bgcolor": "white",
          "plot_bgcolor": "#E5ECF6",
          "polar": {
           "angularaxis": {
            "gridcolor": "white",
            "linecolor": "white",
            "ticks": ""
           },
           "bgcolor": "#E5ECF6",
           "radialaxis": {
            "gridcolor": "white",
            "linecolor": "white",
            "ticks": ""
           }
          },
          "scene": {
           "xaxis": {
            "backgroundcolor": "#E5ECF6",
            "gridcolor": "white",
            "gridwidth": 2,
            "linecolor": "white",
            "showbackground": true,
            "ticks": "",
            "zerolinecolor": "white"
           },
           "yaxis": {
            "backgroundcolor": "#E5ECF6",
            "gridcolor": "white",
            "gridwidth": 2,
            "linecolor": "white",
            "showbackground": true,
            "ticks": "",
            "zerolinecolor": "white"
           },
           "zaxis": {
            "backgroundcolor": "#E5ECF6",
            "gridcolor": "white",
            "gridwidth": 2,
            "linecolor": "white",
            "showbackground": true,
            "ticks": "",
            "zerolinecolor": "white"
           }
          },
          "shapedefaults": {
           "line": {
            "color": "#2a3f5f"
           }
          },
          "ternary": {
           "aaxis": {
            "gridcolor": "white",
            "linecolor": "white",
            "ticks": ""
           },
           "baxis": {
            "gridcolor": "white",
            "linecolor": "white",
            "ticks": ""
           },
           "bgcolor": "#E5ECF6",
           "caxis": {
            "gridcolor": "white",
            "linecolor": "white",
            "ticks": ""
           }
          },
          "title": {
           "x": 0.05
          },
          "xaxis": {
           "automargin": true,
           "gridcolor": "white",
           "linecolor": "white",
           "ticks": "",
           "title": {
            "standoff": 15
           },
           "zerolinecolor": "white",
           "zerolinewidth": 2
          },
          "yaxis": {
           "automargin": true,
           "gridcolor": "white",
           "linecolor": "white",
           "ticks": "",
           "title": {
            "standoff": 15
           },
           "zerolinecolor": "white",
           "zerolinewidth": 2
          }
         }
        },
        "xaxis": {
         "title": {
          "text": "Number of Release Organization"
         }
        },
        "yaxis": {
         "autorange": "reversed",
         "title": {
          "text": "Leaderboard Name"
         }
        }
       }
      }
     },
     "metadata": {},
     "output_type": "display_data"
    }
   ],
   "source": [
    "df = pd.read_csv(path_meta / 'leaderboard_processed.csv')\n",
    "df = df[df['Platforms'] != \"['Papers With Code']\"]\n",
    "\n",
    "statistics = {\n",
    "    'Distribution': 'Release Organizations across Leaderboard Systems',\n",
    "    'Mean': np.mean(df['#Release organization']),\n",
    "    'Median': np.median(df['#Release organization']),\n",
    "    'IQR': df['#Release organization'].quantile(0.75) - df['#Release organization'].quantile(0.25),\n",
    "}\n",
    "df_statistics = pd.read_csv(path_meta / 'leaderboard_statistics.csv')\n",
    "df_statistics = pd.concat([df_statistics, pd.DataFrame([statistics])], ignore_index=True)\n",
    "df_statistics.drop_duplicates(subset=['Distribution'], keep='last', inplace=True)\n",
    "df_statistics.sort_values(by='Distribution', inplace=True)\n",
    "df_statistics.to_csv(path_meta / 'leaderboard_statistics.csv', index=False)\n",
    "\n",
    "df_top = df.drop_duplicates(subset=['Leaderboard name']).sort_values(by='#Release organization', ascending=False).head(10)\n",
    "print(f\"{df_top['Leaderboard name'].iloc[0]} holds the highest number of release organizations up to {int(df_top['#Release organization'].iloc[0])}.\")\n",
    "\n",
    "fig = go.Figure(go.Bar(\n",
    "        x=df_top['#Release organization'],  # Values for the bar lengths\n",
    "        y=df_top['Leaderboard name'],  # Categories for each bar\n",
    "        orientation='h',  # Sets the bars to be horizontal\n",
    "        text=df_top['#Release organization'],  # Adds the values as text on each bar\n",
    "        textposition='auto'  # Automatically positions the text on the bars\n",
    "))\n",
    "fig.update_layout(\n",
    "        xaxis_title='Number of Release Organization',\n",
    "        yaxis_title='Leaderboard Name',\n",
    "        yaxis_autorange='reversed'  # This line makes the bars go top-down\n",
    ")\n",
    "# Update the layout for a tighter look\n",
    "fig.update_layout(\n",
    "    autosize=True,\n",
    "    margin=dict(\n",
    "        l=10,  # Left margin\n",
    "        r=10,  # Right margin\n",
    "        b=10,  # Bottom margin\n",
    "        t=10,  # Top margin\n",
    "        pad=4  # Padding between the plot and the margin\n",
    "    )\n",
    ")\n",
    "fig.show()\n"
   ]
  },
  {
   "cell_type": "code",
   "execution_count": 21,
   "metadata": {},
   "outputs": [
    {
     "name": "stdout",
     "output_type": "stream",
     "text": [
      "86.18% (374 out of 434) leaderboard systems are associated with specific publications, including literature, blogs, and reports.\n",
      "54.15% (235 out of 434) publications have been accepted in a specific workshop, conference, and journal.\n",
      "EMNLP emerges as the conference with the most number of accepted publications, accounting for 16.6% (39 out of 235) of those published.\n"
     ]
    },
    {
     "data": {
      "application/vnd.plotly.v1+json": {
       "config": {
        "plotlyServerURL": "https://plot.ly"
       },
       "data": [
        {
         "orientation": "h",
         "text": [
          39,
          25,
          21,
          18,
          13,
          13,
          12,
          12,
          11,
          8
         ],
         "textposition": "auto",
         "type": "bar",
         "x": [
          39,
          25,
          21,
          18,
          13,
          13,
          12,
          12,
          11,
          8
         ],
         "y": [
          "EMNLP",
          "NeurIPS",
          "ACL",
          "CVPR",
          "NAACL",
          "ICCV",
          "AAAI",
          "ICLR",
          "ECCV",
          "TACL"
         ]
        }
       ],
       "layout": {
        "template": {
         "data": {
          "bar": [
           {
            "error_x": {
             "color": "#2a3f5f"
            },
            "error_y": {
             "color": "#2a3f5f"
            },
            "marker": {
             "line": {
              "color": "#E5ECF6",
              "width": 0.5
             },
             "pattern": {
              "fillmode": "overlay",
              "size": 10,
              "solidity": 0.2
             }
            },
            "type": "bar"
           }
          ],
          "barpolar": [
           {
            "marker": {
             "line": {
              "color": "#E5ECF6",
              "width": 0.5
             },
             "pattern": {
              "fillmode": "overlay",
              "size": 10,
              "solidity": 0.2
             }
            },
            "type": "barpolar"
           }
          ],
          "carpet": [
           {
            "aaxis": {
             "endlinecolor": "#2a3f5f",
             "gridcolor": "white",
             "linecolor": "white",
             "minorgridcolor": "white",
             "startlinecolor": "#2a3f5f"
            },
            "baxis": {
             "endlinecolor": "#2a3f5f",
             "gridcolor": "white",
             "linecolor": "white",
             "minorgridcolor": "white",
             "startlinecolor": "#2a3f5f"
            },
            "type": "carpet"
           }
          ],
          "choropleth": [
           {
            "colorbar": {
             "outlinewidth": 0,
             "ticks": ""
            },
            "type": "choropleth"
           }
          ],
          "contour": [
           {
            "colorbar": {
             "outlinewidth": 0,
             "ticks": ""
            },
            "colorscale": [
             [
              0,
              "#0d0887"
             ],
             [
              0.1111111111111111,
              "#46039f"
             ],
             [
              0.2222222222222222,
              "#7201a8"
             ],
             [
              0.3333333333333333,
              "#9c179e"
             ],
             [
              0.4444444444444444,
              "#bd3786"
             ],
             [
              0.5555555555555556,
              "#d8576b"
             ],
             [
              0.6666666666666666,
              "#ed7953"
             ],
             [
              0.7777777777777778,
              "#fb9f3a"
             ],
             [
              0.8888888888888888,
              "#fdca26"
             ],
             [
              1,
              "#f0f921"
             ]
            ],
            "type": "contour"
           }
          ],
          "contourcarpet": [
           {
            "colorbar": {
             "outlinewidth": 0,
             "ticks": ""
            },
            "type": "contourcarpet"
           }
          ],
          "heatmap": [
           {
            "colorbar": {
             "outlinewidth": 0,
             "ticks": ""
            },
            "colorscale": [
             [
              0,
              "#0d0887"
             ],
             [
              0.1111111111111111,
              "#46039f"
             ],
             [
              0.2222222222222222,
              "#7201a8"
             ],
             [
              0.3333333333333333,
              "#9c179e"
             ],
             [
              0.4444444444444444,
              "#bd3786"
             ],
             [
              0.5555555555555556,
              "#d8576b"
             ],
             [
              0.6666666666666666,
              "#ed7953"
             ],
             [
              0.7777777777777778,
              "#fb9f3a"
             ],
             [
              0.8888888888888888,
              "#fdca26"
             ],
             [
              1,
              "#f0f921"
             ]
            ],
            "type": "heatmap"
           }
          ],
          "heatmapgl": [
           {
            "colorbar": {
             "outlinewidth": 0,
             "ticks": ""
            },
            "colorscale": [
             [
              0,
              "#0d0887"
             ],
             [
              0.1111111111111111,
              "#46039f"
             ],
             [
              0.2222222222222222,
              "#7201a8"
             ],
             [
              0.3333333333333333,
              "#9c179e"
             ],
             [
              0.4444444444444444,
              "#bd3786"
             ],
             [
              0.5555555555555556,
              "#d8576b"
             ],
             [
              0.6666666666666666,
              "#ed7953"
             ],
             [
              0.7777777777777778,
              "#fb9f3a"
             ],
             [
              0.8888888888888888,
              "#fdca26"
             ],
             [
              1,
              "#f0f921"
             ]
            ],
            "type": "heatmapgl"
           }
          ],
          "histogram": [
           {
            "marker": {
             "pattern": {
              "fillmode": "overlay",
              "size": 10,
              "solidity": 0.2
             }
            },
            "type": "histogram"
           }
          ],
          "histogram2d": [
           {
            "colorbar": {
             "outlinewidth": 0,
             "ticks": ""
            },
            "colorscale": [
             [
              0,
              "#0d0887"
             ],
             [
              0.1111111111111111,
              "#46039f"
             ],
             [
              0.2222222222222222,
              "#7201a8"
             ],
             [
              0.3333333333333333,
              "#9c179e"
             ],
             [
              0.4444444444444444,
              "#bd3786"
             ],
             [
              0.5555555555555556,
              "#d8576b"
             ],
             [
              0.6666666666666666,
              "#ed7953"
             ],
             [
              0.7777777777777778,
              "#fb9f3a"
             ],
             [
              0.8888888888888888,
              "#fdca26"
             ],
             [
              1,
              "#f0f921"
             ]
            ],
            "type": "histogram2d"
           }
          ],
          "histogram2dcontour": [
           {
            "colorbar": {
             "outlinewidth": 0,
             "ticks": ""
            },
            "colorscale": [
             [
              0,
              "#0d0887"
             ],
             [
              0.1111111111111111,
              "#46039f"
             ],
             [
              0.2222222222222222,
              "#7201a8"
             ],
             [
              0.3333333333333333,
              "#9c179e"
             ],
             [
              0.4444444444444444,
              "#bd3786"
             ],
             [
              0.5555555555555556,
              "#d8576b"
             ],
             [
              0.6666666666666666,
              "#ed7953"
             ],
             [
              0.7777777777777778,
              "#fb9f3a"
             ],
             [
              0.8888888888888888,
              "#fdca26"
             ],
             [
              1,
              "#f0f921"
             ]
            ],
            "type": "histogram2dcontour"
           }
          ],
          "mesh3d": [
           {
            "colorbar": {
             "outlinewidth": 0,
             "ticks": ""
            },
            "type": "mesh3d"
           }
          ],
          "parcoords": [
           {
            "line": {
             "colorbar": {
              "outlinewidth": 0,
              "ticks": ""
             }
            },
            "type": "parcoords"
           }
          ],
          "pie": [
           {
            "automargin": true,
            "type": "pie"
           }
          ],
          "scatter": [
           {
            "fillpattern": {
             "fillmode": "overlay",
             "size": 10,
             "solidity": 0.2
            },
            "type": "scatter"
           }
          ],
          "scatter3d": [
           {
            "line": {
             "colorbar": {
              "outlinewidth": 0,
              "ticks": ""
             }
            },
            "marker": {
             "colorbar": {
              "outlinewidth": 0,
              "ticks": ""
             }
            },
            "type": "scatter3d"
           }
          ],
          "scattercarpet": [
           {
            "marker": {
             "colorbar": {
              "outlinewidth": 0,
              "ticks": ""
             }
            },
            "type": "scattercarpet"
           }
          ],
          "scattergeo": [
           {
            "marker": {
             "colorbar": {
              "outlinewidth": 0,
              "ticks": ""
             }
            },
            "type": "scattergeo"
           }
          ],
          "scattergl": [
           {
            "marker": {
             "colorbar": {
              "outlinewidth": 0,
              "ticks": ""
             }
            },
            "type": "scattergl"
           }
          ],
          "scattermapbox": [
           {
            "marker": {
             "colorbar": {
              "outlinewidth": 0,
              "ticks": ""
             }
            },
            "type": "scattermapbox"
           }
          ],
          "scatterpolar": [
           {
            "marker": {
             "colorbar": {
              "outlinewidth": 0,
              "ticks": ""
             }
            },
            "type": "scatterpolar"
           }
          ],
          "scatterpolargl": [
           {
            "marker": {
             "colorbar": {
              "outlinewidth": 0,
              "ticks": ""
             }
            },
            "type": "scatterpolargl"
           }
          ],
          "scatterternary": [
           {
            "marker": {
             "colorbar": {
              "outlinewidth": 0,
              "ticks": ""
             }
            },
            "type": "scatterternary"
           }
          ],
          "surface": [
           {
            "colorbar": {
             "outlinewidth": 0,
             "ticks": ""
            },
            "colorscale": [
             [
              0,
              "#0d0887"
             ],
             [
              0.1111111111111111,
              "#46039f"
             ],
             [
              0.2222222222222222,
              "#7201a8"
             ],
             [
              0.3333333333333333,
              "#9c179e"
             ],
             [
              0.4444444444444444,
              "#bd3786"
             ],
             [
              0.5555555555555556,
              "#d8576b"
             ],
             [
              0.6666666666666666,
              "#ed7953"
             ],
             [
              0.7777777777777778,
              "#fb9f3a"
             ],
             [
              0.8888888888888888,
              "#fdca26"
             ],
             [
              1,
              "#f0f921"
             ]
            ],
            "type": "surface"
           }
          ],
          "table": [
           {
            "cells": {
             "fill": {
              "color": "#EBF0F8"
             },
             "line": {
              "color": "white"
             }
            },
            "header": {
             "fill": {
              "color": "#C8D4E3"
             },
             "line": {
              "color": "white"
             }
            },
            "type": "table"
           }
          ]
         },
         "layout": {
          "annotationdefaults": {
           "arrowcolor": "#2a3f5f",
           "arrowhead": 0,
           "arrowwidth": 1
          },
          "autotypenumbers": "strict",
          "coloraxis": {
           "colorbar": {
            "outlinewidth": 0,
            "ticks": ""
           }
          },
          "colorscale": {
           "diverging": [
            [
             0,
             "#8e0152"
            ],
            [
             0.1,
             "#c51b7d"
            ],
            [
             0.2,
             "#de77ae"
            ],
            [
             0.3,
             "#f1b6da"
            ],
            [
             0.4,
             "#fde0ef"
            ],
            [
             0.5,
             "#f7f7f7"
            ],
            [
             0.6,
             "#e6f5d0"
            ],
            [
             0.7,
             "#b8e186"
            ],
            [
             0.8,
             "#7fbc41"
            ],
            [
             0.9,
             "#4d9221"
            ],
            [
             1,
             "#276419"
            ]
           ],
           "sequential": [
            [
             0,
             "#0d0887"
            ],
            [
             0.1111111111111111,
             "#46039f"
            ],
            [
             0.2222222222222222,
             "#7201a8"
            ],
            [
             0.3333333333333333,
             "#9c179e"
            ],
            [
             0.4444444444444444,
             "#bd3786"
            ],
            [
             0.5555555555555556,
             "#d8576b"
            ],
            [
             0.6666666666666666,
             "#ed7953"
            ],
            [
             0.7777777777777778,
             "#fb9f3a"
            ],
            [
             0.8888888888888888,
             "#fdca26"
            ],
            [
             1,
             "#f0f921"
            ]
           ],
           "sequentialminus": [
            [
             0,
             "#0d0887"
            ],
            [
             0.1111111111111111,
             "#46039f"
            ],
            [
             0.2222222222222222,
             "#7201a8"
            ],
            [
             0.3333333333333333,
             "#9c179e"
            ],
            [
             0.4444444444444444,
             "#bd3786"
            ],
            [
             0.5555555555555556,
             "#d8576b"
            ],
            [
             0.6666666666666666,
             "#ed7953"
            ],
            [
             0.7777777777777778,
             "#fb9f3a"
            ],
            [
             0.8888888888888888,
             "#fdca26"
            ],
            [
             1,
             "#f0f921"
            ]
           ]
          },
          "colorway": [
           "#636efa",
           "#EF553B",
           "#00cc96",
           "#ab63fa",
           "#FFA15A",
           "#19d3f3",
           "#FF6692",
           "#B6E880",
           "#FF97FF",
           "#FECB52"
          ],
          "font": {
           "color": "#2a3f5f"
          },
          "geo": {
           "bgcolor": "white",
           "lakecolor": "white",
           "landcolor": "#E5ECF6",
           "showlakes": true,
           "showland": true,
           "subunitcolor": "white"
          },
          "hoverlabel": {
           "align": "left"
          },
          "hovermode": "closest",
          "mapbox": {
           "style": "light"
          },
          "paper_bgcolor": "white",
          "plot_bgcolor": "#E5ECF6",
          "polar": {
           "angularaxis": {
            "gridcolor": "white",
            "linecolor": "white",
            "ticks": ""
           },
           "bgcolor": "#E5ECF6",
           "radialaxis": {
            "gridcolor": "white",
            "linecolor": "white",
            "ticks": ""
           }
          },
          "scene": {
           "xaxis": {
            "backgroundcolor": "#E5ECF6",
            "gridcolor": "white",
            "gridwidth": 2,
            "linecolor": "white",
            "showbackground": true,
            "ticks": "",
            "zerolinecolor": "white"
           },
           "yaxis": {
            "backgroundcolor": "#E5ECF6",
            "gridcolor": "white",
            "gridwidth": 2,
            "linecolor": "white",
            "showbackground": true,
            "ticks": "",
            "zerolinecolor": "white"
           },
           "zaxis": {
            "backgroundcolor": "#E5ECF6",
            "gridcolor": "white",
            "gridwidth": 2,
            "linecolor": "white",
            "showbackground": true,
            "ticks": "",
            "zerolinecolor": "white"
           }
          },
          "shapedefaults": {
           "line": {
            "color": "#2a3f5f"
           }
          },
          "ternary": {
           "aaxis": {
            "gridcolor": "white",
            "linecolor": "white",
            "ticks": ""
           },
           "baxis": {
            "gridcolor": "white",
            "linecolor": "white",
            "ticks": ""
           },
           "bgcolor": "#E5ECF6",
           "caxis": {
            "gridcolor": "white",
            "linecolor": "white",
            "ticks": ""
           }
          },
          "title": {
           "x": 0.05
          },
          "xaxis": {
           "automargin": true,
           "gridcolor": "white",
           "linecolor": "white",
           "ticks": "",
           "title": {
            "standoff": 15
           },
           "zerolinecolor": "white",
           "zerolinewidth": 2
          },
          "yaxis": {
           "automargin": true,
           "gridcolor": "white",
           "linecolor": "white",
           "ticks": "",
           "title": {
            "standoff": 15
           },
           "zerolinecolor": "white",
           "zerolinewidth": 2
          }
         }
        },
        "title": {
         "text": "Number of Leaderboards with Accepted Articles across Publication Venues (Top 10)"
        },
        "xaxis": {
         "title": {
          "text": "Leaderboard Number"
         }
        },
        "yaxis": {
         "autorange": "reversed",
         "title": {
          "text": "Publication Name"
         }
        }
       }
      }
     },
     "metadata": {},
     "output_type": "display_data"
    }
   ],
   "source": [
    "df = pd.read_csv(path_meta / 'leaderboard_processed.csv')\n",
    "df['Publication venues'] = df['Publication venues'].apply(ast.literal_eval)\n",
    "df_pub = df[df['Publication venues'].apply(len) > 0]\n",
    "print(f\"{round(len(df_pub)/len(df)*100,2)}% ({len(df_pub)} out of {len(df)}) leaderboard systems are associated with specific publications, including literature, blogs, and reports.\")\n",
    "\n",
    "df_literature = filter_rows_by_list_column(df_pub, 'Publication venues', non_literature_type)\n",
    "print(f\"{round(len(df_literature)/len(df)*100,2)}% ({len(df_literature)} out of {len(df)}) publications have been accepted in a specific workshop, conference, and journal.\")\n",
    "df_split = df_literature.explode('Publication venues').groupby('Publication venues').size().reset_index(name='Frequency')\n",
    "df_split['Weight'] = 1\n",
    "\n",
    "statistics = {\n",
    "    'Distribution': 'Leaderboard Systems across Publication Venues',\n",
    "    'Mean': np.mean(df_split['Frequency']),\n",
    "    'Median': np.median(df_split['Frequency']),\n",
    "    'IQR': df_split['Frequency'].quantile(0.75) - df_split['Frequency'].quantile(0.25),\n",
    "    'Gini Coefficient': ineqpy.inequality.gini(data=df_split, income='Frequency', weights='Weight'),\n",
    "}\n",
    "df_statistics = pd.read_csv(path_meta / 'leaderboard_statistics.csv')\n",
    "df_statistics = pd.concat([df_statistics, pd.DataFrame([statistics])], ignore_index=True)\n",
    "df_statistics.drop_duplicates(subset=['Distribution'], keep='last', inplace=True)\n",
    "df_statistics.sort_values(by='Distribution', inplace=True)\n",
    "df_statistics.to_csv(path_meta / 'leaderboard_statistics.csv', index=False)\n",
    "\n",
    "df_top = df_split.sort_values(by='Frequency', ascending=False).head(10)\n",
    "print(f\"{df_top['Publication venues'].iloc[0]} emerges as the conference with the most number of accepted publications, accounting for {round(df_top['Frequency'].iloc[0]/len(df_literature)*100,2)}% ({df_top['Frequency'].iloc[0]} out of {len(df_literature)}) of those published.\")\n",
    "\n",
    "fig = go.Figure(go.Bar(\n",
    "        x=df_top['Frequency'],  # Values for the bar lengths\n",
    "        y=df_top['Publication venues'],  # Categories for each bar\n",
    "        orientation='h',  # Sets the bars to be horizontal\n",
    "        text=df_top['Frequency'],  # Adds the values as text on each bar\n",
    "        textposition='auto'  # Automatically positions the text on the bars\n",
    "))\n",
    "fig.update_layout(\n",
    "        title=f'Number of Leaderboards with Accepted Articles across Publication Venues (Top 10)',\n",
    "        xaxis_title='Leaderboard Number',\n",
    "        yaxis_title='Publication Name',\n",
    "        yaxis_autorange='reversed'  # This line makes the bars go top-down\n",
    ")\n",
    "fig.show()\n"
   ]
  },
  {
   "cell_type": "code",
   "execution_count": 22,
   "metadata": {},
   "outputs": [],
   "source": [
    "# df = pd.read_csv(path_meta / 'leaderboard_processed.csv')\n",
    "# df_split = df[df['#Organization strategy'] > 0]\n",
    "# print(f'{round(len(df_split)/len(df)*100,2)}% ({len(df_split)} out of {len(df)}) non-pwc leaderboards have adopted multiple organization strategies.')\n",
    "\n",
    "# statistics = {\n",
    "#     'Distribution': 'Organization Strategies across Leaderboard Systems',\n",
    "#     'Mean': np.mean(df_split['#Organization strategy']),\n",
    "#     'Median': np.median(df_split['#Organization strategy']),\n",
    "#     'IQR': df_split['#Organization strategy'].quantile(0.75) - df_split['#Organization strategy'].quantile(0.25),\n",
    "# }\n",
    "# df_statistics = pd.read_csv(path_meta / 'leaderboard_statistics.csv')\n",
    "# df_statistics = pd.concat([df_statistics, pd.DataFrame([statistics])], ignore_index=True)\n",
    "# df_statistics.drop_duplicates(subset=['Distribution'], keep='last', inplace=True)\n",
    "# df_statistics.sort_values(by='Distribution', inplace=True)\n",
    "# df_statistics.to_csv(path_meta / 'leaderboard_statistics.csv', index=False)\n",
    "\n",
    "# df_top = df_split.drop_duplicates(subset=['Leaderboard name']).sort_values(by='#Organization strategy', ascending=False).head(10)\n",
    "# print(f\"{df_top['Leaderboard name'].iloc[0]} has adopted the highest number of organization strategies up to {int(df_top['#Organization strategy'].iloc[0])} among non-pwc leaderboards.\")\n",
    "\n",
    "# fig = go.Figure(go.Bar(\n",
    "#         x=df_top['#Organization strategy'],  # Values for the bar lengths\n",
    "#         y=df_top['Leaderboard name'],  # Categories for each bar\n",
    "#         orientation='h',  # Sets the bars to be horizontal\n",
    "#         text=df_top['#Organization strategy'],  # Adds the values as text on each bar\n",
    "#         textposition='auto'  # Automatically positions the text on the bars\n",
    "# ))\n",
    "# fig.update_layout(\n",
    "#         xaxis_title='Number of Organization Strategy',\n",
    "#         yaxis_title='Leaderboard Name',\n",
    "#         yaxis_autorange='reversed'  # This line makes the bars go top-down\n",
    "# )\n",
    "# # Update the layout for a tighter look\n",
    "# fig.update_layout(\n",
    "#     autosize=True,\n",
    "#     margin=dict(\n",
    "#         l=10,  # Left margin\n",
    "#         r=10,  # Right margin\n",
    "#         b=10,  # Bottom margin\n",
    "#         t=10,  # Top margin\n",
    "#         pad=4  # Padding between the plot and the margin\n",
    "#     )\n",
    "# )\n",
    "# fig.show()\n"
   ]
  },
  {
   "cell_type": "code",
   "execution_count": 23,
   "metadata": {},
   "outputs": [],
   "source": [
    "# df = pd.read_csv(path_meta / 'leaderboard_processed.csv')\n",
    "# df = df[df['#Organization strategy'] > 0]\n",
    "\n",
    "# df['Organization strategies'] = df['Organization strategies'].apply(ast.literal_eval)\n",
    "# df_split = df.explode('Organization strategies').groupby('Organization strategies').size().reset_index(name='Frequency')\n",
    "# df_split['Weight'] = 1\n",
    "\n",
    "# statistics = {\n",
    "#     'Distribution': 'Leaderboard Systems across Organization Strategies',\n",
    "#     'Mean': np.mean(df_split['Frequency']),\n",
    "#     'Median': np.median(df_split['Frequency']),\n",
    "#     'IQR': df_split['Frequency'].quantile(0.75) - df_split['Frequency'].quantile(0.25),\n",
    "#     'Gini Coefficient': ineqpy.inequality.gini(data=df_split, income='Frequency', weights='Weight'),\n",
    "# }\n",
    "# df_statistics = pd.read_csv(path_meta / 'leaderboard_statistics.csv')\n",
    "# df_statistics = pd.concat([df_statistics, pd.DataFrame([statistics])], ignore_index=True)\n",
    "# df_statistics.drop_duplicates(subset=['Distribution'], keep='last', inplace=True)\n",
    "# df_statistics.sort_values(by='Distribution', inplace=True)\n",
    "# df_statistics.to_csv(path_meta / 'leaderboard_statistics.csv', index=False)\n",
    "\n",
    "# df_top = df_split.sort_values(by='Frequency', ascending=False).head(10)\n",
    "# print(f\"{df_top['Organization strategies'].iloc[0]} is the most adopted organization strategy, involving {round(df_top['Frequency'].iloc[0]/len(df)*100,2)}% ({df_top['Frequency'].iloc[0]} out of {len(df)}) multi-split leaderboard systems.\")\n",
    "\n",
    "# fig = go.Figure(go.Bar(\n",
    "#         x=df_top['Frequency'],  # Values for the bar lengths\n",
    "#         y=df_top['Organization strategies'],  # Categories for each bar\n",
    "#         orientation='h',  # Sets the bars to be horizontal\n",
    "#         text=df_top['Frequency'],  # Adds the values as text on each bar\n",
    "#         textposition='auto'  # Automatically positions the text on the bars\n",
    "# ))\n",
    "# fig.update_layout(\n",
    "#         xaxis_title='Leaderboard Number',\n",
    "#         yaxis_title='Organization Strategy',\n",
    "#         yaxis_autorange='reversed'  # This line makes the bars go top-down\n",
    "# )\n",
    "# # Update the layout for a tighter look\n",
    "# fig.update_layout(\n",
    "#     autosize=True,\n",
    "#     margin=dict(\n",
    "#         l=10,  # Left margin\n",
    "#         r=10,  # Right margin\n",
    "#         b=10,  # Bottom margin\n",
    "#         t=10,  # Top margin\n",
    "#         pad=4  # Padding between the plot and the margin\n",
    "#     )\n",
    "# )\n",
    "# fig.show()\n"
   ]
  },
  {
   "cell_type": "code",
   "execution_count": 24,
   "metadata": {},
   "outputs": [],
   "source": [
    "# df = pd.read_csv(path_meta / 'leaderboard_processed.csv')\n",
    "\n",
    "# statistics = {\n",
    "#     'Distribution': 'Supported Languages across Leaderboard Systems',\n",
    "#     'Mean': np.mean(df['#Supported language']),\n",
    "#     'Median': np.median(df['#Supported language']),\n",
    "#     'IQR': df['#Supported language'].quantile(0.75) - df['#Supported language'].quantile(0.25),\n",
    "# }\n",
    "# df_statistics = pd.read_csv(path_meta / 'leaderboard_statistics.csv')\n",
    "# df_statistics = pd.concat([df_statistics, pd.DataFrame([statistics])], ignore_index=True)\n",
    "# df_statistics.drop_duplicates(subset=['Distribution'], keep='last', inplace=True)\n",
    "# df_statistics.sort_values(by='Distribution', inplace=True)\n",
    "# df_statistics.to_csv(path_meta / 'leaderboard_statistics.csv', index=False)\n",
    "\n",
    "# df_top = df.drop_duplicates(subset=['Leaderboard name']).sort_values(by='#Supported language', ascending=False).head(10)\n",
    "# print(f\"{df_top['Leaderboard name'].iloc[0]} supports the highest number of languages up to {int(df_top['#Supported language'].iloc[0])}.\")\n",
    "\n",
    "# fig = go.Figure(go.Bar(\n",
    "#         x=df_top['#Supported language'],  # Values for the bar lengths\n",
    "#         y=df_top['Leaderboard name'],  # Categories for each bar\n",
    "#         orientation='h',  # Sets the bars to be horizontal\n",
    "#         text=df_top['#Supported language'],  # Adds the values as text on each bar\n",
    "#         textposition='auto'  # Automatically positions the text on the bars\n",
    "# ))\n",
    "# fig.update_layout(\n",
    "#         xaxis_title='Number of Supported Languages',\n",
    "#         yaxis_title='Leaderboard Name',\n",
    "#         yaxis_autorange='reversed'  # This line makes the bars go top-down\n",
    "# )\n",
    "# # Update the layout for a tighter look\n",
    "# fig.update_layout(\n",
    "#     autosize=True,\n",
    "#     margin=dict(\n",
    "#         l=10,  # Left margin\n",
    "#         r=10,  # Right margin\n",
    "#         b=10,  # Bottom margin\n",
    "#         t=10,  # Top margin\n",
    "#         pad=4  # Padding between the plot and the margin\n",
    "#     )\n",
    "# )\n",
    "# fig.show()\n"
   ]
  },
  {
   "cell_type": "code",
   "execution_count": 25,
   "metadata": {},
   "outputs": [],
   "source": [
    "# df = pd.read_csv(path_meta / 'leaderboard_processed.csv')\n",
    "# df['Supported languages'] = df['Supported languages'].apply(ast.literal_eval)\n",
    "\n",
    "# df_split = df.explode('Supported languages').groupby('Supported languages').size().reset_index(name='Frequency')\n",
    "# df_split['Weight'] = 1\n",
    "\n",
    "# statistics = {\n",
    "#     'Distribution': 'Leaderboard Systems across Supported Languages',\n",
    "#     'Mean': np.mean(df_split['Frequency']),\n",
    "#     'Median': np.median(df_split['Frequency']),\n",
    "#     'IQR': df_split['Frequency'].quantile(0.75) - df_split['Frequency'].quantile(0.25),\n",
    "#     'Gini Coefficient': ineqpy.inequality.gini(data=df_split, income='Frequency', weights='Weight'),\n",
    "# }\n",
    "# df_statistics = pd.read_csv(path_meta / 'leaderboard_statistics.csv')\n",
    "# df_statistics = pd.concat([df_statistics, pd.DataFrame([statistics])], ignore_index=True)\n",
    "# df_statistics.drop_duplicates(subset=['Distribution'], keep='last', inplace=True)\n",
    "# df_statistics.sort_values(by='Distribution', inplace=True)\n",
    "# df_statistics.to_csv(path_meta / 'leaderboard_statistics.csv', index=False)\n",
    "\n",
    "# df_top = df_split.drop_duplicates(subset=['Supported languages']).sort_values(by='Frequency', ascending=False).head(10)\n",
    "# print(f\"{df_top['Supported languages'].iloc[0]} is the language most frequently supported by {round(df_top['Frequency'].iloc[0]/len(df)*100,2)}% ({df_top['Frequency'].iloc[0]} out of {len(df)}) leaderboards.\")\n",
    "\n",
    "# fig = go.Figure(go.Bar(\n",
    "#         x=df_top['Frequency'],  # Values for the bar lengths\n",
    "#         y=df_top['Supported languages'],  # Categories for each bar\n",
    "#         orientation='h',  # Sets the bars to be horizontal\n",
    "#         text=df_top['Frequency'],  # Adds the values as text on each bar\n",
    "#         textposition='auto'  # Automatically positions the text on the bars\n",
    "# ))\n",
    "# fig.update_layout(\n",
    "#         xaxis_title='Leaderboard Number',\n",
    "#         yaxis_title='Supported language',\n",
    "#         yaxis_autorange='reversed'  # This line makes the bars go top-down\n",
    "# )\n",
    "# # Update the layout for a tighter look\n",
    "# fig.update_layout(\n",
    "#     autosize=True,\n",
    "#     margin=dict(\n",
    "#         l=10,  # Left margin\n",
    "#         r=10,  # Right margin\n",
    "#         b=10,  # Bottom margin\n",
    "#         t=10,  # Top margin\n",
    "#         pad=4  # Padding between the plot and the margin\n",
    "#     )\n",
    "# )\n",
    "# fig.show()"
   ]
  },
  {
   "cell_type": "code",
   "execution_count": 26,
   "metadata": {},
   "outputs": [],
   "source": [
    "# df = pd.read_csv(path_meta / 'leaderboard_processed.csv')\n",
    "\n",
    "# statistics = {\n",
    "#     'Distribution': 'Supported Modalities across Leaderboard Systems',\n",
    "#     'Mean': np.mean(df['#Supported modality']),\n",
    "#     'Median': np.median(df['#Supported modality']),\n",
    "#     'IQR': df['#Supported modality'].quantile(0.75) - df['#Supported modality'].quantile(0.25),\n",
    "# }\n",
    "# df_statistics = pd.read_csv(path_meta / 'leaderboard_statistics.csv')\n",
    "# df_statistics = pd.concat([df_statistics, pd.DataFrame([statistics])], ignore_index=True)\n",
    "# df_statistics.drop_duplicates(subset=['Distribution'], keep='last', inplace=True)\n",
    "# df_statistics.sort_values(by='Distribution', inplace=True)\n",
    "# df_statistics.to_csv(path_meta / 'leaderboard_statistics.csv', index=False)\n",
    "\n",
    "# df_top = df.drop_duplicates(subset=['Leaderboard name']).sort_values(by='#Supported modality', ascending=False).head(10)\n",
    "# print(f\"{df_top['Leaderboard name'].iloc[0]} supports the highest number of modality up to {int(df_top['#Supported modality'].iloc[0])}.\")\n",
    "\n",
    "# fig = go.Figure(go.Bar(\n",
    "#         x=df_top['#Supported modality'],  # Values for the bar lengths\n",
    "#         y=df_top['Leaderboard name'],  # Categories for each bar\n",
    "#         orientation='h',  # Sets the bars to be horizontal\n",
    "#         text=df_top['#Supported modality'],  # Adds the values as text on each bar\n",
    "#         textposition='auto'  # Automatically positions the text on the bars\n",
    "# ))\n",
    "# fig.update_layout(\n",
    "#         xaxis_title='Number of Supported Modality',\n",
    "#         yaxis_title='Leaderboard Name',\n",
    "#         yaxis_autorange='reversed'  # This line makes the bars go top-down\n",
    "# )\n",
    "# # Update the layout for a tighter look\n",
    "# fig.update_layout(\n",
    "#     autosize=True,\n",
    "#     margin=dict(\n",
    "#         l=10,  # Left margin\n",
    "#         r=10,  # Right margin\n",
    "#         b=10,  # Bottom margin\n",
    "#         t=10,  # Top margin\n",
    "#         pad=4  # Padding between the plot and the margin\n",
    "#     )\n",
    "# )\n",
    "# fig.show()\n"
   ]
  },
  {
   "cell_type": "code",
   "execution_count": 27,
   "metadata": {},
   "outputs": [],
   "source": [
    "# df = pd.read_csv(path_meta / 'leaderboard_processed.csv')\n",
    "# df['Supported modalities'] = df['Supported modalities'].apply(ast.literal_eval)\n",
    "\n",
    "# df_split = df.explode('Supported modalities').groupby('Supported modalities').size().reset_index(name='Frequency')\n",
    "# df_split['Weight'] = 1\n",
    "\n",
    "# statistics = {\n",
    "#     'Distribution': 'Leaderboard Systems across Supported Modalities',\n",
    "#     'Mean': np.mean(df_split['Frequency']),\n",
    "#     'Median': np.median(df_split['Frequency']),\n",
    "#     'IQR': df_split['Frequency'].quantile(0.75) - df_split['Frequency'].quantile(0.25),\n",
    "#     'Gini Coefficient': ineqpy.inequality.gini(data=df_split, income='Frequency', weights='Weight'),\n",
    "# }\n",
    "# df_statistics = pd.read_csv(path_meta / 'leaderboard_statistics.csv')\n",
    "# df_statistics = pd.concat([df_statistics, pd.DataFrame([statistics])], ignore_index=True)\n",
    "# df_statistics.drop_duplicates(subset=['Distribution'], keep='last', inplace=True)\n",
    "# df_statistics.sort_values(by='Distribution', inplace=True)\n",
    "# df_statistics.to_csv(path_meta / 'leaderboard_statistics.csv', index=False)\n",
    "\n",
    "# df_top = df_split.drop_duplicates(subset=['Supported modalities']).sort_values(by='Frequency', ascending=False).head(10)\n",
    "# print(f\"{df_top['Supported modalities'].iloc[0]} is the most supported modality by {round(df_top['Frequency'].iloc[0]/len(df)*100,2)}% ({df_top['Frequency'].iloc[0]} out of {len(df)}) leaderboards.\")\n",
    "\n",
    "# fig = go.Figure(go.Bar(\n",
    "#         x=df_top['Frequency'],  # Values for the bar lengths\n",
    "#         y=df_top['Supported modalities'],  # Categories for each bar\n",
    "#         orientation='h',  # Sets the bars to be horizontal\n",
    "#         text=df_top['Frequency'],  # Adds the values as text on each bar\n",
    "#         textposition='auto'  # Automatically positions the text on the bars\n",
    "# ))\n",
    "# fig.update_layout(\n",
    "#         xaxis_title='Leaderboard Number',\n",
    "#         yaxis_title='Supported Modality',\n",
    "#         yaxis_autorange='reversed'  # This line makes the bars go top-down\n",
    "# )\n",
    "# # Update the layout for a tighter look\n",
    "# fig.update_layout(\n",
    "#     autosize=True,\n",
    "#     margin=dict(\n",
    "#         l=10,  # Left margin\n",
    "#         r=10,  # Right margin\n",
    "#         b=10,  # Bottom margin\n",
    "#         t=10,  # Top margin\n",
    "#         pad=4  # Padding between the plot and the margin\n",
    "#     )\n",
    "# )\n",
    "# fig.show()"
   ]
  },
  {
   "cell_type": "code",
   "execution_count": 28,
   "metadata": {},
   "outputs": [],
   "source": [
    "# df = pd.read_csv(path_meta / 'leaderboard_processed.csv')\n",
    "\n",
    "# statistics = {\n",
    "#     'Distribution': 'Supported Benchmarks across Leaderboard Systems',\n",
    "#     'Mean': np.mean(df['#Supported benchmark']),\n",
    "#     'Median': np.median(df['#Supported benchmark']),\n",
    "#     'IQR': df['#Supported benchmark'].quantile(0.75) - df['#Supported benchmark'].quantile(0.25),\n",
    "# }\n",
    "# df_statistics = pd.read_csv(path_meta / 'leaderboard_statistics.csv')\n",
    "# df_statistics = pd.concat([df_statistics, pd.DataFrame([statistics])], ignore_index=True)\n",
    "# df_statistics.drop_duplicates(subset=['Distribution'], keep='last', inplace=True)\n",
    "# df_statistics.sort_values(by='Distribution', inplace=True)\n",
    "# df_statistics.to_csv(path_meta / 'leaderboard_statistics.csv', index=False)\n",
    "\n",
    "# df_top = df.drop_duplicates(subset=['Leaderboard name']).sort_values(by='#Supported benchmark', ascending=False).head(10)\n",
    "# print(f\"{df_top['Leaderboard name'].iloc[0]} supports the highest number of {int(df_top['#Supported benchmark'].iloc[0])} benchmarks.\")\n",
    "\n",
    "# fig = go.Figure(go.Bar(\n",
    "#         x=df_top['#Supported benchmark'],  # Values for the bar lengths\n",
    "#         y=df_top['Leaderboard name'],  # Categories for each bar\n",
    "#         orientation='h',  # Sets the bars to be horizontal\n",
    "#         text=df_top['#Supported benchmark'],  # Adds the values as text on each bar\n",
    "#         textposition='auto'  # Automatically positions the text on the bars\n",
    "# ))\n",
    "# fig.update_layout(\n",
    "#         xaxis_title='Number of Supported Benchmarks',\n",
    "#         yaxis_title='Leaderboard Name',\n",
    "#         yaxis_autorange='reversed'  # This line makes the bars go top-down\n",
    "# )\n",
    "# # Update the layout for a tighter look\n",
    "# fig.update_layout(\n",
    "#     autosize=True,\n",
    "#     margin=dict(\n",
    "#         l=10,  # Left margin\n",
    "#         r=10,  # Right margin\n",
    "#         b=10,  # Bottom margin\n",
    "#         t=10,  # Top margin\n",
    "#         pad=4  # Padding between the plot and the margin\n",
    "#     )\n",
    "# )\n",
    "# fig.show()\n"
   ]
  },
  {
   "cell_type": "code",
   "execution_count": 29,
   "metadata": {},
   "outputs": [],
   "source": [
    "# df = pd.read_csv(path_meta / 'leaderboard_processed.csv')\n",
    "# df['Supported benchmarks'] = df['Supported benchmarks'].apply(ast.literal_eval)\n",
    "\n",
    "# df_split = df.explode('Supported benchmarks').groupby('Supported benchmarks').size().reset_index(name='Frequency')\n",
    "# df_split['Weight'] = 1\n",
    "\n",
    "# statistics = {\n",
    "#     'Distribution': 'Leaderboard Systems across Supported Benchmarks',\n",
    "#     'Mean': np.mean(df_split['Frequency']),\n",
    "#     'Median': np.median(df_split['Frequency']),\n",
    "#     'IQR': df_split['Frequency'].quantile(0.75) - df_split['Frequency'].quantile(0.25),\n",
    "#     'Gini Coefficient': ineqpy.inequality.gini(data=df_split, income='Frequency', weights='Weight'),\n",
    "# }\n",
    "# df_statistics = pd.read_csv(path_meta / 'leaderboard_statistics.csv')\n",
    "# df_statistics = pd.concat([df_statistics, pd.DataFrame([statistics])], ignore_index=True)\n",
    "# df_statistics.drop_duplicates(subset=['Distribution'], keep='last', inplace=True)\n",
    "# df_statistics.sort_values(by='Distribution', inplace=True)\n",
    "# df_statistics.to_csv(path_meta / 'leaderboard_statistics.csv', index=False)\n",
    "\n",
    "# df_top = df_split.drop_duplicates(subset=['Supported benchmarks']).sort_values(by='Frequency', ascending=False).head(10)\n",
    "# print(f\"{df_top['Supported benchmarks'].iloc[0]} is the most supported benchmark by {round(df_top['Frequency'].iloc[0]/len(df)*100,2)}% ({df_top['Frequency'].iloc[0]} out of {len(df)}) leaderboards.\")\n",
    "\n",
    "# fig = go.Figure(go.Bar(\n",
    "#         x=df_top['Frequency'],  # Values for the bar lengths\n",
    "#         y=df_top['Supported benchmarks'],  # Categories for each bar\n",
    "#         orientation='h',  # Sets the bars to be horizontal\n",
    "#         text=df_top['Frequency'],  # Adds the values as text on each bar\n",
    "#         textposition='auto'  # Automatically positions the text on the bars\n",
    "# ))\n",
    "# fig.update_layout(\n",
    "#         xaxis_title='Leaderboard Number',\n",
    "#         yaxis_title='Supported Benchmark',\n",
    "#         yaxis_autorange='reversed'  # This line makes the bars go top-down\n",
    "# )\n",
    "# # Update the layout for a tighter look\n",
    "# fig.update_layout(\n",
    "#     autosize=True,\n",
    "#     margin=dict(\n",
    "#         l=10,  # Left margin\n",
    "#         r=10,  # Right margin\n",
    "#         b=10,  # Bottom margin\n",
    "#         t=10,  # Top margin\n",
    "#         pad=4  # Padding between the plot and the margin\n",
    "#     )\n",
    "# )\n",
    "# fig.show()"
   ]
  },
  {
   "cell_type": "code",
   "execution_count": 30,
   "metadata": {},
   "outputs": [
    {
     "name": "stdout",
     "output_type": "stream",
     "text": [
      "Open LLM Leaderboard (GPT) has the highest number of 5485 participating models.\n"
     ]
    },
    {
     "data": {
      "application/vnd.plotly.v1+json": {
       "config": {
        "plotlyServerURL": "https://plot.ly"
       },
       "data": [
        {
         "orientation": "h",
         "text": [
          5485,
          5291,
          4634,
          1272,
          1130,
          1111,
          566,
          278,
          275,
          257
         ],
         "textposition": "auto",
         "type": "bar",
         "x": [
          5485,
          5291,
          4634,
          1272,
          1130,
          1111,
          566,
          278,
          275,
          257
         ],
         "y": [
          "Open LLM Leaderboard (GPT)",
          "Open LLM Leaderboard",
          "Open MLLM Leaderboard",
          "Open Ko-LLM Leaderboard",
          "ImageNet",
          "MMLU-by-task Leaderboard",
          "HELM Classic",
          "BOP",
          "Common Voice",
          "Kinetics"
         ]
        }
       ],
       "layout": {
        "autosize": true,
        "margin": {
         "b": 10,
         "l": 10,
         "pad": 4,
         "r": 10,
         "t": 10
        },
        "template": {
         "data": {
          "bar": [
           {
            "error_x": {
             "color": "#2a3f5f"
            },
            "error_y": {
             "color": "#2a3f5f"
            },
            "marker": {
             "line": {
              "color": "#E5ECF6",
              "width": 0.5
             },
             "pattern": {
              "fillmode": "overlay",
              "size": 10,
              "solidity": 0.2
             }
            },
            "type": "bar"
           }
          ],
          "barpolar": [
           {
            "marker": {
             "line": {
              "color": "#E5ECF6",
              "width": 0.5
             },
             "pattern": {
              "fillmode": "overlay",
              "size": 10,
              "solidity": 0.2
             }
            },
            "type": "barpolar"
           }
          ],
          "carpet": [
           {
            "aaxis": {
             "endlinecolor": "#2a3f5f",
             "gridcolor": "white",
             "linecolor": "white",
             "minorgridcolor": "white",
             "startlinecolor": "#2a3f5f"
            },
            "baxis": {
             "endlinecolor": "#2a3f5f",
             "gridcolor": "white",
             "linecolor": "white",
             "minorgridcolor": "white",
             "startlinecolor": "#2a3f5f"
            },
            "type": "carpet"
           }
          ],
          "choropleth": [
           {
            "colorbar": {
             "outlinewidth": 0,
             "ticks": ""
            },
            "type": "choropleth"
           }
          ],
          "contour": [
           {
            "colorbar": {
             "outlinewidth": 0,
             "ticks": ""
            },
            "colorscale": [
             [
              0,
              "#0d0887"
             ],
             [
              0.1111111111111111,
              "#46039f"
             ],
             [
              0.2222222222222222,
              "#7201a8"
             ],
             [
              0.3333333333333333,
              "#9c179e"
             ],
             [
              0.4444444444444444,
              "#bd3786"
             ],
             [
              0.5555555555555556,
              "#d8576b"
             ],
             [
              0.6666666666666666,
              "#ed7953"
             ],
             [
              0.7777777777777778,
              "#fb9f3a"
             ],
             [
              0.8888888888888888,
              "#fdca26"
             ],
             [
              1,
              "#f0f921"
             ]
            ],
            "type": "contour"
           }
          ],
          "contourcarpet": [
           {
            "colorbar": {
             "outlinewidth": 0,
             "ticks": ""
            },
            "type": "contourcarpet"
           }
          ],
          "heatmap": [
           {
            "colorbar": {
             "outlinewidth": 0,
             "ticks": ""
            },
            "colorscale": [
             [
              0,
              "#0d0887"
             ],
             [
              0.1111111111111111,
              "#46039f"
             ],
             [
              0.2222222222222222,
              "#7201a8"
             ],
             [
              0.3333333333333333,
              "#9c179e"
             ],
             [
              0.4444444444444444,
              "#bd3786"
             ],
             [
              0.5555555555555556,
              "#d8576b"
             ],
             [
              0.6666666666666666,
              "#ed7953"
             ],
             [
              0.7777777777777778,
              "#fb9f3a"
             ],
             [
              0.8888888888888888,
              "#fdca26"
             ],
             [
              1,
              "#f0f921"
             ]
            ],
            "type": "heatmap"
           }
          ],
          "heatmapgl": [
           {
            "colorbar": {
             "outlinewidth": 0,
             "ticks": ""
            },
            "colorscale": [
             [
              0,
              "#0d0887"
             ],
             [
              0.1111111111111111,
              "#46039f"
             ],
             [
              0.2222222222222222,
              "#7201a8"
             ],
             [
              0.3333333333333333,
              "#9c179e"
             ],
             [
              0.4444444444444444,
              "#bd3786"
             ],
             [
              0.5555555555555556,
              "#d8576b"
             ],
             [
              0.6666666666666666,
              "#ed7953"
             ],
             [
              0.7777777777777778,
              "#fb9f3a"
             ],
             [
              0.8888888888888888,
              "#fdca26"
             ],
             [
              1,
              "#f0f921"
             ]
            ],
            "type": "heatmapgl"
           }
          ],
          "histogram": [
           {
            "marker": {
             "pattern": {
              "fillmode": "overlay",
              "size": 10,
              "solidity": 0.2
             }
            },
            "type": "histogram"
           }
          ],
          "histogram2d": [
           {
            "colorbar": {
             "outlinewidth": 0,
             "ticks": ""
            },
            "colorscale": [
             [
              0,
              "#0d0887"
             ],
             [
              0.1111111111111111,
              "#46039f"
             ],
             [
              0.2222222222222222,
              "#7201a8"
             ],
             [
              0.3333333333333333,
              "#9c179e"
             ],
             [
              0.4444444444444444,
              "#bd3786"
             ],
             [
              0.5555555555555556,
              "#d8576b"
             ],
             [
              0.6666666666666666,
              "#ed7953"
             ],
             [
              0.7777777777777778,
              "#fb9f3a"
             ],
             [
              0.8888888888888888,
              "#fdca26"
             ],
             [
              1,
              "#f0f921"
             ]
            ],
            "type": "histogram2d"
           }
          ],
          "histogram2dcontour": [
           {
            "colorbar": {
             "outlinewidth": 0,
             "ticks": ""
            },
            "colorscale": [
             [
              0,
              "#0d0887"
             ],
             [
              0.1111111111111111,
              "#46039f"
             ],
             [
              0.2222222222222222,
              "#7201a8"
             ],
             [
              0.3333333333333333,
              "#9c179e"
             ],
             [
              0.4444444444444444,
              "#bd3786"
             ],
             [
              0.5555555555555556,
              "#d8576b"
             ],
             [
              0.6666666666666666,
              "#ed7953"
             ],
             [
              0.7777777777777778,
              "#fb9f3a"
             ],
             [
              0.8888888888888888,
              "#fdca26"
             ],
             [
              1,
              "#f0f921"
             ]
            ],
            "type": "histogram2dcontour"
           }
          ],
          "mesh3d": [
           {
            "colorbar": {
             "outlinewidth": 0,
             "ticks": ""
            },
            "type": "mesh3d"
           }
          ],
          "parcoords": [
           {
            "line": {
             "colorbar": {
              "outlinewidth": 0,
              "ticks": ""
             }
            },
            "type": "parcoords"
           }
          ],
          "pie": [
           {
            "automargin": true,
            "type": "pie"
           }
          ],
          "scatter": [
           {
            "fillpattern": {
             "fillmode": "overlay",
             "size": 10,
             "solidity": 0.2
            },
            "type": "scatter"
           }
          ],
          "scatter3d": [
           {
            "line": {
             "colorbar": {
              "outlinewidth": 0,
              "ticks": ""
             }
            },
            "marker": {
             "colorbar": {
              "outlinewidth": 0,
              "ticks": ""
             }
            },
            "type": "scatter3d"
           }
          ],
          "scattercarpet": [
           {
            "marker": {
             "colorbar": {
              "outlinewidth": 0,
              "ticks": ""
             }
            },
            "type": "scattercarpet"
           }
          ],
          "scattergeo": [
           {
            "marker": {
             "colorbar": {
              "outlinewidth": 0,
              "ticks": ""
             }
            },
            "type": "scattergeo"
           }
          ],
          "scattergl": [
           {
            "marker": {
             "colorbar": {
              "outlinewidth": 0,
              "ticks": ""
             }
            },
            "type": "scattergl"
           }
          ],
          "scattermapbox": [
           {
            "marker": {
             "colorbar": {
              "outlinewidth": 0,
              "ticks": ""
             }
            },
            "type": "scattermapbox"
           }
          ],
          "scatterpolar": [
           {
            "marker": {
             "colorbar": {
              "outlinewidth": 0,
              "ticks": ""
             }
            },
            "type": "scatterpolar"
           }
          ],
          "scatterpolargl": [
           {
            "marker": {
             "colorbar": {
              "outlinewidth": 0,
              "ticks": ""
             }
            },
            "type": "scatterpolargl"
           }
          ],
          "scatterternary": [
           {
            "marker": {
             "colorbar": {
              "outlinewidth": 0,
              "ticks": ""
             }
            },
            "type": "scatterternary"
           }
          ],
          "surface": [
           {
            "colorbar": {
             "outlinewidth": 0,
             "ticks": ""
            },
            "colorscale": [
             [
              0,
              "#0d0887"
             ],
             [
              0.1111111111111111,
              "#46039f"
             ],
             [
              0.2222222222222222,
              "#7201a8"
             ],
             [
              0.3333333333333333,
              "#9c179e"
             ],
             [
              0.4444444444444444,
              "#bd3786"
             ],
             [
              0.5555555555555556,
              "#d8576b"
             ],
             [
              0.6666666666666666,
              "#ed7953"
             ],
             [
              0.7777777777777778,
              "#fb9f3a"
             ],
             [
              0.8888888888888888,
              "#fdca26"
             ],
             [
              1,
              "#f0f921"
             ]
            ],
            "type": "surface"
           }
          ],
          "table": [
           {
            "cells": {
             "fill": {
              "color": "#EBF0F8"
             },
             "line": {
              "color": "white"
             }
            },
            "header": {
             "fill": {
              "color": "#C8D4E3"
             },
             "line": {
              "color": "white"
             }
            },
            "type": "table"
           }
          ]
         },
         "layout": {
          "annotationdefaults": {
           "arrowcolor": "#2a3f5f",
           "arrowhead": 0,
           "arrowwidth": 1
          },
          "autotypenumbers": "strict",
          "coloraxis": {
           "colorbar": {
            "outlinewidth": 0,
            "ticks": ""
           }
          },
          "colorscale": {
           "diverging": [
            [
             0,
             "#8e0152"
            ],
            [
             0.1,
             "#c51b7d"
            ],
            [
             0.2,
             "#de77ae"
            ],
            [
             0.3,
             "#f1b6da"
            ],
            [
             0.4,
             "#fde0ef"
            ],
            [
             0.5,
             "#f7f7f7"
            ],
            [
             0.6,
             "#e6f5d0"
            ],
            [
             0.7,
             "#b8e186"
            ],
            [
             0.8,
             "#7fbc41"
            ],
            [
             0.9,
             "#4d9221"
            ],
            [
             1,
             "#276419"
            ]
           ],
           "sequential": [
            [
             0,
             "#0d0887"
            ],
            [
             0.1111111111111111,
             "#46039f"
            ],
            [
             0.2222222222222222,
             "#7201a8"
            ],
            [
             0.3333333333333333,
             "#9c179e"
            ],
            [
             0.4444444444444444,
             "#bd3786"
            ],
            [
             0.5555555555555556,
             "#d8576b"
            ],
            [
             0.6666666666666666,
             "#ed7953"
            ],
            [
             0.7777777777777778,
             "#fb9f3a"
            ],
            [
             0.8888888888888888,
             "#fdca26"
            ],
            [
             1,
             "#f0f921"
            ]
           ],
           "sequentialminus": [
            [
             0,
             "#0d0887"
            ],
            [
             0.1111111111111111,
             "#46039f"
            ],
            [
             0.2222222222222222,
             "#7201a8"
            ],
            [
             0.3333333333333333,
             "#9c179e"
            ],
            [
             0.4444444444444444,
             "#bd3786"
            ],
            [
             0.5555555555555556,
             "#d8576b"
            ],
            [
             0.6666666666666666,
             "#ed7953"
            ],
            [
             0.7777777777777778,
             "#fb9f3a"
            ],
            [
             0.8888888888888888,
             "#fdca26"
            ],
            [
             1,
             "#f0f921"
            ]
           ]
          },
          "colorway": [
           "#636efa",
           "#EF553B",
           "#00cc96",
           "#ab63fa",
           "#FFA15A",
           "#19d3f3",
           "#FF6692",
           "#B6E880",
           "#FF97FF",
           "#FECB52"
          ],
          "font": {
           "color": "#2a3f5f"
          },
          "geo": {
           "bgcolor": "white",
           "lakecolor": "white",
           "landcolor": "#E5ECF6",
           "showlakes": true,
           "showland": true,
           "subunitcolor": "white"
          },
          "hoverlabel": {
           "align": "left"
          },
          "hovermode": "closest",
          "mapbox": {
           "style": "light"
          },
          "paper_bgcolor": "white",
          "plot_bgcolor": "#E5ECF6",
          "polar": {
           "angularaxis": {
            "gridcolor": "white",
            "linecolor": "white",
            "ticks": ""
           },
           "bgcolor": "#E5ECF6",
           "radialaxis": {
            "gridcolor": "white",
            "linecolor": "white",
            "ticks": ""
           }
          },
          "scene": {
           "xaxis": {
            "backgroundcolor": "#E5ECF6",
            "gridcolor": "white",
            "gridwidth": 2,
            "linecolor": "white",
            "showbackground": true,
            "ticks": "",
            "zerolinecolor": "white"
           },
           "yaxis": {
            "backgroundcolor": "#E5ECF6",
            "gridcolor": "white",
            "gridwidth": 2,
            "linecolor": "white",
            "showbackground": true,
            "ticks": "",
            "zerolinecolor": "white"
           },
           "zaxis": {
            "backgroundcolor": "#E5ECF6",
            "gridcolor": "white",
            "gridwidth": 2,
            "linecolor": "white",
            "showbackground": true,
            "ticks": "",
            "zerolinecolor": "white"
           }
          },
          "shapedefaults": {
           "line": {
            "color": "#2a3f5f"
           }
          },
          "ternary": {
           "aaxis": {
            "gridcolor": "white",
            "linecolor": "white",
            "ticks": ""
           },
           "baxis": {
            "gridcolor": "white",
            "linecolor": "white",
            "ticks": ""
           },
           "bgcolor": "#E5ECF6",
           "caxis": {
            "gridcolor": "white",
            "linecolor": "white",
            "ticks": ""
           }
          },
          "title": {
           "x": 0.05
          },
          "xaxis": {
           "automargin": true,
           "gridcolor": "white",
           "linecolor": "white",
           "ticks": "",
           "title": {
            "standoff": 15
           },
           "zerolinecolor": "white",
           "zerolinewidth": 2
          },
          "yaxis": {
           "automargin": true,
           "gridcolor": "white",
           "linecolor": "white",
           "ticks": "",
           "title": {
            "standoff": 15
           },
           "zerolinecolor": "white",
           "zerolinewidth": 2
          }
         }
        },
        "xaxis": {
         "title": {
          "text": "Number of Participating Models"
         }
        },
        "yaxis": {
         "autorange": "reversed",
         "title": {
          "text": "Leaderboard Name"
         }
        }
       }
      }
     },
     "metadata": {},
     "output_type": "display_data"
    }
   ],
   "source": [
    "df = pd.read_csv(path_meta / 'leaderboard_processed.csv')\n",
    "\n",
    "statistics = {\n",
    "    'Distribution': 'Participating Models across Leaderboard Systems',\n",
    "    'Mean': np.mean(df['#Participating model']),\n",
    "    'Median': np.median(df['#Participating model']),\n",
    "    'IQR': df['#Participating model'].quantile(0.75) - df['#Participating model'].quantile(0.25),\n",
    "}\n",
    "df_statistics = pd.read_csv(path_meta / 'leaderboard_statistics.csv')\n",
    "df_statistics = pd.concat([df_statistics, pd.DataFrame([statistics])], ignore_index=True)\n",
    "df_statistics.drop_duplicates(subset=['Distribution'], keep='last', inplace=True)\n",
    "df_statistics.sort_values(by='Distribution', inplace=True)\n",
    "df_statistics.to_csv(path_meta / 'leaderboard_statistics.csv', index=False)\n",
    "\n",
    "df_top = df.drop_duplicates(subset=['Leaderboard name']).sort_values(by='#Participating model', ascending=False).head(10)\n",
    "print(f\"{df_top['Leaderboard name'].iloc[0]} has the highest number of {int(df_top['#Participating model'].iloc[0])} participating models.\")\n",
    "\n",
    "fig = go.Figure(go.Bar(\n",
    "        x=df_top['#Participating model'],  # Values for the bar lengths\n",
    "        y=df_top['Leaderboard name'],  # Categories for each bar\n",
    "        orientation='h',  # Sets the bars to be horizontal\n",
    "        text=df_top['#Participating model'],  # Adds the values as text on each bar\n",
    "        textposition='auto'  # Automatically positions the text on the bars\n",
    "))\n",
    "fig.update_layout(\n",
    "        xaxis_title='Number of Participating Models',\n",
    "        yaxis_title='Leaderboard Name',\n",
    "        yaxis_autorange='reversed'  # This line makes the bars go top-down\n",
    ")\n",
    "# Update the layout for a tighter look\n",
    "fig.update_layout(\n",
    "    autosize=True,\n",
    "    margin=dict(\n",
    "        l=10,  # Left margin\n",
    "        r=10,  # Right margin\n",
    "        b=10,  # Bottom margin\n",
    "        t=10,  # Top margin\n",
    "        pad=4  # Padding between the plot and the margin\n",
    "    )\n",
    ")\n",
    "fig.show()\n"
   ]
  },
  {
   "cell_type": "code",
   "execution_count": 31,
   "metadata": {},
   "outputs": [],
   "source": [
    "# df = pd.read_csv(path_meta / 'leaderboard_processed.csv')\n",
    "# df['Participating models'] = df['Participating models'].apply(ast.literal_eval)\n",
    "\n",
    "# df_split = df.explode('Participating models').groupby('Participating models').size().reset_index(name='Frequency')\n",
    "# df_split['Weight'] = 1\n",
    "\n",
    "# statistics = {\n",
    "#     'Distribution': 'Leaderboard Systems across Participating Models',\n",
    "#     'Mean': np.mean(df_split['Frequency']),\n",
    "#     'Median': np.median(df_split['Frequency']),\n",
    "#     'IQR': df_split['Frequency'].quantile(0.75) - df_split['Frequency'].quantile(0.25),\n",
    "#     'Gini Coefficient': ineqpy.inequality.gini(data=df_split, income='Frequency', weights='Weight'),\n",
    "# }\n",
    "# df_statistics = pd.read_csv(path_meta / 'leaderboard_statistics.csv')\n",
    "# df_statistics = pd.concat([df_statistics, pd.DataFrame([statistics])], ignore_index=True)\n",
    "# df_statistics.drop_duplicates(subset=['Distribution'], keep='last', inplace=True)\n",
    "# df_statistics.sort_values(by='Distribution', inplace=True)\n",
    "# df_statistics.to_csv(path_meta / 'leaderboard_statistics.csv', index=False)\n",
    "\n",
    "# df_top = df_split.drop_duplicates(subset=['Participating models']).sort_values(by='Frequency', ascending=False).head(10)\n",
    "# print(f\"{df_top['Participating models'].iloc[0]} is the most prevalent participating model in {round(df_top['Frequency'].iloc[0]/len(df)*100,2)}% ({df_top['Frequency'].iloc[0]} out of {len(df)}) leaderboards.\")\n",
    "\n",
    "# fig = go.Figure(go.Bar(\n",
    "#         x=df_top['Frequency'],  # Values for the bar lengths\n",
    "#         y=df_top['Participating models'],  # Categories for each bar\n",
    "#         orientation='h',  # Sets the bars to be horizontal\n",
    "#         text=df_top['Frequency'],  # Adds the values as text on each bar\n",
    "#         textposition='auto'  # Automatically positions the text on the bars\n",
    "# ))\n",
    "# fig.update_layout(\n",
    "#         xaxis_title='Leaderboard Number',\n",
    "#         yaxis_title='Participating Model',\n",
    "#         yaxis_autorange='reversed'  # This line makes the bars go top-down\n",
    "# )\n",
    "# # Update the layout for a tighter look\n",
    "# fig.update_layout(\n",
    "#     autosize=True,\n",
    "#     margin=dict(\n",
    "#         l=10,  # Left margin\n",
    "#         r=10,  # Right margin\n",
    "#         b=10,  # Bottom margin\n",
    "#         t=10,  # Top margin\n",
    "#         pad=4  # Padding between the plot and the margin\n",
    "#     )\n",
    "# )\n",
    "# fig.show()"
   ]
  },
  {
   "cell_type": "code",
   "execution_count": 32,
   "metadata": {},
   "outputs": [
    {
     "name": "stdout",
     "output_type": "stream",
     "text": [
      "ChEBI-20 has the highest number of 20 evaluation metrics.\n"
     ]
    },
    {
     "data": {
      "application/vnd.plotly.v1+json": {
       "config": {
        "plotlyServerURL": "https://plot.ly"
       },
       "data": [
        {
         "orientation": "h",
         "text": [
          20,
          19,
          15,
          12,
          12,
          12,
          11,
          10,
          10,
          10
         ],
         "textposition": "auto",
         "type": "bar",
         "x": [
          20,
          19,
          15,
          12,
          12,
          12,
          11,
          10,
          10,
          10
         ],
         "y": [
          "ChEBI-20",
          "MSCOCO",
          "Common Voice",
          "MSRVTT",
          "RAFT",
          "CoNLL",
          "UCF101",
          "YouCook2",
          "VATEX",
          "ActivityNet"
         ]
        }
       ],
       "layout": {
        "autosize": true,
        "margin": {
         "b": 10,
         "l": 10,
         "pad": 4,
         "r": 10,
         "t": 10
        },
        "template": {
         "data": {
          "bar": [
           {
            "error_x": {
             "color": "#2a3f5f"
            },
            "error_y": {
             "color": "#2a3f5f"
            },
            "marker": {
             "line": {
              "color": "#E5ECF6",
              "width": 0.5
             },
             "pattern": {
              "fillmode": "overlay",
              "size": 10,
              "solidity": 0.2
             }
            },
            "type": "bar"
           }
          ],
          "barpolar": [
           {
            "marker": {
             "line": {
              "color": "#E5ECF6",
              "width": 0.5
             },
             "pattern": {
              "fillmode": "overlay",
              "size": 10,
              "solidity": 0.2
             }
            },
            "type": "barpolar"
           }
          ],
          "carpet": [
           {
            "aaxis": {
             "endlinecolor": "#2a3f5f",
             "gridcolor": "white",
             "linecolor": "white",
             "minorgridcolor": "white",
             "startlinecolor": "#2a3f5f"
            },
            "baxis": {
             "endlinecolor": "#2a3f5f",
             "gridcolor": "white",
             "linecolor": "white",
             "minorgridcolor": "white",
             "startlinecolor": "#2a3f5f"
            },
            "type": "carpet"
           }
          ],
          "choropleth": [
           {
            "colorbar": {
             "outlinewidth": 0,
             "ticks": ""
            },
            "type": "choropleth"
           }
          ],
          "contour": [
           {
            "colorbar": {
             "outlinewidth": 0,
             "ticks": ""
            },
            "colorscale": [
             [
              0,
              "#0d0887"
             ],
             [
              0.1111111111111111,
              "#46039f"
             ],
             [
              0.2222222222222222,
              "#7201a8"
             ],
             [
              0.3333333333333333,
              "#9c179e"
             ],
             [
              0.4444444444444444,
              "#bd3786"
             ],
             [
              0.5555555555555556,
              "#d8576b"
             ],
             [
              0.6666666666666666,
              "#ed7953"
             ],
             [
              0.7777777777777778,
              "#fb9f3a"
             ],
             [
              0.8888888888888888,
              "#fdca26"
             ],
             [
              1,
              "#f0f921"
             ]
            ],
            "type": "contour"
           }
          ],
          "contourcarpet": [
           {
            "colorbar": {
             "outlinewidth": 0,
             "ticks": ""
            },
            "type": "contourcarpet"
           }
          ],
          "heatmap": [
           {
            "colorbar": {
             "outlinewidth": 0,
             "ticks": ""
            },
            "colorscale": [
             [
              0,
              "#0d0887"
             ],
             [
              0.1111111111111111,
              "#46039f"
             ],
             [
              0.2222222222222222,
              "#7201a8"
             ],
             [
              0.3333333333333333,
              "#9c179e"
             ],
             [
              0.4444444444444444,
              "#bd3786"
             ],
             [
              0.5555555555555556,
              "#d8576b"
             ],
             [
              0.6666666666666666,
              "#ed7953"
             ],
             [
              0.7777777777777778,
              "#fb9f3a"
             ],
             [
              0.8888888888888888,
              "#fdca26"
             ],
             [
              1,
              "#f0f921"
             ]
            ],
            "type": "heatmap"
           }
          ],
          "heatmapgl": [
           {
            "colorbar": {
             "outlinewidth": 0,
             "ticks": ""
            },
            "colorscale": [
             [
              0,
              "#0d0887"
             ],
             [
              0.1111111111111111,
              "#46039f"
             ],
             [
              0.2222222222222222,
              "#7201a8"
             ],
             [
              0.3333333333333333,
              "#9c179e"
             ],
             [
              0.4444444444444444,
              "#bd3786"
             ],
             [
              0.5555555555555556,
              "#d8576b"
             ],
             [
              0.6666666666666666,
              "#ed7953"
             ],
             [
              0.7777777777777778,
              "#fb9f3a"
             ],
             [
              0.8888888888888888,
              "#fdca26"
             ],
             [
              1,
              "#f0f921"
             ]
            ],
            "type": "heatmapgl"
           }
          ],
          "histogram": [
           {
            "marker": {
             "pattern": {
              "fillmode": "overlay",
              "size": 10,
              "solidity": 0.2
             }
            },
            "type": "histogram"
           }
          ],
          "histogram2d": [
           {
            "colorbar": {
             "outlinewidth": 0,
             "ticks": ""
            },
            "colorscale": [
             [
              0,
              "#0d0887"
             ],
             [
              0.1111111111111111,
              "#46039f"
             ],
             [
              0.2222222222222222,
              "#7201a8"
             ],
             [
              0.3333333333333333,
              "#9c179e"
             ],
             [
              0.4444444444444444,
              "#bd3786"
             ],
             [
              0.5555555555555556,
              "#d8576b"
             ],
             [
              0.6666666666666666,
              "#ed7953"
             ],
             [
              0.7777777777777778,
              "#fb9f3a"
             ],
             [
              0.8888888888888888,
              "#fdca26"
             ],
             [
              1,
              "#f0f921"
             ]
            ],
            "type": "histogram2d"
           }
          ],
          "histogram2dcontour": [
           {
            "colorbar": {
             "outlinewidth": 0,
             "ticks": ""
            },
            "colorscale": [
             [
              0,
              "#0d0887"
             ],
             [
              0.1111111111111111,
              "#46039f"
             ],
             [
              0.2222222222222222,
              "#7201a8"
             ],
             [
              0.3333333333333333,
              "#9c179e"
             ],
             [
              0.4444444444444444,
              "#bd3786"
             ],
             [
              0.5555555555555556,
              "#d8576b"
             ],
             [
              0.6666666666666666,
              "#ed7953"
             ],
             [
              0.7777777777777778,
              "#fb9f3a"
             ],
             [
              0.8888888888888888,
              "#fdca26"
             ],
             [
              1,
              "#f0f921"
             ]
            ],
            "type": "histogram2dcontour"
           }
          ],
          "mesh3d": [
           {
            "colorbar": {
             "outlinewidth": 0,
             "ticks": ""
            },
            "type": "mesh3d"
           }
          ],
          "parcoords": [
           {
            "line": {
             "colorbar": {
              "outlinewidth": 0,
              "ticks": ""
             }
            },
            "type": "parcoords"
           }
          ],
          "pie": [
           {
            "automargin": true,
            "type": "pie"
           }
          ],
          "scatter": [
           {
            "fillpattern": {
             "fillmode": "overlay",
             "size": 10,
             "solidity": 0.2
            },
            "type": "scatter"
           }
          ],
          "scatter3d": [
           {
            "line": {
             "colorbar": {
              "outlinewidth": 0,
              "ticks": ""
             }
            },
            "marker": {
             "colorbar": {
              "outlinewidth": 0,
              "ticks": ""
             }
            },
            "type": "scatter3d"
           }
          ],
          "scattercarpet": [
           {
            "marker": {
             "colorbar": {
              "outlinewidth": 0,
              "ticks": ""
             }
            },
            "type": "scattercarpet"
           }
          ],
          "scattergeo": [
           {
            "marker": {
             "colorbar": {
              "outlinewidth": 0,
              "ticks": ""
             }
            },
            "type": "scattergeo"
           }
          ],
          "scattergl": [
           {
            "marker": {
             "colorbar": {
              "outlinewidth": 0,
              "ticks": ""
             }
            },
            "type": "scattergl"
           }
          ],
          "scattermapbox": [
           {
            "marker": {
             "colorbar": {
              "outlinewidth": 0,
              "ticks": ""
             }
            },
            "type": "scattermapbox"
           }
          ],
          "scatterpolar": [
           {
            "marker": {
             "colorbar": {
              "outlinewidth": 0,
              "ticks": ""
             }
            },
            "type": "scatterpolar"
           }
          ],
          "scatterpolargl": [
           {
            "marker": {
             "colorbar": {
              "outlinewidth": 0,
              "ticks": ""
             }
            },
            "type": "scatterpolargl"
           }
          ],
          "scatterternary": [
           {
            "marker": {
             "colorbar": {
              "outlinewidth": 0,
              "ticks": ""
             }
            },
            "type": "scatterternary"
           }
          ],
          "surface": [
           {
            "colorbar": {
             "outlinewidth": 0,
             "ticks": ""
            },
            "colorscale": [
             [
              0,
              "#0d0887"
             ],
             [
              0.1111111111111111,
              "#46039f"
             ],
             [
              0.2222222222222222,
              "#7201a8"
             ],
             [
              0.3333333333333333,
              "#9c179e"
             ],
             [
              0.4444444444444444,
              "#bd3786"
             ],
             [
              0.5555555555555556,
              "#d8576b"
             ],
             [
              0.6666666666666666,
              "#ed7953"
             ],
             [
              0.7777777777777778,
              "#fb9f3a"
             ],
             [
              0.8888888888888888,
              "#fdca26"
             ],
             [
              1,
              "#f0f921"
             ]
            ],
            "type": "surface"
           }
          ],
          "table": [
           {
            "cells": {
             "fill": {
              "color": "#EBF0F8"
             },
             "line": {
              "color": "white"
             }
            },
            "header": {
             "fill": {
              "color": "#C8D4E3"
             },
             "line": {
              "color": "white"
             }
            },
            "type": "table"
           }
          ]
         },
         "layout": {
          "annotationdefaults": {
           "arrowcolor": "#2a3f5f",
           "arrowhead": 0,
           "arrowwidth": 1
          },
          "autotypenumbers": "strict",
          "coloraxis": {
           "colorbar": {
            "outlinewidth": 0,
            "ticks": ""
           }
          },
          "colorscale": {
           "diverging": [
            [
             0,
             "#8e0152"
            ],
            [
             0.1,
             "#c51b7d"
            ],
            [
             0.2,
             "#de77ae"
            ],
            [
             0.3,
             "#f1b6da"
            ],
            [
             0.4,
             "#fde0ef"
            ],
            [
             0.5,
             "#f7f7f7"
            ],
            [
             0.6,
             "#e6f5d0"
            ],
            [
             0.7,
             "#b8e186"
            ],
            [
             0.8,
             "#7fbc41"
            ],
            [
             0.9,
             "#4d9221"
            ],
            [
             1,
             "#276419"
            ]
           ],
           "sequential": [
            [
             0,
             "#0d0887"
            ],
            [
             0.1111111111111111,
             "#46039f"
            ],
            [
             0.2222222222222222,
             "#7201a8"
            ],
            [
             0.3333333333333333,
             "#9c179e"
            ],
            [
             0.4444444444444444,
             "#bd3786"
            ],
            [
             0.5555555555555556,
             "#d8576b"
            ],
            [
             0.6666666666666666,
             "#ed7953"
            ],
            [
             0.7777777777777778,
             "#fb9f3a"
            ],
            [
             0.8888888888888888,
             "#fdca26"
            ],
            [
             1,
             "#f0f921"
            ]
           ],
           "sequentialminus": [
            [
             0,
             "#0d0887"
            ],
            [
             0.1111111111111111,
             "#46039f"
            ],
            [
             0.2222222222222222,
             "#7201a8"
            ],
            [
             0.3333333333333333,
             "#9c179e"
            ],
            [
             0.4444444444444444,
             "#bd3786"
            ],
            [
             0.5555555555555556,
             "#d8576b"
            ],
            [
             0.6666666666666666,
             "#ed7953"
            ],
            [
             0.7777777777777778,
             "#fb9f3a"
            ],
            [
             0.8888888888888888,
             "#fdca26"
            ],
            [
             1,
             "#f0f921"
            ]
           ]
          },
          "colorway": [
           "#636efa",
           "#EF553B",
           "#00cc96",
           "#ab63fa",
           "#FFA15A",
           "#19d3f3",
           "#FF6692",
           "#B6E880",
           "#FF97FF",
           "#FECB52"
          ],
          "font": {
           "color": "#2a3f5f"
          },
          "geo": {
           "bgcolor": "white",
           "lakecolor": "white",
           "landcolor": "#E5ECF6",
           "showlakes": true,
           "showland": true,
           "subunitcolor": "white"
          },
          "hoverlabel": {
           "align": "left"
          },
          "hovermode": "closest",
          "mapbox": {
           "style": "light"
          },
          "paper_bgcolor": "white",
          "plot_bgcolor": "#E5ECF6",
          "polar": {
           "angularaxis": {
            "gridcolor": "white",
            "linecolor": "white",
            "ticks": ""
           },
           "bgcolor": "#E5ECF6",
           "radialaxis": {
            "gridcolor": "white",
            "linecolor": "white",
            "ticks": ""
           }
          },
          "scene": {
           "xaxis": {
            "backgroundcolor": "#E5ECF6",
            "gridcolor": "white",
            "gridwidth": 2,
            "linecolor": "white",
            "showbackground": true,
            "ticks": "",
            "zerolinecolor": "white"
           },
           "yaxis": {
            "backgroundcolor": "#E5ECF6",
            "gridcolor": "white",
            "gridwidth": 2,
            "linecolor": "white",
            "showbackground": true,
            "ticks": "",
            "zerolinecolor": "white"
           },
           "zaxis": {
            "backgroundcolor": "#E5ECF6",
            "gridcolor": "white",
            "gridwidth": 2,
            "linecolor": "white",
            "showbackground": true,
            "ticks": "",
            "zerolinecolor": "white"
           }
          },
          "shapedefaults": {
           "line": {
            "color": "#2a3f5f"
           }
          },
          "ternary": {
           "aaxis": {
            "gridcolor": "white",
            "linecolor": "white",
            "ticks": ""
           },
           "baxis": {
            "gridcolor": "white",
            "linecolor": "white",
            "ticks": ""
           },
           "bgcolor": "#E5ECF6",
           "caxis": {
            "gridcolor": "white",
            "linecolor": "white",
            "ticks": ""
           }
          },
          "title": {
           "x": 0.05
          },
          "xaxis": {
           "automargin": true,
           "gridcolor": "white",
           "linecolor": "white",
           "ticks": "",
           "title": {
            "standoff": 15
           },
           "zerolinecolor": "white",
           "zerolinewidth": 2
          },
          "yaxis": {
           "automargin": true,
           "gridcolor": "white",
           "linecolor": "white",
           "ticks": "",
           "title": {
            "standoff": 15
           },
           "zerolinecolor": "white",
           "zerolinewidth": 2
          }
         }
        },
        "xaxis": {
         "title": {
          "text": "Number of Evaluation Metrics"
         }
        },
        "yaxis": {
         "autorange": "reversed",
         "title": {
          "text": "Leaderboard Name"
         }
        }
       }
      }
     },
     "metadata": {},
     "output_type": "display_data"
    }
   ],
   "source": [
    "df = pd.read_csv(path_meta / 'leaderboard_processed.csv')\n",
    "df = df[df['Platforms'] == \"['Papers With Code']\"]\n",
    "\n",
    "statistics = {\n",
    "    'Distribution': 'Evaluation Metrics across Leaderboard Systems',\n",
    "    'Mean': np.mean(df['#Evaluation metric (pwc)']),\n",
    "    'Median': np.median(df['#Evaluation metric (pwc)']),\n",
    "    'IQR': df['#Evaluation metric (pwc)'].quantile(0.75) - df['#Evaluation metric (pwc)'].quantile(0.25),\n",
    "}\n",
    "df_statistics = pd.read_csv(path_meta / 'leaderboard_statistics.csv')\n",
    "df_statistics = pd.concat([df_statistics, pd.DataFrame([statistics])], ignore_index=True)\n",
    "df_statistics.drop_duplicates(subset=['Distribution'], keep='last', inplace=True)\n",
    "df_statistics.sort_values(by='Distribution', inplace=True)\n",
    "df_statistics.to_csv(path_meta / 'leaderboard_statistics.csv', index=False)\n",
    "\n",
    "df_top = df.drop_duplicates(subset=['Leaderboard name']).sort_values(by='#Evaluation metric (pwc)', ascending=False).head(10)\n",
    "print(f\"{df_top['Leaderboard name'].iloc[0]} has the highest number of {int(df_top['#Evaluation metric (pwc)'].iloc[0])} evaluation metrics.\")\n",
    "\n",
    "fig = go.Figure(go.Bar(\n",
    "        x=df_top['#Evaluation metric (pwc)'],  # Values for the bar lengths\n",
    "        y=df_top['Leaderboard name'],  # Categories for each bar\n",
    "        orientation='h',  # Sets the bars to be horizontal\n",
    "        text=df_top['#Evaluation metric (pwc)'],  # Adds the values as text on each bar\n",
    "        textposition='auto'  # Automatically positions the text on the bars\n",
    "))\n",
    "fig.update_layout(\n",
    "        xaxis_title='Number of Evaluation Metrics',\n",
    "        yaxis_title='Leaderboard Name',\n",
    "        yaxis_autorange='reversed'  # This line makes the bars go top-down\n",
    ")\n",
    "# Update the layout for a tighter look\n",
    "fig.update_layout(\n",
    "    autosize=True,\n",
    "    margin=dict(\n",
    "        l=10,  # Left margin\n",
    "        r=10,  # Right margin\n",
    "        b=10,  # Bottom margin\n",
    "        t=10,  # Top margin\n",
    "        pad=4  # Padding between the plot and the margin\n",
    "    )\n",
    ")\n",
    "fig.show()\n"
   ]
  },
  {
   "cell_type": "code",
   "execution_count": 33,
   "metadata": {},
   "outputs": [
    {
     "name": "stdout",
     "output_type": "stream",
     "text": [
      "accuracy is the most prevalent evaluation metrics in 41.27% (78 out of 189) leaderboards.\n"
     ]
    },
    {
     "data": {
      "application/vnd.plotly.v1+json": {
       "config": {
        "plotlyServerURL": "https://plot.ly"
       },
       "data": [
        {
         "orientation": "h",
         "text": [
          78,
          16,
          16,
          15,
          14,
          13,
          12,
          12,
          11,
          11
         ],
         "textposition": "auto",
         "type": "bar",
         "x": [
          78,
          16,
          16,
          15,
          14,
          13,
          12,
          12,
          11,
          11
         ],
         "y": [
          "accuracy",
          "exact match",
          "f1",
          "rouge-l",
          "#parameters",
          "bleu-4",
          "recall@5",
          "meteor",
          "cider",
          "recall@1"
         ]
        }
       ],
       "layout": {
        "autosize": true,
        "margin": {
         "b": 10,
         "l": 10,
         "pad": 4,
         "r": 10,
         "t": 10
        },
        "template": {
         "data": {
          "bar": [
           {
            "error_x": {
             "color": "#2a3f5f"
            },
            "error_y": {
             "color": "#2a3f5f"
            },
            "marker": {
             "line": {
              "color": "#E5ECF6",
              "width": 0.5
             },
             "pattern": {
              "fillmode": "overlay",
              "size": 10,
              "solidity": 0.2
             }
            },
            "type": "bar"
           }
          ],
          "barpolar": [
           {
            "marker": {
             "line": {
              "color": "#E5ECF6",
              "width": 0.5
             },
             "pattern": {
              "fillmode": "overlay",
              "size": 10,
              "solidity": 0.2
             }
            },
            "type": "barpolar"
           }
          ],
          "carpet": [
           {
            "aaxis": {
             "endlinecolor": "#2a3f5f",
             "gridcolor": "white",
             "linecolor": "white",
             "minorgridcolor": "white",
             "startlinecolor": "#2a3f5f"
            },
            "baxis": {
             "endlinecolor": "#2a3f5f",
             "gridcolor": "white",
             "linecolor": "white",
             "minorgridcolor": "white",
             "startlinecolor": "#2a3f5f"
            },
            "type": "carpet"
           }
          ],
          "choropleth": [
           {
            "colorbar": {
             "outlinewidth": 0,
             "ticks": ""
            },
            "type": "choropleth"
           }
          ],
          "contour": [
           {
            "colorbar": {
             "outlinewidth": 0,
             "ticks": ""
            },
            "colorscale": [
             [
              0,
              "#0d0887"
             ],
             [
              0.1111111111111111,
              "#46039f"
             ],
             [
              0.2222222222222222,
              "#7201a8"
             ],
             [
              0.3333333333333333,
              "#9c179e"
             ],
             [
              0.4444444444444444,
              "#bd3786"
             ],
             [
              0.5555555555555556,
              "#d8576b"
             ],
             [
              0.6666666666666666,
              "#ed7953"
             ],
             [
              0.7777777777777778,
              "#fb9f3a"
             ],
             [
              0.8888888888888888,
              "#fdca26"
             ],
             [
              1,
              "#f0f921"
             ]
            ],
            "type": "contour"
           }
          ],
          "contourcarpet": [
           {
            "colorbar": {
             "outlinewidth": 0,
             "ticks": ""
            },
            "type": "contourcarpet"
           }
          ],
          "heatmap": [
           {
            "colorbar": {
             "outlinewidth": 0,
             "ticks": ""
            },
            "colorscale": [
             [
              0,
              "#0d0887"
             ],
             [
              0.1111111111111111,
              "#46039f"
             ],
             [
              0.2222222222222222,
              "#7201a8"
             ],
             [
              0.3333333333333333,
              "#9c179e"
             ],
             [
              0.4444444444444444,
              "#bd3786"
             ],
             [
              0.5555555555555556,
              "#d8576b"
             ],
             [
              0.6666666666666666,
              "#ed7953"
             ],
             [
              0.7777777777777778,
              "#fb9f3a"
             ],
             [
              0.8888888888888888,
              "#fdca26"
             ],
             [
              1,
              "#f0f921"
             ]
            ],
            "type": "heatmap"
           }
          ],
          "heatmapgl": [
           {
            "colorbar": {
             "outlinewidth": 0,
             "ticks": ""
            },
            "colorscale": [
             [
              0,
              "#0d0887"
             ],
             [
              0.1111111111111111,
              "#46039f"
             ],
             [
              0.2222222222222222,
              "#7201a8"
             ],
             [
              0.3333333333333333,
              "#9c179e"
             ],
             [
              0.4444444444444444,
              "#bd3786"
             ],
             [
              0.5555555555555556,
              "#d8576b"
             ],
             [
              0.6666666666666666,
              "#ed7953"
             ],
             [
              0.7777777777777778,
              "#fb9f3a"
             ],
             [
              0.8888888888888888,
              "#fdca26"
             ],
             [
              1,
              "#f0f921"
             ]
            ],
            "type": "heatmapgl"
           }
          ],
          "histogram": [
           {
            "marker": {
             "pattern": {
              "fillmode": "overlay",
              "size": 10,
              "solidity": 0.2
             }
            },
            "type": "histogram"
           }
          ],
          "histogram2d": [
           {
            "colorbar": {
             "outlinewidth": 0,
             "ticks": ""
            },
            "colorscale": [
             [
              0,
              "#0d0887"
             ],
             [
              0.1111111111111111,
              "#46039f"
             ],
             [
              0.2222222222222222,
              "#7201a8"
             ],
             [
              0.3333333333333333,
              "#9c179e"
             ],
             [
              0.4444444444444444,
              "#bd3786"
             ],
             [
              0.5555555555555556,
              "#d8576b"
             ],
             [
              0.6666666666666666,
              "#ed7953"
             ],
             [
              0.7777777777777778,
              "#fb9f3a"
             ],
             [
              0.8888888888888888,
              "#fdca26"
             ],
             [
              1,
              "#f0f921"
             ]
            ],
            "type": "histogram2d"
           }
          ],
          "histogram2dcontour": [
           {
            "colorbar": {
             "outlinewidth": 0,
             "ticks": ""
            },
            "colorscale": [
             [
              0,
              "#0d0887"
             ],
             [
              0.1111111111111111,
              "#46039f"
             ],
             [
              0.2222222222222222,
              "#7201a8"
             ],
             [
              0.3333333333333333,
              "#9c179e"
             ],
             [
              0.4444444444444444,
              "#bd3786"
             ],
             [
              0.5555555555555556,
              "#d8576b"
             ],
             [
              0.6666666666666666,
              "#ed7953"
             ],
             [
              0.7777777777777778,
              "#fb9f3a"
             ],
             [
              0.8888888888888888,
              "#fdca26"
             ],
             [
              1,
              "#f0f921"
             ]
            ],
            "type": "histogram2dcontour"
           }
          ],
          "mesh3d": [
           {
            "colorbar": {
             "outlinewidth": 0,
             "ticks": ""
            },
            "type": "mesh3d"
           }
          ],
          "parcoords": [
           {
            "line": {
             "colorbar": {
              "outlinewidth": 0,
              "ticks": ""
             }
            },
            "type": "parcoords"
           }
          ],
          "pie": [
           {
            "automargin": true,
            "type": "pie"
           }
          ],
          "scatter": [
           {
            "fillpattern": {
             "fillmode": "overlay",
             "size": 10,
             "solidity": 0.2
            },
            "type": "scatter"
           }
          ],
          "scatter3d": [
           {
            "line": {
             "colorbar": {
              "outlinewidth": 0,
              "ticks": ""
             }
            },
            "marker": {
             "colorbar": {
              "outlinewidth": 0,
              "ticks": ""
             }
            },
            "type": "scatter3d"
           }
          ],
          "scattercarpet": [
           {
            "marker": {
             "colorbar": {
              "outlinewidth": 0,
              "ticks": ""
             }
            },
            "type": "scattercarpet"
           }
          ],
          "scattergeo": [
           {
            "marker": {
             "colorbar": {
              "outlinewidth": 0,
              "ticks": ""
             }
            },
            "type": "scattergeo"
           }
          ],
          "scattergl": [
           {
            "marker": {
             "colorbar": {
              "outlinewidth": 0,
              "ticks": ""
             }
            },
            "type": "scattergl"
           }
          ],
          "scattermapbox": [
           {
            "marker": {
             "colorbar": {
              "outlinewidth": 0,
              "ticks": ""
             }
            },
            "type": "scattermapbox"
           }
          ],
          "scatterpolar": [
           {
            "marker": {
             "colorbar": {
              "outlinewidth": 0,
              "ticks": ""
             }
            },
            "type": "scatterpolar"
           }
          ],
          "scatterpolargl": [
           {
            "marker": {
             "colorbar": {
              "outlinewidth": 0,
              "ticks": ""
             }
            },
            "type": "scatterpolargl"
           }
          ],
          "scatterternary": [
           {
            "marker": {
             "colorbar": {
              "outlinewidth": 0,
              "ticks": ""
             }
            },
            "type": "scatterternary"
           }
          ],
          "surface": [
           {
            "colorbar": {
             "outlinewidth": 0,
             "ticks": ""
            },
            "colorscale": [
             [
              0,
              "#0d0887"
             ],
             [
              0.1111111111111111,
              "#46039f"
             ],
             [
              0.2222222222222222,
              "#7201a8"
             ],
             [
              0.3333333333333333,
              "#9c179e"
             ],
             [
              0.4444444444444444,
              "#bd3786"
             ],
             [
              0.5555555555555556,
              "#d8576b"
             ],
             [
              0.6666666666666666,
              "#ed7953"
             ],
             [
              0.7777777777777778,
              "#fb9f3a"
             ],
             [
              0.8888888888888888,
              "#fdca26"
             ],
             [
              1,
              "#f0f921"
             ]
            ],
            "type": "surface"
           }
          ],
          "table": [
           {
            "cells": {
             "fill": {
              "color": "#EBF0F8"
             },
             "line": {
              "color": "white"
             }
            },
            "header": {
             "fill": {
              "color": "#C8D4E3"
             },
             "line": {
              "color": "white"
             }
            },
            "type": "table"
           }
          ]
         },
         "layout": {
          "annotationdefaults": {
           "arrowcolor": "#2a3f5f",
           "arrowhead": 0,
           "arrowwidth": 1
          },
          "autotypenumbers": "strict",
          "coloraxis": {
           "colorbar": {
            "outlinewidth": 0,
            "ticks": ""
           }
          },
          "colorscale": {
           "diverging": [
            [
             0,
             "#8e0152"
            ],
            [
             0.1,
             "#c51b7d"
            ],
            [
             0.2,
             "#de77ae"
            ],
            [
             0.3,
             "#f1b6da"
            ],
            [
             0.4,
             "#fde0ef"
            ],
            [
             0.5,
             "#f7f7f7"
            ],
            [
             0.6,
             "#e6f5d0"
            ],
            [
             0.7,
             "#b8e186"
            ],
            [
             0.8,
             "#7fbc41"
            ],
            [
             0.9,
             "#4d9221"
            ],
            [
             1,
             "#276419"
            ]
           ],
           "sequential": [
            [
             0,
             "#0d0887"
            ],
            [
             0.1111111111111111,
             "#46039f"
            ],
            [
             0.2222222222222222,
             "#7201a8"
            ],
            [
             0.3333333333333333,
             "#9c179e"
            ],
            [
             0.4444444444444444,
             "#bd3786"
            ],
            [
             0.5555555555555556,
             "#d8576b"
            ],
            [
             0.6666666666666666,
             "#ed7953"
            ],
            [
             0.7777777777777778,
             "#fb9f3a"
            ],
            [
             0.8888888888888888,
             "#fdca26"
            ],
            [
             1,
             "#f0f921"
            ]
           ],
           "sequentialminus": [
            [
             0,
             "#0d0887"
            ],
            [
             0.1111111111111111,
             "#46039f"
            ],
            [
             0.2222222222222222,
             "#7201a8"
            ],
            [
             0.3333333333333333,
             "#9c179e"
            ],
            [
             0.4444444444444444,
             "#bd3786"
            ],
            [
             0.5555555555555556,
             "#d8576b"
            ],
            [
             0.6666666666666666,
             "#ed7953"
            ],
            [
             0.7777777777777778,
             "#fb9f3a"
            ],
            [
             0.8888888888888888,
             "#fdca26"
            ],
            [
             1,
             "#f0f921"
            ]
           ]
          },
          "colorway": [
           "#636efa",
           "#EF553B",
           "#00cc96",
           "#ab63fa",
           "#FFA15A",
           "#19d3f3",
           "#FF6692",
           "#B6E880",
           "#FF97FF",
           "#FECB52"
          ],
          "font": {
           "color": "#2a3f5f"
          },
          "geo": {
           "bgcolor": "white",
           "lakecolor": "white",
           "landcolor": "#E5ECF6",
           "showlakes": true,
           "showland": true,
           "subunitcolor": "white"
          },
          "hoverlabel": {
           "align": "left"
          },
          "hovermode": "closest",
          "mapbox": {
           "style": "light"
          },
          "paper_bgcolor": "white",
          "plot_bgcolor": "#E5ECF6",
          "polar": {
           "angularaxis": {
            "gridcolor": "white",
            "linecolor": "white",
            "ticks": ""
           },
           "bgcolor": "#E5ECF6",
           "radialaxis": {
            "gridcolor": "white",
            "linecolor": "white",
            "ticks": ""
           }
          },
          "scene": {
           "xaxis": {
            "backgroundcolor": "#E5ECF6",
            "gridcolor": "white",
            "gridwidth": 2,
            "linecolor": "white",
            "showbackground": true,
            "ticks": "",
            "zerolinecolor": "white"
           },
           "yaxis": {
            "backgroundcolor": "#E5ECF6",
            "gridcolor": "white",
            "gridwidth": 2,
            "linecolor": "white",
            "showbackground": true,
            "ticks": "",
            "zerolinecolor": "white"
           },
           "zaxis": {
            "backgroundcolor": "#E5ECF6",
            "gridcolor": "white",
            "gridwidth": 2,
            "linecolor": "white",
            "showbackground": true,
            "ticks": "",
            "zerolinecolor": "white"
           }
          },
          "shapedefaults": {
           "line": {
            "color": "#2a3f5f"
           }
          },
          "ternary": {
           "aaxis": {
            "gridcolor": "white",
            "linecolor": "white",
            "ticks": ""
           },
           "baxis": {
            "gridcolor": "white",
            "linecolor": "white",
            "ticks": ""
           },
           "bgcolor": "#E5ECF6",
           "caxis": {
            "gridcolor": "white",
            "linecolor": "white",
            "ticks": ""
           }
          },
          "title": {
           "x": 0.05
          },
          "xaxis": {
           "automargin": true,
           "gridcolor": "white",
           "linecolor": "white",
           "ticks": "",
           "title": {
            "standoff": 15
           },
           "zerolinecolor": "white",
           "zerolinewidth": 2
          },
          "yaxis": {
           "automargin": true,
           "gridcolor": "white",
           "linecolor": "white",
           "ticks": "",
           "title": {
            "standoff": 15
           },
           "zerolinecolor": "white",
           "zerolinewidth": 2
          }
         }
        },
        "xaxis": {
         "title": {
          "text": "Leaderboard Number"
         }
        },
        "yaxis": {
         "autorange": "reversed",
         "title": {
          "text": "Evaluation Metric"
         }
        }
       }
      }
     },
     "metadata": {},
     "output_type": "display_data"
    }
   ],
   "source": [
    "df = pd.read_csv(path_meta / 'leaderboard_processed.csv')\n",
    "df = df[df['Platforms'] == \"['Papers With Code']\"]\n",
    "df['Evaluation metrics (pwc)'] = df['Evaluation metrics (pwc)'].apply(ast.literal_eval)\n",
    "\n",
    "df_split = df.explode('Evaluation metrics (pwc)').groupby('Evaluation metrics (pwc)').size().reset_index(name='Frequency')\n",
    "df_split['Weight'] = 1\n",
    "\n",
    "statistics = {\n",
    "    'Distribution': 'Leaderboard Systems across Evaluation Metrics',\n",
    "    'Mean': np.mean(df_split['Frequency']),\n",
    "    'Median': np.median(df_split['Frequency']),\n",
    "    'IQR': df_split['Frequency'].quantile(0.75) - df_split['Frequency'].quantile(0.25),\n",
    "    'Gini Coefficient': ineqpy.inequality.gini(data=df_split, income='Frequency', weights='Weight'),\n",
    "}\n",
    "df_statistics = pd.read_csv(path_meta / 'leaderboard_statistics.csv')\n",
    "df_statistics = pd.concat([df_statistics, pd.DataFrame([statistics])], ignore_index=True)\n",
    "df_statistics.drop_duplicates(subset=['Distribution'], keep='last', inplace=True)\n",
    "df_statistics.sort_values(by='Distribution', inplace=True)\n",
    "df_statistics.to_csv(path_meta / 'leaderboard_statistics.csv', index=False)\n",
    "\n",
    "df_top = df_split.drop_duplicates(subset=['Evaluation metrics (pwc)']).sort_values(by='Frequency', ascending=False).head(10)\n",
    "print(f\"{df_top['Evaluation metrics (pwc)'].iloc[0]} is the most prevalent evaluation metrics in {round(df_top['Frequency'].iloc[0]/len(df)*100,2)}% ({df_top['Frequency'].iloc[0]} out of {len(df)}) leaderboards.\")\n",
    "\n",
    "fig = go.Figure(go.Bar(\n",
    "        x=df_top['Frequency'],  # Values for the bar lengths\n",
    "        y=df_top['Evaluation metrics (pwc)'],  # Categories for each bar\n",
    "        orientation='h',  # Sets the bars to be horizontal\n",
    "        text=df_top['Frequency'],  # Adds the values as text on each bar\n",
    "        textposition='auto'  # Automatically positions the text on the bars\n",
    "))\n",
    "fig.update_layout(\n",
    "        xaxis_title='Leaderboard Number',\n",
    "        yaxis_title='Evaluation Metric',\n",
    "        yaxis_autorange='reversed'  # This line makes the bars go top-down\n",
    ")\n",
    "# Update the layout for a tighter look\n",
    "fig.update_layout(\n",
    "    autosize=True,\n",
    "    margin=dict(\n",
    "        l=10,  # Left margin\n",
    "        r=10,  # Right margin\n",
    "        b=10,  # Bottom margin\n",
    "        t=10,  # Top margin\n",
    "        pad=4  # Padding between the plot and the margin\n",
    "    )\n",
    ")\n",
    "fig.show()"
   ]
  },
  {
   "cell_type": "code",
   "execution_count": 34,
   "metadata": {},
   "outputs": [
    {
     "name": "stdout",
     "output_type": "stream",
     "text": [
      "LMExamQA has the highest number of 887 leaderboards.\n"
     ]
    },
    {
     "data": {
      "application/vnd.plotly.v1+json": {
       "config": {
        "plotlyServerURL": "https://plot.ly"
       },
       "data": [
        {
         "orientation": "h",
         "text": [
          887,
          301,
          127,
          101,
          84,
          76,
          74,
          53,
          37,
          37
         ],
         "textposition": "auto",
         "type": "bar",
         "x": [
          887,
          301,
          127,
          101,
          84,
          76,
          74,
          53,
          37,
          37
         ],
         "y": [
          "LMExamQA",
          "HELM Classic",
          "BIG-Bench",
          "Flores-101",
          "HEIM",
          "Common Voice",
          "SeaEval",
          "BOP",
          "MTEB",
          "MMMU"
         ]
        }
       ],
       "layout": {
        "autosize": true,
        "margin": {
         "b": 10,
         "l": 10,
         "pad": 4,
         "r": 10,
         "t": 10
        },
        "template": {
         "data": {
          "bar": [
           {
            "error_x": {
             "color": "#2a3f5f"
            },
            "error_y": {
             "color": "#2a3f5f"
            },
            "marker": {
             "line": {
              "color": "#E5ECF6",
              "width": 0.5
             },
             "pattern": {
              "fillmode": "overlay",
              "size": 10,
              "solidity": 0.2
             }
            },
            "type": "bar"
           }
          ],
          "barpolar": [
           {
            "marker": {
             "line": {
              "color": "#E5ECF6",
              "width": 0.5
             },
             "pattern": {
              "fillmode": "overlay",
              "size": 10,
              "solidity": 0.2
             }
            },
            "type": "barpolar"
           }
          ],
          "carpet": [
           {
            "aaxis": {
             "endlinecolor": "#2a3f5f",
             "gridcolor": "white",
             "linecolor": "white",
             "minorgridcolor": "white",
             "startlinecolor": "#2a3f5f"
            },
            "baxis": {
             "endlinecolor": "#2a3f5f",
             "gridcolor": "white",
             "linecolor": "white",
             "minorgridcolor": "white",
             "startlinecolor": "#2a3f5f"
            },
            "type": "carpet"
           }
          ],
          "choropleth": [
           {
            "colorbar": {
             "outlinewidth": 0,
             "ticks": ""
            },
            "type": "choropleth"
           }
          ],
          "contour": [
           {
            "colorbar": {
             "outlinewidth": 0,
             "ticks": ""
            },
            "colorscale": [
             [
              0,
              "#0d0887"
             ],
             [
              0.1111111111111111,
              "#46039f"
             ],
             [
              0.2222222222222222,
              "#7201a8"
             ],
             [
              0.3333333333333333,
              "#9c179e"
             ],
             [
              0.4444444444444444,
              "#bd3786"
             ],
             [
              0.5555555555555556,
              "#d8576b"
             ],
             [
              0.6666666666666666,
              "#ed7953"
             ],
             [
              0.7777777777777778,
              "#fb9f3a"
             ],
             [
              0.8888888888888888,
              "#fdca26"
             ],
             [
              1,
              "#f0f921"
             ]
            ],
            "type": "contour"
           }
          ],
          "contourcarpet": [
           {
            "colorbar": {
             "outlinewidth": 0,
             "ticks": ""
            },
            "type": "contourcarpet"
           }
          ],
          "heatmap": [
           {
            "colorbar": {
             "outlinewidth": 0,
             "ticks": ""
            },
            "colorscale": [
             [
              0,
              "#0d0887"
             ],
             [
              0.1111111111111111,
              "#46039f"
             ],
             [
              0.2222222222222222,
              "#7201a8"
             ],
             [
              0.3333333333333333,
              "#9c179e"
             ],
             [
              0.4444444444444444,
              "#bd3786"
             ],
             [
              0.5555555555555556,
              "#d8576b"
             ],
             [
              0.6666666666666666,
              "#ed7953"
             ],
             [
              0.7777777777777778,
              "#fb9f3a"
             ],
             [
              0.8888888888888888,
              "#fdca26"
             ],
             [
              1,
              "#f0f921"
             ]
            ],
            "type": "heatmap"
           }
          ],
          "heatmapgl": [
           {
            "colorbar": {
             "outlinewidth": 0,
             "ticks": ""
            },
            "colorscale": [
             [
              0,
              "#0d0887"
             ],
             [
              0.1111111111111111,
              "#46039f"
             ],
             [
              0.2222222222222222,
              "#7201a8"
             ],
             [
              0.3333333333333333,
              "#9c179e"
             ],
             [
              0.4444444444444444,
              "#bd3786"
             ],
             [
              0.5555555555555556,
              "#d8576b"
             ],
             [
              0.6666666666666666,
              "#ed7953"
             ],
             [
              0.7777777777777778,
              "#fb9f3a"
             ],
             [
              0.8888888888888888,
              "#fdca26"
             ],
             [
              1,
              "#f0f921"
             ]
            ],
            "type": "heatmapgl"
           }
          ],
          "histogram": [
           {
            "marker": {
             "pattern": {
              "fillmode": "overlay",
              "size": 10,
              "solidity": 0.2
             }
            },
            "type": "histogram"
           }
          ],
          "histogram2d": [
           {
            "colorbar": {
             "outlinewidth": 0,
             "ticks": ""
            },
            "colorscale": [
             [
              0,
              "#0d0887"
             ],
             [
              0.1111111111111111,
              "#46039f"
             ],
             [
              0.2222222222222222,
              "#7201a8"
             ],
             [
              0.3333333333333333,
              "#9c179e"
             ],
             [
              0.4444444444444444,
              "#bd3786"
             ],
             [
              0.5555555555555556,
              "#d8576b"
             ],
             [
              0.6666666666666666,
              "#ed7953"
             ],
             [
              0.7777777777777778,
              "#fb9f3a"
             ],
             [
              0.8888888888888888,
              "#fdca26"
             ],
             [
              1,
              "#f0f921"
             ]
            ],
            "type": "histogram2d"
           }
          ],
          "histogram2dcontour": [
           {
            "colorbar": {
             "outlinewidth": 0,
             "ticks": ""
            },
            "colorscale": [
             [
              0,
              "#0d0887"
             ],
             [
              0.1111111111111111,
              "#46039f"
             ],
             [
              0.2222222222222222,
              "#7201a8"
             ],
             [
              0.3333333333333333,
              "#9c179e"
             ],
             [
              0.4444444444444444,
              "#bd3786"
             ],
             [
              0.5555555555555556,
              "#d8576b"
             ],
             [
              0.6666666666666666,
              "#ed7953"
             ],
             [
              0.7777777777777778,
              "#fb9f3a"
             ],
             [
              0.8888888888888888,
              "#fdca26"
             ],
             [
              1,
              "#f0f921"
             ]
            ],
            "type": "histogram2dcontour"
           }
          ],
          "mesh3d": [
           {
            "colorbar": {
             "outlinewidth": 0,
             "ticks": ""
            },
            "type": "mesh3d"
           }
          ],
          "parcoords": [
           {
            "line": {
             "colorbar": {
              "outlinewidth": 0,
              "ticks": ""
             }
            },
            "type": "parcoords"
           }
          ],
          "pie": [
           {
            "automargin": true,
            "type": "pie"
           }
          ],
          "scatter": [
           {
            "fillpattern": {
             "fillmode": "overlay",
             "size": 10,
             "solidity": 0.2
            },
            "type": "scatter"
           }
          ],
          "scatter3d": [
           {
            "line": {
             "colorbar": {
              "outlinewidth": 0,
              "ticks": ""
             }
            },
            "marker": {
             "colorbar": {
              "outlinewidth": 0,
              "ticks": ""
             }
            },
            "type": "scatter3d"
           }
          ],
          "scattercarpet": [
           {
            "marker": {
             "colorbar": {
              "outlinewidth": 0,
              "ticks": ""
             }
            },
            "type": "scattercarpet"
           }
          ],
          "scattergeo": [
           {
            "marker": {
             "colorbar": {
              "outlinewidth": 0,
              "ticks": ""
             }
            },
            "type": "scattergeo"
           }
          ],
          "scattergl": [
           {
            "marker": {
             "colorbar": {
              "outlinewidth": 0,
              "ticks": ""
             }
            },
            "type": "scattergl"
           }
          ],
          "scattermapbox": [
           {
            "marker": {
             "colorbar": {
              "outlinewidth": 0,
              "ticks": ""
             }
            },
            "type": "scattermapbox"
           }
          ],
          "scatterpolar": [
           {
            "marker": {
             "colorbar": {
              "outlinewidth": 0,
              "ticks": ""
             }
            },
            "type": "scatterpolar"
           }
          ],
          "scatterpolargl": [
           {
            "marker": {
             "colorbar": {
              "outlinewidth": 0,
              "ticks": ""
             }
            },
            "type": "scatterpolargl"
           }
          ],
          "scatterternary": [
           {
            "marker": {
             "colorbar": {
              "outlinewidth": 0,
              "ticks": ""
             }
            },
            "type": "scatterternary"
           }
          ],
          "surface": [
           {
            "colorbar": {
             "outlinewidth": 0,
             "ticks": ""
            },
            "colorscale": [
             [
              0,
              "#0d0887"
             ],
             [
              0.1111111111111111,
              "#46039f"
             ],
             [
              0.2222222222222222,
              "#7201a8"
             ],
             [
              0.3333333333333333,
              "#9c179e"
             ],
             [
              0.4444444444444444,
              "#bd3786"
             ],
             [
              0.5555555555555556,
              "#d8576b"
             ],
             [
              0.6666666666666666,
              "#ed7953"
             ],
             [
              0.7777777777777778,
              "#fb9f3a"
             ],
             [
              0.8888888888888888,
              "#fdca26"
             ],
             [
              1,
              "#f0f921"
             ]
            ],
            "type": "surface"
           }
          ],
          "table": [
           {
            "cells": {
             "fill": {
              "color": "#EBF0F8"
             },
             "line": {
              "color": "white"
             }
            },
            "header": {
             "fill": {
              "color": "#C8D4E3"
             },
             "line": {
              "color": "white"
             }
            },
            "type": "table"
           }
          ]
         },
         "layout": {
          "annotationdefaults": {
           "arrowcolor": "#2a3f5f",
           "arrowhead": 0,
           "arrowwidth": 1
          },
          "autotypenumbers": "strict",
          "coloraxis": {
           "colorbar": {
            "outlinewidth": 0,
            "ticks": ""
           }
          },
          "colorscale": {
           "diverging": [
            [
             0,
             "#8e0152"
            ],
            [
             0.1,
             "#c51b7d"
            ],
            [
             0.2,
             "#de77ae"
            ],
            [
             0.3,
             "#f1b6da"
            ],
            [
             0.4,
             "#fde0ef"
            ],
            [
             0.5,
             "#f7f7f7"
            ],
            [
             0.6,
             "#e6f5d0"
            ],
            [
             0.7,
             "#b8e186"
            ],
            [
             0.8,
             "#7fbc41"
            ],
            [
             0.9,
             "#4d9221"
            ],
            [
             1,
             "#276419"
            ]
           ],
           "sequential": [
            [
             0,
             "#0d0887"
            ],
            [
             0.1111111111111111,
             "#46039f"
            ],
            [
             0.2222222222222222,
             "#7201a8"
            ],
            [
             0.3333333333333333,
             "#9c179e"
            ],
            [
             0.4444444444444444,
             "#bd3786"
            ],
            [
             0.5555555555555556,
             "#d8576b"
            ],
            [
             0.6666666666666666,
             "#ed7953"
            ],
            [
             0.7777777777777778,
             "#fb9f3a"
            ],
            [
             0.8888888888888888,
             "#fdca26"
            ],
            [
             1,
             "#f0f921"
            ]
           ],
           "sequentialminus": [
            [
             0,
             "#0d0887"
            ],
            [
             0.1111111111111111,
             "#46039f"
            ],
            [
             0.2222222222222222,
             "#7201a8"
            ],
            [
             0.3333333333333333,
             "#9c179e"
            ],
            [
             0.4444444444444444,
             "#bd3786"
            ],
            [
             0.5555555555555556,
             "#d8576b"
            ],
            [
             0.6666666666666666,
             "#ed7953"
            ],
            [
             0.7777777777777778,
             "#fb9f3a"
            ],
            [
             0.8888888888888888,
             "#fdca26"
            ],
            [
             1,
             "#f0f921"
            ]
           ]
          },
          "colorway": [
           "#636efa",
           "#EF553B",
           "#00cc96",
           "#ab63fa",
           "#FFA15A",
           "#19d3f3",
           "#FF6692",
           "#B6E880",
           "#FF97FF",
           "#FECB52"
          ],
          "font": {
           "color": "#2a3f5f"
          },
          "geo": {
           "bgcolor": "white",
           "lakecolor": "white",
           "landcolor": "#E5ECF6",
           "showlakes": true,
           "showland": true,
           "subunitcolor": "white"
          },
          "hoverlabel": {
           "align": "left"
          },
          "hovermode": "closest",
          "mapbox": {
           "style": "light"
          },
          "paper_bgcolor": "white",
          "plot_bgcolor": "#E5ECF6",
          "polar": {
           "angularaxis": {
            "gridcolor": "white",
            "linecolor": "white",
            "ticks": ""
           },
           "bgcolor": "#E5ECF6",
           "radialaxis": {
            "gridcolor": "white",
            "linecolor": "white",
            "ticks": ""
           }
          },
          "scene": {
           "xaxis": {
            "backgroundcolor": "#E5ECF6",
            "gridcolor": "white",
            "gridwidth": 2,
            "linecolor": "white",
            "showbackground": true,
            "ticks": "",
            "zerolinecolor": "white"
           },
           "yaxis": {
            "backgroundcolor": "#E5ECF6",
            "gridcolor": "white",
            "gridwidth": 2,
            "linecolor": "white",
            "showbackground": true,
            "ticks": "",
            "zerolinecolor": "white"
           },
           "zaxis": {
            "backgroundcolor": "#E5ECF6",
            "gridcolor": "white",
            "gridwidth": 2,
            "linecolor": "white",
            "showbackground": true,
            "ticks": "",
            "zerolinecolor": "white"
           }
          },
          "shapedefaults": {
           "line": {
            "color": "#2a3f5f"
           }
          },
          "ternary": {
           "aaxis": {
            "gridcolor": "white",
            "linecolor": "white",
            "ticks": ""
           },
           "baxis": {
            "gridcolor": "white",
            "linecolor": "white",
            "ticks": ""
           },
           "bgcolor": "#E5ECF6",
           "caxis": {
            "gridcolor": "white",
            "linecolor": "white",
            "ticks": ""
           }
          },
          "title": {
           "x": 0.05
          },
          "xaxis": {
           "automargin": true,
           "gridcolor": "white",
           "linecolor": "white",
           "ticks": "",
           "title": {
            "standoff": 15
           },
           "zerolinecolor": "white",
           "zerolinewidth": 2
          },
          "yaxis": {
           "automargin": true,
           "gridcolor": "white",
           "linecolor": "white",
           "ticks": "",
           "title": {
            "standoff": 15
           },
           "zerolinecolor": "white",
           "zerolinewidth": 2
          }
         }
        },
        "xaxis": {
         "title": {
          "text": "Split Number"
         }
        },
        "yaxis": {
         "autorange": "reversed",
         "title": {
          "text": "Leaderboard Name"
         }
        }
       }
      }
     },
     "metadata": {},
     "output_type": "display_data"
    }
   ],
   "source": [
    "df = pd.read_csv(path_meta / 'leaderboard_processed.csv')\n",
    "df['Weight'] = 1\n",
    "\n",
    "statistics = {\n",
    "    'Distribution': 'Leaderboards across Leaderboard Systems',\n",
    "    'Mean': np.mean(df['#Leaderboard']),\n",
    "    'Median': np.median(df['#Leaderboard']),\n",
    "    'IQR': df['#Leaderboard'].quantile(0.75) - df['#Leaderboard'].quantile(0.25),\n",
    "    'Gini Coefficient': ineqpy.inequality.gini(data=df, income='#Leaderboard', weights='Weight'),\n",
    "}\n",
    "df_statistics = pd.read_csv(path_meta / 'leaderboard_statistics.csv')\n",
    "df_statistics = pd.concat([df_statistics, pd.DataFrame([statistics])], ignore_index=True)\n",
    "df_statistics.drop_duplicates(subset=['Distribution'], keep='last', inplace=True)\n",
    "df_statistics.sort_values(by='Distribution', inplace=True)\n",
    "df_statistics.to_csv(path_meta / 'leaderboard_statistics.csv', index=False)\n",
    "\n",
    "df_top = df.drop_duplicates(subset=['Leaderboard name']).sort_values(by='#Leaderboard', ascending=False).head(10)\n",
    "print(f\"{df_top['Leaderboard name'].iloc[0]} has the highest number of {int(df_top['#Leaderboard'].iloc[0])} leaderboards.\")\n",
    "\n",
    "fig = go.Figure(go.Bar(\n",
    "        x=df_top['#Leaderboard'],  # Values for the bar lengths\n",
    "        y=df_top['Leaderboard name'],  # Categories for each bar\n",
    "        orientation='h',  # Sets the bars to be horizontal\n",
    "        text=df_top['#Leaderboard'],  # Adds the values as text on each bar\n",
    "        textposition='auto'  # Automatically positions the text on the bars\n",
    "))\n",
    "fig.update_layout(\n",
    "        xaxis_title='Split Number',\n",
    "        yaxis_title='Leaderboard Name',\n",
    "        yaxis_autorange='reversed'  # This line makes the bars go top-down\n",
    ")\n",
    "# Update the layout for a tighter look\n",
    "fig.update_layout(\n",
    "    autosize=True,\n",
    "    margin=dict(\n",
    "        l=10,  # Left margin\n",
    "        r=10,  # Right margin\n",
    "        b=10,  # Bottom margin\n",
    "        t=10,  # Top margin\n",
    "        pad=4  # Padding between the plot and the margin\n",
    "    )\n",
    ")\n",
    "fig.show()\n"
   ]
  },
  {
   "cell_type": "code",
   "execution_count": 35,
   "metadata": {},
   "outputs": [
    {
     "name": "stdout",
     "output_type": "stream",
     "text": [
      "HELM Classic has the highest number of 16005 evaluation records.\n"
     ]
    },
    {
     "data": {
      "application/vnd.plotly.v1+json": {
       "config": {
        "plotlyServerURL": "https://plot.ly"
       },
       "data": [
        {
         "orientation": "h",
         "text": [
          16005,
          7096,
          5839,
          5567,
          4886,
          3922,
          2492,
          2184,
          1819,
          1341
         ],
         "textposition": "auto",
         "type": "bar",
         "x": [
          16005,
          7096,
          5839,
          5567,
          4886,
          3922,
          2492,
          2184,
          1819,
          1341
         ],
         "y": [
          "HELM Classic",
          "LMExamQA",
          "Open LLM Leaderboard (GPT)",
          "Open LLM Leaderboard",
          "Open MLLM Leaderboard",
          "SeaEval",
          "MTEB",
          "HEIM",
          "LLM-Perf Leaderboard",
          "BOP"
         ]
        }
       ],
       "layout": {
        "autosize": true,
        "margin": {
         "b": 10,
         "l": 10,
         "pad": 4,
         "r": 10,
         "t": 10
        },
        "template": {
         "data": {
          "bar": [
           {
            "error_x": {
             "color": "#2a3f5f"
            },
            "error_y": {
             "color": "#2a3f5f"
            },
            "marker": {
             "line": {
              "color": "#E5ECF6",
              "width": 0.5
             },
             "pattern": {
              "fillmode": "overlay",
              "size": 10,
              "solidity": 0.2
             }
            },
            "type": "bar"
           }
          ],
          "barpolar": [
           {
            "marker": {
             "line": {
              "color": "#E5ECF6",
              "width": 0.5
             },
             "pattern": {
              "fillmode": "overlay",
              "size": 10,
              "solidity": 0.2
             }
            },
            "type": "barpolar"
           }
          ],
          "carpet": [
           {
            "aaxis": {
             "endlinecolor": "#2a3f5f",
             "gridcolor": "white",
             "linecolor": "white",
             "minorgridcolor": "white",
             "startlinecolor": "#2a3f5f"
            },
            "baxis": {
             "endlinecolor": "#2a3f5f",
             "gridcolor": "white",
             "linecolor": "white",
             "minorgridcolor": "white",
             "startlinecolor": "#2a3f5f"
            },
            "type": "carpet"
           }
          ],
          "choropleth": [
           {
            "colorbar": {
             "outlinewidth": 0,
             "ticks": ""
            },
            "type": "choropleth"
           }
          ],
          "contour": [
           {
            "colorbar": {
             "outlinewidth": 0,
             "ticks": ""
            },
            "colorscale": [
             [
              0,
              "#0d0887"
             ],
             [
              0.1111111111111111,
              "#46039f"
             ],
             [
              0.2222222222222222,
              "#7201a8"
             ],
             [
              0.3333333333333333,
              "#9c179e"
             ],
             [
              0.4444444444444444,
              "#bd3786"
             ],
             [
              0.5555555555555556,
              "#d8576b"
             ],
             [
              0.6666666666666666,
              "#ed7953"
             ],
             [
              0.7777777777777778,
              "#fb9f3a"
             ],
             [
              0.8888888888888888,
              "#fdca26"
             ],
             [
              1,
              "#f0f921"
             ]
            ],
            "type": "contour"
           }
          ],
          "contourcarpet": [
           {
            "colorbar": {
             "outlinewidth": 0,
             "ticks": ""
            },
            "type": "contourcarpet"
           }
          ],
          "heatmap": [
           {
            "colorbar": {
             "outlinewidth": 0,
             "ticks": ""
            },
            "colorscale": [
             [
              0,
              "#0d0887"
             ],
             [
              0.1111111111111111,
              "#46039f"
             ],
             [
              0.2222222222222222,
              "#7201a8"
             ],
             [
              0.3333333333333333,
              "#9c179e"
             ],
             [
              0.4444444444444444,
              "#bd3786"
             ],
             [
              0.5555555555555556,
              "#d8576b"
             ],
             [
              0.6666666666666666,
              "#ed7953"
             ],
             [
              0.7777777777777778,
              "#fb9f3a"
             ],
             [
              0.8888888888888888,
              "#fdca26"
             ],
             [
              1,
              "#f0f921"
             ]
            ],
            "type": "heatmap"
           }
          ],
          "heatmapgl": [
           {
            "colorbar": {
             "outlinewidth": 0,
             "ticks": ""
            },
            "colorscale": [
             [
              0,
              "#0d0887"
             ],
             [
              0.1111111111111111,
              "#46039f"
             ],
             [
              0.2222222222222222,
              "#7201a8"
             ],
             [
              0.3333333333333333,
              "#9c179e"
             ],
             [
              0.4444444444444444,
              "#bd3786"
             ],
             [
              0.5555555555555556,
              "#d8576b"
             ],
             [
              0.6666666666666666,
              "#ed7953"
             ],
             [
              0.7777777777777778,
              "#fb9f3a"
             ],
             [
              0.8888888888888888,
              "#fdca26"
             ],
             [
              1,
              "#f0f921"
             ]
            ],
            "type": "heatmapgl"
           }
          ],
          "histogram": [
           {
            "marker": {
             "pattern": {
              "fillmode": "overlay",
              "size": 10,
              "solidity": 0.2
             }
            },
            "type": "histogram"
           }
          ],
          "histogram2d": [
           {
            "colorbar": {
             "outlinewidth": 0,
             "ticks": ""
            },
            "colorscale": [
             [
              0,
              "#0d0887"
             ],
             [
              0.1111111111111111,
              "#46039f"
             ],
             [
              0.2222222222222222,
              "#7201a8"
             ],
             [
              0.3333333333333333,
              "#9c179e"
             ],
             [
              0.4444444444444444,
              "#bd3786"
             ],
             [
              0.5555555555555556,
              "#d8576b"
             ],
             [
              0.6666666666666666,
              "#ed7953"
             ],
             [
              0.7777777777777778,
              "#fb9f3a"
             ],
             [
              0.8888888888888888,
              "#fdca26"
             ],
             [
              1,
              "#f0f921"
             ]
            ],
            "type": "histogram2d"
           }
          ],
          "histogram2dcontour": [
           {
            "colorbar": {
             "outlinewidth": 0,
             "ticks": ""
            },
            "colorscale": [
             [
              0,
              "#0d0887"
             ],
             [
              0.1111111111111111,
              "#46039f"
             ],
             [
              0.2222222222222222,
              "#7201a8"
             ],
             [
              0.3333333333333333,
              "#9c179e"
             ],
             [
              0.4444444444444444,
              "#bd3786"
             ],
             [
              0.5555555555555556,
              "#d8576b"
             ],
             [
              0.6666666666666666,
              "#ed7953"
             ],
             [
              0.7777777777777778,
              "#fb9f3a"
             ],
             [
              0.8888888888888888,
              "#fdca26"
             ],
             [
              1,
              "#f0f921"
             ]
            ],
            "type": "histogram2dcontour"
           }
          ],
          "mesh3d": [
           {
            "colorbar": {
             "outlinewidth": 0,
             "ticks": ""
            },
            "type": "mesh3d"
           }
          ],
          "parcoords": [
           {
            "line": {
             "colorbar": {
              "outlinewidth": 0,
              "ticks": ""
             }
            },
            "type": "parcoords"
           }
          ],
          "pie": [
           {
            "automargin": true,
            "type": "pie"
           }
          ],
          "scatter": [
           {
            "fillpattern": {
             "fillmode": "overlay",
             "size": 10,
             "solidity": 0.2
            },
            "type": "scatter"
           }
          ],
          "scatter3d": [
           {
            "line": {
             "colorbar": {
              "outlinewidth": 0,
              "ticks": ""
             }
            },
            "marker": {
             "colorbar": {
              "outlinewidth": 0,
              "ticks": ""
             }
            },
            "type": "scatter3d"
           }
          ],
          "scattercarpet": [
           {
            "marker": {
             "colorbar": {
              "outlinewidth": 0,
              "ticks": ""
             }
            },
            "type": "scattercarpet"
           }
          ],
          "scattergeo": [
           {
            "marker": {
             "colorbar": {
              "outlinewidth": 0,
              "ticks": ""
             }
            },
            "type": "scattergeo"
           }
          ],
          "scattergl": [
           {
            "marker": {
             "colorbar": {
              "outlinewidth": 0,
              "ticks": ""
             }
            },
            "type": "scattergl"
           }
          ],
          "scattermapbox": [
           {
            "marker": {
             "colorbar": {
              "outlinewidth": 0,
              "ticks": ""
             }
            },
            "type": "scattermapbox"
           }
          ],
          "scatterpolar": [
           {
            "marker": {
             "colorbar": {
              "outlinewidth": 0,
              "ticks": ""
             }
            },
            "type": "scatterpolar"
           }
          ],
          "scatterpolargl": [
           {
            "marker": {
             "colorbar": {
              "outlinewidth": 0,
              "ticks": ""
             }
            },
            "type": "scatterpolargl"
           }
          ],
          "scatterternary": [
           {
            "marker": {
             "colorbar": {
              "outlinewidth": 0,
              "ticks": ""
             }
            },
            "type": "scatterternary"
           }
          ],
          "surface": [
           {
            "colorbar": {
             "outlinewidth": 0,
             "ticks": ""
            },
            "colorscale": [
             [
              0,
              "#0d0887"
             ],
             [
              0.1111111111111111,
              "#46039f"
             ],
             [
              0.2222222222222222,
              "#7201a8"
             ],
             [
              0.3333333333333333,
              "#9c179e"
             ],
             [
              0.4444444444444444,
              "#bd3786"
             ],
             [
              0.5555555555555556,
              "#d8576b"
             ],
             [
              0.6666666666666666,
              "#ed7953"
             ],
             [
              0.7777777777777778,
              "#fb9f3a"
             ],
             [
              0.8888888888888888,
              "#fdca26"
             ],
             [
              1,
              "#f0f921"
             ]
            ],
            "type": "surface"
           }
          ],
          "table": [
           {
            "cells": {
             "fill": {
              "color": "#EBF0F8"
             },
             "line": {
              "color": "white"
             }
            },
            "header": {
             "fill": {
              "color": "#C8D4E3"
             },
             "line": {
              "color": "white"
             }
            },
            "type": "table"
           }
          ]
         },
         "layout": {
          "annotationdefaults": {
           "arrowcolor": "#2a3f5f",
           "arrowhead": 0,
           "arrowwidth": 1
          },
          "autotypenumbers": "strict",
          "coloraxis": {
           "colorbar": {
            "outlinewidth": 0,
            "ticks": ""
           }
          },
          "colorscale": {
           "diverging": [
            [
             0,
             "#8e0152"
            ],
            [
             0.1,
             "#c51b7d"
            ],
            [
             0.2,
             "#de77ae"
            ],
            [
             0.3,
             "#f1b6da"
            ],
            [
             0.4,
             "#fde0ef"
            ],
            [
             0.5,
             "#f7f7f7"
            ],
            [
             0.6,
             "#e6f5d0"
            ],
            [
             0.7,
             "#b8e186"
            ],
            [
             0.8,
             "#7fbc41"
            ],
            [
             0.9,
             "#4d9221"
            ],
            [
             1,
             "#276419"
            ]
           ],
           "sequential": [
            [
             0,
             "#0d0887"
            ],
            [
             0.1111111111111111,
             "#46039f"
            ],
            [
             0.2222222222222222,
             "#7201a8"
            ],
            [
             0.3333333333333333,
             "#9c179e"
            ],
            [
             0.4444444444444444,
             "#bd3786"
            ],
            [
             0.5555555555555556,
             "#d8576b"
            ],
            [
             0.6666666666666666,
             "#ed7953"
            ],
            [
             0.7777777777777778,
             "#fb9f3a"
            ],
            [
             0.8888888888888888,
             "#fdca26"
            ],
            [
             1,
             "#f0f921"
            ]
           ],
           "sequentialminus": [
            [
             0,
             "#0d0887"
            ],
            [
             0.1111111111111111,
             "#46039f"
            ],
            [
             0.2222222222222222,
             "#7201a8"
            ],
            [
             0.3333333333333333,
             "#9c179e"
            ],
            [
             0.4444444444444444,
             "#bd3786"
            ],
            [
             0.5555555555555556,
             "#d8576b"
            ],
            [
             0.6666666666666666,
             "#ed7953"
            ],
            [
             0.7777777777777778,
             "#fb9f3a"
            ],
            [
             0.8888888888888888,
             "#fdca26"
            ],
            [
             1,
             "#f0f921"
            ]
           ]
          },
          "colorway": [
           "#636efa",
           "#EF553B",
           "#00cc96",
           "#ab63fa",
           "#FFA15A",
           "#19d3f3",
           "#FF6692",
           "#B6E880",
           "#FF97FF",
           "#FECB52"
          ],
          "font": {
           "color": "#2a3f5f"
          },
          "geo": {
           "bgcolor": "white",
           "lakecolor": "white",
           "landcolor": "#E5ECF6",
           "showlakes": true,
           "showland": true,
           "subunitcolor": "white"
          },
          "hoverlabel": {
           "align": "left"
          },
          "hovermode": "closest",
          "mapbox": {
           "style": "light"
          },
          "paper_bgcolor": "white",
          "plot_bgcolor": "#E5ECF6",
          "polar": {
           "angularaxis": {
            "gridcolor": "white",
            "linecolor": "white",
            "ticks": ""
           },
           "bgcolor": "#E5ECF6",
           "radialaxis": {
            "gridcolor": "white",
            "linecolor": "white",
            "ticks": ""
           }
          },
          "scene": {
           "xaxis": {
            "backgroundcolor": "#E5ECF6",
            "gridcolor": "white",
            "gridwidth": 2,
            "linecolor": "white",
            "showbackground": true,
            "ticks": "",
            "zerolinecolor": "white"
           },
           "yaxis": {
            "backgroundcolor": "#E5ECF6",
            "gridcolor": "white",
            "gridwidth": 2,
            "linecolor": "white",
            "showbackground": true,
            "ticks": "",
            "zerolinecolor": "white"
           },
           "zaxis": {
            "backgroundcolor": "#E5ECF6",
            "gridcolor": "white",
            "gridwidth": 2,
            "linecolor": "white",
            "showbackground": true,
            "ticks": "",
            "zerolinecolor": "white"
           }
          },
          "shapedefaults": {
           "line": {
            "color": "#2a3f5f"
           }
          },
          "ternary": {
           "aaxis": {
            "gridcolor": "white",
            "linecolor": "white",
            "ticks": ""
           },
           "baxis": {
            "gridcolor": "white",
            "linecolor": "white",
            "ticks": ""
           },
           "bgcolor": "#E5ECF6",
           "caxis": {
            "gridcolor": "white",
            "linecolor": "white",
            "ticks": ""
           }
          },
          "title": {
           "x": 0.05
          },
          "xaxis": {
           "automargin": true,
           "gridcolor": "white",
           "linecolor": "white",
           "ticks": "",
           "title": {
            "standoff": 15
           },
           "zerolinecolor": "white",
           "zerolinewidth": 2
          },
          "yaxis": {
           "automargin": true,
           "gridcolor": "white",
           "linecolor": "white",
           "ticks": "",
           "title": {
            "standoff": 15
           },
           "zerolinecolor": "white",
           "zerolinewidth": 2
          }
         }
        },
        "xaxis": {
         "title": {
          "text": "Number of Evaluation Records"
         }
        },
        "yaxis": {
         "autorange": "reversed",
         "title": {
          "text": "Leaderboard Name"
         }
        }
       }
      }
     },
     "metadata": {},
     "output_type": "display_data"
    }
   ],
   "source": [
    "df = pd.read_csv(path_meta / 'leaderboard_processed.csv')\n",
    "df['Weight'] = 1\n",
    "\n",
    "statistics = {\n",
    "    'Distribution': 'Evaluation Records across Leaderboard Systems',\n",
    "    'Mean': np.mean(df['#Evaluation record']),\n",
    "    'Median': np.median(df['#Evaluation record']),\n",
    "    'IQR': df['#Evaluation record'].quantile(0.75) - df['#Evaluation record'].quantile(0.25),\n",
    "    'Gini Coefficient': ineqpy.inequality.gini(data=df, income='#Evaluation record', weights='Weight'),\n",
    "}\n",
    "df_statistics = pd.read_csv(path_meta / 'leaderboard_statistics.csv')\n",
    "df_statistics = pd.concat([df_statistics, pd.DataFrame([statistics])], ignore_index=True)\n",
    "df_statistics.drop_duplicates(subset=['Distribution'], keep='last', inplace=True)\n",
    "df_statistics.sort_values(by='Distribution', inplace=True)\n",
    "df_statistics.to_csv(path_meta / 'leaderboard_statistics.csv', index=False)\n",
    "\n",
    "df_top = df.drop_duplicates(subset=['Leaderboard name']).sort_values(by='#Evaluation record', ascending=False).head(10)\n",
    "print(f\"{df_top['Leaderboard name'].iloc[0]} has the highest number of {int(df_top['#Evaluation record'].iloc[0])} evaluation records.\")\n",
    "\n",
    "fig = go.Figure(go.Bar(\n",
    "        x=df_top['#Evaluation record'],  # Values for the bar lengths\n",
    "        y=df_top['Leaderboard name'],  # Categories for each bar\n",
    "        orientation='h',  # Sets the bars to be horizontal\n",
    "        text=df_top['#Evaluation record'],  # Adds the values as text on each bar\n",
    "        textposition='auto'  # Automatically positions the text on the bars\n",
    "))\n",
    "fig.update_layout(\n",
    "        xaxis_title='Number of Evaluation Records',\n",
    "        yaxis_title='Leaderboard Name',\n",
    "        yaxis_autorange='reversed'  # This line makes the bars go top-down\n",
    ")\n",
    "# Update the layout for a tighter look\n",
    "fig.update_layout(\n",
    "    autosize=True,\n",
    "    margin=dict(\n",
    "        l=10,  # Left margin\n",
    "        r=10,  # Right margin\n",
    "        b=10,  # Bottom margin\n",
    "        t=10,  # Top margin\n",
    "        pad=4  # Padding between the plot and the margin\n",
    "    )\n",
    ")\n",
    "fig.show()\n"
   ]
  },
  {
   "cell_type": "code",
   "execution_count": 36,
   "metadata": {},
   "outputs": [
    {
     "name": "stdout",
     "output_type": "stream",
     "text": [
      "Pattern 2 is the most prevalent (102 out of 245) workflow pattern that accounts for 41.63%.\n"
     ]
    },
    {
     "data": {
      "application/vnd.plotly.v1+json": {
       "config": {
        "plotlyServerURL": "https://plot.ly"
       },
       "data": [
        {
         "alignmentgroup": "True",
         "hovertemplate": "Evaluation workflows (non-pwc)=%{x}<br>Leaderboard Number=%{y}<extra></extra>",
         "legendgroup": "",
         "marker": {
          "color": "#636efa",
          "pattern": {
           "shape": ""
          }
         },
         "name": "",
         "offsetgroup": "",
         "orientation": "v",
         "showlegend": false,
         "textposition": "auto",
         "texttemplate": "%{y}",
         "type": "bar",
         "x": [
          "Pattern 2",
          "Pattern 6",
          "Pattern 4",
          "Pattern 7",
          "Unknown",
          "Pattern 3",
          "Pattern 5",
          "Pattern 1",
          "Pattern 10",
          "Pattern 9"
         ],
         "xaxis": "x",
         "y": [
          41.63,
          27.76,
          17.14,
          7.76,
          3.67,
          1.22,
          1.22,
          0.82,
          0.41,
          0.41
         ],
         "yaxis": "y"
        }
       ],
       "layout": {
        "barmode": "relative",
        "legend": {
         "tracegroupgap": 0
        },
        "template": {
         "data": {
          "bar": [
           {
            "error_x": {
             "color": "#2a3f5f"
            },
            "error_y": {
             "color": "#2a3f5f"
            },
            "marker": {
             "line": {
              "color": "#E5ECF6",
              "width": 0.5
             },
             "pattern": {
              "fillmode": "overlay",
              "size": 10,
              "solidity": 0.2
             }
            },
            "type": "bar"
           }
          ],
          "barpolar": [
           {
            "marker": {
             "line": {
              "color": "#E5ECF6",
              "width": 0.5
             },
             "pattern": {
              "fillmode": "overlay",
              "size": 10,
              "solidity": 0.2
             }
            },
            "type": "barpolar"
           }
          ],
          "carpet": [
           {
            "aaxis": {
             "endlinecolor": "#2a3f5f",
             "gridcolor": "white",
             "linecolor": "white",
             "minorgridcolor": "white",
             "startlinecolor": "#2a3f5f"
            },
            "baxis": {
             "endlinecolor": "#2a3f5f",
             "gridcolor": "white",
             "linecolor": "white",
             "minorgridcolor": "white",
             "startlinecolor": "#2a3f5f"
            },
            "type": "carpet"
           }
          ],
          "choropleth": [
           {
            "colorbar": {
             "outlinewidth": 0,
             "ticks": ""
            },
            "type": "choropleth"
           }
          ],
          "contour": [
           {
            "colorbar": {
             "outlinewidth": 0,
             "ticks": ""
            },
            "colorscale": [
             [
              0,
              "#0d0887"
             ],
             [
              0.1111111111111111,
              "#46039f"
             ],
             [
              0.2222222222222222,
              "#7201a8"
             ],
             [
              0.3333333333333333,
              "#9c179e"
             ],
             [
              0.4444444444444444,
              "#bd3786"
             ],
             [
              0.5555555555555556,
              "#d8576b"
             ],
             [
              0.6666666666666666,
              "#ed7953"
             ],
             [
              0.7777777777777778,
              "#fb9f3a"
             ],
             [
              0.8888888888888888,
              "#fdca26"
             ],
             [
              1,
              "#f0f921"
             ]
            ],
            "type": "contour"
           }
          ],
          "contourcarpet": [
           {
            "colorbar": {
             "outlinewidth": 0,
             "ticks": ""
            },
            "type": "contourcarpet"
           }
          ],
          "heatmap": [
           {
            "colorbar": {
             "outlinewidth": 0,
             "ticks": ""
            },
            "colorscale": [
             [
              0,
              "#0d0887"
             ],
             [
              0.1111111111111111,
              "#46039f"
             ],
             [
              0.2222222222222222,
              "#7201a8"
             ],
             [
              0.3333333333333333,
              "#9c179e"
             ],
             [
              0.4444444444444444,
              "#bd3786"
             ],
             [
              0.5555555555555556,
              "#d8576b"
             ],
             [
              0.6666666666666666,
              "#ed7953"
             ],
             [
              0.7777777777777778,
              "#fb9f3a"
             ],
             [
              0.8888888888888888,
              "#fdca26"
             ],
             [
              1,
              "#f0f921"
             ]
            ],
            "type": "heatmap"
           }
          ],
          "heatmapgl": [
           {
            "colorbar": {
             "outlinewidth": 0,
             "ticks": ""
            },
            "colorscale": [
             [
              0,
              "#0d0887"
             ],
             [
              0.1111111111111111,
              "#46039f"
             ],
             [
              0.2222222222222222,
              "#7201a8"
             ],
             [
              0.3333333333333333,
              "#9c179e"
             ],
             [
              0.4444444444444444,
              "#bd3786"
             ],
             [
              0.5555555555555556,
              "#d8576b"
             ],
             [
              0.6666666666666666,
              "#ed7953"
             ],
             [
              0.7777777777777778,
              "#fb9f3a"
             ],
             [
              0.8888888888888888,
              "#fdca26"
             ],
             [
              1,
              "#f0f921"
             ]
            ],
            "type": "heatmapgl"
           }
          ],
          "histogram": [
           {
            "marker": {
             "pattern": {
              "fillmode": "overlay",
              "size": 10,
              "solidity": 0.2
             }
            },
            "type": "histogram"
           }
          ],
          "histogram2d": [
           {
            "colorbar": {
             "outlinewidth": 0,
             "ticks": ""
            },
            "colorscale": [
             [
              0,
              "#0d0887"
             ],
             [
              0.1111111111111111,
              "#46039f"
             ],
             [
              0.2222222222222222,
              "#7201a8"
             ],
             [
              0.3333333333333333,
              "#9c179e"
             ],
             [
              0.4444444444444444,
              "#bd3786"
             ],
             [
              0.5555555555555556,
              "#d8576b"
             ],
             [
              0.6666666666666666,
              "#ed7953"
             ],
             [
              0.7777777777777778,
              "#fb9f3a"
             ],
             [
              0.8888888888888888,
              "#fdca26"
             ],
             [
              1,
              "#f0f921"
             ]
            ],
            "type": "histogram2d"
           }
          ],
          "histogram2dcontour": [
           {
            "colorbar": {
             "outlinewidth": 0,
             "ticks": ""
            },
            "colorscale": [
             [
              0,
              "#0d0887"
             ],
             [
              0.1111111111111111,
              "#46039f"
             ],
             [
              0.2222222222222222,
              "#7201a8"
             ],
             [
              0.3333333333333333,
              "#9c179e"
             ],
             [
              0.4444444444444444,
              "#bd3786"
             ],
             [
              0.5555555555555556,
              "#d8576b"
             ],
             [
              0.6666666666666666,
              "#ed7953"
             ],
             [
              0.7777777777777778,
              "#fb9f3a"
             ],
             [
              0.8888888888888888,
              "#fdca26"
             ],
             [
              1,
              "#f0f921"
             ]
            ],
            "type": "histogram2dcontour"
           }
          ],
          "mesh3d": [
           {
            "colorbar": {
             "outlinewidth": 0,
             "ticks": ""
            },
            "type": "mesh3d"
           }
          ],
          "parcoords": [
           {
            "line": {
             "colorbar": {
              "outlinewidth": 0,
              "ticks": ""
             }
            },
            "type": "parcoords"
           }
          ],
          "pie": [
           {
            "automargin": true,
            "type": "pie"
           }
          ],
          "scatter": [
           {
            "fillpattern": {
             "fillmode": "overlay",
             "size": 10,
             "solidity": 0.2
            },
            "type": "scatter"
           }
          ],
          "scatter3d": [
           {
            "line": {
             "colorbar": {
              "outlinewidth": 0,
              "ticks": ""
             }
            },
            "marker": {
             "colorbar": {
              "outlinewidth": 0,
              "ticks": ""
             }
            },
            "type": "scatter3d"
           }
          ],
          "scattercarpet": [
           {
            "marker": {
             "colorbar": {
              "outlinewidth": 0,
              "ticks": ""
             }
            },
            "type": "scattercarpet"
           }
          ],
          "scattergeo": [
           {
            "marker": {
             "colorbar": {
              "outlinewidth": 0,
              "ticks": ""
             }
            },
            "type": "scattergeo"
           }
          ],
          "scattergl": [
           {
            "marker": {
             "colorbar": {
              "outlinewidth": 0,
              "ticks": ""
             }
            },
            "type": "scattergl"
           }
          ],
          "scattermapbox": [
           {
            "marker": {
             "colorbar": {
              "outlinewidth": 0,
              "ticks": ""
             }
            },
            "type": "scattermapbox"
           }
          ],
          "scatterpolar": [
           {
            "marker": {
             "colorbar": {
              "outlinewidth": 0,
              "ticks": ""
             }
            },
            "type": "scatterpolar"
           }
          ],
          "scatterpolargl": [
           {
            "marker": {
             "colorbar": {
              "outlinewidth": 0,
              "ticks": ""
             }
            },
            "type": "scatterpolargl"
           }
          ],
          "scatterternary": [
           {
            "marker": {
             "colorbar": {
              "outlinewidth": 0,
              "ticks": ""
             }
            },
            "type": "scatterternary"
           }
          ],
          "surface": [
           {
            "colorbar": {
             "outlinewidth": 0,
             "ticks": ""
            },
            "colorscale": [
             [
              0,
              "#0d0887"
             ],
             [
              0.1111111111111111,
              "#46039f"
             ],
             [
              0.2222222222222222,
              "#7201a8"
             ],
             [
              0.3333333333333333,
              "#9c179e"
             ],
             [
              0.4444444444444444,
              "#bd3786"
             ],
             [
              0.5555555555555556,
              "#d8576b"
             ],
             [
              0.6666666666666666,
              "#ed7953"
             ],
             [
              0.7777777777777778,
              "#fb9f3a"
             ],
             [
              0.8888888888888888,
              "#fdca26"
             ],
             [
              1,
              "#f0f921"
             ]
            ],
            "type": "surface"
           }
          ],
          "table": [
           {
            "cells": {
             "fill": {
              "color": "#EBF0F8"
             },
             "line": {
              "color": "white"
             }
            },
            "header": {
             "fill": {
              "color": "#C8D4E3"
             },
             "line": {
              "color": "white"
             }
            },
            "type": "table"
           }
          ]
         },
         "layout": {
          "annotationdefaults": {
           "arrowcolor": "#2a3f5f",
           "arrowhead": 0,
           "arrowwidth": 1
          },
          "autotypenumbers": "strict",
          "coloraxis": {
           "colorbar": {
            "outlinewidth": 0,
            "ticks": ""
           }
          },
          "colorscale": {
           "diverging": [
            [
             0,
             "#8e0152"
            ],
            [
             0.1,
             "#c51b7d"
            ],
            [
             0.2,
             "#de77ae"
            ],
            [
             0.3,
             "#f1b6da"
            ],
            [
             0.4,
             "#fde0ef"
            ],
            [
             0.5,
             "#f7f7f7"
            ],
            [
             0.6,
             "#e6f5d0"
            ],
            [
             0.7,
             "#b8e186"
            ],
            [
             0.8,
             "#7fbc41"
            ],
            [
             0.9,
             "#4d9221"
            ],
            [
             1,
             "#276419"
            ]
           ],
           "sequential": [
            [
             0,
             "#0d0887"
            ],
            [
             0.1111111111111111,
             "#46039f"
            ],
            [
             0.2222222222222222,
             "#7201a8"
            ],
            [
             0.3333333333333333,
             "#9c179e"
            ],
            [
             0.4444444444444444,
             "#bd3786"
            ],
            [
             0.5555555555555556,
             "#d8576b"
            ],
            [
             0.6666666666666666,
             "#ed7953"
            ],
            [
             0.7777777777777778,
             "#fb9f3a"
            ],
            [
             0.8888888888888888,
             "#fdca26"
            ],
            [
             1,
             "#f0f921"
            ]
           ],
           "sequentialminus": [
            [
             0,
             "#0d0887"
            ],
            [
             0.1111111111111111,
             "#46039f"
            ],
            [
             0.2222222222222222,
             "#7201a8"
            ],
            [
             0.3333333333333333,
             "#9c179e"
            ],
            [
             0.4444444444444444,
             "#bd3786"
            ],
            [
             0.5555555555555556,
             "#d8576b"
            ],
            [
             0.6666666666666666,
             "#ed7953"
            ],
            [
             0.7777777777777778,
             "#fb9f3a"
            ],
            [
             0.8888888888888888,
             "#fdca26"
            ],
            [
             1,
             "#f0f921"
            ]
           ]
          },
          "colorway": [
           "#636efa",
           "#EF553B",
           "#00cc96",
           "#ab63fa",
           "#FFA15A",
           "#19d3f3",
           "#FF6692",
           "#B6E880",
           "#FF97FF",
           "#FECB52"
          ],
          "font": {
           "color": "#2a3f5f"
          },
          "geo": {
           "bgcolor": "white",
           "lakecolor": "white",
           "landcolor": "#E5ECF6",
           "showlakes": true,
           "showland": true,
           "subunitcolor": "white"
          },
          "hoverlabel": {
           "align": "left"
          },
          "hovermode": "closest",
          "mapbox": {
           "style": "light"
          },
          "paper_bgcolor": "white",
          "plot_bgcolor": "#E5ECF6",
          "polar": {
           "angularaxis": {
            "gridcolor": "white",
            "linecolor": "white",
            "ticks": ""
           },
           "bgcolor": "#E5ECF6",
           "radialaxis": {
            "gridcolor": "white",
            "linecolor": "white",
            "ticks": ""
           }
          },
          "scene": {
           "xaxis": {
            "backgroundcolor": "#E5ECF6",
            "gridcolor": "white",
            "gridwidth": 2,
            "linecolor": "white",
            "showbackground": true,
            "ticks": "",
            "zerolinecolor": "white"
           },
           "yaxis": {
            "backgroundcolor": "#E5ECF6",
            "gridcolor": "white",
            "gridwidth": 2,
            "linecolor": "white",
            "showbackground": true,
            "ticks": "",
            "zerolinecolor": "white"
           },
           "zaxis": {
            "backgroundcolor": "#E5ECF6",
            "gridcolor": "white",
            "gridwidth": 2,
            "linecolor": "white",
            "showbackground": true,
            "ticks": "",
            "zerolinecolor": "white"
           }
          },
          "shapedefaults": {
           "line": {
            "color": "#2a3f5f"
           }
          },
          "ternary": {
           "aaxis": {
            "gridcolor": "white",
            "linecolor": "white",
            "ticks": ""
           },
           "baxis": {
            "gridcolor": "white",
            "linecolor": "white",
            "ticks": ""
           },
           "bgcolor": "#E5ECF6",
           "caxis": {
            "gridcolor": "white",
            "linecolor": "white",
            "ticks": ""
           }
          },
          "title": {
           "x": 0.05
          },
          "xaxis": {
           "automargin": true,
           "gridcolor": "white",
           "linecolor": "white",
           "ticks": "",
           "title": {
            "standoff": 15
           },
           "zerolinecolor": "white",
           "zerolinewidth": 2
          },
          "yaxis": {
           "automargin": true,
           "gridcolor": "white",
           "linecolor": "white",
           "ticks": "",
           "title": {
            "standoff": 15
           },
           "zerolinecolor": "white",
           "zerolinewidth": 2
          }
         }
        },
        "title": {
         "text": "Number of Leaderboard Systems across Evaluation Workflows (non-pwc)"
        },
        "xaxis": {
         "anchor": "y",
         "domain": [
          0,
          1
         ],
         "title": {
          "text": "Evaluation workflows (non-pwc)"
         }
        },
        "yaxis": {
         "anchor": "x",
         "domain": [
          0,
          1
         ],
         "title": {
          "text": "Leaderboard Number"
         }
        }
       }
      }
     },
     "metadata": {},
     "output_type": "display_data"
    }
   ],
   "source": [
    "df = pd.read_csv(path_meta / 'leaderboard_processed.csv')\n",
    "df = df[df['Platforms'] != \"['Papers With Code']\"]\n",
    "df['Evaluation workflows (non-pwc)'] = df['Evaluation workflows (non-pwc)'].apply(ast.literal_eval)\n",
    "\n",
    "df = df[df['Evaluation workflows (non-pwc)'].map(len) > 0]\n",
    "df_workflow = df.explode('Evaluation workflows (non-pwc)')\n",
    "df_workflow = df_workflow.groupby('Evaluation workflows (non-pwc)').size().reset_index(name='Frequency')\n",
    "df_workflow['Evaluation workflows (non-pwc)'] = df_workflow['Evaluation workflows (non-pwc)'].apply(lambda x: f'Pattern {x}' if x != 'Unknown' else x)\n",
    "df_workflow.sort_values(by='Frequency', ascending=False, inplace=True)\n",
    "df_workflow['Weight'] = 1\n",
    "\n",
    "statistics = {\n",
    "    'Distribution': 'Leaderboard Systems across Evaluation Workflows',\n",
    "    'Mean': np.mean(df_workflow['Frequency']),\n",
    "    'Median': np.median(df_workflow['Frequency']),\n",
    "    'IQR': df_workflow['Frequency'].quantile(0.75) - df_workflow['Frequency'].quantile(0.25),\n",
    "    'Gini Coefficient': ineqpy.inequality.gini(data=df_workflow, income='Frequency', weights='Weight'),\n",
    "}\n",
    "df_statistics = pd.read_csv(path_meta / 'leaderboard_statistics.csv')\n",
    "df_statistics = pd.concat([df_statistics, pd.DataFrame([statistics])], ignore_index=True)\n",
    "df_statistics.drop_duplicates(subset=['Distribution'], keep='last', inplace=True)\n",
    "df_statistics.sort_values(by='Distribution', inplace=True)\n",
    "df_statistics.to_csv(path_meta / 'leaderboard_statistics.csv', index=False)\n",
    "\n",
    "print(f\"{df_workflow['Evaluation workflows (non-pwc)'].iloc[0]} is the most prevalent ({df_workflow['Frequency'].iloc[0]} out of {len(df)}) workflow pattern that accounts for {round(df_workflow['Frequency'].iloc[0]/len(df)*100,2)}%.\")\n",
    "\n",
    "df_workflow['Ratio'] = round(df_workflow['Frequency'] / len(df) * 100, 2)\n",
    "\n",
    "fig = px.bar(\n",
    "    x=df_workflow['Evaluation workflows (non-pwc)'], \n",
    "    y=df_workflow['Ratio'],\n",
    "    text_auto=True,\n",
    "    labels={'x': 'Evaluation workflows (non-pwc)', 'y': 'Leaderboard Number'},\n",
    "    title='Number of Leaderboard Systems across Evaluation Workflows (non-pwc)'\n",
    ")\n",
    "fig.show()"
   ]
  },
  {
   "cell_type": "code",
   "execution_count": 37,
   "metadata": {},
   "outputs": [
    {
     "data": {
      "text/plain": [
       "{'Workflow Pattern 7': '68.3% (459 out of 672)',\n",
       " 'Workflow Pattern 8': '31.7% (213 out of 672))'}"
      ]
     },
     "execution_count": 37,
     "metadata": {},
     "output_type": "execute_result"
    }
   ],
   "source": [
    "df = pd.read_csv(path_meta / 'leaderboard_processed.csv')\n",
    "df = df[df['Platforms'] == \"['Papers With Code']\"]\n",
    "\n",
    "total = 0\n",
    "evalai = 0\n",
    "huggingface = 0\n",
    "paperswithcode = 0\n",
    "\n",
    "for root, dirs, files in os.walk(path_data):\n",
    "    for file in files:\n",
    "        if file.startswith('pwc') and file.endswith(\".json\"):\n",
    "            with open(os.path.join(root, file), 'r') as file:\n",
    "                total += 1\n",
    "                for external in json.load(file):\n",
    "                    if type(external['external_source_url']) != str:\n",
    "                        paperswithcode += 1\n",
    "                        break\n",
    "                    elif 'eval.ai' in external['external_source_url']:\n",
    "                        evalai += 1 \n",
    "                        break\n",
    "                    elif 'huggingface.co' in external['external_source_url']:  \n",
    "                        huggingface += 1\n",
    "                        break\n",
    "                    \n",
    "pwc_workflow_pattern_mapping = {\n",
    "    'Workflow Pattern 7': f'{round(paperswithcode/total*100, 2)}% ({paperswithcode} out of {total})',\n",
    "    'Workflow Pattern 8': f'{round((huggingface + evalai)/total*100, 2)}% ({huggingface + evalai} out of {total}))'\n",
    "}\n",
    "pwc_workflow_pattern_mapping"
   ]
  },
  {
   "cell_type": "code",
   "execution_count": 38,
   "metadata": {},
   "outputs": [
    {
     "name": "stdout",
     "output_type": "stream",
     "text": [
      "99.31% (431 out of 434) leaderboard systems have documentation.\n",
      "99.77% (433 out of 434) leaderboard systems have at least one type of contact information.\n",
      "99.31% (431 out of 434) leaderboard systems have at least one evaluation dataset.\n",
      "52.24% (128 out of 245) non-pwc leaderboard systems provide at least one submission channel.\n",
      "98.78% (242 out of 245) non-pwc leaderboard systems provide evaluation harness.\n",
      "95.1% (233 out of 245) non-pwc leaderboard systems provide pull request channels.\n",
      "95.1% (233 out of 245) non-pwc leaderboard systems provide discussion forums.\n"
     ]
    }
   ],
   "source": [
    "df = pd.read_csv(path_meta / 'leaderboard_processed.csv')\n",
    "df['Evaluation workflows (non-pwc)'] = df['Evaluation workflows (non-pwc)'].apply(ast.literal_eval)\n",
    "print(f\"{round((len(df)-len(leaderboard_without_documentation))/(len(df))*100, 2)}% ({len(df)-len(leaderboard_without_documentation)} out of {len(df)}) leaderboard systems have documentation.\")\n",
    "print(f\"{round((len(df)-len(leaderboard_without_contacts))/(len(df))*100, 2)}% ({len(df)-len(leaderboard_without_contacts)} out of {len(df)}) leaderboard systems have at least one type of contact information.\")\n",
    "print(f\"{round((len(df)-len(leaderboard_without_evaluation_datasets))/(len(df))*100, 2)}% ({len(df)-len(leaderboard_without_evaluation_datasets)} out of {len(df)}) leaderboard systems have at least one evaluation dataset.\")\n",
    "df = df[df['Platforms'] != \"['Papers With Code']\"]\n",
    "df_submission = keep_rows_by_list_column(df, 'Evaluation workflows (non-pwc)', workflow_patterns_with_submission)\n",
    "print(f\"{round(len(df_submission)/(len(df))*100, 2)}% ({len(df_submission)} out of {len(df)}) non-pwc leaderboard systems provide at least one submission channel.\")\n",
    "print(f\"{round((len(df)-len(leaderboard_without_evaluation_harness))/(len(df))*100, 2)}% ({len(df)-len(leaderboard_without_evaluation_harness)} out of {len(df)}) non-pwc leaderboard systems provide evaluation harness.\")\n",
    "print(f\"{round((len(df)-len(leaderboard_without_pull_requests))/(len(df))*100, 2)}% ({len(df)-len(leaderboard_without_pull_requests)} out of {len(df)}) non-pwc leaderboard systems provide pull request channels.\")\n",
    "print(f\"{round((len(df)-len(leaderboard_without_pull_requests))/(len(df))*100, 2)}% ({len(df)-len(leaderboard_without_pull_requests)} out of {len(df)}) non-pwc leaderboard systems provide discussion forums.\")"
   ]
  },
  {
   "cell_type": "code",
   "execution_count": 44,
   "metadata": {},
   "outputs": [
    {
     "name": "stdout",
     "output_type": "stream",
     "text": [
      "1.15% (5 out of 434) leaderboard systems have empty leaderboards.\n"
     ]
    },
    {
     "data": {
      "text/html": [
       "<div>\n",
       "<style scoped>\n",
       "    .dataframe tbody tr th:only-of-type {\n",
       "        vertical-align: middle;\n",
       "    }\n",
       "\n",
       "    .dataframe tbody tr th {\n",
       "        vertical-align: top;\n",
       "    }\n",
       "\n",
       "    .dataframe thead th {\n",
       "        text-align: right;\n",
       "    }\n",
       "</style>\n",
       "<table border=\"1\" class=\"dataframe\">\n",
       "  <thead>\n",
       "    <tr style=\"text-align: right;\">\n",
       "      <th></th>\n",
       "      <th>#Empty leaderboards (non-pwc)</th>\n",
       "      <th>Frequency</th>\n",
       "    </tr>\n",
       "  </thead>\n",
       "  <tbody>\n",
       "    <tr>\n",
       "      <th>0</th>\n",
       "      <td>2</td>\n",
       "      <td>2</td>\n",
       "    </tr>\n",
       "    <tr>\n",
       "      <th>1</th>\n",
       "      <td>Unknown</td>\n",
       "      <td>2</td>\n",
       "    </tr>\n",
       "    <tr>\n",
       "      <th>2</th>\n",
       "      <td>25</td>\n",
       "      <td>1</td>\n",
       "    </tr>\n",
       "  </tbody>\n",
       "</table>\n",
       "</div>"
      ],
      "text/plain": [
       "  #Empty leaderboards (non-pwc)  Frequency\n",
       "0                             2          2\n",
       "1                       Unknown          2\n",
       "2                            25          1"
      ]
     },
     "execution_count": 44,
     "metadata": {},
     "output_type": "execute_result"
    }
   ],
   "source": [
    "df = pd.read_csv(path_meta / 'leaderboard_processed.csv')\n",
    "print(f\"{round(len(df[df['#Empty leaderboards (non-pwc)'].notna()])/len(df)*100,2)}% ({len(df[df['#Empty leaderboards (non-pwc)'].notna()])} out of {len(df)}) leaderboard systems have empty leaderboards.\")\n",
    "df['#Empty leaderboards (non-pwc)'].value_counts().reset_index(name='Frequency')"
   ]
  },
  {
   "cell_type": "code",
   "execution_count": 39,
   "metadata": {},
   "outputs": [],
   "source": [
    "# df = pd.read_csv(path_meta / 'leaderboard_processed.csv')\n",
    "# df = df[df['Platforms'] != \"['Papers With Code']\"]\n",
    "# print(f'There are {len(df)} non-pwc leaderboard systems.')\n",
    "\n",
    "# df['Evaluation workflows (non-pwc)'] = df['Evaluation workflows (non-pwc)'].apply(ast.literal_eval)\n",
    "# df['Submission channels (non-pwc)'] = df['Submission channels (non-pwc)'].apply(ast.literal_eval)\n",
    "# df_submission = df[df['Submission channels (non-pwc)'].map(len) > 0]\n",
    "# print(f\"{round(len(df_submission)/len(df)*100,2)}% ({len(df_submission)} out of {len(df)}) leaderboards provide at least one submission & collection guideline for new evaluation records.\")\n",
    "\n",
    "# df_split = df_submission.explode('Evaluation workflows (non-pwc)').explode('Submission channels (non-pwc)')\n",
    "# df_split = df_split.groupby(['Evaluation workflows (non-pwc)', 'Submission channels (non-pwc)']).size().reset_index(name='Frequency')\n",
    "# df_split.sort_values(by=['Evaluation workflows (non-pwc)', 'Submission channels (non-pwc)'], inplace=True)\n",
    "\n",
    "# df_split['Evaluation workflows (non-pwc)'] = df_split['Evaluation workflows (non-pwc)'].apply(lambda x: f'Pattern {x}' if x != 'Unknown' else x)\n",
    "# df_avenue = df_split.groupby('Submission channels (non-pwc)').sum().reset_index()\n",
    "# df_avenue.sort_values(by='Frequency', ascending=False, inplace=True)\n",
    "# df_avenue['Weight'] = 1\n",
    "\n",
    "# statistics = {\n",
    "#     'Distribution': 'Leaderboard Systems across Submission & Collection Avenues',\n",
    "#     'Mean': np.mean(df_avenue['Frequency']),\n",
    "#     'Median': np.median(df_avenue['Frequency']),\n",
    "#     'IQR': df_avenue['Frequency'].quantile(0.75) - df_avenue['Frequency'].quantile(0.25),\n",
    "#     'Gini Coefficient': ineqpy.inequality.gini(data=df_avenue, income='Frequency', weights='Weight'),\n",
    "# }\n",
    "# df_statistics = pd.read_csv(path_meta / 'leaderboard_statistics.csv')\n",
    "# df_statistics = pd.concat([df_statistics, pd.DataFrame([statistics])], ignore_index=True)\n",
    "# df_statistics.drop_duplicates(subset=['Distribution'], keep='last', inplace=True)\n",
    "# df_statistics.sort_values(by='Distribution', inplace=True)\n",
    "# df_statistics.to_csv(path_meta / 'leaderboard_statistics.csv', index=False)\n",
    "\n",
    "# fig = px.bar(\n",
    "#     x=df_avenue['Submission channels (non-pwc)'], \n",
    "#     y=df_avenue['Frequency'],\n",
    "#     text_auto=True,\n",
    "#     labels={'x': 'Submission channels (non-pwc)', 'y': 'Leaderboard Number'},\n",
    "#     title='Number of Leaderboard Systems across Submission & Collection Avenues (non-pwc)'\n",
    "# )\n",
    "# fig.show()\n",
    "\n",
    "# df_split = df_split[df_split['Evaluation workflows (non-pwc)'] != 'Unknown']\n",
    "# for name, group in df_split.groupby('Evaluation workflows (non-pwc)'):\n",
    "#     group = group.sort_values(by='Frequency', ascending=False)\n",
    "#     print(f\"{group['Submission channels (non-pwc)'].iloc[0]} is the most prevalent avenue in evaluation workflow {name}, accounting for {round(group['Frequency'].iloc[0]/group['Frequency'].sum()*100,2)}% ({group['Frequency'].iloc[0]} out of {group['Frequency'].sum()}) leaderboard systems.\")\n",
    "\n",
    "# # Plotting\n",
    "# plt.figure(figsize=(15, 8))  # Adjust figure size as needed\n",
    "# ax = sns.barplot(\n",
    "#     x='Evaluation workflows (non-pwc)', \n",
    "#     y='Frequency', \n",
    "#     hue='Submission channels (non-pwc)',  # This separates the bars within each group by platform\n",
    "#     data=df_split, \n",
    "#     palette='Set2',  # Choose a palette that makes the bars distinct\n",
    "#     dodge=True  # Adjust this to control the gap between bars of different platforms within the same group\n",
    "# )\n",
    "\n",
    "# # Setting the title and labels with enlarged fonts\n",
    "# ax.set_xlabel('Workflow Pattern', fontsize=font_size)  # Enlarge x-axis label\n",
    "# ax.set_ylabel('Number of Leaderboards', fontsize=font_size)  # Enlarge y-axis label\n",
    "# plt.xticks(rotation=45, ha='right')  # Rotate x-axis labels for better readability\n",
    "\n",
    "# # Enlarge axis ticks font size\n",
    "# ax.tick_params(axis='both', which='major', labelsize=font_size)\n",
    "\n",
    "# # Adding annotations on top of each bar\n",
    "# for p in ax.patches:\n",
    "#     if p.get_height():\n",
    "#         ax.annotate(format(p.get_height(), '.0f'),  # Format the number presentationed\n",
    "#                 (p.get_x() + p.get_width() / 2., p.get_height()),  # Position\n",
    "#                 ha = 'center', va = 'center', \n",
    "#                 xytext = (0, 10),  # Distance from the top of the bar\n",
    "#                 textcoords = 'offset points', fontsize=font_size)\n",
    "\n",
    "# # Adjust the legend\n",
    "# leg = ax.legend(title='Submisstion Avenue')\n",
    "# leg.set_title('Platform', prop={'size':font_size})  # Set the title font size\n",
    "# for text in leg.get_texts():  # Set the font size for each legend text\n",
    "#     text.set_fontsize(font_size)\n",
    "# plt.tight_layout()  # Adjust the plot to ensure everything fits without overlapping\n",
    "# # Save the plot to a PDF file\n",
    "# plt.savefig(path_meta / 'workflow-pattern-distribution.pdf', bbox_inches='tight')\n",
    "# plt.show()"
   ]
  },
  {
   "cell_type": "code",
   "execution_count": 40,
   "metadata": {},
   "outputs": [],
   "source": [
    "# df = pd.read_csv(path_meta / 'leaderboard_processed.csv')\n",
    "# df = df[~df['Platforms'].str.contains('GitHub|Papers With Code')]\n",
    "# df['Feedback venues (hf+ip)'] = df['Feedback venues (hf+ip)'].apply(ast.literal_eval)\n",
    "\n",
    "# df_hf = df[df['Platforms'].str.contains('Hugging Face')]\n",
    "# print(f'There are {len(df_hf)} leaderboards hosted on Hugging Face.')\n",
    "# df_hf = df_hf.explode('Feedback venues (hf+ip)')['Feedback venues (hf+ip)'].value_counts().reset_index(name='Frequency')\n",
    "# print(df_hf)\n",
    "\n",
    "# df_ip = df[df['Platforms'].str.contains('independent platform')]\n",
    "# print(f'There are {len(df_ip)} leaderboards hosted on independent platforms.')\n",
    "# df_ip = df_ip.explode('Feedback venues (hf+ip)')['Feedback venues (hf+ip)'].value_counts().reset_index(name='Frequency')\n",
    "# print(df_ip)"
   ]
  },
  {
   "cell_type": "code",
   "execution_count": 41,
   "metadata": {},
   "outputs": [],
   "source": [
    "# df = pd.read_csv(path_meta / 'leaderboard_processed.csv')\n",
    "# df = df[df['Platforms'] != \"['Papers With Code']\"]\n",
    "# df_structure = df[df['#Organization strategy'] > 0]\n",
    "# print(f'There are {len(df_structure)} non-pwc leaderboards that have adopted organization strategies, accounting for {round(len(df_structure)/len(df)*100,2)}% of the total.')\n",
    "# df_structure['Organization strategies'] = df_structure['Organization strategies'].apply(ast.literal_eval)\n",
    "# df_split = df_structure.explode('Organization strategies')\n",
    "\n",
    "# df_number = pd.DataFrame()\n",
    "# for index, (name, group) in enumerate(df_split.groupby('Organization strategies')):\n",
    "#     entry = {\n",
    "#         'Index': index, # Temporarily store the original index\n",
    "#         'Organization strategy': name,\n",
    "#         'Overarching category': leaderboard_organization_tactics_mapping_inverse[name],\n",
    "#         'Prevalence (%)': len(group)/len(df_structure)*100,\n",
    "#     }\n",
    "#     df_number = pd.concat([df_number, pd.DataFrame([entry])], ignore_index=True)\n",
    "\n",
    "# df_number = df_number.sort_values(by=['Organization strategy']).reset_index(drop=True)\n",
    "# df_number['Index'] = df_number.index + 1\n",
    "# df_number['Index'] = df_number['Index'].apply(lambda x: f'$C_{{0{x}}}$' if x < 10 else f'$C_{{{x}}}$')\n",
    "# print(df_number.to_latex(float_format=\"%.2f\", index=False))\n",
    "\n",
    "# df_number = df_number.groupby('Overarching category')['Prevalence (%)'].sum().reset_index()\n",
    "# df_number = df_number.sort_values(by=['Prevalence (%)'], ascending=False)\n",
    "# fig = px.bar(\n",
    "#     title='Distribution of Leaderboard Systems across Overarching Organization Strategies',\n",
    "#     x=df_number['Overarching category'],\n",
    "#     y=df_number['Prevalence (%)'],\n",
    "#     text_auto=True,\n",
    "#     labels={'x': 'Overarching category', 'y': 'Leaderboard Number'},\n",
    "# )\n",
    "# fig.show()"
   ]
  },
  {
   "cell_type": "code",
   "execution_count": 42,
   "metadata": {},
   "outputs": [
    {
     "name": "stderr",
     "output_type": "stream",
     "text": [
      "C:\\Users\\zhimi\\AppData\\Local\\Temp\\ipykernel_8620\\4002361276.py:2: FutureWarning:\n",
      "\n",
      "Setting an item of incompatible dtype is deprecated and will raise an error in a future version of pandas. Value '$\\times$' has dtype incompatible with float64, please explicitly cast to a compatible dtype first.\n",
      "\n"
     ]
    },
    {
     "name": "stdout",
     "output_type": "stream",
     "text": [
      "\\begin{tabular}{lllll}\n",
      "\\toprule\n",
      "Distribution & Mean & Median & IQR & Gini Coefficient \\\\\n",
      "\\midrule\n",
      "Evaluation Metrics across Leaderboard Systems & 3.20 & 2.0 & 3 & $\\times$ \\\\\n",
      "Evaluation Records across Leaderboard Systems & 182.82 & 23.0 & 49 & 0.872 \\\\\n",
      "Leaderboard Systems across Downloadable Formats & 7.38 & 2.0 & 2 & 0.792 \\\\\n",
      "Leaderboard Systems across Evaluation Metrics & 2.27 & 1.0 & 1 & 0.501 \\\\\n",
      "Leaderboard Systems across Evaluation Workflows & 25.00 & 6.0 & 34 & 0.725 \\\\\n",
      "Leaderboard Systems across Organization Strategies & 18.77 & 5.0 & 8 & 0.796 \\\\\n",
      "Leaderboard Systems across Participating Models & 2.03 & 1.0 & 2 & 0.337 \\\\\n",
      "Leaderboard Systems across Platforms & 121.75 & 105.5 & 54 & 0.250 \\\\\n",
      "Leaderboard Systems across Presentation Formats & 57.77 & 5.0 & 30 & 0.835 \\\\\n",
      "Leaderboard Systems across Publication Venues & 3.87 & 1.0 & 1 & 0.645 \\\\\n",
      "Leaderboard Systems across Release Organizations & 3.43 & 1.0 & 1 & 0.626 \\\\\n",
      "Leaderboard Systems across Submission & Collection Avenues & 13.42 & 4.0 & 9 & 0.717 \\\\\n",
      "Leaderboard Systems across Supported Benchmarks & 1.60 & 1.0 & 1 & 0.314 \\\\\n",
      "Leaderboard Systems across Supported Languages & 5.37 & 2.0 & 2 & 0.706 \\\\\n",
      "Leaderboard Systems across Supported Modalities & 85.57 & 34.0 & 48 & 0.792 \\\\\n",
      "Leaderboards across Leaderboard Systems & 6.55 & 1.0 & 1 & 0.792 \\\\\n",
      "Organization Strategies across Leaderboard Systems & 1.35 & 1.0 & 0 & $\\times$ \\\\\n",
      "Participating Models across Leaderboard Systems & 74.37 & 17.0 & 27 & $\\times$ \\\\\n",
      "Platforms across Leaderboard Systems & 1.12 & 1.0 & 0 & $\\times$ \\\\\n",
      "Presentation Formats across Leaderboard Systems & 1.68 & 2.0 & 1 & $\\times$ \\\\\n",
      "Release Organizations across Leaderboard Systems & 2.53 & 2.0 & 2 & $\\times$ \\\\\n",
      "Supported Benchmarks across Leaderboard Systems & 4.01 & 1.0 & 0 & $\\times$ \\\\\n",
      "Supported Languages across Leaderboard Systems & 1.96 & 1.0 & 0 & $\\times$ \\\\\n",
      "Supported Modalities across Leaderboard Systems & 1.43 & 1.0 & 1 & $\\times$ \\\\\n",
      "\\bottomrule\n",
      "\\end{tabular}\n",
      "\n"
     ]
    }
   ],
   "source": [
    "df = pd.read_csv(path_meta / 'leaderboard_statistics.csv')\n",
    "df.fillna('$\\\\times$', inplace=True)\n",
    "df['Mean'] = df['Mean'].map('{:.2f}'.format)\n",
    "df['Median'] = df['Median'].map('{:.1f}'.format)\n",
    "df['IQR'] = df['IQR'].map('{:.0f}'.format)\n",
    "df['Gini Coefficient'] = df['Gini Coefficient'].map(lambda x: '{:.3f}'.format(x) if isinstance(x,float) else x)\n",
    "print(df.to_latex(index=False))\n"
   ]
  }
 ],
 "metadata": {
  "kernelspec": {
   "display_name": ".venv",
   "language": "python",
   "name": "python3"
  },
  "language_info": {
   "codemirror_mode": {
    "name": "ipython",
    "version": 3
   },
   "file_extension": ".py",
   "mimetype": "text/x-python",
   "name": "python",
   "nbconvert_exporter": "python",
   "pygments_lexer": "ipython3",
   "version": "3.10.10"
  }
 },
 "nbformat": 4,
 "nbformat_minor": 2
}
