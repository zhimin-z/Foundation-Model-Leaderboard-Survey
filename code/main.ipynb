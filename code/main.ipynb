{
 "cells": [
  {
   "cell_type": "code",
   "execution_count": 65,
   "metadata": {},
   "outputs": [],
   "source": [
    "from gradio_client import Client\n",
    "from pathlib import Path\n",
    "import json\n",
    "import pandas as pd"
   ]
  },
  {
   "cell_type": "code",
   "execution_count": 107,
   "metadata": {},
   "outputs": [],
   "source": [
    "path_data = Path(\"../data\")"
   ]
  },
  {
   "cell_type": "code",
   "execution_count": null,
   "metadata": {},
   "outputs": [],
   "source": [
    "client = Client(\"https://felixz-open-llm-leaderboard.hf.space/\")\n",
    "json_data = client.predict(\"\",\"\", api_name='/predict')\n",
    "\n",
    "with open(json_data, 'r') as file:\n",
    "    file_data = file.read()\n",
    "    data = json.loads(file_data)\n",
    "    df = pd.DataFrame(data['data'], columns=data['headers'])\n",
    "    df.drop(columns=['Model'], inplace=True)\n",
    "    df.to_json(path_data / 'HF-open-llm-leaderboard_20231114.json', orient='records', indent=4)"
   ]
  },
  {
   "cell_type": "code",
   "execution_count": 113,
   "metadata": {},
   "outputs": [
    {
     "ename": "UnicodeDecodeError",
     "evalue": "'utf-8' codec can't decode byte 0xff in position 554: invalid start byte",
     "output_type": "error",
     "traceback": [
      "\u001b[0;31m---------------------------------------------------------------------------\u001b[0m",
      "\u001b[0;31mUnicodeDecodeError\u001b[0m                        Traceback (most recent call last)",
      "\u001b[1;32m/Users/jimmy/Documents/GitHub/LLM-Leaderboard-Integration/code/main.ipynb Cell 4\u001b[0m line \u001b[0;36m1\n\u001b[1;32m     <a href='vscode-notebook-cell:/Users/jimmy/Documents/GitHub/LLM-Leaderboard-Integration/code/main.ipynb#X14sZmlsZQ%3D%3D?line=9'>10</a>\u001b[0m json_files \u001b[39m=\u001b[39m [os\u001b[39m.\u001b[39mpath\u001b[39m.\u001b[39mjoin(path_data, file) \u001b[39mfor\u001b[39;00m file \u001b[39min\u001b[39;00m os\u001b[39m.\u001b[39mlistdir(path_data)]\n\u001b[1;32m     <a href='vscode-notebook-cell:/Users/jimmy/Documents/GitHub/LLM-Leaderboard-Integration/code/main.ipynb#X14sZmlsZQ%3D%3D?line=11'>12</a>\u001b[0m \u001b[39m# Read each file and store in a list of DataFrames\u001b[39;00m\n\u001b[0;32m---> <a href='vscode-notebook-cell:/Users/jimmy/Documents/GitHub/LLM-Leaderboard-Integration/code/main.ipynb#X14sZmlsZQ%3D%3D?line=12'>13</a>\u001b[0m dataframes \u001b[39m=\u001b[39m [read_json_file(file) \u001b[39mfor\u001b[39;49;00m file \u001b[39min\u001b[39;49;00m json_files]\n\u001b[1;32m     <a href='vscode-notebook-cell:/Users/jimmy/Documents/GitHub/LLM-Leaderboard-Integration/code/main.ipynb#X14sZmlsZQ%3D%3D?line=14'>15</a>\u001b[0m \u001b[39m# Extract and count models in each DataFrame\u001b[39;00m\n\u001b[1;32m     <a href='vscode-notebook-cell:/Users/jimmy/Documents/GitHub/LLM-Leaderboard-Integration/code/main.ipynb#X14sZmlsZQ%3D%3D?line=15'>16</a>\u001b[0m model_counts \u001b[39m=\u001b[39m []\n",
      "\u001b[1;32m/Users/jimmy/Documents/GitHub/LLM-Leaderboard-Integration/code/main.ipynb Cell 4\u001b[0m line \u001b[0;36m1\n\u001b[1;32m     <a href='vscode-notebook-cell:/Users/jimmy/Documents/GitHub/LLM-Leaderboard-Integration/code/main.ipynb#X14sZmlsZQ%3D%3D?line=9'>10</a>\u001b[0m json_files \u001b[39m=\u001b[39m [os\u001b[39m.\u001b[39mpath\u001b[39m.\u001b[39mjoin(path_data, file) \u001b[39mfor\u001b[39;00m file \u001b[39min\u001b[39;00m os\u001b[39m.\u001b[39mlistdir(path_data)]\n\u001b[1;32m     <a href='vscode-notebook-cell:/Users/jimmy/Documents/GitHub/LLM-Leaderboard-Integration/code/main.ipynb#X14sZmlsZQ%3D%3D?line=11'>12</a>\u001b[0m \u001b[39m# Read each file and store in a list of DataFrames\u001b[39;00m\n\u001b[0;32m---> <a href='vscode-notebook-cell:/Users/jimmy/Documents/GitHub/LLM-Leaderboard-Integration/code/main.ipynb#X14sZmlsZQ%3D%3D?line=12'>13</a>\u001b[0m dataframes \u001b[39m=\u001b[39m [read_json_file(file) \u001b[39mfor\u001b[39;00m file \u001b[39min\u001b[39;00m json_files]\n\u001b[1;32m     <a href='vscode-notebook-cell:/Users/jimmy/Documents/GitHub/LLM-Leaderboard-Integration/code/main.ipynb#X14sZmlsZQ%3D%3D?line=14'>15</a>\u001b[0m \u001b[39m# Extract and count models in each DataFrame\u001b[39;00m\n\u001b[1;32m     <a href='vscode-notebook-cell:/Users/jimmy/Documents/GitHub/LLM-Leaderboard-Integration/code/main.ipynb#X14sZmlsZQ%3D%3D?line=15'>16</a>\u001b[0m model_counts \u001b[39m=\u001b[39m []\n",
      "\u001b[1;32m/Users/jimmy/Documents/GitHub/LLM-Leaderboard-Integration/code/main.ipynb Cell 4\u001b[0m line \u001b[0;36m7\n\u001b[1;32m      <a href='vscode-notebook-cell:/Users/jimmy/Documents/GitHub/LLM-Leaderboard-Integration/code/main.ipynb#X14sZmlsZQ%3D%3D?line=5'>6</a>\u001b[0m \u001b[39mdef\u001b[39;00m \u001b[39mread_json_file\u001b[39m(file_path):\n\u001b[0;32m----> <a href='vscode-notebook-cell:/Users/jimmy/Documents/GitHub/LLM-Leaderboard-Integration/code/main.ipynb#X14sZmlsZQ%3D%3D?line=6'>7</a>\u001b[0m     \u001b[39mreturn\u001b[39;00m pd\u001b[39m.\u001b[39;49mread_json(file_path)\n",
      "File \u001b[0;32m~/Documents/GitHub/LLM-Leaderboard-Integration/.venv/lib/python3.11/site-packages/pandas/io/json/_json.py:780\u001b[0m, in \u001b[0;36mread_json\u001b[0;34m(path_or_buf, orient, typ, dtype, convert_axes, convert_dates, keep_default_dates, precise_float, date_unit, encoding, encoding_errors, lines, chunksize, compression, nrows, storage_options, dtype_backend, engine)\u001b[0m\n\u001b[1;32m    777\u001b[0m \u001b[39mif\u001b[39;00m convert_axes \u001b[39mis\u001b[39;00m \u001b[39mNone\u001b[39;00m \u001b[39mand\u001b[39;00m orient \u001b[39m!=\u001b[39m \u001b[39m\"\u001b[39m\u001b[39mtable\u001b[39m\u001b[39m\"\u001b[39m:\n\u001b[1;32m    778\u001b[0m     convert_axes \u001b[39m=\u001b[39m \u001b[39mTrue\u001b[39;00m\n\u001b[0;32m--> 780\u001b[0m json_reader \u001b[39m=\u001b[39m JsonReader(\n\u001b[1;32m    781\u001b[0m     path_or_buf,\n\u001b[1;32m    782\u001b[0m     orient\u001b[39m=\u001b[39;49morient,\n\u001b[1;32m    783\u001b[0m     typ\u001b[39m=\u001b[39;49mtyp,\n\u001b[1;32m    784\u001b[0m     dtype\u001b[39m=\u001b[39;49mdtype,\n\u001b[1;32m    785\u001b[0m     convert_axes\u001b[39m=\u001b[39;49mconvert_axes,\n\u001b[1;32m    786\u001b[0m     convert_dates\u001b[39m=\u001b[39;49mconvert_dates,\n\u001b[1;32m    787\u001b[0m     keep_default_dates\u001b[39m=\u001b[39;49mkeep_default_dates,\n\u001b[1;32m    788\u001b[0m     precise_float\u001b[39m=\u001b[39;49mprecise_float,\n\u001b[1;32m    789\u001b[0m     date_unit\u001b[39m=\u001b[39;49mdate_unit,\n\u001b[1;32m    790\u001b[0m     encoding\u001b[39m=\u001b[39;49mencoding,\n\u001b[1;32m    791\u001b[0m     lines\u001b[39m=\u001b[39;49mlines,\n\u001b[1;32m    792\u001b[0m     chunksize\u001b[39m=\u001b[39;49mchunksize,\n\u001b[1;32m    793\u001b[0m     compression\u001b[39m=\u001b[39;49mcompression,\n\u001b[1;32m    794\u001b[0m     nrows\u001b[39m=\u001b[39;49mnrows,\n\u001b[1;32m    795\u001b[0m     storage_options\u001b[39m=\u001b[39;49mstorage_options,\n\u001b[1;32m    796\u001b[0m     encoding_errors\u001b[39m=\u001b[39;49mencoding_errors,\n\u001b[1;32m    797\u001b[0m     dtype_backend\u001b[39m=\u001b[39;49mdtype_backend,\n\u001b[1;32m    798\u001b[0m     engine\u001b[39m=\u001b[39;49mengine,\n\u001b[1;32m    799\u001b[0m )\n\u001b[1;32m    801\u001b[0m \u001b[39mif\u001b[39;00m chunksize:\n\u001b[1;32m    802\u001b[0m     \u001b[39mreturn\u001b[39;00m json_reader\n",
      "File \u001b[0;32m~/Documents/GitHub/LLM-Leaderboard-Integration/.venv/lib/python3.11/site-packages/pandas/io/json/_json.py:894\u001b[0m, in \u001b[0;36mJsonReader.__init__\u001b[0;34m(self, filepath_or_buffer, orient, typ, dtype, convert_axes, convert_dates, keep_default_dates, precise_float, date_unit, encoding, lines, chunksize, compression, nrows, storage_options, encoding_errors, dtype_backend, engine)\u001b[0m\n\u001b[1;32m    892\u001b[0m \u001b[39melif\u001b[39;00m \u001b[39mself\u001b[39m\u001b[39m.\u001b[39mengine \u001b[39m==\u001b[39m \u001b[39m\"\u001b[39m\u001b[39mujson\u001b[39m\u001b[39m\"\u001b[39m:\n\u001b[1;32m    893\u001b[0m     data \u001b[39m=\u001b[39m \u001b[39mself\u001b[39m\u001b[39m.\u001b[39m_get_data_from_filepath(filepath_or_buffer)\n\u001b[0;32m--> 894\u001b[0m     \u001b[39mself\u001b[39m\u001b[39m.\u001b[39mdata \u001b[39m=\u001b[39m \u001b[39mself\u001b[39;49m\u001b[39m.\u001b[39;49m_preprocess_data(data)\n",
      "File \u001b[0;32m~/Documents/GitHub/LLM-Leaderboard-Integration/.venv/lib/python3.11/site-packages/pandas/io/json/_json.py:906\u001b[0m, in \u001b[0;36mJsonReader._preprocess_data\u001b[0;34m(self, data)\u001b[0m\n\u001b[1;32m    904\u001b[0m \u001b[39mif\u001b[39;00m \u001b[39mhasattr\u001b[39m(data, \u001b[39m\"\u001b[39m\u001b[39mread\u001b[39m\u001b[39m\"\u001b[39m) \u001b[39mand\u001b[39;00m \u001b[39mnot\u001b[39;00m (\u001b[39mself\u001b[39m\u001b[39m.\u001b[39mchunksize \u001b[39mor\u001b[39;00m \u001b[39mself\u001b[39m\u001b[39m.\u001b[39mnrows):\n\u001b[1;32m    905\u001b[0m     \u001b[39mwith\u001b[39;00m \u001b[39mself\u001b[39m:\n\u001b[0;32m--> 906\u001b[0m         data \u001b[39m=\u001b[39m data\u001b[39m.\u001b[39mread()\n\u001b[1;32m    907\u001b[0m \u001b[39mif\u001b[39;00m \u001b[39mnot\u001b[39;00m \u001b[39mhasattr\u001b[39m(data, \u001b[39m\"\u001b[39m\u001b[39mread\u001b[39m\u001b[39m\"\u001b[39m) \u001b[39mand\u001b[39;00m (\u001b[39mself\u001b[39m\u001b[39m.\u001b[39mchunksize \u001b[39mor\u001b[39;00m \u001b[39mself\u001b[39m\u001b[39m.\u001b[39mnrows):\n\u001b[1;32m    908\u001b[0m     data \u001b[39m=\u001b[39m StringIO(data)\n",
      "File \u001b[0;32m<frozen codecs>:322\u001b[0m, in \u001b[0;36mdecode\u001b[0;34m(self, input, final)\u001b[0m\n",
      "\u001b[0;31mUnicodeDecodeError\u001b[0m: 'utf-8' codec can't decode byte 0xff in position 554: invalid start byte"
     ]
    }
   ],
   "source": [
    "import os\n",
    "import pandas as pd\n",
    "import plotly.express as px\n",
    "\n",
    "# Function to read a JSON file into a DataFrame\n",
    "def read_json_file(file_path):\n",
    "    return pd.read_json(file_path)\n",
    "\n",
    "# List of JSON file paths (replace with your file paths)\n",
    "json_files = [os.path.join(path_data, file) for file in os.listdir(path_data)]\n",
    "\n",
    "# Read each file and store in a list of DataFrames\n",
    "dataframes = [read_json_file(file) for file in json_files]\n",
    "\n",
    "# Extract and count models in each DataFrame\n",
    "model_counts = []\n",
    "for i, df in enumerate(dataframes):\n",
    "    count = df['model'].value_counts().reset_index()\n",
    "    count.columns = ['model', 'count']\n",
    "    count['file'] = f'file_{i+1}'  # Naming files as file_1, file_2, etc.\n",
    "    model_counts.append(count)\n",
    "\n",
    "# Combine all counts into a single DataFrame\n",
    "combined_df = pd.concat(model_counts)\n",
    "\n",
    "# Create a bubble chart\n",
    "fig = px.scatter(combined_df, x=\"model\", y=\"file\", size=\"count\", \n",
    "                 size_max=60, title=\"Model Coverage Across Different Files\")\n",
    "\n",
    "# Show the plot\n",
    "fig.show()\n"
   ]
  },
  {
   "cell_type": "code",
   "execution_count": 115,
   "metadata": {},
   "outputs": [
    {
     "name": "stdout",
     "output_type": "stream",
     "text": [
      "../data/AlpacaEval-leaderboard-claude-20231109.json\n",
      "../data/Opencompass-llm-leaderboard-english_benchmark-language-20231114.json\n",
      "../data/HF-SEED-Bench-Leaderboard-20231110.json\n",
      "../data/LucyEval-leaderboard-20230814.json\n",
      "../data/Opencompass-llm-leaderboard-chinese_benchmark-overall-20231114.json\n",
      "../data/HF-chatbot-arena-leaderboard-20231108.json\n",
      "../data/Opencompress-botchat-20231102.json\n",
      "../data/.DS_Store\n"
     ]
    },
    {
     "ename": "UnicodeDecodeError",
     "evalue": "'utf-8' codec can't decode byte 0xff in position 554: invalid start byte",
     "output_type": "error",
     "traceback": [
      "\u001b[0;31m---------------------------------------------------------------------------\u001b[0m",
      "\u001b[0;31mUnicodeDecodeError\u001b[0m                        Traceback (most recent call last)",
      "\u001b[1;32m/Users/jimmy/Documents/GitHub/LLM-Leaderboard-Integration/code/main.ipynb Cell 5\u001b[0m line \u001b[0;36m3\n\u001b[1;32m      <a href='vscode-notebook-cell:/Users/jimmy/Documents/GitHub/LLM-Leaderboard-Integration/code/main.ipynb#X16sZmlsZQ%3D%3D?line=0'>1</a>\u001b[0m \u001b[39mfor\u001b[39;00m file \u001b[39min\u001b[39;00m json_files:\n\u001b[1;32m      <a href='vscode-notebook-cell:/Users/jimmy/Documents/GitHub/LLM-Leaderboard-Integration/code/main.ipynb#X16sZmlsZQ%3D%3D?line=1'>2</a>\u001b[0m     \u001b[39mprint\u001b[39m(file)\n\u001b[0;32m----> <a href='vscode-notebook-cell:/Users/jimmy/Documents/GitHub/LLM-Leaderboard-Integration/code/main.ipynb#X16sZmlsZQ%3D%3D?line=2'>3</a>\u001b[0m     read_json_file(file)\n",
      "\u001b[1;32m/Users/jimmy/Documents/GitHub/LLM-Leaderboard-Integration/code/main.ipynb Cell 5\u001b[0m line \u001b[0;36m7\n\u001b[1;32m      <a href='vscode-notebook-cell:/Users/jimmy/Documents/GitHub/LLM-Leaderboard-Integration/code/main.ipynb#X16sZmlsZQ%3D%3D?line=5'>6</a>\u001b[0m \u001b[39mdef\u001b[39;00m \u001b[39mread_json_file\u001b[39m(file_path):\n\u001b[0;32m----> <a href='vscode-notebook-cell:/Users/jimmy/Documents/GitHub/LLM-Leaderboard-Integration/code/main.ipynb#X16sZmlsZQ%3D%3D?line=6'>7</a>\u001b[0m     \u001b[39mreturn\u001b[39;00m pd\u001b[39m.\u001b[39;49mread_json(file_path)\n",
      "File \u001b[0;32m~/Documents/GitHub/LLM-Leaderboard-Integration/.venv/lib/python3.11/site-packages/pandas/io/json/_json.py:780\u001b[0m, in \u001b[0;36mread_json\u001b[0;34m(path_or_buf, orient, typ, dtype, convert_axes, convert_dates, keep_default_dates, precise_float, date_unit, encoding, encoding_errors, lines, chunksize, compression, nrows, storage_options, dtype_backend, engine)\u001b[0m\n\u001b[1;32m    777\u001b[0m \u001b[39mif\u001b[39;00m convert_axes \u001b[39mis\u001b[39;00m \u001b[39mNone\u001b[39;00m \u001b[39mand\u001b[39;00m orient \u001b[39m!=\u001b[39m \u001b[39m\"\u001b[39m\u001b[39mtable\u001b[39m\u001b[39m\"\u001b[39m:\n\u001b[1;32m    778\u001b[0m     convert_axes \u001b[39m=\u001b[39m \u001b[39mTrue\u001b[39;00m\n\u001b[0;32m--> 780\u001b[0m json_reader \u001b[39m=\u001b[39m JsonReader(\n\u001b[1;32m    781\u001b[0m     path_or_buf,\n\u001b[1;32m    782\u001b[0m     orient\u001b[39m=\u001b[39;49morient,\n\u001b[1;32m    783\u001b[0m     typ\u001b[39m=\u001b[39;49mtyp,\n\u001b[1;32m    784\u001b[0m     dtype\u001b[39m=\u001b[39;49mdtype,\n\u001b[1;32m    785\u001b[0m     convert_axes\u001b[39m=\u001b[39;49mconvert_axes,\n\u001b[1;32m    786\u001b[0m     convert_dates\u001b[39m=\u001b[39;49mconvert_dates,\n\u001b[1;32m    787\u001b[0m     keep_default_dates\u001b[39m=\u001b[39;49mkeep_default_dates,\n\u001b[1;32m    788\u001b[0m     precise_float\u001b[39m=\u001b[39;49mprecise_float,\n\u001b[1;32m    789\u001b[0m     date_unit\u001b[39m=\u001b[39;49mdate_unit,\n\u001b[1;32m    790\u001b[0m     encoding\u001b[39m=\u001b[39;49mencoding,\n\u001b[1;32m    791\u001b[0m     lines\u001b[39m=\u001b[39;49mlines,\n\u001b[1;32m    792\u001b[0m     chunksize\u001b[39m=\u001b[39;49mchunksize,\n\u001b[1;32m    793\u001b[0m     compression\u001b[39m=\u001b[39;49mcompression,\n\u001b[1;32m    794\u001b[0m     nrows\u001b[39m=\u001b[39;49mnrows,\n\u001b[1;32m    795\u001b[0m     storage_options\u001b[39m=\u001b[39;49mstorage_options,\n\u001b[1;32m    796\u001b[0m     encoding_errors\u001b[39m=\u001b[39;49mencoding_errors,\n\u001b[1;32m    797\u001b[0m     dtype_backend\u001b[39m=\u001b[39;49mdtype_backend,\n\u001b[1;32m    798\u001b[0m     engine\u001b[39m=\u001b[39;49mengine,\n\u001b[1;32m    799\u001b[0m )\n\u001b[1;32m    801\u001b[0m \u001b[39mif\u001b[39;00m chunksize:\n\u001b[1;32m    802\u001b[0m     \u001b[39mreturn\u001b[39;00m json_reader\n",
      "File \u001b[0;32m~/Documents/GitHub/LLM-Leaderboard-Integration/.venv/lib/python3.11/site-packages/pandas/io/json/_json.py:894\u001b[0m, in \u001b[0;36mJsonReader.__init__\u001b[0;34m(self, filepath_or_buffer, orient, typ, dtype, convert_axes, convert_dates, keep_default_dates, precise_float, date_unit, encoding, lines, chunksize, compression, nrows, storage_options, encoding_errors, dtype_backend, engine)\u001b[0m\n\u001b[1;32m    892\u001b[0m \u001b[39melif\u001b[39;00m \u001b[39mself\u001b[39m\u001b[39m.\u001b[39mengine \u001b[39m==\u001b[39m \u001b[39m\"\u001b[39m\u001b[39mujson\u001b[39m\u001b[39m\"\u001b[39m:\n\u001b[1;32m    893\u001b[0m     data \u001b[39m=\u001b[39m \u001b[39mself\u001b[39m\u001b[39m.\u001b[39m_get_data_from_filepath(filepath_or_buffer)\n\u001b[0;32m--> 894\u001b[0m     \u001b[39mself\u001b[39m\u001b[39m.\u001b[39mdata \u001b[39m=\u001b[39m \u001b[39mself\u001b[39;49m\u001b[39m.\u001b[39;49m_preprocess_data(data)\n",
      "File \u001b[0;32m~/Documents/GitHub/LLM-Leaderboard-Integration/.venv/lib/python3.11/site-packages/pandas/io/json/_json.py:906\u001b[0m, in \u001b[0;36mJsonReader._preprocess_data\u001b[0;34m(self, data)\u001b[0m\n\u001b[1;32m    904\u001b[0m \u001b[39mif\u001b[39;00m \u001b[39mhasattr\u001b[39m(data, \u001b[39m\"\u001b[39m\u001b[39mread\u001b[39m\u001b[39m\"\u001b[39m) \u001b[39mand\u001b[39;00m \u001b[39mnot\u001b[39;00m (\u001b[39mself\u001b[39m\u001b[39m.\u001b[39mchunksize \u001b[39mor\u001b[39;00m \u001b[39mself\u001b[39m\u001b[39m.\u001b[39mnrows):\n\u001b[1;32m    905\u001b[0m     \u001b[39mwith\u001b[39;00m \u001b[39mself\u001b[39m:\n\u001b[0;32m--> 906\u001b[0m         data \u001b[39m=\u001b[39m data\u001b[39m.\u001b[39mread()\n\u001b[1;32m    907\u001b[0m \u001b[39mif\u001b[39;00m \u001b[39mnot\u001b[39;00m \u001b[39mhasattr\u001b[39m(data, \u001b[39m\"\u001b[39m\u001b[39mread\u001b[39m\u001b[39m\"\u001b[39m) \u001b[39mand\u001b[39;00m (\u001b[39mself\u001b[39m\u001b[39m.\u001b[39mchunksize \u001b[39mor\u001b[39;00m \u001b[39mself\u001b[39m\u001b[39m.\u001b[39mnrows):\n\u001b[1;32m    908\u001b[0m     data \u001b[39m=\u001b[39m StringIO(data)\n",
      "File \u001b[0;32m<frozen codecs>:322\u001b[0m, in \u001b[0;36mdecode\u001b[0;34m(self, input, final)\u001b[0m\n",
      "\u001b[0;31mUnicodeDecodeError\u001b[0m: 'utf-8' codec can't decode byte 0xff in position 554: invalid start byte"
     ]
    }
   ],
   "source": [
    "for file in json_files:\n",
    "    print(file)\n",
    "    read_json_file(file)"
   ]
  },
  {
   "cell_type": "code",
   "execution_count": 106,
   "metadata": {},
   "outputs": [],
   "source": [
    "# df = pd.read_csv('b.csv')\n",
    "# df.to_json(path_data / 'Hallucination-leaderboard-20231114.json', orient='records', indent=4)"
   ]
  }
 ],
 "metadata": {
  "kernelspec": {
   "display_name": ".venv",
   "language": "python",
   "name": "python3"
  },
  "language_info": {
   "codemirror_mode": {
    "name": "ipython",
    "version": 3
   },
   "file_extension": ".py",
   "mimetype": "text/x-python",
   "name": "python",
   "nbconvert_exporter": "python",
   "pygments_lexer": "ipython3",
   "version": "3.11.6"
  }
 },
 "nbformat": 4,
 "nbformat_minor": 2
}
