{
 "cells": [
  {
   "cell_type": "code",
   "execution_count": 4,
   "metadata": {},
   "outputs": [],
   "source": [
    "import os\n",
    "import ast\n",
    "import json\n",
    "import ineqpy\n",
    "import numpy as np\n",
    "import pandas as pd\n",
    "import plotly.io as pio\n",
    "import plotly.express as px\n",
    "import plotly.graph_objects as go\n",
    "\n",
    "from pathlib import Path\n",
    "from collections import defaultdict"
   ]
  },
  {
   "cell_type": "code",
   "execution_count": 5,
   "metadata": {},
   "outputs": [],
   "source": [
    "path_meta = Path(\"../meta\")\n",
    "path_data = Path(\"../data\")\n",
    "path_key = Path(\"../key\")\n",
    "font_size = 15\n",
    "\n",
    "workflow_pwc = ['1']\n",
    "display_format_pwc = ['Rankable Table', 'Scatter Plot']\n",
    "display_format_rankable = ['Rankable Table', 'Rankable Bar Chart']\n",
    "workflow_patterns_with_submission = ['1', '2', '3', '4', '5']\n",
    "non_accepted_publication_type = ['blog', 'report', 'white paper']\n",
    "\n",
    "leaderboard_system_without_evaluation_datasets = ['Ko Chatbot Arena']\n",
    "leaderboard_system_without_pull_requests = ['SEAL', 'FSMBench', 'CompMix', 'DocVQA', 'GENIE', 'InfographicVQA', 'LMExamQA', 'Models Leaderboard', 'MP-DocVQA', 'OpenEval', 'Program Synthesis Models Leaderboard', 'ProtoQA', 'TextSynth Server']\n",
    "leaderboard_system_without_contacts = ['OpenEval']\n",
    "leaderboard_system_without_documentation = ['FSMBench']\n",
    "leaderboard_system_without_evaluation_harness = ['LLM-Leaderboard']\n",
    "\n",
    "macro_display_format_mapping = {\n",
    "    'Table': ['Regular Table', 'Rankable Table', 'Table Screenshot'],\n",
    "    'Figure': ['Bar Chart', 'Box Plot', 'Heat Map', 'Line Chart', 'Pie Chart', 'Radar Chart', 'Scatter Plot', 'Rankable Bar Chart'],\n",
    "}\n",
    "\n",
    "platform_abbreviation_mapping = {\n",
    "    'gh': 'GitHub',\n",
    "    'hf': 'Hugging Face Spaces',\n",
    "    'pwc': 'Papers With Code',\n",
    "    'ip': 'independent platform',\n",
    "}\n",
    "\n",
    "ranking_dataframe_organization_tactics_mapping = {\n",
    "    'Algorithm': ['Algorithm'],\n",
    "    'Evaluation Configuration': ['Dataset Slice', 'Evaluator', 'Metric'],\n",
    "    'Leaderboard Aggregation': ['Aggregated Result'],\n",
    "    'Leaderboard Release': ['Leaderboard Launch Date', 'Leaderboard Version'],\n",
    "    'Model Capability': ['Benchmark Dataset', 'Service Load', 'Supported Functionality', 'Supported Language', 'Supported Modality', 'Task'],\n",
    "    'Model Information': ['Model Accessibility', 'Model Size', 'Model Type'],\n",
    "    'Prompt Engineering': ['#Prompt Example', 'Output Length', 'Prompt Design', 'Prompt Length', 'Relation Extractor', 'Tokenizer']\n",
    "}\n",
    "\n",
    "publisher_synonyms = {\n",
    "    'Alibaba Group': ['DAMO Academy', 'Aliyun'],\n",
    "    'Amazon': ['Alexa AI Lab', 'AWS AI Lab'],\n",
    "    'Agency for Science Technology and Research': ['A*STAR I2R', 'CFAR A*STAR'],\n",
    "    'Bauhaus University': ['Bauhaus University Weimar'],\n",
    "    'ByteDance': ['ByteDance AI Lab'],\n",
    "    'Chinese Academy of Sciences': ['University of Chinese Academy of Sciences'],\n",
    "    'CSIRO': ['Data61'],\n",
    "    'Fraunhofer Society': ['Fraunhofer Institute for Integrated Circuits'],\n",
    "    'Frédéric Joliot Institute for Life Sciences': ['NeuroSpin'],\n",
    "    'Google': ['Google Brain', 'Google DeepMind', 'Google Blueshift'],\n",
    "    'Huawei': [\"Huawei Noah's Ark Lab\"],\n",
    "    'Jingdong': ['Explore Academy'],\n",
    "    'Kunlun Tech': ['Skywork'],\n",
    "    'Max Planck Society': ['Max Planck Institute for Informatics', 'Max Planck Institute for Intelligent Systems', 'Max Planck Institute for Mathematics in the Sciences'],\n",
    "    'Meta': [\n",
    "        'Meta FAIR',\n",
    "        'Meta GenAI'\n",
    "    ],\n",
    "    'Microsoft': ['Microsoft Research Asia'],\n",
    "    'National Public School': ['National Public School HSR Layout'],\n",
    "    'Naver': ['Naver Labs Europe'],\n",
    "    'Queen\\'s University Kingston': ['Queen\\'s University'],\n",
    "    'Tencent': [\n",
    "        'Tencent AI Lab',\n",
    "        'Tencent ARC Lab',\n",
    "        'Tencent Youtu Lab'\n",
    "    ],\n",
    "    'Toyota Technological Institute': ['Toyota Technological Institute Chicago'],\n",
    "    'University of California': [\n",
    "        'University of California Berkeley',\n",
    "        'University of California Davis',\n",
    "        'University of California Irvine',\n",
    "        'University of California Los Angeles',\n",
    "        'University of California Santa Barbara',\n",
    "        'University of California Santa Cruz',\n",
    "        'University of California San Diego',\n",
    "    ],\n",
    "    'University of Michigan': ['University of Michigan Ann Arbor'],\n",
    "    'University of North Carolina': ['University of North Carolina Chapel Hill'],\n",
    "    'University of Illinois': ['University of Illinois Chicago', 'University of Illinois Urbana Champaign'],\n",
    "    'University of Massachusetts': ['University of Massachusetts Amherst'],\n",
    "    'University of Maryland': ['University of Maryland College Park'],\n",
    "    'University of Tennessee': ['University of Tennessee Knoxville'],\n",
    "    'University of Texas': ['University of Texas Austin'],\n",
    "    'University of Wisconsin': ['University of Wisconsin Madison'],\n",
    "}\n",
    "\n",
    "metrics_synonyms = {\n",
    "    'accuracy': [\n",
    "        'acc',\n",
    "        'accuarcy',\n",
    "        'qa accuracy'\n",
    "    ],\n",
    "    'average': [\n",
    "        'avg',\n",
    "        '平均'\n",
    "    ],\n",
    "    'average accuracy': [\n",
    "        'avg. accuracy'\n",
    "    ],\n",
    "    'average score': ['平均分'],\n",
    "    'bleu': ['bleu score'],\n",
    "    'bleu-1': [\n",
    "        'narrativeqa bleu-1',\n",
    "        'socialiqa bleu-1',\n",
    "        'mcscript bleu-1',\n",
    "        'cosmosqa bleu-1'\n",
    "    ],\n",
    "    'bleu-4': ['bleu4'],\n",
    "    'bertscore': ['bert score'],\n",
    "    'code': ['代码'],\n",
    "    'elo rating': [\n",
    "        'chatbot arena elo',\n",
    "        'elo'\n",
    "    ],\n",
    "    'exact match': ['em', 'exact match accuracy'],\n",
    "    'lerc': [\n",
    "        'cosmosqa lerc',\n",
    "        'mcscript lerc',\n",
    "        'socialiqa lerc',\n",
    "        'narrativeqa lerc'\n",
    "    ],\n",
    "    'link': ['url'],\n",
    "    'mean rank': [\n",
    "        'text-to-video mean rank',\n",
    "        'video-to-text mean rank'\n",
    "    ],\n",
    "    'median rank': [\n",
    "        'text-to-video median rank',\n",
    "        'video-to-text median rank',\n",
    "        'text-to-videomedian rank',\n",
    "        'text-to-video medianr'\n",
    "    ],\n",
    "    'meteor': [\n",
    "        'cosmosqa meteor',\n",
    "        'narrativeqa meteor',\n",
    "        'socialiqa meteor',\n",
    "        'mcscript meteor'\n",
    "    ],\n",
    "    'neg mean rank': [\n",
    "        'i->t neg mean rank',\n",
    "        't->i neg mean rank'\n",
    "    ],\n",
    "    'organization': [\n",
    "        '发布机构',\n",
    "        '机构',\n",
    "        'orgaisation',\n",
    "    ],\n",
    "    'others': ['其他'],\n",
    "    'overall': ['xiezhi overall'],\n",
    "    'overall score': [\n",
    "        '总分',\n",
    "        '总体分数'\n",
    "    ],\n",
    "    'pass@1': [\n",
    "        'interview pass@1',\n",
    "        'competition pass@1',\n",
    "        'introductory pass@1'\n",
    "    ],\n",
    "    'pass@5': [\n",
    "        'interview pass@5',\n",
    "        'introductory pass@5',\n",
    "        'competition pass@5'\n",
    "    ],\n",
    "    'pass@1000': [\n",
    "        'interview pass@1000',\n",
    "        'competition pass@1000',\n",
    "        'introductory pass@1000'\n",
    "    ],\n",
    "    'pass@any': [\n",
    "        'introductory pass@any',\n",
    "        'competition pass@any',\n",
    "        'interview pass@any'\n",
    "    ],\n",
    "    '#parameters':  [\n",
    "        '#p',\n",
    "        '#params',\n",
    "        '# params',\n",
    "        '#size',\n",
    "        '参数量',\n",
    "        'model size',\n",
    "        'model size/b',\n",
    "        'number of params',\n",
    "        'param',\n",
    "        'parameters',\n",
    "        'params',\n",
    "        'size'\n",
    "    ],\n",
    "    'perplexity': ['ppl'],\n",
    "    'precision@1': ['i->t p@1'],\n",
    "    'precision@20': ['p@20'],\n",
    "    'recall@1': [\n",
    "        'r@1',\n",
    "        'text-to-videor@1',\n",
    "        'video-to-text r@1',\n",
    "        'text-to-video r@1',\n",
    "        'text-to-image r@1',\n",
    "        'image-to-text r@1'\n",
    "    ],\n",
    "    'recall@5': [\n",
    "        'text-to-image r@5',\n",
    "        'video-to-text r@5',\n",
    "        'image-to-text r@5',\n",
    "        'text-to-video r@5',\n",
    "        'r@5',\n",
    "    ],\n",
    "    'recall@10': [\n",
    "        'recall@10 on 1 rounds',\n",
    "        'recall@10 on 2 rounds',\n",
    "        'recall@10 on 3 rounds',\n",
    "        'r@10',\n",
    "        'video-to-text r@10',\n",
    "        'text-to-image r@10',\n",
    "        'text-to-video r@10',\n",
    "        'image-to-text r@10'\n",
    "    ],\n",
    "    'recall@50': [\n",
    "        'text-to-video r@50',\n",
    "        'video-to-text r@50',\n",
    "    ],\n",
    "    'score': ['分数'],\n",
    "    'submission date': ['提交时间'],\n",
    "    'top-1 accuracy': ['top 1 accuracy'],\n",
    "    'top-5 accuracy': ['top 5 accuracy'],\n",
    "    'type': ['model type'],\n",
    "    'win rate': ['胜率'],\n",
    "    'word error rate': ['wer']\n",
    "}\n",
    "\n",
    "pwc_leaderboard_mapping = {\n",
    "    'A-OKVQA': ['visual-question-answering-on-a-okvqa'],\n",
    "    'ACE (2005)': ['relation-extraction-on-ace-2005'],\n",
    "    'ADE20K': ['semantic-segmentation-on-ade20k'],\n",
    "    'AI2D': ['visual-question-answering-vqa-on-ai2d'],\n",
    "    'AISHELL-1': ['speech-recognition-on-aishell-1'],\n",
    "    'ANLI': ['natural-language-inference-on-anli-test'],\n",
    "    'APPS': ['code-generation-on-apps'],\n",
    "    'ARC Challenge': ['common-sense-reasoning-on-arc-challenge', 'common-sense-reasoning-on-arc-easy'],\n",
    "    'ASDiv': ['math-word-problem-solving-on-asdiv-a'],\n",
    "    'AVA': ['action-recognition-on-ava-v2-2', 'spatio-temporal-action-localization-on-ava'],\n",
    "    'ActivityNet Captions': ['video-captioning-on-activitynet-captions', 'video-captioning-on-activitynet-captions'],\n",
    "    'ActivityNet': ['temporal-action-localization-on-activitynet', 'video-retrieval-on-activitynet', 'zero-shot-video-retrieval-on-activitynet'],\n",
    "    'ActivityNet-QA': ['video-question-answering-on-activitynet-qa'],\n",
    "    'AudioCaps': ['audio-to-text-retrieval-on-audiocaps', 'text-to-audio-retrieval-on-audiocaps', 'zero-shot-audio-captioning-on-audiocaps'],\n",
    "    'BACE': ['molecular-property-prediction-on-bace-1'],\n",
    "    'BANKING77': ['intent-detection-on-banking77'],\n",
    "    'BBBP': ['molecular-property-prediction-on-bbbp-1'],\n",
    "    'BBH': ['multi-task-language-understanding-on-bbh-nlp', 'multi-task-language-understanding-on-bbh-alg'],\n",
    "    'BC5CDR': ['named-entity-recognition-ner-on-bc5cdr'],\n",
    "    'BEIR': ['argument-retrieval-on-arguana-beir', 'argument-retrieval-on-touche-2020-beir', 'biomedical-information-retrieval-on-bioasq-1', 'biomedical-information-retrieval-on-nfcorpus-1', 'biomedical-information-retrieval-on-trec-1', 'citation-prediction-on-scidocs-beir', 'duplicate-question-retrieval-on-cqadupstack-1', 'duplicate-question-retrieval-on-quora-beir', 'entity-retrieval-on-dbpedia-beir', 'fact-checking-on-scifact-beir', 'fact-checking-on-fever-beir', 'fact-checking-on-climate-fever-beir', 'zero-shot-text-search-on-beir', 'news-retrieval-on-trec-news-beir', 'passage-retrieval-on-msmarco-beir', 'question-answering-on-fiqa-2018-beir', 'question-answering-on-hotpotqa-beir', 'tweet-retrieval-on-signal-1m-rt-beir'],\n",
    "    'BIG-Bench': ['mathematical-induction-on-big-bench', 'physics-mc-on-big-bench', 'riddle-sense-on-big-bench', 'figure-of-speech-detection-on-big-bench', 'fantasy-reasoning-on-big-bench', 'common-sense-reasoning-on-big-bench-logical', 'logical-reasoning-on-big-bench-logical', 'analogical-similarity-on-big-bench', 'implicit-relations-on-big-bench', 'intent-recognition-on-big-bench', 'lambada-on-big-bench', 'movie-dialog-same-or-different-on-big-bench', 'nonsense-words-grammar-on-big-bench', 'phrase-relatedness-on-big-bench', 'question-selection-on-big-bench', 'misconceptions-on-big-bench', 'sentence-ambiguity-on-big-bench', 'general-knowledge-on-big-bench', 'analytic-entailment-on-big-bench', 'entailed-polarity-on-big-bench', 'epistemic-reasoning-on-big-bench', 'evaluating-information-essentiality-on-big', 'logical-args-on-big-bench', 'metaphor-boolean-on-big-bench', 'physical-intuition-on-big-bench', 'presuppositions-as-nli-on-big-bench', 'discourse-marker-prediction-on-big-bench', 'empirical-judgments-on-big-bench', 'irony-identification-on-big-bench', 'english-proverbs-on-big-bench', 'similarities-abstraction-on-big-bench', 'gre-reading-comprehension-on-big-bench', 'crash-blossom-on-big-bench', 'human-organs-senses-multiple-choice-on-big', 'odd-one-out-on-big-bench', 'identify-odd-metapor-on-big-bench', 'dark-humor-detection-on-big-bench', 'understanding-fables-on-big-bench', 'timedial-on-big-bench', 'common-sense-reasoning-on-big-bench-known', 'language-modelling-on-big-bench-lite', 'auto-debugging-on-big-bench-lite', 'memorization-on-big-bench-hindu-knowledge', 'logical-reasoning-on-big-bench-strategyqa', 'logical-reasoning-on-big-bench-logic-grid', 'crass-ai-on-big-bench', 'multiple-choice-question-answering-mcqa-on-31', 'word-sense-disambiguation-on-big-bench', 'multi-task-language-understanding-on-bbh-alg', 'sarcasm-detection-on-big-bench-snarks', 'common-sense-reasoning-on-big-bench-sports', 'multiple-choice-question-answering-mcqa-on-30', 'logical-reasoning-on-big-bench-temporal', 'common-sense-reasoning-on-big-bench', 'common-sense-reasoning-on-big-bench-causal', 'common-sense-reasoning-on-big-bench-date', 'logical-reasoning-on-big-bench-formal', 'multiple-choice-question-answering-mcqa-on-27', 'multiple-choice-question-answering-mcqa-on-28', 'multiple-choice-question-answering-mcqa-on-29', 'logical-reasoning-on-big-bench-penguins-in-a', 'logical-reasoning-on-big-bench-reasoning', 'multi-task-language-understanding-on-bbh-nlp'],\n",
    "    'BenchLMM': ['visual-question-answering-on-benchlmm'],\n",
    "    'BioASQ': ['question-answering-on-bioasq'],\n",
    "    'BioLAMA': ['knowledge-probing-on-biolama'],\n",
    "    'BoolQ': ['question-answering-on-boolq'],\n",
    "    'C4': ['language-modelling-on-c4'],\n",
    "    'CB': ['natural-language-inference-on-commitmentbank'],\n",
    "    'CFQ': ['semantic-parsing-on-cfq'],\n",
    "    'CIFAR-10': ['image-classification-on-cifar-10'],\n",
    "    'CLUE': ['language-modelling-on-clue-afqmc', 'language-modelling-on-clue-ocnli-50k', 'language-modelling-on-clue-drcd', 'language-modelling-on-clue-cmnli', 'language-modelling-on-clue-wsc1-1', 'language-modelling-on-clue-c3', 'language-modelling-on-clue-cmrc2018'],\n",
    "    'CNN DM': ['document-summarization-on-cnn-daily-mail', 'abstractive-text-summarization-on-cnn-daily'],\n",
    "    'COCO Captions': ['image-captioning-on-coco-captions'],\n",
    "    'COPA': ['question-answering-on-copa'],\n",
    "    'ChEBI-20': ['cross-modal-retrieval-on-chebi-20', 'text-based-de-novo-molecule-generation-on', 'molecule-captioning-on-chebi-20'],\n",
    "    'Charades': ['zero-shot-action-recognition-on-charades-1'],\n",
    "    'Charades-STA': ['moment-retrieval-on-charades-sta'],\n",
    "    'ChartQA': ['chart-question-answering-on-chartqa'],\n",
    "    'Civil Comments': ['toxic-comment-classification-on-civil'],\n",
    "    'Clotho': ['text-to-audio-retrieval-on-clotho', 'audio-captioning-on-clotho', 'audio-to-text-retrieval-on-clotho', 'zero-shot-text-to-audio-retrieval-on-clotho'],\n",
    "    'CoLA': ['linguistic-acceptability-on-cola'],\n",
    "    'CoNLL': ['coreference-resolution-on-conll-2012', 'coreference-resolution-on-conll12', 'joint-entity-and-relation-extraction-on-2', 'named-entity-recognition-ner-on-conll-2003', 'named-entity-recognition-on-conll03', 'relation-extraction-on-conll04', 'semantic-role-labeling-on-conll-2005', 'semantic-role-labeling-on-conll05-wsj', 'semantic-role-labeling-on-conll12'],\n",
    "    'CoNaLa': ['code-generation-on-conala'],\n",
    "    'CoQA': ['question-answering-on-coqa'],\n",
    "    'CodeContests': ['code-generation-on-codecontests'],\n",
    "    'Common Voice': ['speech-recognition-on-common-voice-8-0-13', 'speech-recognition-on-common-voice-8-0-14', 'speech-recognition-on-common-voice-8-0-35', 'speech-recognition-on-common-voice-8-0-21', 'speech-recognition-on-common-voice-8-0-19', 'speech-recognition-on-common-voice-8-0-15', 'speech-recognition-on-common-voice-7-0-irish', 'speech-recognition-on-common-voice-8-0-irish', 'speech-recognition-on-common-voice-2', 'speech-recognition-on-common-voice-7-0-3', 'speech-recognition-on-common-voice-8-0-german', 'speech-recognition-on-common-voice-8-0-6', 'speech-recognition-on-common-voice-7-0-4', 'speech-recognition-on-common-voice-7-0-13', 'speech-recognition-on-common-voice-8-0-37', 'speech-recognition-on-common-voice-8-0-22', 'speech-recognition-on-common-voice-8-0', 'speech-recognition-on-common-voice-frisian', 'speech-recognition-on-common-voice-8-0-4', 'speech-recognition-on-common-voice-italian', 'speech-recognition-on-common-voice-8-0-french', 'speech-recognition-on-common-voice-english', 'speech-recognition-on-common-voice-8-0-hindi', 'speech-recognition-on-common-voice-7-0-5', 'speech-recognition-on-common-voice-7-0-hindi', 'speech-recognition-on-common-voice-8-0-dutch', 'speech-recognition-on-common-voice-spanish', 'speech-recognition-on-common-voice-french', 'speech-recognition-on-common-voice-german'],\n",
    "    'ComplexWebQuestions': ['knowledge-base-question-answering-on'],\n",
    "    'CrossNER': ['zero-shot-named-entity-recognition-ner-on-1'],\n",
    "    'CrowS-Pairs': ['stereotypical-bias-analysis-on-crows-pairs'],\n",
    "    'DROP': ['question-answering-on-drop-test', 'question-answering-on-drop'],\n",
    "    'DiDeMo': ['video-retrieval-on-didemo', 'zero-shot-video-retrieval-on-didemo'],\n",
    "    'DocVQA': ['visual-question-answering-on-docvqa-test'],\n",
    "    'FLEURS': ['automatic-speech-recognition-on-fleurs-1'],\n",
    "    'FSD50K': ['audio-classification-on-fsd50k'],\n",
    "    'FewCLUE': ['language-modelling-on-fewclue-eprstmt', 'language-modelling-on-fewclue-ocnli-fc', 'language-modelling-on-fewclue-bustm', 'language-modelling-on-fewclue-chid-fc', 'language-modelling-on-fewclue-cluewsc-fc'],\n",
    "    'FinQA': ['question-answering-on-finqa'],\n",
    "    'FineAction': ['temporal-action-localization-on-fineaction'],\n",
    "    'Flickr30K': ['zero-shot-cross-modal-retrieval-on-flickr30k', 'image-to-text-retrieval-on-flickr30k'],\n",
    "    'Food-101': ['zero-shot-transfer-image-classification-on-17'],\n",
    "    'GEM': ['extreme-summarization-on-gem-xsum'],\n",
    "    'GENIA': ['named-entity-recognition-on-genia'],\n",
    "    'GQA': ['visual-question-answering-on-gqa-test-dev'],\n",
    "    'GSM8K': ['arithmetic-reasoning-on-gsm8k'],\n",
    "    'HIV': ['molecular-property-prediction-on-hiv-dataset'],\n",
    "    'HMDB51': ['action-recognition-in-videos-on-hmdb-51', 'zero-shot-action-recognition-on-hmdb51'],\n",
    "    'HallusionBench': ['visual-question-answering-vqa-on-3'],\n",
    "    'HellaSwag': ['sentence-completion-on-hellaswag'],\n",
    "    'HumanEval': ['code-generation-on-humaneval'],\n",
    "    'IFEval': ['instruction-following-on-ifeval'],\n",
    "    'IUPAC': ['iupac-name-prediction-on-iupac'],\n",
    "    'ImageNet': ['few-shot-image-classification-on-imagenet-10', 'few-shot-image-classification-on-imagenet-1-1', 'few-shot-image-classification-on-imagenet-5', 'image-classification-on-imagenet', 'self-supervised-image-classification-on', 'self-supervised-image-classification-on-1', 'zero-shot-transfer-image-classification-on-1', 'zero-shot-transfer-image-classification-on-3'],\n",
    "    'InfoSeek': ['visual-question-answering-vqa-on-infoseek'],\n",
    "    'InfographicVQA': ['visual-question-answering-vqa-on'],\n",
    "    'JFT-300M': ['image-classification-on-jft-300m'],\n",
    "    'Kinetics': ['action-classification-on-kinetics-400', 'action-classification-on-kinetics-600', 'action-classification-on-kinetics-700', 'spatio-temporal-action-localization-on-ava', 'video-generation-on-kinetics-600-12-frames', 'zero-shot-action-recognition-on-kinetics'],\n",
    "    'LAMBADA': ['language-modelling-on-lambada'],\n",
    "    'LLaVA-Bench': ['visual-instruction-following-on-llava-bench'],\n",
    "    'LibriSpeech': ['speech-recognition-on-librispeech-test-clean', 'speech-recognition-on-librispeech-test-other'],\n",
    "    'MATH': ['math-word-problem-solving-on-math'],\n",
    "    'MAWPS': ['math-word-problem-solving-on-mawps'],\n",
    "    'MBPP': ['code-generation-on-mbpp'],\n",
    "    'MGSM': ['multi-task-language-understanding-on-mgsm'],\n",
    "    'MM-Vet': ['visual-question-answering-on-mm-vet'],\n",
    "    'MMLU': ['multi-task-language-understanding-on-mmlu', 'mathematical-reasoning-on-mmlu-mathematics', 'multiple-choice-question-answering-mcqa-on-11', 'multiple-choice-question-answering-mcqa-on-8', 'multiple-choice-question-answering-mcqa-on-25', 'multiple-choice-question-answering-mcqa-on-7', 'multiple-choice-question-answering-mcqa-on-9', 'multiple-choice-question-answering-mcqa-on-10', 'multiple-choice-question-answering-mcqa-on-13', 'multiple-choice-question-answering-mcqa-on-12', 'multiple-choice-question-answering-mcqa-on-2', 'multiple-choice-question-answering-mcqa-on-3', 'multiple-choice-question-answering-mcqa-on-4', 'multiple-choice-question-answering-mcqa-on-5', 'multiple-choice-question-answering-mcqa-on-16', 'multiple-choice-question-answering-mcqa-on-17', 'multiple-choice-question-answering-mcqa-on-18', 'multiple-choice-question-answering-mcqa-on-20', 'multiple-choice-question-answering-mcqa-on-14', 'multiple-choice-question-answering-mcqa-on-19', 'multiple-choice-question-answering-mcqa-on-6', 'multiple-choice-question-answering-mcqa-on-15', 'multiple-choice-question-answering-mcqa-on-24', 'multiple-choice-question-answering-mcqa-on-26', 'multiple-choice-question-answering-mcqa-on-23'],\n",
    "    'MRPC': ['semantic-textual-similarity-on-mrpc'],\n",
    "    'MSCOCO': ['image-captioning-on-coco', 'image-retrieval-on-coco', 'image-to-text-retrieval-on-coco', 'text-to-image-generation-on-coco', 'zero-shot-cross-modal-retrieval-on-coco-2014'],\n",
    "    'MSRVTT': ['text-to-video-generation-on-msr-vtt', 'video-captioning-on-msr-vtt-1', 'video-retrieval-on-msr-vtt', 'zero-shot-video-retrieval-on-msr-vtt', 'video-retrieval-on-msr-vtt-1ka'],\n",
    "    'MSRVTT-QA': ['zeroshot-video-question-answer-on-msrvtt-qa', 'video-question-answering-on-msrvtt-qa', 'visual-question-answering-on-msrvtt-qa-1'],\n",
    "    'MSVD': ['video-retrieval-on-msvd', 'video-captioning-on-msvd-1', 'zero-shot-video-retrieval-on-msvd'],\n",
    "    'MSVD-QA': ['zeroshot-video-question-answer-on-msvd-qa', 'zeroshot-video-question-answer-on-msvd-qa'],\n",
    "    'MathQA': ['math-word-problem-solving-on-mathqa'],\n",
    "    'MedMCQA': ['multiple-choice-question-answering-mcqa-on-21'],\n",
    "    'MedQA': ['question-answering-on-medqa-usmle'],\n",
    "    'MiT': ['action-classification-on-moments-in-time'],\n",
    "    'MoleculeNet': ['molecular-property-prediction-on-moleculenet'],\n",
    "    'MultiRC': ['question-answering-on-multirc'],\n",
    "    'MusicCaps': ['text-to-music-generation-on-musiccaps'],\n",
    "    'MusicQA': ['music-question-answering-on-musicqa'],\n",
    "    'NExT-QA': ['temporal-casual-qa-on-next-qa', 'question-answering-on-next-qa-open-ended', 'video-question-answering-on-next-qa', 'zero-shot-video-question-answer-on-next-qa', 'zero-shot-video-question-answer-on-next-gqa'],\n",
    "    'NLVR': ['visual-reasoning-on-nlvr2-test', 'visual-reasoning-on-nlvr2-dev'],\n",
    "    'NQ': ['passage-retrieval-on-natural-questions', 'question-answering-on-natural-questions'],\n",
    "    'NoCaps': ['image-captioning-on-nocaps-entire', 'image-captioning-on-nocaps-near-domain', 'image-captioning-on-nocaps-out-of-domain', 'image-captioning-on-nocaps-in-domain', 'image-captioning-on-nocaps-val-in-domain', 'image-captioning-on-nocaps-val-overall', 'image-captioning-on-nocaps-val-out-domain', 'image-captioning-on-nocaps-val-near-domain'],\n",
    "    'OK-VQA': ['visual-question-answering-on-ok-vqa'],\n",
    "    'OVEN': ['fine-grained-image-recognition-on-oven'],\n",
    "    'OmniBenchmark': ['image-classification-on-omnibenchmark'],\n",
    "    'OpenbookQA': ['question-answering-on-openbookqa', 'question-answering-on-obqa'],\n",
    "    'PIQA': ['question-answering-on-piqa'],\n",
    "    'PMC-VQA': ['generative-visual-question-answering-on-pmc', 'visual-question-answering-vqa-on-pmc-vqa', 'medical-visual-question-answering-on-pmc-vqa'],\n",
    "    'Pets37': ['fine-grained-image-classification-on-oxford-1'],\n",
    "    'PubChemQA': ['question-answering-on-pubchemqa'],\n",
    "    'PubMedQA': ['question-answering-on-pubmedqa'],\n",
    "    'QNLI': ['natural-language-inference-on-qnli'],\n",
    "    'RACE': ['reading-comprehension-on-race', 'question-answering-on-race'],\n",
    "    'RAFT': ['few-shot-text-classification-on-raft'],\n",
    "    'RTE': ['natural-language-inference-on-rte'],\n",
    "    'RareAct': ['action-recognition-on-rareact'],\n",
    "    'ReCoRD': ['common-sense-reasoning-on-record'],\n",
    "    'RefCOCO': ['referring-expression-comprehension-on-refcoco-1', 'referring-expression-comprehension-on-refcoco-1', 'referring-expression-segmentation-on-refcocog', 'referring-expression-segmentation-on-refcoco', 'referring-expression-comprehension-on-1', 'referring-expression-comprehension-on', 'referring-expression-comprehension-on-refcoco'],\n",
    "    'Robust (2004)': ['ad-hoc-information-retrieval-on-trec-robust04'],\n",
    "    'SCROLLS': ['long-range-modeling-on-scrolls'],\n",
    "    'SICK': ['semantic-textual-similarity-on-sick', 'semantic-textual-similarity-on-sick-r-1'],\n",
    "    'SIDER': ['molecular-property-prediction-on-sider-1'],\n",
    "    'SIQA': ['question-answering-on-social-iqa'],     \n",
    "    'SPGISpeech': ['speech-recognition-on-spgispeech'],\n",
    "    'SQuAD': ['question-answering-on-squad11-dev'],\n",
    "    'SST': ['sentiment-analysis-on-sst-2-binary'],\n",
    "    'STAR': ['video-question-answering-on-situated', 'zero-shot-video-question-answer-on-star', 'zero-shot-video-question-answer-on-star-1'],\n",
    "    'STS-B': ['semantic-textual-similarity-on-sts-benchmark', 'semantic-textual-similarity-on-sts13', 'semantic-textual-similarity-on-sts14', 'semantic-textual-similarity-on-sts12', 'semantic-textual-similarity-on-sts15', 'semantic-textual-similarity-on-sts16', 'semantic-similarity-on-sts-benchmark'],\n",
    "    'SVAMP': ['math-word-problem-solving-on-svamp'],\n",
    "    'SWE-bench': ['bug-fixing-on-swe-bench'],\n",
    "    'SciQ': ['text-generation-on-sciq'],\n",
    "    'ScienceQA': ['science-question-answering-on-scienceqa'],\n",
    "    'Something-Something': ['action-recognition-in-videos-on-something'],\n",
    "    'Spider': ['text-to-sql-on-spider', 'semantic-parsing-on-spider'],\n",
    "    'StereoSet': ['bias-detection-on-stereoset-1'],\n",
    "    'StoryCloze': ['question-answering-on-storycloze'],\n",
    "    'StrategyQA': ['question-answering-on-strategyqa'],\n",
    "    'TACRED': ['relation-extraction-on-tacred'],\n",
    "    'TED-LIUM': ['speech-recognition-on-tedlium'],\n",
    "    'TGIF-QA': ['tgif-frame-on-tgif-qa', 'zeroshot-video-question-answer-on-tgif-qa', 'zeroshot-video-question-answer-on-tgif-qa-1', 'visual-question-answering-on-tgif-qa'],\n",
    "    'TREC-COVID': ['zero-shot-text-search-on-trec-covid'],\n",
    "    'TVQA': ['video-question-answering-on-tvqa', 'zero-shot-video-question-answer-on-tvqa'],\n",
    "    'TextVQA': ['visual-question-answering-on-textvqa-test-1'],\n",
    "    'TheoremQA': ['natural-questions-on-theoremqa'],\n",
    "    'The Pile': ['language-modelling-on-the-pile'],\n",
    "    'Tox21': ['language-modelling-on-the-pile'],\n",
    "    'TriviaQA': ['question-answering-on-triviaqa'],\n",
    "    'TruthfulQA': ['question-answering-on-truthfulqa'],\n",
    "    'TyDiQA-GoldP': ['cross-lingual-question-answering-on-tydiqa'],\n",
    "    'UCF101': ['action-recognition-in-videos-on-ucf101', 'self-supervised-action-recognition-on-ucf101', 'text-to-video-generation-on-ucf-101', 'zero-shot-action-recognition-on-ucf101', 'video-generation-on-ucf-101'],\n",
    "    'UniProtQA': ['question-answering-on-uniprotqa'],\n",
    "    'VATEX': ['video-retrieval-on-vatex', 'video-captioning-on-vatex-1', 'zero-shot-video-retrieval-on-vatex'],\n",
    "    'VCR': ['visual-question-answering-on-vcr-q-ar-test', 'visual-question-answering-on-vcr-qa-r-test', 'visual-question-answering-on-vcr-q-a-test'],\n",
    "    'VGG-Sound': ['audio-classification-on-vggsound'],\n",
    "    'VNHSGE': ['question-answering-on-vnhsge-english', 'question-answering-on-vnhsge-physics', 'question-answering-on-vnhsge-chemistry', 'question-answering-on-vnhsge-biology', 'question-answering-on-vnhsge-history', 'question-answering-on-vnhsge-geography', 'question-answering-on-vnhsge-literature', 'question-answering-on-vnhsge-mathematics-1', 'question-answering-on-vnhsge-civic'],\n",
    "    'VQA': ['visual-question-answering-on-vqa-v2-val-1', 'visual-question-answering-on-vqa-v2-test-dev-1', 'visual-question-answering-on-vqa-v2-val', 'visual-question-answering-on-vqa-v2-test-std', 'visual-question-answering-on-vqa-v2-test-dev'],\n",
    "    'VeRi-776': ['vehicle-re-identification-on-veri-776'],\n",
    "    'VeRi-Wild': ['vehicle-re-identification-on-veri-wild-small'],\n",
    "    'ViP-Bench': ['visual-question-answering-on-vip-bench'],\n",
    "    'VideoInstruct': ['video-based-generative-performance', 'video-based-generative-performance-1', 'video-based-generative-performance-2', 'video-based-generative-performance-3', 'video-based-generative-performance-4', 'video-based-generative-performance-5'],\n",
    "    'VisDial': ['chat-based-image-retrieval-on-visdial'],\n",
    "    'VizWiz': ['visual-question-answering-on-vizwiz-2020-vqa'],\n",
    "    'WHOOPS!': ['explanation-generation-on-whoops', 'image-to-text-retrieval-on-whoops', 'image-captioning-on-whoops', 'visual-question-answering-vqa-on-whoops'],\n",
    "    'WMT (2014)': ['unsupervised-machine-translation-on-wmt2014-1', 'machine-translation-on-wmt2014-french-english', 'machine-translation-on-wmt2014-english-german', 'unsupervised-machine-translation-on-wmt2014-2', 'machine-translation-on-wmt2014-english-french'],\n",
    "    'WNLI': ['natural-language-inference-on-wnli'],\n",
    "    'WSC': ['coreference-resolution-on-winograd-schema'],\n",
    "    'WebQuestions': ['question-answering-on-webquestions'],\n",
    "    'WebQuestionsSP': ['knowledge-base-question-answering-on-1', 'semantic-parsing-on-webquestionssp'],\n",
    "    'WenetSpeech': ['speech-recognition-on-wenetspeech'],\n",
    "    'WikiText-103': ['language-modelling-on-wikitext-103'],\n",
    "    'WikiText-2': ['language-modelling-on-wikitext-2'],\n",
    "    'WinoGrande': ['common-sense-reasoning-on-winogrande'],\n",
    "    'Winoground': ['visual-reasoning-on-winoground'],\n",
    "    'XCOPA': ['cross-lingual-transfer-on-xcopa'],\n",
    "    'XSUM': ['text-summarization-on-x-sum'],\n",
    "    'YouCook2': ['video-retrieval-on-youcook2', 'video-captioning-on-youcook2', 'zero-shot-video-retrieval-on-youcook2'],\n",
    "    'iNaturalist': ['long-tail-learning-on-inaturalist-2018', 'image-classification-on-inaturalist-2018'],\n",
    "    'iVQA': ['video-question-answering-on-ivqa'],\n",
    "}\n",
    "\n",
    "# PWC leaderboards are retrieved in https://production-media.paperswithcode.com/about/evaluation-tables.json.gz\n",
    "dataset_oriented_leaderboards = ['https://www.datacomp.ai/dclm/leaderboard.html', 'https://www.datacomp.ai/dcclip/leaderboard.html', 'https://llm-eval.github.io/pages/leaderboard/advprompt.html#attack-results-view-by-datasets', 'https://huggingface.co/spaces/zhaorui-nb/de-identification-leaderboard']\n",
    "metric_oriented_leaderboards = ['https://github.com/yuh-zha/AlignScore']\n",
    "method_oriented_leaderboards = ['https://teddy-xionggz.github.io/MIRAGE', 'https://www.swebench.com', 'https://jykoh.com/vwa', 'https://huggingface.co/spaces/osunlp/TravelPlannerLeaderboard', 'https://huggingface.co/spaces/JetBrains-Research/long-code-arena', 'https://huggingface.co/spaces/OPTML-Group/UnlearnCanvas-Benchmark', 'https://bird-bench.github.io', 'https://huggingface.co/spaces/stabletoolbench/Stable_Tool_Bench_Leaderboard', 'https://huggingface.co/spaces/GPTEval3D/Leaderboard_dev', 'https://huggingface.co/spaces/boyiwei/CoTaEval_leaderboard', 'https://huggingface.co/spaces/locuslab/tofu_leaderboard', 'https://huggingface.co/spaces/Intel/UnlearnDiffAtk-Benchmark', 'https://github.com/svilupp/Julia-LLM-Leaderboard?tab=readme-ov-file#prompting-templates', 'https://llm-eval.github.io/pages/leaderboard/pe.html', 'https://llm-eval.github.io/pages/leaderboard/advprompt.html#all-results-of-prompts', 'https://huggingface.co/spaces/autogenCTF/agent_ctf_leaderboard']\n",
    "solution_oriented_leaderboards = ['https://eu.aihub.ml/competitions', 'https://aistudio.baidu.com/competition', 'https://www.hilti-challenge.com', 'https://insightface.ai/challenges', 'https://www.aicrowd.com/challenges', 'https://grand-challenge.org/challenges', 'https://dynabench.org/tasks', 'https://www.kaggle.com/competitions', 'https://eval.ai/web/challenges/list', 'https://taostats.io', 'https://artificialanalysis.ai']"
   ]
  },
  {
   "cell_type": "code",
   "execution_count": 3,
   "metadata": {},
   "outputs": [],
   "source": [
    "platform_abbreviation_mapping_inverse = {v: k for k, v in platform_abbreviation_mapping.items()}\n",
    "\n",
    "metrics_synonyms_inverse = {}\n",
    "for key, values in metrics_synonyms.items():\n",
    "    for value in values:\n",
    "        metrics_synonyms_inverse[value] = key\n",
    "\n",
    "publisher_synonyms_inverse = {}\n",
    "for key, values in publisher_synonyms.items():\n",
    "    for value in values:\n",
    "        publisher_synonyms_inverse[value] = key\n",
    "\n",
    "ranking_dataframe_organization_tactics_mapping_inverse = {}\n",
    "for key, values in ranking_dataframe_organization_tactics_mapping.items():\n",
    "    for value in values:\n",
    "        ranking_dataframe_organization_tactics_mapping_inverse[value] = key\n",
    "\n",
    "def convert_df_to_dict(df):\n",
    "    \"\"\"\n",
    "    Convert a DataFrame of leaderboards and metrics to a dictionary.\n",
    "\n",
    "    :param df: DataFrame with leaderboards and metrics\n",
    "    :return: Dictionary with leaderboards as keys and list of metrics as values\n",
    "    \"\"\"\n",
    "    leaderboard_data = {}\n",
    "\n",
    "    # Ensure the DataFrame's first column is considered as the keys\n",
    "    # and iterate through each row to construct the dictionary\n",
    "    for _, row in df.iterrows():\n",
    "        key = row[0]  # The first column serves as the key\n",
    "        # List comprehension to get non-empty values from the rest of the row\n",
    "        values = [value for value in row[1:] if pd.notna(value)]\n",
    "        leaderboard_data[key] = values\n",
    "\n",
    "    return leaderboard_data\n",
    "\n",
    "def string_to_list(text, platform=False):\n",
    "    if pd.isna(text) or text == 'nan':\n",
    "        return []\n",
    "    elif platform:\n",
    "        return [platform_abbreviation_mapping[platform] for platform in text.split(',')]\n",
    "    else:\n",
    "        return text.split(',')\n",
    "\n",
    "def string_to_dict(s, platform=False, list_format=False):\n",
    "    # Check if the input is np.nan\n",
    "    if pd.isna(s):\n",
    "        if list_format:\n",
    "            return []\n",
    "        return {}\n",
    "    \n",
    "    # Split the string into key-value pairs\n",
    "    pairs = s.split(',')\n",
    "    result_dict = {}\n",
    "    result_list = []\n",
    "    \n",
    "    for pair in pairs:\n",
    "        # Split each pair by ':' to separate keys and values\n",
    "        key, value = pair.split(':')\n",
    "        # Split the value by '+' to get the list of items\n",
    "        value_list = value.split('+')\n",
    "        # Assign the list to the key in the dictionary\n",
    "        if platform:\n",
    "            result_dict[platform_abbreviation_mapping[key]] = value_list\n",
    "        else:\n",
    "            result_dict[key] = value_list\n",
    "        result_list.extend(value_list)\n",
    "            \n",
    "    if list_format:\n",
    "        return result_list\n",
    "    return result_dict\n",
    "\n",
    "# Function to format each value based on its own decimal places\n",
    "def format_individual_value(x):\n",
    "    if isinstance(x, float):\n",
    "        # Use string formatting to maintain original decimal places\n",
    "        return \"{:f}\".format(x).rstrip('0').rstrip('.')\n",
    "    return x\n",
    "\n",
    "def print_empty_folders(root_dir):\n",
    "    for dirpath, dirname, filenames in os.walk(root_dir):\n",
    "        # Check if both lists of subdirectories and filenames are empty\n",
    "        if not filenames and dirpath != root_dir:\n",
    "            print(f\"Empty folder: {dirpath}\")\n",
    "            \n",
    "def list_directories(folder_path):\n",
    "    # List all subdirectories within the folder\n",
    "    directories = [os.path.join(folder_path, d) for d in os.listdir(\n",
    "        folder_path) if os.path.isdir(os.path.join(folder_path, d))]\n",
    "    return directories\n",
    "\n",
    "def publisher_synonyms_mapping(publishers):\n",
    "    publishers_processed = set()\n",
    "    for publisher in publishers:\n",
    "        if publisher in publisher_synonyms_inverse:\n",
    "            publishers_processed.add(publisher_synonyms_inverse[publisher])\n",
    "        # elif 'Independent Contributor' == publisher:\n",
    "        #     publishers_processed.add(leaderboard)\n",
    "        else:\n",
    "            publishers_processed.add(publisher)\n",
    "    return publishers_processed\n",
    "\n",
    "def keep_rows_by_list_column(df, column_name, keyword_list):\n",
    "    \"\"\"\n",
    "    Filters rows in a DataFrame based on whether all elements in a specified list column are in a given keyword list.\n",
    "    \n",
    "    Parameters:\n",
    "    - df: Pandas DataFrame.\n",
    "    - column_name: The name of the column containing lists of strings.\n",
    "    - keyword_list: A list of keywords to check against.\n",
    "    \n",
    "    Returns:\n",
    "    - A filtered Pandas DataFrame.\n",
    "    \"\"\"\n",
    "    # Convert the keyword list to a set for faster membership testing\n",
    "    keyword_set = set(keyword_list)\n",
    "    \n",
    "    # Define a lambda function to check if all elements of a list are in the keyword_set\n",
    "    all_in_keywords = lambda x: any(element in keyword_set for element in x)\n",
    "    \n",
    "    # Apply the lambda function to the specified column and invert the boolean Series to filter rows\n",
    "    filtered_df = df[df[column_name].apply(all_in_keywords)]\n",
    "    \n",
    "    return filtered_df\n",
    "\n",
    "def filter_rows_by_list_column(df, column_name, keyword_list):\n",
    "    \"\"\"\n",
    "    Filters rows in a DataFrame based on whether all elements in a specified list column are in a given keyword list.\n",
    "    \n",
    "    Parameters:\n",
    "    - df: Pandas DataFrame.\n",
    "    - column_name: The name of the column containing lists of strings.\n",
    "    - keyword_list: A list of keywords to check against.\n",
    "    \n",
    "    Returns:\n",
    "    - A filtered Pandas DataFrame.\n",
    "    \"\"\"\n",
    "    # Convert the keyword list to a set for faster membership testing\n",
    "    keyword_set = set(keyword_list)\n",
    "    \n",
    "    # Define a lambda function to check if all elements of a list are in the keyword_set\n",
    "    all_in_keywords = lambda x: not all(element in keyword_set for element in x)\n",
    "    \n",
    "    # Apply the lambda function to the specified column and invert the boolean Series to filter rows\n",
    "    filtered_df = df[df[column_name].apply(all_in_keywords)]\n",
    "    \n",
    "    return filtered_df"
   ]
  },
  {
   "cell_type": "code",
   "execution_count": 8,
   "metadata": {},
   "outputs": [
    {
     "name": "stdout",
     "output_type": "stream",
     "text": [
      "Script executed successfully.\n"
     ]
    }
   ],
   "source": [
    "import subprocess\n",
    "\n",
    "# Load the environment variables from key.json\n",
    "with open(f'{path_key}/.sourcegraph.json') as f:\n",
    "    env_vars = json.load(f)\n",
    "\n",
    "# Set the environment variables\n",
    "os.environ.update(env_vars)\n",
    "\n",
    "# Execute the shell script and pass path_data as an argument\n",
    "try:\n",
    "    subprocess.run(['sh', f'{path_data}/Dependents_Lookup.sh', path_data], check=True)\n",
    "    print(\"Script executed successfully.\")\n",
    "except subprocess.CalledProcessError as e:\n",
    "    print(f\"Script execution failed with error: {e}\")\n"
   ]
  },
  {
   "cell_type": "code",
   "execution_count": 6,
   "metadata": {},
   "outputs": [
    {
     "name": "stdout",
     "output_type": "stream",
     "text": [
      "199\n",
      "219\n",
      "239\n",
      "259\n",
      "279\n",
      "299\n",
      "319\n",
      "339\n",
      "359\n",
      "379\n",
      "399\n",
      "419\n",
      "439\n",
      "459\n",
      "479\n",
      "499\n",
      "519\n",
      "539\n",
      "559\n",
      "579\n",
      "599\n",
      "619\n",
      "639\n",
      "659\n",
      "679\n",
      "699\n",
      "719\n",
      "739\n",
      "759\n",
      "779\n",
      "799\n",
      "819\n",
      "839\n",
      "859\n",
      "879\n",
      "899\n",
      "919\n",
      "939\n",
      "959\n",
      "979\n",
      "999\n",
      "1019\n",
      "1039\n",
      "1059\n",
      "1079\n",
      "1099\n",
      "1119\n",
      "1139\n",
      "1159\n",
      "1179\n",
      "1199\n",
      "1219\n",
      "1239\n",
      "1259\n",
      "1279\n",
      "1299\n",
      "1319\n",
      "1339\n",
      "1359\n",
      "1379\n",
      "1399\n",
      "1419\n",
      "1439\n",
      "1459\n",
      "1479\n",
      "1499\n",
      "1519\n",
      "1539\n",
      "1559\n",
      "1579\n",
      "1599\n",
      "1619\n",
      "1639\n",
      "1659\n",
      "1679\n",
      "1699\n",
      "1719\n",
      "1739\n",
      "1759\n",
      "1779\n",
      "1799\n",
      "1819\n",
      "1839\n",
      "1859\n",
      "1879\n",
      "1899\n",
      "1919\n",
      "1939\n",
      "1959\n",
      "1979\n",
      "1999\n",
      "2019\n",
      "2039\n",
      "2059\n",
      "2079\n",
      "2099\n",
      "2119\n",
      "2139\n",
      "2159\n",
      "2179\n",
      "2199\n",
      "2219\n",
      "2239\n",
      "2259\n",
      "2279\n",
      "2299\n",
      "2319\n",
      "2339\n",
      "2359\n",
      "2379\n",
      "2399\n",
      "2419\n"
     ]
    }
   ],
   "source": [
    "import json\n",
    "import webbrowser\n",
    "\n",
    "with open(f\"{path_data}/GitHub.json\") as f:\n",
    "    data = json.load(f)\n",
    "\n",
    "for index, repo in enumerate(data[\"Results\"]):\n",
    "    if index <= 179:\n",
    "        continue\n",
    "    webbrowser.open(f'https://{repo[\"name\"]}')\n",
    "    if index % 20 == 19:\n",
    "        print(index)\n",
    "        code = input(\"Press enter key to proceed.\")\n",
    "        if code.lower() == 'esc':\n",
    "            raise KeyboardInterrupt"
   ]
  },
  {
   "cell_type": "code",
   "execution_count": null,
   "metadata": {},
   "outputs": [],
   "source": [
    "github_leaderboard_primary = [\n",
    "    {\n",
    "        'leaderboard': 'https://github.com/ray-project/llmperf-leaderboard',\n",
    "        'reference': ''\n",
    "    },\n",
    "    {\n",
    "        'leaderboard': 'https://github.com/vztu/BVQA_Benchmark',\n",
    "        'reference': 'https://github.com/vztu/RAPIQUE/blob/e637a3d943010940f67ef7b0c19e2f2c81d63b01/README.md?plain=1#L8'\n",
    "    },\n",
    "    {\n",
    "        'leaderboard': 'https://csbench.github.io/#leaderboard',\n",
    "        'reference': ''\n",
    "    },\n",
    "    {\n",
    "        'leaderboard': 'https://crowdbenchmark.com/nwpucrowd.html',\n",
    "        'reference': 'https://github.com/gjy3035/NWPU-Crowd-Sample-Code/blob/fe8e986d23e88f7b9defabbd0b3f6f655803152d/README.md?plain=1#L92'\n",
    "    },\n",
    "    {\n",
    "        'leaderboard': 'https://huggingface.co/spaces/open-llm-leaderboard/open_llm_leaderboard',\n",
    "        'reference': 'https://github.com/Decentralised-AI/falcon-40b/blob/6e61c89591cc7a3328d4010ceaf701dfec03fd18/README.md?plain=1#L183'\n",
    "    },\n",
    "    {\n",
    "        'leaderboard': 'https://paperswithcode.com/sota/instance-segmentation-on-coco',\n",
    "        'reference': 'https://github.com/IDEA-Research/DINO/blob/d84a491d41898b3befd8294d1cf2614661fc0953/README.md?plain=1#L35'\n",
    "    },\n",
    "    {\n",
    "        'leaderboard': 'https://paperswithcode.com/sota/panoptic-segmentation-on-coco-test-dev',\n",
    "        'reference': 'https://github.com/IDEA-Research/DINO/blob/d84a491d41898b3befd8294d1cf2614661fc0953/README.md?plain=1#L35'\n",
    "    },\n",
    "    {\n",
    "        'leaderboard': 'https://paperswithcode.com/sota/semantic-segmentation-on-ade20k',\n",
    "        'reference': 'https://github.com/IDEA-Research/DINO/blob/d84a491d41898b3befd8294d1cf2614661fc0953/README.md?plain=1#L35'\n",
    "    },\n",
    "    {\n",
    "        'leaderboard': 'https://github.com/kaz-Anova/ensemble_amazon',\n",
    "        'reference': ''\n",
    "    },\n",
    "    {\n",
    "        'leaderboard': 'https://github.com/MLBazaar/BTB',\n",
    "        'reference': ''\n",
    "    },\n",
    "    {\n",
    "        'leaderboard': 'https://github.com/Codium-ai/AlphaCodium',\n",
    "        'reference': ''\n",
    "    },\n",
    "    {\n",
    "        'leaderboard': 'https://www.nuscenes.org/object-detection',\n",
    "        'reference': 'https://github.com/VDIGPKU/HENet/blob/main/README.md?plain=1#L13'\n",
    "    },\n",
    "    {\n",
    "        'leaderboard': 'https://huggingface.co/spaces/bigcode/bigcode-models-leaderboard',\n",
    "        'reference': 'https://github.com/continuedev/what-llm-to-use/blob/main/README.md?plain=1#L39'\n",
    "    },\n",
    "    {\n",
    "        'leaderboard': 'https://wilds.stanford.edu/leaderboard',\n",
    "        'reference': 'https://github.com/LFhase/PAIR/blob/main/README.md?plain=1#L19'\n",
    "    },\n",
    "    {\n",
    "        'leaderboard': 'https://huggingface.co/spaces/open-llm-leaderboard/open_llm_leaderboard',\n",
    "        'reference': 'https://github.com/dsdanielpark/open-llm-datasets'\n",
    "    },\n",
    "    {\n",
    "        'leaderboard': 'https://github.com/niais/Awesome-Skeleton-based-Action-Recognition',\n",
    "        'reference': ''\n",
    "    },\n",
    "    {\n",
    "        'leaderboard': 'https://eval.ai/web/challenges/challenge-page/2210/leaderboard',\n",
    "        'reference': 'https://github.com/yanconglin/ICP-Flow/blob/main/README.md?plain=1#L90'\n",
    "    },\n",
    "    {\n",
    "        'leaderboard': 'https://rajpurkar.github.io/SQuAD-explorer',\n",
    "        'reference': 'https://github.com/zihangdai/xlnet/blob/master/README.md?plain=1#L35'\n",
    "    },\n",
    "    {\n",
    "        'leaderboard': 'https://cmedbenchmark.llmzoo.com/static/leaderboard.html',\n",
    "        'reference': 'https://github.com/X-D-Lab/Sunsimiao/blob/master/README.md?plain=1#L82'\n",
    "    },\n",
    "    {\n",
    "        'leaderboard': 'https://ogb.stanford.edu/docs/lsc/leaderboards',\n",
    "        'reference': 'https://github.com/lmqfly/Geometry-Deep-Learning-for-Drug-Discovery/blob/main/README.md?plain=1#L104'\n",
    "    },\n",
    "    {\n",
    "        'leaderboard': 'https://eval.ai/web/challenges/challenge-page/1832/leaderboard',\n",
    "        'reference': 'https://github.com/goel-shashank/CyCLIP/blob/main/README.md?plain=1#L82'\n",
    "    },\n",
    "    {\n",
    "        'leaderboard': 'https://www.cvlibs.net/datasets/kitti/eval_object.php',\n",
    "        'reference': 'https://github.com/fregu856/3DOD_thesis/blob/master/README.md?plain=1#L616'\n",
    "    },\n",
    "    {\n",
    "        'leaderboard': 'https://huggingface.co/spaces/open-llm-leaderboard/open_llm_leaderboard',\n",
    "        'reference': 'https://github.com/ryoungj/ObsScaling/blob/main/README.md?plain=1#L19'\n",
    "    },\n",
    "    {\n",
    "        'leaderboard': 'https://huggingface.co/spaces/open-llm-leaderboard/open_llm_leaderboard',\n",
    "        'reference': 'https://github.com/adithya-s-k/indic_eval/blob/main/README.md?plain=1#L544'\n",
    "    },\n",
    "    {\n",
    "        'leaderboard': 'https://huggingface.co/spaces/Cognitive-Lab/indic_llm_leaderboard',\n",
    "        'reference': 'https://github.com/adithya-s-k/indic_eval/blob/main/README.md?plain=1#L12'\n",
    "    },\n",
    "    {\n",
    "        'leaderboard': 'https://huggingface.co/spaces/open-llm-leaderboard/open_llm_leaderboard',\n",
    "        'reference': 'https://github.com/arjunbansal/awesome-oss-llm-ift-rlhf/blob/main/README.md?plain=1#L51'\n",
    "    },\n",
    "    {\n",
    "        'leaderboard': 'https://huggingface.co/spaces/lmsys/chatbot-arena-leaderboard',\n",
    "        'reference': 'https://github.com/arjunbansal/awesome-oss-llm-ift-rlhf/blob/main/README.md?plain=1#L52'\n",
    "    },\n",
    "    {\n",
    "        'leaderboard': 'https://orionlab.space.noa.gr/mesogeos',\n",
    "        'reference': 'https://github.com/Orion-AI-Lab/mesogeos/blob/main/README.md?plain=1#L161'\n",
    "    },\n",
    "    {\n",
    "        'leaderboard': 'https://www.kaggle.com/c/allstate-claims-severity/leaderboard',\n",
    "        'reference': 'https://github.com/adornes/spark_python_ml_examples/blob/master/README.md?plain=1#L262'\n",
    "    },\n",
    "    {\n",
    "        'leaderboard': 'https://github.com/salesforce/WikiSQL',\n",
    "        'reference': ''\n",
    "    },\n",
    "    {\n",
    "        'leaderboard': 'https://codalab.lisn.upsaclay.fr/competitions/17640',\n",
    "        'reference': 'https://github.com/caiyuanhao1998/Retinexformer/blob/master/README.md?plain=1#L111'\n",
    "    },\n",
    "    {\n",
    "        'leaderboard': 'https://eval.ai/web/challenges/challenge-page/356/leaderboard',\n",
    "        'reference': 'https://github.com/MCG-NJU/SparseBEV/blob/main/README.md?plain=1#L22'\n",
    "    },\n",
    "    {\n",
    "        'leaderboard': 'https://github.com/longvideobench/LongVideoBench',\n",
    "        'reference': ''\n",
    "    },\n",
    "    {\n",
    "        'leaderboard': 'https://github.com/crowdAI/crowdai-musical-genre-recognition-starter-kit',\n",
    "        'reference': ''\n",
    "    },\n",
    "    {\n",
    "        'leaderboard': 'https://huggingface.co/spaces/open-llm-leaderboard/open_llm_leaderboard',\n",
    "        'reference': 'https://github.com/yule-BUAA/MergeLM/blob/main/README.md?plain=1#L16'\n",
    "    },\n",
    "    {\n",
    "        'leaderboard': 'https://github.com/DetectionTeamUCAS/RRPN_Faster-RCNN_Tensorflow',\n",
    "        'reference': ''\n",
    "    },\n",
    "    {\n",
    "        'leaderboard': 'https://github.com/OpenGVLab/MM-NIAH',\n",
    "        'reference': ''\n",
    "    },\n",
    "    {\n",
    "        'leaderboard': 'https://leaderboard.allenai.org/nycc-matching',\n",
    "        'reference': 'https://github.com/jmhessel/caption_contest_corpus/blob/main/README.md?plain=1#L109'\n",
    "    },\n",
    "    {\n",
    "        'leaderboard': 'https://microsoft.github.io/MSMARCO-Passage-Ranking-Submissions/leaderboard',\n",
    "        'reference': 'https://github.com/AlibabaResearch/HLATR/blob/main/readme.md?plain=1#L12'\n",
    "    },\n",
    "    {\n",
    "        'leaderboard': 'https://dki-lab.github.io/GrailQA',\n",
    "        'reference': 'https://github.com/dki-lab/GrailQA/blob/main/README.md?plain=1#L11'\n",
    "    },\n",
    "    {\n",
    "        'leaderboard': 'https://tatsu-lab.github.io/alpaca_eval',\n",
    "        'reference': 'https://github.com/mengdi-li/awesome-RLAIF/blob/main/README.md?plain=1#L59'\n",
    "    },\n",
    "    {\n",
    "        'leaderboard': 'https://github.com/SilongYong/SQA3D',\n",
    "        'reference': ''\n",
    "    },\n",
    "    {\n",
    "        'leaderboard': 'http://host.robots.ox.ac.uk:8080/leaderboard/displaylb.php?challengeid=11&compid=6',\n",
    "        'reference': 'https://github.com/kjw0612/awesome-deep-vision/blob/master/README.md?plain=1#L171'\n",
    "    },\n",
    "    {\n",
    "        'leaderboard': 'https://github.com/cathyxl/MAgIC',\n",
    "        'reference': ''\n",
    "    },\n",
    "    {\n",
    "        'leaderboard': 'https://github.com/JasonForJoy/Leaderboards-for-Multi-Turn-Response-Selection',\n",
    "        'reference': ''\n",
    "    },\n",
    "    {\n",
    "        'leaderboard': 'https://github.com/openai/gym/wiki/Leaderboard',\n",
    "        'reference': 'https://github.com/pat-coady/trpo/blob/master/README.md?plain=1#L9'\n",
    "    },\n",
    "    {\n",
    "        'leaderboard': 'https://paperswithcode.com/dataset/pascalvoc-sp',\n",
    "        'reference': 'https://github.com/vijaydwivedi75/lrgb/blob/main/README.md?plain=1#L111'\n",
    "    },\n",
    "    {\n",
    "        'leaderboard': 'http://host.robots.ox.ac.uk:8080/leaderboard/displaylb.php?challengeid=11&compid=3',\n",
    "        'reference': 'https://github.com/SHI-Labs/GFR-DSOD/blob/master/README.md?plain=1#L6'\n",
    "    },\n",
    "    {\n",
    "        'leaderboard': 'https://github.com/OpenMOSS/HalluQA',\n",
    "        'reference': ''\n",
    "    },\n",
    "    {\n",
    "        'leaderboard': 'https://huggingface.co/spaces/open-llm-leaderboard/open_llm_leaderboard',\n",
    "        'reference': 'https://github.com/Spico197/Humback/blob/main/README.md?plain=1#L122'\n",
    "    },\n",
    "    {\n",
    "        'leaderboard': 'https://lmarena.ai',\n",
    "        'reference': 'https://github.com/ikaijua/Awesome-AITools/blob/main/README.md?plain=1#L109'\n",
    "    },\n",
    "    {\n",
    "        'leaderboard': 'https://artificialanalysis.ai/leaderboards/models',\n",
    "        'reference': 'https://github.com/ikaijua/Awesome-AITools/blob/main/README.md?plain=1#L110'\n",
    "    },\n",
    "    {\n",
    "        'leaderboard': 'https://artificialanalysis.ai/leaderboards/providers',\n",
    "        'reference': 'https://github.com/ikaijua/Awesome-AITools/blob/main/README.md?plain=1#L110'\n",
    "    },\n",
    "    {\n",
    "        'leaderboard': 'https://artificialanalysis.ai/text-to-image',\n",
    "        'reference': 'https://github.com/ikaijua/Awesome-AITools/blob/main/README.md?plain=1#L110'\n",
    "    },\n",
    "    {\n",
    "        'leaderboard': 'https://artificialanalysis.ai/speech-to-text',\n",
    "        'reference': 'https://github.com/ikaijua/Awesome-AITools/blob/main/README.md?plain=1#L110'\n",
    "    },\n",
    "    {\n",
    "        'leaderboard': 'https://artificialanalysis.ai/text-to-speech',\n",
    "        'reference': 'https://github.com/ikaijua/Awesome-AITools/blob/main/README.md?plain=1#L110'\n",
    "    },\n",
    "    {\n",
    "        'leaderboard': 'https://mcgill-nlp.github.io/bias-bench',\n",
    "        'reference': 'https://github.com/McGill-NLP/bias-bench/blob/main/README.md?plain=1#L9'\n",
    "    },\n",
    "    {\n",
    "        'leaderboard': 'https://paperswithcode.com/sota/visual-question-answering-on-mm-vet',\n",
    "        'reference': 'https://github.com/yuweihao/MM-Vet/blob/main/README.md?plain=1#L30'\n",
    "    },\n",
    "    {\n",
    "        'leaderboard': 'https://github.com/THUDM/AgentBench',\n",
    "        'reference': ''\n",
    "    },\n",
    "    {\n",
    "        'leaderboard': 'https://leaderboard.allenai.org/winogrande',\n",
    "        'reference': 'https://github.com/allenai/winogrande/blob/master/README.md?plain=1#L21'\n",
    "    },\n",
    "    {\n",
    "        'leaderboard': 'https://tatsu-lab.github.io/alpaca_eval',\n",
    "        'reference': 'https://github.com/tianyi-lab/Reflection_Tuning/blob/main/README.md?plain=1#L203'\n",
    "    },\n",
    "    {\n",
    "        'leaderboard': 'https://huggingface.co/spaces/open-llm-leaderboard/open_llm_leaderboard',\n",
    "        'reference': 'https://github.com/tianyi-lab/Reflection_Tuning/blob/main/README.md?plain=1#L203'\n",
    "    },\n",
    "    {\n",
    "        'leaderboard': 'https://huggingface.co/spaces/open-llm-leaderboard/open_llm_leaderboard',\n",
    "        'reference': 'https://github.com/tianyi-lab/Reflection_Tuning/blob/main/README.md?plain=1#L203'\n",
    "    },\n",
    "    {\n",
    "        'leaderboard': 'https://dynabench.org/tasks',\n",
    "        'reference': 'https://github.com/eugenesiow/practical-ml/blob/master/README.md?plain=1#L78'\n",
    "    },\n",
    "    {\n",
    "        'leaderboard': 'https://codalab.lisn.upsaclay.fr/competitions/9304',\n",
    "        'reference': 'https://github.com/huzeyann/MemoryEncodingModel/blob/main/README.md?plain=1#L15'\n",
    "    },\n",
    "    {\n",
    "        'leaderboard': 'https://box.vicos.si/borja/viamaro/index.html#leaderboard',\n",
    "        'reference': 'https://github.com/bborja/modd/blob/master/README.md?plain=1#L150'\n",
    "    },\n",
    "    {\n",
    "        'leaderboard': 'https://www.kaggle.com/c/ntut-ml-2018-computer-vision/leaderboard',\n",
    "        'reference': 'https://github.com/hsuRush/DeepANPR/blob/master/README.md?plain=1#L2'\n",
    "    },\n",
    "    {\n",
    "        'leaderboard': 'https://github.com/XuanwuAI/SecEval',\n",
    "        'reference': ''\n",
    "    },\n",
    "    {\n",
    "        'leaderboard': 'https://few-shot.yyliu.net/miniimagenet.html',\n",
    "        'reference': 'https://github.com/indussky8/awesome-few-shot-learning/blob/main/README.md?plain=1#L279'\n",
    "    },\n",
    "    {\n",
    "        'leaderboard': 'https://github.com/iarai/NeurIPS2022-traffic4cast',\n",
    "        'reference': ''\n",
    "    },\n",
    "    {\n",
    "        'leaderboard': 'https://github.com/cvgroup-njust/CityPersons',\n",
    "        'reference': ''\n",
    "    },\n",
    "    {\n",
    "        'leaderboard': 'https://ymcui.com/cmrc2019',\n",
    "        'reference': 'https://github.com/ymcui/cmrc2019/blob/master/README.md?plain=1#L22'\n",
    "    },\n",
    "    {\n",
    "        'leaderboard': 'https://www.kaggle.com/c/fungi-challenge-fgvc-2018/leaderboard',\n",
    "        'reference': 'https://github.com/visipedia/fgvcx_fungi_comp/blob/master/README.md?plain=1#L10'\n",
    "    },\n",
    "    {\n",
    "        'leaderboard': 'https://eval.ai/web/challenges/challenge-page/1091/leaderboard',\n",
    "        'reference': 'https://github.com/Raldir/FEVEROUS/blob/main/README.md?plain=1#L171'\n",
    "    },\n",
    "    {\n",
    "        'leaderboard': 'https://rajpurkar.github.io/SQuAD-explorer',\n",
    "        'reference': 'https://github.com/google-research/bert/blob/master/README.md?plain=1#L194'\n",
    "    },\n",
    "    {\n",
    "        'leaderboard': 'https://www.kaggle.com/c/siim-isic-melanoma-classification/leaderboard',\n",
    "        'reference': 'https://github.com/haqishen/SIIM-ISIC-Melanoma-Classification-1st-Place-Solution/blob/master/README.md?plain=1#L3'\n",
    "    },\n",
    "    {\n",
    "        'leaderboard': 'https://cocodataset.org/#stuff-leaderboard',\n",
    "        'reference': 'https://github.com/nightrome/cocostuff/blob/master/README.md?plain=1#L102'\n",
    "    },\n",
    "    {\n",
    "        'leaderboard': 'https://huggingface.co/spaces/open-llm-leaderboard/open_llm_leaderboard',\n",
    "        'reference': 'https://github.com/WeOpenML/PandaLM/blob/main/README.md?plain=1#L52'\n",
    "    },\n",
    "    {\n",
    "        'leaderboard': 'https://github.com/tianyi-lab/HallusionBench',\n",
    "        'reference': ''\n",
    "    },\n",
    "    {\n",
    "        'leaderboard': 'https://huggingface.co/spaces/open-llm-leaderboard/open_llm_leaderboard',\n",
    "        'reference': 'https://github.com/uclaml/SPIN/blob/main/README.md?plain=1#L247'\n",
    "    },\n",
    "    {\n",
    "        'leaderboard': 'https://github.com/mlfoundations/dclm',\n",
    "        'reference': ''\n",
    "    },\n",
    "    {\n",
    "        'leaderboard': 'https://www.boreas.utias.utoronto.ca/#/leaderboard',\n",
    "        'reference': 'https://github.com/utiasASRL/hero_radar_odometry/blob/master/README.md?plain=1#L7'\n",
    "    },\n",
    "    {\n",
    "        'leaderboard': 'https://codalab.lisn.upsaclay.fr/competitions/880',\n",
    "        'reference': 'https://github.com/isaaccorley/dfc2022-baseline/blob/master/README.md?plain=1#L34'\n",
    "    },\n",
    "    {\n",
    "        'leaderboard': 'https://haitianliu22.github.io/code-scope-benchmark/leaderboard.html',\n",
    "        'reference': 'https://github.com/WeixiangYAN/CodeScope/blob/main/README.md?plain=1#L6'\n",
    "    },\n",
    "    {\n",
    "        'leaderboard': 'https://github.com/databricks/databricks-ml-examples',\n",
    "        'reference': ''\n",
    "    },\n",
    "    {\n",
    "        'leaderboard': 'https://github.com/OpenBMB/OlympiadBench',\n",
    "        'reference': ''\n",
    "    },\n",
    "    {\n",
    "        'leaderboard': 'https://github.com/AIR-Bench/AIR-Bench',\n",
    "        'reference': ''\n",
    "    },\n",
    "    {\n",
    "        'leaderboard': 'https://github.com/decis-bench/febench',\n",
    "        'reference': ''\n",
    "    },\n",
    "    {\n",
    "        'leaderboard': 'https://github.com/decis-bench/febench',\n",
    "        'reference': ''\n",
    "    },\n",
    "    {\n",
    "        'leaderboard': 'https://www.cvlibs.net/datasets/kitti/eval_object.php',\n",
    "        'reference': 'https://github.com/dashidhy/awesome-point-cloud-deep-learning/blob/master/README.md?plain=1#L60'\n",
    "    },\n",
    "    {\n",
    "        'leaderboard': 'https://www.nuscenes.org/object-detection',\n",
    "        'reference': 'https://github.com/dashidhy/awesome-point-cloud-deep-learning/blob/master/README.md?plain=1#L61'\n",
    "    },\n",
    "    {\n",
    "        'leaderboard': 'https://github.com/DetectionTeamUCAS/R2CNN-Plus-Plus_Tensorflow',\n",
    "        'reference': ''\n",
    "    },\n",
    "    {\n",
    "        'leaderboard': 'https://github.com/diffbot/knowledge-net',\n",
    "        'reference': ''\n",
    "    },\n",
    "    {\n",
    "        'leaderboard': 'https://huggingface.co/spaces/open-llm-leaderboard/open_llm_leaderboard',\n",
    "        'reference': 'https://github.com/mlabonne/llm-course/blob/main/README.md?plain=1#L254'\n",
    "    },\n",
    "    {\n",
    "        'leaderboard': 'https://huggingface.co/spaces/lmsys/chatbot-arena-leaderboard',\n",
    "        'reference': 'https://github.com/mlabonne/llm-course/blob/main/README.md?plain=1#L262'\n",
    "    },\n",
    "    {\n",
    "        'leaderboard': 'https://huggingface.co/spaces/open-llm-leaderboard/open_llm_leaderboard',\n",
    "        'reference': 'https://github.com/argilla-io/notus/blob/main/README.md?plain=1#L10'\n",
    "    },\n",
    "    {\n",
    "        'leaderboard': 'https://kgqa.github.io/leaderboard',\n",
    "        'reference': 'https://github.com/KGQA/leaderboard'\n",
    "    },\n",
    "    {\n",
    "        'leaderboard': 'https://github.com/open-compass/T-Eval',\n",
    "        'reference': ''\n",
    "    },\n",
    "    {\n",
    "        'leaderboard': 'https://github.com/KevinLiao159/Quora',\n",
    "        'reference': ''\n",
    "    },\n",
    "    {\n",
    "        'leaderboard': 'https://github.com/inspire-group/patch-defense-leaderboard',\n",
    "        'reference': 'https://github.com/inspire-group/adv-patch-paper-list/blob/main/README.md?plain=1#L7'\n",
    "    },\n",
    "    {\n",
    "        'leaderboard': 'https://github.com/dynamic-superb/dynamic-superb',\n",
    "        'reference': ''\n",
    "    },\n",
    "    {\n",
    "        'leaderboard': 'https://github.com/yizhen20133868/Awesome-TOD-NLG-Survey',\n",
    "        'reference': ''\n",
    "    },\n",
    "    {\n",
    "        'leaderboard': 'https://github.com/oshizo/japanese-llm-roleplay-benchmark',\n",
    "        'reference': ''\n",
    "    },\n",
    "    {\n",
    "        'leaderboard': 'https://waymo.com/open/challenges/2023/motion-prediction',\n",
    "        'reference': 'https://github.com/zhejz/TrafficBots/blob/main/README.md?plain=1#L51'\n",
    "    },\n",
    "    {\n",
    "        'leaderboard': 'https://paperswithcode.com/dataset/burst',\n",
    "        'reference': 'https://github.com/Ali2500/BURST-benchmark/blob/main/README.md?plain=1#L112'\n",
    "    },\n",
    "    {\n",
    "        'leaderboard': 'https://paperswithcode.com/sota/video-super-resolution-on-vid4-4x-upscaling',\n",
    "        'reference': 'https://github.com/amanchadha/iSeeBetter/blob/master/README.md?plain=1#L19'\n",
    "    },\n",
    "    {\n",
    "        'leaderboard': 'https://github.com/princeton-nlp/LM-Science-Tutor',\n",
    "        'reference': ''\n",
    "    },\n",
    "    {\n",
    "        'leaderboard': 'https://gluebenchmark.com/leaderboard',\n",
    "        'reference': 'https://github.com/mwaskom/seaborn-data/blob/master/README.md?plain=1#L26'\n",
    "    },\n",
    "    {\n",
    "        'leaderboard': 'https://lmarena.ai',\n",
    "        'reference': 'https://github.com/lm-sys/FastChat/blob/main/README.md?plain=1#L6'\n",
    "    },\n",
    "    {\n",
    "        'leaderboard': 'https://github.com/google-research/meta-dataset',\n",
    "        'reference': ''\n",
    "    },\n",
    "    {\n",
    "        'leaderboard': 'https://stanfordmlgroup.github.io/competitions/chexpert',\n",
    "        'reference': 'https://github.com/stanfordmlgroup/MoCo-CXR/blob/main/README.md?plain=1#L71'\n",
    "    },\n",
    "    {\n",
    "        'leaderboard': 'https://paperswithcode.com/sota/relation-extraction-on-redocred',\n",
    "        'reference': 'https://github.com/tonytan48/KD-DocRE/blob/main/README.md?plain=1#L8'\n",
    "    },\n",
    "    {\n",
    "        'leaderboard': 'https://eval.ai/web/challenges/challenge-page/1881/leaderboard',\n",
    "        'reference': 'https://github.com/project-miracl/miracl/blob/main/README.md?plain=1#L23'\n",
    "    },\n",
    "    {\n",
    "        'leaderboard': 'https://fudanselab-classeval.github.io/leaderboard.html',\n",
    "        'reference': 'https://github.com/FudanSELab/ClassEval/blob/master/README.md?plain=1#L5'\n",
    "    },\n",
    "    {\n",
    "        'leaderboard': 'http://noisylabels.com',\n",
    "        'reference': 'https://github.com/weijiaheng/Advances-in-Label-Noise-Learning/blob/main/README.md?plain=1#L63'\n",
    "    },\n",
    "    {\n",
    "        'leaderboard': 'https://paperswithcode.com/dataset/animal',\n",
    "        'reference': 'https://github.com/weijiaheng/Advances-in-Label-Noise-Learning/blob/main/README.md?plain=1#L67'\n",
    "    },\n",
    "    {\n",
    "        'leaderboard': 'https://paperswithcode.com/dataset/clothing1m',\n",
    "        'reference': 'https://github.com/weijiaheng/Advances-in-Label-Noise-Learning/blob/main/README.md?plain=1#L69'\n",
    "    },\n",
    "    {\n",
    "        'leaderboard': 'https://yale-lily.github.io/sparc',\n",
    "        'reference': 'https://github.com/taoyds/sparc/blob/master/README.md?plain=1#L3'\n",
    "    },\n",
    "    {\n",
    "        'leaderboard': 'https://paperswithcode.com/sota/machine-translation-on-wmt2014-german-english',\n",
    "        'reference': 'https://github.com/joeynmt/joeynmt/blob/main/README.md?plain=1#L280'\n",
    "    },\n",
    "    {\n",
    "        'leaderboard': 'https://github.com/hendrycks/robustness',\n",
    "        'reference': ''\n",
    "    },\n",
    "    {\n",
    "        'leaderboard': 'https://github.com/huguyuehuhu/Awesome-Group-Activity-Recognition',\n",
    "        'reference': ''\n",
    "    },\n",
    "    {\n",
    "        'leaderboard': 'https://mmcheng.net/videosal',\n",
    "        'reference': 'https://github.com/MichiganCOG/TASED-Net/blob/master/README.md?plain=1#L7'\n",
    "    },\n",
    "    {\n",
    "        'leaderboard': 'https://pmc-patients.github.io',\n",
    "        'reference': 'https://github.com/pmc-patients/pmc-patients/blob/main/README.md?plain=1#L104'\n",
    "    },\n",
    "    {\n",
    "        'leaderboard': 'https://github.com/Xiangyu-CAS/AICity2020-VOC-ReID',\n",
    "        'reference': ''\n",
    "    },\n",
    "    {\n",
    "        'leaderboard': 'https://agora-evaluation.is.tuebingen.mpg.de',\n",
    "        'reference': 'https://github.com/IDEA-Research/OSX/blob/main/README.md?plain=1#L41'\n",
    "    },\n",
    "    {\n",
    "        'leaderboard': 'https://paperswithcode.com/sota/robust-camera-only-3d-object-detection-on',\n",
    "        'reference': 'https://github.com/Daniel-xsy/RoboBEV/blob/master/README.md?plain=1#L90'\n",
    "    },\n",
    "    {\n",
    "        'leaderboard': 'https://waymo.com/open/challenges',\n",
    "        'reference': 'https://github.com/Nightmare-n/GD-MAE/blob/main/README.md?plain=1#L12'\n",
    "    },\n",
    "    {\n",
    "        'leaderboard': 'https://github.com/GAIR-NLP/auto-j',\n",
    "        'reference': ''\n",
    "    },\n",
    "    {\n",
    "        'leaderboard': 'https://zjysteven.github.io/OpenOOD/#leaderboard',\n",
    "        'reference': 'https://github.com/Jingkang50/OpenOOD/blob/main/README.md?plain=1#L57'\n",
    "    },\n",
    "    {\n",
    "        'leaderboard': 'https://webots.cloud/competition',\n",
    "        'reference': 'https://github.com/cyberbotics/wrestling/blob/main/README.md?plain=1#L79'\n",
    "    },\n",
    "    {\n",
    "        'leaderboard': 'https://github.com/TellinaTool/nl2bash',\n",
    "        'reference': ''\n",
    "    },\n",
    "    {\n",
    "        'leaderboard': 'https://paperswithcode.com/sota',\n",
    "        'reference': 'https://github.com/paperswithcode/releasing-research-code/blob/master/README.md?plain=1#L94'\n",
    "    },\n",
    "    {\n",
    "        'leaderboard': 'https://eval.ai/web/challenges/list',\n",
    "        'reference': 'https://github.com/paperswithcode/releasing-research-code/blob/master/README.md?plain=1#L96'\n",
    "    },\n",
    "    {\n",
    "        'leaderboard': 'https://nlpprogress.com',\n",
    "        'reference': 'https://github.com/paperswithcode/releasing-research-code/blob/master/README.md?plain=1#L97'\n",
    "    },\n",
    "    {\n",
    "        'leaderboard': 'https://github.com/SUFE-AIFLM-Lab/FinEval',\n",
    "        'reference': ''\n",
    "    },\n",
    "    {\n",
    "        'leaderboard': 'https://github.com/FuxiaoLiu/LRV-Instruction',\n",
    "        'reference': ''\n",
    "    },\n",
    "    {\n",
    "        'leaderboard': 'https://scandeval.com',\n",
    "        'reference': 'https://github.com/BramVanroy/fietje-2/blob/main/README.md?plain=1#L32'\n",
    "    },\n",
    "    {\n",
    "        'leaderboard': 'https://github.com/JasonForJoy/Leaderboards-for-Multi-Turn-Response-Selection',\n",
    "        'reference': 'https://github.com/chauff/conversationalIR/blob/master/README.md?plain=1#L75'\n",
    "    },\n",
    "    {\n",
    "        'leaderboard': 'https://paperswithcode.com/task/conversational-response-selection',\n",
    "        'reference': 'https://github.com/chauff/conversationalIR/blob/master/README.md?plain=1#L77'\n",
    "    },\n",
    "    {\n",
    "        'leaderboard': 'https://multi-trust.github.io/#leaderboard',\n",
    "        'reference': 'https://github.com/thu-ml/MMTrustEval/blob/main/README.md?plain=1#L11'\n",
    "    },\n",
    "    {\n",
    "        'leaderboard': 'https://www.cluebenchmarks.com/nli.html',\n",
    "        'reference': 'https://github.com/CLUEbenchmark/OCNLI/blob/main/README.md?plain=1#L59'\n",
    "    },\n",
    "    {\n",
    "        'leaderboard': 'https://github.com/princeton-nlp/CharXiv',\n",
    "        'reference': ''\n",
    "    },\n",
    "    {\n",
    "        'leaderboard': 'https://huggingface.co/spaces/TIGER-Lab/LongICL-Leaderboard',\n",
    "        'reference': 'https://github.com/TIGER-AI-Lab/LongICLBench/blob/main/README.md?plain=1#L6'\n",
    "    },\n",
    "    {\n",
    "        'leaderboard': 'https://github.com/CLUEbenchmark/CLUE',\n",
    "        'reference': 'https://github.com/shibing624/pytextclassifier/blob/master/README.md?plain=1#L549'\n",
    "    },\n",
    "    {\n",
    "        'leaderboard': 'https://leaderboard.allenai.org/drop',\n",
    "        'reference': 'https://github.com/llamazing/numnet_plus/blob/master/README.md?plain=1#L3'\n",
    "    },\n",
    "    {\n",
    "        'leaderboard': 'https://huggingface.co/spaces/open-llm-leaderboard/open_llm_leaderboard',\n",
    "        'reference': 'https://github.com/MLGroupJLU/LLM-eval-survey/blob/main/README.md?plain=1#L343'\n",
    "    },\n",
    "    {\n",
    "        'leaderboard': 'https://agora-evaluation.is.tuebingen.mpg.de',\n",
    "        'reference': 'https://github.com/ttxskk/AiOS/blob/main/README.md?plain=1#L288'\n",
    "    },\n",
    "    {\n",
    "        'leaderboard': 'https://www.nuscenes.org/object-detection',\n",
    "        'reference': 'https://github.com/HorizonRobotics/Sparse4D/blob/main/README.md?plain=1#L59'\n",
    "    },\n",
    "    {\n",
    "        'leaderboard': 'https://eval.ai/web/challenges/challenge-page/163/leaderboard',\n",
    "        'reference': 'https://github.com/airsplay/lxmert/blob/master/README.md?plain=1#L132'\n",
    "    },\n",
    "    {\n",
    "        'leaderboard': 'https://eval.ai/web/challenges/challenge-page/225/leaderboard',\n",
    "        'reference': 'https://github.com/airsplay/lxmert/blob/master/README.md?plain=1#L216'\n",
    "    },\n",
    "    {\n",
    "        'leaderboard': 'https://eval.ai/web/challenges/challenge-page/225/leaderboard',\n",
    "        'reference': 'https://github.com/airsplay/lxmert/blob/master/README.md?plain=1#L216'\n",
    "    },\n",
    "    {\n",
    "        'leaderboard': 'https://lil.nlp.cornell.edu/nlvr',\n",
    "        'reference': 'https://github.com/airsplay/lxmert/blob/master/README.md?plain=1#L271'\n",
    "    },\n",
    "    {\n",
    "        'leaderboard': 'https://evalplus.github.io/leaderboard.html',\n",
    "        'reference': 'https://github.com/ise-uiuc/magicoder/blob/main/README.md?plain=1#L38'\n",
    "    },\n",
    "    {\n",
    "        'leaderboard': 'https://huggingface.co/spaces/mteb/leaderboard',\n",
    "        'reference': 'https://github.com/qdrant/fastembed/blob/main/README.md?plain=1#L5'\n",
    "    },\n",
    "    {\n",
    "        'leaderboard': 'https://leaderboard.tabbyml.com',\n",
    "        'reference': 'https://github.com/deepseek-ai/awesome-deepseek-coder/blob/main/README.md?plain=1#L49'\n",
    "    },\n",
    "    {\n",
    "        'leaderboard': 'https://huggingface.co/spaces/open-llm-leaderboard/open_llm_leaderboard',\n",
    "        'reference': 'https://github.com/merveenoyan/awesome-osml-for-devs/blob/main/README.md?plain=1#L130'\n",
    "    },\n",
    "    {\n",
    "        'leaderboard': 'https://mixeval.github.io/#leaderboard',\n",
    "        'reference': 'https://github.com/Psycoy/MixEval/blob/main/README.md?plain=1#L4'\n",
    "    },\n",
    "    {\n",
    "        'leaderboard': 'https://github.com/BAAI-DCAI/Multimodal-Robustness-Benchmark',\n",
    "        'reference': ''\n",
    "    },\n",
    "    {\n",
    "        'leaderboard': 'https://vlue-benchmark.github.io/leaderboard.html',\n",
    "        'reference': 'https://github.com/MichaelZhouwang/VLUE/blob/main/README.md?plain=1#L6'\n",
    "    },\n",
    "    {\n",
    "        'leaderboard': 'https://www.nuscenes.org/object-detection',\n",
    "        'reference': 'https://github.com/hht1996ok/EA-LSS/blob/main/README.md?plain=1#L6'\n",
    "    },\n",
    "    {\n",
    "        'leaderboard': 'https://github.com/ZaloAI-Jaist/VMLU',\n",
    "        'reference': ''\n",
    "    },\n",
    "    {\n",
    "        'leaderboard': 'https://github.com/hkust-nlp/ceval',\n",
    "        'reference': 'https://github.com/NicholasCao/Awesome-Chinese-ChatGPT/blob/main/README.md?plain=1#L24'\n",
    "    },\n",
    "    {\n",
    "        'leaderboard': 'https://lmarena.ai',\n",
    "        'reference': 'https://github.com/NicholasCao/Awesome-Chinese-ChatGPT/blob/main/README.md?plain=1#L25'\n",
    "    },\n",
    "    {\n",
    "        'leaderboard': 'https://www.superclueai.com',\n",
    "        'reference': 'https://github.com/NicholasCao/Awesome-Chinese-ChatGPT/blob/main/README.md?plain=1#L26'\n",
    "    },\n",
    "    {\n",
    "        'leaderboard': 'https://huggingface.co/spaces/open-llm-leaderboard/open_llm_leaderboard',\n",
    "        'reference': 'https://github.com/NicholasCao/Awesome-Chinese-ChatGPT/blob/main/README.md?plain=1#L27'\n",
    "    },\n",
    "    {\n",
    "        'leaderboard': 'https://github.com/wangxw5/wikiDiverse',\n",
    "        'reference': ''\n",
    "    },\n",
    "    {\n",
    "        'leaderboard': 'https://csgaobb.github.io/Projects/mscoco-fsod.html',\n",
    "        'reference': 'https://github.com/gaobb/Few-Shot-Object-Detection-Papers/blob/master/README.md?plain=1#L7'\n",
    "    },\n",
    "    {\n",
    "        'leaderboard': 'https://csgaobb.github.io/Projects/pascalvoc-fsod.html',\n",
    "        'reference': 'https://github.com/gaobb/Few-Shot-Object-Detection-Papers/blob/master/README.md?plain=1#L7'\n",
    "    },\n",
    "    {\n",
    "        'leaderboard': 'https://superbbenchmark.org/leaderboard',\n",
    "        'reference': 'https://github.com/sungnyun/ARMHuBERT/blob/master/README.md?plain=1#L26'\n",
    "    },\n",
    "    {\n",
    "        'leaderboard': 'https://github.com/THUDM/LongBench',\n",
    "        'reference': 'https://github.com/DAMO-NLP-SG/CLEX/blob/main/README.md?plain=1#L162'\n",
    "    },\n",
    "    {\n",
    "        'leaderboard': 'https://huggingface.co/spaces/lmsys/chatbot-arena-leaderboard',\n",
    "        'reference': 'https://github.com/leobeeson/llm_benchmarks/blob/master/README.md?plain=1#L316'\n",
    "    },\n",
    "    {\n",
    "        'leaderboard': 'https://huggingface.co/spaces/open-llm-leaderboard/open_llm_leaderboard',\n",
    "        'reference': 'https://github.com/leobeeson/llm_benchmarks/blob/master/README.md?plain=1#L348'\n",
    "    },\n",
    "    {\n",
    "        'leaderboard': 'https://huggingface.co/spaces/open-llm-leaderboard/open_llm_leaderboard',\n",
    "        'reference': 'https://github.com/leobeeson/llm_benchmarks/blob/master/README.md?plain=1#L348'\n",
    "    },\n",
    "    {\n",
    "        'leaderboard': 'https://paperswithcode.com/sota/long-context-understanding-on-mmneedle',\n",
    "        'reference': 'https://github.com/Wang-ML-Lab/multimodal-needle-in-a-haystack/blob/main/README.md?plain=1#L14'\n",
    "    },\n",
    "    {\n",
    "        'leaderboard': 'https://paperswithcode.com/sota/unsupervised-domain-adaptation-on-ucf-hmdb',\n",
    "        'reference': 'https://github.com/ldkong1205/TranSVAE/blob/main/README.md?plain=1#L67'\n",
    "    },\n",
    "    {\n",
    "        'leaderboard': 'https://paperswithcode.com/sota/unsupervised-domain-adaptation-on-jester',\n",
    "        'reference': 'https://github.com/ldkong1205/TranSVAE/blob/main/README.md?plain=1#L67'\n",
    "    },\n",
    "    {\n",
    "        'leaderboard': 'https://paperswithcode.com/sota/unsupervised-domain-adaptation-on-epic',\n",
    "        'reference': 'https://github.com/ldkong1205/TranSVAE/blob/main/README.md?plain=1#L67'\n",
    "    },\n",
    "    {\n",
    "        'leaderboard': 'https://huggingface.co/spaces/open-llm-leaderboard/open_llm_leaderboard',\n",
    "        'reference': 'https://github.com/chenking2020/FindTheChatGPTer/blob/main/README.md?plain=1#L539'\n",
    "    },\n",
    "    {\n",
    "        'leaderboard': 'https://cevalbenchmark.com/static/leaderboard.html',\n",
    "        'reference': 'https://github.com/chenking2020/FindTheChatGPTer/blob/main/README.md?plain=1#L549'\n",
    "    },\n",
    "    {\n",
    "        'leaderboard': 'https://leaderboard.allenai.org/mslr-ms2',\n",
    "        'reference': 'https://github.com/allenai/ms2/blob/master/README.md?plain=1#L3'\n",
    "    },\n",
    "    {\n",
    "        'leaderboard': 'https://github.com/insikk/CBIR_LeaderBoard',\n",
    "        'reference': 'https://github.com/keloli/CBIR_EXPLORE/blob/master/README.md?plain=1#L6'\n",
    "    },\n",
    "    {\n",
    "        'leaderboard': 'https://github.com/opstower-ai/devops-ai-open-leaderboard',\n",
    "        'reference': ''\n",
    "    },\n",
    "    {\n",
    "        'leaderboard': 'https://www.cvlibs.net/datasets/kitti',\n",
    "        'reference': 'https://github.com/SeasonDepth/SeasonDepth/blob/master/README.md?plain=1#L2'\n",
    "    },\n",
    "    {\n",
    "        'leaderboard': 'https://huggingface.co/spaces/open-llm-leaderboard/open_llm_leaderboard',\n",
    "        'reference': 'https://github.com/yangjianxin1/Firefly-LLaMA2-Chinese/blob/master/README.MD?plain=1#L85'\n",
    "    },\n",
    "    {\n",
    "        'leaderboard': 'https://github.com/haonan-li/CMMLU',\n",
    "        'reference': 'https://github.com/yangjianxin1/Firefly-LLaMA2-Chinese/blob/master/README.MD?plain=1#L112'\n",
    "    },\n",
    "    {\n",
    "        'leaderboard': 'https://open-compass.github.io/T-Eval/leaderboard.html',\n",
    "        'reference': 'https://github.com/tjtanaa/awesome-large-action-model/blob/main/README.md?plain=1#L20'\n",
    "    },\n",
    "    {\n",
    "        'leaderboard': 'https://huggingface.co/spaces/bigcode/bigcode-models-leaderboard',\n",
    "        'reference': 'https://github.com/codefuse-ai/MFTCoder/blob/main/README.md?plain=1#L55'\n",
    "    },\n",
    "    {\n",
    "        'leaderboard': 'http://host.robots.ox.ac.uk:8080/leaderboard/displaylb.php?challengeid=11&compid=4',\n",
    "        'reference': 'https://github.com/Smorodov/Deep-learning-object-detection-links./blob/master/readme.md?plain=1#L31'\n",
    "    },\n",
    "    {\n",
    "        'leaderboard': 'https://github.com/talk2car/Talk2Car',\n",
    "        'reference': ''\n",
    "    },\n",
    "    {\n",
    "        'leaderboard': 'https://atlas-challenge.u-bourgogne.fr/leaderboard',\n",
    "        'reference': 'https://github.com/uni-medical/STU-Net/blob/main/README.md?plain=1#L11'\n",
    "    },\n",
    "    {\n",
    "        'leaderboard': 'https://sppin.grand-challenge.org/evaluation/final-test-phase/leaderboard',\n",
    "        'reference': 'https://github.com/uni-medical/STU-Net/blob/main/README.md?plain=1#L12'\n",
    "    },\n",
    "    {\n",
    "        'leaderboard': 'https://autopet-ii.grand-challenge.org/leaderboard',\n",
    "        'reference': 'https://github.com/uni-medical/STU-Net/blob/main/README.md?plain=1#L13'\n",
    "    },\n",
    "    {\n",
    "        'leaderboard': 'https://codalab.lisn.upsaclay.fr/competitions/12239',\n",
    "        'reference': 'https://github.com/uni-medical/STU-Net/blob/main/README.md?plain=1#L14'\n",
    "    },\n",
    "    {\n",
    "        'leaderboard': 'https://github.com/hkust-nlp/ceval',\n",
    "        'reference': ''\n",
    "    },\n",
    "    {\n",
    "        'leaderboard': 'https://huggingface.co/spaces/eduagarcia/open_pt_llm_leaderboard',\n",
    "        'reference': 'https://github.com/ruanchaves/napolab/blob/main/README.md?plain=1#L16'\n",
    "    },\n",
    "    {\n",
    "        'leaderboard': 'https://github.com/Instance-Search/Instance-Search',\n",
    "        'reference': ''\n",
    "    },\n",
    "    {\n",
    "        'leaderboard': 'https://github.com/LudwigStumpp/llm-leaderboard',\n",
    "        'reference': ''\n",
    "    },\n",
    "    {\n",
    "        'leaderboard': 'https://huggingface.co/spaces/bigcode/bigcode-models-leaderboard',\n",
    "        'reference': 'https://github.com/bigcode-project/bigcode-evaluation-harness/blob/leaderboard/leaderboard/README.md?plain=1#L11'\n",
    "    },\n",
    "    {\n",
    "        'leaderboard': 'https://github.com/awslabs/diagnostic-robustness-text-to-sql',\n",
    "        'reference': ''\n",
    "    },\n",
    "    {\n",
    "        'leaderboard': 'https://openlamm.github.io/ch3ef/leaderboard.html',\n",
    "        'reference': 'https://github.com/OpenGVLab/LAMM/blob/main/README.md?plain=1#L15'\n",
    "    },\n",
    "    {\n",
    "        'leaderboard': 'https://visualcommonsense.com/leaderboard',\n",
    "        'reference': 'https://github.com/ict-bigdatalab/awesome-pretrained-models-for-information-retrieval/blob/main/README.md?plain=1#L513'\n",
    "    },\n",
    "    {\n",
    "        'leaderboard': 'https://stanfordmlgroup.github.io/competitions/mrnet',\n",
    "        'reference': 'https://github.com/MisaOgura/MRNet/blob/master/README.md?plain=1#L278'\n",
    "    },\n",
    "    {\n",
    "        'leaderboard': 'https://huggingface.co/spaces/open-llm-leaderboard/open_llm_leaderboard',\n",
    "        'reference': 'https://github.com/GPT-Alternatives/gpt_alternatives/blob/main/README.md?plain=1#L271'\n",
    "    },\n",
    "    {\n",
    "        'leaderboard': 'https://github.com/salesforce/localization-xml-mt',\n",
    "        'reference': ''\n",
    "    },\n",
    "    {\n",
    "        'leaderboard': 'https://github.com/ldkong1205/PointCloud-C',\n",
    "        'reference': ''\n",
    "    },\n",
    "    {\n",
    "        'leaderboard': 'https://github.com/AsuradaYuci/awesome_video_person_reid/blob/master/leaderboard.md',\n",
    "        'reference': ''\n",
    "    },\n",
    "    {\n",
    "        'leaderboard': 'https://github.com/THUDM/ChatGLM-Math',\n",
    "        'reference': ''\n",
    "    },\n",
    "    {\n",
    "        'leaderboard': 'https://github.com/LMMMEng/LLD-MMRI2023/blob/main/assets/test_leaderboard.md',\n",
    "        'reference': ''\n",
    "    },\n",
    "    {\n",
    "        'leaderboard': 'https://github.com/jianguoz/Few-Shot-Intent-Detection',\n",
    "        'reference': ''\n",
    "    },\n",
    "    {\n",
    "        'leaderboard': 'https://eval.ai/web/challenges/challenge-page/1256/leaderboard',\n",
    "        'reference': 'https://github.com/neurallatents/nlb_tools/blob/main/README.md?plain=1#L35'\n",
    "    },\n",
    "    {\n",
    "        'leaderboard': 'https://www.aicrowd.com/challenges/music-demixing-challenge-ismir-2021/leaderboards',\n",
    "        'reference': 'https://github.com/AIcrowd/music-demixing-challenge-starter-kit/blob/master/README.md?plain=1#L194'\n",
    "    },\n",
    "    {\n",
    "        'leaderboard': 'https://yale-lily.github.io/spider',\n",
    "        'reference': 'https://github.com/taoyds/spider/blob/master/README.md?plain=1#L3'\n",
    "    },\n",
    "    {\n",
    "        'leaderboard': 'https://www.nist.gov/programs-projects/face-technology-evaluations-frtefate',\n",
    "        'reference': 'https://github.com/becauseofAI/awesome-face/blob/master/README.md?plain=1#L465'\n",
    "    },\n",
    "    {\n",
    "        'leaderboard': 'https://comma.ai/leaderboard',\n",
    "        'reference': 'https://github.com/commaai/controls_challenge/blob/master/README.md?plain=1#L8'\n",
    "    },\n",
    "    {\n",
    "        'leaderboard': 'https://leaderboard.allenai.org/sherlock',\n",
    "        'reference': 'https://github.com/allenai/sherlock/blob/main/README.md?plain=1#L22'\n",
    "    },\n",
    "    {\n",
    "        'leaderboard': 'https://github.com/michuanhaohao/AICITY2021_Track2_DMT',\n",
    "        'reference': ''\n",
    "    },\n",
    "    {\n",
    "        'leaderboard': 'https://opendrivelab.com/challenge2023',\n",
    "        'reference': 'https://github.com/er-muyue/BeMapNet/blob/main/README.md?plain=1#L11'\n",
    "    },\n",
    "    {\n",
    "        'leaderboard': 'http://host.robots.ox.ac.uk/leaderboard/displaylb.php?challengeid=11',\n",
    "        'reference': 'https://github.com/openaifab/hair/blob/master/README.md?plain=1#L62'\n",
    "    },\n",
    "    {\n",
    "        'leaderboard': 'https://paperswithcode.com/task/image-super-resolution',\n",
    "        'reference': 'https://github.com/isaaccorley/pytorch-enhance/blob/master/README.md?plain=1#L55'\n",
    "    },\n",
    "    {\n",
    "        'leaderboard': 'http://host.robots.ox.ac.uk:8080/leaderboard/displaylb.php?challengeid=11&compid=6',\n",
    "        'reference': 'https://github.com/autonomousdrivingkr/Awesome-Autonomous-Driving/blob/master/README.md?plain=1#L143'\n",
    "    },\n",
    "    {\n",
    "        'leaderboard': 'https://huggingface.co/spaces/instructkr/ko-chatbot-arena-leaderboard',\n",
    "        'reference': 'https://github.com/HeegyuKim/open-korean-instructions/blob/main/README.md?plain=1#L73'\n",
    "    },\n",
    "    {\n",
    "        'leaderboard': 'https://huggingface.co/spaces/instructkr/LogicKor-leaderboard',\n",
    "        'reference': 'https://github.com/HeegyuKim/open-korean-instructions/blob/main/README.md?plain=1#L74'\n",
    "    },\n",
    "    {\n",
    "        'leaderboard': 'https://lil.nlp.cornell.edu/nlvr',\n",
    "        'reference': 'https://github.com/lil-lab/nlvr/blob/master/README.md?plain=1#L7'\n",
    "    },\n",
    "    {\n",
    "        'leaderboard': 'https://github.com/cardiffnlp/tweeteval',\n",
    "        'reference': ''\n",
    "    },\n",
    "    {\n",
    "        'leaderboard': 'https://nealcly.github.io/MuTual-leaderboard',\n",
    "        'reference': 'https://github.com/Nealcly/MuTual/blob/master/README.md?plain=1#L65'\n",
    "    },\n",
    "    {\n",
    "        'leaderboard': 'https://www.kaggle.com/c/imaterialist-challenge-furniture-2018/leaderboard',\n",
    "        'reference': 'https://github.com/skrypka/imaterialist-furniture-2018/blob/master/README.md?plain=1#L3'\n",
    "    },\n",
    "    {\n",
    "        'leaderboard': 'https://www.nuscenes.org/tracking',\n",
    "        'reference': 'https://github.com/dvlab-research/VoxelNeXt/blob/master/README.md?plain=1#L21'\n",
    "    },\n",
    "    {\n",
    "        'leaderboard': 'https://paperswithcode.com/sota/instance-segmentation-on-coco-minival',\n",
    "        'reference': 'https://github.com/IDEA-Research/DN-DETR/blob/main/README.md?plain=1#L22'\n",
    "    },\n",
    "    {\n",
    "        'leaderboard': 'https://paperswithcode.com/sota/panoptic-segmentation-on-coco-minival',\n",
    "        'reference': 'https://github.com/IDEA-Research/DN-DETR/blob/main/README.md?plain=1#L22'\n",
    "    },\n",
    "    {\n",
    "        'leaderboard': 'https://paperswithcode.com/sota/semantic-segmentation-on-ade20k',\n",
    "        'reference': 'https://github.com/IDEA-Research/DN-DETR/blob/main/README.md?plain=1#L22'\n",
    "    },\n",
    "    {\n",
    "        'leaderboard': 'https://few-shot.yyliu.net/miniimagenet.html',\n",
    "        'reference': 'https://github.com/icoz69/DeepEMD/blob/master/README.md?plain=1#L13'\n",
    "    },\n",
    "    {\n",
    "        'leaderboard': 'https://insightface.ai/mfr21',\n",
    "        'reference': 'https://github.com/deepinsight/insightface/blob/master/README.md?plain=1#L70'\n",
    "    },\n",
    "    {\n",
    "        'leaderboard': 'https://codalab.lisn.upsaclay.fr/competitions/12599',\n",
    "        'reference': 'https://github.com/dongkyunk/CheXFusion/blob/main/README.md?plain=1#L27'\n",
    "    },\n",
    "    {\n",
    "        'leaderboard': 'https://github.com/openai/gym/wiki/Leaderboard',\n",
    "        'reference': 'https://github.com/dgriff777/rl_a3c_pytorch/blob/master/README.MD?plain=1#L22'\n",
    "    },\n",
    "    {\n",
    "        'leaderboard': 'https://paperswithcode.com/sota/semi-supervised-semantic-segmentation-on-25',\n",
    "        'reference': 'https://github.com/ldkong1205/LaserMix/blob/main/README.md?plain=1#L73'\n",
    "    },\n",
    "    {\n",
    "        'leaderboard': 'https://paperswithcode.com/sota/semi-supervised-semantic-segmentation-on-24',\n",
    "        'reference': 'https://github.com/ldkong1205/LaserMix/blob/main/README.md?plain=1#L73'\n",
    "    },\n",
    "    {\n",
    "        'leaderboard': 'https://paperswithcode.com/sota/semi-supervised-semantic-segmentation-on-23',\n",
    "        'reference': 'https://github.com/ldkong1205/LaserMix/blob/main/README.md?plain=1#L73'\n",
    "    },\n",
    "    {\n",
    "        'leaderboard': 'https://paperswithcode.com/paper/lasermix-for-semi-supervised-lidar-semantic',\n",
    "        'reference': 'https://github.com/ldkong1205/LaserMix/blob/main/README.md?plain=1#L73'\n",
    "    },\n",
    "    {\n",
    "        'leaderboard': 'https://github.com/Coder-Yu/SELFRec',\n",
    "        'reference': ''\n",
    "    },\n",
    "    {\n",
    "        'leaderboard': 'https://arctic-leaderboard.is.tuebingen.mpg.de/leaderboard',\n",
    "        'reference': 'https://github.com/zc-alexfan/arctic/blob/master/README.md?plain=1#L44'\n",
    "    },\n",
    "    {\n",
    "        'leaderboard': 'https://paperswithcode.com/sota/text-to-sql-on-kaggledbqa',\n",
    "        'reference': 'https://github.com/Chia-Hsuan-Lee/KaggleDBQA/blob/main/README.md?plain=1#L4'\n",
    "    },\n",
    "    {\n",
    "        'leaderboard': 'http://ccl.pku.edu.cn:8084/SpaCE2021/rank',\n",
    "        'reference': 'https://github.com/2030NLP/SpaCE2021/blob/main/README.md?plain=1#L98'\n",
    "    },\n",
    "    {\n",
    "        'leaderboard': 'http://ccl.pku.edu.cn:8084/SpaCE2021/rank',\n",
    "        'reference': 'https://github.com/z-fabian/HUMUS-Net/blob/master/README.md?plain=1#L22'\n",
    "    },\n",
    "    {\n",
    "        'leaderboard': 'https://github.com/MinghuiChen43/CIL-ReID',\n",
    "        'reference': ''\n",
    "    },\n",
    "    {\n",
    "        'leaderboard': 'https://tatsu-lab.github.io/alpaca_eval',\n",
    "        'reference': 'https://github.com/yuchenlin/LLM-Blender/blob/main/README.md?plain=1#L346'\n",
    "    },\n",
    "    {\n",
    "        'leaderboard': 'https://github.com/pddasig/Machine-Learning-Competition-2020',\n",
    "        'reference': ''\n",
    "    },\n",
    "    {\n",
    "        'leaderboard': 'https://yale-lily.github.io/spider',\n",
    "        'reference': 'https://github.com/BeachWang/DAIL-SQL/blob/main/README.md?plain=1#L4'\n",
    "    },\n",
    "    {\n",
    "        'leaderboard': 'http://got-10k.aitestunion.com/leaderboard',\n",
    "        'reference': 'https://github.com/wangdongdut/Online-Visual-Tracking-SOTA/blob/master/README.md?plain=1#L116'\n",
    "    },\n",
    "    {\n",
    "        'leaderboard': 'https://huggingface.co/spaces/open-llm-leaderboard/open_llm_leaderboard',\n",
    "        'reference': 'https://github.com/Pan-ML/panml/blob/main/README.md?plain=1#L25'\n",
    "    },\n",
    "    {\n",
    "        'leaderboard': 'https://huggingface.co/spaces/Slep/LRVSF-Leaderboard',\n",
    "        'reference': 'https://github.com/Simon-Lepage/CondViT-LRVSF/blob/main/README.md?plain=1#L28'\n",
    "    },\n",
    "    {\n",
    "        'leaderboard': 'https://mmbench.opencompass.org.cn/leaderboard',\n",
    "        'reference': 'https://github.com/open-compass/MMBench/blob/main/README.md?plain=1#L26'\n",
    "    },\n",
    "    {\n",
    "        'leaderboard': 'https://github.com/THUDM/VisualAgentBench',\n",
    "        'reference': ''\n",
    "    },\n",
    "    {\n",
    "        'leaderboard': 'https://www.kaggle.com/c/nyu-cv-fall-2018/leaderboard',\n",
    "        'reference': 'https://github.com/poojahira/gtsrb-pytorch/blob/master/README.md?plain=1#L5'\n",
    "    },\n",
    "    {\n",
    "        'leaderboard': 'https://github.com/lupantech/PromptPG',\n",
    "        'reference': ''\n",
    "    },\n",
    "    {\n",
    "        'leaderboard': 'https://huggingface.co/spaces/vidore/vidore-leaderboard',\n",
    "        'reference': 'https://github.com/illuin-tech/vidore-benchmark/blob/main/README.md?plain=1#L14'\n",
    "    },\n",
    "    {\n",
    "        'leaderboard': 'https://www.kaggle.com/competitions/mlsp-2013-birds/leaderboard',\n",
    "        'reference': 'https://github.com/gaborfodor/MLSP_2013/blob/master/readme.md?plain=1#L42'\n",
    "    },\n",
    "    {\n",
    "        'leaderboard': 'https://github.com/shjung13/Standardized-max-logits',\n",
    "        'reference': ''\n",
    "    },\n",
    "    {\n",
    "        'leaderboard': 'https://github.com/k2-fsa/libriheavy',\n",
    "        'reference': ''\n",
    "    },\n",
    "    {\n",
    "        'leaderboard': 'http://got-10k.aitestunion.com/leaderboard',\n",
    "        'reference': 'https://github.com/huanglianghua/siamrpn-pytorch/blob/master/README.md?plain=1#L13'\n",
    "    },\n",
    "    {\n",
    "        'leaderboard': 'https://github.com/Xtra-Computing/NIID-Bench',\n",
    "        'reference': ''\n",
    "    },\n",
    "    {\n",
    "        'leaderboard': 'https://github.com/brohrer/parameter_efficiency_leaderboard',\n",
    "        'reference': ''\n",
    "    },\n",
    "    {\n",
    "        'leaderboard': 'https://eval.ai/web/challenges/challenge-page/1247/leaderboard',\n",
    "        'reference': 'https://github.com/SoonminHwang/rgbt-ped-detection/blob/master/README.md?plain=1#L4'\n",
    "    },\n",
    "    {\n",
    "        'leaderboard': 'https://visualcommonsense.com/leaderboard',\n",
    "        'reference': 'https://github.com/zhegan27/VILLA/blob/main/README.md?plain=1#L130'\n",
    "    },\n",
    "    {\n",
    "        'leaderboard': 'https://microsoft.github.io/AirSim-NeurIPS2019-Drone-Racing/leaderboard_final.html',\n",
    "        'reference': 'https://github.com/microsoft/AirSim-NeurIPS2019-Drone-Racing/blob/master/README.md?plain=1#L206'\n",
    "    },\n",
    "    {\n",
    "        'leaderboard': 'https://huggingface.co/spaces/BestWishYsh/ChronoMagic-Bench',\n",
    "        'reference': 'https://github.com/yhZhai/mcm/blob/main/README.md?plain=1#L19'\n",
    "    },\n",
    "    {\n",
    "        'leaderboard': 'https://github.com/hemingkx/Spec-Bench/blob/main/Leaderboard.md',\n",
    "        'reference': ''\n",
    "    },\n",
    "    {\n",
    "        'leaderboard': 'https://open-xai.github.io/leaderboard',\n",
    "        'reference': 'https://github.com/AI4LIFE-GROUP/OpenXAI/blob/main/README.md?plain=1#L20'\n",
    "    },\n",
    "    {\n",
    "        'leaderboard': 'https://rank.opencompass.org.cn/leaderboard-llm',\n",
    "        'reference': 'https://github.com/TommyZihao/ChatMarx/blob/main/README.md?plain=1#L129'\n",
    "    },\n",
    "    {\n",
    "        'leaderboard': 'https://eval.ai/web/challenges/challenge-page/454/leaderboard',\n",
    "        'reference': 'https://github.com/ZikangZhou/QCNet/blob/main/README.md?plain=1#L9'\n",
    "    },\n",
    "    {\n",
    "        'leaderboard': 'https://eval.ai/web/challenges/challenge-page/1719/leaderboard',\n",
    "        'reference': 'https://github.com/ZikangZhou/QCNet/blob/main/README.md?plain=1#L10'\n",
    "    },\n",
    "    {\n",
    "        'leaderboard': 'https://paperswithcode.com/sota/change-point-detection-on-tep',\n",
    "        'reference': 'https://github.com/YKatser/CPDE/blob/master/README.md?plain=1#L6'\n",
    "    },\n",
    "    {\n",
    "        'leaderboard': 'https://paperswithcode.com/sota/change-point-detection-on-skab',\n",
    "        'reference': 'https://github.com/YKatser/CPDE/blob/master/README.md?plain=1#L22'\n",
    "    },\n",
    "    {\n",
    "        'leaderboard': 'https://github.com/ai-forever/digital_peter_aij2020',\n",
    "        'reference': ''\n",
    "    },\n",
    "    {\n",
    "        'leaderboard': 'https://huggingface.co/spaces/echo840/ocrbench-leaderboard',\n",
    "        'reference': 'https://github.com/Yuliang-Liu/MultimodalOCR/blob/main/README.md?plain=1#L6'\n",
    "    },\n",
    "    {\n",
    "        'leaderboard': 'https://leaderboard.sea-lion.ai',\n",
    "        'reference': 'https://github.com/aisingapore/sealion/blob/main/README.md?plain=1#L81'\n",
    "    },\n",
    "    {\n",
    "        'leaderboard': 'https://paperswithcode.com/sota/image-harmonization-on-iharmony4',\n",
    "        'reference': 'https://github.com/bcmi/Awesome-Image-Harmonization/blob/master/README.md?plain=1#L35'\n",
    "    },\n",
    "    {\n",
    "        'leaderboard': 'https://challenge.isic-archive.com/landing/2018',\n",
    "        'reference': 'https://github.com/ngessert/isic2018/blob/master/README.md?plain=1#L4'\n",
    "    },\n",
    "    {\n",
    "        'leaderboard': 'https://huggingface.co/spaces/open-llm-leaderboard/open_llm_leaderboard',\n",
    "        'reference': 'https://github.com/chujiezheng/LLM-Extrapolation/blob/main/README.md?plain=1#L78'\n",
    "    },\n",
    "    {\n",
    "        'leaderboard': 'https://tatsu-lab.github.io/alpaca_eval',\n",
    "        'reference': 'https://github.com/chujiezheng/LLM-Extrapolation/blob/main/README.md?plain=1#L80'\n",
    "    },\n",
    "    {\n",
    "        'leaderboard': 'https://aider.chat/docs/leaderboards',\n",
    "        'reference': 'https://github.com/chujiezheng/LLM-Extrapolation/blob/main/README.md?plain=1#L80'\n",
    "    },\n",
    "    {\n",
    "        'leaderboard': 'https://opening-up-chatgpt.github.io',\n",
    "        'reference': 'https://github.com/opening-up-chatgpt/opening-up-chatgpt.github.io/blob/main/readme.md?plain=1#L1'\n",
    "    },\n",
    "    {\n",
    "        'leaderboard': 'https://leaderboard.allenai.org/visualcomet',\n",
    "        'reference': 'https://github.com/jamespark3922/visual-comet/blob/master/README.md?plain=1#L153'\n",
    "    },\n",
    "    {\n",
    "        'leaderboard': 'https://github.com/StarStyleSky/awesome-face-detection',\n",
    "        'reference': ''\n",
    "    },\n",
    "    {\n",
    "        'leaderboard': 'https://github.com/junqiangchen/LiTS---Liver-Tumor-Segmentation-Challenge',\n",
    "        'reference': ''\n",
    "    },\n",
    "    {\n",
    "        'leaderboard': 'https://tgb.complexdatalab.com/docs/leader_linkprop',\n",
    "        'reference': 'https://github.com/shenyangHuang/TGB/blob/main/README.md?plain=1#L27'\n",
    "    },\n",
    "    {\n",
    "        'leaderboard': 'https://github.com/vztu/BVQA_Benchmark',\n",
    "        'reference': ''\n",
    "    },\n",
    "    {\n",
    "        'leaderboard': 'https://rrc.cvc.uab.es',\n",
    "        'reference': 'https://github.com/EriCongMa/awesome-transformer-ocr/blob/main/README.md?plain=1#L229'\n",
    "    },\n",
    "    {\n",
    "        'leaderboard': 'https://gluebenchmark.com/leaderboard',\n",
    "        'reference': 'https://github.com/yurakuratov/t5-experiments/blob/main/README.md?plain=1#L263'\n",
    "    },\n",
    "    {\n",
    "        'leaderboard': 'https://github.com/open-compass/BotChat',\n",
    "        'reference': ''\n",
    "    },\n",
    "    {\n",
    "        'leaderboard': 'https://trustllmbenchmark.github.io/TrustLLM-Website/leaderboard.html',\n",
    "        'reference': 'https://github.com/jphall663/awesome-machine-learning-interpretability/blob/master/README.md?plain=1#L1158'\n",
    "    },\n",
    "    {\n",
    "        'leaderboard': 'https://www.aicrowd.com/challenges/music-demixing-challenge-ismir-2021/leaderboards',\n",
    "        'reference': 'https://github.com/yoyololicon/music-demixing-challenge-ismir-2021-entry/blob/master/README.md?plain=1#L1'\n",
    "    },\n",
    "    {\n",
    "        'leaderboard': 'https://www.cvlibs.net/datasets/kitti/eval_object.php?obj_benchmark=3d',\n",
    "        'reference': 'https://github.com/mileyan/pseudo_lidar/blob/master/README.md?plain=1#L32'\n",
    "    },\n",
    "    {\n",
    "        'leaderboard': 'https://leaderboard.allenai.org/a-okvqa',\n",
    "        'reference': 'https://github.com/allenai/aokvqa/blob/main/README.md?plain=1#L5'\n",
    "    },\n",
    "    {\n",
    "        'leaderboard': 'https://www.aicrowd.com/challenges/seismic-facies-identification-challenge/leaderboards',\n",
    "        'reference': 'https://github.com/AIcrowd/seismic-facies-identification-starter-kit/blob/master/README.md?plain=1#L8'\n",
    "    },\n",
    "    {\n",
    "        'leaderboard': 'https://github.com/haoweiz23/Awesome-Fine-grained-Visual-Classification',\n",
    "        'reference': ''\n",
    "    },\n",
    "    {\n",
    "        'leaderboard': 'https://hfl-rc.github.io/cmrc2017/leaderboard',\n",
    "        'reference': 'https://github.com/ymcui/Chinese-RC-Datasets/blob/master/README.md?plain=1#L63'\n",
    "    },\n",
    "    {\n",
    "        'leaderboard': 'https://aistudio.baidu.com/competition/detail/720/0/leaderboard',\n",
    "        'reference': 'https://github.com/ymcui/Chinese-RC-Datasets/blob/master/README.md?plain=1#L84'\n",
    "    },\n",
    "    {\n",
    "        'leaderboard': 'https://hfl-rc.github.io/cmrc2018/open_challenge',\n",
    "        'reference': 'https://github.com/ymcui/Chinese-RC-Datasets/blob/master/README.md?plain=1#L100'\n",
    "    },\n",
    "    {\n",
    "        'leaderboard': 'https://www.kaggle.com/c/landmark-recognition-2020/leaderboard',\n",
    "        'reference': 'https://github.com/bestfitting/instance_level_recognition/blob/main/README.md?plain=1#L5'\n",
    "    },\n",
    "    {\n",
    "        'leaderboard': 'https://huggingface.co/spaces/open-llm-leaderboard/open_llm_leaderboard',\n",
    "        'reference': 'https://github.com/baichuan-inc/Baichuan-7B/blob/main/README.md?plain=1#L128'\n",
    "    },\n",
    "    {\n",
    "        'leaderboard': 'https://github.com/google-research-datasets/seahorse',\n",
    "        'reference': ''\n",
    "    },\n",
    "    {\n",
    "        'leaderboard': 'https://github.com/netease-youdao/BCEmbedding',\n",
    "        'reference': ''\n",
    "    },\n",
    "    {\n",
    "        'leaderboard': 'https://github.com/yxgeee/MMT-plus',\n",
    "        'reference': ''\n",
    "    },\n",
    "    {\n",
    "        'leaderboard': 'https://github.com/infinigence/LVEval',\n",
    "        'reference': ''\n",
    "    },\n",
    "    {\n",
    "        'leaderboard': 'https://stanfordnlp.github.io/coqa',\n",
    "        'reference': 'https://github.com/stevezheng23/xlnet_extension_tf/blob/master/README.md?plain=1#L2'\n",
    "    },\n",
    "    {\n",
    "        'leaderboard': 'https://quac.ai',\n",
    "        'reference': 'https://github.com/stevezheng23/xlnet_extension_tf/blob/master/README.md?plain=1#L4'\n",
    "    },\n",
    "    {\n",
    "        'leaderboard': 'https://huggingface.co/spaces/mteb/leaderboard',\n",
    "        'reference': 'https://github.com/CoIR-team/coir/blob/main/README.md?plain=1#L24'\n",
    "    },\n",
    "    {\n",
    "        'leaderboard': 'https://archersama.github.io/coir',\n",
    "        'reference': 'https://github.com/CoIR-team/coir/blob/main/README.md?plain=1#L24'\n",
    "    },\n",
    "    {\n",
    "        'leaderboard': 'https://huggingface.co/spaces/open-llm-leaderboard/open_llm_leaderboard',\n",
    "        'reference': 'https://github.com/Xwin-LM/Xwin-LM/blob/main/README.md?plain=1#L83'\n",
    "    },\n",
    "    {\n",
    "        'leaderboard': 'https://www.aicrowd.com/challenges/food-recognition-benchmark-2022/leaderboards',\n",
    "        'reference': 'https://github.com/AIcrowd/food-recognition-benchmark-starter-kit/blob/master/README.md?plain=1#L193'\n",
    "    },\n",
    "    {\n",
    "        'leaderboard': 'https://leaderboard.carla.org/leaderboard',\n",
    "        'reference': 'https://github.com/carla-simulator/scenario_runner/blob/master/README.md?plain=1#L49'\n",
    "    },\n",
    "    {\n",
    "        'leaderboard': 'https://rajpurkar.github.io/SQuAD-explorer',\n",
    "        'reference': 'https://github.com/Nagakiran1/Extending-Google-BERT-as-Question-and-Answering-model-and-Chatbot/blob/master/README.md?plain=1#L422'\n",
    "    },\n",
    "    {\n",
    "        'leaderboard': 'https://github.com/yanyanSann/Long-Tailed-Classification-Leaderboard',\n",
    "        'reference': 'https://github.com/Keke921/GCLLoss/blob/main/README.md?plain=1#L65'\n",
    "    },\n",
    "    {\n",
    "        'leaderboard': 'https://huggingface.co/spaces/open-llm-leaderboard/open_llm_leaderboard',\n",
    "        'reference': 'https://github.com/yongzhuo/qwen2-sft/blob/master/README.md?plain=1#L106'\n",
    "    },\n",
    "    {\n",
    "        'leaderboard': 'https://eval.ai/web/challenges/challenge-page/103/leaderboard',\n",
    "        'reference': 'https://github.com/batra-mlp-lab/visdial/blob/master/README.md?plain=1#L293'\n",
    "    },\n",
    "    {\n",
    "        'leaderboard': 'https://github.com/FormulaMonks/llm-benchmarker-suite',\n",
    "        'reference': ''\n",
    "    },\n",
    "    {\n",
    "        'leaderboard': 'https://github.com/inspire-group/patch-defense-leaderboard',\n",
    "        'reference': 'https://github.com/inspire-group/PatchGuard/blob/master/README.md?plain=1#L9'\n",
    "    },\n",
    "    {\n",
    "        'leaderboard': 'https://github.com/open-mmlab/OpenUnReID/blob/master/docs/LEADERBOARD.md',\n",
    "        'reference': ''\n",
    "    },\n",
    "    {\n",
    "        'leaderboard': 'https://github.com/declare-lab/instruct-eval',\n",
    "        'reference': ''\n",
    "    },\n",
    "    {\n",
    "        'leaderboard': 'https://github.com/VITA-Group/Deep_GCN_Benchmarking',\n",
    "        'reference': ''\n",
    "    },\n",
    "    {\n",
    "        'leaderboard': 'https://dki-lab.github.io/GrailQA',\n",
    "        'reference': 'https://github.com/microsoft/vert-papers/blob/master/README.md?plain=1#L16'\n",
    "    },\n",
    "    {\n",
    "        'leaderboard': 'https://tatsu-lab.github.io/alpaca_eval',\n",
    "        'reference': 'https://github.com/Aligner2024/aligner/blob/master/README.md?plain=1#L9'\n",
    "    },\n",
    "    {\n",
    "        'leaderboard': 'https://mathverse-cuhk.github.io/#leaderboard',\n",
    "        'reference': 'https://github.com/ZrrSkywalker/MAVIS/blob/main/README.md?plain=1#L10'\n",
    "    },\n",
    "    {\n",
    "        'leaderboard': 'https://eval.ai/web/challenges/challenge-page/244/leaderboard',\n",
    "        'reference': 'https://github.com/xinke-wang/Awesome-Text-VQA/blob/master/README.md?plain=1#L108'\n",
    "    },\n",
    "    {\n",
    "        'leaderboard': 'https://eval.ai/web/challenges/challenge-page/551/leaderboard',\n",
    "        'reference': 'https://github.com/xinke-wang/Awesome-Text-VQA/blob/master/README.md?plain=1#L109'\n",
    "    },\n",
    "    {\n",
    "        'leaderboard': 'https://rrc.cvc.uab.es/?ch=11&com=evaluation&task=1',\n",
    "        'reference': 'https://github.com/xinke-wang/Awesome-Text-VQA/blob/master/README.md?plain=1#L129'\n",
    "    },\n",
    "    {\n",
    "        'leaderboard': 'https://paperswithcode.com/dataset/popgym',\n",
    "        'reference': 'https://github.com/proroklab/popgym/blob/master/README.md?plain=1#L76'\n",
    "    },\n",
    "    {\n",
    "        'leaderboard': 'https://taolusi.github.io/CSpider-explorer',\n",
    "        'reference': 'https://github.com/taolusi/chisp/blob/master/README.md?plain=1#L7'\n",
    "    },\n",
    "    {\n",
    "        'leaderboard': 'https://huggingface.co/spaces/open-llm-leaderboard/open_llm_leaderboard',\n",
    "        'reference': 'https://github.com/mlabonne/llm-autoeval/blob/master/README.md?plain=1#L40'\n",
    "    },\n",
    "    {\n",
    "        'leaderboard': 'https://huggingface.co/spaces/mlabonne/Yet_Another_LLM_Leaderboard',\n",
    "        'reference': 'https://github.com/mlabonne/llm-autoeval/blob/master/README.md?plain=1#L67'\n",
    "    },\n",
    "    {\n",
    "        'leaderboard': 'https://gluebenchmark.com/leaderboard',\n",
    "        'reference': 'https://github.com/charles9n/bert-sklearn/blob/master/README.md?plain=1#L105'\n",
    "    },\n",
    "    {\n",
    "        'leaderboard': 'https://huggingface.co/spaces/open-llm-leaderboard/open_llm_leaderboard',\n",
    "        'reference': 'https://github.com/MIBlue119/awesome-llama-resources/blob/main/README.md?plain=1#L106'\n",
    "    },\n",
    "    {\n",
    "        'leaderboard': 'https://ml.energy/leaderboard',\n",
    "        'reference': 'https://github.com/AmberLJC/LLMSys-PaperList/blob/main/README.md?plain=1#L158'\n",
    "    },\n",
    "    {\n",
    "        'leaderboard': 'https://huggingface.co/spaces/optimum/llm-perf-leaderboard',\n",
    "        'reference': 'https://github.com/AmberLJC/LLMSys-PaperList/blob/main/README.md?plain=1#L159'\n",
    "    },\n",
    "    {\n",
    "        'leaderboard': 'https://huggingface.co/spaces/open-llm-leaderboard/open_llm_leaderboard',\n",
    "        'reference': 'https://github.com/AmberLJC/LLMSys-PaperList/blob/main/README.md?plain=1#L161'\n",
    "    },\n",
    "    {\n",
    "        'leaderboard': 'https://crfm.stanford.edu/helm',\n",
    "        'reference': 'https://github.com/AmberLJC/LLMSys-PaperList/blob/main/README.md?plain=1#L162'\n",
    "    },\n",
    "    {\n",
    "        'leaderboard': 'https://lmarena.ai',\n",
    "        'reference': 'https://github.com/AmberLJC/LLMSys-PaperList/blob/main/README.md?plain=1#L163'\n",
    "    },\n",
    "    {\n",
    "        'leaderboard': 'https://huggingface.co/spaces/openlifescienceai/open_medical_llm_leaderboard',\n",
    "        'reference': 'https://github.com/AI-in-Health/MedLLMsPracticalGuide/blob/main/README.md?plain=1#L269'\n",
    "    },\n",
    "    {\n",
    "        'leaderboard': 'https://huggingface.co/spaces/open-llm-leaderboard/open_llm_leaderboard',\n",
    "        'reference': 'https://github.com/ymcui/Chinese-LLaMA-Alpaca-3/blob/main/README.md?plain=1#L240'\n",
    "    },\n",
    "    {\n",
    "        'leaderboard': 'https://github.com/RPC-Dataset/RPC-Leaderboard',\n",
    "        'reference': ''\n",
    "    },\n",
    "    {\n",
    "        'leaderboard': 'https://github.com/alibaba/AICITY2024_Track2_AliOpenTrek_CityLLaVA',\n",
    "        'reference': ''\n",
    "    },\n",
    "    {\n",
    "        'leaderboard': 'https://github.com/THUDM/SciGLM',\n",
    "        'reference': ''\n",
    "    },\n",
    "    {\n",
    "        'leaderboard': 'https://www.hilti-challenge.com',\n",
    "        'reference': 'https://github.com/Hilti-Research/hilti-slam-challenge-2021/blob/master/README.md?plain=1#L18'\n",
    "    },\n",
    "    {\n",
    "        'leaderboard': 'https://github.com/thu-coai/Safety-Prompts',\n",
    "        'reference': ''\n",
    "    },\n",
    "    {\n",
    "        'leaderboard': 'https://opendrivelab.com/challenge2023',\n",
    "        'reference': 'https://github.com/wenjie710/PivotNet/blob/main/README.md?plain=1#L8'\n",
    "    },\n",
    "    {\n",
    "        'leaderboard': 'https://www.crowdbenchmark.com/nwpucrowdloc.html',\n",
    "        'reference': 'https://github.com/taohan10200/Awesome-Crowd-Localization/blob/main/README.md?plain=1#L88'\n",
    "    },\n",
    "    {\n",
    "        'leaderboard': 'https://codalab.lisn.upsaclay.fr/competitions/17672',\n",
    "        'reference': 'https://github.com/cage-challenge/cage-challenge-4/blob/main/README.md?plain=1#L187'\n",
    "    },\n",
    "    {\n",
    "        'leaderboard': 'https://leaderboard.carla.org/leaderboard',\n",
    "        'reference': 'https://github.com/erdos-project/pylot/blob/master/README.md?plain=1#L266'\n",
    "    },\n",
    "    {\n",
    "        'leaderboard': 'https://huggingface.co/spaces/NexaAIDev/domain_llm_leaderboard',\n",
    "        'reference': 'https://github.com/NexaAI/octopus-v4/blob/main/README.md?plain=1#L26'\n",
    "    },\n",
    "    {\n",
    "        'leaderboard': 'https://github.com/shikras/d-cube/tree/main/eval_sota',\n",
    "        'reference': 'https://github.com/Charles-Xie/awesome-described-object-detection/blob/main/README.md?plain=1#L42'\n",
    "    },\n",
    "    {\n",
    "        'leaderboard': 'https://huggingface.co/spaces/opencompass/open_vlm_leaderboard',\n",
    "        'reference': 'https://github.com/scenarios/WeMM/blob/main/README.md?plain=1#L5'\n",
    "    },\n",
    "    {\n",
    "        'leaderboard': 'https://opencompass.org.cn/leaderboard-multimodal',\n",
    "        'reference': 'https://github.com/scenarios/WeMM/blob/main/README.md?plain=1#L15'\n",
    "    },\n",
    "    {\n",
    "        'leaderboard': 'https://huggingface.co/spaces/open-llm-leaderboard/open_llm_leaderboard',\n",
    "        'reference': 'https://github.com/THUDM/LongAlign/blob/main/README.md?plain=1#L106'\n",
    "    },\n",
    "    {\n",
    "        'leaderboard': 'https://github.com/GAIR-NLP/OpenResearcher',\n",
    "        'reference': ''\n",
    "    },\n",
    "    {\n",
    "        'leaderboard': 'https://huggingface.co/spaces/lmsys/chatbot-arena-leaderboard',\n",
    "        'reference': 'https://github.com/Hannibal046/Awesome-LLM/blob/main/README.md?plain=1#L132'\n",
    "    },\n",
    "    {\n",
    "        'leaderboard': 'https://mixeval.github.io/#leaderboard',\n",
    "        'reference': 'https://github.com/Hannibal046/Awesome-LLM/blob/main/README.md?plain=1#L133'\n",
    "    },\n",
    "    {\n",
    "        'leaderboard': 'https://tatsu-lab.github.io/alpaca_eval',\n",
    "        'reference': 'https://github.com/Hannibal046/Awesome-LLM/blob/main/README.md?plain=1#L134'\n",
    "    },\n",
    "    {\n",
    "        'leaderboard': 'https://huggingface.co/spaces/open-llm-leaderboard/open_llm_leaderboard',\n",
    "        'reference': 'https://github.com/Hannibal046/Awesome-LLM/blob/main/README.md?plain=1#L136'\n",
    "    },\n",
    "    {\n",
    "        'leaderboard': 'https://rank.opencompass.org.cn/leaderboard-llm',\n",
    "        'reference': 'https://github.com/Hannibal046/Awesome-LLM/blob/main/README.md?plain=1#L137'\n",
    "    },\n",
    "    {\n",
    "        'leaderboard': 'https://gorilla.cs.berkeley.edu/leaderboard.html',\n",
    "        'reference': 'https://github.com/Hannibal046/Awesome-LLM/blob/main/README.md?plain=1#L138'\n",
    "    },\n",
    "    {\n",
    "        'leaderboard': 'https://github.com/svilupp/Julia-LLM-Leaderboard',\n",
    "        'reference': 'https://github.com/svilupp/awesome-generative-ai-meets-julia-language/blob/main/README.md?plain=1#L95'\n",
    "    },\n",
    "    {\n",
    "        'leaderboard': 'https://github.com/ethz-spylab/rlhf_trojan_competition',\n",
    "        'reference': ''\n",
    "    },\n",
    "    {\n",
    "        'leaderboard': 'https://eval.ai/web/challenges/challenge-page/463/leaderboard',\n",
    "        'reference': 'https://github.com/zd11024/NaviLLM/blob/main/README.md?plain=1#L80'\n",
    "    },\n",
    "    {\n",
    "        'leaderboard': 'https://eval.ai/web/challenges/challenge-page/1715/leaderboard',\n",
    "        'reference': 'https://github.com/zd11024/NaviLLM/blob/main/README.md?plain=1#L80'\n",
    "    },\n",
    "    {\n",
    "        'leaderboard': 'https://github.com/bcmi/Image-Harmonization-Dataset-iHarmony4',\n",
    "        'reference': ''\n",
    "    },\n",
    "    {\n",
    "        'leaderboard': 'https://www.nuscenes.org/object-detection',\n",
    "        'reference': 'https://github.com/nv-tlabs/planning-centric-metrics/blob/master/README.md?plain=1#L26'\n",
    "    },\n",
    "    {\n",
    "        'leaderboard': 'https://www.kaggle.com/c/global-wheat-detection/leaderboard',\n",
    "        'reference': 'https://github.com/liaopeiyuan/TransferDet/blob/master/README.md?plain=1#L7'\n",
    "    },\n",
    "    {\n",
    "        'leaderboard': 'https://github.com/adobe-research/deft_corpus',\n",
    "        'reference': ''\n",
    "    },\n",
    "    {\n",
    "        'leaderboard': 'https://huggingface.co/spaces/open-llm-leaderboard/open_llm_leaderboard',\n",
    "        'reference': 'https://github.com/yongzhuo/LLM-SFT/blob/main/README.md?plain=1#L71'\n",
    "    },\n",
    "    {\n",
    "        'leaderboard': 'https://lmarena.ai',\n",
    "        'reference': 'https://github.com/CLUEbenchmark/SuperCLUE-Llama2-Chinese/blob/main/README.md?plain=1#L120'\n",
    "    },\n",
    "    {\n",
    "        'leaderboard': 'https://lv-mhp.github.io/human_parsing_lb',\n",
    "        'reference': 'https://github.com/ZhaoJ9014/Multi-Human-Parsing/blob/master/README.md?plain=1#L71'\n",
    "    },\n",
    "    {\n",
    "        'leaderboard': 'https://bop.felk.cvut.cz/leaderboards/pose-estimation-unseen-bop23/core-datasets',\n",
    "        'reference': 'https://github.com/NVlabs/FoundationPose/blob/main/readme.md?plain=1#L16'\n",
    "    },\n",
    "    {\n",
    "        'leaderboard': 'https://www.kaggle.com/c/seizure-prediction/leaderboard',\n",
    "        'reference': 'https://github.com/april-org/april-ann/blob/master/README.md?plain=1#L299'\n",
    "    },\n",
    "    {\n",
    "        'leaderboard': 'https://github.com/romainloiseau/HelixNet',\n",
    "        'reference': ''\n",
    "    },\n",
    "    {\n",
    "        'leaderboard': 'https://paperswithcode.com/sota/visual-object-tracking-on-lasot',\n",
    "        'reference': 'https://github.com/Little-Podi/AiATrack/blob/main/README.md?plain=1#L25'\n",
    "    },\n",
    "    {\n",
    "        'leaderboard': 'https://paperswithcode.com/sota/visual-object-tracking-on-trackingnet',\n",
    "        'reference': 'https://github.com/Little-Podi/AiATrack/blob/main/README.md?plain=1#L27'\n",
    "    },\n",
    "    {\n",
    "        'leaderboard': 'https://paperswithcode.com/sota/visual-object-tracking-on-got-10k',\n",
    "        'reference': 'https://github.com/Little-Podi/AiATrack/blob/main/README.md?plain=1#L28'\n",
    "    },\n",
    "    {\n",
    "        'leaderboard': 'https://paperswithcode.com/sota/visual-object-tracking-on-needforspeed',\n",
    "        'reference': 'https://github.com/Little-Podi/AiATrack/blob/main/README.md?plain=1#L29'\n",
    "    },\n",
    "    {\n",
    "        'leaderboard': 'https://paperswithcode.com/sota/visual-object-tracking-on-otb-100',\n",
    "        'reference': 'https://github.com/Little-Podi/AiATrack/blob/main/README.md?plain=1#L30'\n",
    "    },\n",
    "    {\n",
    "        'leaderboard': 'https://paperswithcode.com/sota/visual-object-tracking-on-uav123',\n",
    "        'reference': 'https://github.com/Little-Podi/AiATrack/blob/main/README.md?plain=1#L31'\n",
    "    },\n",
    "    {\n",
    "        'leaderboard': 'https://huggingface.co/spaces/open-llm-leaderboard/open_llm_leaderboard',\n",
    "        'reference': 'https://github.com/PetroIvaniuk/llms-tools/blob/main/README.md?plain=1#L112'\n",
    "    },\n",
    "    {\n",
    "        'leaderboard': 'https://microsoft.github.io/GLUECoS',\n",
    "        'reference': ''\n",
    "    },\n",
    "    {\n",
    "        'leaderboard': 'https://hkust-nlp.github.io/agentboard',\n",
    "        'reference': 'https://github.com/PetroIvaniuk/llms-tools/blob/main/README.md?plain=1#L174'\n",
    "    },\n",
    "    {\n",
    "        'leaderboard': 'https://artificialanalysis.ai/text-to-image',\n",
    "        'reference': 'https://github.com/PetroIvaniuk/llms-tools/blob/main/README.md?plain=1#L176'\n",
    "    },\n",
    "    {\n",
    "        'leaderboard': 'https://scale.com/leaderboard',\n",
    "        'reference': 'https://github.com/PetroIvaniuk/llms-tools/blob/main/README.md?plain=1#L177'\n",
    "    },\n",
    "    {\n",
    "        'leaderboard': 'https://crfm.stanford.edu/helm',\n",
    "        'reference': 'https://github.com/PetroIvaniuk/llms-tools/blob/main/README.md?plain=1#L178'\n",
    "    },\n",
    "    {\n",
    "        'leaderboard': 'https://www.vals.ai',\n",
    "        'reference': 'https://github.com/PetroIvaniuk/llms-tools/blob/main/README.md?plain=1#L179'\n",
    "    },\n",
    "    {\n",
    "        'leaderboard': 'https://trustllmbenchmark.github.io/TrustLLM-Website/leaderboard.html',\n",
    "        'reference': 'https://github.com/PetroIvaniuk/llms-tools/blob/main/README.md?plain=1#L180'\n",
    "    },\n",
    "    {\n",
    "        'leaderboard': 'https://lmarena.ai',\n",
    "        'reference': 'https://github.com/PetroIvaniuk/llms-tools/blob/main/README.md?plain=1#L181'\n",
    "    },\n",
    "    {\n",
    "        'leaderboard': 'https://huggingface.co/spaces/open-llm-leaderboard/open_llm_leaderboard',\n",
    "        'reference': 'https://github.com/PetroIvaniuk/llms-tools/blob/main/README.md?plain=1#L182'\n",
    "    },\n",
    "    {\n",
    "        'leaderboard': 'https://huggingface.co/spaces/optimum/llm-perf-leaderboard',\n",
    "        'reference': 'https://github.com/PetroIvaniuk/llms-tools/blob/main/README.md?plain=1#L183'\n",
    "    },\n",
    "    {\n",
    "        'leaderboard': 'https://huggingface.co/spaces/hallucinations-leaderboard/leaderboard',\n",
    "        'reference': 'https://github.com/PetroIvaniuk/llms-tools/blob/main/README.md?plain=1#L184'\n",
    "    },\n",
    "    {\n",
    "        'leaderboard': 'https://huggingface.co/spaces/NPHardEval/NPHardEval-leaderboard',\n",
    "        'reference': 'https://github.com/PetroIvaniuk/llms-tools/blob/main/README.md?plain=1#L185'\n",
    "    },\n",
    "    {\n",
    "        'leaderboard': 'https://huggingface.co/spaces/AI-Secure/llm-trustworthy-leaderboard',\n",
    "        'reference': 'https://github.com/PetroIvaniuk/llms-tools/blob/main/README.md?plain=1#L186'\n",
    "    },\n",
    "    {\n",
    "        'leaderboard': 'https://huggingface.co/spaces/openlifescienceai/open_medical_llm_leaderboard',\n",
    "        'reference': 'https://github.com/PetroIvaniuk/llms-tools/blob/main/README.md?plain=1#L187'\n",
    "    },\n",
    "    {\n",
    "        'leaderboard': 'https://huggingface.co/spaces/gaia-benchmark/leaderboard',\n",
    "        'reference': 'https://github.com/PetroIvaniuk/llms-tools/blob/main/README.md?plain=1#L189'\n",
    "    },\n",
    "    {\n",
    "        'leaderboard': 'https://superbbenchmark.org/leaderboard',\n",
    "        'reference': 'https://github.com/mechanicalsea/lighthubert/blob/main/README.md?plain=1#L7'\n",
    "    },\n",
    "    {\n",
    "        'leaderboard': 'https://github.com/PengYu-Team/Co-LRIO',\n",
    "        'reference': ''\n",
    "    },\n",
    "    {\n",
    "        'leaderboard': 'https://github.com/dvlab-research/DSGN',\n",
    "        'reference': ''\n",
    "    },\n",
    "    {\n",
    "        'leaderboard': 'https://paperswithcode.com/sota/3d-lane-detection-on-openlane',\n",
    "        'reference': 'https://github.com/OpenDriveLab/OpenLane/blob/main/README.md?plain=1#L24'\n",
    "    },\n",
    "    {\n",
    "        'leaderboard': 'https://lmarena.ai',\n",
    "        'reference': 'https://github.com/shure-dev/Awesome-LLM-Papers-Comprehensive-Topics/blob/main/README.md?plain=1#L239'\n",
    "    },\n",
    "    {\n",
    "        'leaderboard': 'https://github.com/LudwigStumpp/llm-leaderboard',\n",
    "        'reference': 'https://github.com/shure-dev/Awesome-LLM-Papers-Comprehensive-Topics/blob/main/README.md?plain=1#L413'\n",
    "    },\n",
    "    {\n",
    "        'leaderboard': 'https://huggingface.co/spaces/open-llm-leaderboard/open_llm_leaderboard',\n",
    "        'reference': 'https://github.com/Abdullahw72/langchain-chatbot-multiple-PDF/blob/master/README.md?plain=1#L56'\n",
    "    },\n",
    "    {\n",
    "        'leaderboard': 'https://leaderboard.allenai.org/propara',\n",
    "        'reference': 'https://github.com/allenai/propara/blob/master/README.md?plain=1#L12'\n",
    "    },\n",
    "    {\n",
    "        'leaderboard': 'https://leaderboard.allenai.org/scifact',\n",
    "        'reference': 'https://github.com/allenai/scifact/blob/master/README.md?plain=1#L33'\n",
    "    },\n",
    "    {\n",
    "        'leaderboard': 'https://hkust-nlp.github.io/agentboard',\n",
    "        'reference': 'https://github.com/hkust-nlp/AgentBoard/blob/main/README.md?plain=1#L18'\n",
    "    },\n",
    "    {\n",
    "        'leaderboard': 'https://adeval.cstcloud.cn/content/leaderboard',\n",
    "        'reference': 'https://github.com/dawnvince/EasyTSAD/blob/main/README.md?plain=1#L27'\n",
    "    },\n",
    "    {\n",
    "        'leaderboard': 'https://tatsu-lab.github.io/alpaca_eval',\n",
    "        'reference': 'https://github.com/GeneZC/MiniMA/blob/main/README.md?plain=1#L58'\n",
    "    },\n",
    "    {\n",
    "        'leaderboard': 'https://huggingface.co/spaces/open-llm-leaderboard/open_llm_leaderboard',\n",
    "        'reference': 'https://github.com/GeneZC/MiniMA/blob/main/README.md?plain=1#L62'\n",
    "    },\n",
    "    {\n",
    "        'leaderboard': 'https://github.com/deepchem/moleculenet',\n",
    "        'reference': ''\n",
    "    },\n",
    "    {\n",
    "        'leaderboard': 'https://github.com/CLUEbenchmark/CLUE',\n",
    "        'reference': ''\n",
    "    },\n",
    "    {\n",
    "        'leaderboard': 'https://eval.ai/web/challenges/challenge-page/454/leaderboard',\n",
    "        'reference': 'https://github.com/Henry1iu/TNT-Trajectory-Prediction/blob/main/README.md?plain=1#L25'\n",
    "    },\n",
    "    {\n",
    "        'leaderboard': 'https://huggingface.co/spaces/open-llm-leaderboard/open_llm_leaderboard',\n",
    "        'reference': 'https://github.com/thestriver/ai-for-javascript-course/blob/main/README.md?plain=1#L411'\n",
    "    },\n",
    "    {\n",
    "        'leaderboard': 'https://tatsu-lab.github.io/alpaca_eval',\n",
    "        'reference': 'https://github.com/thestriver/ai-for-javascript-course/blob/main/README.md?plain=1#L413'\n",
    "    },\n",
    "    {\n",
    "        'leaderboard': 'https://www.cvlibs.net/datasets/kitti/eval_scene_flow.php',\n",
    "        'reference': 'https://github.com/jiahaopang/crl/blob/master/README.md?plain=1#L28'\n",
    "    },\n",
    "    {\n",
    "        'leaderboard': 'https://paperswithcode.com/sota/visual-entailment-on-snli-ve-val',\n",
    "        'reference': 'https://github.com/necla-ml/SNLI-VE/blob/master/README.md?plain=1#L26'\n",
    "    },\n",
    "    {\n",
    "        'leaderboard': 'https://eval.ai/web/challenges/challenge-page/1938/leaderboard',\n",
    "        'reference': 'https://github.com/buildingnet/buildingnet_dataset/blob/main/README.md?plain=1#L16'\n",
    "    },\n",
    "    {\n",
    "        'leaderboard': 'https://eval.ai/web/challenges/challenge-page/1663/leaderboard',\n",
    "        'reference': 'https://github.com/alexa/alexa-with-dstc9-track1-dataset/blob/master/README.md?plain=1#L13'\n",
    "    },\n",
    "    {\n",
    "        'leaderboard': 'https://huggingface.co/spaces/mteb/leaderboard',\n",
    "        'reference': 'https://github.com/skeskinen/llama-lite/blob/master/README.md?plain=1#L67'\n",
    "    },\n",
    "    {\n",
    "        'leaderboard': 'https://huggingface.co/spaces/optimum/llm-perf-leaderboard',\n",
    "        'reference': 'https://github.com/samuelrince/awesome-green-ai/blob/main/README.md?plain=1#L87'\n",
    "    },\n",
    "    {\n",
    "        'leaderboard': 'https://ml.energy/leaderboard',\n",
    "        'reference': 'https://github.com/samuelrince/awesome-green-ai/blob/main/README.md?plain=1#L88'\n",
    "    },\n",
    "    {\n",
    "        'leaderboard': 'https://sites.google.com/view/pgdl2020/leaderboard',\n",
    "        'reference': 'https://github.com/parthnatekar/pgdl/blob/master/README.md?plain=1#L7'\n",
    "    },\n",
    "    {\n",
    "        'leaderboard': 'https://sites.google.com/view/pgdl2020/leaderboard',\n",
    "        'reference': 'https://github.com/z-x-yang/AOT/blob/main/README.md?plain=1#L29'\n",
    "    },\n",
    "    {\n",
    "        'leaderboard': 'https://github.com/ws-choi/Conditioned-Source-Separation-LaSAFT',\n",
    "        'reference': ''\n",
    "    },\n",
    "    {\n",
    "        'leaderboard': 'https://eu.aihub.ml/competitions/201',\n",
    "        'reference': 'https://github.com/z-x-yang/AOT/blob/main/README.md?plain=1#L29'\n",
    "    },\n",
    "    {\n",
    "        'leaderboard': 'https://eu.aihub.ml/competitions/201',\n",
    "        'reference': 'https://github.com/z-x-yang/AOT/blob/main/README.md?plain=1#L31'\n",
    "    },\n",
    "    {\n",
    "        'leaderboard': 'https://eval.ai/web/challenges/challenge-page/606/leaderboard',\n",
    "        'reference': 'https://github.com/YuankaiQi/REVERIE/blob/master/README.md?plain=1#L8'\n",
    "    },\n",
    "    {\n",
    "        'leaderboard': 'https://eval.ai/web/challenges/challenge-page/2049/leaderboard',\n",
    "        'reference': 'https://github.com/eric-ai-lab/Aerial-Vision-and-Dialog-Navigation/blob/origin/README.md?plain=1#L16'\n",
    "    },\n",
    "    {\n",
    "        'leaderboard': 'https://github.com/robot-pesg/BotanicGarden/tree/main/leaderboard',\n",
    "        'reference': ''\n",
    "    },\n",
    "    {\n",
    "        'leaderboard': 'https://www.cvlibs.net/datasets/kitti/eval_object.php?obj_benchmark=3d',\n",
    "        'reference': 'https://github.com/sshaoshuai/PointRCNN/blob/master/README.md?plain=1#L18'\n",
    "    },\n",
    "    {\n",
    "        'leaderboard': 'https://rrc.cvc.uab.es/?ch=17&com=evaluation&task=4',\n",
    "        'reference': 'https://github.com/rubenpt91/MP-DocVQA-Framework/blob/master/readme.md?plain=1#L39'\n",
    "    },\n",
    "    {\n",
    "        'leaderboard': 'https://rajpurkar.github.io/SQuAD-explorer',\n",
    "        'reference': 'https://github.com/allenai/document-qa/blob/master/README.md?plain=1#L167'\n",
    "    },\n",
    "    {\n",
    "        'leaderboard': 'https://github.com/pangeo-data/WeatherBench',\n",
    "        'reference': ''\n",
    "    },\n",
    "    {\n",
    "        'leaderboard': 'https://cares-ai.github.io/#leaderboard',\n",
    "        'reference': 'https://github.com/richard-peng-xia/CARES/blob/main/README.md?plain=1#L12'\n",
    "    },\n",
    "    {\n",
    "        'leaderboard': 'https://github.com/GAIR-NLP/benbench',\n",
    "        'reference': ''\n",
    "    },\n",
    "    {\n",
    "        'leaderboard': 'https://huggingface.co/spaces/eduagarcia/open_pt_llm_leaderboard',\n",
    "        'reference': 'https://github.com/ajdavidl/Portuguese-NLP/blob/main/README.md?plain=1#L237'\n",
    "    },\n",
    "    {\n",
    "        'leaderboard': 'https://eval.ai/web/challenges/challenge-page/97/leaderboard',\n",
    "        'reference': 'https://github.com/peteanderson80/Matterport3DSimulator/blob/master/README.md?plain=1#L50'\n",
    "    },\n",
    "    {\n",
    "        'leaderboard': 'https://github.com/Master-PLC/FreDF',\n",
    "        'reference': ''\n",
    "    },\n",
    "    {\n",
    "        'leaderboard': 'https://lmarena.ai',\n",
    "        'reference': 'https://github.com/eugeneyan/open-llms/blob/main/README.md?plain=1#L109'\n",
    "    },\n",
    "    {\n",
    "        'leaderboard': 'https://twitter.com/jefrankle/status/1654631746506301441',\n",
    "        'reference': 'https://github.com/eugeneyan/open-llms/blob/main/README.md?plain=1#L110'\n",
    "    },\n",
    "    {\n",
    "        'leaderboard': 'https://crfm.stanford.edu/helm',\n",
    "        'reference': 'https://github.com/eugeneyan/open-llms/blob/main/README.md?plain=1#L111'\n",
    "    },\n",
    "    {\n",
    "        'leaderboard': 'https://github.com/LudwigStumpp/llm-leaderboard',\n",
    "        'reference': 'https://github.com/eugeneyan/open-llms/blob/main/README.md?plain=1#L112'\n",
    "    },\n",
    "    {\n",
    "        'leaderboard': 'https://huggingface.co/spaces/open-llm-leaderboard/open_llm_leaderboard',\n",
    "        'reference': 'https://github.com/eugeneyan/open-llms/blob/main/README.md?plain=1#L114'\n",
    "    },\n",
    "    {\n",
    "        'leaderboard': 'https://github.com/lfy79001/TableQAKit',\n",
    "        'reference': ''\n",
    "    },\n",
    "    {\n",
    "        'leaderboard': 'https://leaderboard.allenai.org/open_book_qa',\n",
    "        'reference': 'https://github.com/allenai/OpenBookQA/blob/main/README.md?plain=1#L16'\n",
    "    },\n",
    "    {\n",
    "        'leaderboard': 'http://www.cvlibs.net/datasets/kitti/eval_tracking.php',\n",
    "        'reference': 'https://github.com/aleksandrkim61/EagerMOT/blob/open_main/README.md?plain=1#L27'\n",
    "    },\n",
    "    {\n",
    "        'leaderboard': 'https://www.nuscenes.org/tracking',\n",
    "        'reference': 'https://github.com/aleksandrkim61/EagerMOT/blob/open_main/README.md?plain=1#L28'\n",
    "    },\n",
    "    {\n",
    "        'leaderboard': 'https://tatsu-lab.github.io/alpaca_eval',\n",
    "        'reference': 'https://github.com/thunlp/UltraChat/blob/main/README.md?plain=1#L35'\n",
    "    },\n",
    "    {\n",
    "        'leaderboard': 'https://github.com/jiachens/ModelNet40-C',\n",
    "        'reference': ''\n",
    "    },\n",
    "    {\n",
    "        'leaderboard': 'https://huggingface.co/spaces/mteb/leaderboard',\n",
    "        'reference': 'https://github.com/Anush008/fastembed-go/blob/main/README.md?plain=1#L18'\n",
    "    },\n",
    "    {\n",
    "        'leaderboard': 'https://eval.ai/web/challenges/challenge-page/830/leaderboard',\n",
    "        'reference': 'https://github.com/microsoft/unilm/blob/master/README.md?plain=1#L139'\n",
    "    },\n",
    "    {\n",
    "        'leaderboard': 'https://superbbenchmark.org/leaderboard',\n",
    "        'reference': 'https://github.com/microsoft/unilm/blob/master/README.md?plain=1#L143'\n",
    "    },\n",
    "    {\n",
    "        'leaderboard': 'https://sites.research.google/xtreme',\n",
    "        'reference': 'https://github.com/microsoft/unilm/blob/master/README.md?plain=1#L146'\n",
    "    },\n",
    "    {\n",
    "        'leaderboard': 'https://rrc.cvc.uab.es/?ch=17&com=evaluation&task=1',\n",
    "        'reference': 'https://github.com/microsoft/unilm/blob/master/README.md?plain=1#L158'\n",
    "    },\n",
    "    {\n",
    "        'leaderboard': 'https://rrc.cvc.uab.es/?ch=13&com=evaluation&task=3',\n",
    "        'reference': 'https://github.com/microsoft/unilm/blob/master/README.md?plain=1#L158'\n",
    "    },\n",
    "    {\n",
    "        'leaderboard': 'https://rajpurkar.github.io/SQuAD-explorer',\n",
    "        'reference': 'https://github.com/duyunshu/bert-sentiment-analysis/blob/master/README.md?plain=1#L158'\n",
    "    },\n",
    "    {\n",
    "        'leaderboard': 'https://paperswithcode.com/sota/code-generation-on-humaneval',\n",
    "        'reference': 'https://github.com/alekst23/simple-coder/blob/main/README.md?plain=1#L15'\n",
    "    },\n",
    "    {\n",
    "        'leaderboard': 'https://hotpotqa.github.io',\n",
    "        'reference': 'https://github.com/woshiyyya/DFGN-pytorch/blob/master/readme.md?plain=1#L15'\n",
    "    },\n",
    "    {\n",
    "        'leaderboard': 'https://tatsu-lab.github.io/alpaca_eval',\n",
    "        'reference': 'https://github.com/eugeneyan/llm-paper-notes/blob/main/README.md?plain=1#L94'\n",
    "    },\n",
    "    {\n",
    "        'leaderboard': 'https://huggingface.co/spaces/open-llm-leaderboard/open_llm_leaderboard',\n",
    "        'reference': 'https://github.com/smartyfh/LLM-Uncertainty-Bench/blob/main/README.md?plain=1#L24'\n",
    "    },\n",
    "    {\n",
    "        'leaderboard': 'https://www.swebench.com',\n",
    "        'reference': 'https://github.com/aorwall/moatless-tools/blob/main/README.md?plain=1#L5'\n",
    "    },\n",
    "    {\n",
    "        'leaderboard': 'https://huggingface.co/spaces/open-llm-leaderboard/open_llm_leaderboard',\n",
    "        'reference': 'https://github.com/HqWu-HITCS/Awesome-Chinese-LLM/blob/main/README.md?plain=1#L1067'\n",
    "    },\n",
    "    {\n",
    "        'leaderboard': 'https://lvbench.github.io/#leaderboard',\n",
    "        'reference': 'https://github.com/THUDM/LVBench/blob/main/README.md?plain=1#L11'\n",
    "    },\n",
    "    {\n",
    "        'leaderboard': 'https://github.com/cbvrp-acmmm-2019/cbvrp-acmmm-2019',\n",
    "        'reference': ''\n",
    "    },\n",
    "    {\n",
    "        'leaderboard': 'https://www.kaggle.com/c/jigsaw-unintended-bias-in-toxicity-classification/leaderboard',\n",
    "        'reference': 'https://github.com/thuwyh/Jigsaw-Unintended-Bias-in-Toxicity-Classification/blob/master/README.md?plain=1#L2'\n",
    "    },\n",
    "    {\n",
    "        'leaderboard': 'https://huggingface.co/spaces/openlifescienceai/open_medical_llm_leaderboard',\n",
    "        'reference': 'https://github.com/TsinghuaC3I/UltraMedical/blob/main/README.md?plain=1#L129'\n",
    "    },\n",
    "    {\n",
    "        'leaderboard': 'https://leaderboard.carla.org/leaderboard',\n",
    "        'reference': 'https://github.com/autonomousvision/carla_garage/blob/main/README.md?plain=1#L176'\n",
    "    },\n",
    "    {\n",
    "        'leaderboard': 'https://github.com/yuh-zha/AlignScore',\n",
    "        'reference': ''\n",
    "    },\n",
    "    {\n",
    "        'leaderboard': 'https://cocodataset.org/#captions-leaderboard',\n",
    "        'reference': 'https://github.com/peteanderson80/Up-Down-Captioner/blob/master/README.md?plain=1#L3'\n",
    "    },\n",
    "    {\n",
    "        'leaderboard': 'https://huggingface.co/spaces/mike-ravkine/can-ai-code-results',\n",
    "        'reference': 'https://github.com/the-crypt-keeper/can-ai-code/blob/main/README.md?plain=1#L37'\n",
    "    },\n",
    "    {\n",
    "        'leaderboard': 'https://huggingface.co/spaces/allenai/WildBench',\n",
    "        'reference': 'https://github.com/allenai/WildBench/blob/main/README.md?plain=1#L8'\n",
    "    },\n",
    "    {\n",
    "        'leaderboard': 'https://paperswithcode.com/task/node-classification-on-non-homophilic',\n",
    "        'reference': 'https://github.com/SitaoLuan/ACM-GNN/blob/main/README.md?plain=1#L129'\n",
    "    },\n",
    "    {\n",
    "        'leaderboard': 'https://waymo.com/open/challenges/2020/3d-detection',\n",
    "        'reference': 'https://github.com/PJLab-ADG/LoGoNet/blob/main/README.md?plain=1#L14'\n",
    "    },\n",
    "    {\n",
    "        'leaderboard': 'https://paperswithcode.com/sota/3d-depth-estimation-on-relative-human',\n",
    "        'reference': 'https://github.com/Arthur151/Relative_Human/blob/master/README.md?plain=1#L27'\n",
    "    },\n",
    "    {\n",
    "        'leaderboard': 'https://huggingface.co/spaces/mteb/leaderboard',\n",
    "        'reference': 'https://github.com/infrawhispers/anansi/blob/main/README.md?plain=1#L30'\n",
    "    },\n",
    "    {\n",
    "        'leaderboard': 'https://www.kaggle.com/c/google-quest-challenge/leaderboard',\n",
    "        'reference': 'https://github.com/oleg-yaroshevskiy/quest_qa_labeling/blob/master/README.md?plain=1#L109'\n",
    "    },\n",
    "    {\n",
    "        'leaderboard': 'https://huggingface.co/spaces/open-llm-leaderboard/open_llm_leaderboard',\n",
    "        'reference': 'https://github.com/jincheng9/gpt-tutorial/blob/main/README.md?plain=1#L114'\n",
    "    },\n",
    "    {\n",
    "        'leaderboard': 'https://www.aicrowd.com/challenges/unity-obstacle-tower-challenge/leaderboards',\n",
    "        'reference': 'https://github.com/Unity-Technologies/obstacle-tower-source/blob/master/README.md?plain=1#L40'\n",
    "    },\n",
    "    {\n",
    "        'leaderboard': 'https://www.aicrowd.com/challenges/neurips-2021-minerl-diamond-competition/leaderboards',\n",
    "        'reference': 'https://github.com/minerllabs/competition_submission_template/blob/master/README.md?plain=1#L14'\n",
    "    },\n",
    "    {\n",
    "        'leaderboard': 'http://host.robots.ox.ac.uk:8080/leaderboard/displaylb_dt.php?challengeid=6&compid=4',\n",
    "        'reference': 'https://github.com/rbgirshick/rcnn/blob/master/README.md?plain=1#L39'\n",
    "    },\n",
    "    {\n",
    "        'leaderboard': 'http://host.robots.ox.ac.uk:8080/leaderboard/displaylb_dt.php?challengeid=11&compid=4',\n",
    "        'reference': 'https://github.com/rbgirshick/rcnn/blob/master/README.md?plain=1#40'\n",
    "    },\n",
    "    {\n",
    "        'leaderboard': 'https://leaderboard.allenai.org/robothor_objectnav',\n",
    "        'reference': 'https://github.com/allenai/robothor-challenge/blob/main/README.md?plain=1#L105'\n",
    "    },\n",
    "    {\n",
    "        'leaderboard': 'https://paperswithcode.com/sota/math-word-problem-solving-on-svamp',\n",
    "        'reference': 'https://github.com/chuanyang-Zheng/Progressive-Hint/blob/main/README.md?plain=1#L32'\n",
    "    },\n",
    "    {\n",
    "        'leaderboard': 'https://paperswithcode.com/sota/arithmetic-reasoning-on-gsm8k',\n",
    "        'reference': 'https://github.com/chuanyang-Zheng/Progressive-Hint/blob/main/README.md?plain=1#L32'\n",
    "    },\n",
    "    {\n",
    "        'leaderboard': 'https://paperswithcode.com/sota/math-word-problem-solving-on-math',\n",
    "        'reference': 'https://github.com/chuanyang-Zheng/Progressive-Hint/blob/main/README.md?plain=1#L32'\n",
    "    },\n",
    "    {\n",
    "        'leaderboard': 'https://mmbench.opencompass.org.cn/leaderboard',\n",
    "        'reference': 'https://github.com/codefuse-ai/CodeFuse-MFT-VLM/blob/master/README.md?plain=1#L16'\n",
    "    },\n",
    "    {\n",
    "        'leaderboard': 'https://github.com/codefuse-ai/codefuse-devops-eval',\n",
    "        'reference': ''\n",
    "    },\n",
    "    {\n",
    "        'leaderboard': 'https://www.kaggle.com/c/feedback-prize-2021/leaderboard',\n",
    "        'reference': 'https://github.com/affjljoo3581/Feedback-Prize-Competition/blob/master/README.md?plain=1#L5'\n",
    "    },\n",
    "    {\n",
    "        'leaderboard': 'https://gluebenchmark.com/leaderboard',\n",
    "        'reference': 'https://github.com/microsoft/MT-DNN/blob/master/README.md?plain=1#L227'\n",
    "    },\n",
    "    {\n",
    "        'leaderboard': 'https://github.com/AI-secure/Certified-Robustness-SoK-Oldver',\n",
    "        'reference': ''\n",
    "    },\n",
    "    {\n",
    "        'leaderboard': 'https://sokcertifiedrobustness.github.io/leaderboard',\n",
    "        'reference': 'https://github.com/AI-secure/Certified-Robustness-SoK-Oldver/blob/master/README.md?plain=1#L1'\n",
    "    },\n",
    "    {\n",
    "        'leaderboard': 'https://ml.energy/leaderboard',\n",
    "        'reference': 'https://github.com/Green-Software-Foundation/awesome-green-software/blob/main/readme.md?plain=1#L125'\n",
    "    },\n",
    "    {\n",
    "        'leaderboard': 'https://waymo.com/open/challenges/2020/3d-detection',\n",
    "        'reference': 'https://github.com/ADLab-AutoDrive/INT/blob/main/README.md?plain=1#L37'\n",
    "    },\n",
    "    {\n",
    "        'leaderboard': 'https://waymo.com/open/challenges/2023/motion-prediction',\n",
    "        'reference': 'https://github.com/zhejz/HPTR/blob/main/README.md?plain=1#L26'\n",
    "    },\n",
    "    {\n",
    "        'leaderboard': 'https://eval.ai/web/challenges/challenge-page/1719/leaderboard',\n",
    "        'reference': 'https://github.com/zhejz/HPTR/blob/main/README.md?plain=1#L69'\n",
    "    },\n",
    "    {\n",
    "        'leaderboard': 'https://huggingface.co/spaces/yentinglin/open-tw-llm-leaderboard',\n",
    "        'reference': 'https://github.com/MiuLab/Taiwan-LLM/blob/main/README.md?plain=1#L77'\n",
    "    },\n",
    "    {\n",
    "        'leaderboard': 'https://www.kaggle.com/c/home-credit-default-risk/leaderboard',\n",
    "        'reference': 'https://github.com/KazukiOnodera/Home-Credit-Default-Risk/blob/master/README.md?plain=1#L2'\n",
    "    },\n",
    "    {\n",
    "        'leaderboard': 'https://codalab.lisn.upsaclay.fr/competitions/4318',\n",
    "        'reference': 'https://github.com/shreyashampali/kypt_transformer/blob/master/README.md?plain=1#L120'\n",
    "    },\n",
    "    {\n",
    "        'leaderboard': 'https://codalab.lisn.upsaclay.fr/competitions/4897',\n",
    "        'reference': 'https://github.com/shreyashampali/kypt_transformer/blob/master/README.md?plain=1#L138'\n",
    "    },\n",
    "    {\n",
    "        'leaderboard': 'https://eval.ai/web/challenges/challenge-page/689/leaderboard',\n",
    "        'reference': 'https://github.com/martiansideofthemoon/hurdles-longform-qa/blob/main/README.md?plain=1#L115'\n",
    "    },\n",
    "    {\n",
    "        'leaderboard': 'https://codalab.lisn.upsaclay.fr/competitions/6738',\n",
    "        'reference': 'https://github.com/psunlpgroup/MultiHiertt/blob/main/README.md?plain=1#L13'\n",
    "    },\n",
    "    {\n",
    "        'leaderboard': 'https://huggingface.co/spaces/open-llm-leaderboard/open_llm_leaderboard',\n",
    "        'reference': 'https://github.com/sci-m-wang/LangGPT-tools/blob/main/README.md?plain=1#L29'\n",
    "    },\n",
    "    {\n",
    "        'leaderboard': 'https://skyworkai.github.io/agent-studio',\n",
    "        'reference': 'https://github.com/SkyworkAI/agent-studio/blob/main/README.md?plain=1#L39'\n",
    "    },\n",
    "    {\n",
    "        'leaderboard': 'https://flageval.baai.ac.cn/#/leaderboard/multimodal',\n",
    "        'reference': 'https://github.com/Kwai-Kolors/Kolors/blob/master/README.md?plain=1#L60'\n",
    "    },\n",
    "    {\n",
    "        'leaderboard': 'https://huggingface.co/spaces/open-llm-leaderboard/open_llm_leaderboard',\n",
    "        'reference': 'https://github.com/wel3kxial/AIGC_Resources/blob/main/README.md?plain=1#L758'\n",
    "    },\n",
    "    {\n",
    "        'leaderboard': 'https://github.com/THUDM/ReST-MCTS',\n",
    "        'reference': ''\n",
    "    },\n",
    "    {\n",
    "        'leaderboard': 'https://www.cluebenchmarks.com',\n",
    "        'reference': 'https://github.com/aymericdamien/TopDeepLearning/blob/master/README.md?plain=1#L733'\n",
    "    },\n",
    "    {\n",
    "        'leaderboard': 'https://github.com/lampts/my_dl_solutions',\n",
    "        'reference': ''\n",
    "    },\n",
    "    {\n",
    "        'leaderboard': 'https://github.com/DengPingFan/DAVSOD',\n",
    "        'reference': ''\n",
    "    },\n",
    "    {\n",
    "        'leaderboard': 'http://convai.io',\n",
    "        'reference': 'https://github.com/aliannejadi/ClariQ/blob/master/README.md?plain=1#L475'\n",
    "    },\n",
    "    {\n",
    "        'leaderboard': 'http://got-10k.aitestunion.com/leaderboard',\n",
    "        'reference': 'https://github.com/got-10k/siamfc/blob/master/README.md?plain=1#L13'\n",
    "    },\n",
    "    {\n",
    "        'leaderboard': 'https://github.com/SiatMMLab/Awesome-Diffusion-Model-Based-Image-Editing-Methods/blob/main/Leaderboard.md',\n",
    "        'reference': ''\n",
    "    },\n",
    "    {\n",
    "        'leaderboard': 'https://klue-benchmark.com/leaderboard',\n",
    "        'reference': 'https://github.com/KLUE-benchmark/KLUE/blob/main/README.md?plain=1#L70'\n",
    "    },\n",
    "    {\n",
    "        'leaderboard': 'https://crux-eval.github.io/leaderboard.html',\n",
    "        'reference': 'https://github.com/facebookresearch/cruxeval/blob/main/README.md?plain=1#L6'\n",
    "    },\n",
    "    {\n",
    "        'leaderboard': 'https://github.com/inspire-group/patch-defense-leaderboard',\n",
    "        'reference': 'https://github.com/inspire-group/PatchCleanser/blob/main/README.md?plain=1#L27'\n",
    "    },\n",
    "    {\n",
    "        'leaderboard': 'https://github.com/Magnetic2014/RoleEval',\n",
    "        'reference': ''\n",
    "    },\n",
    "    {\n",
    "        'leaderboard': 'https://github.com/SoccerNet/sn-spotting',\n",
    "        'reference': ''\n",
    "    },\n",
    "    {\n",
    "        'leaderboard': 'https://github.com/sejong-rcv/MLPD-Multi-Label-Pedestrian-Detection',\n",
    "        'reference': ''\n",
    "    },\n",
    "    {\n",
    "        'leaderboard': 'https://rajpurkar.github.io/SQuAD-explorer',\n",
    "        'reference': 'https://github.com/dallascard/NLP-power-analysis/blob/master/README.md?plain=1#L43'\n",
    "    },\n",
    "    {\n",
    "        'leaderboard': 'https://www.aicrowd.com/challenges/imageclef-2019-vqa-med/leaderboards',\n",
    "        'reference': 'https://github.com/abachaa/VQA-Med-2019/blob/master/README.md?plain=1#L6'\n",
    "    },\n",
    "    {\n",
    "        'leaderboard': 'https://ogb.stanford.edu/docs/leader_nodeprop/#ogbn-arxiv',\n",
    "        'reference': 'https://github.com/ytchx1999/PyG-OGB-Tricks/blob/main/README.md?plain=1#L20'\n",
    "    },\n",
    "    {\n",
    "        'leaderboard': 'hhttps://ogb.stanford.edu/docs/leader_nodeprop/#ogbn-mag',\n",
    "        'reference': 'https://github.com/ytchx1999/PyG-OGB-Tricks/blob/main/README.md?plain=1#L25'\n",
    "    },\n",
    "    {\n",
    "        'leaderboard': 'https://ogb.stanford.edu/docs/leader_nodeprop/#ogbn-products',\n",
    "        'reference': 'https://github.com/ytchx1999/PyG-OGB-Tricks/blob/main/README.md?plain=1#L30'\n",
    "    },\n",
    "    {\n",
    "        'leaderboard': 'https://ogb.stanford.edu/docs/leader_nodeprop/#ogbn-proteins',\n",
    "        'reference': 'https://github.com/ytchx1999/PyG-OGB-Tricks/blob/main/README.md?plain=1#L36'\n",
    "    },\n",
    "    {\n",
    "        'leaderboard': 'https://eval.ai/web/challenges/challenge-page/514/leaderboard',\n",
    "        'reference': 'https://github.com/pzzhang/VinVL/blob/main/README.md?plain=1#L31'\n",
    "    },\n",
    "    {\n",
    "        'leaderboard': 'https://eval.ai/web/challenges/challenge-page/355/leaderboard',\n",
    "        'reference': 'https://github.com/pzzhang/VinVL/blob/main/README.md?plain=1#L31'\n",
    "    },\n",
    "    {\n",
    "        'leaderboard': 'https://leaderboard.allenai.org/vcr',\n",
    "        'reference': 'https://github.com/pzzhang/VinVL/blob/main/README.md?plain=1#L31'\n",
    "    },\n",
    "    {\n",
    "        'leaderboard': 'https://github.com/layer6ai-labs/dgm-eval',\n",
    "        'reference': ''\n",
    "    },\n",
    "    {\n",
    "        'leaderboard': 'https://github.com/salesforce/decaNLP',\n",
    "        'reference': ''\n",
    "    },\n",
    "    {\n",
    "        'leaderboard': 'https://leaderboard.carla.org/leaderboard',\n",
    "        'reference': 'https://github.com/carla-simulator/carla/blob/dev/README.md?plain=1#L50'\n",
    "    },\n",
    "    {\n",
    "        'leaderboard': 'https://github.com/eugenesiow/super-image',\n",
    "        'reference': ''\n",
    "    },\n",
    "    {\n",
    "        'leaderboard': 'https://github.com/liuye6666/EWR-PGD',\n",
    "        'reference': ''\n",
    "    },\n",
    "    {\n",
    "        'leaderboard': 'http://host.robots.ox.ac.uk:8080/leaderboard/displaylb.php?challengeid=11&compid=6',\n",
    "        'reference': 'https://github.com/TheLegendAli/DeepLab-Context/blob/master/README.md?plain=1#L39'\n",
    "    },\n",
    "    {\n",
    "        'leaderboard': 'https://github.com/SoccerNet/sn-tracking',\n",
    "        'reference': ''\n",
    "    },\n",
    "    {\n",
    "        'leaderboard': 'https://leaderboard.allenai.org/mctaco',\n",
    "        'reference': 'https://github.com/CogComp/MCTACO/blob/master/README.md?plain=1#L9'\n",
    "    },\n",
    "    {\n",
    "        'leaderboard': 'https://cl-detection2023.grand-challenge.org/evaluation/challenge/leaderboard',\n",
    "        'reference': 'https://github.com/5k5000/CLdetection2023/blob/master/README.md?plain=1#L7'\n",
    "    },\n",
    "    {\n",
    "        'leaderboard': 'https://cl-detection2023.grand-challenge.org/evaluation/testing/leaderboard',\n",
    "        'reference': 'https://github.com/5k5000/CLdetection2023/blob/master/README.md?plain=1#L7'\n",
    "    },\n",
    "    {\n",
    "        'leaderboard': 'https://sokcertifiedrobustness.github.io/leaderboard',\n",
    "        'reference': 'https://github.com/yinizhilian/ICLR2024-Papers-with-Code/blob/main/README.md?plain=1#L2853'\n",
    "    },\n",
    "    {\n",
    "        'leaderboard': 'https://codalab.lisn.upsaclay.fr/competitions/7395',\n",
    "        'reference': 'https://github.com/thunlp/Knowledge-Plugin/blob/master/README.md?plain=1#L137'\n",
    "    },\n",
    "    {\n",
    "        'leaderboard': 'https://github.com/Kali-Hac/Awesome-Skeleton-Based-Models/tree/main/skeleton-based-action-recognition',\n",
    "        'reference': ''\n",
    "    },\n",
    "    {\n",
    "        'leaderboard': 'https://github.com/Kali-Hac/Awesome-Skeleton-Based-Models/tree/main/3D-pose-estimation',\n",
    "        'reference': ''\n",
    "    },\n",
    "    {\n",
    "        'leaderboard': 'https://github.com/Kali-Hac/Awesome-Skeleton-Based-Models/tree/main/skeleton-based-person-reID',\n",
    "        'reference': ''\n",
    "    },\n",
    "    {\n",
    "        'leaderboard': 'https://nl2sql360.github.io/#leaderboard',\n",
    "        'reference': 'https://github.com/HKUSTDial/NL2SQL360/blob/master/README.md?plain=1#L15'\n",
    "    },\n",
    "    {\n",
    "        'leaderboard': 'https://github.com/yanyanSann/Long-Tailed-Classification-Leaderboard',\n",
    "        'reference': 'https://github.com/zhangyongshun/BagofTricks-LT/blob/main/README.md?plain=1#L309'\n",
    "    },\n",
    "    {\n",
    "        'leaderboard': 'https://teddy-xionggz.github.io/MIRAGE',\n",
    "        'reference': 'https://github.com/Teddy-XiongGZ/MIRAGE/blob/main/README.md?plain=1#L115'\n",
    "    },\n",
    "]\n",
    "\n",
    "leaderboard_secondary = [\n",
    "    {\n",
    "        'original': 'https://gluebenchmark.com/leaderboard',\n",
    "        'descendants': ['https://super.gluebenchmark.com/leaderboard']\n",
    "    },\n",
    "    {\n",
    "        'original': 'https://www.cluebenchmarks.com',\n",
    "        'descendants': ['https://www.superclueai.com', 'https://github.com/CLUEbenchmark/SuperCLUEgkzw', 'https://www.langyb.com']\n",
    "    },\n",
    "    {\n",
    "        'original': 'https://rank.opencompass.org.cn/leaderboard-llm',\n",
    "        'descendants': ['https://rank.opencompass.org.cn/leaderboard-llm-academic', 'https://rank.opencompass.org.cn/leaderboard-arena', 'https://rank.opencompass.org.cn/leaderboard-multimodal']\n",
    "    },\n",
    "    {\n",
    "        'original': 'https://artificialanalysis.ai/text-to-image',\n",
    "        'descendants': ['https://artificialanalysis.ai/leaderboards/models', 'https://artificialanalysis.ai/leaderboards/providers', 'https://artificialanalysis.ai/speech-to-text', 'https://artificialanalysis.ai/text-to-speech']\n",
    "    },\n",
    "    {\n",
    "        'original': 'https://flageval.baai.ac.cn/#/leaderboard/multimodal',\n",
    "        'descendants': ['https://flageval.baai.ac.cn/#/leaderboard/nlp-capability', 'https://flageval.baai.ac.cn/#/leaderboard/k12']\n",
    "    },\n",
    "]"
   ]
  },
  {
   "cell_type": "code",
   "execution_count": 18,
   "metadata": {},
   "outputs": [
    {
     "name": "stdout",
     "output_type": "stream",
     "text": [
      "There are 4 dataset-oriented leaderboards.\n",
      "There are 15 method-oriented leaderboards.\n",
      "There are 1 metric-oriented leaderboards.\n"
     ]
    }
   ],
   "source": [
    "print(f'There are {len(dataset_oriented_leaderboards)} dataset-oriented leaderboards.')\n",
    "print(f'There are {len(method_oriented_leaderboards)} method-oriented leaderboards.')\n",
    "print(f'There are {len(metric_oriented_leaderboards)} metric-oriented leaderboards.')\n",
    "# There are 402 EvalAI + 648 Kaggle + 1 TAOST + 5 Artificial Analysis + rest = 1062 solution-oriented leaderboards.\n",
    "# There are 5312 PapersWithCode + 78 GitHub + 336 HuggingFace + 49 Independent = 5775 model-oriented leaderboards."
   ]
  },
  {
   "cell_type": "code",
   "execution_count": 19,
   "metadata": {},
   "outputs": [],
   "source": [
    "with pd.ExcelFile(path_meta / 'Foundation Model Leaderboards.xlsx') as excel_file:\n",
    "    df_leaderboard = pd.read_excel(excel_file, sheet_name='Leaderboard')\n",
    "\n",
    "    df_leaderboard_expanded = []\n",
    "    for idx, row in df_leaderboard.iterrows():\n",
    "        task = row['Name']\n",
    "        if task in pwc_leaderboard_mapping and row['Platforms'] == 'pwc':\n",
    "            sub_names = pwc_leaderboard_mapping[task]\n",
    "            for sub_name in sub_names:\n",
    "                new_row = row.copy()\n",
    "                new_row['Name'] = sub_name\n",
    "                df_leaderboard_expanded.append(new_row)\n",
    "        else:\n",
    "            df_leaderboard_expanded.append(row)\n",
    "\n",
    "    df_leaderboard_expanded = pd.DataFrame(df_leaderboard_expanded)\n",
    "    df_leaderboard_expanded.to_csv(path_meta / 'leaderboard_processed.csv', index=False)"
   ]
  },
  {
   "cell_type": "code",
   "execution_count": 20,
   "metadata": {},
   "outputs": [
    {
     "name": "stdout",
     "output_type": "stream",
     "text": [
      "Total number of leaderboards: 721\n",
      "16.64% (120 out of 721) leaderboards do not have any model provenence links.\n",
      "7.91% (57 out of 721) leaderboards are hosted on multiple platforms.\n"
     ]
    },
    {
     "data": {
      "application/vnd.plotly.v1+json": {
       "config": {
        "plotlyServerURL": "https://plot.ly"
       },
       "data": [
        {
         "alignmentgroup": "True",
         "hovertemplate": "Host Platforms=%{x}<br>Number of Leaderboards=%{y}<extra></extra>",
         "legendgroup": "",
         "marker": {
          "color": "#636efa",
          "pattern": {
           "shape": ""
          }
         },
         "name": "",
         "offsetgroup": "",
         "orientation": "v",
         "showlegend": false,
         "textposition": "auto",
         "texttemplate": "%{y}",
         "type": "bar",
         "x": [
          "pwc",
          "hf",
          "gh",
          "ip",
          "gh,hf",
          "gh,ip",
          "hf,ip",
          "gh,pwc",
          "gh,hf,ip",
          "gh,hf,ip,pwc"
         ],
         "xaxis": "x",
         "y": [
          443,
          84,
          77,
          60,
          19,
          19,
          14,
          2,
          2,
          1
         ],
         "yaxis": "y"
        }
       ],
       "layout": {
        "autosize": true,
        "barmode": "relative",
        "height": 800,
        "legend": {
         "tracegroupgap": 0
        },
        "margin": {
         "b": 10,
         "l": 10,
         "pad": 4,
         "r": 10,
         "t": 10
        },
        "template": {
         "data": {
          "bar": [
           {
            "error_x": {
             "color": "#2a3f5f"
            },
            "error_y": {
             "color": "#2a3f5f"
            },
            "marker": {
             "line": {
              "color": "#E5ECF6",
              "width": 0.5
             },
             "pattern": {
              "fillmode": "overlay",
              "size": 10,
              "solidity": 0.2
             }
            },
            "type": "bar"
           }
          ],
          "barpolar": [
           {
            "marker": {
             "line": {
              "color": "#E5ECF6",
              "width": 0.5
             },
             "pattern": {
              "fillmode": "overlay",
              "size": 10,
              "solidity": 0.2
             }
            },
            "type": "barpolar"
           }
          ],
          "carpet": [
           {
            "aaxis": {
             "endlinecolor": "#2a3f5f",
             "gridcolor": "white",
             "linecolor": "white",
             "minorgridcolor": "white",
             "startlinecolor": "#2a3f5f"
            },
            "baxis": {
             "endlinecolor": "#2a3f5f",
             "gridcolor": "white",
             "linecolor": "white",
             "minorgridcolor": "white",
             "startlinecolor": "#2a3f5f"
            },
            "type": "carpet"
           }
          ],
          "choropleth": [
           {
            "colorbar": {
             "outlinewidth": 0,
             "ticks": ""
            },
            "type": "choropleth"
           }
          ],
          "contour": [
           {
            "colorbar": {
             "outlinewidth": 0,
             "ticks": ""
            },
            "colorscale": [
             [
              0,
              "#0d0887"
             ],
             [
              0.1111111111111111,
              "#46039f"
             ],
             [
              0.2222222222222222,
              "#7201a8"
             ],
             [
              0.3333333333333333,
              "#9c179e"
             ],
             [
              0.4444444444444444,
              "#bd3786"
             ],
             [
              0.5555555555555556,
              "#d8576b"
             ],
             [
              0.6666666666666666,
              "#ed7953"
             ],
             [
              0.7777777777777778,
              "#fb9f3a"
             ],
             [
              0.8888888888888888,
              "#fdca26"
             ],
             [
              1,
              "#f0f921"
             ]
            ],
            "type": "contour"
           }
          ],
          "contourcarpet": [
           {
            "colorbar": {
             "outlinewidth": 0,
             "ticks": ""
            },
            "type": "contourcarpet"
           }
          ],
          "heatmap": [
           {
            "colorbar": {
             "outlinewidth": 0,
             "ticks": ""
            },
            "colorscale": [
             [
              0,
              "#0d0887"
             ],
             [
              0.1111111111111111,
              "#46039f"
             ],
             [
              0.2222222222222222,
              "#7201a8"
             ],
             [
              0.3333333333333333,
              "#9c179e"
             ],
             [
              0.4444444444444444,
              "#bd3786"
             ],
             [
              0.5555555555555556,
              "#d8576b"
             ],
             [
              0.6666666666666666,
              "#ed7953"
             ],
             [
              0.7777777777777778,
              "#fb9f3a"
             ],
             [
              0.8888888888888888,
              "#fdca26"
             ],
             [
              1,
              "#f0f921"
             ]
            ],
            "type": "heatmap"
           }
          ],
          "heatmapgl": [
           {
            "colorbar": {
             "outlinewidth": 0,
             "ticks": ""
            },
            "colorscale": [
             [
              0,
              "#0d0887"
             ],
             [
              0.1111111111111111,
              "#46039f"
             ],
             [
              0.2222222222222222,
              "#7201a8"
             ],
             [
              0.3333333333333333,
              "#9c179e"
             ],
             [
              0.4444444444444444,
              "#bd3786"
             ],
             [
              0.5555555555555556,
              "#d8576b"
             ],
             [
              0.6666666666666666,
              "#ed7953"
             ],
             [
              0.7777777777777778,
              "#fb9f3a"
             ],
             [
              0.8888888888888888,
              "#fdca26"
             ],
             [
              1,
              "#f0f921"
             ]
            ],
            "type": "heatmapgl"
           }
          ],
          "histogram": [
           {
            "marker": {
             "pattern": {
              "fillmode": "overlay",
              "size": 10,
              "solidity": 0.2
             }
            },
            "type": "histogram"
           }
          ],
          "histogram2d": [
           {
            "colorbar": {
             "outlinewidth": 0,
             "ticks": ""
            },
            "colorscale": [
             [
              0,
              "#0d0887"
             ],
             [
              0.1111111111111111,
              "#46039f"
             ],
             [
              0.2222222222222222,
              "#7201a8"
             ],
             [
              0.3333333333333333,
              "#9c179e"
             ],
             [
              0.4444444444444444,
              "#bd3786"
             ],
             [
              0.5555555555555556,
              "#d8576b"
             ],
             [
              0.6666666666666666,
              "#ed7953"
             ],
             [
              0.7777777777777778,
              "#fb9f3a"
             ],
             [
              0.8888888888888888,
              "#fdca26"
             ],
             [
              1,
              "#f0f921"
             ]
            ],
            "type": "histogram2d"
           }
          ],
          "histogram2dcontour": [
           {
            "colorbar": {
             "outlinewidth": 0,
             "ticks": ""
            },
            "colorscale": [
             [
              0,
              "#0d0887"
             ],
             [
              0.1111111111111111,
              "#46039f"
             ],
             [
              0.2222222222222222,
              "#7201a8"
             ],
             [
              0.3333333333333333,
              "#9c179e"
             ],
             [
              0.4444444444444444,
              "#bd3786"
             ],
             [
              0.5555555555555556,
              "#d8576b"
             ],
             [
              0.6666666666666666,
              "#ed7953"
             ],
             [
              0.7777777777777778,
              "#fb9f3a"
             ],
             [
              0.8888888888888888,
              "#fdca26"
             ],
             [
              1,
              "#f0f921"
             ]
            ],
            "type": "histogram2dcontour"
           }
          ],
          "mesh3d": [
           {
            "colorbar": {
             "outlinewidth": 0,
             "ticks": ""
            },
            "type": "mesh3d"
           }
          ],
          "parcoords": [
           {
            "line": {
             "colorbar": {
              "outlinewidth": 0,
              "ticks": ""
             }
            },
            "type": "parcoords"
           }
          ],
          "pie": [
           {
            "automargin": true,
            "type": "pie"
           }
          ],
          "scatter": [
           {
            "fillpattern": {
             "fillmode": "overlay",
             "size": 10,
             "solidity": 0.2
            },
            "type": "scatter"
           }
          ],
          "scatter3d": [
           {
            "line": {
             "colorbar": {
              "outlinewidth": 0,
              "ticks": ""
             }
            },
            "marker": {
             "colorbar": {
              "outlinewidth": 0,
              "ticks": ""
             }
            },
            "type": "scatter3d"
           }
          ],
          "scattercarpet": [
           {
            "marker": {
             "colorbar": {
              "outlinewidth": 0,
              "ticks": ""
             }
            },
            "type": "scattercarpet"
           }
          ],
          "scattergeo": [
           {
            "marker": {
             "colorbar": {
              "outlinewidth": 0,
              "ticks": ""
             }
            },
            "type": "scattergeo"
           }
          ],
          "scattergl": [
           {
            "marker": {
             "colorbar": {
              "outlinewidth": 0,
              "ticks": ""
             }
            },
            "type": "scattergl"
           }
          ],
          "scattermapbox": [
           {
            "marker": {
             "colorbar": {
              "outlinewidth": 0,
              "ticks": ""
             }
            },
            "type": "scattermapbox"
           }
          ],
          "scatterpolar": [
           {
            "marker": {
             "colorbar": {
              "outlinewidth": 0,
              "ticks": ""
             }
            },
            "type": "scatterpolar"
           }
          ],
          "scatterpolargl": [
           {
            "marker": {
             "colorbar": {
              "outlinewidth": 0,
              "ticks": ""
             }
            },
            "type": "scatterpolargl"
           }
          ],
          "scatterternary": [
           {
            "marker": {
             "colorbar": {
              "outlinewidth": 0,
              "ticks": ""
             }
            },
            "type": "scatterternary"
           }
          ],
          "surface": [
           {
            "colorbar": {
             "outlinewidth": 0,
             "ticks": ""
            },
            "colorscale": [
             [
              0,
              "#0d0887"
             ],
             [
              0.1111111111111111,
              "#46039f"
             ],
             [
              0.2222222222222222,
              "#7201a8"
             ],
             [
              0.3333333333333333,
              "#9c179e"
             ],
             [
              0.4444444444444444,
              "#bd3786"
             ],
             [
              0.5555555555555556,
              "#d8576b"
             ],
             [
              0.6666666666666666,
              "#ed7953"
             ],
             [
              0.7777777777777778,
              "#fb9f3a"
             ],
             [
              0.8888888888888888,
              "#fdca26"
             ],
             [
              1,
              "#f0f921"
             ]
            ],
            "type": "surface"
           }
          ],
          "table": [
           {
            "cells": {
             "fill": {
              "color": "#EBF0F8"
             },
             "line": {
              "color": "white"
             }
            },
            "header": {
             "fill": {
              "color": "#C8D4E3"
             },
             "line": {
              "color": "white"
             }
            },
            "type": "table"
           }
          ]
         },
         "layout": {
          "annotationdefaults": {
           "arrowcolor": "#2a3f5f",
           "arrowhead": 0,
           "arrowwidth": 1
          },
          "autotypenumbers": "strict",
          "coloraxis": {
           "colorbar": {
            "outlinewidth": 0,
            "ticks": ""
           }
          },
          "colorscale": {
           "diverging": [
            [
             0,
             "#8e0152"
            ],
            [
             0.1,
             "#c51b7d"
            ],
            [
             0.2,
             "#de77ae"
            ],
            [
             0.3,
             "#f1b6da"
            ],
            [
             0.4,
             "#fde0ef"
            ],
            [
             0.5,
             "#f7f7f7"
            ],
            [
             0.6,
             "#e6f5d0"
            ],
            [
             0.7,
             "#b8e186"
            ],
            [
             0.8,
             "#7fbc41"
            ],
            [
             0.9,
             "#4d9221"
            ],
            [
             1,
             "#276419"
            ]
           ],
           "sequential": [
            [
             0,
             "#0d0887"
            ],
            [
             0.1111111111111111,
             "#46039f"
            ],
            [
             0.2222222222222222,
             "#7201a8"
            ],
            [
             0.3333333333333333,
             "#9c179e"
            ],
            [
             0.4444444444444444,
             "#bd3786"
            ],
            [
             0.5555555555555556,
             "#d8576b"
            ],
            [
             0.6666666666666666,
             "#ed7953"
            ],
            [
             0.7777777777777778,
             "#fb9f3a"
            ],
            [
             0.8888888888888888,
             "#fdca26"
            ],
            [
             1,
             "#f0f921"
            ]
           ],
           "sequentialminus": [
            [
             0,
             "#0d0887"
            ],
            [
             0.1111111111111111,
             "#46039f"
            ],
            [
             0.2222222222222222,
             "#7201a8"
            ],
            [
             0.3333333333333333,
             "#9c179e"
            ],
            [
             0.4444444444444444,
             "#bd3786"
            ],
            [
             0.5555555555555556,
             "#d8576b"
            ],
            [
             0.6666666666666666,
             "#ed7953"
            ],
            [
             0.7777777777777778,
             "#fb9f3a"
            ],
            [
             0.8888888888888888,
             "#fdca26"
            ],
            [
             1,
             "#f0f921"
            ]
           ]
          },
          "colorway": [
           "#636efa",
           "#EF553B",
           "#00cc96",
           "#ab63fa",
           "#FFA15A",
           "#19d3f3",
           "#FF6692",
           "#B6E880",
           "#FF97FF",
           "#FECB52"
          ],
          "font": {
           "color": "#2a3f5f"
          },
          "geo": {
           "bgcolor": "white",
           "lakecolor": "white",
           "landcolor": "#E5ECF6",
           "showlakes": true,
           "showland": true,
           "subunitcolor": "white"
          },
          "hoverlabel": {
           "align": "left"
          },
          "hovermode": "closest",
          "mapbox": {
           "style": "light"
          },
          "paper_bgcolor": "white",
          "plot_bgcolor": "#E5ECF6",
          "polar": {
           "angularaxis": {
            "gridcolor": "white",
            "linecolor": "white",
            "ticks": ""
           },
           "bgcolor": "#E5ECF6",
           "radialaxis": {
            "gridcolor": "white",
            "linecolor": "white",
            "ticks": ""
           }
          },
          "scene": {
           "xaxis": {
            "backgroundcolor": "#E5ECF6",
            "gridcolor": "white",
            "gridwidth": 2,
            "linecolor": "white",
            "showbackground": true,
            "ticks": "",
            "zerolinecolor": "white"
           },
           "yaxis": {
            "backgroundcolor": "#E5ECF6",
            "gridcolor": "white",
            "gridwidth": 2,
            "linecolor": "white",
            "showbackground": true,
            "ticks": "",
            "zerolinecolor": "white"
           },
           "zaxis": {
            "backgroundcolor": "#E5ECF6",
            "gridcolor": "white",
            "gridwidth": 2,
            "linecolor": "white",
            "showbackground": true,
            "ticks": "",
            "zerolinecolor": "white"
           }
          },
          "shapedefaults": {
           "line": {
            "color": "#2a3f5f"
           }
          },
          "ternary": {
           "aaxis": {
            "gridcolor": "white",
            "linecolor": "white",
            "ticks": ""
           },
           "baxis": {
            "gridcolor": "white",
            "linecolor": "white",
            "ticks": ""
           },
           "bgcolor": "#E5ECF6",
           "caxis": {
            "gridcolor": "white",
            "linecolor": "white",
            "ticks": ""
           }
          },
          "title": {
           "x": 0.05
          },
          "xaxis": {
           "automargin": true,
           "gridcolor": "white",
           "linecolor": "white",
           "ticks": "",
           "title": {
            "standoff": 15
           },
           "zerolinecolor": "white",
           "zerolinewidth": 2
          },
          "yaxis": {
           "automargin": true,
           "gridcolor": "white",
           "linecolor": "white",
           "ticks": "",
           "title": {
            "standoff": 15
           },
           "zerolinecolor": "white",
           "zerolinewidth": 2
          }
         }
        },
        "width": 1200,
        "xaxis": {
         "anchor": "y",
         "domain": [
          0,
          1
         ],
         "tickfont": {
          "color": "black"
         },
         "title": {
          "font": {
           "color": "black",
           "family": "Arial, bold",
           "size": 18
          },
          "text": "Host Platforms"
         }
        },
        "yaxis": {
         "anchor": "x",
         "domain": [
          0,
          1
         ],
         "tickfont": {
          "color": "black"
         },
         "title": {
          "font": {
           "color": "black",
           "family": "Arial, bold",
           "size": 18
          },
          "text": "Number of Leaderboards"
         }
        }
       }
      }
     },
     "metadata": {},
     "output_type": "display_data"
    },
    {
     "name": "stdout",
     "output_type": "stream",
     "text": [
      "HF: 120 (16.64%)\n",
      "GH: 120 (16.64%)\n",
      "PWC: 446 (61.86%)\n",
      "IP: 96 (13.31%)\n"
     ]
    }
   ],
   "source": [
    "leaderboard_hosted_on_multiple_platforms = 0\n",
    "leaderboard_without_model_linkage = 0\n",
    "leaderboard_host_platform_mapping = defaultdict(int)\n",
    "\n",
    "df_leaderboard_expanded = pd.read_csv(path_meta / 'leaderboard_processed.csv')\n",
    "df_leaderboard_expanded['Development workflows (non-pwc)'] = df_leaderboard_expanded['Development workflows (non-pwc)'].astype(str).apply(string_to_list)\n",
    "df_leaderboard_expanded['Display formats (non-pwc)'] = df_leaderboard_expanded['Display formats (non-pwc)'].apply(lambda x: string_to_dict(x, list_format=True))\n",
    "df_leaderboard_expanded['Publication venues (non-pwc)'] = df_leaderboard_expanded['Publication venues (non-pwc)'].apply(string_to_list)\n",
    "df_leaderboard_expanded['Release organizations (non-pwc)'] = df_leaderboard_expanded['Release organizations (non-pwc)'].apply(string_to_list)\n",
    "\n",
    "df_leaderboard_expanded['Display formats'] = [[] for _ in range(len(df_leaderboard_expanded))]\n",
    "df_leaderboard_expanded['Development workflows'] = [[] for _ in range(len(df_leaderboard_expanded))]\n",
    "df_leaderboard_expanded['Release organizations'] = [[] for _ in range(len(df_leaderboard_expanded))]\n",
    "\n",
    "for index, row in df_leaderboard_expanded.iterrows():\n",
    "    display_formats = set(row['Display formats (non-pwc)'])\n",
    "    publishers = publisher_synonyms_mapping(row['Release organizations (non-pwc)'])\n",
    "    workflows = set(row['Development workflows (non-pwc)'])\n",
    "        \n",
    "    for platform in row['Platforms'].split(','):\n",
    "        leaderboard_host_platform_mapping[platform] += 1\n",
    "            \n",
    "    if len(row['Platforms'].split(',')) > 1:\n",
    "        leaderboard_hosted_on_multiple_platforms += 1\n",
    "        \n",
    "    if row['Platforms'] == 'pwc':\n",
    "        publishers.add('Papers With Code')\n",
    "            \n",
    "    if 'pwc' in row['Platforms']:\n",
    "        display_formats = display_formats.union(display_format_pwc)\n",
    "        workflows = workflows.union(workflow_pwc)\n",
    "    elif pd.isna(row['Model linkage (non-pwc)']):\n",
    "        leaderboard_without_model_linkage += 1\n",
    "\n",
    "    df_leaderboard_expanded.at[index, 'Display formats'] = list(display_formats)\n",
    "    df_leaderboard_expanded.at[index, 'Development workflows'] = list(workflows)\n",
    "    df_leaderboard_expanded.at[index, 'Release organizations'] = list(publishers)\n",
    "\n",
    "df_leaderboard_expanded.to_csv(path_meta / 'leaderboard_processed.csv', index=False)\n",
    "\n",
    "print(f\"Total number of leaderboards: {len(df_leaderboard_expanded)}\")\n",
    "print(f\"{round(leaderboard_without_model_linkage/len(df_leaderboard_expanded)*100,2)}% ({leaderboard_without_model_linkage} out of {len(df_leaderboard_expanded)}) leaderboards do not have any model provenence links.\")\n",
    "print(f\"{round(leaderboard_hosted_on_multiple_platforms/len(df_leaderboard_expanded)*100,2)}% ({leaderboard_hosted_on_multiple_platforms} out of {len(df_leaderboard_expanded)}) leaderboards are hosted on multiple platforms.\")\n",
    "\n",
    "leaderboard_distribution = df_leaderboard_expanded['Platforms'].value_counts().to_dict()\n",
    "\n",
    "fig = px.bar(\n",
    "    x=leaderboard_distribution.keys(),\n",
    "    y=leaderboard_distribution.values(),\n",
    "    text_auto=True,\n",
    "    labels={'x': 'Host Platforms', 'y': 'Number of Leaderboards'},\n",
    ")\n",
    "# Update the layout for a tighter look\n",
    "fig.update_layout(\n",
    "    autosize=True,\n",
    "    margin=dict(\n",
    "        l=10,  # Left margin\n",
    "        r=10,  # Right margin\n",
    "        b=10,  # Bottom margin\n",
    "        t=10,  # Top margin\n",
    "        pad=4  # Padding between the plot and the margin\n",
    "    ),\n",
    "    xaxis=dict(title_font=dict(size=18, family='Arial, bold', color='black'),tickfont=dict(color='black')),\n",
    "    yaxis=dict(title_font=dict(size=18, family='Arial, bold', color='black'),tickfont=dict(color='black')),\n",
    ")\n",
    "pio.write_image(fig, f'{path_meta}/platform-combo-distribution.pdf')\n",
    "fig.update_layout(\n",
    "    width=1200,  # Set the width of the figure\n",
    "    height=800,  # Set the height of the figure\n",
    ")\n",
    "fig.show()\n",
    "\n",
    "for key, value in leaderboard_host_platform_mapping.items():\n",
    "    print(f\"{key.upper()}: {value} ({round(value/len(df_leaderboard_expanded)*100,2)}%)\")"
   ]
  },
  {
   "cell_type": "code",
   "execution_count": 21,
   "metadata": {},
   "outputs": [
    {
     "name": "stdout",
     "output_type": "stream",
     "text": [
      "Pattern 1 is the most prevalent (475 out of 721) workflow patterns that accounts for 65.88%.\n",
      "There are 11.79% (85 out of 721) non-PWC leaderboards with multiple workflow patterns.\n",
      "In Pattern 1, 93.89% (446 out of 475) of the leaderboards are hosted on Papers With Code.\n"
     ]
    },
    {
     "data": {
      "application/vnd.plotly.v1+json": {
       "config": {
        "plotlyServerURL": "https://plot.ly"
       },
       "data": [
        {
         "alignmentgroup": "True",
         "hovertemplate": "Deployment workflows=%{x}<br>Leaderboard Percentage=%{y}<extra></extra>",
         "legendgroup": "",
         "marker": {
          "color": "#636efa",
          "pattern": {
           "shape": ""
          }
         },
         "name": "",
         "offsetgroup": "",
         "orientation": "v",
         "showlegend": false,
         "textposition": "auto",
         "texttemplate": "%{y}",
         "type": "bar",
         "x": [
          "Pattern 1",
          "Pattern 4",
          "Pattern 2",
          "Pattern 5",
          "Pattern 3"
         ],
         "xaxis": "x",
         "y": [
          65.88,
          33.01,
          10.68,
          2.5,
          0.14
         ],
         "yaxis": "y"
        }
       ],
       "layout": {
        "barmode": "relative",
        "height": 800,
        "legend": {
         "tracegroupgap": 0
        },
        "margin": {
         "t": 60
        },
        "template": {
         "data": {
          "bar": [
           {
            "error_x": {
             "color": "#2a3f5f"
            },
            "error_y": {
             "color": "#2a3f5f"
            },
            "marker": {
             "line": {
              "color": "#E5ECF6",
              "width": 0.5
             },
             "pattern": {
              "fillmode": "overlay",
              "size": 10,
              "solidity": 0.2
             }
            },
            "type": "bar"
           }
          ],
          "barpolar": [
           {
            "marker": {
             "line": {
              "color": "#E5ECF6",
              "width": 0.5
             },
             "pattern": {
              "fillmode": "overlay",
              "size": 10,
              "solidity": 0.2
             }
            },
            "type": "barpolar"
           }
          ],
          "carpet": [
           {
            "aaxis": {
             "endlinecolor": "#2a3f5f",
             "gridcolor": "white",
             "linecolor": "white",
             "minorgridcolor": "white",
             "startlinecolor": "#2a3f5f"
            },
            "baxis": {
             "endlinecolor": "#2a3f5f",
             "gridcolor": "white",
             "linecolor": "white",
             "minorgridcolor": "white",
             "startlinecolor": "#2a3f5f"
            },
            "type": "carpet"
           }
          ],
          "choropleth": [
           {
            "colorbar": {
             "outlinewidth": 0,
             "ticks": ""
            },
            "type": "choropleth"
           }
          ],
          "contour": [
           {
            "colorbar": {
             "outlinewidth": 0,
             "ticks": ""
            },
            "colorscale": [
             [
              0,
              "#0d0887"
             ],
             [
              0.1111111111111111,
              "#46039f"
             ],
             [
              0.2222222222222222,
              "#7201a8"
             ],
             [
              0.3333333333333333,
              "#9c179e"
             ],
             [
              0.4444444444444444,
              "#bd3786"
             ],
             [
              0.5555555555555556,
              "#d8576b"
             ],
             [
              0.6666666666666666,
              "#ed7953"
             ],
             [
              0.7777777777777778,
              "#fb9f3a"
             ],
             [
              0.8888888888888888,
              "#fdca26"
             ],
             [
              1,
              "#f0f921"
             ]
            ],
            "type": "contour"
           }
          ],
          "contourcarpet": [
           {
            "colorbar": {
             "outlinewidth": 0,
             "ticks": ""
            },
            "type": "contourcarpet"
           }
          ],
          "heatmap": [
           {
            "colorbar": {
             "outlinewidth": 0,
             "ticks": ""
            },
            "colorscale": [
             [
              0,
              "#0d0887"
             ],
             [
              0.1111111111111111,
              "#46039f"
             ],
             [
              0.2222222222222222,
              "#7201a8"
             ],
             [
              0.3333333333333333,
              "#9c179e"
             ],
             [
              0.4444444444444444,
              "#bd3786"
             ],
             [
              0.5555555555555556,
              "#d8576b"
             ],
             [
              0.6666666666666666,
              "#ed7953"
             ],
             [
              0.7777777777777778,
              "#fb9f3a"
             ],
             [
              0.8888888888888888,
              "#fdca26"
             ],
             [
              1,
              "#f0f921"
             ]
            ],
            "type": "heatmap"
           }
          ],
          "heatmapgl": [
           {
            "colorbar": {
             "outlinewidth": 0,
             "ticks": ""
            },
            "colorscale": [
             [
              0,
              "#0d0887"
             ],
             [
              0.1111111111111111,
              "#46039f"
             ],
             [
              0.2222222222222222,
              "#7201a8"
             ],
             [
              0.3333333333333333,
              "#9c179e"
             ],
             [
              0.4444444444444444,
              "#bd3786"
             ],
             [
              0.5555555555555556,
              "#d8576b"
             ],
             [
              0.6666666666666666,
              "#ed7953"
             ],
             [
              0.7777777777777778,
              "#fb9f3a"
             ],
             [
              0.8888888888888888,
              "#fdca26"
             ],
             [
              1,
              "#f0f921"
             ]
            ],
            "type": "heatmapgl"
           }
          ],
          "histogram": [
           {
            "marker": {
             "pattern": {
              "fillmode": "overlay",
              "size": 10,
              "solidity": 0.2
             }
            },
            "type": "histogram"
           }
          ],
          "histogram2d": [
           {
            "colorbar": {
             "outlinewidth": 0,
             "ticks": ""
            },
            "colorscale": [
             [
              0,
              "#0d0887"
             ],
             [
              0.1111111111111111,
              "#46039f"
             ],
             [
              0.2222222222222222,
              "#7201a8"
             ],
             [
              0.3333333333333333,
              "#9c179e"
             ],
             [
              0.4444444444444444,
              "#bd3786"
             ],
             [
              0.5555555555555556,
              "#d8576b"
             ],
             [
              0.6666666666666666,
              "#ed7953"
             ],
             [
              0.7777777777777778,
              "#fb9f3a"
             ],
             [
              0.8888888888888888,
              "#fdca26"
             ],
             [
              1,
              "#f0f921"
             ]
            ],
            "type": "histogram2d"
           }
          ],
          "histogram2dcontour": [
           {
            "colorbar": {
             "outlinewidth": 0,
             "ticks": ""
            },
            "colorscale": [
             [
              0,
              "#0d0887"
             ],
             [
              0.1111111111111111,
              "#46039f"
             ],
             [
              0.2222222222222222,
              "#7201a8"
             ],
             [
              0.3333333333333333,
              "#9c179e"
             ],
             [
              0.4444444444444444,
              "#bd3786"
             ],
             [
              0.5555555555555556,
              "#d8576b"
             ],
             [
              0.6666666666666666,
              "#ed7953"
             ],
             [
              0.7777777777777778,
              "#fb9f3a"
             ],
             [
              0.8888888888888888,
              "#fdca26"
             ],
             [
              1,
              "#f0f921"
             ]
            ],
            "type": "histogram2dcontour"
           }
          ],
          "mesh3d": [
           {
            "colorbar": {
             "outlinewidth": 0,
             "ticks": ""
            },
            "type": "mesh3d"
           }
          ],
          "parcoords": [
           {
            "line": {
             "colorbar": {
              "outlinewidth": 0,
              "ticks": ""
             }
            },
            "type": "parcoords"
           }
          ],
          "pie": [
           {
            "automargin": true,
            "type": "pie"
           }
          ],
          "scatter": [
           {
            "fillpattern": {
             "fillmode": "overlay",
             "size": 10,
             "solidity": 0.2
            },
            "type": "scatter"
           }
          ],
          "scatter3d": [
           {
            "line": {
             "colorbar": {
              "outlinewidth": 0,
              "ticks": ""
             }
            },
            "marker": {
             "colorbar": {
              "outlinewidth": 0,
              "ticks": ""
             }
            },
            "type": "scatter3d"
           }
          ],
          "scattercarpet": [
           {
            "marker": {
             "colorbar": {
              "outlinewidth": 0,
              "ticks": ""
             }
            },
            "type": "scattercarpet"
           }
          ],
          "scattergeo": [
           {
            "marker": {
             "colorbar": {
              "outlinewidth": 0,
              "ticks": ""
             }
            },
            "type": "scattergeo"
           }
          ],
          "scattergl": [
           {
            "marker": {
             "colorbar": {
              "outlinewidth": 0,
              "ticks": ""
             }
            },
            "type": "scattergl"
           }
          ],
          "scattermapbox": [
           {
            "marker": {
             "colorbar": {
              "outlinewidth": 0,
              "ticks": ""
             }
            },
            "type": "scattermapbox"
           }
          ],
          "scatterpolar": [
           {
            "marker": {
             "colorbar": {
              "outlinewidth": 0,
              "ticks": ""
             }
            },
            "type": "scatterpolar"
           }
          ],
          "scatterpolargl": [
           {
            "marker": {
             "colorbar": {
              "outlinewidth": 0,
              "ticks": ""
             }
            },
            "type": "scatterpolargl"
           }
          ],
          "scatterternary": [
           {
            "marker": {
             "colorbar": {
              "outlinewidth": 0,
              "ticks": ""
             }
            },
            "type": "scatterternary"
           }
          ],
          "surface": [
           {
            "colorbar": {
             "outlinewidth": 0,
             "ticks": ""
            },
            "colorscale": [
             [
              0,
              "#0d0887"
             ],
             [
              0.1111111111111111,
              "#46039f"
             ],
             [
              0.2222222222222222,
              "#7201a8"
             ],
             [
              0.3333333333333333,
              "#9c179e"
             ],
             [
              0.4444444444444444,
              "#bd3786"
             ],
             [
              0.5555555555555556,
              "#d8576b"
             ],
             [
              0.6666666666666666,
              "#ed7953"
             ],
             [
              0.7777777777777778,
              "#fb9f3a"
             ],
             [
              0.8888888888888888,
              "#fdca26"
             ],
             [
              1,
              "#f0f921"
             ]
            ],
            "type": "surface"
           }
          ],
          "table": [
           {
            "cells": {
             "fill": {
              "color": "#EBF0F8"
             },
             "line": {
              "color": "white"
             }
            },
            "header": {
             "fill": {
              "color": "#C8D4E3"
             },
             "line": {
              "color": "white"
             }
            },
            "type": "table"
           }
          ]
         },
         "layout": {
          "annotationdefaults": {
           "arrowcolor": "#2a3f5f",
           "arrowhead": 0,
           "arrowwidth": 1
          },
          "autotypenumbers": "strict",
          "coloraxis": {
           "colorbar": {
            "outlinewidth": 0,
            "ticks": ""
           }
          },
          "colorscale": {
           "diverging": [
            [
             0,
             "#8e0152"
            ],
            [
             0.1,
             "#c51b7d"
            ],
            [
             0.2,
             "#de77ae"
            ],
            [
             0.3,
             "#f1b6da"
            ],
            [
             0.4,
             "#fde0ef"
            ],
            [
             0.5,
             "#f7f7f7"
            ],
            [
             0.6,
             "#e6f5d0"
            ],
            [
             0.7,
             "#b8e186"
            ],
            [
             0.8,
             "#7fbc41"
            ],
            [
             0.9,
             "#4d9221"
            ],
            [
             1,
             "#276419"
            ]
           ],
           "sequential": [
            [
             0,
             "#0d0887"
            ],
            [
             0.1111111111111111,
             "#46039f"
            ],
            [
             0.2222222222222222,
             "#7201a8"
            ],
            [
             0.3333333333333333,
             "#9c179e"
            ],
            [
             0.4444444444444444,
             "#bd3786"
            ],
            [
             0.5555555555555556,
             "#d8576b"
            ],
            [
             0.6666666666666666,
             "#ed7953"
            ],
            [
             0.7777777777777778,
             "#fb9f3a"
            ],
            [
             0.8888888888888888,
             "#fdca26"
            ],
            [
             1,
             "#f0f921"
            ]
           ],
           "sequentialminus": [
            [
             0,
             "#0d0887"
            ],
            [
             0.1111111111111111,
             "#46039f"
            ],
            [
             0.2222222222222222,
             "#7201a8"
            ],
            [
             0.3333333333333333,
             "#9c179e"
            ],
            [
             0.4444444444444444,
             "#bd3786"
            ],
            [
             0.5555555555555556,
             "#d8576b"
            ],
            [
             0.6666666666666666,
             "#ed7953"
            ],
            [
             0.7777777777777778,
             "#fb9f3a"
            ],
            [
             0.8888888888888888,
             "#fdca26"
            ],
            [
             1,
             "#f0f921"
            ]
           ]
          },
          "colorway": [
           "#636efa",
           "#EF553B",
           "#00cc96",
           "#ab63fa",
           "#FFA15A",
           "#19d3f3",
           "#FF6692",
           "#B6E880",
           "#FF97FF",
           "#FECB52"
          ],
          "font": {
           "color": "#2a3f5f"
          },
          "geo": {
           "bgcolor": "white",
           "lakecolor": "white",
           "landcolor": "#E5ECF6",
           "showlakes": true,
           "showland": true,
           "subunitcolor": "white"
          },
          "hoverlabel": {
           "align": "left"
          },
          "hovermode": "closest",
          "mapbox": {
           "style": "light"
          },
          "paper_bgcolor": "white",
          "plot_bgcolor": "#E5ECF6",
          "polar": {
           "angularaxis": {
            "gridcolor": "white",
            "linecolor": "white",
            "ticks": ""
           },
           "bgcolor": "#E5ECF6",
           "radialaxis": {
            "gridcolor": "white",
            "linecolor": "white",
            "ticks": ""
           }
          },
          "scene": {
           "xaxis": {
            "backgroundcolor": "#E5ECF6",
            "gridcolor": "white",
            "gridwidth": 2,
            "linecolor": "white",
            "showbackground": true,
            "ticks": "",
            "zerolinecolor": "white"
           },
           "yaxis": {
            "backgroundcolor": "#E5ECF6",
            "gridcolor": "white",
            "gridwidth": 2,
            "linecolor": "white",
            "showbackground": true,
            "ticks": "",
            "zerolinecolor": "white"
           },
           "zaxis": {
            "backgroundcolor": "#E5ECF6",
            "gridcolor": "white",
            "gridwidth": 2,
            "linecolor": "white",
            "showbackground": true,
            "ticks": "",
            "zerolinecolor": "white"
           }
          },
          "shapedefaults": {
           "line": {
            "color": "#2a3f5f"
           }
          },
          "ternary": {
           "aaxis": {
            "gridcolor": "white",
            "linecolor": "white",
            "ticks": ""
           },
           "baxis": {
            "gridcolor": "white",
            "linecolor": "white",
            "ticks": ""
           },
           "bgcolor": "#E5ECF6",
           "caxis": {
            "gridcolor": "white",
            "linecolor": "white",
            "ticks": ""
           }
          },
          "title": {
           "x": 0.05
          },
          "xaxis": {
           "automargin": true,
           "gridcolor": "white",
           "linecolor": "white",
           "ticks": "",
           "title": {
            "standoff": 15
           },
           "zerolinecolor": "white",
           "zerolinewidth": 2
          },
          "yaxis": {
           "automargin": true,
           "gridcolor": "white",
           "linecolor": "white",
           "ticks": "",
           "title": {
            "standoff": 15
           },
           "zerolinecolor": "white",
           "zerolinewidth": 2
          }
         }
        },
        "width": 1200,
        "xaxis": {
         "anchor": "y",
         "domain": [
          0,
          1
         ],
         "title": {
          "text": "Deployment workflows"
         }
        },
        "yaxis": {
         "anchor": "x",
         "domain": [
          0,
          1
         ],
         "title": {
          "text": "Leaderboard Percentage"
         }
        }
       }
      }
     },
     "metadata": {},
     "output_type": "display_data"
    }
   ],
   "source": [
    "df = pd.read_csv(path_meta / 'leaderboard_processed.csv')\n",
    "df['Development workflows'] = df['Development workflows'].apply(ast.literal_eval)\n",
    "\n",
    "# df = df[df['Development workflows'].map(len) > 0]\n",
    "df_workflow = df.explode('Development workflows')\n",
    "df_workflow = df_workflow.groupby('Development workflows').size().reset_index(name='Frequency')\n",
    "df_workflow['Development workflows'] = df_workflow['Development workflows'].apply(lambda x: f'Pattern {x}' if x != 'Unknown' else x)\n",
    "df_workflow.sort_values(by='Frequency', ascending=False, inplace=True)\n",
    "df_workflow['Weight'] = 1\n",
    "\n",
    "print(f\"{df_workflow['Development workflows'].iloc[0]} is the most prevalent ({df_workflow['Frequency'].iloc[0]} out of {len(df)}) workflow patterns that accounts for {round(df_workflow['Frequency'].iloc[0]/len(df)*100,2)}%.\")\n",
    "df_pwc = df[df['Platforms'].str.contains('pwc')]\n",
    "print(f\"There are {round(len(df[df['Development workflows'].map(len) > 1])/len(df)*100,2)}% ({len(df[df['Development workflows'].map(len) > 1])} out of {len(df)}) non-PWC leaderboards with multiple workflow patterns.\")\n",
    "print(f'In {df_workflow[\"Development workflows\"].iloc[0]}, {round(len(df_pwc)/df_workflow[\"Frequency\"].iloc[0]*100,2)}% ({len(df_pwc)} out of {df_workflow[\"Frequency\"].iloc[0]}) of the leaderboards are hosted on Papers With Code.')\n",
    "\n",
    "statistics = {\n",
    "    'Distribution': 'Leaderboards across Workflow Patterns',\n",
    "    'Mean': np.mean(df_workflow['Frequency']),\n",
    "    'Median': np.median(df_workflow['Frequency']),\n",
    "    'IQR': df_workflow['Frequency'].quantile(0.75) - df_workflow['Frequency'].quantile(0.25),\n",
    "    'Gini Coefficient': ineqpy.inequality.gini(data=df_workflow[df_workflow['Development workflows'] != 'Unknown'], income='Frequency', weights='Weight'),\n",
    "}\n",
    "if os.path.exists(path_meta / 'leaderboard_statistics.csv'):\n",
    "    df_statistics = pd.read_csv(path_meta / 'leaderboard_statistics.csv')\n",
    "else:\n",
    "    df_statistics = pd.DataFrame()\n",
    "df_statistics = pd.concat([df_statistics, pd.DataFrame([statistics])], ignore_index=True)\n",
    "df_statistics.drop_duplicates(subset=['Distribution'], keep='last', inplace=True)\n",
    "df_statistics.sort_values(by='Distribution', inplace=True)\n",
    "df_statistics.to_csv(path_meta / 'leaderboard_statistics.csv', index=False)\n",
    "\n",
    "df_workflow = df_workflow[df_workflow['Development workflows'] != 'Unknown']\n",
    "df_workflow['Ratio'] = round(df_workflow['Frequency'] / len(df) * 100, 2)\n",
    "fig = px.bar(\n",
    "    x=df_workflow['Development workflows'], \n",
    "    y=df_workflow['Ratio'],\n",
    "    text_auto=True,\n",
    "    labels={'x': 'Deployment workflows', 'y': 'Leaderboard Percentage'},\n",
    ")\n",
    "fig.update_layout(\n",
    "    width=1200,  # Set the width of the figure\n",
    "    height=800,  # Set the height of the figure\n",
    ")\n",
    "fig.show()"
   ]
  },
  {
   "cell_type": "code",
   "execution_count": 22,
   "metadata": {},
   "outputs": [
    {
     "name": "stdout",
     "output_type": "stream",
     "text": [
      "0.42% (3 out of 721) leaderboards have empty ranking dataframes.\n"
     ]
    },
    {
     "data": {
      "text/html": [
       "<div>\n",
       "<style scoped>\n",
       "    .dataframe tbody tr th:only-of-type {\n",
       "        vertical-align: middle;\n",
       "    }\n",
       "\n",
       "    .dataframe tbody tr th {\n",
       "        vertical-align: top;\n",
       "    }\n",
       "\n",
       "    .dataframe thead th {\n",
       "        text-align: right;\n",
       "    }\n",
       "</style>\n",
       "<table border=\"1\" class=\"dataframe\">\n",
       "  <thead>\n",
       "    <tr style=\"text-align: right;\">\n",
       "      <th></th>\n",
       "      <th>#Empty ranking dataframes (non-pwc)</th>\n",
       "      <th>Frequency</th>\n",
       "    </tr>\n",
       "  </thead>\n",
       "  <tbody>\n",
       "    <tr>\n",
       "      <th>0</th>\n",
       "      <td>25</td>\n",
       "      <td>1</td>\n",
       "    </tr>\n",
       "    <tr>\n",
       "      <th>1</th>\n",
       "      <td>Unknown</td>\n",
       "      <td>1</td>\n",
       "    </tr>\n",
       "    <tr>\n",
       "      <th>2</th>\n",
       "      <td>2</td>\n",
       "      <td>1</td>\n",
       "    </tr>\n",
       "  </tbody>\n",
       "</table>\n",
       "</div>"
      ],
      "text/plain": [
       "  #Empty ranking dataframes (non-pwc)  Frequency\n",
       "0                                  25          1\n",
       "1                             Unknown          1\n",
       "2                                   2          1"
      ]
     },
     "execution_count": 22,
     "metadata": {},
     "output_type": "execute_result"
    }
   ],
   "source": [
    "df = pd.read_csv(path_meta / 'leaderboard_processed.csv')\n",
    "print(f\"{round(len(df[df['#Empty ranking dataframes (non-pwc)'].notna()])/len(df)*100,2)}% ({len(df[df['#Empty ranking dataframes (non-pwc)'].notna()])} out of {len(df)}) leaderboards have empty ranking dataframes.\")\n",
    "df['#Empty ranking dataframes (non-pwc)'].value_counts().reset_index(name='Frequency')"
   ]
  },
  {
   "cell_type": "code",
   "execution_count": 23,
   "metadata": {},
   "outputs": [
    {
     "name": "stdout",
     "output_type": "stream",
     "text": [
      "Papers With Code stands out as the most prolific release organization among the 253 identified organizations, contributing to a notable 61.44% (443 out of 721) leaderboards.\n"
     ]
    },
    {
     "data": {
      "application/vnd.plotly.v1+json": {
       "config": {
        "plotlyServerURL": "https://plot.ly"
       },
       "data": [
        {
         "orientation": "h",
         "text": [
          443,
          37,
          31,
          28,
          22,
          19,
          16,
          15,
          15,
          15
         ],
         "textposition": "auto",
         "type": "bar",
         "x": [
          443,
          37,
          31,
          28,
          22,
          19,
          16,
          15,
          15,
          15
         ],
         "y": [
          "Papers With Code",
          "Independent Contributors",
          "Allen Institute for AI",
          "Shanghai AI Laboratory",
          "University of California",
          "Chinese University of Hong Kong",
          "Stanford University",
          "SuperCLUE",
          "Shanghai Jiao Tong University",
          "University of Illinois"
         ]
        }
       ],
       "layout": {
        "height": 800,
        "template": {
         "data": {
          "bar": [
           {
            "error_x": {
             "color": "#2a3f5f"
            },
            "error_y": {
             "color": "#2a3f5f"
            },
            "marker": {
             "line": {
              "color": "#E5ECF6",
              "width": 0.5
             },
             "pattern": {
              "fillmode": "overlay",
              "size": 10,
              "solidity": 0.2
             }
            },
            "type": "bar"
           }
          ],
          "barpolar": [
           {
            "marker": {
             "line": {
              "color": "#E5ECF6",
              "width": 0.5
             },
             "pattern": {
              "fillmode": "overlay",
              "size": 10,
              "solidity": 0.2
             }
            },
            "type": "barpolar"
           }
          ],
          "carpet": [
           {
            "aaxis": {
             "endlinecolor": "#2a3f5f",
             "gridcolor": "white",
             "linecolor": "white",
             "minorgridcolor": "white",
             "startlinecolor": "#2a3f5f"
            },
            "baxis": {
             "endlinecolor": "#2a3f5f",
             "gridcolor": "white",
             "linecolor": "white",
             "minorgridcolor": "white",
             "startlinecolor": "#2a3f5f"
            },
            "type": "carpet"
           }
          ],
          "choropleth": [
           {
            "colorbar": {
             "outlinewidth": 0,
             "ticks": ""
            },
            "type": "choropleth"
           }
          ],
          "contour": [
           {
            "colorbar": {
             "outlinewidth": 0,
             "ticks": ""
            },
            "colorscale": [
             [
              0,
              "#0d0887"
             ],
             [
              0.1111111111111111,
              "#46039f"
             ],
             [
              0.2222222222222222,
              "#7201a8"
             ],
             [
              0.3333333333333333,
              "#9c179e"
             ],
             [
              0.4444444444444444,
              "#bd3786"
             ],
             [
              0.5555555555555556,
              "#d8576b"
             ],
             [
              0.6666666666666666,
              "#ed7953"
             ],
             [
              0.7777777777777778,
              "#fb9f3a"
             ],
             [
              0.8888888888888888,
              "#fdca26"
             ],
             [
              1,
              "#f0f921"
             ]
            ],
            "type": "contour"
           }
          ],
          "contourcarpet": [
           {
            "colorbar": {
             "outlinewidth": 0,
             "ticks": ""
            },
            "type": "contourcarpet"
           }
          ],
          "heatmap": [
           {
            "colorbar": {
             "outlinewidth": 0,
             "ticks": ""
            },
            "colorscale": [
             [
              0,
              "#0d0887"
             ],
             [
              0.1111111111111111,
              "#46039f"
             ],
             [
              0.2222222222222222,
              "#7201a8"
             ],
             [
              0.3333333333333333,
              "#9c179e"
             ],
             [
              0.4444444444444444,
              "#bd3786"
             ],
             [
              0.5555555555555556,
              "#d8576b"
             ],
             [
              0.6666666666666666,
              "#ed7953"
             ],
             [
              0.7777777777777778,
              "#fb9f3a"
             ],
             [
              0.8888888888888888,
              "#fdca26"
             ],
             [
              1,
              "#f0f921"
             ]
            ],
            "type": "heatmap"
           }
          ],
          "heatmapgl": [
           {
            "colorbar": {
             "outlinewidth": 0,
             "ticks": ""
            },
            "colorscale": [
             [
              0,
              "#0d0887"
             ],
             [
              0.1111111111111111,
              "#46039f"
             ],
             [
              0.2222222222222222,
              "#7201a8"
             ],
             [
              0.3333333333333333,
              "#9c179e"
             ],
             [
              0.4444444444444444,
              "#bd3786"
             ],
             [
              0.5555555555555556,
              "#d8576b"
             ],
             [
              0.6666666666666666,
              "#ed7953"
             ],
             [
              0.7777777777777778,
              "#fb9f3a"
             ],
             [
              0.8888888888888888,
              "#fdca26"
             ],
             [
              1,
              "#f0f921"
             ]
            ],
            "type": "heatmapgl"
           }
          ],
          "histogram": [
           {
            "marker": {
             "pattern": {
              "fillmode": "overlay",
              "size": 10,
              "solidity": 0.2
             }
            },
            "type": "histogram"
           }
          ],
          "histogram2d": [
           {
            "colorbar": {
             "outlinewidth": 0,
             "ticks": ""
            },
            "colorscale": [
             [
              0,
              "#0d0887"
             ],
             [
              0.1111111111111111,
              "#46039f"
             ],
             [
              0.2222222222222222,
              "#7201a8"
             ],
             [
              0.3333333333333333,
              "#9c179e"
             ],
             [
              0.4444444444444444,
              "#bd3786"
             ],
             [
              0.5555555555555556,
              "#d8576b"
             ],
             [
              0.6666666666666666,
              "#ed7953"
             ],
             [
              0.7777777777777778,
              "#fb9f3a"
             ],
             [
              0.8888888888888888,
              "#fdca26"
             ],
             [
              1,
              "#f0f921"
             ]
            ],
            "type": "histogram2d"
           }
          ],
          "histogram2dcontour": [
           {
            "colorbar": {
             "outlinewidth": 0,
             "ticks": ""
            },
            "colorscale": [
             [
              0,
              "#0d0887"
             ],
             [
              0.1111111111111111,
              "#46039f"
             ],
             [
              0.2222222222222222,
              "#7201a8"
             ],
             [
              0.3333333333333333,
              "#9c179e"
             ],
             [
              0.4444444444444444,
              "#bd3786"
             ],
             [
              0.5555555555555556,
              "#d8576b"
             ],
             [
              0.6666666666666666,
              "#ed7953"
             ],
             [
              0.7777777777777778,
              "#fb9f3a"
             ],
             [
              0.8888888888888888,
              "#fdca26"
             ],
             [
              1,
              "#f0f921"
             ]
            ],
            "type": "histogram2dcontour"
           }
          ],
          "mesh3d": [
           {
            "colorbar": {
             "outlinewidth": 0,
             "ticks": ""
            },
            "type": "mesh3d"
           }
          ],
          "parcoords": [
           {
            "line": {
             "colorbar": {
              "outlinewidth": 0,
              "ticks": ""
             }
            },
            "type": "parcoords"
           }
          ],
          "pie": [
           {
            "automargin": true,
            "type": "pie"
           }
          ],
          "scatter": [
           {
            "fillpattern": {
             "fillmode": "overlay",
             "size": 10,
             "solidity": 0.2
            },
            "type": "scatter"
           }
          ],
          "scatter3d": [
           {
            "line": {
             "colorbar": {
              "outlinewidth": 0,
              "ticks": ""
             }
            },
            "marker": {
             "colorbar": {
              "outlinewidth": 0,
              "ticks": ""
             }
            },
            "type": "scatter3d"
           }
          ],
          "scattercarpet": [
           {
            "marker": {
             "colorbar": {
              "outlinewidth": 0,
              "ticks": ""
             }
            },
            "type": "scattercarpet"
           }
          ],
          "scattergeo": [
           {
            "marker": {
             "colorbar": {
              "outlinewidth": 0,
              "ticks": ""
             }
            },
            "type": "scattergeo"
           }
          ],
          "scattergl": [
           {
            "marker": {
             "colorbar": {
              "outlinewidth": 0,
              "ticks": ""
             }
            },
            "type": "scattergl"
           }
          ],
          "scattermapbox": [
           {
            "marker": {
             "colorbar": {
              "outlinewidth": 0,
              "ticks": ""
             }
            },
            "type": "scattermapbox"
           }
          ],
          "scatterpolar": [
           {
            "marker": {
             "colorbar": {
              "outlinewidth": 0,
              "ticks": ""
             }
            },
            "type": "scatterpolar"
           }
          ],
          "scatterpolargl": [
           {
            "marker": {
             "colorbar": {
              "outlinewidth": 0,
              "ticks": ""
             }
            },
            "type": "scatterpolargl"
           }
          ],
          "scatterternary": [
           {
            "marker": {
             "colorbar": {
              "outlinewidth": 0,
              "ticks": ""
             }
            },
            "type": "scatterternary"
           }
          ],
          "surface": [
           {
            "colorbar": {
             "outlinewidth": 0,
             "ticks": ""
            },
            "colorscale": [
             [
              0,
              "#0d0887"
             ],
             [
              0.1111111111111111,
              "#46039f"
             ],
             [
              0.2222222222222222,
              "#7201a8"
             ],
             [
              0.3333333333333333,
              "#9c179e"
             ],
             [
              0.4444444444444444,
              "#bd3786"
             ],
             [
              0.5555555555555556,
              "#d8576b"
             ],
             [
              0.6666666666666666,
              "#ed7953"
             ],
             [
              0.7777777777777778,
              "#fb9f3a"
             ],
             [
              0.8888888888888888,
              "#fdca26"
             ],
             [
              1,
              "#f0f921"
             ]
            ],
            "type": "surface"
           }
          ],
          "table": [
           {
            "cells": {
             "fill": {
              "color": "#EBF0F8"
             },
             "line": {
              "color": "white"
             }
            },
            "header": {
             "fill": {
              "color": "#C8D4E3"
             },
             "line": {
              "color": "white"
             }
            },
            "type": "table"
           }
          ]
         },
         "layout": {
          "annotationdefaults": {
           "arrowcolor": "#2a3f5f",
           "arrowhead": 0,
           "arrowwidth": 1
          },
          "autotypenumbers": "strict",
          "coloraxis": {
           "colorbar": {
            "outlinewidth": 0,
            "ticks": ""
           }
          },
          "colorscale": {
           "diverging": [
            [
             0,
             "#8e0152"
            ],
            [
             0.1,
             "#c51b7d"
            ],
            [
             0.2,
             "#de77ae"
            ],
            [
             0.3,
             "#f1b6da"
            ],
            [
             0.4,
             "#fde0ef"
            ],
            [
             0.5,
             "#f7f7f7"
            ],
            [
             0.6,
             "#e6f5d0"
            ],
            [
             0.7,
             "#b8e186"
            ],
            [
             0.8,
             "#7fbc41"
            ],
            [
             0.9,
             "#4d9221"
            ],
            [
             1,
             "#276419"
            ]
           ],
           "sequential": [
            [
             0,
             "#0d0887"
            ],
            [
             0.1111111111111111,
             "#46039f"
            ],
            [
             0.2222222222222222,
             "#7201a8"
            ],
            [
             0.3333333333333333,
             "#9c179e"
            ],
            [
             0.4444444444444444,
             "#bd3786"
            ],
            [
             0.5555555555555556,
             "#d8576b"
            ],
            [
             0.6666666666666666,
             "#ed7953"
            ],
            [
             0.7777777777777778,
             "#fb9f3a"
            ],
            [
             0.8888888888888888,
             "#fdca26"
            ],
            [
             1,
             "#f0f921"
            ]
           ],
           "sequentialminus": [
            [
             0,
             "#0d0887"
            ],
            [
             0.1111111111111111,
             "#46039f"
            ],
            [
             0.2222222222222222,
             "#7201a8"
            ],
            [
             0.3333333333333333,
             "#9c179e"
            ],
            [
             0.4444444444444444,
             "#bd3786"
            ],
            [
             0.5555555555555556,
             "#d8576b"
            ],
            [
             0.6666666666666666,
             "#ed7953"
            ],
            [
             0.7777777777777778,
             "#fb9f3a"
            ],
            [
             0.8888888888888888,
             "#fdca26"
            ],
            [
             1,
             "#f0f921"
            ]
           ]
          },
          "colorway": [
           "#636efa",
           "#EF553B",
           "#00cc96",
           "#ab63fa",
           "#FFA15A",
           "#19d3f3",
           "#FF6692",
           "#B6E880",
           "#FF97FF",
           "#FECB52"
          ],
          "font": {
           "color": "#2a3f5f"
          },
          "geo": {
           "bgcolor": "white",
           "lakecolor": "white",
           "landcolor": "#E5ECF6",
           "showlakes": true,
           "showland": true,
           "subunitcolor": "white"
          },
          "hoverlabel": {
           "align": "left"
          },
          "hovermode": "closest",
          "mapbox": {
           "style": "light"
          },
          "paper_bgcolor": "white",
          "plot_bgcolor": "#E5ECF6",
          "polar": {
           "angularaxis": {
            "gridcolor": "white",
            "linecolor": "white",
            "ticks": ""
           },
           "bgcolor": "#E5ECF6",
           "radialaxis": {
            "gridcolor": "white",
            "linecolor": "white",
            "ticks": ""
           }
          },
          "scene": {
           "xaxis": {
            "backgroundcolor": "#E5ECF6",
            "gridcolor": "white",
            "gridwidth": 2,
            "linecolor": "white",
            "showbackground": true,
            "ticks": "",
            "zerolinecolor": "white"
           },
           "yaxis": {
            "backgroundcolor": "#E5ECF6",
            "gridcolor": "white",
            "gridwidth": 2,
            "linecolor": "white",
            "showbackground": true,
            "ticks": "",
            "zerolinecolor": "white"
           },
           "zaxis": {
            "backgroundcolor": "#E5ECF6",
            "gridcolor": "white",
            "gridwidth": 2,
            "linecolor": "white",
            "showbackground": true,
            "ticks": "",
            "zerolinecolor": "white"
           }
          },
          "shapedefaults": {
           "line": {
            "color": "#2a3f5f"
           }
          },
          "ternary": {
           "aaxis": {
            "gridcolor": "white",
            "linecolor": "white",
            "ticks": ""
           },
           "baxis": {
            "gridcolor": "white",
            "linecolor": "white",
            "ticks": ""
           },
           "bgcolor": "#E5ECF6",
           "caxis": {
            "gridcolor": "white",
            "linecolor": "white",
            "ticks": ""
           }
          },
          "title": {
           "x": 0.05
          },
          "xaxis": {
           "automargin": true,
           "gridcolor": "white",
           "linecolor": "white",
           "ticks": "",
           "title": {
            "standoff": 15
           },
           "zerolinecolor": "white",
           "zerolinewidth": 2
          },
          "yaxis": {
           "automargin": true,
           "gridcolor": "white",
           "linecolor": "white",
           "ticks": "",
           "title": {
            "standoff": 15
           },
           "zerolinecolor": "white",
           "zerolinewidth": 2
          }
         }
        },
        "title": {
         "text": "Number of Leaderboards across Release Organizations (Top 10)"
        },
        "width": 1200,
        "xaxis": {
         "title": {
          "text": "Leaderboard Number"
         }
        },
        "yaxis": {
         "autorange": "reversed",
         "title": {
          "text": "Publisher Name"
         }
        }
       }
      }
     },
     "metadata": {},
     "output_type": "display_data"
    }
   ],
   "source": [
    "df = pd.read_csv(path_meta / 'leaderboard_processed.csv')\n",
    "\n",
    "df['Release organizations'] = df['Release organizations'].apply(ast.literal_eval)\n",
    "df_split = df.explode('Release organizations').groupby('Release organizations').size().reset_index(name='Frequency')\n",
    "df_split['Weight'] = 1\n",
    "\n",
    "statistics = {\n",
    "    'Distribution': 'Leaderboards across Release Organizations',\n",
    "    'Mean': np.mean(df_split['Frequency']),\n",
    "    'Median': np.median(df_split['Frequency']),\n",
    "    'IQR': df_split['Frequency'].quantile(0.75) - df_split['Frequency'].quantile(0.25),\n",
    "    'Gini Coefficient': ineqpy.inequality.gini(data=df_split, income='Frequency', weights='Weight'),\n",
    "}\n",
    "if os.path.exists(path_meta / 'leaderboard_statistics.csv'):\n",
    "    df_statistics = pd.read_csv(path_meta / 'leaderboard_statistics.csv')\n",
    "else:\n",
    "    df_statistics = pd.DataFrame()\n",
    "df_statistics = pd.concat([df_statistics, pd.DataFrame([statistics])], ignore_index=True)\n",
    "df_statistics.drop_duplicates(subset=['Distribution'], keep='last', inplace=True)\n",
    "df_statistics.sort_values(by='Distribution', inplace=True)\n",
    "df_statistics.to_csv(path_meta / 'leaderboard_statistics.csv', index=False)\n",
    "\n",
    "df_top = df_split.sort_values(by='Frequency', ascending=False).head(10)\n",
    "print(f\"{df_top['Release organizations'].iloc[0]} stands out as the most prolific release organization among the {len(df_split['Release organizations'].unique())-1} identified organizations, contributing to a notable {round(df_top['Frequency'].iloc[0]/len(df)*100,2)}% ({df_top['Frequency'].iloc[0]} out of {len(df)}) leaderboards.\")\n",
    "\n",
    "df_top['Ratio'] = round(df_top['Frequency'] / len(df) * 100, 2)\n",
    "\n",
    "fig = go.Figure(go.Bar(\n",
    "        x=df_top['Frequency'],  # Values for the bar lengths\n",
    "        y=df_top['Release organizations'],  # Categories for each bar\n",
    "        orientation='h',  # Sets the bars to be horizontal\n",
    "        text=df_top['Frequency'],  # Adds the values as text on each bar\n",
    "        textposition='auto'  # Automatically positions the text on the bars\n",
    "))\n",
    "fig.update_layout(\n",
    "        title=f'Number of Leaderboards across Release Organizations (Top 10)',\n",
    "        xaxis_title='Leaderboard Number',\n",
    "        yaxis_title='Publisher Name',\n",
    "        yaxis_autorange='reversed'  # This line makes the bars go top-down\n",
    ")\n",
    "fig.update_layout(\n",
    "    width=1200,  # Set the width of the figure\n",
    "    height=800,  # Set the height of the figure\n",
    ")\n",
    "fig.show()\n"
   ]
  },
  {
   "cell_type": "code",
   "execution_count": 24,
   "metadata": {},
   "outputs": [
    {
     "name": "stdout",
     "output_type": "stream",
     "text": [
      "75.45% (544 out of 721) leaderboards support multiple display formats.\n",
      "88.9% (641 out of 721) leaderboards support rankable display formats.\n",
      "Rankable Table is the most popular display format of rankable leaderboards, accounting for 99.84% (640 out of 641) rankable leaderboards.\n"
     ]
    },
    {
     "data": {
      "application/vnd.plotly.v1+json": {
       "config": {
        "plotlyServerURL": "https://plot.ly"
       },
       "data": [
        {
         "alignmentgroup": "True",
         "hovertemplate": "Display format=%{x}<br>Number of Leaderboards=%{y}<extra></extra>",
         "legendgroup": "",
         "marker": {
          "color": "#636efa",
          "pattern": {
           "shape": ""
          }
         },
         "name": "",
         "offsetgroup": "",
         "orientation": "v",
         "showlegend": false,
         "textposition": "auto",
         "texttemplate": "%{y}",
         "type": "bar",
         "x": [
          "Rankable Table",
          "Scatter Plot",
          "Regular Table",
          "Bar Chart",
          "Table Screenshot",
          "Radar Chart",
          "Line Chart",
          "Rankable Bar Chart",
          "Box Plot",
          "Pie Chart",
          "Heat Map"
         ],
         "xaxis": "x",
         "y": [
          640,
          482,
          112,
          33,
          13,
          7,
          3,
          2,
          1,
          1,
          1
         ],
         "yaxis": "y"
        }
       ],
       "layout": {
        "autosize": true,
        "barmode": "relative",
        "height": 800,
        "legend": {
         "tracegroupgap": 0
        },
        "margin": {
         "b": 10,
         "l": 10,
         "pad": 4,
         "r": 10,
         "t": 10
        },
        "template": {
         "data": {
          "bar": [
           {
            "error_x": {
             "color": "#2a3f5f"
            },
            "error_y": {
             "color": "#2a3f5f"
            },
            "marker": {
             "line": {
              "color": "#E5ECF6",
              "width": 0.5
             },
             "pattern": {
              "fillmode": "overlay",
              "size": 10,
              "solidity": 0.2
             }
            },
            "type": "bar"
           }
          ],
          "barpolar": [
           {
            "marker": {
             "line": {
              "color": "#E5ECF6",
              "width": 0.5
             },
             "pattern": {
              "fillmode": "overlay",
              "size": 10,
              "solidity": 0.2
             }
            },
            "type": "barpolar"
           }
          ],
          "carpet": [
           {
            "aaxis": {
             "endlinecolor": "#2a3f5f",
             "gridcolor": "white",
             "linecolor": "white",
             "minorgridcolor": "white",
             "startlinecolor": "#2a3f5f"
            },
            "baxis": {
             "endlinecolor": "#2a3f5f",
             "gridcolor": "white",
             "linecolor": "white",
             "minorgridcolor": "white",
             "startlinecolor": "#2a3f5f"
            },
            "type": "carpet"
           }
          ],
          "choropleth": [
           {
            "colorbar": {
             "outlinewidth": 0,
             "ticks": ""
            },
            "type": "choropleth"
           }
          ],
          "contour": [
           {
            "colorbar": {
             "outlinewidth": 0,
             "ticks": ""
            },
            "colorscale": [
             [
              0,
              "#0d0887"
             ],
             [
              0.1111111111111111,
              "#46039f"
             ],
             [
              0.2222222222222222,
              "#7201a8"
             ],
             [
              0.3333333333333333,
              "#9c179e"
             ],
             [
              0.4444444444444444,
              "#bd3786"
             ],
             [
              0.5555555555555556,
              "#d8576b"
             ],
             [
              0.6666666666666666,
              "#ed7953"
             ],
             [
              0.7777777777777778,
              "#fb9f3a"
             ],
             [
              0.8888888888888888,
              "#fdca26"
             ],
             [
              1,
              "#f0f921"
             ]
            ],
            "type": "contour"
           }
          ],
          "contourcarpet": [
           {
            "colorbar": {
             "outlinewidth": 0,
             "ticks": ""
            },
            "type": "contourcarpet"
           }
          ],
          "heatmap": [
           {
            "colorbar": {
             "outlinewidth": 0,
             "ticks": ""
            },
            "colorscale": [
             [
              0,
              "#0d0887"
             ],
             [
              0.1111111111111111,
              "#46039f"
             ],
             [
              0.2222222222222222,
              "#7201a8"
             ],
             [
              0.3333333333333333,
              "#9c179e"
             ],
             [
              0.4444444444444444,
              "#bd3786"
             ],
             [
              0.5555555555555556,
              "#d8576b"
             ],
             [
              0.6666666666666666,
              "#ed7953"
             ],
             [
              0.7777777777777778,
              "#fb9f3a"
             ],
             [
              0.8888888888888888,
              "#fdca26"
             ],
             [
              1,
              "#f0f921"
             ]
            ],
            "type": "heatmap"
           }
          ],
          "heatmapgl": [
           {
            "colorbar": {
             "outlinewidth": 0,
             "ticks": ""
            },
            "colorscale": [
             [
              0,
              "#0d0887"
             ],
             [
              0.1111111111111111,
              "#46039f"
             ],
             [
              0.2222222222222222,
              "#7201a8"
             ],
             [
              0.3333333333333333,
              "#9c179e"
             ],
             [
              0.4444444444444444,
              "#bd3786"
             ],
             [
              0.5555555555555556,
              "#d8576b"
             ],
             [
              0.6666666666666666,
              "#ed7953"
             ],
             [
              0.7777777777777778,
              "#fb9f3a"
             ],
             [
              0.8888888888888888,
              "#fdca26"
             ],
             [
              1,
              "#f0f921"
             ]
            ],
            "type": "heatmapgl"
           }
          ],
          "histogram": [
           {
            "marker": {
             "pattern": {
              "fillmode": "overlay",
              "size": 10,
              "solidity": 0.2
             }
            },
            "type": "histogram"
           }
          ],
          "histogram2d": [
           {
            "colorbar": {
             "outlinewidth": 0,
             "ticks": ""
            },
            "colorscale": [
             [
              0,
              "#0d0887"
             ],
             [
              0.1111111111111111,
              "#46039f"
             ],
             [
              0.2222222222222222,
              "#7201a8"
             ],
             [
              0.3333333333333333,
              "#9c179e"
             ],
             [
              0.4444444444444444,
              "#bd3786"
             ],
             [
              0.5555555555555556,
              "#d8576b"
             ],
             [
              0.6666666666666666,
              "#ed7953"
             ],
             [
              0.7777777777777778,
              "#fb9f3a"
             ],
             [
              0.8888888888888888,
              "#fdca26"
             ],
             [
              1,
              "#f0f921"
             ]
            ],
            "type": "histogram2d"
           }
          ],
          "histogram2dcontour": [
           {
            "colorbar": {
             "outlinewidth": 0,
             "ticks": ""
            },
            "colorscale": [
             [
              0,
              "#0d0887"
             ],
             [
              0.1111111111111111,
              "#46039f"
             ],
             [
              0.2222222222222222,
              "#7201a8"
             ],
             [
              0.3333333333333333,
              "#9c179e"
             ],
             [
              0.4444444444444444,
              "#bd3786"
             ],
             [
              0.5555555555555556,
              "#d8576b"
             ],
             [
              0.6666666666666666,
              "#ed7953"
             ],
             [
              0.7777777777777778,
              "#fb9f3a"
             ],
             [
              0.8888888888888888,
              "#fdca26"
             ],
             [
              1,
              "#f0f921"
             ]
            ],
            "type": "histogram2dcontour"
           }
          ],
          "mesh3d": [
           {
            "colorbar": {
             "outlinewidth": 0,
             "ticks": ""
            },
            "type": "mesh3d"
           }
          ],
          "parcoords": [
           {
            "line": {
             "colorbar": {
              "outlinewidth": 0,
              "ticks": ""
             }
            },
            "type": "parcoords"
           }
          ],
          "pie": [
           {
            "automargin": true,
            "type": "pie"
           }
          ],
          "scatter": [
           {
            "fillpattern": {
             "fillmode": "overlay",
             "size": 10,
             "solidity": 0.2
            },
            "type": "scatter"
           }
          ],
          "scatter3d": [
           {
            "line": {
             "colorbar": {
              "outlinewidth": 0,
              "ticks": ""
             }
            },
            "marker": {
             "colorbar": {
              "outlinewidth": 0,
              "ticks": ""
             }
            },
            "type": "scatter3d"
           }
          ],
          "scattercarpet": [
           {
            "marker": {
             "colorbar": {
              "outlinewidth": 0,
              "ticks": ""
             }
            },
            "type": "scattercarpet"
           }
          ],
          "scattergeo": [
           {
            "marker": {
             "colorbar": {
              "outlinewidth": 0,
              "ticks": ""
             }
            },
            "type": "scattergeo"
           }
          ],
          "scattergl": [
           {
            "marker": {
             "colorbar": {
              "outlinewidth": 0,
              "ticks": ""
             }
            },
            "type": "scattergl"
           }
          ],
          "scattermapbox": [
           {
            "marker": {
             "colorbar": {
              "outlinewidth": 0,
              "ticks": ""
             }
            },
            "type": "scattermapbox"
           }
          ],
          "scatterpolar": [
           {
            "marker": {
             "colorbar": {
              "outlinewidth": 0,
              "ticks": ""
             }
            },
            "type": "scatterpolar"
           }
          ],
          "scatterpolargl": [
           {
            "marker": {
             "colorbar": {
              "outlinewidth": 0,
              "ticks": ""
             }
            },
            "type": "scatterpolargl"
           }
          ],
          "scatterternary": [
           {
            "marker": {
             "colorbar": {
              "outlinewidth": 0,
              "ticks": ""
             }
            },
            "type": "scatterternary"
           }
          ],
          "surface": [
           {
            "colorbar": {
             "outlinewidth": 0,
             "ticks": ""
            },
            "colorscale": [
             [
              0,
              "#0d0887"
             ],
             [
              0.1111111111111111,
              "#46039f"
             ],
             [
              0.2222222222222222,
              "#7201a8"
             ],
             [
              0.3333333333333333,
              "#9c179e"
             ],
             [
              0.4444444444444444,
              "#bd3786"
             ],
             [
              0.5555555555555556,
              "#d8576b"
             ],
             [
              0.6666666666666666,
              "#ed7953"
             ],
             [
              0.7777777777777778,
              "#fb9f3a"
             ],
             [
              0.8888888888888888,
              "#fdca26"
             ],
             [
              1,
              "#f0f921"
             ]
            ],
            "type": "surface"
           }
          ],
          "table": [
           {
            "cells": {
             "fill": {
              "color": "#EBF0F8"
             },
             "line": {
              "color": "white"
             }
            },
            "header": {
             "fill": {
              "color": "#C8D4E3"
             },
             "line": {
              "color": "white"
             }
            },
            "type": "table"
           }
          ]
         },
         "layout": {
          "annotationdefaults": {
           "arrowcolor": "#2a3f5f",
           "arrowhead": 0,
           "arrowwidth": 1
          },
          "autotypenumbers": "strict",
          "coloraxis": {
           "colorbar": {
            "outlinewidth": 0,
            "ticks": ""
           }
          },
          "colorscale": {
           "diverging": [
            [
             0,
             "#8e0152"
            ],
            [
             0.1,
             "#c51b7d"
            ],
            [
             0.2,
             "#de77ae"
            ],
            [
             0.3,
             "#f1b6da"
            ],
            [
             0.4,
             "#fde0ef"
            ],
            [
             0.5,
             "#f7f7f7"
            ],
            [
             0.6,
             "#e6f5d0"
            ],
            [
             0.7,
             "#b8e186"
            ],
            [
             0.8,
             "#7fbc41"
            ],
            [
             0.9,
             "#4d9221"
            ],
            [
             1,
             "#276419"
            ]
           ],
           "sequential": [
            [
             0,
             "#0d0887"
            ],
            [
             0.1111111111111111,
             "#46039f"
            ],
            [
             0.2222222222222222,
             "#7201a8"
            ],
            [
             0.3333333333333333,
             "#9c179e"
            ],
            [
             0.4444444444444444,
             "#bd3786"
            ],
            [
             0.5555555555555556,
             "#d8576b"
            ],
            [
             0.6666666666666666,
             "#ed7953"
            ],
            [
             0.7777777777777778,
             "#fb9f3a"
            ],
            [
             0.8888888888888888,
             "#fdca26"
            ],
            [
             1,
             "#f0f921"
            ]
           ],
           "sequentialminus": [
            [
             0,
             "#0d0887"
            ],
            [
             0.1111111111111111,
             "#46039f"
            ],
            [
             0.2222222222222222,
             "#7201a8"
            ],
            [
             0.3333333333333333,
             "#9c179e"
            ],
            [
             0.4444444444444444,
             "#bd3786"
            ],
            [
             0.5555555555555556,
             "#d8576b"
            ],
            [
             0.6666666666666666,
             "#ed7953"
            ],
            [
             0.7777777777777778,
             "#fb9f3a"
            ],
            [
             0.8888888888888888,
             "#fdca26"
            ],
            [
             1,
             "#f0f921"
            ]
           ]
          },
          "colorway": [
           "#636efa",
           "#EF553B",
           "#00cc96",
           "#ab63fa",
           "#FFA15A",
           "#19d3f3",
           "#FF6692",
           "#B6E880",
           "#FF97FF",
           "#FECB52"
          ],
          "font": {
           "color": "#2a3f5f"
          },
          "geo": {
           "bgcolor": "white",
           "lakecolor": "white",
           "landcolor": "#E5ECF6",
           "showlakes": true,
           "showland": true,
           "subunitcolor": "white"
          },
          "hoverlabel": {
           "align": "left"
          },
          "hovermode": "closest",
          "mapbox": {
           "style": "light"
          },
          "paper_bgcolor": "white",
          "plot_bgcolor": "#E5ECF6",
          "polar": {
           "angularaxis": {
            "gridcolor": "white",
            "linecolor": "white",
            "ticks": ""
           },
           "bgcolor": "#E5ECF6",
           "radialaxis": {
            "gridcolor": "white",
            "linecolor": "white",
            "ticks": ""
           }
          },
          "scene": {
           "xaxis": {
            "backgroundcolor": "#E5ECF6",
            "gridcolor": "white",
            "gridwidth": 2,
            "linecolor": "white",
            "showbackground": true,
            "ticks": "",
            "zerolinecolor": "white"
           },
           "yaxis": {
            "backgroundcolor": "#E5ECF6",
            "gridcolor": "white",
            "gridwidth": 2,
            "linecolor": "white",
            "showbackground": true,
            "ticks": "",
            "zerolinecolor": "white"
           },
           "zaxis": {
            "backgroundcolor": "#E5ECF6",
            "gridcolor": "white",
            "gridwidth": 2,
            "linecolor": "white",
            "showbackground": true,
            "ticks": "",
            "zerolinecolor": "white"
           }
          },
          "shapedefaults": {
           "line": {
            "color": "#2a3f5f"
           }
          },
          "ternary": {
           "aaxis": {
            "gridcolor": "white",
            "linecolor": "white",
            "ticks": ""
           },
           "baxis": {
            "gridcolor": "white",
            "linecolor": "white",
            "ticks": ""
           },
           "bgcolor": "#E5ECF6",
           "caxis": {
            "gridcolor": "white",
            "linecolor": "white",
            "ticks": ""
           }
          },
          "title": {
           "x": 0.05
          },
          "xaxis": {
           "automargin": true,
           "gridcolor": "white",
           "linecolor": "white",
           "ticks": "",
           "title": {
            "standoff": 15
           },
           "zerolinecolor": "white",
           "zerolinewidth": 2
          },
          "yaxis": {
           "automargin": true,
           "gridcolor": "white",
           "linecolor": "white",
           "ticks": "",
           "title": {
            "standoff": 15
           },
           "zerolinecolor": "white",
           "zerolinewidth": 2
          }
         }
        },
        "width": 1200,
        "xaxis": {
         "anchor": "y",
         "domain": [
          0,
          1
         ],
         "title": {
          "text": "Display format"
         }
        },
        "yaxis": {
         "anchor": "x",
         "domain": [
          0,
          1
         ],
         "title": {
          "text": "Number of Leaderboards"
         }
        }
       }
      }
     },
     "metadata": {},
     "output_type": "display_data"
    }
   ],
   "source": [
    "df = pd.read_csv(path_meta / 'leaderboard_processed.csv')\n",
    "df['Display formats'] = df['Display formats'].apply(ast.literal_eval)\n",
    "\n",
    "df_multiple = df[df['Display formats'].map(len) > 1]\n",
    "print(f\"{round(len(df_multiple)/len(df)*100,2)}% ({len(df_multiple)} out of {len(df)}) leaderboards support multiple display formats.\")\n",
    "display_format_rankable = ['Rankable Table', 'Rankable Bar Chart']\n",
    "df_rankable = keep_rows_by_list_column(df, 'Display formats', display_format_rankable)\n",
    "print(f\"{round(len(df_rankable)/len(df)*100,2)}% ({len(df_rankable)} out of {len(df)}) leaderboards support rankable display formats.\")\n",
    "df_rankable_split = df_rankable.explode('Display formats')['Display formats'].value_counts().reset_index(name='Frequency')\n",
    "print(f\"{df_rankable_split['Display formats'].iloc[0]} is the most popular display format of rankable leaderboards, accounting for {round(df_rankable_split['Frequency'].iloc[0]/len(df_rankable)*100,2)}% ({df_rankable_split['Frequency'].iloc[0]} out of {len(df_rankable)}) rankable leaderboards.\")\n",
    "df_split = df.explode('Display formats')['Display formats'].value_counts().reset_index(name='Frequency')\n",
    "df_split['Weight'] = 1\n",
    "\n",
    "statistics = {\n",
    "    'Distribution': 'Leaderboards across Display Formats',\n",
    "    'Mean': np.mean(df_split['Frequency']),\n",
    "    'Median': np.median(df_split['Frequency']),\n",
    "    'IQR': df_split['Frequency'].quantile(0.75) - df_split['Frequency'].quantile(0.25),\n",
    "    'Gini Coefficient': ineqpy.inequality.gini(data=df_split, income='Frequency', weights='Weight'),\n",
    "}\n",
    "if os.path.exists(path_meta / 'leaderboard_statistics.csv'):\n",
    "    df_statistics = pd.read_csv(path_meta / 'leaderboard_statistics.csv')\n",
    "else:\n",
    "    df_statistics = pd.DataFrame()\n",
    "df_statistics = pd.concat([df_statistics, pd.DataFrame([statistics])], ignore_index=True)\n",
    "df_statistics.drop_duplicates(subset=['Distribution'], keep='last', inplace=True)\n",
    "df_statistics.sort_values(by='Distribution', inplace=True)\n",
    "df_statistics.to_csv(path_meta / 'leaderboard_statistics.csv', index=False)\n",
    "\n",
    "df_split['Ratio'] = round(df_split['Frequency'] / len(df) * 100, 2)\n",
    "\n",
    "fig = px.bar(\n",
    "    x=df_split['Display formats'],\n",
    "    y=df_split['Frequency'],\n",
    "    text_auto=True,\n",
    "    labels={'x': 'Display format', 'y': 'Number of Leaderboards'},\n",
    ")\n",
    "# Update the layout for a tighter look\n",
    "fig.update_layout(\n",
    "    autosize=True,\n",
    "    margin=dict(\n",
    "        l=10,  # Left margin\n",
    "        r=10,  # Right margin\n",
    "        b=10,  # Bottom margin\n",
    "        t=10,  # Top margin\n",
    "        pad=4  # Padding between the plot and the margin\n",
    "    )\n",
    ")\n",
    "fig.update_layout(\n",
    "    width=1200,  # Set the width of the figure\n",
    "    height=800,  # Set the height of the figure\n",
    ")\n",
    "fig.show()"
   ]
  },
  {
   "cell_type": "code",
   "execution_count": 25,
   "metadata": {},
   "outputs": [
    {
     "name": "stdout",
     "output_type": "stream",
     "text": [
      "71.22% (198 out of 278) leaderboards are associated with specific publications, including research articles, blog posts, and white papers.\n",
      "32.32% (64 out of 198) publications have been accepted in a specific workshop, conference, magzine, or journal.\n",
      "NeurIPS emerges as the conference with the most number of accepted publications, accounting for 21.88% (14 out of 64) of those published.\n"
     ]
    },
    {
     "data": {
      "application/vnd.plotly.v1+json": {
       "config": {
        "plotlyServerURL": "https://plot.ly"
       },
       "data": [
        {
         "orientation": "h",
         "text": [
          14,
          13,
          6,
          4,
          4,
          4,
          3,
          3,
          3,
          2
         ],
         "textposition": "auto",
         "type": "bar",
         "x": [
          14,
          13,
          6,
          4,
          4,
          4,
          3,
          3,
          3,
          2
         ],
         "y": [
          "NeurIPS",
          "EMNLP",
          "ICLR",
          "AAAI",
          "ACL",
          "blog",
          "ECCV",
          "ICML",
          "NAACL",
          "CVPR"
         ]
        }
       ],
       "layout": {
        "height": 800,
        "template": {
         "data": {
          "bar": [
           {
            "error_x": {
             "color": "#2a3f5f"
            },
            "error_y": {
             "color": "#2a3f5f"
            },
            "marker": {
             "line": {
              "color": "#E5ECF6",
              "width": 0.5
             },
             "pattern": {
              "fillmode": "overlay",
              "size": 10,
              "solidity": 0.2
             }
            },
            "type": "bar"
           }
          ],
          "barpolar": [
           {
            "marker": {
             "line": {
              "color": "#E5ECF6",
              "width": 0.5
             },
             "pattern": {
              "fillmode": "overlay",
              "size": 10,
              "solidity": 0.2
             }
            },
            "type": "barpolar"
           }
          ],
          "carpet": [
           {
            "aaxis": {
             "endlinecolor": "#2a3f5f",
             "gridcolor": "white",
             "linecolor": "white",
             "minorgridcolor": "white",
             "startlinecolor": "#2a3f5f"
            },
            "baxis": {
             "endlinecolor": "#2a3f5f",
             "gridcolor": "white",
             "linecolor": "white",
             "minorgridcolor": "white",
             "startlinecolor": "#2a3f5f"
            },
            "type": "carpet"
           }
          ],
          "choropleth": [
           {
            "colorbar": {
             "outlinewidth": 0,
             "ticks": ""
            },
            "type": "choropleth"
           }
          ],
          "contour": [
           {
            "colorbar": {
             "outlinewidth": 0,
             "ticks": ""
            },
            "colorscale": [
             [
              0,
              "#0d0887"
             ],
             [
              0.1111111111111111,
              "#46039f"
             ],
             [
              0.2222222222222222,
              "#7201a8"
             ],
             [
              0.3333333333333333,
              "#9c179e"
             ],
             [
              0.4444444444444444,
              "#bd3786"
             ],
             [
              0.5555555555555556,
              "#d8576b"
             ],
             [
              0.6666666666666666,
              "#ed7953"
             ],
             [
              0.7777777777777778,
              "#fb9f3a"
             ],
             [
              0.8888888888888888,
              "#fdca26"
             ],
             [
              1,
              "#f0f921"
             ]
            ],
            "type": "contour"
           }
          ],
          "contourcarpet": [
           {
            "colorbar": {
             "outlinewidth": 0,
             "ticks": ""
            },
            "type": "contourcarpet"
           }
          ],
          "heatmap": [
           {
            "colorbar": {
             "outlinewidth": 0,
             "ticks": ""
            },
            "colorscale": [
             [
              0,
              "#0d0887"
             ],
             [
              0.1111111111111111,
              "#46039f"
             ],
             [
              0.2222222222222222,
              "#7201a8"
             ],
             [
              0.3333333333333333,
              "#9c179e"
             ],
             [
              0.4444444444444444,
              "#bd3786"
             ],
             [
              0.5555555555555556,
              "#d8576b"
             ],
             [
              0.6666666666666666,
              "#ed7953"
             ],
             [
              0.7777777777777778,
              "#fb9f3a"
             ],
             [
              0.8888888888888888,
              "#fdca26"
             ],
             [
              1,
              "#f0f921"
             ]
            ],
            "type": "heatmap"
           }
          ],
          "heatmapgl": [
           {
            "colorbar": {
             "outlinewidth": 0,
             "ticks": ""
            },
            "colorscale": [
             [
              0,
              "#0d0887"
             ],
             [
              0.1111111111111111,
              "#46039f"
             ],
             [
              0.2222222222222222,
              "#7201a8"
             ],
             [
              0.3333333333333333,
              "#9c179e"
             ],
             [
              0.4444444444444444,
              "#bd3786"
             ],
             [
              0.5555555555555556,
              "#d8576b"
             ],
             [
              0.6666666666666666,
              "#ed7953"
             ],
             [
              0.7777777777777778,
              "#fb9f3a"
             ],
             [
              0.8888888888888888,
              "#fdca26"
             ],
             [
              1,
              "#f0f921"
             ]
            ],
            "type": "heatmapgl"
           }
          ],
          "histogram": [
           {
            "marker": {
             "pattern": {
              "fillmode": "overlay",
              "size": 10,
              "solidity": 0.2
             }
            },
            "type": "histogram"
           }
          ],
          "histogram2d": [
           {
            "colorbar": {
             "outlinewidth": 0,
             "ticks": ""
            },
            "colorscale": [
             [
              0,
              "#0d0887"
             ],
             [
              0.1111111111111111,
              "#46039f"
             ],
             [
              0.2222222222222222,
              "#7201a8"
             ],
             [
              0.3333333333333333,
              "#9c179e"
             ],
             [
              0.4444444444444444,
              "#bd3786"
             ],
             [
              0.5555555555555556,
              "#d8576b"
             ],
             [
              0.6666666666666666,
              "#ed7953"
             ],
             [
              0.7777777777777778,
              "#fb9f3a"
             ],
             [
              0.8888888888888888,
              "#fdca26"
             ],
             [
              1,
              "#f0f921"
             ]
            ],
            "type": "histogram2d"
           }
          ],
          "histogram2dcontour": [
           {
            "colorbar": {
             "outlinewidth": 0,
             "ticks": ""
            },
            "colorscale": [
             [
              0,
              "#0d0887"
             ],
             [
              0.1111111111111111,
              "#46039f"
             ],
             [
              0.2222222222222222,
              "#7201a8"
             ],
             [
              0.3333333333333333,
              "#9c179e"
             ],
             [
              0.4444444444444444,
              "#bd3786"
             ],
             [
              0.5555555555555556,
              "#d8576b"
             ],
             [
              0.6666666666666666,
              "#ed7953"
             ],
             [
              0.7777777777777778,
              "#fb9f3a"
             ],
             [
              0.8888888888888888,
              "#fdca26"
             ],
             [
              1,
              "#f0f921"
             ]
            ],
            "type": "histogram2dcontour"
           }
          ],
          "mesh3d": [
           {
            "colorbar": {
             "outlinewidth": 0,
             "ticks": ""
            },
            "type": "mesh3d"
           }
          ],
          "parcoords": [
           {
            "line": {
             "colorbar": {
              "outlinewidth": 0,
              "ticks": ""
             }
            },
            "type": "parcoords"
           }
          ],
          "pie": [
           {
            "automargin": true,
            "type": "pie"
           }
          ],
          "scatter": [
           {
            "fillpattern": {
             "fillmode": "overlay",
             "size": 10,
             "solidity": 0.2
            },
            "type": "scatter"
           }
          ],
          "scatter3d": [
           {
            "line": {
             "colorbar": {
              "outlinewidth": 0,
              "ticks": ""
             }
            },
            "marker": {
             "colorbar": {
              "outlinewidth": 0,
              "ticks": ""
             }
            },
            "type": "scatter3d"
           }
          ],
          "scattercarpet": [
           {
            "marker": {
             "colorbar": {
              "outlinewidth": 0,
              "ticks": ""
             }
            },
            "type": "scattercarpet"
           }
          ],
          "scattergeo": [
           {
            "marker": {
             "colorbar": {
              "outlinewidth": 0,
              "ticks": ""
             }
            },
            "type": "scattergeo"
           }
          ],
          "scattergl": [
           {
            "marker": {
             "colorbar": {
              "outlinewidth": 0,
              "ticks": ""
             }
            },
            "type": "scattergl"
           }
          ],
          "scattermapbox": [
           {
            "marker": {
             "colorbar": {
              "outlinewidth": 0,
              "ticks": ""
             }
            },
            "type": "scattermapbox"
           }
          ],
          "scatterpolar": [
           {
            "marker": {
             "colorbar": {
              "outlinewidth": 0,
              "ticks": ""
             }
            },
            "type": "scatterpolar"
           }
          ],
          "scatterpolargl": [
           {
            "marker": {
             "colorbar": {
              "outlinewidth": 0,
              "ticks": ""
             }
            },
            "type": "scatterpolargl"
           }
          ],
          "scatterternary": [
           {
            "marker": {
             "colorbar": {
              "outlinewidth": 0,
              "ticks": ""
             }
            },
            "type": "scatterternary"
           }
          ],
          "surface": [
           {
            "colorbar": {
             "outlinewidth": 0,
             "ticks": ""
            },
            "colorscale": [
             [
              0,
              "#0d0887"
             ],
             [
              0.1111111111111111,
              "#46039f"
             ],
             [
              0.2222222222222222,
              "#7201a8"
             ],
             [
              0.3333333333333333,
              "#9c179e"
             ],
             [
              0.4444444444444444,
              "#bd3786"
             ],
             [
              0.5555555555555556,
              "#d8576b"
             ],
             [
              0.6666666666666666,
              "#ed7953"
             ],
             [
              0.7777777777777778,
              "#fb9f3a"
             ],
             [
              0.8888888888888888,
              "#fdca26"
             ],
             [
              1,
              "#f0f921"
             ]
            ],
            "type": "surface"
           }
          ],
          "table": [
           {
            "cells": {
             "fill": {
              "color": "#EBF0F8"
             },
             "line": {
              "color": "white"
             }
            },
            "header": {
             "fill": {
              "color": "#C8D4E3"
             },
             "line": {
              "color": "white"
             }
            },
            "type": "table"
           }
          ]
         },
         "layout": {
          "annotationdefaults": {
           "arrowcolor": "#2a3f5f",
           "arrowhead": 0,
           "arrowwidth": 1
          },
          "autotypenumbers": "strict",
          "coloraxis": {
           "colorbar": {
            "outlinewidth": 0,
            "ticks": ""
           }
          },
          "colorscale": {
           "diverging": [
            [
             0,
             "#8e0152"
            ],
            [
             0.1,
             "#c51b7d"
            ],
            [
             0.2,
             "#de77ae"
            ],
            [
             0.3,
             "#f1b6da"
            ],
            [
             0.4,
             "#fde0ef"
            ],
            [
             0.5,
             "#f7f7f7"
            ],
            [
             0.6,
             "#e6f5d0"
            ],
            [
             0.7,
             "#b8e186"
            ],
            [
             0.8,
             "#7fbc41"
            ],
            [
             0.9,
             "#4d9221"
            ],
            [
             1,
             "#276419"
            ]
           ],
           "sequential": [
            [
             0,
             "#0d0887"
            ],
            [
             0.1111111111111111,
             "#46039f"
            ],
            [
             0.2222222222222222,
             "#7201a8"
            ],
            [
             0.3333333333333333,
             "#9c179e"
            ],
            [
             0.4444444444444444,
             "#bd3786"
            ],
            [
             0.5555555555555556,
             "#d8576b"
            ],
            [
             0.6666666666666666,
             "#ed7953"
            ],
            [
             0.7777777777777778,
             "#fb9f3a"
            ],
            [
             0.8888888888888888,
             "#fdca26"
            ],
            [
             1,
             "#f0f921"
            ]
           ],
           "sequentialminus": [
            [
             0,
             "#0d0887"
            ],
            [
             0.1111111111111111,
             "#46039f"
            ],
            [
             0.2222222222222222,
             "#7201a8"
            ],
            [
             0.3333333333333333,
             "#9c179e"
            ],
            [
             0.4444444444444444,
             "#bd3786"
            ],
            [
             0.5555555555555556,
             "#d8576b"
            ],
            [
             0.6666666666666666,
             "#ed7953"
            ],
            [
             0.7777777777777778,
             "#fb9f3a"
            ],
            [
             0.8888888888888888,
             "#fdca26"
            ],
            [
             1,
             "#f0f921"
            ]
           ]
          },
          "colorway": [
           "#636efa",
           "#EF553B",
           "#00cc96",
           "#ab63fa",
           "#FFA15A",
           "#19d3f3",
           "#FF6692",
           "#B6E880",
           "#FF97FF",
           "#FECB52"
          ],
          "font": {
           "color": "#2a3f5f"
          },
          "geo": {
           "bgcolor": "white",
           "lakecolor": "white",
           "landcolor": "#E5ECF6",
           "showlakes": true,
           "showland": true,
           "subunitcolor": "white"
          },
          "hoverlabel": {
           "align": "left"
          },
          "hovermode": "closest",
          "mapbox": {
           "style": "light"
          },
          "paper_bgcolor": "white",
          "plot_bgcolor": "#E5ECF6",
          "polar": {
           "angularaxis": {
            "gridcolor": "white",
            "linecolor": "white",
            "ticks": ""
           },
           "bgcolor": "#E5ECF6",
           "radialaxis": {
            "gridcolor": "white",
            "linecolor": "white",
            "ticks": ""
           }
          },
          "scene": {
           "xaxis": {
            "backgroundcolor": "#E5ECF6",
            "gridcolor": "white",
            "gridwidth": 2,
            "linecolor": "white",
            "showbackground": true,
            "ticks": "",
            "zerolinecolor": "white"
           },
           "yaxis": {
            "backgroundcolor": "#E5ECF6",
            "gridcolor": "white",
            "gridwidth": 2,
            "linecolor": "white",
            "showbackground": true,
            "ticks": "",
            "zerolinecolor": "white"
           },
           "zaxis": {
            "backgroundcolor": "#E5ECF6",
            "gridcolor": "white",
            "gridwidth": 2,
            "linecolor": "white",
            "showbackground": true,
            "ticks": "",
            "zerolinecolor": "white"
           }
          },
          "shapedefaults": {
           "line": {
            "color": "#2a3f5f"
           }
          },
          "ternary": {
           "aaxis": {
            "gridcolor": "white",
            "linecolor": "white",
            "ticks": ""
           },
           "baxis": {
            "gridcolor": "white",
            "linecolor": "white",
            "ticks": ""
           },
           "bgcolor": "#E5ECF6",
           "caxis": {
            "gridcolor": "white",
            "linecolor": "white",
            "ticks": ""
           }
          },
          "title": {
           "x": 0.05
          },
          "xaxis": {
           "automargin": true,
           "gridcolor": "white",
           "linecolor": "white",
           "ticks": "",
           "title": {
            "standoff": 15
           },
           "zerolinecolor": "white",
           "zerolinewidth": 2
          },
          "yaxis": {
           "automargin": true,
           "gridcolor": "white",
           "linecolor": "white",
           "ticks": "",
           "title": {
            "standoff": 15
           },
           "zerolinecolor": "white",
           "zerolinewidth": 2
          }
         }
        },
        "title": {
         "text": "Number of non-PWC Leaderboards with Accepted Publications across Publication Venues (Top 10)"
        },
        "width": 1200,
        "xaxis": {
         "title": {
          "text": "Leaderboard Number"
         }
        },
        "yaxis": {
         "autorange": "reversed",
         "title": {
          "text": "Publication Name"
         }
        }
       }
      }
     },
     "metadata": {},
     "output_type": "display_data"
    }
   ],
   "source": [
    "df = pd.read_csv(path_meta / 'leaderboard_processed.csv')\n",
    "df = df[df['Platforms'] != 'pwc']\n",
    "df['Publication venues (non-pwc)'] = df['Publication venues (non-pwc)'].apply(ast.literal_eval)\n",
    "df_pub = df[df['Publication venues (non-pwc)'].apply(len) > 0]\n",
    "print(f\"{round(len(df_pub)/len(df)*100,2)}% ({len(df_pub)} out of {len(df)}) leaderboards are associated with specific publications, including research articles, blog posts, and white papers.\")\n",
    "\n",
    "df_literature = filter_rows_by_list_column(df_pub, 'Publication venues (non-pwc)', non_accepted_publication_type)\n",
    "print(f\"{round(len(df_literature)/len(df_pub)*100,2)}% ({len(df_literature)} out of {len(df_pub)}) publications have been accepted in a specific workshop, conference, magzine, or journal.\")\n",
    "df_split = df_literature.explode('Publication venues (non-pwc)').groupby('Publication venues (non-pwc)').size().reset_index(name='Frequency')\n",
    "df_split['Weight'] = 1\n",
    "\n",
    "statistics = {\n",
    "    'Distribution': 'Leaderboards across Publication Venues',\n",
    "    'Mean': np.mean(df_split['Frequency']),\n",
    "    'Median': np.median(df_split['Frequency']),\n",
    "    'IQR': df_split['Frequency'].quantile(0.75) - df_split['Frequency'].quantile(0.25),\n",
    "    'Gini Coefficient': ineqpy.inequality.gini(data=df_split, income='Frequency', weights='Weight'),\n",
    "}\n",
    "if os.path.exists(path_meta / 'leaderboard_statistics.csv'):\n",
    "    df_statistics = pd.read_csv(path_meta / 'leaderboard_statistics.csv')\n",
    "else:\n",
    "    df_statistics = pd.DataFrame()\n",
    "df_statistics = pd.concat([df_statistics, pd.DataFrame([statistics])], ignore_index=True)\n",
    "df_statistics.drop_duplicates(subset=['Distribution'], keep='last', inplace=True)\n",
    "df_statistics.sort_values(by='Distribution', inplace=True)\n",
    "df_statistics.to_csv(path_meta / 'leaderboard_statistics.csv', index=False)\n",
    "\n",
    "df_top = df_split.sort_values(by='Frequency', ascending=False).head(10)\n",
    "print(f\"{df_top['Publication venues (non-pwc)'].iloc[0]} emerges as the conference with the most number of accepted publications, accounting for {round(df_top['Frequency'].iloc[0]/len(df_literature)*100,2)}% ({df_top['Frequency'].iloc[0]} out of {len(df_literature)}) of those published.\")\n",
    "\n",
    "df_top['Ratio'] = round(df_top['Frequency'] / len(df_literature) * 100, 2)\n",
    "\n",
    "fig = go.Figure(go.Bar(\n",
    "        x=df_top['Frequency'],  # Values for the bar lengths\n",
    "        y=df_top['Publication venues (non-pwc)'],  # Categories for each bar\n",
    "        orientation='h',  # Sets the bars to be horizontal\n",
    "        text=df_top['Frequency'],  # Adds the values as text on each bar\n",
    "        textposition='auto'  # Automatically positions the text on the bars\n",
    "))\n",
    "fig.update_layout(\n",
    "        title=f'Number of non-PWC Leaderboards with Accepted Publications across Publication Venues (Top 10)',\n",
    "        xaxis_title='Leaderboard Number',\n",
    "        yaxis_title='Publication Name',\n",
    "        yaxis_autorange='reversed'  # This line makes the bars go top-down\n",
    ")\n",
    "fig.update_layout(\n",
    "    width=1200,  # Set the width of the figure\n",
    "    height=800,  # Set the height of the figure\n",
    ")\n",
    "fig.show()\n"
   ]
  },
  {
   "cell_type": "code",
   "execution_count": 26,
   "metadata": {},
   "outputs": [
    {
     "name": "stdout",
     "output_type": "stream",
     "text": [
      "99.86% (720 out of 721) leaderboards provide documentation.\n",
      "99.86% (720 out of 721) leaderboards provide contact information.\n",
      "100.0% (721 out of 721) leaderboards provide submission channels.\n",
      "38.42% (277 out of 721) leaderboards provide evaluation harness.\n",
      "36.75% (265 out of 721) leaderboards provide pull request channels.\n",
      "36.75% (265 out of 721) leaderboards provide discussion forums.\n"
     ]
    }
   ],
   "source": [
    "df = pd.read_csv(path_meta / 'leaderboard_processed.csv')\n",
    "print(f\"{round((len(df)-len(leaderboard_system_without_documentation))/(len(df))*100, 2)}% ({len(df)-len(leaderboard_system_without_documentation)} out of {len(df)}) leaderboards provide documentation.\")\n",
    "print(f\"{round((len(df)-len(leaderboard_system_without_contacts))/(len(df))*100, 2)}% ({len(df)-len(leaderboard_system_without_contacts)} out of {len(df)}) leaderboards provide contact information.\")\n",
    "df['Development workflows'] = df['Development workflows'].apply(ast.literal_eval)\n",
    "df_submission = keep_rows_by_list_column(df, 'Development workflows', workflow_patterns_with_submission)\n",
    "print(f\"{round(len(df_submission)/(len(df))*100, 2)}% ({len(df_submission)} out of {len(df)}) leaderboards provide submission channels.\")\n",
    "df_pwc = df[df['Platforms'] == 'pwc']\n",
    "print(f\"{round((len(df)-len(leaderboard_system_without_evaluation_harness)-len(df_pwc))/(len(df))*100, 2)}% ({len(df)-len(leaderboard_system_without_evaluation_harness)-len(df_pwc)} out of {len(df)}) leaderboards provide evaluation harness.\")\n",
    "print(f\"{round((len(df)-len(leaderboard_system_without_pull_requests)-len(df_pwc))/(len(df))*100, 2)}% ({len(df)-len(leaderboard_system_without_pull_requests)-len(df_pwc)} out of {len(df)}) leaderboards provide pull request channels.\")\n",
    "print(f\"{round((len(df)-len(leaderboard_system_without_pull_requests)-len(df_pwc))/(len(df))*100, 2)}% ({len(df)-len(leaderboard_system_without_pull_requests)-len(df_pwc)} out of {len(df)}) leaderboards provide discussion forums.\")"
   ]
  },
  {
   "cell_type": "code",
   "execution_count": 27,
   "metadata": {},
   "outputs": [
    {
     "name": "stdout",
     "output_type": "stream",
     "text": [
      "\\begin{tabular}{lllll}\n",
      "\\toprule\n",
      "Distribution & Mean & Median & IQR & Gini Coefficient \\\\\n",
      "\\midrule\n",
      "Leaderboards across Display Formats & 117.73 & 7.0 & 71 & 0.853 \\\\\n",
      "Leaderboards across Publication Venues & 3.14 & 1.5 & 3 & 0.517 \\\\\n",
      "Leaderboards across Release Organizations & 4.69 & 1.0 & 2 & 0.718 \\\\\n",
      "Leaderboards across Workflow Patterns & 161.80 & 77.0 & 220 & 0.722 \\\\\n",
      "\\bottomrule\n",
      "\\end{tabular}\n",
      "\n"
     ]
    }
   ],
   "source": [
    "df = pd.read_csv(path_meta / 'leaderboard_statistics.csv')\n",
    "df.fillna('$\\\\times$', inplace=True)\n",
    "df['Mean'] = df['Mean'].map('{:.2f}'.format)\n",
    "df['Median'] = df['Median'].map('{:.1f}'.format)\n",
    "df['IQR'] = df['IQR'].map('{:.0f}'.format)\n",
    "df['Gini Coefficient'] = df['Gini Coefficient'].map(lambda x: '{:.3f}'.format(x) if isinstance(x,float) else x)\n",
    "print(df.to_latex(index=False))"
   ]
  },
  {
   "cell_type": "code",
   "execution_count": 28,
   "metadata": {},
   "outputs": [
    {
     "name": "stdout",
     "output_type": "stream",
     "text": [
      "There are 34 SATD examples.\n",
      "There are 320 leaderboard smell examples.\n"
     ]
    },
    {
     "data": {
      "text/html": [
       "<div>\n",
       "<style scoped>\n",
       "    .dataframe tbody tr th:only-of-type {\n",
       "        vertical-align: middle;\n",
       "    }\n",
       "\n",
       "    .dataframe tbody tr th {\n",
       "        vertical-align: top;\n",
       "    }\n",
       "\n",
       "    .dataframe thead th {\n",
       "        text-align: right;\n",
       "    }\n",
       "</style>\n",
       "<table border=\"1\" class=\"dataframe\">\n",
       "  <thead>\n",
       "    <tr style=\"text-align: right;\">\n",
       "      <th></th>\n",
       "      <th>Benchmark Metric</th>\n",
       "      <th>Benchmark Protocol</th>\n",
       "      <th>Benchmark Raw Dataset</th>\n",
       "      <th>Evaluation Record/Result</th>\n",
       "      <th>Model (Information)</th>\n",
       "      <th>Ranking Dataframe</th>\n",
       "      <th>Submission Channel/Guideline</th>\n",
       "      <th>Benchmark Task</th>\n",
       "      <th>Uncategorized</th>\n",
       "    </tr>\n",
       "  </thead>\n",
       "  <tbody>\n",
       "    <tr>\n",
       "      <th>Confusing Entity</th>\n",
       "      <td>4</td>\n",
       "      <td>10</td>\n",
       "      <td>24</td>\n",
       "      <td>11</td>\n",
       "      <td>7</td>\n",
       "      <td>4</td>\n",
       "      <td>21</td>\n",
       "      <td></td>\n",
       "      <td></td>\n",
       "    </tr>\n",
       "    <tr>\n",
       "      <th>Deprecated Entity</th>\n",
       "      <td></td>\n",
       "      <td></td>\n",
       "      <td>3</td>\n",
       "      <td>1</td>\n",
       "      <td>1</td>\n",
       "      <td>7</td>\n",
       "      <td>3</td>\n",
       "      <td></td>\n",
       "      <td></td>\n",
       "    </tr>\n",
       "    <tr>\n",
       "      <th>Inaccessible Entity</th>\n",
       "      <td></td>\n",
       "      <td></td>\n",
       "      <td>2</td>\n",
       "      <td>3</td>\n",
       "      <td>1</td>\n",
       "      <td>13</td>\n",
       "      <td>7</td>\n",
       "      <td></td>\n",
       "      <td></td>\n",
       "    </tr>\n",
       "    <tr>\n",
       "      <th>Misdisplayed Entity</th>\n",
       "      <td>5</td>\n",
       "      <td>2</td>\n",
       "      <td></td>\n",
       "      <td></td>\n",
       "      <td></td>\n",
       "      <td>3</td>\n",
       "      <td></td>\n",
       "      <td></td>\n",
       "      <td></td>\n",
       "    </tr>\n",
       "    <tr>\n",
       "      <th>Mismatched Entity</th>\n",
       "      <td>3</td>\n",
       "      <td>1</td>\n",
       "      <td>2</td>\n",
       "      <td>2</td>\n",
       "      <td>6</td>\n",
       "      <td>3</td>\n",
       "      <td></td>\n",
       "      <td>2</td>\n",
       "      <td></td>\n",
       "    </tr>\n",
       "    <tr>\n",
       "      <th>Missing Entity</th>\n",
       "      <td></td>\n",
       "      <td>1</td>\n",
       "      <td></td>\n",
       "      <td>7</td>\n",
       "      <td></td>\n",
       "      <td>15</td>\n",
       "      <td>1</td>\n",
       "      <td></td>\n",
       "      <td></td>\n",
       "    </tr>\n",
       "    <tr>\n",
       "      <th>Redundant Entity</th>\n",
       "      <td></td>\n",
       "      <td></td>\n",
       "      <td></td>\n",
       "      <td>3</td>\n",
       "      <td>2</td>\n",
       "      <td>4</td>\n",
       "      <td></td>\n",
       "      <td></td>\n",
       "      <td></td>\n",
       "    </tr>\n",
       "    <tr>\n",
       "      <th>Unresponsive Entity</th>\n",
       "      <td></td>\n",
       "      <td></td>\n",
       "      <td></td>\n",
       "      <td></td>\n",
       "      <td></td>\n",
       "      <td>103</td>\n",
       "      <td>3</td>\n",
       "      <td></td>\n",
       "      <td></td>\n",
       "    </tr>\n",
       "    <tr>\n",
       "      <th>Others</th>\n",
       "      <td></td>\n",
       "      <td></td>\n",
       "      <td></td>\n",
       "      <td></td>\n",
       "      <td></td>\n",
       "      <td></td>\n",
       "      <td></td>\n",
       "      <td></td>\n",
       "      <td>30</td>\n",
       "    </tr>\n",
       "  </tbody>\n",
       "</table>\n",
       "</div>"
      ],
      "text/plain": [
       "                    Benchmark Metric Benchmark Protocol Benchmark Raw Dataset  \\\n",
       "Confusing Entity                   4                 10                    24   \n",
       "Deprecated Entity                                                           3   \n",
       "Inaccessible Entity                                                         2   \n",
       "Misdisplayed Entity                5                  2                         \n",
       "Mismatched Entity                  3                  1                     2   \n",
       "Missing Entity                                        1                         \n",
       "Redundant Entity                                                                \n",
       "Unresponsive Entity                                                             \n",
       "Others                                                                          \n",
       "\n",
       "                    Evaluation Record/Result Model (Information)  \\\n",
       "Confusing Entity                          11                   7   \n",
       "Deprecated Entity                          1                   1   \n",
       "Inaccessible Entity                        3                   1   \n",
       "Misdisplayed Entity                                                \n",
       "Mismatched Entity                          2                   6   \n",
       "Missing Entity                             7                       \n",
       "Redundant Entity                           3                   2   \n",
       "Unresponsive Entity                                                \n",
       "Others                                                             \n",
       "\n",
       "                    Ranking Dataframe Submission Channel/Guideline  \\\n",
       "Confusing Entity                    4                           21   \n",
       "Deprecated Entity                   7                            3   \n",
       "Inaccessible Entity                13                            7   \n",
       "Misdisplayed Entity                 3                                \n",
       "Mismatched Entity                   3                                \n",
       "Missing Entity                     15                            1   \n",
       "Redundant Entity                    4                                \n",
       "Unresponsive Entity               103                            3   \n",
       "Others                                                               \n",
       "\n",
       "                    Benchmark Task Uncategorized  \n",
       "Confusing Entity                                  \n",
       "Deprecated Entity                                 \n",
       "Inaccessible Entity                               \n",
       "Misdisplayed Entity                               \n",
       "Mismatched Entity                2                \n",
       "Missing Entity                                    \n",
       "Redundant Entity                                  \n",
       "Unresponsive Entity                               \n",
       "Others                                        30  "
      ]
     },
     "execution_count": 28,
     "metadata": {},
     "output_type": "execute_result"
    }
   ],
   "source": [
    "total_smell_count = 0\n",
    "\n",
    "# Load the Excel file\n",
    "with pd.ExcelFile(path_meta / 'Foundation Model Leaderboards.xlsx') as xls:\n",
    "\n",
    "    # Initialize a dictionary to store unique counts\n",
    "    unique_counts = {}\n",
    "\n",
    "    # Iterate over each sheet\n",
    "    for sheet_name in xls.sheet_names:\n",
    "        if sheet_name in ['Leaderboard']:\n",
    "            continue\n",
    "        \n",
    "        df = pd.read_excel(xls, sheet_name=sheet_name)\n",
    "        \n",
    "        if sheet_name == 'Self-admitted Technical Debt':\n",
    "            print(f'There are {len(df)+1} SATD examples.')\n",
    "            continue\n",
    "    \n",
    "        # Iterate over each column\n",
    "        for column in df.columns:\n",
    "            unique_count = df[column].dropna().nunique()\n",
    "        \n",
    "            if sheet_name not in unique_counts:\n",
    "                unique_counts[sheet_name] = {}\n",
    "                \n",
    "            unique_counts[sheet_name][column] = unique_count\n",
    "            total_smell_count += unique_count\n",
    "\n",
    "print(f'There are {total_smell_count} leaderboard smell examples.')\n",
    "\n",
    "# Display the result\n",
    "result_df = pd.DataFrame(unique_counts).transpose()\n",
    "result_df = result_df.fillna('')\n",
    "result_df = result_df.map(lambda x: int(x) if isinstance(x, float) else x)\n",
    "result_df"
   ]
  }
 ],
 "metadata": {
  "kernelspec": {
   "display_name": ".venv",
   "language": "python",
   "name": "python3"
  },
  "language_info": {
   "codemirror_mode": {
    "name": "ipython",
    "version": 3
   },
   "file_extension": ".py",
   "mimetype": "text/x-python",
   "name": "python",
   "nbconvert_exporter": "python",
   "pygments_lexer": "ipython3",
   "version": "3.11.6"
  }
 },
 "nbformat": 4,
 "nbformat_minor": 2
}
