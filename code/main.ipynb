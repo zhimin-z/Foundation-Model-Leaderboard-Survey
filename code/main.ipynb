{
 "cells": [
  {
   "cell_type": "code",
   "execution_count": null,
   "metadata": {},
   "outputs": [],
   "source": [
    "from gradio_client import Client\n",
    "from pathlib import Path\n",
    "import json\n",
    "import pandas as pd"
   ]
  },
  {
   "cell_type": "code",
   "execution_count": 14,
   "metadata": {},
   "outputs": [],
   "source": [
    "path_data = Path(\"../data\")"
   ]
  },
  {
   "cell_type": "code",
   "execution_count": null,
   "metadata": {},
   "outputs": [],
   "source": [
    "client = Client(\"https://felixz-open-llm-leaderboard.hf.space/\")\n",
    "json_data = client.predict(\"\",\"\", api_name='/predict')\n",
    "\n",
    "with open(json_data, 'r') as file:\n",
    "    file_data = file.read()\n",
    "    data = json.loads(file_data)\n",
    "    df = pd.DataFrame(data['data'], columns=data['headers'])\n",
    "    df.drop(columns=['Model'], inplace=True)\n",
    "    df.to_json(path_data / 'HF-open-llm-leaderboard_20231114.json', orient='records', indent=4)"
   ]
  },
  {
   "cell_type": "code",
   "execution_count": 22,
   "metadata": {},
   "outputs": [],
   "source": [
    "df = pd.read_csv('Book1.csv')\n",
    "df.to_json(path_data / 'HF-ANGO-leaderboard_20230927.json', orient='records', indent=4)"
   ]
  }
 ],
 "metadata": {
  "kernelspec": {
   "display_name": ".venv",
   "language": "python",
   "name": "python3"
  },
  "language_info": {
   "codemirror_mode": {
    "name": "ipython",
    "version": 3
   },
   "file_extension": ".py",
   "mimetype": "text/x-python",
   "name": "python",
   "nbconvert_exporter": "python",
   "pygments_lexer": "ipython3",
   "version": "3.11.6"
  }
 },
 "nbformat": 4,
 "nbformat_minor": 2
}
