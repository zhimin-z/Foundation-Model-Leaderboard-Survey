{
 "cells": [
  {
   "cell_type": "code",
   "execution_count": 1,
   "metadata": {},
   "outputs": [],
   "source": [
    "import os\n",
    "import ast\n",
    "import ineqpy\n",
    "import numpy as np\n",
    "import pandas as pd\n",
    "import seaborn as sns\n",
    "import plotly.io as pio\n",
    "import plotly.express as px\n",
    "import plotly.graph_objects as go\n",
    "import matplotlib.pyplot as plt\n",
    "\n",
    "from pathlib import Path"
   ]
  },
  {
   "cell_type": "code",
   "execution_count": 2,
   "metadata": {},
   "outputs": [],
   "source": [
    "path_data = Path(\"../data\")\n",
    "path_meta = Path(\"../meta\")\n",
    "\n",
    "font_size = 15\n",
    "\n",
    "platform_abbreviation_mapping = {\n",
    "    'gh': 'GitHub',\n",
    "    'hf': 'Hugging Face Spaces',\n",
    "    'pwc': 'Papers With Code',\n",
    "    'ip': 'independent platform',\n",
    "}\n",
    "\n",
    "platform_abbreviation_mapping_inverse = {v: k for k, v in platform_abbreviation_mapping.items()}\n",
    "\n",
    "leaderboard_organization_tactics_mapping = {\n",
    "    'Algorithm': ['Algorithm'],\n",
    "    'Evaluation Configuration': ['Dataset Slice', 'Evaluator', 'Metric'],\n",
    "    'Leaderboard Aggregation': ['Aggregated Result'],\n",
    "    'Leaderboard Release': ['Leaderboard Launch Date', 'Leaderboard Version'],\n",
    "    'Model Capability': ['Benchmark Dataset', 'Service Load', 'Supported Functionality', 'Supported Language', 'Supported Modality', 'Task'],\n",
    "    'Model Information': ['Model Accessibility', 'Model Size', 'Model Type'],\n",
    "    'Prompt Engineering': ['#Prompt Example', 'Output Length', 'Prompt Design', 'Prompt Length', 'Relation Extractor', 'Tokenizer']\n",
    "}\n",
    "\n",
    "pwc_organization_strategies = {'Task'}\n",
    "\n",
    "submission_avenue_synonyms = {\n",
    "    'Competition': ['Hackathon']\n",
    "}\n",
    "\n",
    "leaderboard_system_without_evaluation_datasets = ['Hackathon Somos NLP 2023 Leaderboard', 'Somos NLP Likes Leaderboard', 'Ko Chatbot Arena Leaderboard']\n",
    "\n",
    "leaderboard_system_without_pull_requests = ['FSMBench', 'CompMix', 'DocVQA', 'GENIE', 'InfographicVQA', 'LMExamQA', 'Models Leaderboard', 'MP-DocVQA', 'OpenEval (text)', 'Program Synthesis Models Leaderboard', 'ProtoQA', 'TextSynth Server']\n",
    "\n",
    "leaderboard_system_without_contacts = ['OpenEval (text)']\n",
    "\n",
    "leaderboard_system_without_documentation = ['Hackathon Somos NLP 2023 Leaderboard', 'Somos NLP Likes Leaderboard', 'FSMBench']\n",
    "\n",
    "leaderboard_system_without_evaluation_harness = ['Hackathon Somos NLP 2023 Leaderboard', 'Somos NLP Likes Leaderboard', 'LLM-Leaderboard']\n",
    "\n",
    "workflow_patterns_with_submission = ['1', '2', '3', '4', '5']\n",
    "\n",
    "macro_display_format_mapping = {\n",
    "    'Table': ['Regular Table', 'Rankable Table', 'Table Screenshot'],\n",
    "    'Figure': ['Bar Chart', 'Box Plot', 'Heat Map', 'Line Chart', 'Pie Chart', 'Radar Chart', 'Scatter Plot', 'Rankable Bar Chart'],\n",
    "}\n",
    "\n",
    "publisher_synonyms = {\n",
    "    'Alibaba Group': ['Alibaba Group DAMO Academy', 'Aliyun'],\n",
    "    'Amazon': ['Amazon Alexa AI Lab', 'Amazon AWS AI Lab'],\n",
    "    'Agency for Science Technology and Research': ['A*STAR I2R', 'CFAR A*STAR'],\n",
    "    'Bauhaus University': ['Bauhaus University Weimar'],\n",
    "    'ByteDance': ['ByteDance AI Lab'],\n",
    "    'Fraunhofer Society': ['Fraunhofer Institute for Integrated Circuits'],\n",
    "    'Frédéric Joliot Institute for Life Sciences': ['NeuroSpin'],\n",
    "    'Google': ['Google Brain', 'Google DeepMind', 'Google Blueshift'],\n",
    "    'Huawei': [\"Huawei Noah's Ark Lab\"],\n",
    "    'Kunlun Tech': ['Skywork'],\n",
    "    'Max Planck Society': ['Max Planck Institute for Informatics', 'Max Planck Institute for Intelligent Systems', 'Max Planck Institute for Mathematics in the Sciences'],\n",
    "    'Meta': [\n",
    "        'Meta FAIR',\n",
    "        'Meta GenAI'\n",
    "    ],\n",
    "    'Microsoft': ['Microsoft Research Asia'],\n",
    "    'National Public School': ['National Public School HSR Layout'],\n",
    "    'Naver': ['Naver Labs Europe'],\n",
    "    'Queen\\'s University Kingston': ['Queen\\'s University'],\n",
    "    'Tencent': [\n",
    "        'Tencent AI Lab',\n",
    "        'Tencent ARC Lab',\n",
    "        'Tencent Youtu Lab'\n",
    "    ],\n",
    "    'Toyota Technological Institute': ['Toyota Technological Institute Chicago'],\n",
    "    'University of California': [\n",
    "        'University of California Berkeley',\n",
    "        'University of California Davis',\n",
    "        'University of California Irvine',\n",
    "        'University of California Los Angeles',\n",
    "        'University of California Santa Barbara',\n",
    "        'University of California San Diego',\n",
    "    ],\n",
    "    'University of Michigan': ['University of Michigan Ann Arbor'],\n",
    "    'University of North Carolina': ['University of North Carolina Chapel Hill'],\n",
    "    'University of Illinois': ['University of Illinois Chicago', 'University of Illinois Urbana Champaign'],\n",
    "    'University of Massachusetts': ['University of Massachusetts Amherst'],\n",
    "    'University of Maryland': ['University of Maryland College Park'],\n",
    "    'University of Tennessee': ['University of Tennessee Knoxville'],\n",
    "    'University of Texas': ['University of Texas Austin'],\n",
    "    'University of Wisconsin': ['University of Wisconsin Madison'],\n",
    "}\n",
    "\n",
    "metrics_synonyms = {\n",
    "    'accuracy': [\n",
    "        'acc',\n",
    "        'accuarcy',\n",
    "        'qa accuracy'\n",
    "    ],\n",
    "    'average': [\n",
    "        'avg',\n",
    "        '平均'\n",
    "    ],\n",
    "    'average accuracy': [\n",
    "        'avg. accuracy'\n",
    "    ],\n",
    "    'average score': ['平均分'],\n",
    "    'bleu': ['bleu score'],\n",
    "    'bleu-1': [\n",
    "        'narrativeqa bleu-1',\n",
    "        'socialiqa bleu-1',\n",
    "        'mcscript bleu-1',\n",
    "        'cosmosqa bleu-1'\n",
    "    ],\n",
    "    'bleu-4': ['bleu4'],\n",
    "    'bertscore': ['bert score'],\n",
    "    'code': ['代码'],\n",
    "    'elo rating': [\n",
    "        'chatbot arena elo',\n",
    "        'elo'\n",
    "    ],\n",
    "    'exact match': ['em', 'exact match accuracy'],\n",
    "    'lerc': [\n",
    "        'cosmosqa lerc',\n",
    "        'mcscript lerc',\n",
    "        'socialiqa lerc',\n",
    "        'narrativeqa lerc'\n",
    "    ],\n",
    "    'link': ['url'],\n",
    "    'mean rank': [\n",
    "        'text-to-video mean rank',\n",
    "        'video-to-text mean rank'\n",
    "    ],\n",
    "    'median rank': [\n",
    "        'text-to-video median rank',\n",
    "        'video-to-text median rank',\n",
    "        'text-to-videomedian rank',\n",
    "        'text-to-video medianr'\n",
    "    ],\n",
    "    'meteor': [\n",
    "        'cosmosqa meteor',\n",
    "        'narrativeqa meteor',\n",
    "        'socialiqa meteor',\n",
    "        'mcscript meteor'\n",
    "    ],\n",
    "    'neg mean rank': [\n",
    "        'i->t neg mean rank',\n",
    "        't->i neg mean rank'\n",
    "    ],\n",
    "    'organization': [\n",
    "        '发布机构',\n",
    "        '机构',\n",
    "        'orgaisation',\n",
    "    ],\n",
    "    'others': ['其他'],\n",
    "    'overall': ['xiezhi overall'],\n",
    "    'overall score': [\n",
    "        '总分',\n",
    "        '总体分数'\n",
    "    ],\n",
    "    'pass@1': [\n",
    "        'interview pass@1',\n",
    "        'competition pass@1',\n",
    "        'introductory pass@1'\n",
    "    ],\n",
    "    'pass@5': [\n",
    "        'interview pass@5',\n",
    "        'introductory pass@5',\n",
    "        'competition pass@5'\n",
    "    ],\n",
    "    'pass@1000': [\n",
    "        'interview pass@1000',\n",
    "        'competition pass@1000',\n",
    "        'introductory pass@1000'\n",
    "    ],\n",
    "    'pass@any': [\n",
    "        'introductory pass@any',\n",
    "        'competition pass@any',\n",
    "        'interview pass@any'\n",
    "    ],\n",
    "    '#parameters':  [\n",
    "        '#p',\n",
    "        '#params',\n",
    "        '# params',\n",
    "        '#size',\n",
    "        '参数量',\n",
    "        'model size',\n",
    "        'model size/b',\n",
    "        'number of params',\n",
    "        'param',\n",
    "        'parameters',\n",
    "        'params',\n",
    "        'size'\n",
    "    ],\n",
    "    'perplexity': ['ppl'],\n",
    "    'precision@1': ['i->t p@1'],\n",
    "    'precision@20': ['p@20'],\n",
    "    'recall@1': [\n",
    "        'r@1',\n",
    "        'text-to-videor@1',\n",
    "        'video-to-text r@1',\n",
    "        'text-to-video r@1',\n",
    "        'text-to-image r@1',\n",
    "        'image-to-text r@1'\n",
    "    ],\n",
    "    'recall@5': [\n",
    "        'text-to-image r@5',\n",
    "        'video-to-text r@5',\n",
    "        'image-to-text r@5',\n",
    "        'text-to-video r@5',\n",
    "        'r@5',\n",
    "    ],\n",
    "    'recall@10': [\n",
    "        'recall@10 on 1 rounds',\n",
    "        'recall@10 on 2 rounds',\n",
    "        'recall@10 on 3 rounds',\n",
    "        'r@10',\n",
    "        'video-to-text r@10',\n",
    "        'text-to-image r@10',\n",
    "        'text-to-video r@10',\n",
    "        'image-to-text r@10'\n",
    "    ],\n",
    "    'recall@50': [\n",
    "        'text-to-video r@50',\n",
    "        'video-to-text r@50',\n",
    "    ],\n",
    "    'score': ['分数'],\n",
    "    'submission date': ['提交时间'],\n",
    "    'top-1 accuracy': ['top 1 accuracy'],\n",
    "    'top-5 accuracy': ['top 5 accuracy'],\n",
    "    'type': ['model type'],\n",
    "    'win rate': ['胜率'],\n",
    "    'word error rate': ['wer']\n",
    "}\n",
    "\n",
    "workflow_pwc = ['1']\n",
    "display_format_pwc = ['Rankable Table', 'Scatter Plot']\n",
    "display_format_rankable = ['Rankable Table', 'Rankable Bar Chart']\n",
    "dashed_model_leaderboards = ['MMCU', 'SuperCLUE-Math6']\n",
    "non_literature_type = ['blog', 'report', 'white paper']\n",
    "\n",
    "metrics_synonyms_inverse = {}\n",
    "for key, values in metrics_synonyms.items():\n",
    "    for value in values:\n",
    "        metrics_synonyms_inverse[value] = key\n",
    "\n",
    "submission_avenue_synonyms_inverse = {}\n",
    "for key, values in submission_avenue_synonyms.items():\n",
    "    for value in values:\n",
    "        submission_avenue_synonyms_inverse[value] = key\n",
    "\n",
    "macro_display_format_mapping_inverse = {v: k for k, values in macro_display_format_mapping.items() for v in values}\n",
    "\n",
    "publisher_synonyms_inverse = {}\n",
    "for key, values in publisher_synonyms.items():\n",
    "    for value in values:\n",
    "        publisher_synonyms_inverse[value] = key\n",
    "\n",
    "leaderboard_organization_tactics_mapping_inverse = {}\n",
    "for key, values in leaderboard_organization_tactics_mapping.items():\n",
    "    for value in values:\n",
    "        leaderboard_organization_tactics_mapping_inverse[value] = key\n",
    "\n",
    "def convert_df_to_dict(df):\n",
    "    \"\"\"\n",
    "    Convert a DataFrame of leaderboards and metrics to a dictionary.\n",
    "\n",
    "    :param df: DataFrame with leaderboards and metrics\n",
    "    :return: Dictionary with leaderboards as keys and list of metrics as values\n",
    "    \"\"\"\n",
    "    leaderboard_data = {}\n",
    "\n",
    "    # Ensure the DataFrame's first column is considered as the keys\n",
    "    # and iterate through each row to construct the dictionary\n",
    "    for _, row in df.iterrows():\n",
    "        key = row[0]  # The first column serves as the key\n",
    "        # List comprehension to get non-empty values from the rest of the row\n",
    "        values = [value for value in row[1:] if pd.notna(value)]\n",
    "        leaderboard_data[key] = values\n",
    "\n",
    "    return leaderboard_data\n",
    "\n",
    "def string_to_list(text, platform=False):\n",
    "    if pd.isna(text) or text == 'nan':\n",
    "        return []\n",
    "    elif platform:\n",
    "        return [platform_abbreviation_mapping[platform] for platform in text.split(',')]\n",
    "    else:\n",
    "        return text.split(',')\n",
    "\n",
    "def string_to_dict(s, platform=False, list_format=False):\n",
    "    # Check if the input is np.nan\n",
    "    if pd.isna(s):\n",
    "        if list_format:\n",
    "            return []\n",
    "        return {}\n",
    "    \n",
    "    # Split the string into key-value pairs\n",
    "    pairs = s.split(',')\n",
    "    result_dict = {}\n",
    "    result_list = []\n",
    "    \n",
    "    for pair in pairs:\n",
    "        # Split each pair by ':' to separate keys and values\n",
    "        key, value = pair.split(':')\n",
    "        # Split the value by '+' to get the list of items\n",
    "        value_list = value.split('+')\n",
    "        # Assign the list to the key in the dictionary\n",
    "        if platform:\n",
    "            result_dict[platform_abbreviation_mapping[key]] = value_list\n",
    "        else:\n",
    "            result_dict[key] = value_list\n",
    "        result_list.extend(value_list)\n",
    "            \n",
    "    if list_format:\n",
    "        return result_list\n",
    "    return result_dict\n",
    "\n",
    "# Function to format each value based on its own decimal places\n",
    "def format_individual_value(x):\n",
    "    if isinstance(x, float):\n",
    "        # Use string formatting to maintain original decimal places\n",
    "        return \"{:f}\".format(x).rstrip('0').rstrip('.')\n",
    "    return x\n",
    "\n",
    "def print_empty_folders(root_dir):\n",
    "    for dirpath, dirname, filenames in os.walk(root_dir):\n",
    "        # Check if both lists of subdirectories and filenames are empty\n",
    "        if not filenames and dirpath != root_dir:\n",
    "            print(f\"Empty folder: {dirpath}\")\n",
    "            \n",
    "def list_directories(folder_path):\n",
    "    # List all subdirectories within the folder\n",
    "    directories = [os.path.join(folder_path, d) for d in os.listdir(\n",
    "        folder_path) if os.path.isdir(os.path.join(folder_path, d))]\n",
    "    return directories\n",
    "\n",
    "def publisher_synonyms_mapping(publishers):\n",
    "    publishers_processed = set()\n",
    "    for publisher in publishers:\n",
    "        if publisher in publisher_synonyms_inverse:\n",
    "            publishers_processed.add(publisher_synonyms_inverse[publisher])\n",
    "        # elif 'Independent Contributor' == publisher:\n",
    "        #     publishers_processed.add(leaderboard)\n",
    "        else:\n",
    "            publishers_processed.add(publisher)\n",
    "    return publishers_processed\n",
    "\n",
    "def submission_avenue_synonyms_mapping(submission_avenue):\n",
    "    submission_avenue_processed = set()\n",
    "    for avenue in submission_avenue:\n",
    "        if avenue in submission_avenue_synonyms_inverse:\n",
    "            submission_avenue_processed.add(submission_avenue_synonyms_inverse[avenue])\n",
    "        else:\n",
    "            submission_avenue_processed.add(avenue)\n",
    "    return submission_avenue_processed\n",
    "\n",
    "def keep_rows_by_list_column(df, column_name, keyword_list):\n",
    "    \"\"\"\n",
    "    Filters rows in a DataFrame based on whether all elements in a specified list column are in a given keyword list.\n",
    "    \n",
    "    Parameters:\n",
    "    - df: Pandas DataFrame.\n",
    "    - column_name: The name of the column containing lists of strings.\n",
    "    - keyword_list: A list of keywords to check against.\n",
    "    \n",
    "    Returns:\n",
    "    - A filtered Pandas DataFrame.\n",
    "    \"\"\"\n",
    "    # Convert the keyword list to a set for faster membership testing\n",
    "    keyword_set = set(keyword_list)\n",
    "    \n",
    "    # Define a lambda function to check if all elements of a list are in the keyword_set\n",
    "    all_in_keywords = lambda x: any(element in keyword_set for element in x)\n",
    "    \n",
    "    # Apply the lambda function to the specified column and invert the boolean Series to filter rows\n",
    "    filtered_df = df[df[column_name].apply(all_in_keywords)]\n",
    "    \n",
    "    return filtered_df\n",
    "\n",
    "def filter_rows_by_list_column(df, column_name, keyword_list):\n",
    "    \"\"\"\n",
    "    Filters rows in a DataFrame based on whether all elements in a specified list column are in a given keyword list.\n",
    "    \n",
    "    Parameters:\n",
    "    - df: Pandas DataFrame.\n",
    "    - column_name: The name of the column containing lists of strings.\n",
    "    - keyword_list: A list of keywords to check against.\n",
    "    \n",
    "    Returns:\n",
    "    - A filtered Pandas DataFrame.\n",
    "    \"\"\"\n",
    "    # Convert the keyword list to a set for faster membership testing\n",
    "    keyword_set = set(keyword_list)\n",
    "    \n",
    "    # Define a lambda function to check if all elements of a list are in the keyword_set\n",
    "    all_in_keywords = lambda x: not all(element in keyword_set for element in x)\n",
    "    \n",
    "    # Apply the lambda function to the specified column and invert the boolean Series to filter rows\n",
    "    filtered_df = df[df[column_name].apply(all_in_keywords)]\n",
    "    \n",
    "    return filtered_df"
   ]
  },
  {
   "cell_type": "code",
   "execution_count": 3,
   "metadata": {},
   "outputs": [],
   "source": [
    "# xlsx = pd.ExcelFile(path_meta / 'Foundation Model Leaderboards.xlsx')\n",
    "# df_leaderboard = pd.read_excel(xlsx, sheet_name='Leaderboard')\n",
    "\n",
    "# for index, row in df_leaderboard.iterrows():\n",
    "#     os.makedirs(path_data / row['Leaderboard name'], exist_ok=True) \n",
    "\n",
    "# print_empty_folders(str(path_data))"
   ]
  },
  {
   "cell_type": "code",
   "execution_count": 4,
   "metadata": {},
   "outputs": [],
   "source": [
    "# import glob\n",
    "\n",
    "# directory = path_data / 'Vibe-Eval'\n",
    "# channel = ''\n",
    "# drop_columns = []\n",
    "\n",
    "# for file_path in glob.glob(str(directory / \"*.csv\")):\n",
    "#     df = pd.read_csv(file_path)#, delimiter=\";\")\n",
    "#     df.drop(columns=drop_columns, inplace=True)\n",
    "#     filename = os.path.basename(file_path)\n",
    "#     filename = filename.replace(\".csv\", \".json\")\n",
    "#     if channel:\n",
    "#         filename = f'{channel}-{filename}'\n",
    "#     df.to_json(directory / filename, orient=\"records\", indent=4)\n",
    "#     os.remove(file_path)\n"
   ]
  },
  {
   "cell_type": "code",
   "execution_count": 5,
   "metadata": {},
   "outputs": [
    {
     "name": "stdout",
     "output_type": "stream",
     "text": [
      "Total number of leaderboards: 443\n"
     ]
    }
   ],
   "source": [
    "with pd.ExcelFile(path_meta / 'Foundation Model Leaderboards.xlsx') as excel_file:\n",
    "    df_leaderboard = pd.read_excel(excel_file, sheet_name='Leaderboard')\n",
    "\n",
    "    # df_leaderboard['Downloadable file formats (non-pwc)'] = df_leaderboard['Downloadable file formats (non-pwc)'].apply(string_to_list)\n",
    "    df_leaderboard['Leaderboard development workflows (non-pwc)'] = df_leaderboard['Leaderboard development workflows (non-pwc)'].astype(str).apply(string_to_list)\n",
    "    df_leaderboard['Platforms'] = df_leaderboard['Platforms'].apply(lambda x: string_to_list(x, platform=True))\n",
    "    df_leaderboard['Display formats (non-pwc)'] = df_leaderboard['Display formats (non-pwc)'].apply(lambda x: string_to_dict(x, platform=True, list_format=True))\n",
    "    df_leaderboard['Publication venues'] = df_leaderboard['Publication venues'].apply(string_to_list)\n",
    "    df_leaderboard['Release organizations (non-pwc)'] = df_leaderboard['Release organizations (non-pwc)'].apply(string_to_list)\n",
    "\n",
    "    df_leaderboard['Display formats'] = [set() for _ in range(len(df_leaderboard))]\n",
    "    # df_leaderboard['Evaluation metrics (pwc)'] = [set() for _ in range(len(df_leaderboard))]\n",
    "    df_leaderboard['Leaderboard development workflows'] = [set() for _ in range(len(df_leaderboard))]\n",
    "    # df_leaderboard['Participative models'] = [set() for _ in range(len(df_leaderboard))]\n",
    "    df_leaderboard['Release organizations'] = [set() for _ in range(len(df_leaderboard))]\n",
    "\n",
    "    for index, row in df_leaderboard.iterrows():\n",
    "        display_formats = set(row['Display formats (non-pwc)'])\n",
    "        publishers = publisher_synonyms_mapping(row['Release organizations (non-pwc)'])\n",
    "        workflows = set(row['Leaderboard development workflows (non-pwc)'])\n",
    "            \n",
    "        if row['Platforms'] == ['Papers With Code']:\n",
    "            publishers.add('Papers With Code')\n",
    "            \n",
    "        if 'Papers With Code' in row['Platforms']:\n",
    "            display_formats = display_formats.union(display_format_pwc)\n",
    "            workflows = workflows.union(workflow_pwc)\n",
    "        \n",
    "        df_leaderboard.at[index, 'Display formats'] = display_formats\n",
    "        df_leaderboard.at[index, 'Leaderboard development workflows'] = workflows\n",
    "        df_leaderboard.at[index, 'Release organizations'] = publishers\n",
    "        df_leaderboard.at[index, '#Display format'] = len(display_formats)\n",
    "        df_leaderboard.at[index, '#Leaderboard development workflows'] = len(workflows)\n",
    "        # df_leaderboard.at[index, '#Release organization'] = len(publishers)\n",
    "        # df_leaderboard.at[index, '#Host platform'] = len(row['Platforms'])\n",
    "\n",
    "        # model_names = set()\n",
    "        # template_metrics = set()\n",
    "    \n",
    "        # for file in os.listdir(path_data / row['Leaderboard name']):\n",
    "        #     if not file.endswith('json'):\n",
    "        #         continue\n",
    "            \n",
    "        #     host_platform = platform_abbreviation_mapping[file.split('.')[0].split('-')[0]]\n",
    "        #     if host_platform not in row['Platforms']:\n",
    "        #         continue\n",
    "        \n",
    "        #     file_path = path_data / row['Leaderboard name'] / file\n",
    "        #     df = pd.read_json(file_path)\n",
    "        \n",
    "        #     file_name = file.split('/')[-1]\n",
    "        #     model_names = model_names.union(set(df['Model']))\n",
    "        #     if file_name.startswith('pwc'):\n",
    "        #         keys = set()\n",
    "        #         for item in df['metrics']:\n",
    "        #             for key in item.keys():\n",
    "        #                 key_processed = key.split('(')[0].lower().strip()\n",
    "        #                 if key_processed in metrics_synonyms_inverse:\n",
    "        #                     keys.add(metrics_synonyms_inverse[key_processed])\n",
    "        #                 else:\n",
    "        #                     keys.add(key_processed)\n",
    "        #         template_metrics = template_metrics.union(keys)\n",
    "        \n",
    "        # df_leaderboard.at[index, '#Participative model'] = len(model_names)\n",
    "        # if template_metrics:\n",
    "        #     df_leaderboard.at[index, '#Evaluation metric (pwc)'] = len(template_metrics)\n",
    "        #     df_leaderboard.at[index, 'Evaluation metrics (pwc)'] = list(template_metrics)\n",
    "\n",
    "    df_leaderboard.to_csv(path_meta / 'leaderboard_processed.csv', index=False)\n",
    "\n",
    "print(f\"Total number of leaderboards: {len(df_leaderboard)}\")\n"
   ]
  },
  {
   "cell_type": "code",
   "execution_count": 6,
   "metadata": {},
   "outputs": [],
   "source": [
    "# df = pd.read_csv(path_meta / 'leaderboard_processed.csv')\n",
    "# numeric_df = df.select_dtypes(include=['float64', 'int64'])\n",
    "# # numeric_df = numeric_df.drop(columns=['#Evaluation metric (pwc)'])\n",
    "# corr_matrix = numeric_df.corr()\n",
    "\n",
    "# # Drop the first row\n",
    "# corr_matrix_dropped_row = corr_matrix.drop(corr_matrix.index[0])\n",
    "\n",
    "# # Drop the last column\n",
    "# corr_matrix_dropped = corr_matrix_dropped_row.drop(corr_matrix_dropped_row.columns[-1], axis=1)\n",
    "\n",
    "# # Generate a mask for the upper triangle, including the diagonal\n",
    "# mask = np.triu(np.ones_like(corr_matrix_dropped, dtype=bool), 1)\n",
    "\n",
    "# # Generate a heatmap for the correlation matrix with the mask\n",
    "# plt.figure(figsize=(15,15))\n",
    "# ax = sns.heatmap(corr_matrix_dropped, annot=True, cmap='coolwarm', fmt=\".3f\", linewidths=.5, mask=mask, vmin=-1, vmax=1, annot_kws={\"size\": font_size})\n",
    "# # Enlarge axis font size\n",
    "# ax.tick_params(axis='both', which='major', labelsize=font_size)\n",
    "# # Rotate y-axis labels to horizontal\n",
    "# ax.set_yticklabels(ax.get_yticklabels(), rotation=0) \n",
    "# ax.set_xticklabels(ax.get_xticklabels(), rotation=90) \n",
    "# # Adjust color bar (color scale) font size\n",
    "# cbar = ax.collections[0].colorbar\n",
    "# cbar.ax.tick_params(labelsize=font_size)  # Adjusts the tick labels' font size\n",
    "\n",
    "# plt.tight_layout()  # Adjust the layout to make sure everything fits\n",
    "# plt.show()\n"
   ]
  },
  {
   "cell_type": "code",
   "execution_count": 7,
   "metadata": {},
   "outputs": [
    {
     "data": {
      "application/vnd.plotly.v1+json": {
       "config": {
        "plotlyServerURL": "https://plot.ly"
       },
       "data": [
        {
         "alignmentgroup": "True",
         "hovertemplate": "Host Platform Combination=%{x}<br>Number of Leaderboards=%{y}<extra></extra>",
         "legendgroup": "",
         "marker": {
          "color": "#636efa",
          "pattern": {
           "shape": ""
          }
         },
         "name": "",
         "offsetgroup": "",
         "orientation": "v",
         "showlegend": false,
         "textposition": "auto",
         "texttemplate": "%{y}",
         "type": "bar",
         "x": [
          "PWC",
          "GH",
          "HF",
          "IP",
          "GH,IP",
          "GH,HF",
          "HF,IP",
          "GH,PWC",
          "GH,HF,IP",
          "GH,HF,IP,PWC"
         ],
         "xaxis": "x",
         "y": [
          189,
          89,
          61,
          52,
          19,
          15,
          13,
          3,
          1,
          1
         ],
         "yaxis": "y"
        }
       ],
       "layout": {
        "autosize": true,
        "barmode": "relative",
        "legend": {
         "tracegroupgap": 0
        },
        "margin": {
         "b": 10,
         "l": 10,
         "pad": 4,
         "r": 10,
         "t": 10
        },
        "template": {
         "data": {
          "bar": [
           {
            "error_x": {
             "color": "#2a3f5f"
            },
            "error_y": {
             "color": "#2a3f5f"
            },
            "marker": {
             "line": {
              "color": "#E5ECF6",
              "width": 0.5
             },
             "pattern": {
              "fillmode": "overlay",
              "size": 10,
              "solidity": 0.2
             }
            },
            "type": "bar"
           }
          ],
          "barpolar": [
           {
            "marker": {
             "line": {
              "color": "#E5ECF6",
              "width": 0.5
             },
             "pattern": {
              "fillmode": "overlay",
              "size": 10,
              "solidity": 0.2
             }
            },
            "type": "barpolar"
           }
          ],
          "carpet": [
           {
            "aaxis": {
             "endlinecolor": "#2a3f5f",
             "gridcolor": "white",
             "linecolor": "white",
             "minorgridcolor": "white",
             "startlinecolor": "#2a3f5f"
            },
            "baxis": {
             "endlinecolor": "#2a3f5f",
             "gridcolor": "white",
             "linecolor": "white",
             "minorgridcolor": "white",
             "startlinecolor": "#2a3f5f"
            },
            "type": "carpet"
           }
          ],
          "choropleth": [
           {
            "colorbar": {
             "outlinewidth": 0,
             "ticks": ""
            },
            "type": "choropleth"
           }
          ],
          "contour": [
           {
            "colorbar": {
             "outlinewidth": 0,
             "ticks": ""
            },
            "colorscale": [
             [
              0,
              "#0d0887"
             ],
             [
              0.1111111111111111,
              "#46039f"
             ],
             [
              0.2222222222222222,
              "#7201a8"
             ],
             [
              0.3333333333333333,
              "#9c179e"
             ],
             [
              0.4444444444444444,
              "#bd3786"
             ],
             [
              0.5555555555555556,
              "#d8576b"
             ],
             [
              0.6666666666666666,
              "#ed7953"
             ],
             [
              0.7777777777777778,
              "#fb9f3a"
             ],
             [
              0.8888888888888888,
              "#fdca26"
             ],
             [
              1,
              "#f0f921"
             ]
            ],
            "type": "contour"
           }
          ],
          "contourcarpet": [
           {
            "colorbar": {
             "outlinewidth": 0,
             "ticks": ""
            },
            "type": "contourcarpet"
           }
          ],
          "heatmap": [
           {
            "colorbar": {
             "outlinewidth": 0,
             "ticks": ""
            },
            "colorscale": [
             [
              0,
              "#0d0887"
             ],
             [
              0.1111111111111111,
              "#46039f"
             ],
             [
              0.2222222222222222,
              "#7201a8"
             ],
             [
              0.3333333333333333,
              "#9c179e"
             ],
             [
              0.4444444444444444,
              "#bd3786"
             ],
             [
              0.5555555555555556,
              "#d8576b"
             ],
             [
              0.6666666666666666,
              "#ed7953"
             ],
             [
              0.7777777777777778,
              "#fb9f3a"
             ],
             [
              0.8888888888888888,
              "#fdca26"
             ],
             [
              1,
              "#f0f921"
             ]
            ],
            "type": "heatmap"
           }
          ],
          "heatmapgl": [
           {
            "colorbar": {
             "outlinewidth": 0,
             "ticks": ""
            },
            "colorscale": [
             [
              0,
              "#0d0887"
             ],
             [
              0.1111111111111111,
              "#46039f"
             ],
             [
              0.2222222222222222,
              "#7201a8"
             ],
             [
              0.3333333333333333,
              "#9c179e"
             ],
             [
              0.4444444444444444,
              "#bd3786"
             ],
             [
              0.5555555555555556,
              "#d8576b"
             ],
             [
              0.6666666666666666,
              "#ed7953"
             ],
             [
              0.7777777777777778,
              "#fb9f3a"
             ],
             [
              0.8888888888888888,
              "#fdca26"
             ],
             [
              1,
              "#f0f921"
             ]
            ],
            "type": "heatmapgl"
           }
          ],
          "histogram": [
           {
            "marker": {
             "pattern": {
              "fillmode": "overlay",
              "size": 10,
              "solidity": 0.2
             }
            },
            "type": "histogram"
           }
          ],
          "histogram2d": [
           {
            "colorbar": {
             "outlinewidth": 0,
             "ticks": ""
            },
            "colorscale": [
             [
              0,
              "#0d0887"
             ],
             [
              0.1111111111111111,
              "#46039f"
             ],
             [
              0.2222222222222222,
              "#7201a8"
             ],
             [
              0.3333333333333333,
              "#9c179e"
             ],
             [
              0.4444444444444444,
              "#bd3786"
             ],
             [
              0.5555555555555556,
              "#d8576b"
             ],
             [
              0.6666666666666666,
              "#ed7953"
             ],
             [
              0.7777777777777778,
              "#fb9f3a"
             ],
             [
              0.8888888888888888,
              "#fdca26"
             ],
             [
              1,
              "#f0f921"
             ]
            ],
            "type": "histogram2d"
           }
          ],
          "histogram2dcontour": [
           {
            "colorbar": {
             "outlinewidth": 0,
             "ticks": ""
            },
            "colorscale": [
             [
              0,
              "#0d0887"
             ],
             [
              0.1111111111111111,
              "#46039f"
             ],
             [
              0.2222222222222222,
              "#7201a8"
             ],
             [
              0.3333333333333333,
              "#9c179e"
             ],
             [
              0.4444444444444444,
              "#bd3786"
             ],
             [
              0.5555555555555556,
              "#d8576b"
             ],
             [
              0.6666666666666666,
              "#ed7953"
             ],
             [
              0.7777777777777778,
              "#fb9f3a"
             ],
             [
              0.8888888888888888,
              "#fdca26"
             ],
             [
              1,
              "#f0f921"
             ]
            ],
            "type": "histogram2dcontour"
           }
          ],
          "mesh3d": [
           {
            "colorbar": {
             "outlinewidth": 0,
             "ticks": ""
            },
            "type": "mesh3d"
           }
          ],
          "parcoords": [
           {
            "line": {
             "colorbar": {
              "outlinewidth": 0,
              "ticks": ""
             }
            },
            "type": "parcoords"
           }
          ],
          "pie": [
           {
            "automargin": true,
            "type": "pie"
           }
          ],
          "scatter": [
           {
            "fillpattern": {
             "fillmode": "overlay",
             "size": 10,
             "solidity": 0.2
            },
            "type": "scatter"
           }
          ],
          "scatter3d": [
           {
            "line": {
             "colorbar": {
              "outlinewidth": 0,
              "ticks": ""
             }
            },
            "marker": {
             "colorbar": {
              "outlinewidth": 0,
              "ticks": ""
             }
            },
            "type": "scatter3d"
           }
          ],
          "scattercarpet": [
           {
            "marker": {
             "colorbar": {
              "outlinewidth": 0,
              "ticks": ""
             }
            },
            "type": "scattercarpet"
           }
          ],
          "scattergeo": [
           {
            "marker": {
             "colorbar": {
              "outlinewidth": 0,
              "ticks": ""
             }
            },
            "type": "scattergeo"
           }
          ],
          "scattergl": [
           {
            "marker": {
             "colorbar": {
              "outlinewidth": 0,
              "ticks": ""
             }
            },
            "type": "scattergl"
           }
          ],
          "scattermapbox": [
           {
            "marker": {
             "colorbar": {
              "outlinewidth": 0,
              "ticks": ""
             }
            },
            "type": "scattermapbox"
           }
          ],
          "scatterpolar": [
           {
            "marker": {
             "colorbar": {
              "outlinewidth": 0,
              "ticks": ""
             }
            },
            "type": "scatterpolar"
           }
          ],
          "scatterpolargl": [
           {
            "marker": {
             "colorbar": {
              "outlinewidth": 0,
              "ticks": ""
             }
            },
            "type": "scatterpolargl"
           }
          ],
          "scatterternary": [
           {
            "marker": {
             "colorbar": {
              "outlinewidth": 0,
              "ticks": ""
             }
            },
            "type": "scatterternary"
           }
          ],
          "surface": [
           {
            "colorbar": {
             "outlinewidth": 0,
             "ticks": ""
            },
            "colorscale": [
             [
              0,
              "#0d0887"
             ],
             [
              0.1111111111111111,
              "#46039f"
             ],
             [
              0.2222222222222222,
              "#7201a8"
             ],
             [
              0.3333333333333333,
              "#9c179e"
             ],
             [
              0.4444444444444444,
              "#bd3786"
             ],
             [
              0.5555555555555556,
              "#d8576b"
             ],
             [
              0.6666666666666666,
              "#ed7953"
             ],
             [
              0.7777777777777778,
              "#fb9f3a"
             ],
             [
              0.8888888888888888,
              "#fdca26"
             ],
             [
              1,
              "#f0f921"
             ]
            ],
            "type": "surface"
           }
          ],
          "table": [
           {
            "cells": {
             "fill": {
              "color": "#EBF0F8"
             },
             "line": {
              "color": "white"
             }
            },
            "header": {
             "fill": {
              "color": "#C8D4E3"
             },
             "line": {
              "color": "white"
             }
            },
            "type": "table"
           }
          ]
         },
         "layout": {
          "annotationdefaults": {
           "arrowcolor": "#2a3f5f",
           "arrowhead": 0,
           "arrowwidth": 1
          },
          "autotypenumbers": "strict",
          "coloraxis": {
           "colorbar": {
            "outlinewidth": 0,
            "ticks": ""
           }
          },
          "colorscale": {
           "diverging": [
            [
             0,
             "#8e0152"
            ],
            [
             0.1,
             "#c51b7d"
            ],
            [
             0.2,
             "#de77ae"
            ],
            [
             0.3,
             "#f1b6da"
            ],
            [
             0.4,
             "#fde0ef"
            ],
            [
             0.5,
             "#f7f7f7"
            ],
            [
             0.6,
             "#e6f5d0"
            ],
            [
             0.7,
             "#b8e186"
            ],
            [
             0.8,
             "#7fbc41"
            ],
            [
             0.9,
             "#4d9221"
            ],
            [
             1,
             "#276419"
            ]
           ],
           "sequential": [
            [
             0,
             "#0d0887"
            ],
            [
             0.1111111111111111,
             "#46039f"
            ],
            [
             0.2222222222222222,
             "#7201a8"
            ],
            [
             0.3333333333333333,
             "#9c179e"
            ],
            [
             0.4444444444444444,
             "#bd3786"
            ],
            [
             0.5555555555555556,
             "#d8576b"
            ],
            [
             0.6666666666666666,
             "#ed7953"
            ],
            [
             0.7777777777777778,
             "#fb9f3a"
            ],
            [
             0.8888888888888888,
             "#fdca26"
            ],
            [
             1,
             "#f0f921"
            ]
           ],
           "sequentialminus": [
            [
             0,
             "#0d0887"
            ],
            [
             0.1111111111111111,
             "#46039f"
            ],
            [
             0.2222222222222222,
             "#7201a8"
            ],
            [
             0.3333333333333333,
             "#9c179e"
            ],
            [
             0.4444444444444444,
             "#bd3786"
            ],
            [
             0.5555555555555556,
             "#d8576b"
            ],
            [
             0.6666666666666666,
             "#ed7953"
            ],
            [
             0.7777777777777778,
             "#fb9f3a"
            ],
            [
             0.8888888888888888,
             "#fdca26"
            ],
            [
             1,
             "#f0f921"
            ]
           ]
          },
          "colorway": [
           "#636efa",
           "#EF553B",
           "#00cc96",
           "#ab63fa",
           "#FFA15A",
           "#19d3f3",
           "#FF6692",
           "#B6E880",
           "#FF97FF",
           "#FECB52"
          ],
          "font": {
           "color": "#2a3f5f"
          },
          "geo": {
           "bgcolor": "white",
           "lakecolor": "white",
           "landcolor": "#E5ECF6",
           "showlakes": true,
           "showland": true,
           "subunitcolor": "white"
          },
          "hoverlabel": {
           "align": "left"
          },
          "hovermode": "closest",
          "mapbox": {
           "style": "light"
          },
          "paper_bgcolor": "white",
          "plot_bgcolor": "#E5ECF6",
          "polar": {
           "angularaxis": {
            "gridcolor": "white",
            "linecolor": "white",
            "ticks": ""
           },
           "bgcolor": "#E5ECF6",
           "radialaxis": {
            "gridcolor": "white",
            "linecolor": "white",
            "ticks": ""
           }
          },
          "scene": {
           "xaxis": {
            "backgroundcolor": "#E5ECF6",
            "gridcolor": "white",
            "gridwidth": 2,
            "linecolor": "white",
            "showbackground": true,
            "ticks": "",
            "zerolinecolor": "white"
           },
           "yaxis": {
            "backgroundcolor": "#E5ECF6",
            "gridcolor": "white",
            "gridwidth": 2,
            "linecolor": "white",
            "showbackground": true,
            "ticks": "",
            "zerolinecolor": "white"
           },
           "zaxis": {
            "backgroundcolor": "#E5ECF6",
            "gridcolor": "white",
            "gridwidth": 2,
            "linecolor": "white",
            "showbackground": true,
            "ticks": "",
            "zerolinecolor": "white"
           }
          },
          "shapedefaults": {
           "line": {
            "color": "#2a3f5f"
           }
          },
          "ternary": {
           "aaxis": {
            "gridcolor": "white",
            "linecolor": "white",
            "ticks": ""
           },
           "baxis": {
            "gridcolor": "white",
            "linecolor": "white",
            "ticks": ""
           },
           "bgcolor": "#E5ECF6",
           "caxis": {
            "gridcolor": "white",
            "linecolor": "white",
            "ticks": ""
           }
          },
          "title": {
           "x": 0.05
          },
          "xaxis": {
           "automargin": true,
           "gridcolor": "white",
           "linecolor": "white",
           "ticks": "",
           "title": {
            "standoff": 15
           },
           "zerolinecolor": "white",
           "zerolinewidth": 2
          },
          "yaxis": {
           "automargin": true,
           "gridcolor": "white",
           "linecolor": "white",
           "ticks": "",
           "title": {
            "standoff": 15
           },
           "zerolinecolor": "white",
           "zerolinewidth": 2
          }
         }
        },
        "xaxis": {
         "anchor": "y",
         "domain": [
          0,
          1
         ],
         "title": {
          "font": {
           "color": "black",
           "family": "Arial, bold",
           "size": 18
          },
          "text": "Host Platform Combination"
         }
        },
        "yaxis": {
         "anchor": "x",
         "domain": [
          0,
          1
         ],
         "title": {
          "font": {
           "color": "black",
           "family": "Arial, bold",
           "size": 18
          },
          "text": "Number of Leaderboards"
         }
        }
       }
      }
     },
     "metadata": {},
     "output_type": "display_data"
    }
   ],
   "source": [
    "df = pd.read_csv(path_meta / 'leaderboard_processed.csv')\n",
    "df['Platforms'] = df['Platforms'].apply(ast.literal_eval)\n",
    "df['Platforms'] = df['Platforms'].apply(lambda x: [platform_abbreviation_mapping_inverse[platform] for platform in x])\n",
    "df['Platforms'] = df['Platforms'].apply(lambda x: ','.join(x).upper())\n",
    "df = df.explode('Platforms')['Platforms'].value_counts().reset_index(name='Frequency')\n",
    "\n",
    "fig = px.bar(\n",
    "    x=df['Platforms'],\n",
    "    y=df['Frequency'],\n",
    "    text_auto=True,\n",
    "    labels={'x': 'Host Platform Combination', 'y': 'Number of Leaderboards'},\n",
    ")\n",
    "# Update the layout for a tighter look\n",
    "fig.update_layout(\n",
    "    autosize=True,\n",
    "    margin=dict(\n",
    "        l=10,  # Left margin\n",
    "        r=10,  # Right margin\n",
    "        b=10,  # Bottom margin\n",
    "        t=10,  # Top margin\n",
    "        pad=4  # Padding between the plot and the margin\n",
    "    ),\n",
    "    xaxis=dict(title_font=dict(size=18, family='Arial, bold', color='black')),  # Bold x-axis label\n",
    "    yaxis=dict(title_font=dict(size=18, family='Arial, bold', color='black')),  # Bold y-axis label\n",
    ")\n",
    "# Disable MathJax by setting renderer to 'svg'\n",
    "fig.show()\n",
    "pio.write_image(fig, f'{path_meta}/platform-combo-distribution.pdf')"
   ]
  },
  {
   "cell_type": "code",
   "execution_count": 8,
   "metadata": {},
   "outputs": [
    {
     "name": "stdout",
     "output_type": "stream",
     "text": [
      "11.74% (52 out of 443) leaderboards are hosted on multiple platforms.\n",
      "Papers With Code is the most popular host platform, accounting for 43.57% (193 out of 443) leaderboards.\n"
     ]
    },
    {
     "data": {
      "application/vnd.plotly.v1+json": {
       "config": {
        "plotlyServerURL": "https://plot.ly"
       },
       "data": [
        {
         "alignmentgroup": "True",
         "hovertemplate": "Platforms=%{x}<br>Number of Leaderboards=%{y}<extra></extra>",
         "legendgroup": "",
         "marker": {
          "color": "#636efa",
          "pattern": {
           "shape": ""
          }
         },
         "name": "",
         "offsetgroup": "",
         "orientation": "v",
         "showlegend": false,
         "textposition": "auto",
         "texttemplate": "%{y}",
         "type": "bar",
         "x": [
          "Papers With Code",
          "GitHub",
          "Hugging Face Spaces",
          "independent platform"
         ],
         "xaxis": "x",
         "y": [
          193,
          128,
          91,
          86
         ],
         "yaxis": "y"
        }
       ],
       "layout": {
        "annotations": [
         {
          "showarrow": false,
          "text": "43.57%",
          "x": "Papers With Code",
          "y": 193,
          "yshift": 10
         },
         {
          "showarrow": false,
          "text": "28.89%",
          "x": "GitHub",
          "y": 128,
          "yshift": 10
         },
         {
          "showarrow": false,
          "text": "20.54%",
          "x": "Hugging Face Spaces",
          "y": 91,
          "yshift": 10
         },
         {
          "showarrow": false,
          "text": "19.41%",
          "x": "independent platform",
          "y": 86,
          "yshift": 10
         }
        ],
        "autosize": true,
        "barmode": "relative",
        "legend": {
         "tracegroupgap": 0
        },
        "margin": {
         "b": 10,
         "l": 10,
         "pad": 4,
         "r": 10,
         "t": 10
        },
        "template": {
         "data": {
          "bar": [
           {
            "error_x": {
             "color": "#2a3f5f"
            },
            "error_y": {
             "color": "#2a3f5f"
            },
            "marker": {
             "line": {
              "color": "#E5ECF6",
              "width": 0.5
             },
             "pattern": {
              "fillmode": "overlay",
              "size": 10,
              "solidity": 0.2
             }
            },
            "type": "bar"
           }
          ],
          "barpolar": [
           {
            "marker": {
             "line": {
              "color": "#E5ECF6",
              "width": 0.5
             },
             "pattern": {
              "fillmode": "overlay",
              "size": 10,
              "solidity": 0.2
             }
            },
            "type": "barpolar"
           }
          ],
          "carpet": [
           {
            "aaxis": {
             "endlinecolor": "#2a3f5f",
             "gridcolor": "white",
             "linecolor": "white",
             "minorgridcolor": "white",
             "startlinecolor": "#2a3f5f"
            },
            "baxis": {
             "endlinecolor": "#2a3f5f",
             "gridcolor": "white",
             "linecolor": "white",
             "minorgridcolor": "white",
             "startlinecolor": "#2a3f5f"
            },
            "type": "carpet"
           }
          ],
          "choropleth": [
           {
            "colorbar": {
             "outlinewidth": 0,
             "ticks": ""
            },
            "type": "choropleth"
           }
          ],
          "contour": [
           {
            "colorbar": {
             "outlinewidth": 0,
             "ticks": ""
            },
            "colorscale": [
             [
              0,
              "#0d0887"
             ],
             [
              0.1111111111111111,
              "#46039f"
             ],
             [
              0.2222222222222222,
              "#7201a8"
             ],
             [
              0.3333333333333333,
              "#9c179e"
             ],
             [
              0.4444444444444444,
              "#bd3786"
             ],
             [
              0.5555555555555556,
              "#d8576b"
             ],
             [
              0.6666666666666666,
              "#ed7953"
             ],
             [
              0.7777777777777778,
              "#fb9f3a"
             ],
             [
              0.8888888888888888,
              "#fdca26"
             ],
             [
              1,
              "#f0f921"
             ]
            ],
            "type": "contour"
           }
          ],
          "contourcarpet": [
           {
            "colorbar": {
             "outlinewidth": 0,
             "ticks": ""
            },
            "type": "contourcarpet"
           }
          ],
          "heatmap": [
           {
            "colorbar": {
             "outlinewidth": 0,
             "ticks": ""
            },
            "colorscale": [
             [
              0,
              "#0d0887"
             ],
             [
              0.1111111111111111,
              "#46039f"
             ],
             [
              0.2222222222222222,
              "#7201a8"
             ],
             [
              0.3333333333333333,
              "#9c179e"
             ],
             [
              0.4444444444444444,
              "#bd3786"
             ],
             [
              0.5555555555555556,
              "#d8576b"
             ],
             [
              0.6666666666666666,
              "#ed7953"
             ],
             [
              0.7777777777777778,
              "#fb9f3a"
             ],
             [
              0.8888888888888888,
              "#fdca26"
             ],
             [
              1,
              "#f0f921"
             ]
            ],
            "type": "heatmap"
           }
          ],
          "heatmapgl": [
           {
            "colorbar": {
             "outlinewidth": 0,
             "ticks": ""
            },
            "colorscale": [
             [
              0,
              "#0d0887"
             ],
             [
              0.1111111111111111,
              "#46039f"
             ],
             [
              0.2222222222222222,
              "#7201a8"
             ],
             [
              0.3333333333333333,
              "#9c179e"
             ],
             [
              0.4444444444444444,
              "#bd3786"
             ],
             [
              0.5555555555555556,
              "#d8576b"
             ],
             [
              0.6666666666666666,
              "#ed7953"
             ],
             [
              0.7777777777777778,
              "#fb9f3a"
             ],
             [
              0.8888888888888888,
              "#fdca26"
             ],
             [
              1,
              "#f0f921"
             ]
            ],
            "type": "heatmapgl"
           }
          ],
          "histogram": [
           {
            "marker": {
             "pattern": {
              "fillmode": "overlay",
              "size": 10,
              "solidity": 0.2
             }
            },
            "type": "histogram"
           }
          ],
          "histogram2d": [
           {
            "colorbar": {
             "outlinewidth": 0,
             "ticks": ""
            },
            "colorscale": [
             [
              0,
              "#0d0887"
             ],
             [
              0.1111111111111111,
              "#46039f"
             ],
             [
              0.2222222222222222,
              "#7201a8"
             ],
             [
              0.3333333333333333,
              "#9c179e"
             ],
             [
              0.4444444444444444,
              "#bd3786"
             ],
             [
              0.5555555555555556,
              "#d8576b"
             ],
             [
              0.6666666666666666,
              "#ed7953"
             ],
             [
              0.7777777777777778,
              "#fb9f3a"
             ],
             [
              0.8888888888888888,
              "#fdca26"
             ],
             [
              1,
              "#f0f921"
             ]
            ],
            "type": "histogram2d"
           }
          ],
          "histogram2dcontour": [
           {
            "colorbar": {
             "outlinewidth": 0,
             "ticks": ""
            },
            "colorscale": [
             [
              0,
              "#0d0887"
             ],
             [
              0.1111111111111111,
              "#46039f"
             ],
             [
              0.2222222222222222,
              "#7201a8"
             ],
             [
              0.3333333333333333,
              "#9c179e"
             ],
             [
              0.4444444444444444,
              "#bd3786"
             ],
             [
              0.5555555555555556,
              "#d8576b"
             ],
             [
              0.6666666666666666,
              "#ed7953"
             ],
             [
              0.7777777777777778,
              "#fb9f3a"
             ],
             [
              0.8888888888888888,
              "#fdca26"
             ],
             [
              1,
              "#f0f921"
             ]
            ],
            "type": "histogram2dcontour"
           }
          ],
          "mesh3d": [
           {
            "colorbar": {
             "outlinewidth": 0,
             "ticks": ""
            },
            "type": "mesh3d"
           }
          ],
          "parcoords": [
           {
            "line": {
             "colorbar": {
              "outlinewidth": 0,
              "ticks": ""
             }
            },
            "type": "parcoords"
           }
          ],
          "pie": [
           {
            "automargin": true,
            "type": "pie"
           }
          ],
          "scatter": [
           {
            "fillpattern": {
             "fillmode": "overlay",
             "size": 10,
             "solidity": 0.2
            },
            "type": "scatter"
           }
          ],
          "scatter3d": [
           {
            "line": {
             "colorbar": {
              "outlinewidth": 0,
              "ticks": ""
             }
            },
            "marker": {
             "colorbar": {
              "outlinewidth": 0,
              "ticks": ""
             }
            },
            "type": "scatter3d"
           }
          ],
          "scattercarpet": [
           {
            "marker": {
             "colorbar": {
              "outlinewidth": 0,
              "ticks": ""
             }
            },
            "type": "scattercarpet"
           }
          ],
          "scattergeo": [
           {
            "marker": {
             "colorbar": {
              "outlinewidth": 0,
              "ticks": ""
             }
            },
            "type": "scattergeo"
           }
          ],
          "scattergl": [
           {
            "marker": {
             "colorbar": {
              "outlinewidth": 0,
              "ticks": ""
             }
            },
            "type": "scattergl"
           }
          ],
          "scattermapbox": [
           {
            "marker": {
             "colorbar": {
              "outlinewidth": 0,
              "ticks": ""
             }
            },
            "type": "scattermapbox"
           }
          ],
          "scatterpolar": [
           {
            "marker": {
             "colorbar": {
              "outlinewidth": 0,
              "ticks": ""
             }
            },
            "type": "scatterpolar"
           }
          ],
          "scatterpolargl": [
           {
            "marker": {
             "colorbar": {
              "outlinewidth": 0,
              "ticks": ""
             }
            },
            "type": "scatterpolargl"
           }
          ],
          "scatterternary": [
           {
            "marker": {
             "colorbar": {
              "outlinewidth": 0,
              "ticks": ""
             }
            },
            "type": "scatterternary"
           }
          ],
          "surface": [
           {
            "colorbar": {
             "outlinewidth": 0,
             "ticks": ""
            },
            "colorscale": [
             [
              0,
              "#0d0887"
             ],
             [
              0.1111111111111111,
              "#46039f"
             ],
             [
              0.2222222222222222,
              "#7201a8"
             ],
             [
              0.3333333333333333,
              "#9c179e"
             ],
             [
              0.4444444444444444,
              "#bd3786"
             ],
             [
              0.5555555555555556,
              "#d8576b"
             ],
             [
              0.6666666666666666,
              "#ed7953"
             ],
             [
              0.7777777777777778,
              "#fb9f3a"
             ],
             [
              0.8888888888888888,
              "#fdca26"
             ],
             [
              1,
              "#f0f921"
             ]
            ],
            "type": "surface"
           }
          ],
          "table": [
           {
            "cells": {
             "fill": {
              "color": "#EBF0F8"
             },
             "line": {
              "color": "white"
             }
            },
            "header": {
             "fill": {
              "color": "#C8D4E3"
             },
             "line": {
              "color": "white"
             }
            },
            "type": "table"
           }
          ]
         },
         "layout": {
          "annotationdefaults": {
           "arrowcolor": "#2a3f5f",
           "arrowhead": 0,
           "arrowwidth": 1
          },
          "autotypenumbers": "strict",
          "coloraxis": {
           "colorbar": {
            "outlinewidth": 0,
            "ticks": ""
           }
          },
          "colorscale": {
           "diverging": [
            [
             0,
             "#8e0152"
            ],
            [
             0.1,
             "#c51b7d"
            ],
            [
             0.2,
             "#de77ae"
            ],
            [
             0.3,
             "#f1b6da"
            ],
            [
             0.4,
             "#fde0ef"
            ],
            [
             0.5,
             "#f7f7f7"
            ],
            [
             0.6,
             "#e6f5d0"
            ],
            [
             0.7,
             "#b8e186"
            ],
            [
             0.8,
             "#7fbc41"
            ],
            [
             0.9,
             "#4d9221"
            ],
            [
             1,
             "#276419"
            ]
           ],
           "sequential": [
            [
             0,
             "#0d0887"
            ],
            [
             0.1111111111111111,
             "#46039f"
            ],
            [
             0.2222222222222222,
             "#7201a8"
            ],
            [
             0.3333333333333333,
             "#9c179e"
            ],
            [
             0.4444444444444444,
             "#bd3786"
            ],
            [
             0.5555555555555556,
             "#d8576b"
            ],
            [
             0.6666666666666666,
             "#ed7953"
            ],
            [
             0.7777777777777778,
             "#fb9f3a"
            ],
            [
             0.8888888888888888,
             "#fdca26"
            ],
            [
             1,
             "#f0f921"
            ]
           ],
           "sequentialminus": [
            [
             0,
             "#0d0887"
            ],
            [
             0.1111111111111111,
             "#46039f"
            ],
            [
             0.2222222222222222,
             "#7201a8"
            ],
            [
             0.3333333333333333,
             "#9c179e"
            ],
            [
             0.4444444444444444,
             "#bd3786"
            ],
            [
             0.5555555555555556,
             "#d8576b"
            ],
            [
             0.6666666666666666,
             "#ed7953"
            ],
            [
             0.7777777777777778,
             "#fb9f3a"
            ],
            [
             0.8888888888888888,
             "#fdca26"
            ],
            [
             1,
             "#f0f921"
            ]
           ]
          },
          "colorway": [
           "#636efa",
           "#EF553B",
           "#00cc96",
           "#ab63fa",
           "#FFA15A",
           "#19d3f3",
           "#FF6692",
           "#B6E880",
           "#FF97FF",
           "#FECB52"
          ],
          "font": {
           "color": "#2a3f5f"
          },
          "geo": {
           "bgcolor": "white",
           "lakecolor": "white",
           "landcolor": "#E5ECF6",
           "showlakes": true,
           "showland": true,
           "subunitcolor": "white"
          },
          "hoverlabel": {
           "align": "left"
          },
          "hovermode": "closest",
          "mapbox": {
           "style": "light"
          },
          "paper_bgcolor": "white",
          "plot_bgcolor": "#E5ECF6",
          "polar": {
           "angularaxis": {
            "gridcolor": "white",
            "linecolor": "white",
            "ticks": ""
           },
           "bgcolor": "#E5ECF6",
           "radialaxis": {
            "gridcolor": "white",
            "linecolor": "white",
            "ticks": ""
           }
          },
          "scene": {
           "xaxis": {
            "backgroundcolor": "#E5ECF6",
            "gridcolor": "white",
            "gridwidth": 2,
            "linecolor": "white",
            "showbackground": true,
            "ticks": "",
            "zerolinecolor": "white"
           },
           "yaxis": {
            "backgroundcolor": "#E5ECF6",
            "gridcolor": "white",
            "gridwidth": 2,
            "linecolor": "white",
            "showbackground": true,
            "ticks": "",
            "zerolinecolor": "white"
           },
           "zaxis": {
            "backgroundcolor": "#E5ECF6",
            "gridcolor": "white",
            "gridwidth": 2,
            "linecolor": "white",
            "showbackground": true,
            "ticks": "",
            "zerolinecolor": "white"
           }
          },
          "shapedefaults": {
           "line": {
            "color": "#2a3f5f"
           }
          },
          "ternary": {
           "aaxis": {
            "gridcolor": "white",
            "linecolor": "white",
            "ticks": ""
           },
           "baxis": {
            "gridcolor": "white",
            "linecolor": "white",
            "ticks": ""
           },
           "bgcolor": "#E5ECF6",
           "caxis": {
            "gridcolor": "white",
            "linecolor": "white",
            "ticks": ""
           }
          },
          "title": {
           "x": 0.05
          },
          "xaxis": {
           "automargin": true,
           "gridcolor": "white",
           "linecolor": "white",
           "ticks": "",
           "title": {
            "standoff": 15
           },
           "zerolinecolor": "white",
           "zerolinewidth": 2
          },
          "yaxis": {
           "automargin": true,
           "gridcolor": "white",
           "linecolor": "white",
           "ticks": "",
           "title": {
            "standoff": 15
           },
           "zerolinecolor": "white",
           "zerolinewidth": 2
          }
         }
        },
        "xaxis": {
         "anchor": "y",
         "domain": [
          0,
          1
         ],
         "title": {
          "text": "Platforms"
         }
        },
        "yaxis": {
         "anchor": "x",
         "domain": [
          0,
          1
         ],
         "title": {
          "text": "Number of Leaderboards"
         }
        }
       }
      }
     },
     "metadata": {},
     "output_type": "display_data"
    }
   ],
   "source": [
    "df = pd.read_csv(path_meta / 'leaderboard_processed.csv')\n",
    "df['Platforms'] = df['Platforms'].apply(ast.literal_eval)\n",
    "print(f\"{round(len(df[df['Platforms'].map(len) > 1])/len(df)*100,2)}% ({len(df[df['Platforms'].map(len) > 1])} out of {len(df)}) leaderboards are hosted on multiple platforms.\")\n",
    "\n",
    "df_split = df.explode('Platforms')['Platforms'].value_counts().reset_index(name='Frequency')\n",
    "print(f\"{df_split['Platforms'].iloc[0]} is the most popular host platform, accounting for {round(df_split['Frequency'].iloc[0]/len(df)*100,2)}% ({df_split['Frequency'].iloc[0]} out of {len(df)}) leaderboards.\")\n",
    "df_split['Weight'] = 1\n",
    "\n",
    "statistics = {\n",
    "    'Distribution': 'Leaderboards across Platforms',\n",
    "    'Mean': np.mean(df_split['Frequency']),\n",
    "    'Median': np.median(df_split['Frequency']),\n",
    "    'IQR': df_split['Frequency'].quantile(0.75) - df_split['Frequency'].quantile(0.25),\n",
    "    'Gini Coefficient': ineqpy.inequality.gini(data=df_split, income='Frequency', weights='Weight'),\n",
    "}\n",
    "if os.path.exists(path_meta / 'leaderboard_statistics.csv'):\n",
    "    df_statistics = pd.read_csv(path_meta / 'leaderboard_statistics.csv')\n",
    "else:\n",
    "    df_statistics = pd.DataFrame()\n",
    "df_statistics = pd.concat([df_statistics, pd.DataFrame([statistics])], ignore_index=True)\n",
    "df_statistics.drop_duplicates(subset=['Distribution'], keep='last', inplace=True)\n",
    "df_statistics.sort_values(by='Distribution', inplace=True)\n",
    "df_statistics.to_csv(path_meta / 'leaderboard_statistics.csv', index=False)\n",
    "\n",
    "df_split['Ratio'] = round(df_split['Frequency'] / len(df) * 100, 2)\n",
    "\n",
    "fig = px.bar(\n",
    "    x=df_split['Platforms'],\n",
    "    y=df_split['Frequency'],\n",
    "    text_auto=True,\n",
    "    labels={'x': 'Platforms', 'y': 'Number of Leaderboards'},\n",
    ")\n",
    "# Update the layout for a tighter look\n",
    "fig.update_layout(\n",
    "    autosize=True,\n",
    "    margin=dict(\n",
    "        l=10,  # Left margin\n",
    "        r=10,  # Right margin\n",
    "        b=10,  # Bottom margin\n",
    "        t=10,  # Top margin\n",
    "        pad=4  # Padding between the plot and the margin\n",
    "    )\n",
    ")\n",
    "# Add Ratio as text on each bar\n",
    "for i, d in enumerate(df_split.itertuples()):\n",
    "    fig.add_annotation(\n",
    "        x=d.Platforms,\n",
    "        y=d.Frequency,\n",
    "        text=f'{d.Ratio}%',\n",
    "        showarrow=False,\n",
    "        yshift=10\n",
    "    )\n",
    "fig.show()"
   ]
  },
  {
   "cell_type": "code",
   "execution_count": 9,
   "metadata": {},
   "outputs": [
    {
     "name": "stdout",
     "output_type": "stream",
     "text": [
      "62.3% (276 out of 443) leaderboards support multiple display formats.\n",
      "77.2% (342 out of 443) leaderboards support rankable display formats.\n",
      "Rankable Table is the most popular display format of rankable leaderboards, accounting for 99.71% (341 out of 342) rankable leaderboards.\n"
     ]
    },
    {
     "data": {
      "application/vnd.plotly.v1+json": {
       "config": {
        "plotlyServerURL": "https://plot.ly"
       },
       "data": [
        {
         "alignmentgroup": "True",
         "hovertemplate": "Display format=%{x}<br>Number of Leaderboards=%{y}<extra></extra>",
         "legendgroup": "",
         "marker": {
          "color": "#636efa",
          "pattern": {
           "shape": ""
          }
         },
         "name": "",
         "offsetgroup": "",
         "orientation": "v",
         "showlegend": false,
         "textposition": "auto",
         "texttemplate": "%{y}",
         "type": "bar",
         "x": [
          "Rankable Table",
          "Scatter Plot",
          "Regular Table",
          "Bar Chart",
          "Table Screenshot",
          "Radar Chart",
          "Rankable Bar Chart",
          "Line Chart",
          "Heat Map",
          "Box Plot",
          "Pie Chart"
         ],
         "xaxis": "x",
         "y": [
          76.98,
          50.11,
          26.19,
          7,
          4.97,
          1.13,
          0.45,
          0.45,
          0.23,
          0.23,
          0.23
         ],
         "yaxis": "y"
        }
       ],
       "layout": {
        "autosize": true,
        "barmode": "relative",
        "legend": {
         "tracegroupgap": 0
        },
        "margin": {
         "b": 10,
         "l": 10,
         "pad": 4,
         "r": 10,
         "t": 10
        },
        "template": {
         "data": {
          "bar": [
           {
            "error_x": {
             "color": "#2a3f5f"
            },
            "error_y": {
             "color": "#2a3f5f"
            },
            "marker": {
             "line": {
              "color": "#E5ECF6",
              "width": 0.5
             },
             "pattern": {
              "fillmode": "overlay",
              "size": 10,
              "solidity": 0.2
             }
            },
            "type": "bar"
           }
          ],
          "barpolar": [
           {
            "marker": {
             "line": {
              "color": "#E5ECF6",
              "width": 0.5
             },
             "pattern": {
              "fillmode": "overlay",
              "size": 10,
              "solidity": 0.2
             }
            },
            "type": "barpolar"
           }
          ],
          "carpet": [
           {
            "aaxis": {
             "endlinecolor": "#2a3f5f",
             "gridcolor": "white",
             "linecolor": "white",
             "minorgridcolor": "white",
             "startlinecolor": "#2a3f5f"
            },
            "baxis": {
             "endlinecolor": "#2a3f5f",
             "gridcolor": "white",
             "linecolor": "white",
             "minorgridcolor": "white",
             "startlinecolor": "#2a3f5f"
            },
            "type": "carpet"
           }
          ],
          "choropleth": [
           {
            "colorbar": {
             "outlinewidth": 0,
             "ticks": ""
            },
            "type": "choropleth"
           }
          ],
          "contour": [
           {
            "colorbar": {
             "outlinewidth": 0,
             "ticks": ""
            },
            "colorscale": [
             [
              0,
              "#0d0887"
             ],
             [
              0.1111111111111111,
              "#46039f"
             ],
             [
              0.2222222222222222,
              "#7201a8"
             ],
             [
              0.3333333333333333,
              "#9c179e"
             ],
             [
              0.4444444444444444,
              "#bd3786"
             ],
             [
              0.5555555555555556,
              "#d8576b"
             ],
             [
              0.6666666666666666,
              "#ed7953"
             ],
             [
              0.7777777777777778,
              "#fb9f3a"
             ],
             [
              0.8888888888888888,
              "#fdca26"
             ],
             [
              1,
              "#f0f921"
             ]
            ],
            "type": "contour"
           }
          ],
          "contourcarpet": [
           {
            "colorbar": {
             "outlinewidth": 0,
             "ticks": ""
            },
            "type": "contourcarpet"
           }
          ],
          "heatmap": [
           {
            "colorbar": {
             "outlinewidth": 0,
             "ticks": ""
            },
            "colorscale": [
             [
              0,
              "#0d0887"
             ],
             [
              0.1111111111111111,
              "#46039f"
             ],
             [
              0.2222222222222222,
              "#7201a8"
             ],
             [
              0.3333333333333333,
              "#9c179e"
             ],
             [
              0.4444444444444444,
              "#bd3786"
             ],
             [
              0.5555555555555556,
              "#d8576b"
             ],
             [
              0.6666666666666666,
              "#ed7953"
             ],
             [
              0.7777777777777778,
              "#fb9f3a"
             ],
             [
              0.8888888888888888,
              "#fdca26"
             ],
             [
              1,
              "#f0f921"
             ]
            ],
            "type": "heatmap"
           }
          ],
          "heatmapgl": [
           {
            "colorbar": {
             "outlinewidth": 0,
             "ticks": ""
            },
            "colorscale": [
             [
              0,
              "#0d0887"
             ],
             [
              0.1111111111111111,
              "#46039f"
             ],
             [
              0.2222222222222222,
              "#7201a8"
             ],
             [
              0.3333333333333333,
              "#9c179e"
             ],
             [
              0.4444444444444444,
              "#bd3786"
             ],
             [
              0.5555555555555556,
              "#d8576b"
             ],
             [
              0.6666666666666666,
              "#ed7953"
             ],
             [
              0.7777777777777778,
              "#fb9f3a"
             ],
             [
              0.8888888888888888,
              "#fdca26"
             ],
             [
              1,
              "#f0f921"
             ]
            ],
            "type": "heatmapgl"
           }
          ],
          "histogram": [
           {
            "marker": {
             "pattern": {
              "fillmode": "overlay",
              "size": 10,
              "solidity": 0.2
             }
            },
            "type": "histogram"
           }
          ],
          "histogram2d": [
           {
            "colorbar": {
             "outlinewidth": 0,
             "ticks": ""
            },
            "colorscale": [
             [
              0,
              "#0d0887"
             ],
             [
              0.1111111111111111,
              "#46039f"
             ],
             [
              0.2222222222222222,
              "#7201a8"
             ],
             [
              0.3333333333333333,
              "#9c179e"
             ],
             [
              0.4444444444444444,
              "#bd3786"
             ],
             [
              0.5555555555555556,
              "#d8576b"
             ],
             [
              0.6666666666666666,
              "#ed7953"
             ],
             [
              0.7777777777777778,
              "#fb9f3a"
             ],
             [
              0.8888888888888888,
              "#fdca26"
             ],
             [
              1,
              "#f0f921"
             ]
            ],
            "type": "histogram2d"
           }
          ],
          "histogram2dcontour": [
           {
            "colorbar": {
             "outlinewidth": 0,
             "ticks": ""
            },
            "colorscale": [
             [
              0,
              "#0d0887"
             ],
             [
              0.1111111111111111,
              "#46039f"
             ],
             [
              0.2222222222222222,
              "#7201a8"
             ],
             [
              0.3333333333333333,
              "#9c179e"
             ],
             [
              0.4444444444444444,
              "#bd3786"
             ],
             [
              0.5555555555555556,
              "#d8576b"
             ],
             [
              0.6666666666666666,
              "#ed7953"
             ],
             [
              0.7777777777777778,
              "#fb9f3a"
             ],
             [
              0.8888888888888888,
              "#fdca26"
             ],
             [
              1,
              "#f0f921"
             ]
            ],
            "type": "histogram2dcontour"
           }
          ],
          "mesh3d": [
           {
            "colorbar": {
             "outlinewidth": 0,
             "ticks": ""
            },
            "type": "mesh3d"
           }
          ],
          "parcoords": [
           {
            "line": {
             "colorbar": {
              "outlinewidth": 0,
              "ticks": ""
             }
            },
            "type": "parcoords"
           }
          ],
          "pie": [
           {
            "automargin": true,
            "type": "pie"
           }
          ],
          "scatter": [
           {
            "fillpattern": {
             "fillmode": "overlay",
             "size": 10,
             "solidity": 0.2
            },
            "type": "scatter"
           }
          ],
          "scatter3d": [
           {
            "line": {
             "colorbar": {
              "outlinewidth": 0,
              "ticks": ""
             }
            },
            "marker": {
             "colorbar": {
              "outlinewidth": 0,
              "ticks": ""
             }
            },
            "type": "scatter3d"
           }
          ],
          "scattercarpet": [
           {
            "marker": {
             "colorbar": {
              "outlinewidth": 0,
              "ticks": ""
             }
            },
            "type": "scattercarpet"
           }
          ],
          "scattergeo": [
           {
            "marker": {
             "colorbar": {
              "outlinewidth": 0,
              "ticks": ""
             }
            },
            "type": "scattergeo"
           }
          ],
          "scattergl": [
           {
            "marker": {
             "colorbar": {
              "outlinewidth": 0,
              "ticks": ""
             }
            },
            "type": "scattergl"
           }
          ],
          "scattermapbox": [
           {
            "marker": {
             "colorbar": {
              "outlinewidth": 0,
              "ticks": ""
             }
            },
            "type": "scattermapbox"
           }
          ],
          "scatterpolar": [
           {
            "marker": {
             "colorbar": {
              "outlinewidth": 0,
              "ticks": ""
             }
            },
            "type": "scatterpolar"
           }
          ],
          "scatterpolargl": [
           {
            "marker": {
             "colorbar": {
              "outlinewidth": 0,
              "ticks": ""
             }
            },
            "type": "scatterpolargl"
           }
          ],
          "scatterternary": [
           {
            "marker": {
             "colorbar": {
              "outlinewidth": 0,
              "ticks": ""
             }
            },
            "type": "scatterternary"
           }
          ],
          "surface": [
           {
            "colorbar": {
             "outlinewidth": 0,
             "ticks": ""
            },
            "colorscale": [
             [
              0,
              "#0d0887"
             ],
             [
              0.1111111111111111,
              "#46039f"
             ],
             [
              0.2222222222222222,
              "#7201a8"
             ],
             [
              0.3333333333333333,
              "#9c179e"
             ],
             [
              0.4444444444444444,
              "#bd3786"
             ],
             [
              0.5555555555555556,
              "#d8576b"
             ],
             [
              0.6666666666666666,
              "#ed7953"
             ],
             [
              0.7777777777777778,
              "#fb9f3a"
             ],
             [
              0.8888888888888888,
              "#fdca26"
             ],
             [
              1,
              "#f0f921"
             ]
            ],
            "type": "surface"
           }
          ],
          "table": [
           {
            "cells": {
             "fill": {
              "color": "#EBF0F8"
             },
             "line": {
              "color": "white"
             }
            },
            "header": {
             "fill": {
              "color": "#C8D4E3"
             },
             "line": {
              "color": "white"
             }
            },
            "type": "table"
           }
          ]
         },
         "layout": {
          "annotationdefaults": {
           "arrowcolor": "#2a3f5f",
           "arrowhead": 0,
           "arrowwidth": 1
          },
          "autotypenumbers": "strict",
          "coloraxis": {
           "colorbar": {
            "outlinewidth": 0,
            "ticks": ""
           }
          },
          "colorscale": {
           "diverging": [
            [
             0,
             "#8e0152"
            ],
            [
             0.1,
             "#c51b7d"
            ],
            [
             0.2,
             "#de77ae"
            ],
            [
             0.3,
             "#f1b6da"
            ],
            [
             0.4,
             "#fde0ef"
            ],
            [
             0.5,
             "#f7f7f7"
            ],
            [
             0.6,
             "#e6f5d0"
            ],
            [
             0.7,
             "#b8e186"
            ],
            [
             0.8,
             "#7fbc41"
            ],
            [
             0.9,
             "#4d9221"
            ],
            [
             1,
             "#276419"
            ]
           ],
           "sequential": [
            [
             0,
             "#0d0887"
            ],
            [
             0.1111111111111111,
             "#46039f"
            ],
            [
             0.2222222222222222,
             "#7201a8"
            ],
            [
             0.3333333333333333,
             "#9c179e"
            ],
            [
             0.4444444444444444,
             "#bd3786"
            ],
            [
             0.5555555555555556,
             "#d8576b"
            ],
            [
             0.6666666666666666,
             "#ed7953"
            ],
            [
             0.7777777777777778,
             "#fb9f3a"
            ],
            [
             0.8888888888888888,
             "#fdca26"
            ],
            [
             1,
             "#f0f921"
            ]
           ],
           "sequentialminus": [
            [
             0,
             "#0d0887"
            ],
            [
             0.1111111111111111,
             "#46039f"
            ],
            [
             0.2222222222222222,
             "#7201a8"
            ],
            [
             0.3333333333333333,
             "#9c179e"
            ],
            [
             0.4444444444444444,
             "#bd3786"
            ],
            [
             0.5555555555555556,
             "#d8576b"
            ],
            [
             0.6666666666666666,
             "#ed7953"
            ],
            [
             0.7777777777777778,
             "#fb9f3a"
            ],
            [
             0.8888888888888888,
             "#fdca26"
            ],
            [
             1,
             "#f0f921"
            ]
           ]
          },
          "colorway": [
           "#636efa",
           "#EF553B",
           "#00cc96",
           "#ab63fa",
           "#FFA15A",
           "#19d3f3",
           "#FF6692",
           "#B6E880",
           "#FF97FF",
           "#FECB52"
          ],
          "font": {
           "color": "#2a3f5f"
          },
          "geo": {
           "bgcolor": "white",
           "lakecolor": "white",
           "landcolor": "#E5ECF6",
           "showlakes": true,
           "showland": true,
           "subunitcolor": "white"
          },
          "hoverlabel": {
           "align": "left"
          },
          "hovermode": "closest",
          "mapbox": {
           "style": "light"
          },
          "paper_bgcolor": "white",
          "plot_bgcolor": "#E5ECF6",
          "polar": {
           "angularaxis": {
            "gridcolor": "white",
            "linecolor": "white",
            "ticks": ""
           },
           "bgcolor": "#E5ECF6",
           "radialaxis": {
            "gridcolor": "white",
            "linecolor": "white",
            "ticks": ""
           }
          },
          "scene": {
           "xaxis": {
            "backgroundcolor": "#E5ECF6",
            "gridcolor": "white",
            "gridwidth": 2,
            "linecolor": "white",
            "showbackground": true,
            "ticks": "",
            "zerolinecolor": "white"
           },
           "yaxis": {
            "backgroundcolor": "#E5ECF6",
            "gridcolor": "white",
            "gridwidth": 2,
            "linecolor": "white",
            "showbackground": true,
            "ticks": "",
            "zerolinecolor": "white"
           },
           "zaxis": {
            "backgroundcolor": "#E5ECF6",
            "gridcolor": "white",
            "gridwidth": 2,
            "linecolor": "white",
            "showbackground": true,
            "ticks": "",
            "zerolinecolor": "white"
           }
          },
          "shapedefaults": {
           "line": {
            "color": "#2a3f5f"
           }
          },
          "ternary": {
           "aaxis": {
            "gridcolor": "white",
            "linecolor": "white",
            "ticks": ""
           },
           "baxis": {
            "gridcolor": "white",
            "linecolor": "white",
            "ticks": ""
           },
           "bgcolor": "#E5ECF6",
           "caxis": {
            "gridcolor": "white",
            "linecolor": "white",
            "ticks": ""
           }
          },
          "title": {
           "x": 0.05
          },
          "xaxis": {
           "automargin": true,
           "gridcolor": "white",
           "linecolor": "white",
           "ticks": "",
           "title": {
            "standoff": 15
           },
           "zerolinecolor": "white",
           "zerolinewidth": 2
          },
          "yaxis": {
           "automargin": true,
           "gridcolor": "white",
           "linecolor": "white",
           "ticks": "",
           "title": {
            "standoff": 15
           },
           "zerolinecolor": "white",
           "zerolinewidth": 2
          }
         }
        },
        "xaxis": {
         "anchor": "y",
         "domain": [
          0,
          1
         ],
         "title": {
          "text": "Display format"
         }
        },
        "yaxis": {
         "anchor": "x",
         "domain": [
          0,
          1
         ],
         "title": {
          "text": "Number of Leaderboards"
         }
        }
       }
      }
     },
     "metadata": {},
     "output_type": "display_data"
    }
   ],
   "source": [
    "df = pd.read_csv(path_meta / 'leaderboard_processed.csv')\n",
    "df['Display formats'] = df['Display formats'].apply(ast.literal_eval)\n",
    "\n",
    "df_multiple = df[df['#Display format'] > 1]\n",
    "print(f\"{round(len(df_multiple)/len(df)*100,2)}% ({len(df_multiple)} out of {len(df)}) leaderboards support multiple display formats.\")\n",
    "display_format_rankable = ['Rankable Table', 'Rankable Bar Chart']\n",
    "df_rankable = keep_rows_by_list_column(df, 'Display formats', display_format_rankable)\n",
    "print(f\"{round(len(df_rankable)/len(df)*100,2)}% ({len(df_rankable)} out of {len(df)}) leaderboards support rankable display formats.\")\n",
    "df_rankable_split = df_rankable.explode('Display formats')['Display formats'].value_counts().reset_index(name='Frequency')\n",
    "print(f\"{df_rankable_split['Display formats'].iloc[0]} is the most popular display format of rankable leaderboards, accounting for {round(df_rankable_split['Frequency'].iloc[0]/len(df_rankable)*100,2)}% ({df_rankable_split['Frequency'].iloc[0]} out of {len(df_rankable)}) rankable leaderboards.\")\n",
    "df_split = df.explode('Display formats')['Display formats'].value_counts().reset_index(name='Frequency')\n",
    "df_split['Weight'] = 1\n",
    "\n",
    "statistics = {\n",
    "    'Distribution': 'Leaderboards across Display Formats',\n",
    "    'Mean': np.mean(df_split['Frequency']),\n",
    "    'Median': np.median(df_split['Frequency']),\n",
    "    'IQR': df_split['Frequency'].quantile(0.75) - df_split['Frequency'].quantile(0.25),\n",
    "    'Gini Coefficient': ineqpy.inequality.gini(data=df_split, income='Frequency', weights='Weight'),\n",
    "}\n",
    "if os.path.exists(path_meta / 'leaderboard_statistics.csv'):\n",
    "    df_statistics = pd.read_csv(path_meta / 'leaderboard_statistics.csv')\n",
    "else:\n",
    "    df_statistics = pd.DataFrame()\n",
    "df_statistics = pd.concat([df_statistics, pd.DataFrame([statistics])], ignore_index=True)\n",
    "df_statistics.drop_duplicates(subset=['Distribution'], keep='last', inplace=True)\n",
    "df_statistics.sort_values(by='Distribution', inplace=True)\n",
    "df_statistics.to_csv(path_meta / 'leaderboard_statistics.csv', index=False)\n",
    "\n",
    "df_split['Ratio'] = round(df_split['Frequency'] / len(df) * 100, 2)\n",
    "\n",
    "fig = px.bar(\n",
    "    x=df_split['Display formats'],\n",
    "    y=df_split['Ratio'],\n",
    "    text_auto=True,\n",
    "    labels={'x': 'Display format', 'y': 'Number of Leaderboards'},\n",
    ")\n",
    "# Update the layout for a tighter look\n",
    "fig.update_layout(\n",
    "    autosize=True,\n",
    "    margin=dict(\n",
    "        l=10,  # Left margin\n",
    "        r=10,  # Right margin\n",
    "        b=10,  # Bottom margin\n",
    "        t=10,  # Top margin\n",
    "        pad=4  # Padding between the plot and the margin\n",
    "    )\n",
    ")\n",
    "fig.show()"
   ]
  },
  {
   "cell_type": "code",
   "execution_count": 10,
   "metadata": {},
   "outputs": [],
   "source": [
    "# df = pd.read_csv(path_meta / 'leaderboard_processed.csv')\n",
    "# df['Downloadable file formats (non-pwc)'] = df['Downloadable file formats (non-pwc)'].apply(ast.literal_eval)\n",
    "# print(f\"{round(len(df[df['Downloadable file formats (non-pwc)'].map(len) > 0])/len(df)*100,2)}% ({len(df[df['Downloadable file formats (non-pwc)'].map(len) > 0])} out of {len(df)}) leaderboards provide downloadable files of the leaderboards.\")\n",
    "\n",
    "# df = df[df['Downloadable file formats (non-pwc)'].map(len) > 0]\n",
    "# df_split = df.explode('Downloadable file formats (non-pwc)')['Downloadable file formats (non-pwc)'].value_counts().reset_index(name='Frequency')\n",
    "# print(f\"{df_split['Downloadable file formats (non-pwc)'].iloc[0]} is the most popular storage format of leaderboards, accounting for {round(df_split['Frequency'].iloc[0]/len(df)*100,2)}% ({df_split['Frequency'].iloc[0]} out of {len(df)}) downloadable leaderboards.\")\n",
    "# df_split['Weight'] = 1\n",
    "\n",
    "# statistics = {\n",
    "#     'Distribution': 'Leaderboards across Downloadable File Formats',\n",
    "#     'Mean': np.mean(df_split['Frequency']),\n",
    "#     'Median': np.median(df_split['Frequency']),\n",
    "#     'IQR': df_split['Frequency'].quantile(0.75) - df_split['Frequency'].quantile(0.25),\n",
    "#     'Gini Coefficient': ineqpy.inequality.gini(data=df_split, income='Frequency', weights='Weight'),\n",
    "# }\n",
    "# if os.path.exists(path_meta / 'leaderboard_statistics.csv'):\n",
    "#     df_statistics = pd.read_csv(path_meta / 'leaderboard_statistics.csv')\n",
    "# else:\n",
    "#     df_statistics = pd.DataFrame()\n",
    "# df_statistics = pd.concat([df_statistics, pd.DataFrame([statistics])], ignore_index=True)\n",
    "# df_statistics.drop_duplicates(subset=['Distribution'], keep='last', inplace=True)\n",
    "# df_statistics.sort_values(by='Distribution', inplace=True)\n",
    "# df_statistics.to_csv(path_meta / 'leaderboard_statistics.csv', index=False)\n",
    "\n",
    "# df_split['Ratio'] = round(df_split['Frequency'] / len(df) * 100, 2)\n",
    "\n",
    "# fig = px.bar(\n",
    "#     x=df_split['Downloadable file formats (non-pwc)'],\n",
    "#     y=df_split['Ratio'],\n",
    "#     text_auto=True,\n",
    "#     labels={'x': 'Downloadable File Formats', 'y': 'Number of Leaderboards'},\n",
    "# )\n",
    "# # Update the layout for a tighter look\n",
    "# fig.update_layout(\n",
    "#     autosize=True,\n",
    "#     margin=dict(\n",
    "#         l=10,  # Left margin\n",
    "#         r=10,  # Right margin\n",
    "#         b=10,  # Bottom margin\n",
    "#         t=10,  # Top margin\n",
    "#         pad=4  # Padding between the plot and the margin\n",
    "#     )\n",
    "# )\n",
    "# fig.show()"
   ]
  },
  {
   "cell_type": "code",
   "execution_count": 11,
   "metadata": {},
   "outputs": [
    {
     "name": "stdout",
     "output_type": "stream",
     "text": [
      "Papers With Code stands out as the most prolific release organization among the 236 identified organizations, contributing to a notable 42.66% (189 out of 443) leaderboards.\n"
     ]
    },
    {
     "data": {
      "application/vnd.plotly.v1+json": {
       "config": {
        "plotlyServerURL": "https://plot.ly"
       },
       "data": [
        {
         "orientation": "h",
         "text": [
          42.66,
          6.55,
          6.09,
          5.87,
          4.51,
          3.61,
          3.61,
          3.16,
          2.93,
          2.71
         ],
         "textposition": "auto",
         "type": "bar",
         "x": [
          189,
          29,
          27,
          26,
          20,
          16,
          16,
          14,
          13,
          12
         ],
         "y": [
          "Papers With Code",
          "Allen Institute for AI",
          "Independent Contributor",
          "Shanghai AI Laboratory",
          "University of California",
          "Chinese University of Hong Kong",
          "Tsinghua University",
          "Microsoft",
          "Meta",
          "Stanford University"
         ]
        }
       ],
       "layout": {
        "template": {
         "data": {
          "bar": [
           {
            "error_x": {
             "color": "#2a3f5f"
            },
            "error_y": {
             "color": "#2a3f5f"
            },
            "marker": {
             "line": {
              "color": "#E5ECF6",
              "width": 0.5
             },
             "pattern": {
              "fillmode": "overlay",
              "size": 10,
              "solidity": 0.2
             }
            },
            "type": "bar"
           }
          ],
          "barpolar": [
           {
            "marker": {
             "line": {
              "color": "#E5ECF6",
              "width": 0.5
             },
             "pattern": {
              "fillmode": "overlay",
              "size": 10,
              "solidity": 0.2
             }
            },
            "type": "barpolar"
           }
          ],
          "carpet": [
           {
            "aaxis": {
             "endlinecolor": "#2a3f5f",
             "gridcolor": "white",
             "linecolor": "white",
             "minorgridcolor": "white",
             "startlinecolor": "#2a3f5f"
            },
            "baxis": {
             "endlinecolor": "#2a3f5f",
             "gridcolor": "white",
             "linecolor": "white",
             "minorgridcolor": "white",
             "startlinecolor": "#2a3f5f"
            },
            "type": "carpet"
           }
          ],
          "choropleth": [
           {
            "colorbar": {
             "outlinewidth": 0,
             "ticks": ""
            },
            "type": "choropleth"
           }
          ],
          "contour": [
           {
            "colorbar": {
             "outlinewidth": 0,
             "ticks": ""
            },
            "colorscale": [
             [
              0,
              "#0d0887"
             ],
             [
              0.1111111111111111,
              "#46039f"
             ],
             [
              0.2222222222222222,
              "#7201a8"
             ],
             [
              0.3333333333333333,
              "#9c179e"
             ],
             [
              0.4444444444444444,
              "#bd3786"
             ],
             [
              0.5555555555555556,
              "#d8576b"
             ],
             [
              0.6666666666666666,
              "#ed7953"
             ],
             [
              0.7777777777777778,
              "#fb9f3a"
             ],
             [
              0.8888888888888888,
              "#fdca26"
             ],
             [
              1,
              "#f0f921"
             ]
            ],
            "type": "contour"
           }
          ],
          "contourcarpet": [
           {
            "colorbar": {
             "outlinewidth": 0,
             "ticks": ""
            },
            "type": "contourcarpet"
           }
          ],
          "heatmap": [
           {
            "colorbar": {
             "outlinewidth": 0,
             "ticks": ""
            },
            "colorscale": [
             [
              0,
              "#0d0887"
             ],
             [
              0.1111111111111111,
              "#46039f"
             ],
             [
              0.2222222222222222,
              "#7201a8"
             ],
             [
              0.3333333333333333,
              "#9c179e"
             ],
             [
              0.4444444444444444,
              "#bd3786"
             ],
             [
              0.5555555555555556,
              "#d8576b"
             ],
             [
              0.6666666666666666,
              "#ed7953"
             ],
             [
              0.7777777777777778,
              "#fb9f3a"
             ],
             [
              0.8888888888888888,
              "#fdca26"
             ],
             [
              1,
              "#f0f921"
             ]
            ],
            "type": "heatmap"
           }
          ],
          "heatmapgl": [
           {
            "colorbar": {
             "outlinewidth": 0,
             "ticks": ""
            },
            "colorscale": [
             [
              0,
              "#0d0887"
             ],
             [
              0.1111111111111111,
              "#46039f"
             ],
             [
              0.2222222222222222,
              "#7201a8"
             ],
             [
              0.3333333333333333,
              "#9c179e"
             ],
             [
              0.4444444444444444,
              "#bd3786"
             ],
             [
              0.5555555555555556,
              "#d8576b"
             ],
             [
              0.6666666666666666,
              "#ed7953"
             ],
             [
              0.7777777777777778,
              "#fb9f3a"
             ],
             [
              0.8888888888888888,
              "#fdca26"
             ],
             [
              1,
              "#f0f921"
             ]
            ],
            "type": "heatmapgl"
           }
          ],
          "histogram": [
           {
            "marker": {
             "pattern": {
              "fillmode": "overlay",
              "size": 10,
              "solidity": 0.2
             }
            },
            "type": "histogram"
           }
          ],
          "histogram2d": [
           {
            "colorbar": {
             "outlinewidth": 0,
             "ticks": ""
            },
            "colorscale": [
             [
              0,
              "#0d0887"
             ],
             [
              0.1111111111111111,
              "#46039f"
             ],
             [
              0.2222222222222222,
              "#7201a8"
             ],
             [
              0.3333333333333333,
              "#9c179e"
             ],
             [
              0.4444444444444444,
              "#bd3786"
             ],
             [
              0.5555555555555556,
              "#d8576b"
             ],
             [
              0.6666666666666666,
              "#ed7953"
             ],
             [
              0.7777777777777778,
              "#fb9f3a"
             ],
             [
              0.8888888888888888,
              "#fdca26"
             ],
             [
              1,
              "#f0f921"
             ]
            ],
            "type": "histogram2d"
           }
          ],
          "histogram2dcontour": [
           {
            "colorbar": {
             "outlinewidth": 0,
             "ticks": ""
            },
            "colorscale": [
             [
              0,
              "#0d0887"
             ],
             [
              0.1111111111111111,
              "#46039f"
             ],
             [
              0.2222222222222222,
              "#7201a8"
             ],
             [
              0.3333333333333333,
              "#9c179e"
             ],
             [
              0.4444444444444444,
              "#bd3786"
             ],
             [
              0.5555555555555556,
              "#d8576b"
             ],
             [
              0.6666666666666666,
              "#ed7953"
             ],
             [
              0.7777777777777778,
              "#fb9f3a"
             ],
             [
              0.8888888888888888,
              "#fdca26"
             ],
             [
              1,
              "#f0f921"
             ]
            ],
            "type": "histogram2dcontour"
           }
          ],
          "mesh3d": [
           {
            "colorbar": {
             "outlinewidth": 0,
             "ticks": ""
            },
            "type": "mesh3d"
           }
          ],
          "parcoords": [
           {
            "line": {
             "colorbar": {
              "outlinewidth": 0,
              "ticks": ""
             }
            },
            "type": "parcoords"
           }
          ],
          "pie": [
           {
            "automargin": true,
            "type": "pie"
           }
          ],
          "scatter": [
           {
            "fillpattern": {
             "fillmode": "overlay",
             "size": 10,
             "solidity": 0.2
            },
            "type": "scatter"
           }
          ],
          "scatter3d": [
           {
            "line": {
             "colorbar": {
              "outlinewidth": 0,
              "ticks": ""
             }
            },
            "marker": {
             "colorbar": {
              "outlinewidth": 0,
              "ticks": ""
             }
            },
            "type": "scatter3d"
           }
          ],
          "scattercarpet": [
           {
            "marker": {
             "colorbar": {
              "outlinewidth": 0,
              "ticks": ""
             }
            },
            "type": "scattercarpet"
           }
          ],
          "scattergeo": [
           {
            "marker": {
             "colorbar": {
              "outlinewidth": 0,
              "ticks": ""
             }
            },
            "type": "scattergeo"
           }
          ],
          "scattergl": [
           {
            "marker": {
             "colorbar": {
              "outlinewidth": 0,
              "ticks": ""
             }
            },
            "type": "scattergl"
           }
          ],
          "scattermapbox": [
           {
            "marker": {
             "colorbar": {
              "outlinewidth": 0,
              "ticks": ""
             }
            },
            "type": "scattermapbox"
           }
          ],
          "scatterpolar": [
           {
            "marker": {
             "colorbar": {
              "outlinewidth": 0,
              "ticks": ""
             }
            },
            "type": "scatterpolar"
           }
          ],
          "scatterpolargl": [
           {
            "marker": {
             "colorbar": {
              "outlinewidth": 0,
              "ticks": ""
             }
            },
            "type": "scatterpolargl"
           }
          ],
          "scatterternary": [
           {
            "marker": {
             "colorbar": {
              "outlinewidth": 0,
              "ticks": ""
             }
            },
            "type": "scatterternary"
           }
          ],
          "surface": [
           {
            "colorbar": {
             "outlinewidth": 0,
             "ticks": ""
            },
            "colorscale": [
             [
              0,
              "#0d0887"
             ],
             [
              0.1111111111111111,
              "#46039f"
             ],
             [
              0.2222222222222222,
              "#7201a8"
             ],
             [
              0.3333333333333333,
              "#9c179e"
             ],
             [
              0.4444444444444444,
              "#bd3786"
             ],
             [
              0.5555555555555556,
              "#d8576b"
             ],
             [
              0.6666666666666666,
              "#ed7953"
             ],
             [
              0.7777777777777778,
              "#fb9f3a"
             ],
             [
              0.8888888888888888,
              "#fdca26"
             ],
             [
              1,
              "#f0f921"
             ]
            ],
            "type": "surface"
           }
          ],
          "table": [
           {
            "cells": {
             "fill": {
              "color": "#EBF0F8"
             },
             "line": {
              "color": "white"
             }
            },
            "header": {
             "fill": {
              "color": "#C8D4E3"
             },
             "line": {
              "color": "white"
             }
            },
            "type": "table"
           }
          ]
         },
         "layout": {
          "annotationdefaults": {
           "arrowcolor": "#2a3f5f",
           "arrowhead": 0,
           "arrowwidth": 1
          },
          "autotypenumbers": "strict",
          "coloraxis": {
           "colorbar": {
            "outlinewidth": 0,
            "ticks": ""
           }
          },
          "colorscale": {
           "diverging": [
            [
             0,
             "#8e0152"
            ],
            [
             0.1,
             "#c51b7d"
            ],
            [
             0.2,
             "#de77ae"
            ],
            [
             0.3,
             "#f1b6da"
            ],
            [
             0.4,
             "#fde0ef"
            ],
            [
             0.5,
             "#f7f7f7"
            ],
            [
             0.6,
             "#e6f5d0"
            ],
            [
             0.7,
             "#b8e186"
            ],
            [
             0.8,
             "#7fbc41"
            ],
            [
             0.9,
             "#4d9221"
            ],
            [
             1,
             "#276419"
            ]
           ],
           "sequential": [
            [
             0,
             "#0d0887"
            ],
            [
             0.1111111111111111,
             "#46039f"
            ],
            [
             0.2222222222222222,
             "#7201a8"
            ],
            [
             0.3333333333333333,
             "#9c179e"
            ],
            [
             0.4444444444444444,
             "#bd3786"
            ],
            [
             0.5555555555555556,
             "#d8576b"
            ],
            [
             0.6666666666666666,
             "#ed7953"
            ],
            [
             0.7777777777777778,
             "#fb9f3a"
            ],
            [
             0.8888888888888888,
             "#fdca26"
            ],
            [
             1,
             "#f0f921"
            ]
           ],
           "sequentialminus": [
            [
             0,
             "#0d0887"
            ],
            [
             0.1111111111111111,
             "#46039f"
            ],
            [
             0.2222222222222222,
             "#7201a8"
            ],
            [
             0.3333333333333333,
             "#9c179e"
            ],
            [
             0.4444444444444444,
             "#bd3786"
            ],
            [
             0.5555555555555556,
             "#d8576b"
            ],
            [
             0.6666666666666666,
             "#ed7953"
            ],
            [
             0.7777777777777778,
             "#fb9f3a"
            ],
            [
             0.8888888888888888,
             "#fdca26"
            ],
            [
             1,
             "#f0f921"
            ]
           ]
          },
          "colorway": [
           "#636efa",
           "#EF553B",
           "#00cc96",
           "#ab63fa",
           "#FFA15A",
           "#19d3f3",
           "#FF6692",
           "#B6E880",
           "#FF97FF",
           "#FECB52"
          ],
          "font": {
           "color": "#2a3f5f"
          },
          "geo": {
           "bgcolor": "white",
           "lakecolor": "white",
           "landcolor": "#E5ECF6",
           "showlakes": true,
           "showland": true,
           "subunitcolor": "white"
          },
          "hoverlabel": {
           "align": "left"
          },
          "hovermode": "closest",
          "mapbox": {
           "style": "light"
          },
          "paper_bgcolor": "white",
          "plot_bgcolor": "#E5ECF6",
          "polar": {
           "angularaxis": {
            "gridcolor": "white",
            "linecolor": "white",
            "ticks": ""
           },
           "bgcolor": "#E5ECF6",
           "radialaxis": {
            "gridcolor": "white",
            "linecolor": "white",
            "ticks": ""
           }
          },
          "scene": {
           "xaxis": {
            "backgroundcolor": "#E5ECF6",
            "gridcolor": "white",
            "gridwidth": 2,
            "linecolor": "white",
            "showbackground": true,
            "ticks": "",
            "zerolinecolor": "white"
           },
           "yaxis": {
            "backgroundcolor": "#E5ECF6",
            "gridcolor": "white",
            "gridwidth": 2,
            "linecolor": "white",
            "showbackground": true,
            "ticks": "",
            "zerolinecolor": "white"
           },
           "zaxis": {
            "backgroundcolor": "#E5ECF6",
            "gridcolor": "white",
            "gridwidth": 2,
            "linecolor": "white",
            "showbackground": true,
            "ticks": "",
            "zerolinecolor": "white"
           }
          },
          "shapedefaults": {
           "line": {
            "color": "#2a3f5f"
           }
          },
          "ternary": {
           "aaxis": {
            "gridcolor": "white",
            "linecolor": "white",
            "ticks": ""
           },
           "baxis": {
            "gridcolor": "white",
            "linecolor": "white",
            "ticks": ""
           },
           "bgcolor": "#E5ECF6",
           "caxis": {
            "gridcolor": "white",
            "linecolor": "white",
            "ticks": ""
           }
          },
          "title": {
           "x": 0.05
          },
          "xaxis": {
           "automargin": true,
           "gridcolor": "white",
           "linecolor": "white",
           "ticks": "",
           "title": {
            "standoff": 15
           },
           "zerolinecolor": "white",
           "zerolinewidth": 2
          },
          "yaxis": {
           "automargin": true,
           "gridcolor": "white",
           "linecolor": "white",
           "ticks": "",
           "title": {
            "standoff": 15
           },
           "zerolinecolor": "white",
           "zerolinewidth": 2
          }
         }
        },
        "title": {
         "text": "Number of Leaderboards across Release Organizations (Top 10)"
        },
        "xaxis": {
         "title": {
          "text": "Leaderboard Number"
         }
        },
        "yaxis": {
         "autorange": "reversed",
         "title": {
          "text": "Publisher Name"
         }
        }
       }
      }
     },
     "metadata": {},
     "output_type": "display_data"
    }
   ],
   "source": [
    "df = pd.read_csv(path_meta / 'leaderboard_processed.csv')\n",
    "\n",
    "df['Release organizations'] = df['Release organizations'].apply(ast.literal_eval)\n",
    "df_split = df.explode('Release organizations').groupby('Release organizations').size().reset_index(name='Frequency')\n",
    "df_split['Weight'] = 1\n",
    "\n",
    "statistics = {\n",
    "    'Distribution': 'Leaderboards across Release Organizations',\n",
    "    'Mean': np.mean(df_split['Frequency']),\n",
    "    'Median': np.median(df_split['Frequency']),\n",
    "    'IQR': df_split['Frequency'].quantile(0.75) - df_split['Frequency'].quantile(0.25),\n",
    "    'Gini Coefficient': ineqpy.inequality.gini(data=df_split, income='Frequency', weights='Weight'),\n",
    "}\n",
    "if os.path.exists(path_meta / 'leaderboard_statistics.csv'):\n",
    "    df_statistics = pd.read_csv(path_meta / 'leaderboard_statistics.csv')\n",
    "else:\n",
    "    df_statistics = pd.DataFrame()\n",
    "df_statistics = pd.concat([df_statistics, pd.DataFrame([statistics])], ignore_index=True)\n",
    "df_statistics.drop_duplicates(subset=['Distribution'], keep='last', inplace=True)\n",
    "df_statistics.sort_values(by='Distribution', inplace=True)\n",
    "df_statistics.to_csv(path_meta / 'leaderboard_statistics.csv', index=False)\n",
    "\n",
    "df_top = df_split.sort_values(by='Frequency', ascending=False).head(10)\n",
    "print(f\"{df_top['Release organizations'].iloc[0]} stands out as the most prolific release organization among the {len(df_split['Release organizations'].unique())-1} identified organizations, contributing to a notable {round(df_top['Frequency'].iloc[0]/len(df)*100,2)}% ({df_top['Frequency'].iloc[0]} out of {len(df)}) leaderboards.\")\n",
    "\n",
    "df_top['Ratio'] = round(df_top['Frequency'] / len(df) * 100, 2)\n",
    "\n",
    "fig = go.Figure(go.Bar(\n",
    "        x=df_top['Frequency'],  # Values for the bar lengths\n",
    "        y=df_top['Release organizations'],  # Categories for each bar\n",
    "        orientation='h',  # Sets the bars to be horizontal\n",
    "        text=df_top['Ratio'],  # Adds the values as text on each bar\n",
    "        textposition='auto'  # Automatically positions the text on the bars\n",
    "))\n",
    "fig.update_layout(\n",
    "        title=f'Number of Leaderboards across Release Organizations (Top 10)',\n",
    "        xaxis_title='Leaderboard Number',\n",
    "        yaxis_title='Publisher Name',\n",
    "        yaxis_autorange='reversed'  # This line makes the bars go top-down\n",
    ")\n",
    "fig.show()\n"
   ]
  },
  {
   "cell_type": "code",
   "execution_count": 12,
   "metadata": {},
   "outputs": [],
   "source": [
    "# df = pd.read_csv(path_meta / 'leaderboard_processed.csv')\n",
    "# df = df[df['Platforms'] != \"['Papers With Code']\"]\n",
    "\n",
    "# statistics = {\n",
    "#     'Distribution': 'Release Organizations across Leaderboards',\n",
    "#     'Mean': np.mean(df['#Release organization']),\n",
    "#     'Median': np.median(df['#Release organization']),\n",
    "#     'IQR': df['#Release organization'].quantile(0.75) - df['#Release organization'].quantile(0.25),\n",
    "# }\n",
    "# if os.path.exists(path_meta / 'leaderboard_statistics.csv'):\n",
    "#     df_statistics = pd.read_csv(path_meta / 'leaderboard_statistics.csv')\n",
    "# else:\n",
    "#     df_statistics = pd.DataFrame()\n",
    "# df_statistics = pd.concat([df_statistics, pd.DataFrame([statistics])], ignore_index=True)\n",
    "# df_statistics.drop_duplicates(subset=['Distribution'], keep='last', inplace=True)\n",
    "# df_statistics.sort_values(by='Distribution', inplace=True)\n",
    "# df_statistics.to_csv(path_meta / 'leaderboard_statistics.csv', index=False)\n",
    "\n",
    "# df_top = df.drop_duplicates(subset=['Leaderboard name']).sort_values(by='#Release organization', ascending=False).head(10)\n",
    "# print(f\"{df_top['Leaderboard name'].iloc[0]} holds the highest number of release organizations up to {int(df_top['#Release organization'].iloc[0])}.\")\n",
    "\n",
    "# fig = go.Figure(go.Bar(\n",
    "#         x=df_top['#Release organization'],  # Values for the bar lengths\n",
    "#         y=df_top['Leaderboard name'],  # Categories for each bar\n",
    "#         orientation='h',  # Sets the bars to be horizontal\n",
    "#         text=df_top['#Release organization'],  # Adds the values as text on each bar\n",
    "#         textposition='auto'  # Automatically positions the text on the bars\n",
    "# ))\n",
    "# fig.update_layout(\n",
    "#         xaxis_title='Number of Release Organization',\n",
    "#         yaxis_title='Leaderboard Name',\n",
    "#         yaxis_autorange='reversed'  # This line makes the bars go top-down\n",
    "# )\n",
    "# # Update the layout for a tighter look\n",
    "# fig.update_layout(\n",
    "#     autosize=True,\n",
    "#     margin=dict(\n",
    "#         l=10,  # Left margin\n",
    "#         r=10,  # Right margin\n",
    "#         b=10,  # Bottom margin\n",
    "#         t=10,  # Top margin\n",
    "#         pad=4  # Padding between the plot and the margin\n",
    "#     )\n",
    "# )\n",
    "# fig.show()\n"
   ]
  },
  {
   "cell_type": "code",
   "execution_count": 13,
   "metadata": {},
   "outputs": [
    {
     "name": "stdout",
     "output_type": "stream",
     "text": [
      "85.1% (377 out of 443) leaderboards are associated with specific publications, including research articles, blog posts, and white papers.\n",
      "61.54% (232 out of 377) publications have been accepted in a specific workshop, conference, magzine, or journal.\n",
      "EMNLP emerges as the conference with the most number of accepted publications, accounting for 16.81% (39 out of 232) of those published.\n"
     ]
    },
    {
     "data": {
      "application/vnd.plotly.v1+json": {
       "config": {
        "plotlyServerURL": "https://plot.ly"
       },
       "data": [
        {
         "orientation": "h",
         "text": [
          16.81,
          10.78,
          9.05,
          8.19,
          5.6,
          5.6,
          5.17,
          5.17,
          4.31,
          3.45
         ],
         "textposition": "auto",
         "type": "bar",
         "x": [
          39,
          25,
          21,
          19,
          13,
          13,
          12,
          12,
          10,
          8
         ],
         "y": [
          "EMNLP",
          "NeurIPS",
          "ACL",
          "CVPR",
          "NAACL",
          "ICCV",
          "AAAI",
          "ICLR",
          "ECCV",
          "TACL"
         ]
        }
       ],
       "layout": {
        "template": {
         "data": {
          "bar": [
           {
            "error_x": {
             "color": "#2a3f5f"
            },
            "error_y": {
             "color": "#2a3f5f"
            },
            "marker": {
             "line": {
              "color": "#E5ECF6",
              "width": 0.5
             },
             "pattern": {
              "fillmode": "overlay",
              "size": 10,
              "solidity": 0.2
             }
            },
            "type": "bar"
           }
          ],
          "barpolar": [
           {
            "marker": {
             "line": {
              "color": "#E5ECF6",
              "width": 0.5
             },
             "pattern": {
              "fillmode": "overlay",
              "size": 10,
              "solidity": 0.2
             }
            },
            "type": "barpolar"
           }
          ],
          "carpet": [
           {
            "aaxis": {
             "endlinecolor": "#2a3f5f",
             "gridcolor": "white",
             "linecolor": "white",
             "minorgridcolor": "white",
             "startlinecolor": "#2a3f5f"
            },
            "baxis": {
             "endlinecolor": "#2a3f5f",
             "gridcolor": "white",
             "linecolor": "white",
             "minorgridcolor": "white",
             "startlinecolor": "#2a3f5f"
            },
            "type": "carpet"
           }
          ],
          "choropleth": [
           {
            "colorbar": {
             "outlinewidth": 0,
             "ticks": ""
            },
            "type": "choropleth"
           }
          ],
          "contour": [
           {
            "colorbar": {
             "outlinewidth": 0,
             "ticks": ""
            },
            "colorscale": [
             [
              0,
              "#0d0887"
             ],
             [
              0.1111111111111111,
              "#46039f"
             ],
             [
              0.2222222222222222,
              "#7201a8"
             ],
             [
              0.3333333333333333,
              "#9c179e"
             ],
             [
              0.4444444444444444,
              "#bd3786"
             ],
             [
              0.5555555555555556,
              "#d8576b"
             ],
             [
              0.6666666666666666,
              "#ed7953"
             ],
             [
              0.7777777777777778,
              "#fb9f3a"
             ],
             [
              0.8888888888888888,
              "#fdca26"
             ],
             [
              1,
              "#f0f921"
             ]
            ],
            "type": "contour"
           }
          ],
          "contourcarpet": [
           {
            "colorbar": {
             "outlinewidth": 0,
             "ticks": ""
            },
            "type": "contourcarpet"
           }
          ],
          "heatmap": [
           {
            "colorbar": {
             "outlinewidth": 0,
             "ticks": ""
            },
            "colorscale": [
             [
              0,
              "#0d0887"
             ],
             [
              0.1111111111111111,
              "#46039f"
             ],
             [
              0.2222222222222222,
              "#7201a8"
             ],
             [
              0.3333333333333333,
              "#9c179e"
             ],
             [
              0.4444444444444444,
              "#bd3786"
             ],
             [
              0.5555555555555556,
              "#d8576b"
             ],
             [
              0.6666666666666666,
              "#ed7953"
             ],
             [
              0.7777777777777778,
              "#fb9f3a"
             ],
             [
              0.8888888888888888,
              "#fdca26"
             ],
             [
              1,
              "#f0f921"
             ]
            ],
            "type": "heatmap"
           }
          ],
          "heatmapgl": [
           {
            "colorbar": {
             "outlinewidth": 0,
             "ticks": ""
            },
            "colorscale": [
             [
              0,
              "#0d0887"
             ],
             [
              0.1111111111111111,
              "#46039f"
             ],
             [
              0.2222222222222222,
              "#7201a8"
             ],
             [
              0.3333333333333333,
              "#9c179e"
             ],
             [
              0.4444444444444444,
              "#bd3786"
             ],
             [
              0.5555555555555556,
              "#d8576b"
             ],
             [
              0.6666666666666666,
              "#ed7953"
             ],
             [
              0.7777777777777778,
              "#fb9f3a"
             ],
             [
              0.8888888888888888,
              "#fdca26"
             ],
             [
              1,
              "#f0f921"
             ]
            ],
            "type": "heatmapgl"
           }
          ],
          "histogram": [
           {
            "marker": {
             "pattern": {
              "fillmode": "overlay",
              "size": 10,
              "solidity": 0.2
             }
            },
            "type": "histogram"
           }
          ],
          "histogram2d": [
           {
            "colorbar": {
             "outlinewidth": 0,
             "ticks": ""
            },
            "colorscale": [
             [
              0,
              "#0d0887"
             ],
             [
              0.1111111111111111,
              "#46039f"
             ],
             [
              0.2222222222222222,
              "#7201a8"
             ],
             [
              0.3333333333333333,
              "#9c179e"
             ],
             [
              0.4444444444444444,
              "#bd3786"
             ],
             [
              0.5555555555555556,
              "#d8576b"
             ],
             [
              0.6666666666666666,
              "#ed7953"
             ],
             [
              0.7777777777777778,
              "#fb9f3a"
             ],
             [
              0.8888888888888888,
              "#fdca26"
             ],
             [
              1,
              "#f0f921"
             ]
            ],
            "type": "histogram2d"
           }
          ],
          "histogram2dcontour": [
           {
            "colorbar": {
             "outlinewidth": 0,
             "ticks": ""
            },
            "colorscale": [
             [
              0,
              "#0d0887"
             ],
             [
              0.1111111111111111,
              "#46039f"
             ],
             [
              0.2222222222222222,
              "#7201a8"
             ],
             [
              0.3333333333333333,
              "#9c179e"
             ],
             [
              0.4444444444444444,
              "#bd3786"
             ],
             [
              0.5555555555555556,
              "#d8576b"
             ],
             [
              0.6666666666666666,
              "#ed7953"
             ],
             [
              0.7777777777777778,
              "#fb9f3a"
             ],
             [
              0.8888888888888888,
              "#fdca26"
             ],
             [
              1,
              "#f0f921"
             ]
            ],
            "type": "histogram2dcontour"
           }
          ],
          "mesh3d": [
           {
            "colorbar": {
             "outlinewidth": 0,
             "ticks": ""
            },
            "type": "mesh3d"
           }
          ],
          "parcoords": [
           {
            "line": {
             "colorbar": {
              "outlinewidth": 0,
              "ticks": ""
             }
            },
            "type": "parcoords"
           }
          ],
          "pie": [
           {
            "automargin": true,
            "type": "pie"
           }
          ],
          "scatter": [
           {
            "fillpattern": {
             "fillmode": "overlay",
             "size": 10,
             "solidity": 0.2
            },
            "type": "scatter"
           }
          ],
          "scatter3d": [
           {
            "line": {
             "colorbar": {
              "outlinewidth": 0,
              "ticks": ""
             }
            },
            "marker": {
             "colorbar": {
              "outlinewidth": 0,
              "ticks": ""
             }
            },
            "type": "scatter3d"
           }
          ],
          "scattercarpet": [
           {
            "marker": {
             "colorbar": {
              "outlinewidth": 0,
              "ticks": ""
             }
            },
            "type": "scattercarpet"
           }
          ],
          "scattergeo": [
           {
            "marker": {
             "colorbar": {
              "outlinewidth": 0,
              "ticks": ""
             }
            },
            "type": "scattergeo"
           }
          ],
          "scattergl": [
           {
            "marker": {
             "colorbar": {
              "outlinewidth": 0,
              "ticks": ""
             }
            },
            "type": "scattergl"
           }
          ],
          "scattermapbox": [
           {
            "marker": {
             "colorbar": {
              "outlinewidth": 0,
              "ticks": ""
             }
            },
            "type": "scattermapbox"
           }
          ],
          "scatterpolar": [
           {
            "marker": {
             "colorbar": {
              "outlinewidth": 0,
              "ticks": ""
             }
            },
            "type": "scatterpolar"
           }
          ],
          "scatterpolargl": [
           {
            "marker": {
             "colorbar": {
              "outlinewidth": 0,
              "ticks": ""
             }
            },
            "type": "scatterpolargl"
           }
          ],
          "scatterternary": [
           {
            "marker": {
             "colorbar": {
              "outlinewidth": 0,
              "ticks": ""
             }
            },
            "type": "scatterternary"
           }
          ],
          "surface": [
           {
            "colorbar": {
             "outlinewidth": 0,
             "ticks": ""
            },
            "colorscale": [
             [
              0,
              "#0d0887"
             ],
             [
              0.1111111111111111,
              "#46039f"
             ],
             [
              0.2222222222222222,
              "#7201a8"
             ],
             [
              0.3333333333333333,
              "#9c179e"
             ],
             [
              0.4444444444444444,
              "#bd3786"
             ],
             [
              0.5555555555555556,
              "#d8576b"
             ],
             [
              0.6666666666666666,
              "#ed7953"
             ],
             [
              0.7777777777777778,
              "#fb9f3a"
             ],
             [
              0.8888888888888888,
              "#fdca26"
             ],
             [
              1,
              "#f0f921"
             ]
            ],
            "type": "surface"
           }
          ],
          "table": [
           {
            "cells": {
             "fill": {
              "color": "#EBF0F8"
             },
             "line": {
              "color": "white"
             }
            },
            "header": {
             "fill": {
              "color": "#C8D4E3"
             },
             "line": {
              "color": "white"
             }
            },
            "type": "table"
           }
          ]
         },
         "layout": {
          "annotationdefaults": {
           "arrowcolor": "#2a3f5f",
           "arrowhead": 0,
           "arrowwidth": 1
          },
          "autotypenumbers": "strict",
          "coloraxis": {
           "colorbar": {
            "outlinewidth": 0,
            "ticks": ""
           }
          },
          "colorscale": {
           "diverging": [
            [
             0,
             "#8e0152"
            ],
            [
             0.1,
             "#c51b7d"
            ],
            [
             0.2,
             "#de77ae"
            ],
            [
             0.3,
             "#f1b6da"
            ],
            [
             0.4,
             "#fde0ef"
            ],
            [
             0.5,
             "#f7f7f7"
            ],
            [
             0.6,
             "#e6f5d0"
            ],
            [
             0.7,
             "#b8e186"
            ],
            [
             0.8,
             "#7fbc41"
            ],
            [
             0.9,
             "#4d9221"
            ],
            [
             1,
             "#276419"
            ]
           ],
           "sequential": [
            [
             0,
             "#0d0887"
            ],
            [
             0.1111111111111111,
             "#46039f"
            ],
            [
             0.2222222222222222,
             "#7201a8"
            ],
            [
             0.3333333333333333,
             "#9c179e"
            ],
            [
             0.4444444444444444,
             "#bd3786"
            ],
            [
             0.5555555555555556,
             "#d8576b"
            ],
            [
             0.6666666666666666,
             "#ed7953"
            ],
            [
             0.7777777777777778,
             "#fb9f3a"
            ],
            [
             0.8888888888888888,
             "#fdca26"
            ],
            [
             1,
             "#f0f921"
            ]
           ],
           "sequentialminus": [
            [
             0,
             "#0d0887"
            ],
            [
             0.1111111111111111,
             "#46039f"
            ],
            [
             0.2222222222222222,
             "#7201a8"
            ],
            [
             0.3333333333333333,
             "#9c179e"
            ],
            [
             0.4444444444444444,
             "#bd3786"
            ],
            [
             0.5555555555555556,
             "#d8576b"
            ],
            [
             0.6666666666666666,
             "#ed7953"
            ],
            [
             0.7777777777777778,
             "#fb9f3a"
            ],
            [
             0.8888888888888888,
             "#fdca26"
            ],
            [
             1,
             "#f0f921"
            ]
           ]
          },
          "colorway": [
           "#636efa",
           "#EF553B",
           "#00cc96",
           "#ab63fa",
           "#FFA15A",
           "#19d3f3",
           "#FF6692",
           "#B6E880",
           "#FF97FF",
           "#FECB52"
          ],
          "font": {
           "color": "#2a3f5f"
          },
          "geo": {
           "bgcolor": "white",
           "lakecolor": "white",
           "landcolor": "#E5ECF6",
           "showlakes": true,
           "showland": true,
           "subunitcolor": "white"
          },
          "hoverlabel": {
           "align": "left"
          },
          "hovermode": "closest",
          "mapbox": {
           "style": "light"
          },
          "paper_bgcolor": "white",
          "plot_bgcolor": "#E5ECF6",
          "polar": {
           "angularaxis": {
            "gridcolor": "white",
            "linecolor": "white",
            "ticks": ""
           },
           "bgcolor": "#E5ECF6",
           "radialaxis": {
            "gridcolor": "white",
            "linecolor": "white",
            "ticks": ""
           }
          },
          "scene": {
           "xaxis": {
            "backgroundcolor": "#E5ECF6",
            "gridcolor": "white",
            "gridwidth": 2,
            "linecolor": "white",
            "showbackground": true,
            "ticks": "",
            "zerolinecolor": "white"
           },
           "yaxis": {
            "backgroundcolor": "#E5ECF6",
            "gridcolor": "white",
            "gridwidth": 2,
            "linecolor": "white",
            "showbackground": true,
            "ticks": "",
            "zerolinecolor": "white"
           },
           "zaxis": {
            "backgroundcolor": "#E5ECF6",
            "gridcolor": "white",
            "gridwidth": 2,
            "linecolor": "white",
            "showbackground": true,
            "ticks": "",
            "zerolinecolor": "white"
           }
          },
          "shapedefaults": {
           "line": {
            "color": "#2a3f5f"
           }
          },
          "ternary": {
           "aaxis": {
            "gridcolor": "white",
            "linecolor": "white",
            "ticks": ""
           },
           "baxis": {
            "gridcolor": "white",
            "linecolor": "white",
            "ticks": ""
           },
           "bgcolor": "#E5ECF6",
           "caxis": {
            "gridcolor": "white",
            "linecolor": "white",
            "ticks": ""
           }
          },
          "title": {
           "x": 0.05
          },
          "xaxis": {
           "automargin": true,
           "gridcolor": "white",
           "linecolor": "white",
           "ticks": "",
           "title": {
            "standoff": 15
           },
           "zerolinecolor": "white",
           "zerolinewidth": 2
          },
          "yaxis": {
           "automargin": true,
           "gridcolor": "white",
           "linecolor": "white",
           "ticks": "",
           "title": {
            "standoff": 15
           },
           "zerolinecolor": "white",
           "zerolinewidth": 2
          }
         }
        },
        "title": {
         "text": "Number of Leaderboards with Accepted Publications across Publication Venues (Top 10)"
        },
        "xaxis": {
         "title": {
          "text": "Leaderboard Number"
         }
        },
        "yaxis": {
         "autorange": "reversed",
         "title": {
          "text": "Publication Name"
         }
        }
       }
      }
     },
     "metadata": {},
     "output_type": "display_data"
    }
   ],
   "source": [
    "df = pd.read_csv(path_meta / 'leaderboard_processed.csv')\n",
    "df['Publication venues'] = df['Publication venues'].apply(ast.literal_eval)\n",
    "df_pub = df[df['Publication venues'].apply(len) > 0]\n",
    "print(f\"{round(len(df_pub)/len(df)*100,2)}% ({len(df_pub)} out of {len(df)}) leaderboards are associated with specific publications, including research articles, blog posts, and white papers.\")\n",
    "\n",
    "df_literature = filter_rows_by_list_column(df_pub, 'Publication venues', non_literature_type)\n",
    "print(f\"{round(len(df_literature)/len(df_pub)*100,2)}% ({len(df_literature)} out of {len(df_pub)}) publications have been accepted in a specific workshop, conference, magzine, or journal.\")\n",
    "df_split = df_literature.explode('Publication venues').groupby('Publication venues').size().reset_index(name='Frequency')\n",
    "df_split['Weight'] = 1\n",
    "\n",
    "statistics = {\n",
    "    'Distribution': 'Leaderboards across Publication Venues',\n",
    "    'Mean': np.mean(df_split['Frequency']),\n",
    "    'Median': np.median(df_split['Frequency']),\n",
    "    'IQR': df_split['Frequency'].quantile(0.75) - df_split['Frequency'].quantile(0.25),\n",
    "    'Gini Coefficient': ineqpy.inequality.gini(data=df_split, income='Frequency', weights='Weight'),\n",
    "}\n",
    "if os.path.exists(path_meta / 'leaderboard_statistics.csv'):\n",
    "    df_statistics = pd.read_csv(path_meta / 'leaderboard_statistics.csv')\n",
    "else:\n",
    "    df_statistics = pd.DataFrame()\n",
    "df_statistics = pd.concat([df_statistics, pd.DataFrame([statistics])], ignore_index=True)\n",
    "df_statistics.drop_duplicates(subset=['Distribution'], keep='last', inplace=True)\n",
    "df_statistics.sort_values(by='Distribution', inplace=True)\n",
    "df_statistics.to_csv(path_meta / 'leaderboard_statistics.csv', index=False)\n",
    "\n",
    "df_top = df_split.sort_values(by='Frequency', ascending=False).head(10)\n",
    "print(f\"{df_top['Publication venues'].iloc[0]} emerges as the conference with the most number of accepted publications, accounting for {round(df_top['Frequency'].iloc[0]/len(df_literature)*100,2)}% ({df_top['Frequency'].iloc[0]} out of {len(df_literature)}) of those published.\")\n",
    "\n",
    "df_top['Ratio'] = round(df_top['Frequency'] / len(df_literature) * 100, 2)\n",
    "\n",
    "fig = go.Figure(go.Bar(\n",
    "        x=df_top['Frequency'],  # Values for the bar lengths\n",
    "        y=df_top['Publication venues'],  # Categories for each bar\n",
    "        orientation='h',  # Sets the bars to be horizontal\n",
    "        text=df_top['Ratio'],  # Adds the values as text on each bar\n",
    "        textposition='auto'  # Automatically positions the text on the bars\n",
    "))\n",
    "fig.update_layout(\n",
    "        title=f'Number of Leaderboards with Accepted Publications across Publication Venues (Top 10)',\n",
    "        xaxis_title='Leaderboard Number',\n",
    "        yaxis_title='Publication Name',\n",
    "        yaxis_autorange='reversed'  # This line makes the bars go top-down\n",
    ")\n",
    "fig.show()\n"
   ]
  },
  {
   "cell_type": "code",
   "execution_count": 14,
   "metadata": {},
   "outputs": [],
   "source": [
    "# df = pd.read_csv(path_meta / 'leaderboard_processed.csv')\n",
    "\n",
    "# statistics = {\n",
    "#     'Distribution': 'Participative Models across Leaderboards',\n",
    "#     'Mean': np.mean(df['#Participative model']),\n",
    "#     'Median': np.median(df['#Participative model']),\n",
    "#     'IQR': df['#Participative model'].quantile(0.75) - df['#Participative model'].quantile(0.25),\n",
    "# }\n",
    "# if os.path.exists(path_meta / 'leaderboard_statistics.csv'):\n",
    "#     df_statistics = pd.read_csv(path_meta / 'leaderboard_statistics.csv')\n",
    "# else:\n",
    "#     df_statistics = pd.DataFrame()\n",
    "# df_statistics = pd.concat([df_statistics, pd.DataFrame([statistics])], ignore_index=True)\n",
    "# df_statistics.drop_duplicates(subset=['Distribution'], keep='last', inplace=True)\n",
    "# df_statistics.sort_values(by='Distribution', inplace=True)\n",
    "# df_statistics.to_csv(path_meta / 'leaderboard_statistics.csv', index=False)\n",
    "\n",
    "# df_top = df.drop_duplicates(subset=['Leaderboard name']).sort_values(by='#Participative model', ascending=False).head(10)\n",
    "# print(f\"{df_top['Leaderboard name'].iloc[0]} has the highest number of {int(df_top['#Participative model'].iloc[0])} participative models.\")\n",
    "\n",
    "# fig = go.Figure(go.Bar(\n",
    "#         x=df_top['#Participative model'],  # Values for the bar lengths\n",
    "#         y=df_top['Leaderboard name'],  # Categories for each bar\n",
    "#         orientation='h',  # Sets the bars to be horizontal\n",
    "#         text=df_top['#Participative model'],  # Adds the values as text on each bar\n",
    "#         textposition='auto'  # Automatically positions the text on the bars\n",
    "# ))\n",
    "# fig.update_layout(\n",
    "#         xaxis_title='Number of Participative Models',\n",
    "#         yaxis_title='Leaderboard Name',\n",
    "#         yaxis_autorange='reversed'  # This line makes the bars go top-down\n",
    "# )\n",
    "# # Update the layout for a tighter look\n",
    "# fig.update_layout(\n",
    "#     autosize=True,\n",
    "#     margin=dict(\n",
    "#         l=10,  # Left margin\n",
    "#         r=10,  # Right margin\n",
    "#         b=10,  # Bottom margin\n",
    "#         t=10,  # Top margin\n",
    "#         pad=4  # Padding between the plot and the margin\n",
    "#     )\n",
    "# )\n",
    "# fig.show()\n"
   ]
  },
  {
   "cell_type": "code",
   "execution_count": 15,
   "metadata": {},
   "outputs": [],
   "source": [
    "# df = pd.read_csv(path_meta / 'leaderboard_processed.csv')\n",
    "# df = df[df['Platforms'] == \"['Papers With Code']\"]\n",
    "\n",
    "# statistics = {\n",
    "#     'Distribution': 'Evaluation Metrics across Leaderboards',\n",
    "#     'Mean': np.mean(df['#Evaluation metric (pwc)']),\n",
    "#     'Median': np.median(df['#Evaluation metric (pwc)']),\n",
    "#     'IQR': df['#Evaluation metric (pwc)'].quantile(0.75) - df['#Evaluation metric (pwc)'].quantile(0.25),\n",
    "# }\n",
    "# if os.path.exists(path_meta / 'leaderboard_statistics.csv'):\n",
    "#     df_statistics = pd.read_csv(path_meta / 'leaderboard_statistics.csv')\n",
    "# else:\n",
    "#     df_statistics = pd.DataFrame()\n",
    "# df_statistics = pd.concat([df_statistics, pd.DataFrame([statistics])], ignore_index=True)\n",
    "# df_statistics.drop_duplicates(subset=['Distribution'], keep='last', inplace=True)\n",
    "# df_statistics.sort_values(by='Distribution', inplace=True)\n",
    "# df_statistics.to_csv(path_meta / 'leaderboard_statistics.csv', index=False)\n",
    "\n",
    "# df_top = df.drop_duplicates(subset=['Leaderboard name']).sort_values(by='#Evaluation metric (pwc)', ascending=False).head(10)\n",
    "# print(f\"{df_top['Leaderboard name'].iloc[0]} has the highest number of {int(df_top['#Evaluation metric (pwc)'].iloc[0])} evaluation metrics.\")\n",
    "\n",
    "# fig = go.Figure(go.Bar(\n",
    "#         x=df_top['#Evaluation metric (pwc)'],  # Values for the bar lengths\n",
    "#         y=df_top['Leaderboard name'],  # Categories for each bar\n",
    "#         orientation='h',  # Sets the bars to be horizontal\n",
    "#         text=df_top['#Evaluation metric (pwc)'],  # Adds the values as text on each bar\n",
    "#         textposition='auto'  # Automatically positions the text on the bars\n",
    "# ))\n",
    "# fig.update_layout(\n",
    "#         xaxis_title='Number of Evaluation Metrics',\n",
    "#         yaxis_title='Leaderboard Name',\n",
    "#         yaxis_autorange='reversed'  # This line makes the bars go top-down\n",
    "# )\n",
    "# # Update the layout for a tighter look\n",
    "# fig.update_layout(\n",
    "#     autosize=True,\n",
    "#     margin=dict(\n",
    "#         l=10,  # Left margin\n",
    "#         r=10,  # Right margin\n",
    "#         b=10,  # Bottom margin\n",
    "#         t=10,  # Top margin\n",
    "#         pad=4  # Padding between the plot and the margin\n",
    "#     )\n",
    "# )\n",
    "# fig.show()\n"
   ]
  },
  {
   "cell_type": "code",
   "execution_count": 16,
   "metadata": {},
   "outputs": [],
   "source": [
    "# df = pd.read_csv(path_meta / 'leaderboard_processed.csv')\n",
    "# df = df[df['Platforms'] == \"['Papers With Code']\"]\n",
    "# df['Evaluation metrics (pwc)'] = df['Evaluation metrics (pwc)'].apply(ast.literal_eval)\n",
    "\n",
    "# df_split = df.explode('Evaluation metrics (pwc)').groupby('Evaluation metrics (pwc)').size().reset_index(name='Frequency')\n",
    "# df_split['Weight'] = 1\n",
    "\n",
    "# statistics = {\n",
    "#     'Distribution': 'Leaderboards across Evaluation Metrics',\n",
    "#     'Mean': np.mean(df_split['Frequency']),\n",
    "#     'Median': np.median(df_split['Frequency']),\n",
    "#     'IQR': df_split['Frequency'].quantile(0.75) - df_split['Frequency'].quantile(0.25),\n",
    "#     'Gini Coefficient': ineqpy.inequality.gini(data=df_split, income='Frequency', weights='Weight'),\n",
    "# }\n",
    "# if os.path.exists(path_meta / 'leaderboard_statistics.csv'):\n",
    "#     df_statistics = pd.read_csv(path_meta / 'leaderboard_statistics.csv')\n",
    "# else:\n",
    "#     df_statistics = pd.DataFrame()\n",
    "# df_statistics = pd.concat([df_statistics, pd.DataFrame([statistics])], ignore_index=True)\n",
    "# df_statistics.drop_duplicates(subset=['Distribution'], keep='last', inplace=True)\n",
    "# df_statistics.sort_values(by='Distribution', inplace=True)\n",
    "# df_statistics.to_csv(path_meta / 'leaderboard_statistics.csv', index=False)\n",
    "\n",
    "# df_top = df_split.drop_duplicates(subset=['Evaluation metrics (pwc)']).sort_values(by='Frequency', ascending=False).head(10)\n",
    "# print(f\"{df_top['Evaluation metrics (pwc)'].iloc[0]} is the most prevalent evaluation metrics in {round(df_top['Frequency'].iloc[0]/len(df)*100,2)}% ({df_top['Frequency'].iloc[0]} out of {len(df)}) leaderboards.\")\n",
    "\n",
    "# fig = go.Figure(go.Bar(\n",
    "#         x=df_top['Frequency'],  # Values for the bar lengths\n",
    "#         y=df_top['Evaluation metrics (pwc)'],  # Categories for each bar\n",
    "#         orientation='h',  # Sets the bars to be horizontal\n",
    "#         text=df_top['Frequency'],  # Adds the values as text on each bar\n",
    "#         textposition='auto'  # Automatically positions the text on the bars\n",
    "# ))\n",
    "# fig.update_layout(\n",
    "#         xaxis_title='Leaderboard Number',\n",
    "#         yaxis_title='Evaluation Metric',\n",
    "#         yaxis_autorange='reversed'  # This line makes the bars go top-down\n",
    "# )\n",
    "# # Update the layout for a tighter look\n",
    "# fig.update_layout(\n",
    "#     autosize=True,\n",
    "#     margin=dict(\n",
    "#         l=10,  # Left margin\n",
    "#         r=10,  # Right margin\n",
    "#         b=10,  # Bottom margin\n",
    "#         t=10,  # Top margin\n",
    "#         pad=4  # Padding between the plot and the margin\n",
    "#     )\n",
    "# )\n",
    "# fig.show()"
   ]
  },
  {
   "cell_type": "code",
   "execution_count": 17,
   "metadata": {},
   "outputs": [],
   "source": [
    "# df = pd.read_csv(path_meta / 'leaderboard_processed.csv')\n",
    "# df['Weight'] = 1\n",
    "\n",
    "# statistics = {\n",
    "#     'Distribution': 'Leaderboards across Leaderboards',\n",
    "#     'Mean': np.mean(df['#Leaderboard']),\n",
    "#     'Median': np.median(df['#Leaderboard']),\n",
    "#     'IQR': df['#Leaderboard'].quantile(0.75) - df['#Leaderboard'].quantile(0.25),\n",
    "#     'Gini Coefficient': ineqpy.inequality.gini(data=df, income='#Leaderboard', weights='Weight'),\n",
    "# }\n",
    "# if os.path.exists(path_meta / 'leaderboard_statistics.csv'):\n",
    "#     df_statistics = pd.read_csv(path_meta / 'leaderboard_statistics.csv')\n",
    "# else:\n",
    "#     df_statistics = pd.DataFrame()\n",
    "# df_statistics = pd.concat([df_statistics, pd.DataFrame([statistics])], ignore_index=True)\n",
    "# df_statistics.drop_duplicates(subset=['Distribution'], keep='last', inplace=True)\n",
    "# df_statistics.sort_values(by='Distribution', inplace=True)\n",
    "# df_statistics.to_csv(path_meta / 'leaderboard_statistics.csv', index=False)\n",
    "\n",
    "# df_top = df.drop_duplicates(subset=['Leaderboard name']).sort_values(by='#Leaderboard', ascending=False).head(10)\n",
    "# print(f\"{df_top['Leaderboard name'].iloc[0]} has the highest number of {int(df_top['#Leaderboard'].iloc[0])} leaderboards.\")\n",
    "\n",
    "# fig = go.Figure(go.Bar(\n",
    "#         x=df_top['#Leaderboard'],  # Values for the bar lengths\n",
    "#         y=df_top['Leaderboard name'],  # Categories for each bar\n",
    "#         orientation='h',  # Sets the bars to be horizontal\n",
    "#         text=df_top['#Leaderboard'],  # Adds the values as text on each bar\n",
    "#         textposition='auto'  # Automatically positions the text on the bars\n",
    "# ))\n",
    "# fig.update_layout(\n",
    "#         xaxis_title='Split Number',\n",
    "#         yaxis_title='Leaderboard Name',\n",
    "#         yaxis_autorange='reversed'  # This line makes the bars go top-down\n",
    "# )\n",
    "# # Update the layout for a tighter look\n",
    "# fig.update_layout(\n",
    "#     autosize=True,\n",
    "#     margin=dict(\n",
    "#         l=10,  # Left margin\n",
    "#         r=10,  # Right margin\n",
    "#         b=10,  # Bottom margin\n",
    "#         t=10,  # Top margin\n",
    "#         pad=4  # Padding between the plot and the margin\n",
    "#     )\n",
    "# )\n",
    "# fig.show()\n"
   ]
  },
  {
   "cell_type": "code",
   "execution_count": 18,
   "metadata": {},
   "outputs": [],
   "source": [
    "# df = pd.read_csv(path_meta / 'leaderboard_processed.csv')\n",
    "# df['Weight'] = 1\n",
    "\n",
    "# statistics = {\n",
    "#     'Distribution': 'Evaluation Records across Leaderboards',\n",
    "#     'Mean': np.mean(df['#Evaluation record']),\n",
    "#     'Median': np.median(df['#Evaluation record']),\n",
    "#     'IQR': df['#Evaluation record'].quantile(0.75) - df['#Evaluation record'].quantile(0.25),\n",
    "#     'Gini Coefficient': ineqpy.inequality.gini(data=df, income='#Evaluation record', weights='Weight'),\n",
    "# }\n",
    "# if os.path.exists(path_meta / 'leaderboard_statistics.csv'):\n",
    "#     df_statistics = pd.read_csv(path_meta / 'leaderboard_statistics.csv')\n",
    "# else:\n",
    "#     df_statistics = pd.DataFrame()\n",
    "# df_statistics = pd.concat([df_statistics, pd.DataFrame([statistics])], ignore_index=True)\n",
    "# df_statistics.drop_duplicates(subset=['Distribution'], keep='last', inplace=True)\n",
    "# df_statistics.sort_values(by='Distribution', inplace=True)\n",
    "# df_statistics.to_csv(path_meta / 'leaderboard_statistics.csv', index=False)\n",
    "\n",
    "# df_top = df.drop_duplicates(subset=['Leaderboard name']).sort_values(by='#Evaluation record', ascending=False).head(10)\n",
    "# print(f\"{df_top['Leaderboard name'].iloc[0]} has the highest number of {int(df_top['#Evaluation record'].iloc[0])} evaluation records.\")\n",
    "\n",
    "# fig = go.Figure(go.Bar(\n",
    "#         x=df_top['#Evaluation record'],  # Values for the bar lengths\n",
    "#         y=df_top['Leaderboard name'],  # Categories for each bar\n",
    "#         orientation='h',  # Sets the bars to be horizontal\n",
    "#         text=df_top['#Evaluation record'],  # Adds the values as text on each bar\n",
    "#         textposition='auto'  # Automatically positions the text on the bars\n",
    "# ))\n",
    "# fig.update_layout(\n",
    "#         xaxis_title='Number of Evaluation Records',\n",
    "#         yaxis_title='Leaderboard Name',\n",
    "#         yaxis_autorange='reversed'  # This line makes the bars go top-down\n",
    "# )\n",
    "# # Update the layout for a tighter look\n",
    "# fig.update_layout(\n",
    "#     autosize=True,\n",
    "#     margin=dict(\n",
    "#         l=10,  # Left margin\n",
    "#         r=10,  # Right margin\n",
    "#         b=10,  # Bottom margin\n",
    "#         t=10,  # Top margin\n",
    "#         pad=4  # Padding between the plot and the margin\n",
    "#     )\n",
    "# )\n",
    "# fig.show()\n"
   ]
  },
  {
   "cell_type": "code",
   "execution_count": 19,
   "metadata": {},
   "outputs": [
    {
     "name": "stdout",
     "output_type": "stream",
     "text": [
      "Type 1 is the most prevalent (214 out of 443) workflow type that accounts for 48.31%.\n",
      "In Type 1, 88.32% (189 out of 214) of the leaderboards are hosted on Papers With Code.\n",
      "There are 3.54% (9 out of 254) non-PWC leaderboards with unknown workflow types.\n"
     ]
    },
    {
     "data": {
      "application/vnd.plotly.v1+json": {
       "config": {
        "plotlyServerURL": "https://plot.ly"
       },
       "data": [
        {
         "alignmentgroup": "True",
         "hovertemplate": "Leaderboard development workflows=%{x}<br>Leaderboard Number=%{y}<extra></extra>",
         "legendgroup": "",
         "marker": {
          "color": "#636efa",
          "pattern": {
           "shape": ""
          }
         },
         "name": "",
         "offsetgroup": "",
         "orientation": "v",
         "showlegend": false,
         "textposition": "auto",
         "texttemplate": "%{y}",
         "type": "bar",
         "x": [
          "Type 1",
          "Type 6",
          "Type 2",
          "Type 4",
          "Unknown",
          "Type 5",
          "Type 8",
          "Type 3",
          "Type 7"
         ],
         "xaxis": "x",
         "y": [
          48.31,
          23.02,
          15.58,
          10.61,
          2.03,
          0.9,
          0.68,
          0.45,
          0.23
         ],
         "yaxis": "y"
        }
       ],
       "layout": {
        "barmode": "relative",
        "legend": {
         "tracegroupgap": 0
        },
        "template": {
         "data": {
          "bar": [
           {
            "error_x": {
             "color": "#2a3f5f"
            },
            "error_y": {
             "color": "#2a3f5f"
            },
            "marker": {
             "line": {
              "color": "#E5ECF6",
              "width": 0.5
             },
             "pattern": {
              "fillmode": "overlay",
              "size": 10,
              "solidity": 0.2
             }
            },
            "type": "bar"
           }
          ],
          "barpolar": [
           {
            "marker": {
             "line": {
              "color": "#E5ECF6",
              "width": 0.5
             },
             "pattern": {
              "fillmode": "overlay",
              "size": 10,
              "solidity": 0.2
             }
            },
            "type": "barpolar"
           }
          ],
          "carpet": [
           {
            "aaxis": {
             "endlinecolor": "#2a3f5f",
             "gridcolor": "white",
             "linecolor": "white",
             "minorgridcolor": "white",
             "startlinecolor": "#2a3f5f"
            },
            "baxis": {
             "endlinecolor": "#2a3f5f",
             "gridcolor": "white",
             "linecolor": "white",
             "minorgridcolor": "white",
             "startlinecolor": "#2a3f5f"
            },
            "type": "carpet"
           }
          ],
          "choropleth": [
           {
            "colorbar": {
             "outlinewidth": 0,
             "ticks": ""
            },
            "type": "choropleth"
           }
          ],
          "contour": [
           {
            "colorbar": {
             "outlinewidth": 0,
             "ticks": ""
            },
            "colorscale": [
             [
              0,
              "#0d0887"
             ],
             [
              0.1111111111111111,
              "#46039f"
             ],
             [
              0.2222222222222222,
              "#7201a8"
             ],
             [
              0.3333333333333333,
              "#9c179e"
             ],
             [
              0.4444444444444444,
              "#bd3786"
             ],
             [
              0.5555555555555556,
              "#d8576b"
             ],
             [
              0.6666666666666666,
              "#ed7953"
             ],
             [
              0.7777777777777778,
              "#fb9f3a"
             ],
             [
              0.8888888888888888,
              "#fdca26"
             ],
             [
              1,
              "#f0f921"
             ]
            ],
            "type": "contour"
           }
          ],
          "contourcarpet": [
           {
            "colorbar": {
             "outlinewidth": 0,
             "ticks": ""
            },
            "type": "contourcarpet"
           }
          ],
          "heatmap": [
           {
            "colorbar": {
             "outlinewidth": 0,
             "ticks": ""
            },
            "colorscale": [
             [
              0,
              "#0d0887"
             ],
             [
              0.1111111111111111,
              "#46039f"
             ],
             [
              0.2222222222222222,
              "#7201a8"
             ],
             [
              0.3333333333333333,
              "#9c179e"
             ],
             [
              0.4444444444444444,
              "#bd3786"
             ],
             [
              0.5555555555555556,
              "#d8576b"
             ],
             [
              0.6666666666666666,
              "#ed7953"
             ],
             [
              0.7777777777777778,
              "#fb9f3a"
             ],
             [
              0.8888888888888888,
              "#fdca26"
             ],
             [
              1,
              "#f0f921"
             ]
            ],
            "type": "heatmap"
           }
          ],
          "heatmapgl": [
           {
            "colorbar": {
             "outlinewidth": 0,
             "ticks": ""
            },
            "colorscale": [
             [
              0,
              "#0d0887"
             ],
             [
              0.1111111111111111,
              "#46039f"
             ],
             [
              0.2222222222222222,
              "#7201a8"
             ],
             [
              0.3333333333333333,
              "#9c179e"
             ],
             [
              0.4444444444444444,
              "#bd3786"
             ],
             [
              0.5555555555555556,
              "#d8576b"
             ],
             [
              0.6666666666666666,
              "#ed7953"
             ],
             [
              0.7777777777777778,
              "#fb9f3a"
             ],
             [
              0.8888888888888888,
              "#fdca26"
             ],
             [
              1,
              "#f0f921"
             ]
            ],
            "type": "heatmapgl"
           }
          ],
          "histogram": [
           {
            "marker": {
             "pattern": {
              "fillmode": "overlay",
              "size": 10,
              "solidity": 0.2
             }
            },
            "type": "histogram"
           }
          ],
          "histogram2d": [
           {
            "colorbar": {
             "outlinewidth": 0,
             "ticks": ""
            },
            "colorscale": [
             [
              0,
              "#0d0887"
             ],
             [
              0.1111111111111111,
              "#46039f"
             ],
             [
              0.2222222222222222,
              "#7201a8"
             ],
             [
              0.3333333333333333,
              "#9c179e"
             ],
             [
              0.4444444444444444,
              "#bd3786"
             ],
             [
              0.5555555555555556,
              "#d8576b"
             ],
             [
              0.6666666666666666,
              "#ed7953"
             ],
             [
              0.7777777777777778,
              "#fb9f3a"
             ],
             [
              0.8888888888888888,
              "#fdca26"
             ],
             [
              1,
              "#f0f921"
             ]
            ],
            "type": "histogram2d"
           }
          ],
          "histogram2dcontour": [
           {
            "colorbar": {
             "outlinewidth": 0,
             "ticks": ""
            },
            "colorscale": [
             [
              0,
              "#0d0887"
             ],
             [
              0.1111111111111111,
              "#46039f"
             ],
             [
              0.2222222222222222,
              "#7201a8"
             ],
             [
              0.3333333333333333,
              "#9c179e"
             ],
             [
              0.4444444444444444,
              "#bd3786"
             ],
             [
              0.5555555555555556,
              "#d8576b"
             ],
             [
              0.6666666666666666,
              "#ed7953"
             ],
             [
              0.7777777777777778,
              "#fb9f3a"
             ],
             [
              0.8888888888888888,
              "#fdca26"
             ],
             [
              1,
              "#f0f921"
             ]
            ],
            "type": "histogram2dcontour"
           }
          ],
          "mesh3d": [
           {
            "colorbar": {
             "outlinewidth": 0,
             "ticks": ""
            },
            "type": "mesh3d"
           }
          ],
          "parcoords": [
           {
            "line": {
             "colorbar": {
              "outlinewidth": 0,
              "ticks": ""
             }
            },
            "type": "parcoords"
           }
          ],
          "pie": [
           {
            "automargin": true,
            "type": "pie"
           }
          ],
          "scatter": [
           {
            "fillpattern": {
             "fillmode": "overlay",
             "size": 10,
             "solidity": 0.2
            },
            "type": "scatter"
           }
          ],
          "scatter3d": [
           {
            "line": {
             "colorbar": {
              "outlinewidth": 0,
              "ticks": ""
             }
            },
            "marker": {
             "colorbar": {
              "outlinewidth": 0,
              "ticks": ""
             }
            },
            "type": "scatter3d"
           }
          ],
          "scattercarpet": [
           {
            "marker": {
             "colorbar": {
              "outlinewidth": 0,
              "ticks": ""
             }
            },
            "type": "scattercarpet"
           }
          ],
          "scattergeo": [
           {
            "marker": {
             "colorbar": {
              "outlinewidth": 0,
              "ticks": ""
             }
            },
            "type": "scattergeo"
           }
          ],
          "scattergl": [
           {
            "marker": {
             "colorbar": {
              "outlinewidth": 0,
              "ticks": ""
             }
            },
            "type": "scattergl"
           }
          ],
          "scattermapbox": [
           {
            "marker": {
             "colorbar": {
              "outlinewidth": 0,
              "ticks": ""
             }
            },
            "type": "scattermapbox"
           }
          ],
          "scatterpolar": [
           {
            "marker": {
             "colorbar": {
              "outlinewidth": 0,
              "ticks": ""
             }
            },
            "type": "scatterpolar"
           }
          ],
          "scatterpolargl": [
           {
            "marker": {
             "colorbar": {
              "outlinewidth": 0,
              "ticks": ""
             }
            },
            "type": "scatterpolargl"
           }
          ],
          "scatterternary": [
           {
            "marker": {
             "colorbar": {
              "outlinewidth": 0,
              "ticks": ""
             }
            },
            "type": "scatterternary"
           }
          ],
          "surface": [
           {
            "colorbar": {
             "outlinewidth": 0,
             "ticks": ""
            },
            "colorscale": [
             [
              0,
              "#0d0887"
             ],
             [
              0.1111111111111111,
              "#46039f"
             ],
             [
              0.2222222222222222,
              "#7201a8"
             ],
             [
              0.3333333333333333,
              "#9c179e"
             ],
             [
              0.4444444444444444,
              "#bd3786"
             ],
             [
              0.5555555555555556,
              "#d8576b"
             ],
             [
              0.6666666666666666,
              "#ed7953"
             ],
             [
              0.7777777777777778,
              "#fb9f3a"
             ],
             [
              0.8888888888888888,
              "#fdca26"
             ],
             [
              1,
              "#f0f921"
             ]
            ],
            "type": "surface"
           }
          ],
          "table": [
           {
            "cells": {
             "fill": {
              "color": "#EBF0F8"
             },
             "line": {
              "color": "white"
             }
            },
            "header": {
             "fill": {
              "color": "#C8D4E3"
             },
             "line": {
              "color": "white"
             }
            },
            "type": "table"
           }
          ]
         },
         "layout": {
          "annotationdefaults": {
           "arrowcolor": "#2a3f5f",
           "arrowhead": 0,
           "arrowwidth": 1
          },
          "autotypenumbers": "strict",
          "coloraxis": {
           "colorbar": {
            "outlinewidth": 0,
            "ticks": ""
           }
          },
          "colorscale": {
           "diverging": [
            [
             0,
             "#8e0152"
            ],
            [
             0.1,
             "#c51b7d"
            ],
            [
             0.2,
             "#de77ae"
            ],
            [
             0.3,
             "#f1b6da"
            ],
            [
             0.4,
             "#fde0ef"
            ],
            [
             0.5,
             "#f7f7f7"
            ],
            [
             0.6,
             "#e6f5d0"
            ],
            [
             0.7,
             "#b8e186"
            ],
            [
             0.8,
             "#7fbc41"
            ],
            [
             0.9,
             "#4d9221"
            ],
            [
             1,
             "#276419"
            ]
           ],
           "sequential": [
            [
             0,
             "#0d0887"
            ],
            [
             0.1111111111111111,
             "#46039f"
            ],
            [
             0.2222222222222222,
             "#7201a8"
            ],
            [
             0.3333333333333333,
             "#9c179e"
            ],
            [
             0.4444444444444444,
             "#bd3786"
            ],
            [
             0.5555555555555556,
             "#d8576b"
            ],
            [
             0.6666666666666666,
             "#ed7953"
            ],
            [
             0.7777777777777778,
             "#fb9f3a"
            ],
            [
             0.8888888888888888,
             "#fdca26"
            ],
            [
             1,
             "#f0f921"
            ]
           ],
           "sequentialminus": [
            [
             0,
             "#0d0887"
            ],
            [
             0.1111111111111111,
             "#46039f"
            ],
            [
             0.2222222222222222,
             "#7201a8"
            ],
            [
             0.3333333333333333,
             "#9c179e"
            ],
            [
             0.4444444444444444,
             "#bd3786"
            ],
            [
             0.5555555555555556,
             "#d8576b"
            ],
            [
             0.6666666666666666,
             "#ed7953"
            ],
            [
             0.7777777777777778,
             "#fb9f3a"
            ],
            [
             0.8888888888888888,
             "#fdca26"
            ],
            [
             1,
             "#f0f921"
            ]
           ]
          },
          "colorway": [
           "#636efa",
           "#EF553B",
           "#00cc96",
           "#ab63fa",
           "#FFA15A",
           "#19d3f3",
           "#FF6692",
           "#B6E880",
           "#FF97FF",
           "#FECB52"
          ],
          "font": {
           "color": "#2a3f5f"
          },
          "geo": {
           "bgcolor": "white",
           "lakecolor": "white",
           "landcolor": "#E5ECF6",
           "showlakes": true,
           "showland": true,
           "subunitcolor": "white"
          },
          "hoverlabel": {
           "align": "left"
          },
          "hovermode": "closest",
          "mapbox": {
           "style": "light"
          },
          "paper_bgcolor": "white",
          "plot_bgcolor": "#E5ECF6",
          "polar": {
           "angularaxis": {
            "gridcolor": "white",
            "linecolor": "white",
            "ticks": ""
           },
           "bgcolor": "#E5ECF6",
           "radialaxis": {
            "gridcolor": "white",
            "linecolor": "white",
            "ticks": ""
           }
          },
          "scene": {
           "xaxis": {
            "backgroundcolor": "#E5ECF6",
            "gridcolor": "white",
            "gridwidth": 2,
            "linecolor": "white",
            "showbackground": true,
            "ticks": "",
            "zerolinecolor": "white"
           },
           "yaxis": {
            "backgroundcolor": "#E5ECF6",
            "gridcolor": "white",
            "gridwidth": 2,
            "linecolor": "white",
            "showbackground": true,
            "ticks": "",
            "zerolinecolor": "white"
           },
           "zaxis": {
            "backgroundcolor": "#E5ECF6",
            "gridcolor": "white",
            "gridwidth": 2,
            "linecolor": "white",
            "showbackground": true,
            "ticks": "",
            "zerolinecolor": "white"
           }
          },
          "shapedefaults": {
           "line": {
            "color": "#2a3f5f"
           }
          },
          "ternary": {
           "aaxis": {
            "gridcolor": "white",
            "linecolor": "white",
            "ticks": ""
           },
           "baxis": {
            "gridcolor": "white",
            "linecolor": "white",
            "ticks": ""
           },
           "bgcolor": "#E5ECF6",
           "caxis": {
            "gridcolor": "white",
            "linecolor": "white",
            "ticks": ""
           }
          },
          "title": {
           "x": 0.05
          },
          "xaxis": {
           "automargin": true,
           "gridcolor": "white",
           "linecolor": "white",
           "ticks": "",
           "title": {
            "standoff": 15
           },
           "zerolinecolor": "white",
           "zerolinewidth": 2
          },
          "yaxis": {
           "automargin": true,
           "gridcolor": "white",
           "linecolor": "white",
           "ticks": "",
           "title": {
            "standoff": 15
           },
           "zerolinecolor": "white",
           "zerolinewidth": 2
          }
         }
        },
        "title": {
         "text": "Number of Leaderboards across Workflow Types (non-pwc)"
        },
        "xaxis": {
         "anchor": "y",
         "domain": [
          0,
          1
         ],
         "title": {
          "text": "Leaderboard development workflows"
         }
        },
        "yaxis": {
         "anchor": "x",
         "domain": [
          0,
          1
         ],
         "title": {
          "text": "Leaderboard Number"
         }
        }
       }
      }
     },
     "metadata": {},
     "output_type": "display_data"
    }
   ],
   "source": [
    "df = pd.read_csv(path_meta / 'leaderboard_processed.csv')\n",
    "df['Leaderboard development workflows'] = df['Leaderboard development workflows'].apply(ast.literal_eval)\n",
    "\n",
    "df = df[df['Leaderboard development workflows'].map(len) > 0]\n",
    "df_workflow = df.explode('Leaderboard development workflows')\n",
    "df_workflow = df_workflow.groupby('Leaderboard development workflows').size().reset_index(name='Frequency')\n",
    "df_workflow['Leaderboard development workflows'] = df_workflow['Leaderboard development workflows'].apply(lambda x: f'Type {x}' if x != 'Unknown' else x)\n",
    "df_workflow.sort_values(by='Frequency', ascending=False, inplace=True)\n",
    "df_workflow['Weight'] = 1\n",
    "\n",
    "print(f\"{df_workflow['Leaderboard development workflows'].iloc[0]} is the most prevalent ({df_workflow['Frequency'].iloc[0]} out of {len(df)}) workflow type that accounts for {round(df_workflow['Frequency'].iloc[0]/len(df)*100,2)}%.\")\n",
    "df_pwc = df[df['Platforms'] == \"['Papers With Code']\"]\n",
    "print(f'In {df_workflow[\"Leaderboard development workflows\"].iloc[0]}, {round(len(df_pwc)/df_workflow[\"Frequency\"].iloc[0]*100,2)}% ({len(df_pwc)} out of {df_workflow[\"Frequency\"].iloc[0]}) of the leaderboards are hosted on Papers With Code.')\n",
    "print(f\"There are {round(df_workflow[df_workflow['Leaderboard development workflows'] == 'Unknown']['Frequency'].iloc[0]/(len(df)-len(df_pwc))*100,2)}% ({df_workflow[df_workflow['Leaderboard development workflows'] == 'Unknown']['Frequency'].iloc[0]} out of {len(df)-len(df_pwc)}) non-PWC leaderboards with unknown workflow types.\")\n",
    "\n",
    "statistics = {\n",
    "    'Distribution': 'Leaderboards across Workflow Types',\n",
    "    'Mean': np.mean(df_workflow['Frequency']),\n",
    "    'Median': np.median(df_workflow['Frequency']),\n",
    "    'IQR': df_workflow['Frequency'].quantile(0.75) - df_workflow['Frequency'].quantile(0.25),\n",
    "    'Gini Coefficient': ineqpy.inequality.gini(data=df_workflow[df_workflow['Leaderboard development workflows'] != 'Unknown'], income='Frequency', weights='Weight'),\n",
    "}\n",
    "if os.path.exists(path_meta / 'leaderboard_statistics.csv'):\n",
    "    df_statistics = pd.read_csv(path_meta / 'leaderboard_statistics.csv')\n",
    "else:\n",
    "    df_statistics = pd.DataFrame()\n",
    "df_statistics = pd.concat([df_statistics, pd.DataFrame([statistics])], ignore_index=True)\n",
    "df_statistics.drop_duplicates(subset=['Distribution'], keep='last', inplace=True)\n",
    "df_statistics.sort_values(by='Distribution', inplace=True)\n",
    "df_statistics.to_csv(path_meta / 'leaderboard_statistics.csv', index=False)\n",
    "\n",
    "df_workflow['Ratio'] = round(df_workflow['Frequency'] / len(df) * 100, 2)\n",
    "fig = px.bar(\n",
    "    x=df_workflow['Leaderboard development workflows'], \n",
    "    y=df_workflow['Ratio'],\n",
    "    text_auto=True,\n",
    "    labels={'x': 'Leaderboard development workflows', 'y': 'Leaderboard Number'},\n",
    "    title='Number of Leaderboards across Workflow Types (non-pwc)'\n",
    ")\n",
    "fig.show()"
   ]
  },
  {
   "cell_type": "code",
   "execution_count": 20,
   "metadata": {},
   "outputs": [],
   "source": [
    "# df = pd.read_csv(path_meta / 'leaderboard_processed.csv')\n",
    "# df = df[df['Platforms'] == \"['Papers With Code']\"]\n",
    "\n",
    "# total = 0\n",
    "# community = 0\n",
    "# evaluation = 0\n",
    "\n",
    "# for root, dirs, files in os.walk(path_data):\n",
    "#     for file in files:\n",
    "#         if file.startswith('pwc') and file.endswith(\".json\"):\n",
    "#             total += 1\n",
    "#             if 'community' in file:\n",
    "#                 community += 1\n",
    "#             else:\n",
    "#                 evaluation += 1\n",
    "\n",
    "# pwc_workflow_pattern_mapping = {\n",
    "#     'Workflow Type 7': f'{round(evaluation/total*100, 2)}% ({evaluation} out of {total})',\n",
    "#     'Workflow Type 8': f'{round(community/total*100, 2)}% ({community} out of {total}))'\n",
    "# }\n",
    "# pwc_workflow_pattern_mapping"
   ]
  },
  {
   "cell_type": "code",
   "execution_count": 21,
   "metadata": {},
   "outputs": [
    {
     "name": "stdout",
     "output_type": "stream",
     "text": [
      "1.13% (5 out of 443) leaderboards have empty ranking dataframes.\n"
     ]
    },
    {
     "data": {
      "text/html": [
       "<div>\n",
       "<style scoped>\n",
       "    .dataframe tbody tr th:only-of-type {\n",
       "        vertical-align: middle;\n",
       "    }\n",
       "\n",
       "    .dataframe tbody tr th {\n",
       "        vertical-align: top;\n",
       "    }\n",
       "\n",
       "    .dataframe thead th {\n",
       "        text-align: right;\n",
       "    }\n",
       "</style>\n",
       "<table border=\"1\" class=\"dataframe\">\n",
       "  <thead>\n",
       "    <tr style=\"text-align: right;\">\n",
       "      <th></th>\n",
       "      <th>#Empty leaderboards (non-pwc)</th>\n",
       "      <th>Frequency</th>\n",
       "    </tr>\n",
       "  </thead>\n",
       "  <tbody>\n",
       "    <tr>\n",
       "      <th>0</th>\n",
       "      <td>2</td>\n",
       "      <td>2</td>\n",
       "    </tr>\n",
       "    <tr>\n",
       "      <th>1</th>\n",
       "      <td>Unknown</td>\n",
       "      <td>2</td>\n",
       "    </tr>\n",
       "    <tr>\n",
       "      <th>2</th>\n",
       "      <td>25</td>\n",
       "      <td>1</td>\n",
       "    </tr>\n",
       "  </tbody>\n",
       "</table>\n",
       "</div>"
      ],
      "text/plain": [
       "  #Empty leaderboards (non-pwc)  Frequency\n",
       "0                             2          2\n",
       "1                       Unknown          2\n",
       "2                            25          1"
      ]
     },
     "execution_count": 21,
     "metadata": {},
     "output_type": "execute_result"
    }
   ],
   "source": [
    "df = pd.read_csv(path_meta / 'leaderboard_processed.csv')\n",
    "print(f\"{round(len(df[df['#Empty leaderboards (non-pwc)'].notna()])/len(df)*100,2)}% ({len(df[df['#Empty leaderboards (non-pwc)'].notna()])} out of {len(df)}) leaderboards have empty ranking dataframes.\")\n",
    "df['#Empty leaderboards (non-pwc)'].value_counts().reset_index(name='Frequency')"
   ]
  },
  {
   "cell_type": "code",
   "execution_count": 22,
   "metadata": {},
   "outputs": [
    {
     "name": "stdout",
     "output_type": "stream",
     "text": [
      "99.32% (440 out of 443) leaderboards provide documentation.\n",
      "99.77% (442 out of 443) leaderboards provide contact information.\n",
      "29.12% (129 out of 443) leaderboards provide provenance links of their participating models within their documentation or directly on the leaderboards.\n",
      "74.49% (330 out of 443) leaderboards provide submission channels.\n",
      "56.66% (251 out of 443) leaderboards provide evaluation harness.\n",
      "54.63% (242 out of 443) leaderboards provide pull request channels.\n",
      "54.63% (242 out of 443) leaderboards provide discussion forums.\n"
     ]
    }
   ],
   "source": [
    "df = pd.read_csv(path_meta / 'leaderboard_processed.csv')\n",
    "print(f\"{round((len(df)-len(leaderboard_system_without_documentation))/(len(df))*100, 2)}% ({len(df)-len(leaderboard_system_without_documentation)} out of {len(df)}) leaderboards provide documentation.\")\n",
    "print(f\"{round((len(df)-len(leaderboard_system_without_contacts))/(len(df))*100, 2)}% ({len(df)-len(leaderboard_system_without_contacts)} out of {len(df)}) leaderboards provide contact information.\")\n",
    "print(f\"{round((len(df[df['Model linkage (non-pwc)'].notna()]))/(len(df))*100, 2)}% ({len(df[df['Model linkage (non-pwc)'].notna()])} out of {len(df)}) leaderboards provide provenance links of their participating models within their documentation or directly on the leaderboards.\")\n",
    "df['Leaderboard development workflows'] = df['Leaderboard development workflows'].apply(ast.literal_eval)\n",
    "df_submission = keep_rows_by_list_column(df, 'Leaderboard development workflows', workflow_patterns_with_submission)\n",
    "print(f\"{round(len(df_submission)/(len(df))*100, 2)}% ({len(df_submission)} out of {len(df)}) leaderboards provide submission channels.\")\n",
    "df_pwc = df[df['Platforms'] == \"['Papers With Code']\"]\n",
    "print(f\"{round((len(df)-len(leaderboard_system_without_evaluation_harness)-len(df_pwc))/(len(df))*100, 2)}% ({len(df)-len(leaderboard_system_without_evaluation_harness)-len(df_pwc)} out of {len(df)}) leaderboards provide evaluation harness.\")\n",
    "print(f\"{round((len(df)-len(leaderboard_system_without_pull_requests)-len(df_pwc))/(len(df))*100, 2)}% ({len(df)-len(leaderboard_system_without_pull_requests)-len(df_pwc)} out of {len(df)}) leaderboards provide pull request channels.\")\n",
    "print(f\"{round((len(df)-len(leaderboard_system_without_pull_requests)-len(df_pwc))/(len(df))*100, 2)}% ({len(df)-len(leaderboard_system_without_pull_requests)-len(df_pwc)} out of {len(df)}) leaderboards provide discussion forums.\")"
   ]
  },
  {
   "cell_type": "code",
   "execution_count": 23,
   "metadata": {},
   "outputs": [
    {
     "name": "stdout",
     "output_type": "stream",
     "text": [
      "\\begin{tabular}{lllll}\n",
      "\\toprule\n",
      "Distribution & Mean & Median & IQR & Gini Coefficient \\\\\n",
      "\\midrule\n",
      "Leaderboards across Display Formats & 67.64 & 5.0 & 72 & 0.808 \\\\\n",
      "Leaderboards across Platforms & 124.50 & 109.5 & 54 & 0.240 \\\\\n",
      "Leaderboards across Publication Venues & 3.89 & 1.0 & 1 & 0.647 \\\\\n",
      "Leaderboards across Release Organizations & 3.49 & 1.0 & 1 & 0.632 \\\\\n",
      "Leaderboards across Workflow Types & 50.11 & 9.0 & 66 & 0.721 \\\\\n",
      "\\bottomrule\n",
      "\\end{tabular}\n",
      "\n"
     ]
    }
   ],
   "source": [
    "df = pd.read_csv(path_meta / 'leaderboard_statistics.csv')\n",
    "df.fillna('$\\\\times$', inplace=True)\n",
    "df['Mean'] = df['Mean'].map('{:.2f}'.format)\n",
    "df['Median'] = df['Median'].map('{:.1f}'.format)\n",
    "df['IQR'] = df['IQR'].map('{:.0f}'.format)\n",
    "df['Gini Coefficient'] = df['Gini Coefficient'].map(lambda x: '{:.3f}'.format(x) if isinstance(x,float) else x)\n",
    "print(df.to_latex(index=False))\n"
   ]
  },
  {
   "cell_type": "code",
   "execution_count": 24,
   "metadata": {},
   "outputs": [
    {
     "name": "stdout",
     "output_type": "stream",
     "text": [
      "There are 22 SATD examples.\n",
      "There are 178 leaderboard smell examples.\n"
     ]
    },
    {
     "data": {
      "text/html": [
       "<div>\n",
       "<style scoped>\n",
       "    .dataframe tbody tr th:only-of-type {\n",
       "        vertical-align: middle;\n",
       "    }\n",
       "\n",
       "    .dataframe tbody tr th {\n",
       "        vertical-align: top;\n",
       "    }\n",
       "\n",
       "    .dataframe thead th {\n",
       "        text-align: right;\n",
       "    }\n",
       "</style>\n",
       "<table border=\"1\" class=\"dataframe\">\n",
       "  <thead>\n",
       "    <tr style=\"text-align: right;\">\n",
       "      <th></th>\n",
       "      <th>Benchmark Metric</th>\n",
       "      <th>Benchmark Protocol</th>\n",
       "      <th>Benchmark Raw Dataset</th>\n",
       "      <th>Evaluation Record</th>\n",
       "      <th>Model</th>\n",
       "      <th>Ranking Dataframe</th>\n",
       "      <th>Submission Channel</th>\n",
       "      <th>Leaderboard Publication</th>\n",
       "    </tr>\n",
       "  </thead>\n",
       "  <tbody>\n",
       "    <tr>\n",
       "      <th>Confusing Entity</th>\n",
       "      <td>4.0</td>\n",
       "      <td>8.0</td>\n",
       "      <td>21.0</td>\n",
       "      <td>6.0</td>\n",
       "      <td>6.0</td>\n",
       "      <td>4.0</td>\n",
       "      <td>19.0</td>\n",
       "      <td>NaN</td>\n",
       "    </tr>\n",
       "    <tr>\n",
       "      <th>Deprecated Entity</th>\n",
       "      <td>NaN</td>\n",
       "      <td>NaN</td>\n",
       "      <td>3.0</td>\n",
       "      <td>1.0</td>\n",
       "      <td>1.0</td>\n",
       "      <td>7.0</td>\n",
       "      <td>3.0</td>\n",
       "      <td>2.0</td>\n",
       "    </tr>\n",
       "    <tr>\n",
       "      <th>Inaccessible Entity</th>\n",
       "      <td>NaN</td>\n",
       "      <td>NaN</td>\n",
       "      <td>2.0</td>\n",
       "      <td>3.0</td>\n",
       "      <td>1.0</td>\n",
       "      <td>16.0</td>\n",
       "      <td>5.0</td>\n",
       "      <td>2.0</td>\n",
       "    </tr>\n",
       "    <tr>\n",
       "      <th>Misdisplayed Entity</th>\n",
       "      <td>5.0</td>\n",
       "      <td>2.0</td>\n",
       "      <td>NaN</td>\n",
       "      <td>NaN</td>\n",
       "      <td>NaN</td>\n",
       "      <td>3.0</td>\n",
       "      <td>NaN</td>\n",
       "      <td>NaN</td>\n",
       "    </tr>\n",
       "    <tr>\n",
       "      <th>Mismatched Entity</th>\n",
       "      <td>3.0</td>\n",
       "      <td>2.0</td>\n",
       "      <td>6.0</td>\n",
       "      <td>6.0</td>\n",
       "      <td>6.0</td>\n",
       "      <td>1.0</td>\n",
       "      <td>NaN</td>\n",
       "      <td>NaN</td>\n",
       "    </tr>\n",
       "    <tr>\n",
       "      <th>Missing Entity</th>\n",
       "      <td>NaN</td>\n",
       "      <td>1.0</td>\n",
       "      <td>NaN</td>\n",
       "      <td>7.0</td>\n",
       "      <td>NaN</td>\n",
       "      <td>9.0</td>\n",
       "      <td>1.0</td>\n",
       "      <td>NaN</td>\n",
       "    </tr>\n",
       "    <tr>\n",
       "      <th>Redundant Entity</th>\n",
       "      <td>NaN</td>\n",
       "      <td>NaN</td>\n",
       "      <td>NaN</td>\n",
       "      <td>3.0</td>\n",
       "      <td>2.0</td>\n",
       "      <td>4.0</td>\n",
       "      <td>NaN</td>\n",
       "      <td>NaN</td>\n",
       "    </tr>\n",
       "    <tr>\n",
       "      <th>Unresponsive Entity</th>\n",
       "      <td>NaN</td>\n",
       "      <td>NaN</td>\n",
       "      <td>NaN</td>\n",
       "      <td>NaN</td>\n",
       "      <td>NaN</td>\n",
       "      <td>2.0</td>\n",
       "      <td>1.0</td>\n",
       "      <td>NaN</td>\n",
       "    </tr>\n",
       "  </tbody>\n",
       "</table>\n",
       "</div>"
      ],
      "text/plain": [
       "                     Benchmark Metric  Benchmark Protocol  \\\n",
       "Confusing Entity                  4.0                 8.0   \n",
       "Deprecated Entity                 NaN                 NaN   \n",
       "Inaccessible Entity               NaN                 NaN   \n",
       "Misdisplayed Entity               5.0                 2.0   \n",
       "Mismatched Entity                 3.0                 2.0   \n",
       "Missing Entity                    NaN                 1.0   \n",
       "Redundant Entity                  NaN                 NaN   \n",
       "Unresponsive Entity               NaN                 NaN   \n",
       "\n",
       "                     Benchmark Raw Dataset  Evaluation Record  Model  \\\n",
       "Confusing Entity                      21.0                6.0    6.0   \n",
       "Deprecated Entity                      3.0                1.0    1.0   \n",
       "Inaccessible Entity                    2.0                3.0    1.0   \n",
       "Misdisplayed Entity                    NaN                NaN    NaN   \n",
       "Mismatched Entity                      6.0                6.0    6.0   \n",
       "Missing Entity                         NaN                7.0    NaN   \n",
       "Redundant Entity                       NaN                3.0    2.0   \n",
       "Unresponsive Entity                    NaN                NaN    NaN   \n",
       "\n",
       "                     Ranking Dataframe  Submission Channel  \\\n",
       "Confusing Entity                   4.0                19.0   \n",
       "Deprecated Entity                  7.0                 3.0   \n",
       "Inaccessible Entity               16.0                 5.0   \n",
       "Misdisplayed Entity                3.0                 NaN   \n",
       "Mismatched Entity                  1.0                 NaN   \n",
       "Missing Entity                     9.0                 1.0   \n",
       "Redundant Entity                   4.0                 NaN   \n",
       "Unresponsive Entity                2.0                 1.0   \n",
       "\n",
       "                     Leaderboard Publication  \n",
       "Confusing Entity                         NaN  \n",
       "Deprecated Entity                        2.0  \n",
       "Inaccessible Entity                      2.0  \n",
       "Misdisplayed Entity                      NaN  \n",
       "Mismatched Entity                        NaN  \n",
       "Missing Entity                           NaN  \n",
       "Redundant Entity                         NaN  \n",
       "Unresponsive Entity                      NaN  "
      ]
     },
     "execution_count": 24,
     "metadata": {},
     "output_type": "execute_result"
    }
   ],
   "source": [
    "total_smell_count = 0\n",
    "\n",
    "# Load the Excel file\n",
    "with pd.ExcelFile(path_meta / 'Foundation Model Leaderboards.xlsx') as xls:\n",
    "\n",
    "    # Initialize a dictionary to store unique counts\n",
    "    unique_counts = {}\n",
    "\n",
    "    # Iterate over each sheet\n",
    "    for sheet_name in xls.sheet_names:\n",
    "        if sheet_name in ['Leaderboard']:\n",
    "            continue\n",
    "        \n",
    "        df = pd.read_excel(xls, sheet_name=sheet_name)\n",
    "        \n",
    "        if sheet_name == 'Self-admitted Technical Debt':\n",
    "            print(f'There are {len(df)} SATD examples.')\n",
    "            continue\n",
    "    \n",
    "        # Iterate over each column\n",
    "        for column in df.columns:\n",
    "            # Apply the URL filter and count unique valid URLs\n",
    "            filtered_urls = df[column].dropna()\n",
    "            unique_count = filtered_urls.nunique()\n",
    "        \n",
    "            if sheet_name not in unique_counts:\n",
    "                unique_counts[sheet_name] = {}\n",
    "                \n",
    "            unique_counts[sheet_name][column] = unique_count\n",
    "            total_smell_count += unique_count\n",
    "\n",
    "print(f'There are {total_smell_count} leaderboard smell examples.')\n",
    "\n",
    "# Display the result\n",
    "pd.DataFrame(unique_counts).transpose()\n"
   ]
  }
 ],
 "metadata": {
  "kernelspec": {
   "display_name": ".venv",
   "language": "python",
   "name": "python3"
  },
  "language_info": {
   "codemirror_mode": {
    "name": "ipython",
    "version": 3
   },
   "file_extension": ".py",
   "mimetype": "text/x-python",
   "name": "python",
   "nbconvert_exporter": "python",
   "pygments_lexer": "ipython3",
   "version": "3.11.6"
  }
 },
 "nbformat": 4,
 "nbformat_minor": 2
}
